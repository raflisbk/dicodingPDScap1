{
 "cells": [
  {
   "cell_type": "markdown",
   "id": "786fa7d5",
   "metadata": {},
   "source": [
    "# Instal library"
   ]
  },
  {
   "cell_type": "code",
   "execution_count": null,
   "id": "2937ffef",
   "metadata": {},
   "outputs": [],
   "source": [
    "# Impor library yang diperlukan\n",
    "import pandas as pd\n",
    "import numpy as np\n",
    "import matplotlib.pyplot as plt\n",
    "import seaborn as sns\n",
    "from IPython.display import display\n",
    "\n",
    "# Untuk visualisasi interaktif\n",
    "import plotly.express as px\n",
    "import plotly.graph_objects as go\n",
    "from plotly.subplots import make_subplots\n",
    "\n",
    "# Atur gaya tampilan\n",
    "plt.style.use('ggplot')\n",
    "\n",
    "\n",
    "# Import library yang diperlukan\n",
    "import pandas as pd\n",
    "import numpy as np\n",
    "import matplotlib.pyplot as plt\n",
    "import seaborn as sns\n",
    "from sklearn.preprocessing import StandardScaler, RobustScaler, PowerTransformer, QuantileTransformer\n",
    "from sklearn.decomposition import PCA, KernelPCA, TruncatedSVD, FastICA, NMF\n",
    "from sklearn.manifold import TSNE, Isomap, LocallyLinearEmbedding, SpectralEmbedding\n",
    "from sklearn.cluster import KMeans, AgglomerativeClustering, DBSCAN, OPTICS, SpectralClustering, Birch\n",
    "from sklearn.mixture import GaussianMixture, BayesianGaussianMixture\n",
    "from sklearn.metrics import silhouette_score, calinski_harabasz_score, davies_bouldin_score\n",
    "from sklearn.feature_selection import SelectKBest, mutual_info_regression, VarianceThreshold\n",
    "from sklearn.ensemble import IsolationForest, RandomForestClassifier\n",
    "from sklearn.neighbors import NearestNeighbors, KNeighborsClassifier\n",
    "from scipy.stats import zscore, spearmanr, pearsonr\n",
    "from scipy.cluster.hierarchy import dendrogram, linkage\n",
    "from scipy.spatial.distance import pdist, squareform\n",
    "from statsmodels.stats.outliers_influence import variance_inflation_factor\n",
    "from kneed import KneeLocator\n",
    "import plotly.express as px\n",
    "import plotly.graph_objects as go\n",
    "from plotly.subplots import make_subplots\n",
    "import warnings\n",
    "warnings.filterwarnings('ignore')\n",
    "\n",
    "# Import library yang diperlukan\n",
    "import pandas as pd\n",
    "import numpy as np\n",
    "import matplotlib.pyplot as plt\n",
    "import seaborn as sns\n",
    "from sklearn.preprocessing import StandardScaler, RobustScaler, PowerTransformer\n",
    "from sklearn.decomposition import PCA, KernelPCA, TruncatedSVD\n",
    "from sklearn.cluster import KMeans, AgglomerativeClustering, SpectralClustering\n",
    "from sklearn.metrics import silhouette_score, calinski_harabasz_score, davies_bouldin_score\n",
    "from sklearn.mixture import GaussianMixture\n",
    "import plotly.express as px\n",
    "import plotly.graph_objects as go\n",
    "import warnings\n",
    "warnings.filterwarnings('ignore')\n",
    "\n",
    "# Import library yang diperlukan\n",
    "import pandas as pd\n",
    "import numpy as np\n",
    "from sklearn.preprocessing import StandardScaler, RobustScaler, PowerTransformer\n",
    "from sklearn.cluster import KMeans\n",
    "from sklearn.mixture import GaussianMixture\n",
    "from sklearn.metrics import silhouette_score\n",
    "from sklearn.ensemble import RandomForestClassifier\n",
    "from sklearn.decomposition import PCA\n",
    "from umap import UMAP  # Jika umap tidak terinstall, gunakan: pip install umap-learn\n",
    "\n",
    "# Untuk visualisasi color-blind friendly dengan Plotly\n",
    "import plotly.express as px\n",
    "import plotly.graph_objects as go\n",
    "from plotly.subplots import make_subplots"
   ]
  },
  {
   "cell_type": "markdown",
   "id": "80ceab0e",
   "metadata": {},
   "source": [
    "# Data Cleaning & Preparation"
   ]
  },
  {
   "cell_type": "code",
   "execution_count": null,
   "id": "3ebdac80",
   "metadata": {},
   "outputs": [],
   "source": [
    "# Baca file CSV\n",
    "df = pd.read_csv('./data/employee_data.csv')\n",
    "\n",
    "# Tampilkan 5 baris pertama untuk melihat struktur data\n",
    "display(df.head())"
   ]
  },
  {
   "cell_type": "code",
   "execution_count": null,
   "id": "64a46edc",
   "metadata": {},
   "outputs": [],
   "source": [
    "# Informasi tentang dataset\n",
    "print(\"Ukuran dataset:\", df.shape)\n",
    "print(\"\\nInformasi tentang tipe data:\")\n",
    "display(df.info())"
   ]
  },
  {
   "cell_type": "code",
   "execution_count": null,
   "id": "bd2702f6",
   "metadata": {},
   "outputs": [],
   "source": [
    "# Statistik deskriptif data numerik\n",
    "display(df.describe())"
   ]
  },
  {
   "cell_type": "code",
   "execution_count": null,
   "id": "6cee2e53",
   "metadata": {},
   "outputs": [],
   "source": [
    "df.isnull().sum()"
   ]
  },
  {
   "cell_type": "code",
   "execution_count": null,
   "id": "a83c4eb3",
   "metadata": {},
   "outputs": [],
   "source": [
    "df.dropna(inplace=True)"
   ]
  },
  {
   "cell_type": "code",
   "execution_count": null,
   "id": "e017c4bd",
   "metadata": {},
   "outputs": [],
   "source": [
    "df.isnull().sum()"
   ]
  },
  {
   "cell_type": "markdown",
   "id": "b5813bf3",
   "metadata": {},
   "source": [
    "# Feature Engineering"
   ]
  },
  {
   "cell_type": "markdown",
   "id": "31a8b504",
   "metadata": {},
   "source": [
    "## Salary Category"
   ]
  },
  {
   "cell_type": "code",
   "execution_count": null,
   "id": "2d09ab6d",
   "metadata": {},
   "outputs": [],
   "source": [
    "def salary_category(income):\n",
    "    if income < 5000:\n",
    "        return 'Rendah (< 5000)'\n",
    "    elif income < 10000:\n",
    "        return 'Sedang (5000-10000)'\n",
    "    elif income < 15000:\n",
    "        return 'Tinggi (10000-15000)'\n",
    "    else:\n",
    "        return 'Sangat Tinggi (>15000)'\n",
    "\n",
    "df['SalaryCategory'] = df['MonthlyIncome'].apply(salary_category)"
   ]
  },
  {
   "cell_type": "markdown",
   "id": "84b4fdbf",
   "metadata": {},
   "source": [
    "## Promotion Category"
   ]
  },
  {
   "cell_type": "code",
   "execution_count": null,
   "id": "10e4b446",
   "metadata": {},
   "outputs": [],
   "source": [
    "def promotion_category(years):\n",
    "    if years == 0:\n",
    "        return 'Baru Dipromosikan'\n",
    "    elif years <= 2:\n",
    "        return '1-2 Tahun'\n",
    "    elif years <= 5:\n",
    "        return '3-5 Tahun'\n",
    "    else:\n",
    "        return '> 5 Tahun'\n",
    "\n",
    "df['PromotionCategory'] = df['YearsSinceLastPromotion'].apply(promotion_category)"
   ]
  },
  {
   "cell_type": "markdown",
   "id": "5eacbc4b",
   "metadata": {},
   "source": [
    "## Age Category"
   ]
  },
  {
   "cell_type": "code",
   "execution_count": null,
   "id": "c597be36",
   "metadata": {},
   "outputs": [],
   "source": [
    "# Buat kategori usia\n",
    "def age_category(age):\n",
    "    if age < 30:\n",
    "        return '< 30'\n",
    "    elif age < 40:\n",
    "        return '30-39'\n",
    "    elif age < 50:\n",
    "        return '40-49'\n",
    "    else:\n",
    "        return '50+'\n",
    "\n",
    "df['AgeGroup'] = df['Age'].apply(age_category)"
   ]
  },
  {
   "cell_type": "markdown",
   "id": "a85537cd",
   "metadata": {},
   "source": [
    "## Satisfaction Category"
   ]
  },
  {
   "cell_type": "code",
   "execution_count": null,
   "id": "d4114fa5",
   "metadata": {},
   "outputs": [],
   "source": [
    "satisfaction_cols = ['EnvironmentSatisfaction', 'JobSatisfaction', \n",
    "                     'RelationshipSatisfaction', 'WorkLifeBalance']\n",
    "satisfaction_labels = {1: 'Rendah', 2: 'Sedang', 3: 'Tinggi', 4: 'Sangat Tinggi'}\n",
    "\n",
    "df_satisfaction = df.copy()\n",
    "for col in satisfaction_cols:\n",
    "    df_satisfaction[col] = df_satisfaction[col].map(satisfaction_labels)"
   ]
  },
  {
   "cell_type": "markdown",
   "id": "29ce82d1",
   "metadata": {},
   "source": [
    "# Exploratory Data Analysis (EDA)"
   ]
  },
  {
   "cell_type": "markdown",
   "id": "7d99e7c4",
   "metadata": {},
   "source": [
    "## Analisis Univariate"
   ]
  },
  {
   "cell_type": "markdown",
   "id": "239c719e",
   "metadata": {},
   "source": [
    "### Distribusi Attrition"
   ]
  },
  {
   "cell_type": "code",
   "execution_count": null,
   "id": "2f6e1ae2",
   "metadata": {},
   "outputs": [],
   "source": [
    "attrition_counts = df['Attrition'].value_counts()\n",
    "attrition_percentage = df['Attrition'].value_counts(normalize=True) * 100\n",
    "\n",
    "attrition_df = pd.DataFrame({\n",
    "    'Count': attrition_counts,\n",
    "    'Percentage': attrition_percentage\n",
    "})\n",
    "\n",
    "print(\"Distribusi Attrition:\")\n",
    "display(attrition_df)\n",
    "\n",
    "fig = px.pie(\n",
    "    names=['Tidak Keluar', 'Keluar'] if 0 in attrition_counts.index else ['Keluar', 'Tidak Keluar'],\n",
    "    values=attrition_counts.values,\n",
    "    title='Persentase Karyawan yang Keluar vs Bertahan',\n",
    "    color_discrete_sequence=px.colors.qualitative.Set3,\n",
    "    hole=0.4\n",
    ")\n",
    "fig.update_traces(textinfo='percent+label', textposition='inside')\n",
    "fig.update_layout(uniformtext_minsize=12, uniformtext_mode='hide')\n",
    "fig.show()\n",
    "\n",
    "fig.write_image(\"./visualisasi/presentase_attrition.jpg\", scale=1)"
   ]
  },
  {
   "cell_type": "markdown",
   "id": "6a116d95",
   "metadata": {},
   "source": [
    "## Analisis Bivariate"
   ]
  },
  {
   "cell_type": "markdown",
   "id": "eddc6a73",
   "metadata": {},
   "source": [
    "### Attrition by Age"
   ]
  },
  {
   "cell_type": "code",
   "execution_count": null,
   "id": "a42d4709",
   "metadata": {},
   "outputs": [],
   "source": [
    "age_group_attrition = df.groupby('AgeGroup')['Attrition'].mean() * 100\n",
    "age_group_counts = df.groupby('AgeGroup').size()\n",
    "\n",
    "order = ['< 30', '30-39', '40-49', '50+']\n",
    "age_group_attrition = age_group_attrition.reindex(order)\n",
    "age_group_counts = age_group_counts.reindex(order)\n",
    "\n",
    "age_group_df = pd.DataFrame({\n",
    "    'Jumlah Karyawan': age_group_counts,\n",
    "    'Tingkat Attrition (%)': age_group_attrition\n",
    "})\n",
    "\n",
    "display(age_group_df)\n",
    "\n",
    "fig = make_subplots(specs=[[{\"secondary_y\": True}]])\n",
    "\n",
    "fig.add_trace(\n",
    "    go.Bar(\n",
    "        x=age_group_df.index,\n",
    "        y=age_group_df['Jumlah Karyawan'],\n",
    "        name='Jumlah Karyawan',\n",
    "        marker_color='royalblue',\n",
    "        opacity=0.7\n",
    "    ),\n",
    "    secondary_y=False\n",
    ")\n",
    "\n",
    "fig.add_trace(\n",
    "    go.Scatter(\n",
    "        x=age_group_df.index,\n",
    "        y=age_group_df['Tingkat Attrition (%)'],\n",
    "        name='Tingkat Attrition (%)',\n",
    "        marker_color='firebrick',\n",
    "        mode='lines+markers',\n",
    "        marker=dict(size=10),\n",
    "        line=dict(width=3)\n",
    "    ),\n",
    "    secondary_y=True\n",
    ")\n",
    "\n",
    "fig.update_layout(\n",
    "    title_text='Distribusi dan Tingkat Attrition Berdasarkan Kelompok Usia',\n",
    "    template='plotly_white'\n",
    ")\n",
    "\n",
    "fig.update_xaxes(title_text='Kelompok Usia')\n",
    "fig.update_yaxes(title_text='Jumlah Karyawan', secondary_y=False)\n",
    "fig.update_yaxes(title_text='Tingkat Attrition (%)', secondary_y=True)\n",
    "\n",
    "fig.show()\n",
    "fig.write_image(\"./visualisasi/distribusi_usia_attrition.jpg\", scale=1)"
   ]
  },
  {
   "cell_type": "markdown",
   "id": "9eafbd06",
   "metadata": {},
   "source": [
    "### Attrition by Departemen"
   ]
  },
  {
   "cell_type": "code",
   "execution_count": null,
   "id": "cc7d8a36",
   "metadata": {},
   "outputs": [],
   "source": [
    "dept_attrition = df.groupby('Department')['Attrition'].mean().sort_values(ascending=False) * 100\n",
    "dept_counts = df.groupby('Department').size()\n",
    "\n",
    "dept_df = pd.DataFrame({\n",
    "    'Jumlah Karyawan': dept_counts,\n",
    "    'Tingkat Attrition (%)': dept_attrition\n",
    "})\n",
    "\n",
    "display(dept_df)\n",
    "\n",
    "fig = px.bar(\n",
    "    x=dept_attrition.index,\n",
    "    y=dept_attrition.values,\n",
    "    color=dept_attrition.values,\n",
    "    text=dept_attrition.values.round(1),\n",
    "    title='Tingkat Attrition (%) Berdasarkan Departemen',\n",
    "    labels={'x': 'Departemen', 'y': 'Tingkat Attrition (%)'},\n",
    "    color_continuous_scale='Viridis'\n",
    ")\n",
    "fig.update_traces(texttemplate='%{text:.1f}%', textposition='outside')\n",
    "fig.update_layout(coloraxis_showscale=False, template='plotly_white')\n",
    "\n",
    "fig.show()\n",
    "\n",
    "fig.write_image(\"./visualisasi/tingkat_attrition_departemen.jpg\", scale=1)"
   ]
  },
  {
   "cell_type": "markdown",
   "id": "28cb0920",
   "metadata": {},
   "source": [
    "### Attrition by JobLevel"
   ]
  },
  {
   "cell_type": "code",
   "execution_count": null,
   "id": "9ab2d2d6",
   "metadata": {},
   "outputs": [],
   "source": [
    "joblevel_attrition = df.groupby('JobLevel')['Attrition'].mean().sort_values(ascending=False) * 100\n",
    "joblevel_counts = df.groupby('JobLevel').size()\n",
    "\n",
    "joblevel_df = pd.DataFrame({\n",
    "    'Tingkat Attrition (%)': joblevel_attrition,\n",
    "    'Jumlah Karyawan': joblevel_counts\n",
    "})\n",
    "\n",
    "display(joblevel_df)\n",
    "\n",
    "fig = go.Figure()\n",
    "\n",
    "fig.add_trace(go.Bar(\n",
    "    x=joblevel_df.index,\n",
    "    y=joblevel_df['Jumlah Karyawan'],\n",
    "    name='Jumlah Karyawan',\n",
    "    marker_color='lightblue',\n",
    "    opacity=0.7,\n",
    "    yaxis='y'\n",
    "))\n",
    "\n",
    "fig.add_trace(go.Scatter(\n",
    "    x=joblevel_df.index,\n",
    "    y=joblevel_df['Tingkat Attrition (%)'],\n",
    "    name='Tingkat Attrition (%)',\n",
    "    marker_color='red',\n",
    "    mode='lines+markers',\n",
    "    marker=dict(size=10),\n",
    "    yaxis='y2'\n",
    "))\n",
    "\n",
    "fig.update_layout(\n",
    "    title='Distribusi Attrition dan Jumlah Karyawan berdasarkan Job Level',\n",
    "    xaxis=dict(title='Job Level'),\n",
    "    yaxis=dict(title='Jumlah Karyawan', side='left', showgrid=False),\n",
    "    yaxis2=dict(title='Tingkat Attrition (%)', side='right', overlaying='y', showgrid=False),\n",
    "    legend=dict(x=0.01, y=0.99),\n",
    "    template='plotly_white'\n",
    ")\n",
    "\n",
    "fig.show()\n",
    "\n",
    "fig.write_image(\"./visualisasi/attrition_job_level.jpg\", scale=2)"
   ]
  },
  {
   "cell_type": "markdown",
   "id": "2eb56090",
   "metadata": {},
   "source": [
    "### Attrition by MaritalStatus"
   ]
  },
  {
   "cell_type": "code",
   "execution_count": null,
   "id": "1d1dd1ca",
   "metadata": {},
   "outputs": [],
   "source": [
    "marital_attrition = df.groupby('MaritalStatus')['Attrition'].mean() * 100\n",
    "marital_counts = df.groupby('MaritalStatus').size()\n",
    "\n",
    "marital_df = pd.DataFrame({\n",
    "    'Jumlah Karyawan': marital_counts,\n",
    "    'Tingkat Attrition (%)': marital_attrition\n",
    "})\n",
    "\n",
    "display(marital_df)\n",
    "\n",
    "custom_labels = [f\"{status}<br>Attrition: {attrition:.1f}%\" \n",
    "                for status, attrition in zip(marital_attrition.index, marital_attrition.values)]\n",
    "\n",
    "fig = go.Figure(go.Pie(\n",
    "    labels=custom_labels,\n",
    "    values=marital_counts.values,\n",
    "    hole=0.4,\n",
    "    textposition='outside',\n",
    "    textinfo='percent', \n",
    "    pull=[0.05, 0.05, 0.05],\n",
    "    marker=dict(\n",
    "        colors=['#F9D876', '#F98B60', '#61D4D5'],\n",
    "        line=dict(color='#FFFFFF', width=2)\n",
    "    )\n",
    "))\n",
    "\n",
    "fig.update_layout(\n",
    "    title='Distribusi Karyawan Berdasarkan Status Pernikahan',\n",
    "    template='plotly_white',\n",
    "    legend_title='Status Pernikahan & Tingkat Attrition',\n",
    "    margin=dict(t=80, b=20, l=20, r=20),\n",
    "    height=600,\n",
    "    width=800\n",
    ")\n",
    "\n",
    "fig.add_annotation(\n",
    "    text=\"Status<br>Pernikahan\",\n",
    "    x=0.5, y=0.5,\n",
    "    font_size=14,\n",
    "    showarrow=False\n",
    ")\n",
    "\n",
    "fig.show()\n",
    "\n",
    "fig.write_image(\"./visualisasi/distribusi_status_pernikahan.jpg\", scale=2)"
   ]
  },
  {
   "cell_type": "markdown",
   "id": "a1a1370f",
   "metadata": {},
   "source": [
    "### Attrition by Distance"
   ]
  },
  {
   "cell_type": "code",
   "execution_count": null,
   "id": "b5a9f9bc",
   "metadata": {},
   "outputs": [],
   "source": [
    "distance_stats = df.groupby('Attrition')['DistanceFromHome'].agg(['mean', 'median', 'min', 'max', 'std']).reset_index()\n",
    "\n",
    "distance_stats['Attrition'] = distance_stats['Attrition'].map({0: 'Tidak Keluar', 1: 'Keluar'})\n",
    "\n",
    "display(distance_stats)\n",
    "\n",
    "fig = px.box(\n",
    "    df, \n",
    "    x='Attrition', \n",
    "    y='DistanceFromHome',\n",
    "    color='Attrition',\n",
    "    title='Hubungan Jarak dari Rumah dengan Attrition',\n",
    "    labels={'DistanceFromHome': 'Jarak dari Rumah (km)', 'Attrition': 'Status Keluar'},\n",
    "    color_discrete_sequence=['#636EFA', '#EF553B']\n",
    ")\n",
    "fig.update_layout(template='plotly_white')\n",
    "\n",
    "fig.show()\n",
    "\n",
    "fig.write_image(\"./visualisasi/jarak_rumah_attrition.jpg\", scale=2)"
   ]
  },
  {
   "cell_type": "markdown",
   "id": "c277b567",
   "metadata": {},
   "source": [
    "### Attrtion by Satisfaction"
   ]
  },
  {
   "cell_type": "code",
   "execution_count": null,
   "id": "31f85c87",
   "metadata": {},
   "outputs": [],
   "source": [
    "df_satisfaction = df.copy()\n",
    "for col in satisfaction_cols:\n",
    "    df_satisfaction[col] = df_satisfaction[col].map(satisfaction_labels)\n",
    "\n",
    "display(df_satisfaction)\n",
    "\n",
    "fig = make_subplots(rows=2, cols=2, \n",
    "                   subplot_titles=['Kepuasan Lingkungan', 'Kepuasan Kerja', \n",
    "                                  'Kepuasan Hubungan', 'Work Life Balance'],)\n",
    "\n",
    "col_positions = [\n",
    "    ('EnvironmentSatisfaction', 1, 1),\n",
    "    ('JobSatisfaction', 1, 2),\n",
    "    ('RelationshipSatisfaction', 2, 1),\n",
    "    ('WorkLifeBalance', 2, 2)\n",
    "]\n",
    "\n",
    "for col, row, col_pos in col_positions:\n",
    "    attrition_by_satisfaction = df_satisfaction.groupby(col)['Attrition'].mean() * 100\n",
    "    \n",
    "    fig.add_trace(\n",
    "        go.Bar(\n",
    "            x=attrition_by_satisfaction.index,\n",
    "            y=attrition_by_satisfaction.values,\n",
    "            text=[f'{val:.1f}%' for val in attrition_by_satisfaction.values],\n",
    "            textposition='auto',\n",
    "            marker_color='lightseagreen'\n",
    "        ),\n",
    "        row=row, col=col_pos\n",
    "    )\n",
    "\n",
    "fig.update_layout(\n",
    "    height=600,\n",
    "    width=900,\n",
    "    showlegend=False,\n",
    "    title_text='Tingkat Attrition (%) Berdasarkan Faktor Kepuasan',\n",
    "    template='plotly_white'\n",
    ")\n",
    "\n",
    "for i in fig['layout']['annotations']:\n",
    "    i['font'] = dict(size=12, color='#000000')\n",
    "\n",
    "fig.update_xaxes(title_text='Tingkat Kepuasan')\n",
    "fig.update_yaxes(title_text='Tingkat Attrition (%)')\n",
    "\n",
    "fig.show()\n",
    "\n",
    "fig.write_image(\"./visualisasi/tingkat_attrition_kepuasan.jpg\", scale=2)"
   ]
  },
  {
   "cell_type": "markdown",
   "id": "f1c60a81",
   "metadata": {},
   "source": [
    "### Attrition by JobRole"
   ]
  },
  {
   "cell_type": "code",
   "execution_count": null,
   "id": "d7e39804",
   "metadata": {},
   "outputs": [],
   "source": [
    "jobrole_attrition = df.groupby('JobRole')['Attrition'].mean().sort_values(ascending=False) * 100\n",
    "jobrole_counts = df.groupby('JobRole').size()\n",
    "\n",
    "jobrole_df = pd.DataFrame({\n",
    "    'Tingkat Attrition (%)': jobrole_attrition,\n",
    "    'Jumlah Karyawan': jobrole_counts\n",
    "})\n",
    "\n",
    "display(jobrole_df)\n",
    "\n",
    "fig = px.bar(\n",
    "    x=jobrole_attrition.index,\n",
    "    y=jobrole_attrition.values,\n",
    "    color=jobrole_attrition.values,\n",
    "    text=jobrole_attrition.values.round(1),\n",
    "    title='Tingkat Attrition (%) Berdasarkan Job Role',\n",
    "    labels={'x': 'Job Role', 'y': 'Tingkat Attrition (%)'},\n",
    "    color_continuous_scale='Viridis'\n",
    ")\n",
    "fig.update_traces(texttemplate='%{text:.1f}%', textposition='outside')\n",
    "fig.update_layout(\n",
    "    coloraxis_showscale=False,\n",
    "    xaxis_tickangle=-45,\n",
    "    template='plotly_white'\n",
    ")\n",
    "fig.show()\n",
    "\n",
    "fig.write_image(\"./visualisasi/tingkat_attrition_job_role.jpg\", scale=2)"
   ]
  },
  {
   "cell_type": "markdown",
   "id": "7f3918b1",
   "metadata": {},
   "source": [
    "### Attrition by Overtime"
   ]
  },
  {
   "cell_type": "code",
   "execution_count": null,
   "id": "871f2ee4",
   "metadata": {},
   "outputs": [],
   "source": [
    "overtime_attrition = df.groupby('OverTime')['Attrition'].mean() * 100\n",
    "overtime_counts = df.groupby('OverTime').size()\n",
    "\n",
    "overtime_df = pd.DataFrame({\n",
    "    'Jumlah Karyawan': overtime_counts,\n",
    "    'Tingkat Attrition (%)': overtime_attrition\n",
    "})\n",
    "\n",
    "display(overtime_df)\n",
    "\n",
    "fig = px.bar(\n",
    "    x=overtime_attrition.index,\n",
    "    y=overtime_attrition.values,\n",
    "    color=overtime_attrition.values,\n",
    "    text=overtime_attrition.values.round(1),\n",
    "    title='Tingkat Attrition (%) Berdasarkan Status Overtime',\n",
    "    labels={'x': 'Overtime', 'y': 'Tingkat Attrition (%)'},\n",
    "    color_continuous_scale='Reds'\n",
    ")\n",
    "fig.update_traces(texttemplate='%{text:.1f}%', textposition='outside')\n",
    "fig.update_layout(coloraxis_showscale=False, template='plotly_white')\n",
    "fig.show()\n",
    "\n",
    "fig.write_image(\"./visualisasi/tingkat_attrition_overtime.jpg\", scale=2)"
   ]
  },
  {
   "cell_type": "markdown",
   "id": "ec9a7f58",
   "metadata": {},
   "source": [
    "### Attrition by Salary Category"
   ]
  },
  {
   "cell_type": "code",
   "execution_count": null,
   "id": "c45459ec",
   "metadata": {},
   "outputs": [],
   "source": [
    "salary_attrition = df.groupby('SalaryCategory')['Attrition'].mean() * 100\n",
    "salary_counts = df.groupby('SalaryCategory').size()\n",
    "\n",
    "order = ['Rendah (< 5000)', 'Sedang (5000-10000)', 'Tinggi (10000-15000)', 'Sangat Tinggi (>15000)']\n",
    "salary_attrition = salary_attrition.reindex(order)\n",
    "salary_counts = salary_counts.reindex(order)\n",
    "\n",
    "salary_df = pd.DataFrame({\n",
    "    'Jumlah Karyawan': salary_counts,\n",
    "    'Tingkat Attrition (%)': salary_attrition\n",
    "})\n",
    "\n",
    "display(salary_df)\n",
    "\n",
    "fig = px.bar(\n",
    "    x=salary_attrition.index,\n",
    "    y=salary_attrition.values,\n",
    "    color=salary_attrition.values,\n",
    "    text=salary_attrition.values.round(1),\n",
    "    title='Tingkat Attrition (%) Berdasarkan Kategori Gaji',\n",
    "    labels={'x': 'Kategori Gaji', 'y': 'Tingkat Attrition (%)'},\n",
    "    color_continuous_scale='Greens_r'\n",
    ")\n",
    "fig.update_traces(texttemplate='%{text:.1f}%', textposition='outside')\n",
    "fig.update_layout(coloraxis_showscale=False, template='plotly_white')\n",
    "fig.show()\n",
    "fig.write_image(\"./visualisasi/tingkat_attrition_kategori_gaji.jpg\", scale=2)"
   ]
  },
  {
   "cell_type": "markdown",
   "id": "75c25293",
   "metadata": {},
   "source": [
    "### Attrition by Gender"
   ]
  },
  {
   "cell_type": "code",
   "execution_count": null,
   "id": "cd39e1d1",
   "metadata": {},
   "outputs": [],
   "source": [
    "gender_attrition = df.groupby('Gender')['Attrition'].mean() * 100\n",
    "gender_counts = df.groupby('Gender').size()\n",
    "\n",
    "gender_df = pd.DataFrame({\n",
    "    'Jumlah Karyawan': gender_counts,\n",
    "    'Tingkat Attrition (%)': gender_attrition\n",
    "})\n",
    "\n",
    "display(gender_df)\n",
    "\n",
    "fig = go.Figure()\n",
    "\n",
    "fig.add_trace(go.Bar(\n",
    "    x=gender_counts.index,\n",
    "    y=gender_counts.values,\n",
    "    name='Jumlah Karyawan',\n",
    "    marker_color='skyblue',\n",
    "    opacity=0.7,\n",
    "    text=gender_counts.values,\n",
    "    textposition='auto',\n",
    "    yaxis='y'\n",
    "))\n",
    "\n",
    "fig.add_trace(go.Scatter(\n",
    "    x=gender_attrition.index,\n",
    "    y=gender_attrition.values,\n",
    "    name='Tingkat Attrition (%)',\n",
    "    marker_color='red',\n",
    "    mode='lines+markers+text',\n",
    "    marker=dict(size=12),\n",
    "    text=[f'{val:.1f}%' for val in gender_attrition.values],\n",
    "    textposition='top center',\n",
    "    yaxis='y2'\n",
    "))\n",
    "\n",
    "fig.update_layout(\n",
    "    title='Jumlah Karyawan dan Tingkat Attrition Berdasarkan Jenis Kelamin',\n",
    "    xaxis=dict(title='Jenis Kelamin'),\n",
    "    yaxis=dict(title='Jumlah Karyawan', side='left', showgrid=False),\n",
    "    yaxis2=dict(title='Tingkat Attrition (%)', side='right', overlaying='y', showgrid=False),\n",
    "    legend=dict(x=0.01, y=0.99),\n",
    "    template='plotly_white'\n",
    ")\n",
    "\n",
    "fig.show()\n",
    "fig.write_image(\"./visualisasi/tingkat_attrition_jenis_kelamin.jpg\", scale=2)"
   ]
  },
  {
   "cell_type": "markdown",
   "id": "e10af782",
   "metadata": {},
   "source": [
    "### Attrition by Education Background"
   ]
  },
  {
   "cell_type": "code",
   "execution_count": null,
   "id": "031c39d3",
   "metadata": {},
   "outputs": [],
   "source": [
    "education_field_attrition = df.groupby('EducationField')['Attrition'].mean() * 100\n",
    "education_field_counts = df.groupby('EducationField').size()\n",
    "\n",
    "education_field_df = pd.DataFrame({\n",
    "    'Jumlah Karyawan': education_field_counts,\n",
    "    'Tingkat Attrition (%)': education_field_attrition\n",
    "})\n",
    "\n",
    "education_field_df = education_field_df.sort_values('Tingkat Attrition (%)', ascending=False)\n",
    "display(education_field_df)\n",
    "\n",
    "fig = px.bar(\n",
    "    education_field_df,\n",
    "    x=education_field_df.index,\n",
    "    y='Tingkat Attrition (%)',\n",
    "    color='Tingkat Attrition (%)',\n",
    "    text=education_field_df['Tingkat Attrition (%)'].round(1),\n",
    "    title='Tingkat Attrition (%) Berdasarkan Bidang Pendidikan',\n",
    "    labels={'y': 'Tingkat Attrition (%)', 'x': 'Bidang Pendidikan'},\n",
    "    color_continuous_scale='Blues_r'\n",
    ")\n",
    "fig.update_traces(texttemplate='%{text:.1f}%', textposition='outside')\n",
    "fig.update_layout(coloraxis_showscale=False, template='plotly_white')\n",
    "fig.show()\n",
    "fig.write_image(\"./visualisasi/tingkat_attrition_bidang_pendidikan.jpg\", scale=2)"
   ]
  },
  {
   "cell_type": "markdown",
   "id": "2f78b2c9",
   "metadata": {},
   "source": [
    "### Attrition by LastTimePromoted"
   ]
  },
  {
   "cell_type": "code",
   "execution_count": null,
   "id": "28d5927c",
   "metadata": {},
   "outputs": [],
   "source": [
    "promotion_attrition = df.groupby('PromotionCategory')['Attrition'].mean() * 100\n",
    "promotion_counts = df.groupby('PromotionCategory').size()\n",
    "\n",
    "order = ['Baru Dipromosikan', '1-2 Tahun', '3-5 Tahun', '> 5 Tahun']\n",
    "promotion_attrition = promotion_attrition.reindex(order)\n",
    "promotion_counts = promotion_counts.reindex(order)\n",
    "\n",
    "promotion_df = pd.DataFrame({\n",
    "    'Jumlah Karyawan': promotion_counts,\n",
    "    'Tingkat Attrition (%)': promotion_attrition\n",
    "})\n",
    "\n",
    "display(promotion_df)\n",
    "\n",
    "fig = px.line(\n",
    "    x=promotion_attrition.index,\n",
    "    y=promotion_attrition.values,\n",
    "    markers=True,\n",
    "    text=promotion_attrition.values.round(1),\n",
    "    title='Tingkat Attrition (%) Berdasarkan Tahun Sejak Promosi Terakhir',\n",
    "    labels={'x': 'Tahun Sejak Promosi Terakhir', 'y': 'Tingkat Attrition (%)'},\n",
    ")\n",
    "fig.update_traces(\n",
    "    marker=dict(size=10, color='blue'),\n",
    "    line=dict(width=3, color='purple'),\n",
    "    textposition='top center'\n",
    ")\n",
    "fig.update_layout(template='plotly_white')\n",
    "fig.show()\n",
    "fig.write_image(\"./visualisasi/tingkat_attrition_promotion.jpg\", scale=2)"
   ]
  },
  {
   "cell_type": "code",
   "execution_count": null,
   "id": "fad81b5d",
   "metadata": {},
   "outputs": [],
   "source": []
  },
  {
   "cell_type": "markdown",
   "id": "a9078820",
   "metadata": {},
   "source": [
    "## Multivariate"
   ]
  },
  {
   "cell_type": "code",
   "execution_count": null,
   "id": "ffd8bea9",
   "metadata": {},
   "outputs": [],
   "source": [
    "# 1. Analisis multivariate: Overtime, Job Satisfaction, dan Attrition\n",
    "# Membuat tabel pivot untuk melihat interaksi antara overtime dan tingkat kepuasan kerja\n",
    "pivot_overtime_satisfaction = pd.crosstab(\n",
    "    index=df['OverTime'],\n",
    "    columns=df['JobSatisfaction'],\n",
    "    values=df['Attrition'],\n",
    "    aggfunc='mean'\n",
    ") * 100\n",
    "\n",
    "# Ubah nilai job satisfaction menjadi kategori untuk memudahkan pembacaan\n",
    "satisfaction_labels = {1: 'Rendah', 2: 'Sedang', 3: 'Tinggi', 4: 'Sangat Tinggi'}\n",
    "pivot_overtime_satisfaction.columns = [satisfaction_labels[col] for col in pivot_overtime_satisfaction.columns]\n",
    "\n",
    "# Tampilkan dataframe\n",
    "print(\"Tingkat Attrition (%) berdasarkan Overtime dan Job Satisfaction:\")\n",
    "display(pivot_overtime_satisfaction)\n",
    "\n",
    "# Visualisasi dengan heatmap\n",
    "fig = px.imshow(\n",
    "    pivot_overtime_satisfaction,\n",
    "    text_auto='.1f',\n",
    "    aspect='auto',\n",
    "    color_continuous_scale='RdYlGn_r',\n",
    "    title='Tingkat Attrition (%) Berdasarkan Overtime dan Job Satisfaction',\n",
    "    labels=dict(x='Tingkat Kepuasan Kerja', y='Overtime', color='Attrition Rate (%)')\n",
    ")\n",
    "fig.update_layout(template='plotly_white')\n",
    "fig.show()\n",
    "\n",
    "# Simpan gambar\n",
    "fig.write_image(\"./visualisasi/attrition_overtime_jobsatisfaction.jpg\", scale=2)\n",
    "print(\"Visualisasi telah disimpan sebagai './visualisasi/attrition_overtime_jobsatisfaction.jpg'\")"
   ]
  },
  {
   "cell_type": "code",
   "execution_count": null,
   "id": "6c609a90",
   "metadata": {},
   "outputs": [],
   "source": [
    "# 2. Analisis multivariate: Department, Job Level, dan Attrition\n",
    "# Membuat tabel pivot untuk melihat interaksi antara department dan job level\n",
    "pivot_dept_joblevel = pd.crosstab(\n",
    "    index=df['Department'],\n",
    "    columns=df['JobLevel'],\n",
    "    values=df['Attrition'],\n",
    "    aggfunc='mean'\n",
    ") * 100\n",
    "\n",
    "# Tampilkan dataframe\n",
    "print(\"Tingkat Attrition (%) berdasarkan Department dan Job Level:\")\n",
    "display(pivot_dept_joblevel)\n",
    "\n",
    "# Visualisasi dengan heatmap\n",
    "fig = px.imshow(\n",
    "    pivot_dept_joblevel,\n",
    "    text_auto='.1f',\n",
    "    aspect='auto',\n",
    "    color_continuous_scale='Viridis_r',\n",
    "    title='Tingkat Attrition (%) Berdasarkan Department dan Job Level',\n",
    "    labels=dict(x='Job Level', y='Department', color='Attrition Rate (%)')\n",
    ")\n",
    "fig.update_layout(template='plotly_white')\n",
    "fig.show()\n",
    "\n",
    "# Simpan gambar\n",
    "fig.write_image(\"./visualisasi/attrition_department_joblevel.jpg\", scale=2)\n",
    "print(\"Visualisasi telah disimpan sebagai './visualisasi/attrition_department_joblevel.jpg'\")"
   ]
  },
  {
   "cell_type": "code",
   "execution_count": null,
   "id": "ba17c532",
   "metadata": {},
   "outputs": [],
   "source": [
    "# 3. Analisis multivariate: Gaji, Jarak dari Rumah, Overtime, dan Attrition\n",
    "# Scatter plot dengan multiple dimensions\n",
    "fig = px.scatter(\n",
    "    df,\n",
    "    x='MonthlyIncome',\n",
    "    y='DistanceFromHome',\n",
    "    color='Attrition',\n",
    "    facet_col='OverTime',\n",
    "    opacity=0.7,\n",
    "    hover_name='JobRole',\n",
    "    hover_data=['Age', 'YearsAtCompany', 'JobSatisfaction'],\n",
    "    title='Hubungan antara Gaji, Jarak dari Rumah, Overtime dengan Attrition',\n",
    "    labels={\n",
    "        'MonthlyIncome': 'Gaji Bulanan',\n",
    "        'DistanceFromHome': 'Jarak dari Rumah (km)',\n",
    "        'Attrition': 'Status Attrition',\n",
    "        'OverTime': 'Status Overtime'\n",
    "    },\n",
    "    color_discrete_sequence=['green', 'red']\n",
    ")\n",
    "fig.update_layout(\n",
    "    template='plotly_white',\n",
    "    height=600\n",
    ")\n",
    "fig.show()\n",
    "\n",
    "# Simpan gambar\n",
    "fig.write_image(\"./visualisasi/attrition_income_distance_overtime.jpg\", scale=2)\n",
    "print(\"Visualisasi telah disimpan sebagai './visualisasi/attrition_income_distance_overtime.jpg'\")"
   ]
  },
  {
   "cell_type": "code",
   "execution_count": null,
   "id": "f421f504",
   "metadata": {},
   "outputs": [],
   "source": [
    "# 4. Analisis multivariate: Usia, Job Level, dan Attrition\n",
    "# Buat kategori usia\n",
    "if 'AgeGroup' not in df.columns:\n",
    "    df['AgeGroup'] = pd.cut(\n",
    "        df['Age'],\n",
    "        bins=[20, 30, 40, 50, 60],\n",
    "        labels=['20-29', '30-39', '40-49', '50-59']\n",
    "    )\n",
    "\n",
    "# Buat tabel pivot\n",
    "pivot_age_joblevel = pd.crosstab(\n",
    "    index=df['AgeGroup'],\n",
    "    columns=df['JobLevel'],\n",
    "    values=df['Attrition'],\n",
    "    aggfunc='mean'\n",
    ") * 100\n",
    "\n",
    "# Tampilkan dataframe\n",
    "print(\"Tingkat Attrition (%) berdasarkan Kelompok Usia dan Job Level:\")\n",
    "display(pivot_age_joblevel)\n",
    "\n",
    "# Visualisasi dengan heatmap\n",
    "fig = px.imshow(\n",
    "    pivot_age_joblevel,\n",
    "    text_auto='.1f',\n",
    "    aspect='auto',\n",
    "    color_continuous_scale='Plasma_r',\n",
    "    title='Tingkat Attrition (%) Berdasarkan Kelompok Usia dan Job Level',\n",
    "    labels=dict(x='Job Level', y='Kelompok Usia', color='Attrition Rate (%)')\n",
    ")\n",
    "fig.update_layout(template='plotly_white')\n",
    "fig.show()\n",
    "\n",
    "# Simpan gambar\n",
    "fig.write_image(\"./visualisasi/attrition_age_joblevel.jpg\", scale=2)\n",
    "print(\"Visualisasi telah disimpan sebagai './visualisasi/attrition_age_joblevel.jpg'\")"
   ]
  },
  {
   "cell_type": "code",
   "execution_count": null,
   "id": "a1cd56f4",
   "metadata": {},
   "outputs": [],
   "source": [
    "# Analisis kombinasi overtime dan work-life balance\n",
    "cross_analysis = pd.crosstab(\n",
    "    index=df['OverTime'],\n",
    "    columns=df['WorkLifeBalance'],\n",
    "    values=df['Attrition'],\n",
    "    aggfunc='mean'\n",
    ") * 100\n",
    "\n",
    "# Ubah nilai worklife balance menjadi label\n",
    "cross_analysis.columns = ['Buruk', 'Sedang', 'Baik', 'Sangat Baik']\n",
    "\n",
    "display(cross_analysis)\n",
    "\n",
    "# Visualisasi dengan heatmap\n",
    "fig = px.imshow(\n",
    "    cross_analysis,\n",
    "    text_auto='.1f',\n",
    "    aspect='auto',\n",
    "    color_continuous_scale='RdYlGn_r',\n",
    "    title='Tingkat Attrition (%) Berdasarkan Overtime dan Work-Life Balance',\n",
    "    labels=dict(x='Work-Life Balance', y='Overtime', color='Attrition Rate (%)')\n",
    ")\n",
    "fig.update_layout(template='plotly_white')\n",
    "fig.show()"
   ]
  },
  {
   "cell_type": "code",
   "execution_count": null,
   "id": "12f545c2",
   "metadata": {},
   "outputs": [],
   "source": [
    "# 5. Analisis multivariate: 3D Scatter Plot - Gaji, Tahun di Perusahaan, Jarak dari Rumah, dan Attrition\n",
    "fig = px.scatter_3d(\n",
    "    df,\n",
    "    x='MonthlyIncome',\n",
    "    y='YearsAtCompany',\n",
    "    z='DistanceFromHome',\n",
    "    color='Attrition',\n",
    "    opacity=0.7,\n",
    "    size='JobLevel',\n",
    "    hover_name='JobRole',\n",
    "    title='Hubungan 3D antara Gaji, Tahun Bekerja, Jarak dari Rumah, dan Attrition',\n",
    "    labels={\n",
    "        'MonthlyIncome': 'Gaji Bulanan',\n",
    "        'YearsAtCompany': 'Tahun di Perusahaan',\n",
    "        'DistanceFromHome': 'Jarak dari Rumah (km)',\n",
    "        'Attrition': 'Status Attrition',\n",
    "        'JobLevel': 'Level Pekerjaan'\n",
    "    },\n",
    "    color_discrete_sequence=['green', 'red']\n",
    ")\n",
    "fig.update_layout(\n",
    "    template='plotly_white',\n",
    "    scene=dict(\n",
    "        xaxis_title='Gaji Bulanan',\n",
    "        yaxis_title='Tahun di Perusahaan',\n",
    "        zaxis_title='Jarak dari Rumah (km)'\n",
    "    )\n",
    ")\n",
    "fig.show()\n",
    "\n",
    "# Simpan gambar\n",
    "fig.write_image(\"./visualisasi/attrition_3d_income_years_distance.jpg\", scale=2)\n",
    "print(\"Visualisasi telah disimpan sebagai './visualisasi/attrition_3d_income_years_distance.jpg'\")"
   ]
  },
  {
   "cell_type": "code",
   "execution_count": null,
   "id": "d77b20d7",
   "metadata": {},
   "outputs": [],
   "source": [
    "# 6. Analisis multivariate: Parallel Coordinates Plot untuk melihat banyak dimensi sekaligus\n",
    "# Pilih kolom numerik yang relevan\n",
    "cols_for_parallel = ['Age', 'DistanceFromHome', 'MonthlyIncome', 'YearsAtCompany', \n",
    "                     'WorkLifeBalance', 'JobSatisfaction', 'JobLevel']\n",
    "\n",
    "# Buat Parallel Coordinates Plot\n",
    "fig = px.parallel_coordinates(\n",
    "    df, \n",
    "    color='Attrition',\n",
    "    dimensions=cols_for_parallel,\n",
    "    color_continuous_scale=px.colors.diverging.Tealrose,\n",
    "    title='Parallel Coordinates Plot untuk Berbagai Dimensi dan Attrition'\n",
    ")\n",
    "fig.update_layout(\n",
    "    template='plotly_white',\n",
    "    height=600\n",
    ")\n",
    "fig.show()\n",
    "\n",
    "# Simpan gambar\n",
    "fig.write_image(\"./visualisasi/attrition_parallel_coordinates.jpg\", scale=2)\n",
    "print(\"Visualisasi telah disimpan sebagai './visualisasi/attrition_parallel_coordinates.jpg'\")"
   ]
  },
  {
   "cell_type": "code",
   "execution_count": null,
   "id": "7b086664",
   "metadata": {},
   "outputs": [],
   "source": [
    "# 7. Analisis multivariate: Bubble Chart untuk Department, Job Role, Job Satisfaction dan Attrition\n",
    "# Hitung tingkat attrition berdasarkan kombinasi department dan job role\n",
    "attrition_by_dept_role = df.groupby(['Department', 'JobRole'])['Attrition'].mean() * 100\n",
    "count_by_dept_role = df.groupby(['Department', 'JobRole']).size()\n",
    "satisfaction_by_dept_role = df.groupby(['Department', 'JobRole'])['JobSatisfaction'].mean()\n",
    "\n",
    "# Buat dataframe\n",
    "multivariate_df = pd.DataFrame({\n",
    "    'Tingkat Attrition (%)': attrition_by_dept_role,\n",
    "    'Jumlah Karyawan': count_by_dept_role,\n",
    "    'Rata-rata Kepuasan Kerja': satisfaction_by_dept_role\n",
    "}).reset_index()\n",
    "\n",
    "# Tampilkan dataframe\n",
    "print(\"Tingkat Attrition (%), Jumlah Karyawan, dan Rata-rata Kepuasan Kerja berdasarkan Department dan Job Role:\")\n",
    "display(multivariate_df.sort_values('Tingkat Attrition (%)', ascending=False))\n",
    "\n",
    "# Visualisasi dengan bubble chart\n",
    "fig = px.scatter(\n",
    "    multivariate_df,\n",
    "    x='Rata-rata Kepuasan Kerja',\n",
    "    y='Tingkat Attrition (%)',\n",
    "    size='Jumlah Karyawan',\n",
    "    color='Department',\n",
    "    hover_name='JobRole',\n",
    "    text='JobRole',\n",
    "    title='Tingkat Attrition (%) vs Kepuasan Kerja berdasarkan Department dan Job Role',\n",
    "    labels={\n",
    "        'Rata-rata Kepuasan Kerja': 'Rata-rata Kepuasan Kerja (1-4)',\n",
    "        'Tingkat Attrition (%)': 'Tingkat Attrition (%)'\n",
    "    }\n",
    ")\n",
    "fig.update_traces(\n",
    "    textposition='top center',\n",
    "    marker=dict(sizemode='area', sizeref=0.1)\n",
    ")\n",
    "fig.update_layout(\n",
    "    template='plotly_white',\n",
    "    height=800,\n",
    "    width=1000\n",
    ")\n",
    "fig.show()\n",
    "\n",
    "# Simpan gambar\n",
    "fig.write_image(\"./visualisasi/attrition_dept_role_satisfaction.jpg\", scale=2)\n",
    "print(\"Visualisasi telah disimpan sebagai './visualisasi/attrition_dept_role_satisfaction.jpg'\")"
   ]
  },
  {
   "cell_type": "code",
   "execution_count": null,
   "id": "dc17cf50",
   "metadata": {},
   "outputs": [],
   "source": [
    "# Pastikan semua feature engineering dan variabel baru yang ingin disimpan sudah dibuat\n",
    "\n",
    "# Buat daftar variabel baru yang telah dibuat\n",
    "new_variables = [\n",
    "    'SalaryCategory',        # Kategori gaji\n",
    "    'PromotionCategory',     # Kategori tahun sejak promosi terakhir\n",
    "    'AgeGroup',              # Kelompok usia\n",
    "    'DistanceCategory'       # Kategori jarak dari rumah\n",
    "]\n",
    "\n",
    "# Periksa variabel mana yang sudah ada di dataframe\n",
    "existing_variables = [var for var in new_variables if var in df.columns]\n",
    "\n",
    "# Jika ada variabel yang belum dibuat, buat terlebih dahulu\n",
    "if 'SalaryCategory' not in existing_variables:\n",
    "    df['SalaryCategory'] = df['MonthlyIncome'].apply(lambda income: \n",
    "        'Rendah (< 5000)' if income < 5000 else\n",
    "        'Sedang (5000-10000)' if income < 10000 else\n",
    "        'Tinggi (10000-15000)' if income < 15000 else\n",
    "        'Sangat Tinggi (>15000)'\n",
    "    )\n",
    "\n",
    "if 'PromotionCategory' not in existing_variables:\n",
    "    df['PromotionCategory'] = df['YearsSinceLastPromotion'].apply(lambda years:\n",
    "        'Baru Dipromosikan' if years == 0 else\n",
    "        '1-2 Tahun' if years <= 2 else\n",
    "        '3-5 Tahun' if years <= 5 else\n",
    "        '> 5 Tahun'\n",
    "    )\n",
    "\n",
    "if 'AgeGroup' not in existing_variables:\n",
    "    df['AgeGroup'] = df['Age'].apply(lambda age:\n",
    "        '< 30' if age < 30 else\n",
    "        '30-39' if age < 40 else\n",
    "        '40-49' if age < 50 else\n",
    "        '50+'\n",
    "    )\n",
    "\n",
    "if 'DistanceCategory' not in existing_variables:\n",
    "    df['DistanceCategory'] = pd.cut(\n",
    "        df['DistanceFromHome'],\n",
    "        bins=[0, 5, 10, 20, 30],\n",
    "        labels=['0-5 km', '6-10 km', '11-20 km', '21-30 km']\n",
    "    )\n",
    "\n",
    "# Tampilkan kolom-kolom yang ada di data final\n",
    "print(\"Kolom-kolom dalam dataset final:\")\n",
    "display(pd.DataFrame({'Nama Kolom': df.columns}))\n",
    "\n",
    "# Simpan data final\n",
    "df.to_csv('./data/data_final_employee.csv', index=False)\n",
    "\n",
    "# Jika ingin menyimpan dalam format Excel\n",
    "try:\n",
    "    df.to_excel('./data/data_final_employee.xlsx', index=False)\n",
    "except Exception as e:\n",
    "    print(f\"Gagal menyimpan dalam format Excel: {e}\")"
   ]
  },
  {
   "cell_type": "markdown",
   "id": "1f570909",
   "metadata": {},
   "source": [
    "# Segmentation Using Unsupervised Learning"
   ]
  },
  {
   "cell_type": "code",
   "execution_count": 10,
   "id": "3747c4a4",
   "metadata": {},
   "outputs": [],
   "source": [
    "CB_COLORS = {\n",
    "    'blue': '#648FFF',    # biru\n",
    "    'orange': '#FE6100',  # oranye\n",
    "    'green': '#009E73',   # hijau\n",
    "    'pink': '#F564E3',    # pink\n",
    "    'brown': '#B79762',   # coklat\n",
    "    'teal': '#50B4E9',    # teal\n",
    "    'red': '#D62728',     # merah\n",
    "    'grey': '#999999',    # abu-abu\n",
    "}\n",
    "\n",
    "# Palette untuk high risk vs low risk\n",
    "HIGH_RISK_COLOR = CB_COLORS['orange']   # Oranye untuk risiko tinggi\n",
    "LOW_RISK_COLOR = CB_COLORS['blue']      # Biru untuk risiko rendah\n",
    "\n",
    "import warnings\n",
    "warnings.filterwarnings('ignore')\n",
    "\n",
    "# Fungsi untuk mencetak header\n",
    "def print_header(text):\n",
    "    print(f\"\\n{'='*80}\\n{text}\\n{'='*80}\")\n",
    "\n",
    "# Fungsi untuk menampilkan dan menyimpan gambar\n",
    "def display_and_save_figure(fig, filename, show_fig=True):\n",
    "    # Tampilkan gambar di output cell\n",
    "    if show_fig:\n",
    "        fig.show()\n",
    "    \n",
    "    # Simpan gambar di lokal\n",
    "    fig.write_image(filename)\n",
    "    print(f\"Visualisasi disimpan sebagai '{filename}'\")\n",
    "    \n",
    "    return fig"
   ]
  },
  {
   "cell_type": "code",
   "execution_count": 11,
   "id": "7a97913e",
   "metadata": {},
   "outputs": [
    {
     "name": "stdout",
     "output_type": "stream",
     "text": [
      "\n",
      "================================================================================\n",
      "MEMBACA DAN MEMPERSIAPKAN DATA\n",
      "================================================================================\n",
      "Ukuran dataset: (1058, 39)\n"
     ]
    }
   ],
   "source": [
    "# 1. Baca dataset\n",
    "print_header(\"MEMBACA DAN MEMPERSIAPKAN DATA\")\n",
    "df = pd.read_csv('./data/data_final_employee.csv')\n",
    "print(f\"Ukuran dataset: {df.shape}\")"
   ]
  },
  {
   "cell_type": "code",
   "execution_count": 12,
   "id": "a1cf0b34",
   "metadata": {},
   "outputs": [
    {
     "name": "stdout",
     "output_type": "stream",
     "text": [
      "\n",
      "Menangani missing value...\n",
      "Tidak ada missing value ditemukan.\n"
     ]
    }
   ],
   "source": [
    "# 2. Tangani missing value\n",
    "print(\"\\nMenangani missing value...\")\n",
    "missing_values = df.isnull().sum()\n",
    "if missing_values.sum() > 0:\n",
    "    print(f\"Missing values ditemukan: {missing_values[missing_values > 0]}\")\n",
    "    df.dropna(inplace=True)\n",
    "    print(f\"Ukuran dataset setelah menghapus missing value: {df.shape}\")\n",
    "else:\n",
    "    print(\"Tidak ada missing value ditemukan.\")"
   ]
  },
  {
   "cell_type": "code",
   "execution_count": 13,
   "id": "5aa8f865",
   "metadata": {},
   "outputs": [],
   "source": [
    "# 3. Pastikan kolom Attrition numerik (0/1)\n",
    "if df['Attrition'].dtype == 'object':\n",
    "    df['Attrition'] = df['Attrition'].map({'Yes': 1, 'No': 0})\n",
    "    print(\"\\nKolom Attrition dikonversi dari kategorikal ke numerik (1/0)\")\n",
    "elif df['Attrition'].max() > 1:\n",
    "    df['Attrition'] = (df['Attrition'] > 0).astype(int)\n",
    "    print(\"\\nKolom Attrition dikonversi ke binary (0/1)\")"
   ]
  },
  {
   "cell_type": "code",
   "execution_count": 14,
   "id": "a69b6b09",
   "metadata": {},
   "outputs": [
    {
     "name": "stdout",
     "output_type": "stream",
     "text": [
      "\n",
      "================================================================================\n",
      "FEATURE ENGINEERING\n",
      "================================================================================\n",
      "\n",
      "Menggunakan 23 fitur numerik asli\n",
      "\n",
      "Membuat fitur gabungan dan rasio...\n",
      "- Fitur baru: SalaryPerLevel (Gaji per level jabatan)\n",
      "- Fitur baru: SatisfactionIndex (Rata-rata dari 4 fitur kepuasan)\n",
      "- Fitur baru: PromotionRatio (Rasio tahun sejak promosi terhadap masa kerja)\n",
      "\n",
      "Menambahkan 3 fitur hasil feature engineering:\n",
      "['SalaryPerLevel', 'SatisfactionIndex', 'PromotionRatio']\n",
      "\n",
      "Total fitur untuk evaluasi: 26\n"
     ]
    }
   ],
   "source": [
    "# 4. Feature Engineering\n",
    "print_header(\"FEATURE ENGINEERING\")\n",
    "\n",
    "# Pilih fitur numerik yang relevan\n",
    "numerical_features = df.select_dtypes(include=['int64', 'float64']).columns.tolist()\n",
    "numerical_features = [f for f in numerical_features if f != 'Attrition' and f != 'EmployeeId' and f != 'EmployeeCount' and f != 'StandardHours' and f != 'Cluster']\n",
    "\n",
    "print(f\"\\nMenggunakan {len(numerical_features)} fitur numerik asli\")\n",
    "\n",
    "# Buat fitur engineering baru\n",
    "print(\"\\nMembuat fitur gabungan dan rasio...\")\n",
    "\n",
    "# Cek fitur yang tersedia\n",
    "available_features = set(df.columns)\n",
    "\n",
    "# Feature engineering: Buat fitur baru\n",
    "# 1. Rasio Compensation ke Job Level\n",
    "if 'MonthlyIncome' in available_features and 'JobLevel' in available_features:\n",
    "    df['SalaryPerLevel'] = df['MonthlyIncome'] / df['JobLevel'].replace(0, 1)\n",
    "    print(\"- Fitur baru: SalaryPerLevel (Gaji per level jabatan)\")\n",
    "\n",
    "# 2. Indeks Kepuasan Kerja Gabungan\n",
    "satisfaction_columns = [col for col in ['JobSatisfaction', 'EnvironmentSatisfaction', \n",
    "                                      'WorkLifeBalance', 'RelationshipSatisfaction'] \n",
    "                       if col in available_features]\n",
    "\n",
    "if len(satisfaction_columns) >= 2:\n",
    "    df['SatisfactionIndex'] = df[satisfaction_columns].mean(axis=1)\n",
    "    print(f\"- Fitur baru: SatisfactionIndex (Rata-rata dari {len(satisfaction_columns)} fitur kepuasan)\")\n",
    "\n",
    "# 3. Rasio Promosi (tahun sejak promosi dibagi masa kerja)\n",
    "if 'YearsSinceLastPromotion' in available_features and 'YearsAtCompany' in available_features:\n",
    "    df['PromotionRatio'] = df['YearsSinceLastPromotion'] / df['YearsAtCompany'].replace(0, 1)\n",
    "    print(\"- Fitur baru: PromotionRatio (Rasio tahun sejak promosi terhadap masa kerja)\")\n",
    "\n",
    "# Update list fitur numerik dengan fitur baru\n",
    "engineered_features = [col for col in df.columns if col not in numerical_features \n",
    "                      and col != 'Attrition' and col != 'EmployeeId' \n",
    "                      and col != 'EmployeeCount' and col != 'StandardHours'\n",
    "                      and col != 'Cluster'\n",
    "                      and df[col].dtype != 'object']\n",
    "\n",
    "print(f\"\\nMenambahkan {len(engineered_features)} fitur hasil feature engineering:\")\n",
    "print(engineered_features)\n",
    "\n",
    "# Gabungkan fitur asli dan fitur baru\n",
    "all_features = numerical_features + engineered_features\n",
    "print(f\"\\nTotal fitur untuk evaluasi: {len(all_features)}\")\n"
   ]
  },
  {
   "cell_type": "code",
   "execution_count": 15,
   "id": "c3227c56",
   "metadata": {},
   "outputs": [
    {
     "name": "stdout",
     "output_type": "stream",
     "text": [
      "\n",
      "================================================================================\n",
      "FEATURE SELECTION\n",
      "================================================================================\n",
      "\n",
      "Standardisasi data...\n",
      "\n",
      "Mencari feature importance dengan Random Forest...\n",
      "              Feature  RF_Importance\n",
      "9       MonthlyIncome       0.074549\n",
      "0                 Age       0.067456\n",
      "10        MonthlyRate       0.060989\n",
      "23     SalaryPerLevel       0.058753\n",
      "15   StockOptionLevel       0.056937\n",
      "1           DailyRate       0.056510\n",
      "16  TotalWorkingYears       0.055500\n",
      "24  SatisfactionIndex       0.054107\n",
      "5          HourlyRate       0.052794\n",
      "2    DistanceFromHome       0.041263\n"
     ]
    },
    {
     "data": {
      "application/vnd.plotly.v1+json": {
       "config": {
        "plotlyServerURL": "https://plot.ly"
       },
       "data": [
        {
         "hovertemplate": "RF_Importance=%{marker.color}<br>Feature=%{y}<extra></extra>",
         "legendgroup": "",
         "marker": {
          "color": {
           "bdata": "ulpbIagVsz9u5y6N00SxP4Y5UPn3Oa8/Lqpr3NsUrj+wIYWcziatP/lyVwHZ7qw/xoJrSYNqrD/7IYwk9rOrP+HTrf/HB6s/EKT732AgpT8=",
           "dtype": "f8"
          },
          "coloraxis": "coloraxis",
          "pattern": {
           "shape": ""
          }
         },
         "name": "",
         "orientation": "h",
         "showlegend": false,
         "textposition": "auto",
         "type": "bar",
         "x": {
          "bdata": "ulpbIagVsz9u5y6N00SxP4Y5UPn3Oa8/Lqpr3NsUrj+wIYWcziatP/lyVwHZ7qw/xoJrSYNqrD/7IYwk9rOrP+HTrf/HB6s/EKT732AgpT8=",
          "dtype": "f8"
         },
         "xaxis": "x",
         "y": [
          "MonthlyIncome",
          "Age",
          "MonthlyRate",
          "SalaryPerLevel",
          "StockOptionLevel",
          "DailyRate",
          "TotalWorkingYears",
          "SatisfactionIndex",
          "HourlyRate",
          "DistanceFromHome"
         ],
         "yaxis": "y"
        }
       ],
       "layout": {
        "barmode": "relative",
        "coloraxis": {
         "colorbar": {
          "title": {
           "text": "RF_Importance"
          }
         },
         "colorscale": [
          [
           0,
           "#648FFF"
          ],
          [
           0.25,
           "#785EF0"
          ],
          [
           0.5,
           "#DC267F"
          ],
          [
           0.75,
           "#FE6100"
          ],
          [
           1,
           "#FFB000"
          ]
         ],
         "showscale": false
        },
        "font": {
         "size": 12
        },
        "height": 500,
        "legend": {
         "tracegroupgap": 0
        },
        "margin": {
         "b": 20,
         "l": 20,
         "r": 20,
         "t": 40
        },
        "template": {
         "data": {
          "bar": [
           {
            "error_x": {
             "color": "#2a3f5f"
            },
            "error_y": {
             "color": "#2a3f5f"
            },
            "marker": {
             "line": {
              "color": "#E5ECF6",
              "width": 0.5
             },
             "pattern": {
              "fillmode": "overlay",
              "size": 10,
              "solidity": 0.2
             }
            },
            "type": "bar"
           }
          ],
          "barpolar": [
           {
            "marker": {
             "line": {
              "color": "#E5ECF6",
              "width": 0.5
             },
             "pattern": {
              "fillmode": "overlay",
              "size": 10,
              "solidity": 0.2
             }
            },
            "type": "barpolar"
           }
          ],
          "carpet": [
           {
            "aaxis": {
             "endlinecolor": "#2a3f5f",
             "gridcolor": "white",
             "linecolor": "white",
             "minorgridcolor": "white",
             "startlinecolor": "#2a3f5f"
            },
            "baxis": {
             "endlinecolor": "#2a3f5f",
             "gridcolor": "white",
             "linecolor": "white",
             "minorgridcolor": "white",
             "startlinecolor": "#2a3f5f"
            },
            "type": "carpet"
           }
          ],
          "choropleth": [
           {
            "colorbar": {
             "outlinewidth": 0,
             "ticks": ""
            },
            "type": "choropleth"
           }
          ],
          "contour": [
           {
            "colorbar": {
             "outlinewidth": 0,
             "ticks": ""
            },
            "colorscale": [
             [
              0,
              "#0d0887"
             ],
             [
              0.1111111111111111,
              "#46039f"
             ],
             [
              0.2222222222222222,
              "#7201a8"
             ],
             [
              0.3333333333333333,
              "#9c179e"
             ],
             [
              0.4444444444444444,
              "#bd3786"
             ],
             [
              0.5555555555555556,
              "#d8576b"
             ],
             [
              0.6666666666666666,
              "#ed7953"
             ],
             [
              0.7777777777777778,
              "#fb9f3a"
             ],
             [
              0.8888888888888888,
              "#fdca26"
             ],
             [
              1,
              "#f0f921"
             ]
            ],
            "type": "contour"
           }
          ],
          "contourcarpet": [
           {
            "colorbar": {
             "outlinewidth": 0,
             "ticks": ""
            },
            "type": "contourcarpet"
           }
          ],
          "heatmap": [
           {
            "colorbar": {
             "outlinewidth": 0,
             "ticks": ""
            },
            "colorscale": [
             [
              0,
              "#0d0887"
             ],
             [
              0.1111111111111111,
              "#46039f"
             ],
             [
              0.2222222222222222,
              "#7201a8"
             ],
             [
              0.3333333333333333,
              "#9c179e"
             ],
             [
              0.4444444444444444,
              "#bd3786"
             ],
             [
              0.5555555555555556,
              "#d8576b"
             ],
             [
              0.6666666666666666,
              "#ed7953"
             ],
             [
              0.7777777777777778,
              "#fb9f3a"
             ],
             [
              0.8888888888888888,
              "#fdca26"
             ],
             [
              1,
              "#f0f921"
             ]
            ],
            "type": "heatmap"
           }
          ],
          "histogram": [
           {
            "marker": {
             "pattern": {
              "fillmode": "overlay",
              "size": 10,
              "solidity": 0.2
             }
            },
            "type": "histogram"
           }
          ],
          "histogram2d": [
           {
            "colorbar": {
             "outlinewidth": 0,
             "ticks": ""
            },
            "colorscale": [
             [
              0,
              "#0d0887"
             ],
             [
              0.1111111111111111,
              "#46039f"
             ],
             [
              0.2222222222222222,
              "#7201a8"
             ],
             [
              0.3333333333333333,
              "#9c179e"
             ],
             [
              0.4444444444444444,
              "#bd3786"
             ],
             [
              0.5555555555555556,
              "#d8576b"
             ],
             [
              0.6666666666666666,
              "#ed7953"
             ],
             [
              0.7777777777777778,
              "#fb9f3a"
             ],
             [
              0.8888888888888888,
              "#fdca26"
             ],
             [
              1,
              "#f0f921"
             ]
            ],
            "type": "histogram2d"
           }
          ],
          "histogram2dcontour": [
           {
            "colorbar": {
             "outlinewidth": 0,
             "ticks": ""
            },
            "colorscale": [
             [
              0,
              "#0d0887"
             ],
             [
              0.1111111111111111,
              "#46039f"
             ],
             [
              0.2222222222222222,
              "#7201a8"
             ],
             [
              0.3333333333333333,
              "#9c179e"
             ],
             [
              0.4444444444444444,
              "#bd3786"
             ],
             [
              0.5555555555555556,
              "#d8576b"
             ],
             [
              0.6666666666666666,
              "#ed7953"
             ],
             [
              0.7777777777777778,
              "#fb9f3a"
             ],
             [
              0.8888888888888888,
              "#fdca26"
             ],
             [
              1,
              "#f0f921"
             ]
            ],
            "type": "histogram2dcontour"
           }
          ],
          "mesh3d": [
           {
            "colorbar": {
             "outlinewidth": 0,
             "ticks": ""
            },
            "type": "mesh3d"
           }
          ],
          "parcoords": [
           {
            "line": {
             "colorbar": {
              "outlinewidth": 0,
              "ticks": ""
             }
            },
            "type": "parcoords"
           }
          ],
          "pie": [
           {
            "automargin": true,
            "type": "pie"
           }
          ],
          "scatter": [
           {
            "fillpattern": {
             "fillmode": "overlay",
             "size": 10,
             "solidity": 0.2
            },
            "type": "scatter"
           }
          ],
          "scatter3d": [
           {
            "line": {
             "colorbar": {
              "outlinewidth": 0,
              "ticks": ""
             }
            },
            "marker": {
             "colorbar": {
              "outlinewidth": 0,
              "ticks": ""
             }
            },
            "type": "scatter3d"
           }
          ],
          "scattercarpet": [
           {
            "marker": {
             "colorbar": {
              "outlinewidth": 0,
              "ticks": ""
             }
            },
            "type": "scattercarpet"
           }
          ],
          "scattergeo": [
           {
            "marker": {
             "colorbar": {
              "outlinewidth": 0,
              "ticks": ""
             }
            },
            "type": "scattergeo"
           }
          ],
          "scattergl": [
           {
            "marker": {
             "colorbar": {
              "outlinewidth": 0,
              "ticks": ""
             }
            },
            "type": "scattergl"
           }
          ],
          "scattermap": [
           {
            "marker": {
             "colorbar": {
              "outlinewidth": 0,
              "ticks": ""
             }
            },
            "type": "scattermap"
           }
          ],
          "scattermapbox": [
           {
            "marker": {
             "colorbar": {
              "outlinewidth": 0,
              "ticks": ""
             }
            },
            "type": "scattermapbox"
           }
          ],
          "scatterpolar": [
           {
            "marker": {
             "colorbar": {
              "outlinewidth": 0,
              "ticks": ""
             }
            },
            "type": "scatterpolar"
           }
          ],
          "scatterpolargl": [
           {
            "marker": {
             "colorbar": {
              "outlinewidth": 0,
              "ticks": ""
             }
            },
            "type": "scatterpolargl"
           }
          ],
          "scatterternary": [
           {
            "marker": {
             "colorbar": {
              "outlinewidth": 0,
              "ticks": ""
             }
            },
            "type": "scatterternary"
           }
          ],
          "surface": [
           {
            "colorbar": {
             "outlinewidth": 0,
             "ticks": ""
            },
            "colorscale": [
             [
              0,
              "#0d0887"
             ],
             [
              0.1111111111111111,
              "#46039f"
             ],
             [
              0.2222222222222222,
              "#7201a8"
             ],
             [
              0.3333333333333333,
              "#9c179e"
             ],
             [
              0.4444444444444444,
              "#bd3786"
             ],
             [
              0.5555555555555556,
              "#d8576b"
             ],
             [
              0.6666666666666666,
              "#ed7953"
             ],
             [
              0.7777777777777778,
              "#fb9f3a"
             ],
             [
              0.8888888888888888,
              "#fdca26"
             ],
             [
              1,
              "#f0f921"
             ]
            ],
            "type": "surface"
           }
          ],
          "table": [
           {
            "cells": {
             "fill": {
              "color": "#EBF0F8"
             },
             "line": {
              "color": "white"
             }
            },
            "header": {
             "fill": {
              "color": "#C8D4E3"
             },
             "line": {
              "color": "white"
             }
            },
            "type": "table"
           }
          ]
         },
         "layout": {
          "annotationdefaults": {
           "arrowcolor": "#2a3f5f",
           "arrowhead": 0,
           "arrowwidth": 1
          },
          "autotypenumbers": "strict",
          "coloraxis": {
           "colorbar": {
            "outlinewidth": 0,
            "ticks": ""
           }
          },
          "colorscale": {
           "diverging": [
            [
             0,
             "#8e0152"
            ],
            [
             0.1,
             "#c51b7d"
            ],
            [
             0.2,
             "#de77ae"
            ],
            [
             0.3,
             "#f1b6da"
            ],
            [
             0.4,
             "#fde0ef"
            ],
            [
             0.5,
             "#f7f7f7"
            ],
            [
             0.6,
             "#e6f5d0"
            ],
            [
             0.7,
             "#b8e186"
            ],
            [
             0.8,
             "#7fbc41"
            ],
            [
             0.9,
             "#4d9221"
            ],
            [
             1,
             "#276419"
            ]
           ],
           "sequential": [
            [
             0,
             "#0d0887"
            ],
            [
             0.1111111111111111,
             "#46039f"
            ],
            [
             0.2222222222222222,
             "#7201a8"
            ],
            [
             0.3333333333333333,
             "#9c179e"
            ],
            [
             0.4444444444444444,
             "#bd3786"
            ],
            [
             0.5555555555555556,
             "#d8576b"
            ],
            [
             0.6666666666666666,
             "#ed7953"
            ],
            [
             0.7777777777777778,
             "#fb9f3a"
            ],
            [
             0.8888888888888888,
             "#fdca26"
            ],
            [
             1,
             "#f0f921"
            ]
           ],
           "sequentialminus": [
            [
             0,
             "#0d0887"
            ],
            [
             0.1111111111111111,
             "#46039f"
            ],
            [
             0.2222222222222222,
             "#7201a8"
            ],
            [
             0.3333333333333333,
             "#9c179e"
            ],
            [
             0.4444444444444444,
             "#bd3786"
            ],
            [
             0.5555555555555556,
             "#d8576b"
            ],
            [
             0.6666666666666666,
             "#ed7953"
            ],
            [
             0.7777777777777778,
             "#fb9f3a"
            ],
            [
             0.8888888888888888,
             "#fdca26"
            ],
            [
             1,
             "#f0f921"
            ]
           ]
          },
          "colorway": [
           "#636efa",
           "#EF553B",
           "#00cc96",
           "#ab63fa",
           "#FFA15A",
           "#19d3f3",
           "#FF6692",
           "#B6E880",
           "#FF97FF",
           "#FECB52"
          ],
          "font": {
           "color": "#2a3f5f"
          },
          "geo": {
           "bgcolor": "white",
           "lakecolor": "white",
           "landcolor": "#E5ECF6",
           "showlakes": true,
           "showland": true,
           "subunitcolor": "white"
          },
          "hoverlabel": {
           "align": "left"
          },
          "hovermode": "closest",
          "mapbox": {
           "style": "light"
          },
          "paper_bgcolor": "white",
          "plot_bgcolor": "#E5ECF6",
          "polar": {
           "angularaxis": {
            "gridcolor": "white",
            "linecolor": "white",
            "ticks": ""
           },
           "bgcolor": "#E5ECF6",
           "radialaxis": {
            "gridcolor": "white",
            "linecolor": "white",
            "ticks": ""
           }
          },
          "scene": {
           "xaxis": {
            "backgroundcolor": "#E5ECF6",
            "gridcolor": "white",
            "gridwidth": 2,
            "linecolor": "white",
            "showbackground": true,
            "ticks": "",
            "zerolinecolor": "white"
           },
           "yaxis": {
            "backgroundcolor": "#E5ECF6",
            "gridcolor": "white",
            "gridwidth": 2,
            "linecolor": "white",
            "showbackground": true,
            "ticks": "",
            "zerolinecolor": "white"
           },
           "zaxis": {
            "backgroundcolor": "#E5ECF6",
            "gridcolor": "white",
            "gridwidth": 2,
            "linecolor": "white",
            "showbackground": true,
            "ticks": "",
            "zerolinecolor": "white"
           }
          },
          "shapedefaults": {
           "line": {
            "color": "#2a3f5f"
           }
          },
          "ternary": {
           "aaxis": {
            "gridcolor": "white",
            "linecolor": "white",
            "ticks": ""
           },
           "baxis": {
            "gridcolor": "white",
            "linecolor": "white",
            "ticks": ""
           },
           "bgcolor": "#E5ECF6",
           "caxis": {
            "gridcolor": "white",
            "linecolor": "white",
            "ticks": ""
           }
          },
          "title": {
           "x": 0.05
          },
          "xaxis": {
           "automargin": true,
           "gridcolor": "white",
           "linecolor": "white",
           "ticks": "",
           "title": {
            "standoff": 15
           },
           "zerolinecolor": "white",
           "zerolinewidth": 2
          },
          "yaxis": {
           "automargin": true,
           "gridcolor": "white",
           "linecolor": "white",
           "ticks": "",
           "title": {
            "standoff": 15
           },
           "zerolinecolor": "white",
           "zerolinewidth": 2
          }
         }
        },
        "title": {
         "text": "Top 10 Fitur Terpenting untuk Attrition"
        },
        "width": 800,
        "xaxis": {
         "anchor": "y",
         "domain": [
          0,
          1
         ],
         "title": {
          "text": "RF_Importance"
         }
        },
        "yaxis": {
         "anchor": "x",
         "categoryorder": "total ascending",
         "domain": [
          0,
          1
         ],
         "title": {
          "text": "Feature"
         }
        }
       }
      }
     },
     "metadata": {},
     "output_type": "display_data"
    },
    {
     "name": "stdout",
     "output_type": "stream",
     "text": [
      "Visualisasi disimpan sebagai 'feature_importance_colorblind.png'\n",
      "\n",
      "Menggunakan 10 fitur terbaik untuk clustering: ['MonthlyIncome', 'Age', 'MonthlyRate', 'SalaryPerLevel', 'StockOptionLevel', 'DailyRate', 'TotalWorkingYears', 'SatisfactionIndex', 'HourlyRate', 'DistanceFromHome']\n"
     ]
    }
   ],
   "source": [
    "# 5. Feature Selection\n",
    "print_header(\"FEATURE SELECTION\")\n",
    "\n",
    "# Persiapkan data\n",
    "X_all = df[all_features]\n",
    "y = df['Attrition']\n",
    "\n",
    "# Standarisasi semua fitur\n",
    "print(\"\\nStandardisasi data...\")\n",
    "robust_scaler = RobustScaler()  # Robust terhadap outlier\n",
    "X_scaled = robust_scaler.fit_transform(X_all)\n",
    "X_scaled_df = pd.DataFrame(X_scaled, columns=all_features)\n",
    "\n",
    "# Random Forest Importance\n",
    "print(\"\\nMencari feature importance dengan Random Forest...\")\n",
    "rf = RandomForestClassifier(n_estimators=100, random_state=42, class_weight='balanced')\n",
    "rf.fit(X_scaled, y)\n",
    "\n",
    "rf_importance = pd.DataFrame({\n",
    "    'Feature': all_features,\n",
    "    'RF_Importance': rf.feature_importances_\n",
    "}).sort_values(by='RF_Importance', ascending=False)\n",
    "\n",
    "print(rf_importance.head(10))\n",
    "\n",
    "# Visualization of feature importance with Plotly\n",
    "fig = px.bar(\n",
    "    rf_importance.head(10),\n",
    "    x='RF_Importance',\n",
    "    y='Feature',\n",
    "    orientation='h',\n",
    "    title='Top 10 Fitur Terpenting untuk Attrition',\n",
    "    color='RF_Importance',\n",
    "    color_continuous_scale=['#648FFF', '#785EF0', '#DC267F', '#FE6100', '#FFB000']  # Colorblind friendly scale\n",
    ")\n",
    "fig.update_layout(\n",
    "    yaxis={'categoryorder': 'total ascending'},\n",
    "    coloraxis_showscale=False,\n",
    "    margin=dict(l=20, r=20, t=40, b=20),\n",
    "    font=dict(size=12),\n",
    "    height=500,\n",
    "    width=800\n",
    ")\n",
    "\n",
    "# Tampilkan dan simpan visualisasi feature importance\n",
    "display_and_save_figure(fig, \"feature_importance_colorblind.png\")\n",
    "\n",
    "# Pilih top 10 fitur\n",
    "top_features = rf_importance.head(10)['Feature'].tolist()\n",
    "print(f\"\\nMenggunakan 10 fitur terbaik untuk clustering: {top_features}\")\n"
   ]
  },
  {
   "cell_type": "code",
   "execution_count": 16,
   "id": "ff5f79e5",
   "metadata": {},
   "outputs": [
    {
     "name": "stdout",
     "output_type": "stream",
     "text": [
      "\n",
      "================================================================================\n",
      "TRANSFORMASI DATA ADVANCED\n",
      "================================================================================\n",
      "Data untuk clustering: (1058, 10)\n",
      "\n",
      "Menerapkan Power Transformation untuk normalisasi...\n",
      "Transformasi selesai.\n"
     ]
    }
   ],
   "source": [
    "# 6. Transformasi Data Advanced\n",
    "print_header(\"TRANSFORMASI DATA ADVANCED\")\n",
    "\n",
    "# Pilih subset data dengan fitur terbaik\n",
    "X_top = X_scaled_df[top_features]\n",
    "print(f\"Data untuk clustering: {X_top.shape}\")\n",
    "\n",
    "# Power Transformation untuk menormalkan distribusi\n",
    "print(\"\\nMenerapkan Power Transformation untuk normalisasi...\")\n",
    "power_transformer = PowerTransformer(method='yeo-johnson')\n",
    "X_transformed = power_transformer.fit_transform(X_top)\n",
    "print(\"Transformasi selesai.\")\n"
   ]
  },
  {
   "cell_type": "code",
   "execution_count": 17,
   "id": "3f5eda5a",
   "metadata": {},
   "outputs": [
    {
     "name": "stdout",
     "output_type": "stream",
     "text": [
      "\n",
      "================================================================================\n",
      "DIMENSIONALITY REDUCTION\n",
      "================================================================================\n",
      "\n",
      "Menerapkan UMAP untuk reduksi dimensi...\n",
      "Dimensi setelah UMAP: (1058, 2)\n"
     ]
    },
    {
     "data": {
      "application/vnd.plotly.v1+json": {
       "config": {
        "plotlyServerURL": "https://plot.ly"
       },
       "data": [
        {
         "hovertemplate": "Attrition_Label=Keluar<br>UMAP_1=%{x}<br>UMAP_2=%{y}<extra></extra>",
         "legendgroup": "Keluar",
         "marker": {
          "color": "#FE6100",
          "line": {
           "color": "DarkSlateGrey",
           "width": 1
          },
          "opacity": 0.7,
          "size": 8,
          "symbol": "circle"
         },
         "mode": "markers",
         "name": "Keluar",
         "showlegend": true,
         "type": "scattergl",
         "x": {
          "bdata": "7DuZQN3ttUBT+vVAkP0qQOEmR0Bcb4VA/muGQGdyhECC5JhANEzCQA9ukkBTgv8/6LxGQIagSUAcruxA65sBQAE8mkAkJutApVueQGJcQUBujKRAXowVQOrPUUDbgeJAp10AQIrk50C73a5Ah72IQMb++kBgtXZAAlrRQOy3lUCxgZ5AYiK1QMzk5kC8QRFAxsxaQNTvQkCPYUVAIgamQGr8U0BvXfBA/tcPQOFvx0A1I59AKbliQOutvUAqP1hAwlBEQM5100AGKHtAQSaRQDFLX0BauXdAfc4SQCa7mkDpU9tAl+U9QBi1j0ALGZhA2aYYQM9GQUAYbBtALqKLQCLVyUBebPBAbPtlQOJfn0DAKlZAHVEkQDDJ3ECvEnxAeGTyQFEe+T+QbQVAWi8VQMMRxUDSWU5AZ0O3QL4UzEDyqHpAWEi7QDwyBkDXHrlA+wkCQJEoNEAv/EVAYh9HQHCVREDw+z5A/ICAQO82qECXE/xA2f81QG02p0AqgIlAxj2RQNlKtkDu49pAALw5QL7+8z/2D5NAkE+HQJJdjkBSiZhAkVnGQF2qvUDi2INAG5dfQP2MZ0CLNl5A9AoJQGZ0okDoLq9AxMmaQPCXT0DzsghAY6HzP2ojZUAa4hNA8tmFQCXzM0CoMExAh7LLQBfpl0DJLE5Anf0CQIlAXkCo/4FAwyv/PwHHBEDhuhhABxyKQNLXcEDFNIpAocsPQHZ4qkA4uQZA5IaUQOiUe0BhRnZA6T/GQHZfN0Dpv3tA1bzAQA4Zs0BsWIxArT/IQDm0J0DleVBAyRo7QKm+2UDOV5VAv+gCQS+vhEAWjYxALLqOQIsKH0BF+kJAlC6zQFQDjUCw5SFA5xf6P1/7hUAXAUJAOyafQNssPEALvRZA9dNCQN+lKkDJQG9AHTdgQNXABEG68VlAA16TQEtvTUCon5NAV55NQNxwKUA=",
          "dtype": "f4"
         },
         "xaxis": "x",
         "y": {
          "bdata": "UqqRQPJd70BgkJ9AKktHQBQi8EC6qM1AEdEWQDi5FkFefPVAX6s7QFsxkUCk+GdA7LUNQJ4u90D7N1FAdSEtQKzyF0HKop1AZq0kQO0rBEAG6tg//P+FQJvEC0BxHehAI9pWQDp5vEBquxlAUYEYQV+LckDCLUxAqfTxQDPq0z8NbhhBlPkjQCcHV0BlCY1A15YwQJ75GUDLvZBALHUGQdjVhUDDrNRAOGJLQFHi+UBgUfA/KIsNQGgNFEHTfINAzrEDQaVD/UAdk4VAsbORQLhSI0Az+45AwyMkQNQwAEHeT8dAin5JQIkq1UBeVwFBUwIvQGQWC0HE4RlA2SeRQCdC90BnU1xAADMEQLeJk0AjMyJACmJvQJY7P0AWMk5ALJFmQItjg0DWm5BAyrscQI8k/0DAlpNAUJ7YQCKjukD/xvRA6tHNQOJzKEA0nSRAxugrQD7EkUALBVhAP90RQAbvHkANYu1ArHQgQMZQFUHNuNVAHv2EQBrlEEF5VwlAZUxoQHj/K0CzsaxAxuYHQN63UUD/IJRAxlOUQPxXj0A2x1lAYxEOQc8cV0C1BBZB3FZyQP83jUDnqfZA0BooQBzGjECsSNpA/xUbQTGFC0FzyipA9259QJ/1WkDJhSdAqzrfPw+6e0BzgglAnGnkQJ53MkBbfsVANMAxQBzZIUBtHCRAuMdLQLMwkUB0uoVApZw8QIcqeUCLqCZAFoOOQKRX/D+TESRAnWMGQTT+IUC+8A5B8/j/QM7BZ0BajJ5AoyiGQNwbO0Aw3cZAF46BQMf9E0AHvgRBWWTqQJg1w0CHxxZAl1iwQIVkA0FzSRFAB3iQQBxcfkAf331AnNveQFjkGUBrD1FAWL9kQGrWT0BTwWJApxaIQJn25UCeP5VAObHtQPp6bUClXOtAUvwHQOEerUB/hgRAGXkWQC+kVEAlD5BAmTZMQP5MTUA=",
          "dtype": "f4"
         },
         "yaxis": "y"
        },
        {
         "hovertemplate": "Attrition_Label=Tidak Keluar<br>UMAP_1=%{x}<br>UMAP_2=%{y}<extra></extra>",
         "legendgroup": "Tidak Keluar",
         "marker": {
          "color": "#648FFF",
          "line": {
           "color": "DarkSlateGrey",
           "width": 1
          },
          "opacity": 0.7,
          "size": 8,
          "symbol": "circle"
         },
         "mode": "markers",
         "name": "Tidak Keluar",
         "showlegend": true,
         "type": "scattergl",
         "x": {
          "bdata": "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",
          "dtype": "f4"
         },
         "xaxis": "x",
         "y": {
          "bdata": "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",
          "dtype": "f4"
         },
         "yaxis": "y"
        }
       ],
       "layout": {
        "font": {
         "size": 12
        },
        "height": 700,
        "legend": {
         "title": {
          "text": "Status"
         },
         "tracegroupgap": 0
        },
        "template": {
         "data": {
          "bar": [
           {
            "error_x": {
             "color": "#2a3f5f"
            },
            "error_y": {
             "color": "#2a3f5f"
            },
            "marker": {
             "line": {
              "color": "#E5ECF6",
              "width": 0.5
             },
             "pattern": {
              "fillmode": "overlay",
              "size": 10,
              "solidity": 0.2
             }
            },
            "type": "bar"
           }
          ],
          "barpolar": [
           {
            "marker": {
             "line": {
              "color": "#E5ECF6",
              "width": 0.5
             },
             "pattern": {
              "fillmode": "overlay",
              "size": 10,
              "solidity": 0.2
             }
            },
            "type": "barpolar"
           }
          ],
          "carpet": [
           {
            "aaxis": {
             "endlinecolor": "#2a3f5f",
             "gridcolor": "white",
             "linecolor": "white",
             "minorgridcolor": "white",
             "startlinecolor": "#2a3f5f"
            },
            "baxis": {
             "endlinecolor": "#2a3f5f",
             "gridcolor": "white",
             "linecolor": "white",
             "minorgridcolor": "white",
             "startlinecolor": "#2a3f5f"
            },
            "type": "carpet"
           }
          ],
          "choropleth": [
           {
            "colorbar": {
             "outlinewidth": 0,
             "ticks": ""
            },
            "type": "choropleth"
           }
          ],
          "contour": [
           {
            "colorbar": {
             "outlinewidth": 0,
             "ticks": ""
            },
            "colorscale": [
             [
              0,
              "#0d0887"
             ],
             [
              0.1111111111111111,
              "#46039f"
             ],
             [
              0.2222222222222222,
              "#7201a8"
             ],
             [
              0.3333333333333333,
              "#9c179e"
             ],
             [
              0.4444444444444444,
              "#bd3786"
             ],
             [
              0.5555555555555556,
              "#d8576b"
             ],
             [
              0.6666666666666666,
              "#ed7953"
             ],
             [
              0.7777777777777778,
              "#fb9f3a"
             ],
             [
              0.8888888888888888,
              "#fdca26"
             ],
             [
              1,
              "#f0f921"
             ]
            ],
            "type": "contour"
           }
          ],
          "contourcarpet": [
           {
            "colorbar": {
             "outlinewidth": 0,
             "ticks": ""
            },
            "type": "contourcarpet"
           }
          ],
          "heatmap": [
           {
            "colorbar": {
             "outlinewidth": 0,
             "ticks": ""
            },
            "colorscale": [
             [
              0,
              "#0d0887"
             ],
             [
              0.1111111111111111,
              "#46039f"
             ],
             [
              0.2222222222222222,
              "#7201a8"
             ],
             [
              0.3333333333333333,
              "#9c179e"
             ],
             [
              0.4444444444444444,
              "#bd3786"
             ],
             [
              0.5555555555555556,
              "#d8576b"
             ],
             [
              0.6666666666666666,
              "#ed7953"
             ],
             [
              0.7777777777777778,
              "#fb9f3a"
             ],
             [
              0.8888888888888888,
              "#fdca26"
             ],
             [
              1,
              "#f0f921"
             ]
            ],
            "type": "heatmap"
           }
          ],
          "histogram": [
           {
            "marker": {
             "pattern": {
              "fillmode": "overlay",
              "size": 10,
              "solidity": 0.2
             }
            },
            "type": "histogram"
           }
          ],
          "histogram2d": [
           {
            "colorbar": {
             "outlinewidth": 0,
             "ticks": ""
            },
            "colorscale": [
             [
              0,
              "#0d0887"
             ],
             [
              0.1111111111111111,
              "#46039f"
             ],
             [
              0.2222222222222222,
              "#7201a8"
             ],
             [
              0.3333333333333333,
              "#9c179e"
             ],
             [
              0.4444444444444444,
              "#bd3786"
             ],
             [
              0.5555555555555556,
              "#d8576b"
             ],
             [
              0.6666666666666666,
              "#ed7953"
             ],
             [
              0.7777777777777778,
              "#fb9f3a"
             ],
             [
              0.8888888888888888,
              "#fdca26"
             ],
             [
              1,
              "#f0f921"
             ]
            ],
            "type": "histogram2d"
           }
          ],
          "histogram2dcontour": [
           {
            "colorbar": {
             "outlinewidth": 0,
             "ticks": ""
            },
            "colorscale": [
             [
              0,
              "#0d0887"
             ],
             [
              0.1111111111111111,
              "#46039f"
             ],
             [
              0.2222222222222222,
              "#7201a8"
             ],
             [
              0.3333333333333333,
              "#9c179e"
             ],
             [
              0.4444444444444444,
              "#bd3786"
             ],
             [
              0.5555555555555556,
              "#d8576b"
             ],
             [
              0.6666666666666666,
              "#ed7953"
             ],
             [
              0.7777777777777778,
              "#fb9f3a"
             ],
             [
              0.8888888888888888,
              "#fdca26"
             ],
             [
              1,
              "#f0f921"
             ]
            ],
            "type": "histogram2dcontour"
           }
          ],
          "mesh3d": [
           {
            "colorbar": {
             "outlinewidth": 0,
             "ticks": ""
            },
            "type": "mesh3d"
           }
          ],
          "parcoords": [
           {
            "line": {
             "colorbar": {
              "outlinewidth": 0,
              "ticks": ""
             }
            },
            "type": "parcoords"
           }
          ],
          "pie": [
           {
            "automargin": true,
            "type": "pie"
           }
          ],
          "scatter": [
           {
            "fillpattern": {
             "fillmode": "overlay",
             "size": 10,
             "solidity": 0.2
            },
            "type": "scatter"
           }
          ],
          "scatter3d": [
           {
            "line": {
             "colorbar": {
              "outlinewidth": 0,
              "ticks": ""
             }
            },
            "marker": {
             "colorbar": {
              "outlinewidth": 0,
              "ticks": ""
             }
            },
            "type": "scatter3d"
           }
          ],
          "scattercarpet": [
           {
            "marker": {
             "colorbar": {
              "outlinewidth": 0,
              "ticks": ""
             }
            },
            "type": "scattercarpet"
           }
          ],
          "scattergeo": [
           {
            "marker": {
             "colorbar": {
              "outlinewidth": 0,
              "ticks": ""
             }
            },
            "type": "scattergeo"
           }
          ],
          "scattergl": [
           {
            "marker": {
             "colorbar": {
              "outlinewidth": 0,
              "ticks": ""
             }
            },
            "type": "scattergl"
           }
          ],
          "scattermap": [
           {
            "marker": {
             "colorbar": {
              "outlinewidth": 0,
              "ticks": ""
             }
            },
            "type": "scattermap"
           }
          ],
          "scattermapbox": [
           {
            "marker": {
             "colorbar": {
              "outlinewidth": 0,
              "ticks": ""
             }
            },
            "type": "scattermapbox"
           }
          ],
          "scatterpolar": [
           {
            "marker": {
             "colorbar": {
              "outlinewidth": 0,
              "ticks": ""
             }
            },
            "type": "scatterpolar"
           }
          ],
          "scatterpolargl": [
           {
            "marker": {
             "colorbar": {
              "outlinewidth": 0,
              "ticks": ""
             }
            },
            "type": "scatterpolargl"
           }
          ],
          "scatterternary": [
           {
            "marker": {
             "colorbar": {
              "outlinewidth": 0,
              "ticks": ""
             }
            },
            "type": "scatterternary"
           }
          ],
          "surface": [
           {
            "colorbar": {
             "outlinewidth": 0,
             "ticks": ""
            },
            "colorscale": [
             [
              0,
              "#0d0887"
             ],
             [
              0.1111111111111111,
              "#46039f"
             ],
             [
              0.2222222222222222,
              "#7201a8"
             ],
             [
              0.3333333333333333,
              "#9c179e"
             ],
             [
              0.4444444444444444,
              "#bd3786"
             ],
             [
              0.5555555555555556,
              "#d8576b"
             ],
             [
              0.6666666666666666,
              "#ed7953"
             ],
             [
              0.7777777777777778,
              "#fb9f3a"
             ],
             [
              0.8888888888888888,
              "#fdca26"
             ],
             [
              1,
              "#f0f921"
             ]
            ],
            "type": "surface"
           }
          ],
          "table": [
           {
            "cells": {
             "fill": {
              "color": "#EBF0F8"
             },
             "line": {
              "color": "white"
             }
            },
            "header": {
             "fill": {
              "color": "#C8D4E3"
             },
             "line": {
              "color": "white"
             }
            },
            "type": "table"
           }
          ]
         },
         "layout": {
          "annotationdefaults": {
           "arrowcolor": "#2a3f5f",
           "arrowhead": 0,
           "arrowwidth": 1
          },
          "autotypenumbers": "strict",
          "coloraxis": {
           "colorbar": {
            "outlinewidth": 0,
            "ticks": ""
           }
          },
          "colorscale": {
           "diverging": [
            [
             0,
             "#8e0152"
            ],
            [
             0.1,
             "#c51b7d"
            ],
            [
             0.2,
             "#de77ae"
            ],
            [
             0.3,
             "#f1b6da"
            ],
            [
             0.4,
             "#fde0ef"
            ],
            [
             0.5,
             "#f7f7f7"
            ],
            [
             0.6,
             "#e6f5d0"
            ],
            [
             0.7,
             "#b8e186"
            ],
            [
             0.8,
             "#7fbc41"
            ],
            [
             0.9,
             "#4d9221"
            ],
            [
             1,
             "#276419"
            ]
           ],
           "sequential": [
            [
             0,
             "#0d0887"
            ],
            [
             0.1111111111111111,
             "#46039f"
            ],
            [
             0.2222222222222222,
             "#7201a8"
            ],
            [
             0.3333333333333333,
             "#9c179e"
            ],
            [
             0.4444444444444444,
             "#bd3786"
            ],
            [
             0.5555555555555556,
             "#d8576b"
            ],
            [
             0.6666666666666666,
             "#ed7953"
            ],
            [
             0.7777777777777778,
             "#fb9f3a"
            ],
            [
             0.8888888888888888,
             "#fdca26"
            ],
            [
             1,
             "#f0f921"
            ]
           ],
           "sequentialminus": [
            [
             0,
             "#0d0887"
            ],
            [
             0.1111111111111111,
             "#46039f"
            ],
            [
             0.2222222222222222,
             "#7201a8"
            ],
            [
             0.3333333333333333,
             "#9c179e"
            ],
            [
             0.4444444444444444,
             "#bd3786"
            ],
            [
             0.5555555555555556,
             "#d8576b"
            ],
            [
             0.6666666666666666,
             "#ed7953"
            ],
            [
             0.7777777777777778,
             "#fb9f3a"
            ],
            [
             0.8888888888888888,
             "#fdca26"
            ],
            [
             1,
             "#f0f921"
            ]
           ]
          },
          "colorway": [
           "#636efa",
           "#EF553B",
           "#00cc96",
           "#ab63fa",
           "#FFA15A",
           "#19d3f3",
           "#FF6692",
           "#B6E880",
           "#FF97FF",
           "#FECB52"
          ],
          "font": {
           "color": "#2a3f5f"
          },
          "geo": {
           "bgcolor": "white",
           "lakecolor": "white",
           "landcolor": "#E5ECF6",
           "showlakes": true,
           "showland": true,
           "subunitcolor": "white"
          },
          "hoverlabel": {
           "align": "left"
          },
          "hovermode": "closest",
          "mapbox": {
           "style": "light"
          },
          "paper_bgcolor": "white",
          "plot_bgcolor": "#E5ECF6",
          "polar": {
           "angularaxis": {
            "gridcolor": "white",
            "linecolor": "white",
            "ticks": ""
           },
           "bgcolor": "#E5ECF6",
           "radialaxis": {
            "gridcolor": "white",
            "linecolor": "white",
            "ticks": ""
           }
          },
          "scene": {
           "xaxis": {
            "backgroundcolor": "#E5ECF6",
            "gridcolor": "white",
            "gridwidth": 2,
            "linecolor": "white",
            "showbackground": true,
            "ticks": "",
            "zerolinecolor": "white"
           },
           "yaxis": {
            "backgroundcolor": "#E5ECF6",
            "gridcolor": "white",
            "gridwidth": 2,
            "linecolor": "white",
            "showbackground": true,
            "ticks": "",
            "zerolinecolor": "white"
           },
           "zaxis": {
            "backgroundcolor": "#E5ECF6",
            "gridcolor": "white",
            "gridwidth": 2,
            "linecolor": "white",
            "showbackground": true,
            "ticks": "",
            "zerolinecolor": "white"
           }
          },
          "shapedefaults": {
           "line": {
            "color": "#2a3f5f"
           }
          },
          "ternary": {
           "aaxis": {
            "gridcolor": "white",
            "linecolor": "white",
            "ticks": ""
           },
           "baxis": {
            "gridcolor": "white",
            "linecolor": "white",
            "ticks": ""
           },
           "bgcolor": "#E5ECF6",
           "caxis": {
            "gridcolor": "white",
            "linecolor": "white",
            "ticks": ""
           }
          },
          "title": {
           "x": 0.05
          },
          "xaxis": {
           "automargin": true,
           "gridcolor": "white",
           "linecolor": "white",
           "ticks": "",
           "title": {
            "standoff": 15
           },
           "zerolinecolor": "white",
           "zerolinewidth": 2
          },
          "yaxis": {
           "automargin": true,
           "gridcolor": "white",
           "linecolor": "white",
           "ticks": "",
           "title": {
            "standoff": 15
           },
           "zerolinecolor": "white",
           "zerolinewidth": 2
          }
         }
        },
        "title": {
         "text": "Visualisasi Data dengan UMAP (warna berdasarkan Attrition Aktual)"
        },
        "width": 900,
        "xaxis": {
         "anchor": "y",
         "domain": [
          0,
          1
         ],
         "title": {
          "text": "UMAP Dimension 1"
         }
        },
        "yaxis": {
         "anchor": "x",
         "domain": [
          0,
          1
         ],
         "title": {
          "text": "UMAP Dimension 2"
         }
        }
       }
      }
     },
     "metadata": {},
     "output_type": "display_data"
    },
    {
     "name": "stdout",
     "output_type": "stream",
     "text": [
      "Visualisasi disimpan sebagai 'umap_visualization_actual_colorblind.png'\n"
     ]
    },
    {
     "data": {
      "application/vnd.plotly.v1+json": {
       "config": {
        "plotlyServerURL": "https://plot.ly"
       },
       "data": [
        {
         "hovertemplate": "Attrition_Label=Keluar<br>UMAP_1=%{x}<br>UMAP_2=%{y}<extra></extra>",
         "legendgroup": "Keluar",
         "marker": {
          "color": "#FE6100",
          "line": {
           "color": "DarkSlateGrey",
           "width": 1
          },
          "opacity": 0.7,
          "size": 8,
          "symbol": "circle"
         },
         "mode": "markers",
         "name": "Keluar",
         "showlegend": true,
         "type": "scattergl",
         "x": {
          "bdata": "7DuZQN3ttUBT+vVAkP0qQOEmR0Bcb4VA/muGQGdyhECC5JhANEzCQA9ukkBTgv8/6LxGQIagSUAcruxA65sBQAE8mkAkJutApVueQGJcQUBujKRAXowVQOrPUUDbgeJAp10AQIrk50C73a5Ah72IQMb++kBgtXZAAlrRQOy3lUCxgZ5AYiK1QMzk5kC8QRFAxsxaQNTvQkCPYUVAIgamQGr8U0BvXfBA/tcPQOFvx0A1I59AKbliQOutvUAqP1hAwlBEQM5100AGKHtAQSaRQDFLX0BauXdAfc4SQCa7mkDpU9tAl+U9QBi1j0ALGZhA2aYYQM9GQUAYbBtALqKLQCLVyUBebPBAbPtlQOJfn0DAKlZAHVEkQDDJ3ECvEnxAeGTyQFEe+T+QbQVAWi8VQMMRxUDSWU5AZ0O3QL4UzEDyqHpAWEi7QDwyBkDXHrlA+wkCQJEoNEAv/EVAYh9HQHCVREDw+z5A/ICAQO82qECXE/xA2f81QG02p0AqgIlAxj2RQNlKtkDu49pAALw5QL7+8z/2D5NAkE+HQJJdjkBSiZhAkVnGQF2qvUDi2INAG5dfQP2MZ0CLNl5A9AoJQGZ0okDoLq9AxMmaQPCXT0DzsghAY6HzP2ojZUAa4hNA8tmFQCXzM0CoMExAh7LLQBfpl0DJLE5Anf0CQIlAXkCo/4FAwyv/PwHHBEDhuhhABxyKQNLXcEDFNIpAocsPQHZ4qkA4uQZA5IaUQOiUe0BhRnZA6T/GQHZfN0Dpv3tA1bzAQA4Zs0BsWIxArT/IQDm0J0DleVBAyRo7QKm+2UDOV5VAv+gCQS+vhEAWjYxALLqOQIsKH0BF+kJAlC6zQFQDjUCw5SFA5xf6P1/7hUAXAUJAOyafQNssPEALvRZA9dNCQN+lKkDJQG9AHTdgQNXABEG68VlAA16TQEtvTUCon5NAV55NQNxwKUA=",
          "dtype": "f4"
         },
         "xaxis": "x",
         "y": {
          "bdata": "UqqRQPJd70BgkJ9AKktHQBQi8EC6qM1AEdEWQDi5FkFefPVAX6s7QFsxkUCk+GdA7LUNQJ4u90D7N1FAdSEtQKzyF0HKop1AZq0kQO0rBEAG6tg//P+FQJvEC0BxHehAI9pWQDp5vEBquxlAUYEYQV+LckDCLUxAqfTxQDPq0z8NbhhBlPkjQCcHV0BlCY1A15YwQJ75GUDLvZBALHUGQdjVhUDDrNRAOGJLQFHi+UBgUfA/KIsNQGgNFEHTfINAzrEDQaVD/UAdk4VAsbORQLhSI0Az+45AwyMkQNQwAEHeT8dAin5JQIkq1UBeVwFBUwIvQGQWC0HE4RlA2SeRQCdC90BnU1xAADMEQLeJk0AjMyJACmJvQJY7P0AWMk5ALJFmQItjg0DWm5BAyrscQI8k/0DAlpNAUJ7YQCKjukD/xvRA6tHNQOJzKEA0nSRAxugrQD7EkUALBVhAP90RQAbvHkANYu1ArHQgQMZQFUHNuNVAHv2EQBrlEEF5VwlAZUxoQHj/K0CzsaxAxuYHQN63UUD/IJRAxlOUQPxXj0A2x1lAYxEOQc8cV0C1BBZB3FZyQP83jUDnqfZA0BooQBzGjECsSNpA/xUbQTGFC0FzyipA9259QJ/1WkDJhSdAqzrfPw+6e0BzgglAnGnkQJ53MkBbfsVANMAxQBzZIUBtHCRAuMdLQLMwkUB0uoVApZw8QIcqeUCLqCZAFoOOQKRX/D+TESRAnWMGQTT+IUC+8A5B8/j/QM7BZ0BajJ5AoyiGQNwbO0Aw3cZAF46BQMf9E0AHvgRBWWTqQJg1w0CHxxZAl1iwQIVkA0FzSRFAB3iQQBxcfkAf331AnNveQFjkGUBrD1FAWL9kQGrWT0BTwWJApxaIQJn25UCeP5VAObHtQPp6bUClXOtAUvwHQOEerUB/hgRAGXkWQC+kVEAlD5BAmTZMQP5MTUA=",
          "dtype": "f4"
         },
         "yaxis": "y"
        },
        {
         "hovertemplate": "Attrition_Label=Tidak Keluar<br>UMAP_1=%{x}<br>UMAP_2=%{y}<extra></extra>",
         "legendgroup": "Tidak Keluar",
         "marker": {
          "color": "#648FFF",
          "line": {
           "color": "DarkSlateGrey",
           "width": 1
          },
          "opacity": 0.7,
          "size": 8,
          "symbol": "circle"
         },
         "mode": "markers",
         "name": "Tidak Keluar",
         "showlegend": true,
         "type": "scattergl",
         "x": {
          "bdata": "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",
          "dtype": "f4"
         },
         "xaxis": "x",
         "y": {
          "bdata": "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",
          "dtype": "f4"
         },
         "yaxis": "y"
        }
       ],
       "layout": {
        "font": {
         "size": 12
        },
        "height": 700,
        "legend": {
         "title": {
          "text": "Status"
         },
         "tracegroupgap": 0
        },
        "template": {
         "data": {
          "bar": [
           {
            "error_x": {
             "color": "#2a3f5f"
            },
            "error_y": {
             "color": "#2a3f5f"
            },
            "marker": {
             "line": {
              "color": "#E5ECF6",
              "width": 0.5
             },
             "pattern": {
              "fillmode": "overlay",
              "size": 10,
              "solidity": 0.2
             }
            },
            "type": "bar"
           }
          ],
          "barpolar": [
           {
            "marker": {
             "line": {
              "color": "#E5ECF6",
              "width": 0.5
             },
             "pattern": {
              "fillmode": "overlay",
              "size": 10,
              "solidity": 0.2
             }
            },
            "type": "barpolar"
           }
          ],
          "carpet": [
           {
            "aaxis": {
             "endlinecolor": "#2a3f5f",
             "gridcolor": "white",
             "linecolor": "white",
             "minorgridcolor": "white",
             "startlinecolor": "#2a3f5f"
            },
            "baxis": {
             "endlinecolor": "#2a3f5f",
             "gridcolor": "white",
             "linecolor": "white",
             "minorgridcolor": "white",
             "startlinecolor": "#2a3f5f"
            },
            "type": "carpet"
           }
          ],
          "choropleth": [
           {
            "colorbar": {
             "outlinewidth": 0,
             "ticks": ""
            },
            "type": "choropleth"
           }
          ],
          "contour": [
           {
            "colorbar": {
             "outlinewidth": 0,
             "ticks": ""
            },
            "colorscale": [
             [
              0,
              "#0d0887"
             ],
             [
              0.1111111111111111,
              "#46039f"
             ],
             [
              0.2222222222222222,
              "#7201a8"
             ],
             [
              0.3333333333333333,
              "#9c179e"
             ],
             [
              0.4444444444444444,
              "#bd3786"
             ],
             [
              0.5555555555555556,
              "#d8576b"
             ],
             [
              0.6666666666666666,
              "#ed7953"
             ],
             [
              0.7777777777777778,
              "#fb9f3a"
             ],
             [
              0.8888888888888888,
              "#fdca26"
             ],
             [
              1,
              "#f0f921"
             ]
            ],
            "type": "contour"
           }
          ],
          "contourcarpet": [
           {
            "colorbar": {
             "outlinewidth": 0,
             "ticks": ""
            },
            "type": "contourcarpet"
           }
          ],
          "heatmap": [
           {
            "colorbar": {
             "outlinewidth": 0,
             "ticks": ""
            },
            "colorscale": [
             [
              0,
              "#0d0887"
             ],
             [
              0.1111111111111111,
              "#46039f"
             ],
             [
              0.2222222222222222,
              "#7201a8"
             ],
             [
              0.3333333333333333,
              "#9c179e"
             ],
             [
              0.4444444444444444,
              "#bd3786"
             ],
             [
              0.5555555555555556,
              "#d8576b"
             ],
             [
              0.6666666666666666,
              "#ed7953"
             ],
             [
              0.7777777777777778,
              "#fb9f3a"
             ],
             [
              0.8888888888888888,
              "#fdca26"
             ],
             [
              1,
              "#f0f921"
             ]
            ],
            "type": "heatmap"
           }
          ],
          "histogram": [
           {
            "marker": {
             "pattern": {
              "fillmode": "overlay",
              "size": 10,
              "solidity": 0.2
             }
            },
            "type": "histogram"
           }
          ],
          "histogram2d": [
           {
            "colorbar": {
             "outlinewidth": 0,
             "ticks": ""
            },
            "colorscale": [
             [
              0,
              "#0d0887"
             ],
             [
              0.1111111111111111,
              "#46039f"
             ],
             [
              0.2222222222222222,
              "#7201a8"
             ],
             [
              0.3333333333333333,
              "#9c179e"
             ],
             [
              0.4444444444444444,
              "#bd3786"
             ],
             [
              0.5555555555555556,
              "#d8576b"
             ],
             [
              0.6666666666666666,
              "#ed7953"
             ],
             [
              0.7777777777777778,
              "#fb9f3a"
             ],
             [
              0.8888888888888888,
              "#fdca26"
             ],
             [
              1,
              "#f0f921"
             ]
            ],
            "type": "histogram2d"
           }
          ],
          "histogram2dcontour": [
           {
            "colorbar": {
             "outlinewidth": 0,
             "ticks": ""
            },
            "colorscale": [
             [
              0,
              "#0d0887"
             ],
             [
              0.1111111111111111,
              "#46039f"
             ],
             [
              0.2222222222222222,
              "#7201a8"
             ],
             [
              0.3333333333333333,
              "#9c179e"
             ],
             [
              0.4444444444444444,
              "#bd3786"
             ],
             [
              0.5555555555555556,
              "#d8576b"
             ],
             [
              0.6666666666666666,
              "#ed7953"
             ],
             [
              0.7777777777777778,
              "#fb9f3a"
             ],
             [
              0.8888888888888888,
              "#fdca26"
             ],
             [
              1,
              "#f0f921"
             ]
            ],
            "type": "histogram2dcontour"
           }
          ],
          "mesh3d": [
           {
            "colorbar": {
             "outlinewidth": 0,
             "ticks": ""
            },
            "type": "mesh3d"
           }
          ],
          "parcoords": [
           {
            "line": {
             "colorbar": {
              "outlinewidth": 0,
              "ticks": ""
             }
            },
            "type": "parcoords"
           }
          ],
          "pie": [
           {
            "automargin": true,
            "type": "pie"
           }
          ],
          "scatter": [
           {
            "fillpattern": {
             "fillmode": "overlay",
             "size": 10,
             "solidity": 0.2
            },
            "type": "scatter"
           }
          ],
          "scatter3d": [
           {
            "line": {
             "colorbar": {
              "outlinewidth": 0,
              "ticks": ""
             }
            },
            "marker": {
             "colorbar": {
              "outlinewidth": 0,
              "ticks": ""
             }
            },
            "type": "scatter3d"
           }
          ],
          "scattercarpet": [
           {
            "marker": {
             "colorbar": {
              "outlinewidth": 0,
              "ticks": ""
             }
            },
            "type": "scattercarpet"
           }
          ],
          "scattergeo": [
           {
            "marker": {
             "colorbar": {
              "outlinewidth": 0,
              "ticks": ""
             }
            },
            "type": "scattergeo"
           }
          ],
          "scattergl": [
           {
            "marker": {
             "colorbar": {
              "outlinewidth": 0,
              "ticks": ""
             }
            },
            "type": "scattergl"
           }
          ],
          "scattermap": [
           {
            "marker": {
             "colorbar": {
              "outlinewidth": 0,
              "ticks": ""
             }
            },
            "type": "scattermap"
           }
          ],
          "scattermapbox": [
           {
            "marker": {
             "colorbar": {
              "outlinewidth": 0,
              "ticks": ""
             }
            },
            "type": "scattermapbox"
           }
          ],
          "scatterpolar": [
           {
            "marker": {
             "colorbar": {
              "outlinewidth": 0,
              "ticks": ""
             }
            },
            "type": "scatterpolar"
           }
          ],
          "scatterpolargl": [
           {
            "marker": {
             "colorbar": {
              "outlinewidth": 0,
              "ticks": ""
             }
            },
            "type": "scatterpolargl"
           }
          ],
          "scatterternary": [
           {
            "marker": {
             "colorbar": {
              "outlinewidth": 0,
              "ticks": ""
             }
            },
            "type": "scatterternary"
           }
          ],
          "surface": [
           {
            "colorbar": {
             "outlinewidth": 0,
             "ticks": ""
            },
            "colorscale": [
             [
              0,
              "#0d0887"
             ],
             [
              0.1111111111111111,
              "#46039f"
             ],
             [
              0.2222222222222222,
              "#7201a8"
             ],
             [
              0.3333333333333333,
              "#9c179e"
             ],
             [
              0.4444444444444444,
              "#bd3786"
             ],
             [
              0.5555555555555556,
              "#d8576b"
             ],
             [
              0.6666666666666666,
              "#ed7953"
             ],
             [
              0.7777777777777778,
              "#fb9f3a"
             ],
             [
              0.8888888888888888,
              "#fdca26"
             ],
             [
              1,
              "#f0f921"
             ]
            ],
            "type": "surface"
           }
          ],
          "table": [
           {
            "cells": {
             "fill": {
              "color": "#EBF0F8"
             },
             "line": {
              "color": "white"
             }
            },
            "header": {
             "fill": {
              "color": "#C8D4E3"
             },
             "line": {
              "color": "white"
             }
            },
            "type": "table"
           }
          ]
         },
         "layout": {
          "annotationdefaults": {
           "arrowcolor": "#2a3f5f",
           "arrowhead": 0,
           "arrowwidth": 1
          },
          "autotypenumbers": "strict",
          "coloraxis": {
           "colorbar": {
            "outlinewidth": 0,
            "ticks": ""
           }
          },
          "colorscale": {
           "diverging": [
            [
             0,
             "#8e0152"
            ],
            [
             0.1,
             "#c51b7d"
            ],
            [
             0.2,
             "#de77ae"
            ],
            [
             0.3,
             "#f1b6da"
            ],
            [
             0.4,
             "#fde0ef"
            ],
            [
             0.5,
             "#f7f7f7"
            ],
            [
             0.6,
             "#e6f5d0"
            ],
            [
             0.7,
             "#b8e186"
            ],
            [
             0.8,
             "#7fbc41"
            ],
            [
             0.9,
             "#4d9221"
            ],
            [
             1,
             "#276419"
            ]
           ],
           "sequential": [
            [
             0,
             "#0d0887"
            ],
            [
             0.1111111111111111,
             "#46039f"
            ],
            [
             0.2222222222222222,
             "#7201a8"
            ],
            [
             0.3333333333333333,
             "#9c179e"
            ],
            [
             0.4444444444444444,
             "#bd3786"
            ],
            [
             0.5555555555555556,
             "#d8576b"
            ],
            [
             0.6666666666666666,
             "#ed7953"
            ],
            [
             0.7777777777777778,
             "#fb9f3a"
            ],
            [
             0.8888888888888888,
             "#fdca26"
            ],
            [
             1,
             "#f0f921"
            ]
           ],
           "sequentialminus": [
            [
             0,
             "#0d0887"
            ],
            [
             0.1111111111111111,
             "#46039f"
            ],
            [
             0.2222222222222222,
             "#7201a8"
            ],
            [
             0.3333333333333333,
             "#9c179e"
            ],
            [
             0.4444444444444444,
             "#bd3786"
            ],
            [
             0.5555555555555556,
             "#d8576b"
            ],
            [
             0.6666666666666666,
             "#ed7953"
            ],
            [
             0.7777777777777778,
             "#fb9f3a"
            ],
            [
             0.8888888888888888,
             "#fdca26"
            ],
            [
             1,
             "#f0f921"
            ]
           ]
          },
          "colorway": [
           "#636efa",
           "#EF553B",
           "#00cc96",
           "#ab63fa",
           "#FFA15A",
           "#19d3f3",
           "#FF6692",
           "#B6E880",
           "#FF97FF",
           "#FECB52"
          ],
          "font": {
           "color": "#2a3f5f"
          },
          "geo": {
           "bgcolor": "white",
           "lakecolor": "white",
           "landcolor": "#E5ECF6",
           "showlakes": true,
           "showland": true,
           "subunitcolor": "white"
          },
          "hoverlabel": {
           "align": "left"
          },
          "hovermode": "closest",
          "mapbox": {
           "style": "light"
          },
          "paper_bgcolor": "white",
          "plot_bgcolor": "#E5ECF6",
          "polar": {
           "angularaxis": {
            "gridcolor": "white",
            "linecolor": "white",
            "ticks": ""
           },
           "bgcolor": "#E5ECF6",
           "radialaxis": {
            "gridcolor": "white",
            "linecolor": "white",
            "ticks": ""
           }
          },
          "scene": {
           "xaxis": {
            "backgroundcolor": "#E5ECF6",
            "gridcolor": "white",
            "gridwidth": 2,
            "linecolor": "white",
            "showbackground": true,
            "ticks": "",
            "zerolinecolor": "white"
           },
           "yaxis": {
            "backgroundcolor": "#E5ECF6",
            "gridcolor": "white",
            "gridwidth": 2,
            "linecolor": "white",
            "showbackground": true,
            "ticks": "",
            "zerolinecolor": "white"
           },
           "zaxis": {
            "backgroundcolor": "#E5ECF6",
            "gridcolor": "white",
            "gridwidth": 2,
            "linecolor": "white",
            "showbackground": true,
            "ticks": "",
            "zerolinecolor": "white"
           }
          },
          "shapedefaults": {
           "line": {
            "color": "#2a3f5f"
           }
          },
          "ternary": {
           "aaxis": {
            "gridcolor": "white",
            "linecolor": "white",
            "ticks": ""
           },
           "baxis": {
            "gridcolor": "white",
            "linecolor": "white",
            "ticks": ""
           },
           "bgcolor": "#E5ECF6",
           "caxis": {
            "gridcolor": "white",
            "linecolor": "white",
            "ticks": ""
           }
          },
          "title": {
           "x": 0.05
          },
          "xaxis": {
           "automargin": true,
           "gridcolor": "white",
           "linecolor": "white",
           "ticks": "",
           "title": {
            "standoff": 15
           },
           "zerolinecolor": "white",
           "zerolinewidth": 2
          },
          "yaxis": {
           "automargin": true,
           "gridcolor": "white",
           "linecolor": "white",
           "ticks": "",
           "title": {
            "standoff": 15
           },
           "zerolinecolor": "white",
           "zerolinewidth": 2
          }
         }
        },
        "title": {
         "text": "Visualisasi Data dengan UMAP (warna berdasarkan Attrition Aktual)"
        },
        "width": 900,
        "xaxis": {
         "anchor": "y",
         "domain": [
          0,
          1
         ],
         "title": {
          "text": "UMAP Dimension 1"
         }
        },
        "yaxis": {
         "anchor": "x",
         "domain": [
          0,
          1
         ],
         "title": {
          "text": "UMAP Dimension 2"
         }
        }
       }
      }
     },
     "metadata": {},
     "output_type": "display_data"
    }
   ],
   "source": [
    "# 7. Dimensionality Reduction\n",
    "print_header(\"DIMENSIONALITY REDUCTION\")\n",
    "\n",
    "# UMAP untuk visualisasi dan segmentasi yang lebih baik\n",
    "print(\"\\nMenerapkan UMAP untuk reduksi dimensi...\")\n",
    "umap_reducer = UMAP(n_components=2, random_state=42, min_dist=0.1, n_neighbors=15)\n",
    "X_umap = umap_reducer.fit_transform(X_transformed)\n",
    "print(f\"Dimensi setelah UMAP: {X_umap.shape}\")\n",
    "\n",
    "# Visualisasi hasil UMAP berdasarkan attrition aktual dengan Plotly (colorblind friendly)\n",
    "umap_df = pd.DataFrame(X_umap, columns=['UMAP_1', 'UMAP_2'])\n",
    "umap_df['Attrition'] = y\n",
    "umap_df['Attrition_Label'] = umap_df['Attrition'].map({0: 'Tidak Keluar', 1: 'Keluar'})\n",
    "\n",
    "fig = px.scatter(\n",
    "    umap_df, \n",
    "    x='UMAP_1', \n",
    "    y='UMAP_2', \n",
    "    color='Attrition_Label',\n",
    "    color_discrete_map={\n",
    "        'Keluar': HIGH_RISK_COLOR,\n",
    "        'Tidak Keluar': LOW_RISK_COLOR\n",
    "    },\n",
    "    title='Visualisasi Data dengan UMAP (warna berdasarkan Attrition Aktual)',\n",
    "    opacity=0.7,\n",
    "    size_max=10,\n",
    "    width=900,\n",
    "    height=700\n",
    ")\n",
    "fig.update_traces(marker=dict(size=8, line=dict(width=1, color='DarkSlateGrey')))\n",
    "fig.update_layout(\n",
    "    legend_title_text='Status',\n",
    "    xaxis_title='UMAP Dimension 1',\n",
    "    yaxis_title='UMAP Dimension 2',\n",
    "    font=dict(size=12)\n",
    ")\n",
    "\n",
    "# Tampilkan dan simpan visualisasi UMAP\n",
    "display_and_save_figure(fig, \"umap_visualization_actual_colorblind.png\")\n"
   ]
  },
  {
   "cell_type": "code",
   "execution_count": 18,
   "id": "e794fd4e",
   "metadata": {},
   "outputs": [
    {
     "name": "stdout",
     "output_type": "stream",
     "text": [
      "\n",
      "================================================================================\n",
      "CLUSTERING DENGAN 2 CLUSTER: RISIKO RENDAH DAN RISIKO TINGGI\n",
      "================================================================================\n",
      "KMeans silhouette score: 0.483\n",
      "GaussianMixture silhouette score: 0.481\n",
      "\n",
      "Metode terbaik: KMeans dengan silhouette score: 0.483\n"
     ]
    }
   ],
   "source": [
    "# 8. Clustering dengan 2 cluster (Risiko Rendah dan Tinggi)\n",
    "print_header(\"CLUSTERING DENGAN 2 CLUSTER: RISIKO RENDAH DAN RISIKO TINGGI\")\n",
    "\n",
    "# Pilih antara beberapa metode clustering\n",
    "clustering_methods = {\n",
    "    'KMeans': KMeans(n_clusters=2, random_state=42, n_init=20),\n",
    "    'GaussianMixture': GaussianMixture(n_components=2, random_state=42, covariance_type='full')\n",
    "}\n",
    "\n",
    "# Evaluasi silhouette score untuk kedua metode\n",
    "silhouette_scores = {}\n",
    "for method_name, model in clustering_methods.items():\n",
    "    if method_name == 'GaussianMixture':\n",
    "        model.fit(X_umap)\n",
    "        labels = model.predict(X_umap)\n",
    "    else:\n",
    "        labels = model.fit_predict(X_umap)\n",
    "    \n",
    "    score = silhouette_score(X_umap, labels)\n",
    "    silhouette_scores[method_name] = score\n",
    "    print(f\"{method_name} silhouette score: {score:.3f}\")\n",
    "\n",
    "# Pilih metode terbaik berdasarkan silhouette score\n",
    "best_method = max(silhouette_scores, key=silhouette_scores.get)\n",
    "print(f\"\\nMetode terbaik: {best_method} dengan silhouette score: {silhouette_scores[best_method]:.3f}\")\n",
    "\n",
    "# Aplikasikan metode terbaik\n",
    "if best_method == 'GaussianMixture':\n",
    "    best_model = clustering_methods[best_method]\n",
    "    best_model.fit(X_umap)\n",
    "    cluster_labels = best_model.predict(X_umap)\n",
    "    \n",
    "    # Probabilitas keanggotaan cluster untuk GMM\n",
    "    cluster_probs = best_model.predict_proba(X_umap)\n",
    "    df['ClusterUncertainty'] = 1 - np.max(cluster_probs, axis=1)\n",
    "else:  # KMeans\n",
    "    best_model = clustering_methods[best_method]\n",
    "    cluster_labels = best_model.fit_predict(X_umap)\n",
    "\n",
    "# Tambahkan label cluster ke dataframe\n",
    "df['Cluster'] = cluster_labels"
   ]
  },
  {
   "cell_type": "code",
   "execution_count": 19,
   "id": "d669306d",
   "metadata": {},
   "outputs": [
    {
     "name": "stdout",
     "output_type": "stream",
     "text": [
      "\n",
      "Analisis tingkat attrition per cluster:\n",
      "Cluster 0: 472 karyawan, tingkat attrition 25.64%\n",
      "Cluster 1: 586 karyawan, tingkat attrition 9.90%\n"
     ]
    }
   ],
   "source": [
    "# 9. Analisis tingkat attrition per cluster\n",
    "attrition_by_cluster = df.groupby('Cluster')['Attrition'].mean() * 100\n",
    "cluster_sizes = df.groupby('Cluster').size()\n",
    "\n",
    "print(\"\\nAnalisis tingkat attrition per cluster:\")\n",
    "for cluster in sorted(attrition_by_cluster.index):\n",
    "    print(f\"Cluster {cluster}: {cluster_sizes[cluster]} karyawan, tingkat attrition {attrition_by_cluster[cluster]:.2f}%\")"
   ]
  },
  {
   "cell_type": "code",
   "execution_count": 20,
   "id": "d8cf93fe",
   "metadata": {},
   "outputs": [
    {
     "name": "stdout",
     "output_type": "stream",
     "text": [
      "\n",
      "Cluster dengan risiko tinggi: Cluster 0 (25.64%)\n",
      "Cluster dengan risiko rendah: Cluster 1 (9.90%)\n"
     ]
    }
   ],
   "source": [
    "# 10. Tentukan cluster dengan risiko tinggi\n",
    "high_risk_cluster = attrition_by_cluster.idxmax()\n",
    "low_risk_cluster = attrition_by_cluster.idxmin()\n",
    "\n",
    "print(f\"\\nCluster dengan risiko tinggi: Cluster {high_risk_cluster} ({attrition_by_cluster[high_risk_cluster]:.2f}%)\")\n",
    "print(f\"Cluster dengan risiko rendah: Cluster {low_risk_cluster} ({attrition_by_cluster[low_risk_cluster]:.2f}%)\")"
   ]
  },
  {
   "cell_type": "code",
   "execution_count": 21,
   "id": "334c9995",
   "metadata": {},
   "outputs": [],
   "source": [
    "# 11. Buat kolom Risk Level dengan 2 kategori saja\n",
    "df['RiskLevel'] = df['Cluster'].map({\n",
    "    high_risk_cluster: 'Risiko Tinggi', \n",
    "    low_risk_cluster: 'Risiko Rendah'\n",
    "})"
   ]
  },
  {
   "cell_type": "code",
   "execution_count": 22,
   "id": "6e2aa450",
   "metadata": {},
   "outputs": [
    {
     "name": "stdout",
     "output_type": "stream",
     "text": [
      "\n",
      "Distribusi Karyawan berdasarkan Level Risiko Attrition:\n",
      "Risiko Rendah: 586 karyawan (55.4%)\n",
      "Risiko Tinggi: 472 karyawan (44.6%)\n"
     ]
    }
   ],
   "source": [
    "# 12. Hitung distribusi risiko\n",
    "risk_distribution = df['RiskLevel'].value_counts()\n",
    "risk_percentage = df['RiskLevel'].value_counts(normalize=True) * 100\n",
    "\n",
    "print(\"\\nDistribusi Karyawan berdasarkan Level Risiko Attrition:\")\n",
    "for risk, count in risk_distribution.items():\n",
    "    percentage = risk_percentage[risk]\n",
    "    print(f\"{risk}: {count} karyawan ({percentage:.1f}%)\")"
   ]
  },
  {
   "cell_type": "code",
   "execution_count": 23,
   "id": "7951ded1",
   "metadata": {},
   "outputs": [
    {
     "data": {
      "application/vnd.plotly.v1+json": {
       "config": {
        "plotlyServerURL": "https://plot.ly"
       },
       "data": [
        {
         "hovertemplate": "Level Risiko=%{x}<br>Jumlah Karyawan=%{y}<br>text=%{text}<extra></extra>",
         "legendgroup": "Risiko Rendah",
         "marker": {
          "color": "#648FFF",
          "pattern": {
           "shape": ""
          }
         },
         "name": "Risiko Rendah",
         "orientation": "v",
         "showlegend": true,
         "text": [
          "586 (55.4%)"
         ],
         "textfont": {
          "color": "white",
          "size": 14
         },
         "textposition": "inside",
         "type": "bar",
         "x": [
          "Risiko Rendah"
         ],
         "xaxis": "x",
         "y": {
          "bdata": "SgI=",
          "dtype": "i2"
         },
         "yaxis": "y"
        },
        {
         "hovertemplate": "Level Risiko=%{x}<br>Jumlah Karyawan=%{y}<br>text=%{text}<extra></extra>",
         "legendgroup": "Risiko Tinggi",
         "marker": {
          "color": "#FE6100",
          "pattern": {
           "shape": ""
          }
         },
         "name": "Risiko Tinggi",
         "orientation": "v",
         "showlegend": true,
         "text": [
          "472 (44.6%)"
         ],
         "textfont": {
          "color": "white",
          "size": 14
         },
         "textposition": "inside",
         "type": "bar",
         "x": [
          "Risiko Tinggi"
         ],
         "xaxis": "x",
         "y": {
          "bdata": "2AE=",
          "dtype": "i2"
         },
         "yaxis": "y"
        }
       ],
       "layout": {
        "barmode": "relative",
        "font": {
         "size": 12
        },
        "height": 500,
        "legend": {
         "title": {
          "text": "Level Risiko"
         },
         "tracegroupgap": 0
        },
        "template": {
         "data": {
          "bar": [
           {
            "error_x": {
             "color": "#2a3f5f"
            },
            "error_y": {
             "color": "#2a3f5f"
            },
            "marker": {
             "line": {
              "color": "#E5ECF6",
              "width": 0.5
             },
             "pattern": {
              "fillmode": "overlay",
              "size": 10,
              "solidity": 0.2
             }
            },
            "type": "bar"
           }
          ],
          "barpolar": [
           {
            "marker": {
             "line": {
              "color": "#E5ECF6",
              "width": 0.5
             },
             "pattern": {
              "fillmode": "overlay",
              "size": 10,
              "solidity": 0.2
             }
            },
            "type": "barpolar"
           }
          ],
          "carpet": [
           {
            "aaxis": {
             "endlinecolor": "#2a3f5f",
             "gridcolor": "white",
             "linecolor": "white",
             "minorgridcolor": "white",
             "startlinecolor": "#2a3f5f"
            },
            "baxis": {
             "endlinecolor": "#2a3f5f",
             "gridcolor": "white",
             "linecolor": "white",
             "minorgridcolor": "white",
             "startlinecolor": "#2a3f5f"
            },
            "type": "carpet"
           }
          ],
          "choropleth": [
           {
            "colorbar": {
             "outlinewidth": 0,
             "ticks": ""
            },
            "type": "choropleth"
           }
          ],
          "contour": [
           {
            "colorbar": {
             "outlinewidth": 0,
             "ticks": ""
            },
            "colorscale": [
             [
              0,
              "#0d0887"
             ],
             [
              0.1111111111111111,
              "#46039f"
             ],
             [
              0.2222222222222222,
              "#7201a8"
             ],
             [
              0.3333333333333333,
              "#9c179e"
             ],
             [
              0.4444444444444444,
              "#bd3786"
             ],
             [
              0.5555555555555556,
              "#d8576b"
             ],
             [
              0.6666666666666666,
              "#ed7953"
             ],
             [
              0.7777777777777778,
              "#fb9f3a"
             ],
             [
              0.8888888888888888,
              "#fdca26"
             ],
             [
              1,
              "#f0f921"
             ]
            ],
            "type": "contour"
           }
          ],
          "contourcarpet": [
           {
            "colorbar": {
             "outlinewidth": 0,
             "ticks": ""
            },
            "type": "contourcarpet"
           }
          ],
          "heatmap": [
           {
            "colorbar": {
             "outlinewidth": 0,
             "ticks": ""
            },
            "colorscale": [
             [
              0,
              "#0d0887"
             ],
             [
              0.1111111111111111,
              "#46039f"
             ],
             [
              0.2222222222222222,
              "#7201a8"
             ],
             [
              0.3333333333333333,
              "#9c179e"
             ],
             [
              0.4444444444444444,
              "#bd3786"
             ],
             [
              0.5555555555555556,
              "#d8576b"
             ],
             [
              0.6666666666666666,
              "#ed7953"
             ],
             [
              0.7777777777777778,
              "#fb9f3a"
             ],
             [
              0.8888888888888888,
              "#fdca26"
             ],
             [
              1,
              "#f0f921"
             ]
            ],
            "type": "heatmap"
           }
          ],
          "histogram": [
           {
            "marker": {
             "pattern": {
              "fillmode": "overlay",
              "size": 10,
              "solidity": 0.2
             }
            },
            "type": "histogram"
           }
          ],
          "histogram2d": [
           {
            "colorbar": {
             "outlinewidth": 0,
             "ticks": ""
            },
            "colorscale": [
             [
              0,
              "#0d0887"
             ],
             [
              0.1111111111111111,
              "#46039f"
             ],
             [
              0.2222222222222222,
              "#7201a8"
             ],
             [
              0.3333333333333333,
              "#9c179e"
             ],
             [
              0.4444444444444444,
              "#bd3786"
             ],
             [
              0.5555555555555556,
              "#d8576b"
             ],
             [
              0.6666666666666666,
              "#ed7953"
             ],
             [
              0.7777777777777778,
              "#fb9f3a"
             ],
             [
              0.8888888888888888,
              "#fdca26"
             ],
             [
              1,
              "#f0f921"
             ]
            ],
            "type": "histogram2d"
           }
          ],
          "histogram2dcontour": [
           {
            "colorbar": {
             "outlinewidth": 0,
             "ticks": ""
            },
            "colorscale": [
             [
              0,
              "#0d0887"
             ],
             [
              0.1111111111111111,
              "#46039f"
             ],
             [
              0.2222222222222222,
              "#7201a8"
             ],
             [
              0.3333333333333333,
              "#9c179e"
             ],
             [
              0.4444444444444444,
              "#bd3786"
             ],
             [
              0.5555555555555556,
              "#d8576b"
             ],
             [
              0.6666666666666666,
              "#ed7953"
             ],
             [
              0.7777777777777778,
              "#fb9f3a"
             ],
             [
              0.8888888888888888,
              "#fdca26"
             ],
             [
              1,
              "#f0f921"
             ]
            ],
            "type": "histogram2dcontour"
           }
          ],
          "mesh3d": [
           {
            "colorbar": {
             "outlinewidth": 0,
             "ticks": ""
            },
            "type": "mesh3d"
           }
          ],
          "parcoords": [
           {
            "line": {
             "colorbar": {
              "outlinewidth": 0,
              "ticks": ""
             }
            },
            "type": "parcoords"
           }
          ],
          "pie": [
           {
            "automargin": true,
            "type": "pie"
           }
          ],
          "scatter": [
           {
            "fillpattern": {
             "fillmode": "overlay",
             "size": 10,
             "solidity": 0.2
            },
            "type": "scatter"
           }
          ],
          "scatter3d": [
           {
            "line": {
             "colorbar": {
              "outlinewidth": 0,
              "ticks": ""
             }
            },
            "marker": {
             "colorbar": {
              "outlinewidth": 0,
              "ticks": ""
             }
            },
            "type": "scatter3d"
           }
          ],
          "scattercarpet": [
           {
            "marker": {
             "colorbar": {
              "outlinewidth": 0,
              "ticks": ""
             }
            },
            "type": "scattercarpet"
           }
          ],
          "scattergeo": [
           {
            "marker": {
             "colorbar": {
              "outlinewidth": 0,
              "ticks": ""
             }
            },
            "type": "scattergeo"
           }
          ],
          "scattergl": [
           {
            "marker": {
             "colorbar": {
              "outlinewidth": 0,
              "ticks": ""
             }
            },
            "type": "scattergl"
           }
          ],
          "scattermap": [
           {
            "marker": {
             "colorbar": {
              "outlinewidth": 0,
              "ticks": ""
             }
            },
            "type": "scattermap"
           }
          ],
          "scattermapbox": [
           {
            "marker": {
             "colorbar": {
              "outlinewidth": 0,
              "ticks": ""
             }
            },
            "type": "scattermapbox"
           }
          ],
          "scatterpolar": [
           {
            "marker": {
             "colorbar": {
              "outlinewidth": 0,
              "ticks": ""
             }
            },
            "type": "scatterpolar"
           }
          ],
          "scatterpolargl": [
           {
            "marker": {
             "colorbar": {
              "outlinewidth": 0,
              "ticks": ""
             }
            },
            "type": "scatterpolargl"
           }
          ],
          "scatterternary": [
           {
            "marker": {
             "colorbar": {
              "outlinewidth": 0,
              "ticks": ""
             }
            },
            "type": "scatterternary"
           }
          ],
          "surface": [
           {
            "colorbar": {
             "outlinewidth": 0,
             "ticks": ""
            },
            "colorscale": [
             [
              0,
              "#0d0887"
             ],
             [
              0.1111111111111111,
              "#46039f"
             ],
             [
              0.2222222222222222,
              "#7201a8"
             ],
             [
              0.3333333333333333,
              "#9c179e"
             ],
             [
              0.4444444444444444,
              "#bd3786"
             ],
             [
              0.5555555555555556,
              "#d8576b"
             ],
             [
              0.6666666666666666,
              "#ed7953"
             ],
             [
              0.7777777777777778,
              "#fb9f3a"
             ],
             [
              0.8888888888888888,
              "#fdca26"
             ],
             [
              1,
              "#f0f921"
             ]
            ],
            "type": "surface"
           }
          ],
          "table": [
           {
            "cells": {
             "fill": {
              "color": "#EBF0F8"
             },
             "line": {
              "color": "white"
             }
            },
            "header": {
             "fill": {
              "color": "#C8D4E3"
             },
             "line": {
              "color": "white"
             }
            },
            "type": "table"
           }
          ]
         },
         "layout": {
          "annotationdefaults": {
           "arrowcolor": "#2a3f5f",
           "arrowhead": 0,
           "arrowwidth": 1
          },
          "autotypenumbers": "strict",
          "coloraxis": {
           "colorbar": {
            "outlinewidth": 0,
            "ticks": ""
           }
          },
          "colorscale": {
           "diverging": [
            [
             0,
             "#8e0152"
            ],
            [
             0.1,
             "#c51b7d"
            ],
            [
             0.2,
             "#de77ae"
            ],
            [
             0.3,
             "#f1b6da"
            ],
            [
             0.4,
             "#fde0ef"
            ],
            [
             0.5,
             "#f7f7f7"
            ],
            [
             0.6,
             "#e6f5d0"
            ],
            [
             0.7,
             "#b8e186"
            ],
            [
             0.8,
             "#7fbc41"
            ],
            [
             0.9,
             "#4d9221"
            ],
            [
             1,
             "#276419"
            ]
           ],
           "sequential": [
            [
             0,
             "#0d0887"
            ],
            [
             0.1111111111111111,
             "#46039f"
            ],
            [
             0.2222222222222222,
             "#7201a8"
            ],
            [
             0.3333333333333333,
             "#9c179e"
            ],
            [
             0.4444444444444444,
             "#bd3786"
            ],
            [
             0.5555555555555556,
             "#d8576b"
            ],
            [
             0.6666666666666666,
             "#ed7953"
            ],
            [
             0.7777777777777778,
             "#fb9f3a"
            ],
            [
             0.8888888888888888,
             "#fdca26"
            ],
            [
             1,
             "#f0f921"
            ]
           ],
           "sequentialminus": [
            [
             0,
             "#0d0887"
            ],
            [
             0.1111111111111111,
             "#46039f"
            ],
            [
             0.2222222222222222,
             "#7201a8"
            ],
            [
             0.3333333333333333,
             "#9c179e"
            ],
            [
             0.4444444444444444,
             "#bd3786"
            ],
            [
             0.5555555555555556,
             "#d8576b"
            ],
            [
             0.6666666666666666,
             "#ed7953"
            ],
            [
             0.7777777777777778,
             "#fb9f3a"
            ],
            [
             0.8888888888888888,
             "#fdca26"
            ],
            [
             1,
             "#f0f921"
            ]
           ]
          },
          "colorway": [
           "#636efa",
           "#EF553B",
           "#00cc96",
           "#ab63fa",
           "#FFA15A",
           "#19d3f3",
           "#FF6692",
           "#B6E880",
           "#FF97FF",
           "#FECB52"
          ],
          "font": {
           "color": "#2a3f5f"
          },
          "geo": {
           "bgcolor": "white",
           "lakecolor": "white",
           "landcolor": "#E5ECF6",
           "showlakes": true,
           "showland": true,
           "subunitcolor": "white"
          },
          "hoverlabel": {
           "align": "left"
          },
          "hovermode": "closest",
          "mapbox": {
           "style": "light"
          },
          "paper_bgcolor": "white",
          "plot_bgcolor": "#E5ECF6",
          "polar": {
           "angularaxis": {
            "gridcolor": "white",
            "linecolor": "white",
            "ticks": ""
           },
           "bgcolor": "#E5ECF6",
           "radialaxis": {
            "gridcolor": "white",
            "linecolor": "white",
            "ticks": ""
           }
          },
          "scene": {
           "xaxis": {
            "backgroundcolor": "#E5ECF6",
            "gridcolor": "white",
            "gridwidth": 2,
            "linecolor": "white",
            "showbackground": true,
            "ticks": "",
            "zerolinecolor": "white"
           },
           "yaxis": {
            "backgroundcolor": "#E5ECF6",
            "gridcolor": "white",
            "gridwidth": 2,
            "linecolor": "white",
            "showbackground": true,
            "ticks": "",
            "zerolinecolor": "white"
           },
           "zaxis": {
            "backgroundcolor": "#E5ECF6",
            "gridcolor": "white",
            "gridwidth": 2,
            "linecolor": "white",
            "showbackground": true,
            "ticks": "",
            "zerolinecolor": "white"
           }
          },
          "shapedefaults": {
           "line": {
            "color": "#2a3f5f"
           }
          },
          "ternary": {
           "aaxis": {
            "gridcolor": "white",
            "linecolor": "white",
            "ticks": ""
           },
           "baxis": {
            "gridcolor": "white",
            "linecolor": "white",
            "ticks": ""
           },
           "bgcolor": "#E5ECF6",
           "caxis": {
            "gridcolor": "white",
            "linecolor": "white",
            "ticks": ""
           }
          },
          "title": {
           "x": 0.05
          },
          "xaxis": {
           "automargin": true,
           "gridcolor": "white",
           "linecolor": "white",
           "ticks": "",
           "title": {
            "standoff": 15
           },
           "zerolinecolor": "white",
           "zerolinewidth": 2
          },
          "yaxis": {
           "automargin": true,
           "gridcolor": "white",
           "linecolor": "white",
           "ticks": "",
           "title": {
            "standoff": 15
           },
           "zerolinecolor": "white",
           "zerolinewidth": 2
          }
         }
        },
        "title": {
         "text": "Distribusi Karyawan berdasarkan Level Risiko Attrition"
        },
        "width": 800,
        "xaxis": {
         "anchor": "y",
         "categoryarray": [
          "Risiko Rendah",
          "Risiko Tinggi"
         ],
         "categoryorder": "array",
         "domain": [
          0,
          1
         ],
         "title": {
          "text": "Level Risiko"
         }
        },
        "yaxis": {
         "anchor": "x",
         "domain": [
          0,
          1
         ],
         "title": {
          "text": "Jumlah Karyawan"
         }
        }
       }
      }
     },
     "metadata": {},
     "output_type": "display_data"
    },
    {
     "name": "stdout",
     "output_type": "stream",
     "text": [
      "Visualisasi disimpan sebagai 'risk_distribution_binary_colorblind.png'\n"
     ]
    },
    {
     "data": {
      "application/vnd.plotly.v1+json": {
       "config": {
        "plotlyServerURL": "https://plot.ly"
       },
       "data": [
        {
         "hovertemplate": "Level Risiko=%{x}<br>Jumlah Karyawan=%{y}<br>text=%{text}<extra></extra>",
         "legendgroup": "Risiko Rendah",
         "marker": {
          "color": "#648FFF",
          "pattern": {
           "shape": ""
          }
         },
         "name": "Risiko Rendah",
         "orientation": "v",
         "showlegend": true,
         "text": [
          "586 (55.4%)"
         ],
         "textfont": {
          "color": "white",
          "size": 14
         },
         "textposition": "inside",
         "type": "bar",
         "x": [
          "Risiko Rendah"
         ],
         "xaxis": "x",
         "y": {
          "bdata": "SgI=",
          "dtype": "i2"
         },
         "yaxis": "y"
        },
        {
         "hovertemplate": "Level Risiko=%{x}<br>Jumlah Karyawan=%{y}<br>text=%{text}<extra></extra>",
         "legendgroup": "Risiko Tinggi",
         "marker": {
          "color": "#FE6100",
          "pattern": {
           "shape": ""
          }
         },
         "name": "Risiko Tinggi",
         "orientation": "v",
         "showlegend": true,
         "text": [
          "472 (44.6%)"
         ],
         "textfont": {
          "color": "white",
          "size": 14
         },
         "textposition": "inside",
         "type": "bar",
         "x": [
          "Risiko Tinggi"
         ],
         "xaxis": "x",
         "y": {
          "bdata": "2AE=",
          "dtype": "i2"
         },
         "yaxis": "y"
        }
       ],
       "layout": {
        "barmode": "relative",
        "font": {
         "size": 12
        },
        "height": 500,
        "legend": {
         "title": {
          "text": "Level Risiko"
         },
         "tracegroupgap": 0
        },
        "template": {
         "data": {
          "bar": [
           {
            "error_x": {
             "color": "#2a3f5f"
            },
            "error_y": {
             "color": "#2a3f5f"
            },
            "marker": {
             "line": {
              "color": "#E5ECF6",
              "width": 0.5
             },
             "pattern": {
              "fillmode": "overlay",
              "size": 10,
              "solidity": 0.2
             }
            },
            "type": "bar"
           }
          ],
          "barpolar": [
           {
            "marker": {
             "line": {
              "color": "#E5ECF6",
              "width": 0.5
             },
             "pattern": {
              "fillmode": "overlay",
              "size": 10,
              "solidity": 0.2
             }
            },
            "type": "barpolar"
           }
          ],
          "carpet": [
           {
            "aaxis": {
             "endlinecolor": "#2a3f5f",
             "gridcolor": "white",
             "linecolor": "white",
             "minorgridcolor": "white",
             "startlinecolor": "#2a3f5f"
            },
            "baxis": {
             "endlinecolor": "#2a3f5f",
             "gridcolor": "white",
             "linecolor": "white",
             "minorgridcolor": "white",
             "startlinecolor": "#2a3f5f"
            },
            "type": "carpet"
           }
          ],
          "choropleth": [
           {
            "colorbar": {
             "outlinewidth": 0,
             "ticks": ""
            },
            "type": "choropleth"
           }
          ],
          "contour": [
           {
            "colorbar": {
             "outlinewidth": 0,
             "ticks": ""
            },
            "colorscale": [
             [
              0,
              "#0d0887"
             ],
             [
              0.1111111111111111,
              "#46039f"
             ],
             [
              0.2222222222222222,
              "#7201a8"
             ],
             [
              0.3333333333333333,
              "#9c179e"
             ],
             [
              0.4444444444444444,
              "#bd3786"
             ],
             [
              0.5555555555555556,
              "#d8576b"
             ],
             [
              0.6666666666666666,
              "#ed7953"
             ],
             [
              0.7777777777777778,
              "#fb9f3a"
             ],
             [
              0.8888888888888888,
              "#fdca26"
             ],
             [
              1,
              "#f0f921"
             ]
            ],
            "type": "contour"
           }
          ],
          "contourcarpet": [
           {
            "colorbar": {
             "outlinewidth": 0,
             "ticks": ""
            },
            "type": "contourcarpet"
           }
          ],
          "heatmap": [
           {
            "colorbar": {
             "outlinewidth": 0,
             "ticks": ""
            },
            "colorscale": [
             [
              0,
              "#0d0887"
             ],
             [
              0.1111111111111111,
              "#46039f"
             ],
             [
              0.2222222222222222,
              "#7201a8"
             ],
             [
              0.3333333333333333,
              "#9c179e"
             ],
             [
              0.4444444444444444,
              "#bd3786"
             ],
             [
              0.5555555555555556,
              "#d8576b"
             ],
             [
              0.6666666666666666,
              "#ed7953"
             ],
             [
              0.7777777777777778,
              "#fb9f3a"
             ],
             [
              0.8888888888888888,
              "#fdca26"
             ],
             [
              1,
              "#f0f921"
             ]
            ],
            "type": "heatmap"
           }
          ],
          "histogram": [
           {
            "marker": {
             "pattern": {
              "fillmode": "overlay",
              "size": 10,
              "solidity": 0.2
             }
            },
            "type": "histogram"
           }
          ],
          "histogram2d": [
           {
            "colorbar": {
             "outlinewidth": 0,
             "ticks": ""
            },
            "colorscale": [
             [
              0,
              "#0d0887"
             ],
             [
              0.1111111111111111,
              "#46039f"
             ],
             [
              0.2222222222222222,
              "#7201a8"
             ],
             [
              0.3333333333333333,
              "#9c179e"
             ],
             [
              0.4444444444444444,
              "#bd3786"
             ],
             [
              0.5555555555555556,
              "#d8576b"
             ],
             [
              0.6666666666666666,
              "#ed7953"
             ],
             [
              0.7777777777777778,
              "#fb9f3a"
             ],
             [
              0.8888888888888888,
              "#fdca26"
             ],
             [
              1,
              "#f0f921"
             ]
            ],
            "type": "histogram2d"
           }
          ],
          "histogram2dcontour": [
           {
            "colorbar": {
             "outlinewidth": 0,
             "ticks": ""
            },
            "colorscale": [
             [
              0,
              "#0d0887"
             ],
             [
              0.1111111111111111,
              "#46039f"
             ],
             [
              0.2222222222222222,
              "#7201a8"
             ],
             [
              0.3333333333333333,
              "#9c179e"
             ],
             [
              0.4444444444444444,
              "#bd3786"
             ],
             [
              0.5555555555555556,
              "#d8576b"
             ],
             [
              0.6666666666666666,
              "#ed7953"
             ],
             [
              0.7777777777777778,
              "#fb9f3a"
             ],
             [
              0.8888888888888888,
              "#fdca26"
             ],
             [
              1,
              "#f0f921"
             ]
            ],
            "type": "histogram2dcontour"
           }
          ],
          "mesh3d": [
           {
            "colorbar": {
             "outlinewidth": 0,
             "ticks": ""
            },
            "type": "mesh3d"
           }
          ],
          "parcoords": [
           {
            "line": {
             "colorbar": {
              "outlinewidth": 0,
              "ticks": ""
             }
            },
            "type": "parcoords"
           }
          ],
          "pie": [
           {
            "automargin": true,
            "type": "pie"
           }
          ],
          "scatter": [
           {
            "fillpattern": {
             "fillmode": "overlay",
             "size": 10,
             "solidity": 0.2
            },
            "type": "scatter"
           }
          ],
          "scatter3d": [
           {
            "line": {
             "colorbar": {
              "outlinewidth": 0,
              "ticks": ""
             }
            },
            "marker": {
             "colorbar": {
              "outlinewidth": 0,
              "ticks": ""
             }
            },
            "type": "scatter3d"
           }
          ],
          "scattercarpet": [
           {
            "marker": {
             "colorbar": {
              "outlinewidth": 0,
              "ticks": ""
             }
            },
            "type": "scattercarpet"
           }
          ],
          "scattergeo": [
           {
            "marker": {
             "colorbar": {
              "outlinewidth": 0,
              "ticks": ""
             }
            },
            "type": "scattergeo"
           }
          ],
          "scattergl": [
           {
            "marker": {
             "colorbar": {
              "outlinewidth": 0,
              "ticks": ""
             }
            },
            "type": "scattergl"
           }
          ],
          "scattermap": [
           {
            "marker": {
             "colorbar": {
              "outlinewidth": 0,
              "ticks": ""
             }
            },
            "type": "scattermap"
           }
          ],
          "scattermapbox": [
           {
            "marker": {
             "colorbar": {
              "outlinewidth": 0,
              "ticks": ""
             }
            },
            "type": "scattermapbox"
           }
          ],
          "scatterpolar": [
           {
            "marker": {
             "colorbar": {
              "outlinewidth": 0,
              "ticks": ""
             }
            },
            "type": "scatterpolar"
           }
          ],
          "scatterpolargl": [
           {
            "marker": {
             "colorbar": {
              "outlinewidth": 0,
              "ticks": ""
             }
            },
            "type": "scatterpolargl"
           }
          ],
          "scatterternary": [
           {
            "marker": {
             "colorbar": {
              "outlinewidth": 0,
              "ticks": ""
             }
            },
            "type": "scatterternary"
           }
          ],
          "surface": [
           {
            "colorbar": {
             "outlinewidth": 0,
             "ticks": ""
            },
            "colorscale": [
             [
              0,
              "#0d0887"
             ],
             [
              0.1111111111111111,
              "#46039f"
             ],
             [
              0.2222222222222222,
              "#7201a8"
             ],
             [
              0.3333333333333333,
              "#9c179e"
             ],
             [
              0.4444444444444444,
              "#bd3786"
             ],
             [
              0.5555555555555556,
              "#d8576b"
             ],
             [
              0.6666666666666666,
              "#ed7953"
             ],
             [
              0.7777777777777778,
              "#fb9f3a"
             ],
             [
              0.8888888888888888,
              "#fdca26"
             ],
             [
              1,
              "#f0f921"
             ]
            ],
            "type": "surface"
           }
          ],
          "table": [
           {
            "cells": {
             "fill": {
              "color": "#EBF0F8"
             },
             "line": {
              "color": "white"
             }
            },
            "header": {
             "fill": {
              "color": "#C8D4E3"
             },
             "line": {
              "color": "white"
             }
            },
            "type": "table"
           }
          ]
         },
         "layout": {
          "annotationdefaults": {
           "arrowcolor": "#2a3f5f",
           "arrowhead": 0,
           "arrowwidth": 1
          },
          "autotypenumbers": "strict",
          "coloraxis": {
           "colorbar": {
            "outlinewidth": 0,
            "ticks": ""
           }
          },
          "colorscale": {
           "diverging": [
            [
             0,
             "#8e0152"
            ],
            [
             0.1,
             "#c51b7d"
            ],
            [
             0.2,
             "#de77ae"
            ],
            [
             0.3,
             "#f1b6da"
            ],
            [
             0.4,
             "#fde0ef"
            ],
            [
             0.5,
             "#f7f7f7"
            ],
            [
             0.6,
             "#e6f5d0"
            ],
            [
             0.7,
             "#b8e186"
            ],
            [
             0.8,
             "#7fbc41"
            ],
            [
             0.9,
             "#4d9221"
            ],
            [
             1,
             "#276419"
            ]
           ],
           "sequential": [
            [
             0,
             "#0d0887"
            ],
            [
             0.1111111111111111,
             "#46039f"
            ],
            [
             0.2222222222222222,
             "#7201a8"
            ],
            [
             0.3333333333333333,
             "#9c179e"
            ],
            [
             0.4444444444444444,
             "#bd3786"
            ],
            [
             0.5555555555555556,
             "#d8576b"
            ],
            [
             0.6666666666666666,
             "#ed7953"
            ],
            [
             0.7777777777777778,
             "#fb9f3a"
            ],
            [
             0.8888888888888888,
             "#fdca26"
            ],
            [
             1,
             "#f0f921"
            ]
           ],
           "sequentialminus": [
            [
             0,
             "#0d0887"
            ],
            [
             0.1111111111111111,
             "#46039f"
            ],
            [
             0.2222222222222222,
             "#7201a8"
            ],
            [
             0.3333333333333333,
             "#9c179e"
            ],
            [
             0.4444444444444444,
             "#bd3786"
            ],
            [
             0.5555555555555556,
             "#d8576b"
            ],
            [
             0.6666666666666666,
             "#ed7953"
            ],
            [
             0.7777777777777778,
             "#fb9f3a"
            ],
            [
             0.8888888888888888,
             "#fdca26"
            ],
            [
             1,
             "#f0f921"
            ]
           ]
          },
          "colorway": [
           "#636efa",
           "#EF553B",
           "#00cc96",
           "#ab63fa",
           "#FFA15A",
           "#19d3f3",
           "#FF6692",
           "#B6E880",
           "#FF97FF",
           "#FECB52"
          ],
          "font": {
           "color": "#2a3f5f"
          },
          "geo": {
           "bgcolor": "white",
           "lakecolor": "white",
           "landcolor": "#E5ECF6",
           "showlakes": true,
           "showland": true,
           "subunitcolor": "white"
          },
          "hoverlabel": {
           "align": "left"
          },
          "hovermode": "closest",
          "mapbox": {
           "style": "light"
          },
          "paper_bgcolor": "white",
          "plot_bgcolor": "#E5ECF6",
          "polar": {
           "angularaxis": {
            "gridcolor": "white",
            "linecolor": "white",
            "ticks": ""
           },
           "bgcolor": "#E5ECF6",
           "radialaxis": {
            "gridcolor": "white",
            "linecolor": "white",
            "ticks": ""
           }
          },
          "scene": {
           "xaxis": {
            "backgroundcolor": "#E5ECF6",
            "gridcolor": "white",
            "gridwidth": 2,
            "linecolor": "white",
            "showbackground": true,
            "ticks": "",
            "zerolinecolor": "white"
           },
           "yaxis": {
            "backgroundcolor": "#E5ECF6",
            "gridcolor": "white",
            "gridwidth": 2,
            "linecolor": "white",
            "showbackground": true,
            "ticks": "",
            "zerolinecolor": "white"
           },
           "zaxis": {
            "backgroundcolor": "#E5ECF6",
            "gridcolor": "white",
            "gridwidth": 2,
            "linecolor": "white",
            "showbackground": true,
            "ticks": "",
            "zerolinecolor": "white"
           }
          },
          "shapedefaults": {
           "line": {
            "color": "#2a3f5f"
           }
          },
          "ternary": {
           "aaxis": {
            "gridcolor": "white",
            "linecolor": "white",
            "ticks": ""
           },
           "baxis": {
            "gridcolor": "white",
            "linecolor": "white",
            "ticks": ""
           },
           "bgcolor": "#E5ECF6",
           "caxis": {
            "gridcolor": "white",
            "linecolor": "white",
            "ticks": ""
           }
          },
          "title": {
           "x": 0.05
          },
          "xaxis": {
           "automargin": true,
           "gridcolor": "white",
           "linecolor": "white",
           "ticks": "",
           "title": {
            "standoff": 15
           },
           "zerolinecolor": "white",
           "zerolinewidth": 2
          },
          "yaxis": {
           "automargin": true,
           "gridcolor": "white",
           "linecolor": "white",
           "ticks": "",
           "title": {
            "standoff": 15
           },
           "zerolinecolor": "white",
           "zerolinewidth": 2
          }
         }
        },
        "title": {
         "text": "Distribusi Karyawan berdasarkan Level Risiko Attrition"
        },
        "width": 800,
        "xaxis": {
         "anchor": "y",
         "categoryarray": [
          "Risiko Rendah",
          "Risiko Tinggi"
         ],
         "categoryorder": "array",
         "domain": [
          0,
          1
         ],
         "title": {
          "text": "Level Risiko"
         }
        },
        "yaxis": {
         "anchor": "x",
         "domain": [
          0,
          1
         ],
         "title": {
          "text": "Jumlah Karyawan"
         }
        }
       }
      }
     },
     "metadata": {},
     "output_type": "display_data"
    }
   ],
   "source": [
    "# 13. Visualisasi distribusi risiko dengan Plotly (colorblind friendly)\n",
    "risk_df = pd.DataFrame({\n",
    "    'Level Risiko': risk_distribution.index,\n",
    "    'Jumlah Karyawan': risk_distribution.values,\n",
    "    'Persentase': risk_percentage.values\n",
    "})\n",
    "\n",
    "fig = px.bar(\n",
    "    risk_df,\n",
    "    x='Level Risiko',\n",
    "    y='Jumlah Karyawan',\n",
    "    color='Level Risiko',\n",
    "    color_discrete_map={\n",
    "        'Risiko Tinggi': HIGH_RISK_COLOR,\n",
    "        'Risiko Rendah': LOW_RISK_COLOR\n",
    "    },\n",
    "    text=[f\"{count} ({pct:.1f}%)\" for count, pct in zip(risk_df['Jumlah Karyawan'], risk_df['Persentase'])],\n",
    "    title='Distribusi Karyawan berdasarkan Level Risiko Attrition',\n",
    "    height=500,\n",
    "    width=800\n",
    ")\n",
    "fig.update_traces(textposition='inside', textfont=dict(color='white', size=14))\n",
    "fig.update_layout(\n",
    "    xaxis_title='Level Risiko',\n",
    "    yaxis_title='Jumlah Karyawan',\n",
    "    font=dict(size=12)\n",
    ")\n",
    "\n",
    "# Tampilkan dan simpan visualisasi distribusi risiko\n",
    "display_and_save_figure(fig, \"risk_distribution_binary_colorblind.png\")"
   ]
  },
  {
   "cell_type": "code",
   "execution_count": 24,
   "id": "352ffe88",
   "metadata": {},
   "outputs": [
    {
     "data": {
      "application/vnd.plotly.v1+json": {
       "config": {
        "plotlyServerURL": "https://plot.ly"
       },
       "data": [
        {
         "hovertemplate": "Risk Level=Risiko Tinggi<br>UMAP_1=%{x}<br>UMAP_2=%{y}<extra></extra>",
         "legendgroup": "Risiko Tinggi",
         "marker": {
          "color": "#FE6100",
          "line": {
           "color": "DarkSlateGrey",
           "width": 1
          },
          "opacity": 0.7,
          "size": 8,
          "symbol": "circle"
         },
         "mode": "markers",
         "name": "Risiko Tinggi",
         "showlegend": true,
         "type": "scattergl",
         "x": {
          "bdata": "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",
          "dtype": "f4"
         },
         "xaxis": "x",
         "y": {
          "bdata": "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",
          "dtype": "f4"
         },
         "yaxis": "y"
        },
        {
         "hovertemplate": "Risk Level=Risiko Rendah<br>UMAP_1=%{x}<br>UMAP_2=%{y}<extra></extra>",
         "legendgroup": "Risiko Rendah",
         "marker": {
          "color": "#648FFF",
          "line": {
           "color": "DarkSlateGrey",
           "width": 1
          },
          "opacity": 0.7,
          "size": 8,
          "symbol": "circle"
         },
         "mode": "markers",
         "name": "Risiko Rendah",
         "showlegend": true,
         "type": "scattergl",
         "x": {
          "bdata": "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",
          "dtype": "f4"
         },
         "xaxis": "x",
         "y": {
          "bdata": "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",
          "dtype": "f4"
         },
         "yaxis": "y"
        }
       ],
       "layout": {
        "font": {
         "size": 12
        },
        "height": 700,
        "legend": {
         "title": {
          "text": "Level Risiko"
         },
         "tracegroupgap": 0
        },
        "template": {
         "data": {
          "bar": [
           {
            "error_x": {
             "color": "#2a3f5f"
            },
            "error_y": {
             "color": "#2a3f5f"
            },
            "marker": {
             "line": {
              "color": "#E5ECF6",
              "width": 0.5
             },
             "pattern": {
              "fillmode": "overlay",
              "size": 10,
              "solidity": 0.2
             }
            },
            "type": "bar"
           }
          ],
          "barpolar": [
           {
            "marker": {
             "line": {
              "color": "#E5ECF6",
              "width": 0.5
             },
             "pattern": {
              "fillmode": "overlay",
              "size": 10,
              "solidity": 0.2
             }
            },
            "type": "barpolar"
           }
          ],
          "carpet": [
           {
            "aaxis": {
             "endlinecolor": "#2a3f5f",
             "gridcolor": "white",
             "linecolor": "white",
             "minorgridcolor": "white",
             "startlinecolor": "#2a3f5f"
            },
            "baxis": {
             "endlinecolor": "#2a3f5f",
             "gridcolor": "white",
             "linecolor": "white",
             "minorgridcolor": "white",
             "startlinecolor": "#2a3f5f"
            },
            "type": "carpet"
           }
          ],
          "choropleth": [
           {
            "colorbar": {
             "outlinewidth": 0,
             "ticks": ""
            },
            "type": "choropleth"
           }
          ],
          "contour": [
           {
            "colorbar": {
             "outlinewidth": 0,
             "ticks": ""
            },
            "colorscale": [
             [
              0,
              "#0d0887"
             ],
             [
              0.1111111111111111,
              "#46039f"
             ],
             [
              0.2222222222222222,
              "#7201a8"
             ],
             [
              0.3333333333333333,
              "#9c179e"
             ],
             [
              0.4444444444444444,
              "#bd3786"
             ],
             [
              0.5555555555555556,
              "#d8576b"
             ],
             [
              0.6666666666666666,
              "#ed7953"
             ],
             [
              0.7777777777777778,
              "#fb9f3a"
             ],
             [
              0.8888888888888888,
              "#fdca26"
             ],
             [
              1,
              "#f0f921"
             ]
            ],
            "type": "contour"
           }
          ],
          "contourcarpet": [
           {
            "colorbar": {
             "outlinewidth": 0,
             "ticks": ""
            },
            "type": "contourcarpet"
           }
          ],
          "heatmap": [
           {
            "colorbar": {
             "outlinewidth": 0,
             "ticks": ""
            },
            "colorscale": [
             [
              0,
              "#0d0887"
             ],
             [
              0.1111111111111111,
              "#46039f"
             ],
             [
              0.2222222222222222,
              "#7201a8"
             ],
             [
              0.3333333333333333,
              "#9c179e"
             ],
             [
              0.4444444444444444,
              "#bd3786"
             ],
             [
              0.5555555555555556,
              "#d8576b"
             ],
             [
              0.6666666666666666,
              "#ed7953"
             ],
             [
              0.7777777777777778,
              "#fb9f3a"
             ],
             [
              0.8888888888888888,
              "#fdca26"
             ],
             [
              1,
              "#f0f921"
             ]
            ],
            "type": "heatmap"
           }
          ],
          "histogram": [
           {
            "marker": {
             "pattern": {
              "fillmode": "overlay",
              "size": 10,
              "solidity": 0.2
             }
            },
            "type": "histogram"
           }
          ],
          "histogram2d": [
           {
            "colorbar": {
             "outlinewidth": 0,
             "ticks": ""
            },
            "colorscale": [
             [
              0,
              "#0d0887"
             ],
             [
              0.1111111111111111,
              "#46039f"
             ],
             [
              0.2222222222222222,
              "#7201a8"
             ],
             [
              0.3333333333333333,
              "#9c179e"
             ],
             [
              0.4444444444444444,
              "#bd3786"
             ],
             [
              0.5555555555555556,
              "#d8576b"
             ],
             [
              0.6666666666666666,
              "#ed7953"
             ],
             [
              0.7777777777777778,
              "#fb9f3a"
             ],
             [
              0.8888888888888888,
              "#fdca26"
             ],
             [
              1,
              "#f0f921"
             ]
            ],
            "type": "histogram2d"
           }
          ],
          "histogram2dcontour": [
           {
            "colorbar": {
             "outlinewidth": 0,
             "ticks": ""
            },
            "colorscale": [
             [
              0,
              "#0d0887"
             ],
             [
              0.1111111111111111,
              "#46039f"
             ],
             [
              0.2222222222222222,
              "#7201a8"
             ],
             [
              0.3333333333333333,
              "#9c179e"
             ],
             [
              0.4444444444444444,
              "#bd3786"
             ],
             [
              0.5555555555555556,
              "#d8576b"
             ],
             [
              0.6666666666666666,
              "#ed7953"
             ],
             [
              0.7777777777777778,
              "#fb9f3a"
             ],
             [
              0.8888888888888888,
              "#fdca26"
             ],
             [
              1,
              "#f0f921"
             ]
            ],
            "type": "histogram2dcontour"
           }
          ],
          "mesh3d": [
           {
            "colorbar": {
             "outlinewidth": 0,
             "ticks": ""
            },
            "type": "mesh3d"
           }
          ],
          "parcoords": [
           {
            "line": {
             "colorbar": {
              "outlinewidth": 0,
              "ticks": ""
             }
            },
            "type": "parcoords"
           }
          ],
          "pie": [
           {
            "automargin": true,
            "type": "pie"
           }
          ],
          "scatter": [
           {
            "fillpattern": {
             "fillmode": "overlay",
             "size": 10,
             "solidity": 0.2
            },
            "type": "scatter"
           }
          ],
          "scatter3d": [
           {
            "line": {
             "colorbar": {
              "outlinewidth": 0,
              "ticks": ""
             }
            },
            "marker": {
             "colorbar": {
              "outlinewidth": 0,
              "ticks": ""
             }
            },
            "type": "scatter3d"
           }
          ],
          "scattercarpet": [
           {
            "marker": {
             "colorbar": {
              "outlinewidth": 0,
              "ticks": ""
             }
            },
            "type": "scattercarpet"
           }
          ],
          "scattergeo": [
           {
            "marker": {
             "colorbar": {
              "outlinewidth": 0,
              "ticks": ""
             }
            },
            "type": "scattergeo"
           }
          ],
          "scattergl": [
           {
            "marker": {
             "colorbar": {
              "outlinewidth": 0,
              "ticks": ""
             }
            },
            "type": "scattergl"
           }
          ],
          "scattermap": [
           {
            "marker": {
             "colorbar": {
              "outlinewidth": 0,
              "ticks": ""
             }
            },
            "type": "scattermap"
           }
          ],
          "scattermapbox": [
           {
            "marker": {
             "colorbar": {
              "outlinewidth": 0,
              "ticks": ""
             }
            },
            "type": "scattermapbox"
           }
          ],
          "scatterpolar": [
           {
            "marker": {
             "colorbar": {
              "outlinewidth": 0,
              "ticks": ""
             }
            },
            "type": "scatterpolar"
           }
          ],
          "scatterpolargl": [
           {
            "marker": {
             "colorbar": {
              "outlinewidth": 0,
              "ticks": ""
             }
            },
            "type": "scatterpolargl"
           }
          ],
          "scatterternary": [
           {
            "marker": {
             "colorbar": {
              "outlinewidth": 0,
              "ticks": ""
             }
            },
            "type": "scatterternary"
           }
          ],
          "surface": [
           {
            "colorbar": {
             "outlinewidth": 0,
             "ticks": ""
            },
            "colorscale": [
             [
              0,
              "#0d0887"
             ],
             [
              0.1111111111111111,
              "#46039f"
             ],
             [
              0.2222222222222222,
              "#7201a8"
             ],
             [
              0.3333333333333333,
              "#9c179e"
             ],
             [
              0.4444444444444444,
              "#bd3786"
             ],
             [
              0.5555555555555556,
              "#d8576b"
             ],
             [
              0.6666666666666666,
              "#ed7953"
             ],
             [
              0.7777777777777778,
              "#fb9f3a"
             ],
             [
              0.8888888888888888,
              "#fdca26"
             ],
             [
              1,
              "#f0f921"
             ]
            ],
            "type": "surface"
           }
          ],
          "table": [
           {
            "cells": {
             "fill": {
              "color": "#EBF0F8"
             },
             "line": {
              "color": "white"
             }
            },
            "header": {
             "fill": {
              "color": "#C8D4E3"
             },
             "line": {
              "color": "white"
             }
            },
            "type": "table"
           }
          ]
         },
         "layout": {
          "annotationdefaults": {
           "arrowcolor": "#2a3f5f",
           "arrowhead": 0,
           "arrowwidth": 1
          },
          "autotypenumbers": "strict",
          "coloraxis": {
           "colorbar": {
            "outlinewidth": 0,
            "ticks": ""
           }
          },
          "colorscale": {
           "diverging": [
            [
             0,
             "#8e0152"
            ],
            [
             0.1,
             "#c51b7d"
            ],
            [
             0.2,
             "#de77ae"
            ],
            [
             0.3,
             "#f1b6da"
            ],
            [
             0.4,
             "#fde0ef"
            ],
            [
             0.5,
             "#f7f7f7"
            ],
            [
             0.6,
             "#e6f5d0"
            ],
            [
             0.7,
             "#b8e186"
            ],
            [
             0.8,
             "#7fbc41"
            ],
            [
             0.9,
             "#4d9221"
            ],
            [
             1,
             "#276419"
            ]
           ],
           "sequential": [
            [
             0,
             "#0d0887"
            ],
            [
             0.1111111111111111,
             "#46039f"
            ],
            [
             0.2222222222222222,
             "#7201a8"
            ],
            [
             0.3333333333333333,
             "#9c179e"
            ],
            [
             0.4444444444444444,
             "#bd3786"
            ],
            [
             0.5555555555555556,
             "#d8576b"
            ],
            [
             0.6666666666666666,
             "#ed7953"
            ],
            [
             0.7777777777777778,
             "#fb9f3a"
            ],
            [
             0.8888888888888888,
             "#fdca26"
            ],
            [
             1,
             "#f0f921"
            ]
           ],
           "sequentialminus": [
            [
             0,
             "#0d0887"
            ],
            [
             0.1111111111111111,
             "#46039f"
            ],
            [
             0.2222222222222222,
             "#7201a8"
            ],
            [
             0.3333333333333333,
             "#9c179e"
            ],
            [
             0.4444444444444444,
             "#bd3786"
            ],
            [
             0.5555555555555556,
             "#d8576b"
            ],
            [
             0.6666666666666666,
             "#ed7953"
            ],
            [
             0.7777777777777778,
             "#fb9f3a"
            ],
            [
             0.8888888888888888,
             "#fdca26"
            ],
            [
             1,
             "#f0f921"
            ]
           ]
          },
          "colorway": [
           "#636efa",
           "#EF553B",
           "#00cc96",
           "#ab63fa",
           "#FFA15A",
           "#19d3f3",
           "#FF6692",
           "#B6E880",
           "#FF97FF",
           "#FECB52"
          ],
          "font": {
           "color": "#2a3f5f"
          },
          "geo": {
           "bgcolor": "white",
           "lakecolor": "white",
           "landcolor": "#E5ECF6",
           "showlakes": true,
           "showland": true,
           "subunitcolor": "white"
          },
          "hoverlabel": {
           "align": "left"
          },
          "hovermode": "closest",
          "mapbox": {
           "style": "light"
          },
          "paper_bgcolor": "white",
          "plot_bgcolor": "#E5ECF6",
          "polar": {
           "angularaxis": {
            "gridcolor": "white",
            "linecolor": "white",
            "ticks": ""
           },
           "bgcolor": "#E5ECF6",
           "radialaxis": {
            "gridcolor": "white",
            "linecolor": "white",
            "ticks": ""
           }
          },
          "scene": {
           "xaxis": {
            "backgroundcolor": "#E5ECF6",
            "gridcolor": "white",
            "gridwidth": 2,
            "linecolor": "white",
            "showbackground": true,
            "ticks": "",
            "zerolinecolor": "white"
           },
           "yaxis": {
            "backgroundcolor": "#E5ECF6",
            "gridcolor": "white",
            "gridwidth": 2,
            "linecolor": "white",
            "showbackground": true,
            "ticks": "",
            "zerolinecolor": "white"
           },
           "zaxis": {
            "backgroundcolor": "#E5ECF6",
            "gridcolor": "white",
            "gridwidth": 2,
            "linecolor": "white",
            "showbackground": true,
            "ticks": "",
            "zerolinecolor": "white"
           }
          },
          "shapedefaults": {
           "line": {
            "color": "#2a3f5f"
           }
          },
          "ternary": {
           "aaxis": {
            "gridcolor": "white",
            "linecolor": "white",
            "ticks": ""
           },
           "baxis": {
            "gridcolor": "white",
            "linecolor": "white",
            "ticks": ""
           },
           "bgcolor": "#E5ECF6",
           "caxis": {
            "gridcolor": "white",
            "linecolor": "white",
            "ticks": ""
           }
          },
          "title": {
           "x": 0.05
          },
          "xaxis": {
           "automargin": true,
           "gridcolor": "white",
           "linecolor": "white",
           "ticks": "",
           "title": {
            "standoff": 15
           },
           "zerolinecolor": "white",
           "zerolinewidth": 2
          },
          "yaxis": {
           "automargin": true,
           "gridcolor": "white",
           "linecolor": "white",
           "ticks": "",
           "title": {
            "standoff": 15
           },
           "zerolinecolor": "white",
           "zerolinewidth": 2
          }
         }
        },
        "title": {
         "text": "Segmentasi Risiko Attrition: Risiko Tinggi vs Risiko Rendah"
        },
        "width": 900,
        "xaxis": {
         "anchor": "y",
         "domain": [
          0,
          1
         ],
         "title": {
          "text": "UMAP Dimension 1"
         }
        },
        "yaxis": {
         "anchor": "x",
         "domain": [
          0,
          1
         ],
         "title": {
          "text": "UMAP Dimension 2"
         }
        }
       }
      }
     },
     "metadata": {},
     "output_type": "display_data"
    },
    {
     "name": "stdout",
     "output_type": "stream",
     "text": [
      "Visualisasi disimpan sebagai 'binary_risk_segmentation_colorblind.png'\n"
     ]
    },
    {
     "data": {
      "application/vnd.plotly.v1+json": {
       "config": {
        "plotlyServerURL": "https://plot.ly"
       },
       "data": [
        {
         "hovertemplate": "Risk Level=Risiko Tinggi<br>UMAP_1=%{x}<br>UMAP_2=%{y}<extra></extra>",
         "legendgroup": "Risiko Tinggi",
         "marker": {
          "color": "#FE6100",
          "line": {
           "color": "DarkSlateGrey",
           "width": 1
          },
          "opacity": 0.7,
          "size": 8,
          "symbol": "circle"
         },
         "mode": "markers",
         "name": "Risiko Tinggi",
         "showlegend": true,
         "type": "scattergl",
         "x": {
          "bdata": "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",
          "dtype": "f4"
         },
         "xaxis": "x",
         "y": {
          "bdata": "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",
          "dtype": "f4"
         },
         "yaxis": "y"
        },
        {
         "hovertemplate": "Risk Level=Risiko Rendah<br>UMAP_1=%{x}<br>UMAP_2=%{y}<extra></extra>",
         "legendgroup": "Risiko Rendah",
         "marker": {
          "color": "#648FFF",
          "line": {
           "color": "DarkSlateGrey",
           "width": 1
          },
          "opacity": 0.7,
          "size": 8,
          "symbol": "circle"
         },
         "mode": "markers",
         "name": "Risiko Rendah",
         "showlegend": true,
         "type": "scattergl",
         "x": {
          "bdata": "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",
          "dtype": "f4"
         },
         "xaxis": "x",
         "y": {
          "bdata": "8l3vQHt21kCEx+ZAYJCfQJq1EUGmEw1BWrKyQNP5rEDwKBVBFCLwQNmj0ECgLu1AlDYIQT4L5UC6qM1A6GzpQL12xUBeKOlAMpHhQJ6MB0FVKclAOLkWQYVC9EBN3MJAXnz1QFAw5EBaRttAvVrGQOHe6EAyjQFBuUHrQAPKzUDRrdJArRLgQJhpDUF5qOlAbLzzQNiW+EA53M1Ai3ejQKpD2kAxte9Ani73QNkoAUEa6L1A04UDQazyF0GGLQxBH0b3QPgC4UBUo89AyqKdQA9N8EB+hOhAxhinQLjTDkHUMcxAax0RQQU290BG5tlA4OnDQJsu0EAT+OpAainOQL0AAEFx2/xA05/8QISPEkEQTK9AY3fuQHln3UBlXgVBHx3DQGZ/60B1ROtAUNEYQeZX20CUx+hAcR3oQM8f7kB4FsdApInJQDe/1kDnnRdBs6UOQX0RzUA6YftAjtEOQTp5vEBobNBAHQT+QFcC7kApW5xAhoPlQF8e+UC/lr1A56wSQdJCEEEp8vhAUYEYQbS9EUHjpd5ArKrTQINpA0FbORFBdXLMQGJr5EAw0d5ARXqQQKn08UCk0RJBdTkSQSlgmkAQTvhADW4YQRBulEDgrM5AbiK0QKL9zEAddANBg6CcQA2vCEFnALBA3MABQSx1BkH7Yp5AbxMAQRuQAkHDrNRADHsBQat7wkBqus5A4a7AQGv/4EACGwlBUeL5QN36x0DUr+JA+0qqQHsmskDcVtpAkssPQTEnB0FB1N1Ac13SQMKLEkGTzBlBRaieQFj7FUGO5QRBRjO2QElJ8EDmU/5AJe4HQQbx8kAD75NAIzb/QLX27kCAM/xAO6DTQPlH70CMTrdA4g4LQc6qAUG26gNBAZMEQXf15kAo6tpAzUIUQWgNFEEIDr9AzrEDQV4P1UClQ/1AhQQUQbPOBUEEQKZAhtLRQHP0mECthdFAngsOQT7e4kDZUs9As5rgQMKSzEB4lPZAwTcAQaH/CkHUMABBjkEXQfTX90B8GcRA26sFQd5Px0B9281A5m74QGoX9ECJKtVAuUcKQV5XAUGJE6xAL83IQBom10C3oexAZBYLQbxz+kCiXApB4Dq7QIyI0ECh/phAabfvQNRMBkEqnQ1B3pHrQGeNn0AnQvdAg4PhQDq6xUCzA5dA7xXEQGct5kBLTu1AAMUZQV2dCkEv5NpAYIoTQS0ApEDlt9dAthmcQO6270CgJgRB7JgFQbJknkCl4ZNAG8b8QF/X7UCBuRFBnIYRQcMq8ECPJP9ALirxQFCe2EDqg/dA7ULGQHhT0kAGRhFByOMEQaADA0Eio7pAsXoTQTf120D/xvRAfxPBQM3f7UA8nAZBzbjwQOBX0EBkNtNA6tHNQHFsE0E2+wtBobPeQKLY90C/PMpACFoPQVt1E0EJ+A5BxlYMQWshyEAygexAwqPaQMR80EDZis1AiG6lQA1i7UCIeq9Ai56RQMZQFUEoVdFADAsHQZtO/EDNhwBBlVkLQUbhskDfMJ9AM8UIQbfey0AVSPxAz9vfQADPDEEQG8NAbtKwQCq2x0DfEuVAApMKQc241UC/+dVAngiqQPGYBEFh/PFAGuUQQUw0/0DzG/JAKq/yQKAM7kCoPABBMc8AQQ44E0HwwcdAs7GsQOl1A0HOaRJBFpeiQK2BD0HEkudA1cO0QNl3BkEe585AIGkJQeFPAUHZD8RA5XXMQG2azUDhLK5AfmDWQDfjFEF0TwBBYxEOQX2c+ECPkA9BYw/ZQNjD60DWXAZB5vH2QI+R6EAiiZlAqoTyQNAR5EC1BBZBQIQEQRTH6ECb5AlBEcYKQR+hk0C+wwhBC2HtQHh8E0G2pgFBi2z3QMBODEGqCpRAaUflQEQHuEBfgbZAOJ3qQOep9kDqQv5ANjrXQHHlAUGiHwtBfacaQYB8qUDQas1AVlzxQJWamkCOdJ1ArEjaQC2FnUDNYsBAIk7qQFnhwkAZmtVAdwwAQUiDBUHBIgNB/9zEQP8VG0ExhQtBsMoEQar5pkAg7rJA5e4JQZGnFEFunARBR1PiQNp5wEBIsLlAUQoAQSAsr0BJ+a5A7rMJQWM/BUES9wBB+ncSQbJJvkCcaeRA7wf0QM7qwUBKDRNBlIG+QFt+xUBdptFAw4YaQZoB3UBJOfZAFrPRQOv11kA9ohJBsvsFQVXY2UB3/wVBiesCQbCACEF3JtBAn/EQQbEB/0CLw9ZA7WPbQHNdwUAhrNhAt53LQCqwBkEkwg5Ba6AQQfRC30DNzeBALBbhQDIRvECs0xBBBqbSQLW3lUAmz9VA5s2tQB5ACkH2RvlAIJb3QFteBkG+lRNBF6CTQDM3EEEMqPJAnWMGQcJ+/EAL8exACHENQQl/zUC+8A5BLAPEQPP4/0DZGOpA5x3SQN096UBju6JAegf1QK0in0A7JhBB080ZQQdh8kA99tNA0TPeQOidqEBWb75A6kICQXbd+0DOENFAR1eTQDos8ECkQwZB3k0DQbiEmUA/sw5BHscCQe1C5UC1Xu9AagiYQOOVA0GSANhArR3VQDDdxkAPkfBAT8kAQQEXBkGrIxJBhOD1QBTGDEGKq8lA1Ov1QG+unEAHvgRBPo6uQFlk6kD6bf1AuFurQJg1w0CXZ/NAlIukQLMS10Dm475AxSLEQIC5C0FC9ZhAciy2QJDj10DjRvxABIMDQYK3A0FXx8FAWICdQLMo6UCqvP9Aq3rKQGXsFEGxyeVAlabOQCSs0UBBDqZA33PGQJdYsECTErBA0EmzQIVkA0Gr0v9AgePXQDghzEDyEQFBS+ueQEtio0ACUZBAnNveQAc6EkG1EsFA9+8KQdHR8kB5k8lAGz3sQHppF0EQ9bFAcJsNQc4JvEC5PMVAo5L2QNTv/0AaywRBVHOrQAbMnUA/Q/ZAHQP5QHlA7kDuXBFBo54AQVIcyECX2sVASZbmQJn25UAXqRJBqb0JQdfNDEHjRbxAV8XkQOJ3BUFwjANBhMH4QHCXEEGHbwJBzE0FQSEm+UA5se1Aj0sRQS8mCEGvDBVBYzXyQAs2lkCGhRBB9ni4QBzp3kDkvhJBpVzrQH3vBkHsnRBB4R6tQGpcxkAlqclAmhz/QJ30AUEV3J5AndjsQA==",
          "dtype": "f4"
         },
         "yaxis": "y"
        }
       ],
       "layout": {
        "font": {
         "size": 12
        },
        "height": 700,
        "legend": {
         "title": {
          "text": "Level Risiko"
         },
         "tracegroupgap": 0
        },
        "template": {
         "data": {
          "bar": [
           {
            "error_x": {
             "color": "#2a3f5f"
            },
            "error_y": {
             "color": "#2a3f5f"
            },
            "marker": {
             "line": {
              "color": "#E5ECF6",
              "width": 0.5
             },
             "pattern": {
              "fillmode": "overlay",
              "size": 10,
              "solidity": 0.2
             }
            },
            "type": "bar"
           }
          ],
          "barpolar": [
           {
            "marker": {
             "line": {
              "color": "#E5ECF6",
              "width": 0.5
             },
             "pattern": {
              "fillmode": "overlay",
              "size": 10,
              "solidity": 0.2
             }
            },
            "type": "barpolar"
           }
          ],
          "carpet": [
           {
            "aaxis": {
             "endlinecolor": "#2a3f5f",
             "gridcolor": "white",
             "linecolor": "white",
             "minorgridcolor": "white",
             "startlinecolor": "#2a3f5f"
            },
            "baxis": {
             "endlinecolor": "#2a3f5f",
             "gridcolor": "white",
             "linecolor": "white",
             "minorgridcolor": "white",
             "startlinecolor": "#2a3f5f"
            },
            "type": "carpet"
           }
          ],
          "choropleth": [
           {
            "colorbar": {
             "outlinewidth": 0,
             "ticks": ""
            },
            "type": "choropleth"
           }
          ],
          "contour": [
           {
            "colorbar": {
             "outlinewidth": 0,
             "ticks": ""
            },
            "colorscale": [
             [
              0,
              "#0d0887"
             ],
             [
              0.1111111111111111,
              "#46039f"
             ],
             [
              0.2222222222222222,
              "#7201a8"
             ],
             [
              0.3333333333333333,
              "#9c179e"
             ],
             [
              0.4444444444444444,
              "#bd3786"
             ],
             [
              0.5555555555555556,
              "#d8576b"
             ],
             [
              0.6666666666666666,
              "#ed7953"
             ],
             [
              0.7777777777777778,
              "#fb9f3a"
             ],
             [
              0.8888888888888888,
              "#fdca26"
             ],
             [
              1,
              "#f0f921"
             ]
            ],
            "type": "contour"
           }
          ],
          "contourcarpet": [
           {
            "colorbar": {
             "outlinewidth": 0,
             "ticks": ""
            },
            "type": "contourcarpet"
           }
          ],
          "heatmap": [
           {
            "colorbar": {
             "outlinewidth": 0,
             "ticks": ""
            },
            "colorscale": [
             [
              0,
              "#0d0887"
             ],
             [
              0.1111111111111111,
              "#46039f"
             ],
             [
              0.2222222222222222,
              "#7201a8"
             ],
             [
              0.3333333333333333,
              "#9c179e"
             ],
             [
              0.4444444444444444,
              "#bd3786"
             ],
             [
              0.5555555555555556,
              "#d8576b"
             ],
             [
              0.6666666666666666,
              "#ed7953"
             ],
             [
              0.7777777777777778,
              "#fb9f3a"
             ],
             [
              0.8888888888888888,
              "#fdca26"
             ],
             [
              1,
              "#f0f921"
             ]
            ],
            "type": "heatmap"
           }
          ],
          "histogram": [
           {
            "marker": {
             "pattern": {
              "fillmode": "overlay",
              "size": 10,
              "solidity": 0.2
             }
            },
            "type": "histogram"
           }
          ],
          "histogram2d": [
           {
            "colorbar": {
             "outlinewidth": 0,
             "ticks": ""
            },
            "colorscale": [
             [
              0,
              "#0d0887"
             ],
             [
              0.1111111111111111,
              "#46039f"
             ],
             [
              0.2222222222222222,
              "#7201a8"
             ],
             [
              0.3333333333333333,
              "#9c179e"
             ],
             [
              0.4444444444444444,
              "#bd3786"
             ],
             [
              0.5555555555555556,
              "#d8576b"
             ],
             [
              0.6666666666666666,
              "#ed7953"
             ],
             [
              0.7777777777777778,
              "#fb9f3a"
             ],
             [
              0.8888888888888888,
              "#fdca26"
             ],
             [
              1,
              "#f0f921"
             ]
            ],
            "type": "histogram2d"
           }
          ],
          "histogram2dcontour": [
           {
            "colorbar": {
             "outlinewidth": 0,
             "ticks": ""
            },
            "colorscale": [
             [
              0,
              "#0d0887"
             ],
             [
              0.1111111111111111,
              "#46039f"
             ],
             [
              0.2222222222222222,
              "#7201a8"
             ],
             [
              0.3333333333333333,
              "#9c179e"
             ],
             [
              0.4444444444444444,
              "#bd3786"
             ],
             [
              0.5555555555555556,
              "#d8576b"
             ],
             [
              0.6666666666666666,
              "#ed7953"
             ],
             [
              0.7777777777777778,
              "#fb9f3a"
             ],
             [
              0.8888888888888888,
              "#fdca26"
             ],
             [
              1,
              "#f0f921"
             ]
            ],
            "type": "histogram2dcontour"
           }
          ],
          "mesh3d": [
           {
            "colorbar": {
             "outlinewidth": 0,
             "ticks": ""
            },
            "type": "mesh3d"
           }
          ],
          "parcoords": [
           {
            "line": {
             "colorbar": {
              "outlinewidth": 0,
              "ticks": ""
             }
            },
            "type": "parcoords"
           }
          ],
          "pie": [
           {
            "automargin": true,
            "type": "pie"
           }
          ],
          "scatter": [
           {
            "fillpattern": {
             "fillmode": "overlay",
             "size": 10,
             "solidity": 0.2
            },
            "type": "scatter"
           }
          ],
          "scatter3d": [
           {
            "line": {
             "colorbar": {
              "outlinewidth": 0,
              "ticks": ""
             }
            },
            "marker": {
             "colorbar": {
              "outlinewidth": 0,
              "ticks": ""
             }
            },
            "type": "scatter3d"
           }
          ],
          "scattercarpet": [
           {
            "marker": {
             "colorbar": {
              "outlinewidth": 0,
              "ticks": ""
             }
            },
            "type": "scattercarpet"
           }
          ],
          "scattergeo": [
           {
            "marker": {
             "colorbar": {
              "outlinewidth": 0,
              "ticks": ""
             }
            },
            "type": "scattergeo"
           }
          ],
          "scattergl": [
           {
            "marker": {
             "colorbar": {
              "outlinewidth": 0,
              "ticks": ""
             }
            },
            "type": "scattergl"
           }
          ],
          "scattermap": [
           {
            "marker": {
             "colorbar": {
              "outlinewidth": 0,
              "ticks": ""
             }
            },
            "type": "scattermap"
           }
          ],
          "scattermapbox": [
           {
            "marker": {
             "colorbar": {
              "outlinewidth": 0,
              "ticks": ""
             }
            },
            "type": "scattermapbox"
           }
          ],
          "scatterpolar": [
           {
            "marker": {
             "colorbar": {
              "outlinewidth": 0,
              "ticks": ""
             }
            },
            "type": "scatterpolar"
           }
          ],
          "scatterpolargl": [
           {
            "marker": {
             "colorbar": {
              "outlinewidth": 0,
              "ticks": ""
             }
            },
            "type": "scatterpolargl"
           }
          ],
          "scatterternary": [
           {
            "marker": {
             "colorbar": {
              "outlinewidth": 0,
              "ticks": ""
             }
            },
            "type": "scatterternary"
           }
          ],
          "surface": [
           {
            "colorbar": {
             "outlinewidth": 0,
             "ticks": ""
            },
            "colorscale": [
             [
              0,
              "#0d0887"
             ],
             [
              0.1111111111111111,
              "#46039f"
             ],
             [
              0.2222222222222222,
              "#7201a8"
             ],
             [
              0.3333333333333333,
              "#9c179e"
             ],
             [
              0.4444444444444444,
              "#bd3786"
             ],
             [
              0.5555555555555556,
              "#d8576b"
             ],
             [
              0.6666666666666666,
              "#ed7953"
             ],
             [
              0.7777777777777778,
              "#fb9f3a"
             ],
             [
              0.8888888888888888,
              "#fdca26"
             ],
             [
              1,
              "#f0f921"
             ]
            ],
            "type": "surface"
           }
          ],
          "table": [
           {
            "cells": {
             "fill": {
              "color": "#EBF0F8"
             },
             "line": {
              "color": "white"
             }
            },
            "header": {
             "fill": {
              "color": "#C8D4E3"
             },
             "line": {
              "color": "white"
             }
            },
            "type": "table"
           }
          ]
         },
         "layout": {
          "annotationdefaults": {
           "arrowcolor": "#2a3f5f",
           "arrowhead": 0,
           "arrowwidth": 1
          },
          "autotypenumbers": "strict",
          "coloraxis": {
           "colorbar": {
            "outlinewidth": 0,
            "ticks": ""
           }
          },
          "colorscale": {
           "diverging": [
            [
             0,
             "#8e0152"
            ],
            [
             0.1,
             "#c51b7d"
            ],
            [
             0.2,
             "#de77ae"
            ],
            [
             0.3,
             "#f1b6da"
            ],
            [
             0.4,
             "#fde0ef"
            ],
            [
             0.5,
             "#f7f7f7"
            ],
            [
             0.6,
             "#e6f5d0"
            ],
            [
             0.7,
             "#b8e186"
            ],
            [
             0.8,
             "#7fbc41"
            ],
            [
             0.9,
             "#4d9221"
            ],
            [
             1,
             "#276419"
            ]
           ],
           "sequential": [
            [
             0,
             "#0d0887"
            ],
            [
             0.1111111111111111,
             "#46039f"
            ],
            [
             0.2222222222222222,
             "#7201a8"
            ],
            [
             0.3333333333333333,
             "#9c179e"
            ],
            [
             0.4444444444444444,
             "#bd3786"
            ],
            [
             0.5555555555555556,
             "#d8576b"
            ],
            [
             0.6666666666666666,
             "#ed7953"
            ],
            [
             0.7777777777777778,
             "#fb9f3a"
            ],
            [
             0.8888888888888888,
             "#fdca26"
            ],
            [
             1,
             "#f0f921"
            ]
           ],
           "sequentialminus": [
            [
             0,
             "#0d0887"
            ],
            [
             0.1111111111111111,
             "#46039f"
            ],
            [
             0.2222222222222222,
             "#7201a8"
            ],
            [
             0.3333333333333333,
             "#9c179e"
            ],
            [
             0.4444444444444444,
             "#bd3786"
            ],
            [
             0.5555555555555556,
             "#d8576b"
            ],
            [
             0.6666666666666666,
             "#ed7953"
            ],
            [
             0.7777777777777778,
             "#fb9f3a"
            ],
            [
             0.8888888888888888,
             "#fdca26"
            ],
            [
             1,
             "#f0f921"
            ]
           ]
          },
          "colorway": [
           "#636efa",
           "#EF553B",
           "#00cc96",
           "#ab63fa",
           "#FFA15A",
           "#19d3f3",
           "#FF6692",
           "#B6E880",
           "#FF97FF",
           "#FECB52"
          ],
          "font": {
           "color": "#2a3f5f"
          },
          "geo": {
           "bgcolor": "white",
           "lakecolor": "white",
           "landcolor": "#E5ECF6",
           "showlakes": true,
           "showland": true,
           "subunitcolor": "white"
          },
          "hoverlabel": {
           "align": "left"
          },
          "hovermode": "closest",
          "mapbox": {
           "style": "light"
          },
          "paper_bgcolor": "white",
          "plot_bgcolor": "#E5ECF6",
          "polar": {
           "angularaxis": {
            "gridcolor": "white",
            "linecolor": "white",
            "ticks": ""
           },
           "bgcolor": "#E5ECF6",
           "radialaxis": {
            "gridcolor": "white",
            "linecolor": "white",
            "ticks": ""
           }
          },
          "scene": {
           "xaxis": {
            "backgroundcolor": "#E5ECF6",
            "gridcolor": "white",
            "gridwidth": 2,
            "linecolor": "white",
            "showbackground": true,
            "ticks": "",
            "zerolinecolor": "white"
           },
           "yaxis": {
            "backgroundcolor": "#E5ECF6",
            "gridcolor": "white",
            "gridwidth": 2,
            "linecolor": "white",
            "showbackground": true,
            "ticks": "",
            "zerolinecolor": "white"
           },
           "zaxis": {
            "backgroundcolor": "#E5ECF6",
            "gridcolor": "white",
            "gridwidth": 2,
            "linecolor": "white",
            "showbackground": true,
            "ticks": "",
            "zerolinecolor": "white"
           }
          },
          "shapedefaults": {
           "line": {
            "color": "#2a3f5f"
           }
          },
          "ternary": {
           "aaxis": {
            "gridcolor": "white",
            "linecolor": "white",
            "ticks": ""
           },
           "baxis": {
            "gridcolor": "white",
            "linecolor": "white",
            "ticks": ""
           },
           "bgcolor": "#E5ECF6",
           "caxis": {
            "gridcolor": "white",
            "linecolor": "white",
            "ticks": ""
           }
          },
          "title": {
           "x": 0.05
          },
          "xaxis": {
           "automargin": true,
           "gridcolor": "white",
           "linecolor": "white",
           "ticks": "",
           "title": {
            "standoff": 15
           },
           "zerolinecolor": "white",
           "zerolinewidth": 2
          },
          "yaxis": {
           "automargin": true,
           "gridcolor": "white",
           "linecolor": "white",
           "ticks": "",
           "title": {
            "standoff": 15
           },
           "zerolinecolor": "white",
           "zerolinewidth": 2
          }
         }
        },
        "title": {
         "text": "Segmentasi Risiko Attrition: Risiko Tinggi vs Risiko Rendah"
        },
        "width": 900,
        "xaxis": {
         "anchor": "y",
         "domain": [
          0,
          1
         ],
         "title": {
          "text": "UMAP Dimension 1"
         }
        },
        "yaxis": {
         "anchor": "x",
         "domain": [
          0,
          1
         ],
         "title": {
          "text": "UMAP Dimension 2"
         }
        }
       }
      }
     },
     "metadata": {},
     "output_type": "display_data"
    }
   ],
   "source": [
    "# 14. Visualisasi segmentasi dengan UMAP menggunakan Plotly (colorblind friendly)\n",
    "umap_cluster_df = pd.DataFrame(X_umap, columns=['UMAP_1', 'UMAP_2'])\n",
    "umap_cluster_df['Risk Level'] = df['RiskLevel']\n",
    "\n",
    "fig = px.scatter(\n",
    "    umap_cluster_df, \n",
    "    x='UMAP_1', \n",
    "    y='UMAP_2', \n",
    "    color='Risk Level',\n",
    "    color_discrete_map={\n",
    "        'Risiko Tinggi': HIGH_RISK_COLOR,\n",
    "        'Risiko Rendah': LOW_RISK_COLOR\n",
    "    },\n",
    "    title='Segmentasi Risiko Attrition: Risiko Tinggi vs Risiko Rendah',\n",
    "    opacity=0.7,\n",
    "    width=900,\n",
    "    height=700\n",
    ")\n",
    "fig.update_traces(marker=dict(size=8, line=dict(width=1, color='DarkSlateGrey')))\n",
    "fig.update_layout(\n",
    "    legend_title_text='Level Risiko',\n",
    "    xaxis_title='UMAP Dimension 1',\n",
    "    yaxis_title='UMAP Dimension 2',\n",
    "    font=dict(size=12)\n",
    ")\n",
    "\n",
    "# Tampilkan dan simpan visualisasi segmentasi\n",
    "display_and_save_figure(fig, \"binary_risk_segmentation_colorblind.png\")"
   ]
  },
  {
   "cell_type": "code",
   "execution_count": 25,
   "id": "3e0b952f",
   "metadata": {},
   "outputs": [
    {
     "name": "stdout",
     "output_type": "stream",
     "text": [
      "\n",
      "================================================================================\n",
      "ANALISIS PROFIL RISIKO\n",
      "================================================================================\n",
      "\n",
      "Profil rata-rata berdasarkan level risiko:\n",
      "               SalaryPerLevel        Age   MonthlyRate   DailyRate  \\\n",
      "RiskLevel                                                            \n",
      "Risiko Rendah     3020.368629  37.547782  13989.883959  825.015358   \n",
      "Risiko Tinggi     2932.708651  36.444915  14611.677966  790.332627   \n",
      "\n",
      "               StockOptionLevel  MonthlyIncome  \n",
      "RiskLevel                                       \n",
      "Risiko Rendah          1.372014    6940.064846  \n",
      "Risiko Tinggi          0.006356    6235.957627  \n",
      "\n",
      "Perbedaan persentase (Risiko Tinggi vs Risiko Rendah):\n",
      "SalaryPerLevel: -2.9%\n",
      "Age: -2.9%\n",
      "MonthlyRate: +4.4%\n",
      "DailyRate: -4.2%\n",
      "StockOptionLevel: -99.5%\n",
      "MonthlyIncome: -10.1%\n"
     ]
    }
   ],
   "source": [
    "# 15. Analisis profil untuk setiap level risiko\n",
    "print_header(\"ANALISIS PROFIL RISIKO\")\n",
    "\n",
    "# Pilih fitur penting untuk analisis profil\n",
    "profile_features = top_features[:6]  # Gunakan 6 fitur teratas untuk profil\n",
    "profile_features = list(set(profile_features))  # Hapus duplikat\n",
    "\n",
    "# Hitung profil rata-rata\n",
    "profile_by_risk = df.groupby('RiskLevel')[profile_features].mean()\n",
    "\n",
    "print(\"\\nProfil rata-rata berdasarkan level risiko:\")\n",
    "print(profile_by_risk)\n",
    "\n",
    "# Hitung persentase perbedaan antara risiko tinggi vs rendah\n",
    "high_profile = profile_by_risk.loc['Risiko Tinggi'] if 'Risiko Tinggi' in profile_by_risk.index else profile_by_risk.iloc[0]\n",
    "low_profile = profile_by_risk.loc['Risiko Rendah'] if 'Risiko Rendah' in profile_by_risk.index else profile_by_risk.iloc[1]\n",
    "\n",
    "# Hitung perbedaan persentase\n",
    "pct_diff = (high_profile - low_profile) / low_profile * 100\n",
    "\n",
    "print(\"\\nPerbedaan persentase (Risiko Tinggi vs Risiko Rendah):\")\n",
    "for feature, diff in pct_diff.items():\n",
    "    print(f\"{feature}: {diff:+.1f}%\")"
   ]
  },
  {
   "cell_type": "code",
   "execution_count": 26,
   "id": "920b187b",
   "metadata": {},
   "outputs": [
    {
     "name": "stdout",
     "output_type": "stream",
     "text": [
      "\n",
      "Membuat visualisasi perbedaan profil...\n"
     ]
    },
    {
     "data": {
      "application/vnd.plotly.v1+json": {
       "config": {
        "plotlyServerURL": "https://plot.ly"
       },
       "data": [
        {
         "hovertemplate": "Fitur=%{x}<br>Perbedaan (%)=%{marker.color}<br>text=%{text}<extra></extra>",
         "legendgroup": "",
         "marker": {
          "color": {
           "bdata": "HYSIBFriWMAXzHWHhEokwI363IRExxFAHB0cUsjQEMCyUB+xdH8HwFn72+zlNwfA",
           "dtype": "f8"
          },
          "coloraxis": "coloraxis",
          "pattern": {
           "shape": ""
          }
         },
         "name": "",
         "orientation": "v",
         "showlegend": false,
         "text": [
          "-99.5%",
          "-10.1%",
          "+4.4%",
          "-4.2%",
          "-2.9%",
          "-2.9%"
         ],
         "textposition": "outside",
         "type": "bar",
         "x": [
          "StockOptionLevel",
          "MonthlyIncome",
          "MonthlyRate",
          "DailyRate",
          "Age",
          "SalaryPerLevel"
         ],
         "xaxis": "x",
         "y": {
          "bdata": "HYSIBFriWMAXzHWHhEokwI363IRExxFAHB0cUsjQEMCyUB+xdH8HwFn72+zlNwfA",
          "dtype": "f8"
         },
         "yaxis": "y"
        }
       ],
       "layout": {
        "barmode": "relative",
        "coloraxis": {
         "colorbar": {
          "title": {
           "text": "Perbedaan (%)"
          }
         },
         "colorscale": [
          [
           0,
           "#648FFF"
          ],
          [
           0.5,
           "#FFFFFF"
          ],
          [
           1,
           "#FE6100"
          ]
         ]
        },
        "font": {
         "size": 12
        },
        "height": 600,
        "legend": {
         "tracegroupgap": 0
        },
        "shapes": [
         {
          "line": {
           "color": "black",
           "dash": "dash",
           "width": 1
          },
          "type": "line",
          "x0": -0.5,
          "x1": 5.5,
          "y0": 0,
          "y1": 0
         }
        ],
        "template": {
         "data": {
          "bar": [
           {
            "error_x": {
             "color": "#2a3f5f"
            },
            "error_y": {
             "color": "#2a3f5f"
            },
            "marker": {
             "line": {
              "color": "#E5ECF6",
              "width": 0.5
             },
             "pattern": {
              "fillmode": "overlay",
              "size": 10,
              "solidity": 0.2
             }
            },
            "type": "bar"
           }
          ],
          "barpolar": [
           {
            "marker": {
             "line": {
              "color": "#E5ECF6",
              "width": 0.5
             },
             "pattern": {
              "fillmode": "overlay",
              "size": 10,
              "solidity": 0.2
             }
            },
            "type": "barpolar"
           }
          ],
          "carpet": [
           {
            "aaxis": {
             "endlinecolor": "#2a3f5f",
             "gridcolor": "white",
             "linecolor": "white",
             "minorgridcolor": "white",
             "startlinecolor": "#2a3f5f"
            },
            "baxis": {
             "endlinecolor": "#2a3f5f",
             "gridcolor": "white",
             "linecolor": "white",
             "minorgridcolor": "white",
             "startlinecolor": "#2a3f5f"
            },
            "type": "carpet"
           }
          ],
          "choropleth": [
           {
            "colorbar": {
             "outlinewidth": 0,
             "ticks": ""
            },
            "type": "choropleth"
           }
          ],
          "contour": [
           {
            "colorbar": {
             "outlinewidth": 0,
             "ticks": ""
            },
            "colorscale": [
             [
              0,
              "#0d0887"
             ],
             [
              0.1111111111111111,
              "#46039f"
             ],
             [
              0.2222222222222222,
              "#7201a8"
             ],
             [
              0.3333333333333333,
              "#9c179e"
             ],
             [
              0.4444444444444444,
              "#bd3786"
             ],
             [
              0.5555555555555556,
              "#d8576b"
             ],
             [
              0.6666666666666666,
              "#ed7953"
             ],
             [
              0.7777777777777778,
              "#fb9f3a"
             ],
             [
              0.8888888888888888,
              "#fdca26"
             ],
             [
              1,
              "#f0f921"
             ]
            ],
            "type": "contour"
           }
          ],
          "contourcarpet": [
           {
            "colorbar": {
             "outlinewidth": 0,
             "ticks": ""
            },
            "type": "contourcarpet"
           }
          ],
          "heatmap": [
           {
            "colorbar": {
             "outlinewidth": 0,
             "ticks": ""
            },
            "colorscale": [
             [
              0,
              "#0d0887"
             ],
             [
              0.1111111111111111,
              "#46039f"
             ],
             [
              0.2222222222222222,
              "#7201a8"
             ],
             [
              0.3333333333333333,
              "#9c179e"
             ],
             [
              0.4444444444444444,
              "#bd3786"
             ],
             [
              0.5555555555555556,
              "#d8576b"
             ],
             [
              0.6666666666666666,
              "#ed7953"
             ],
             [
              0.7777777777777778,
              "#fb9f3a"
             ],
             [
              0.8888888888888888,
              "#fdca26"
             ],
             [
              1,
              "#f0f921"
             ]
            ],
            "type": "heatmap"
           }
          ],
          "histogram": [
           {
            "marker": {
             "pattern": {
              "fillmode": "overlay",
              "size": 10,
              "solidity": 0.2
             }
            },
            "type": "histogram"
           }
          ],
          "histogram2d": [
           {
            "colorbar": {
             "outlinewidth": 0,
             "ticks": ""
            },
            "colorscale": [
             [
              0,
              "#0d0887"
             ],
             [
              0.1111111111111111,
              "#46039f"
             ],
             [
              0.2222222222222222,
              "#7201a8"
             ],
             [
              0.3333333333333333,
              "#9c179e"
             ],
             [
              0.4444444444444444,
              "#bd3786"
             ],
             [
              0.5555555555555556,
              "#d8576b"
             ],
             [
              0.6666666666666666,
              "#ed7953"
             ],
             [
              0.7777777777777778,
              "#fb9f3a"
             ],
             [
              0.8888888888888888,
              "#fdca26"
             ],
             [
              1,
              "#f0f921"
             ]
            ],
            "type": "histogram2d"
           }
          ],
          "histogram2dcontour": [
           {
            "colorbar": {
             "outlinewidth": 0,
             "ticks": ""
            },
            "colorscale": [
             [
              0,
              "#0d0887"
             ],
             [
              0.1111111111111111,
              "#46039f"
             ],
             [
              0.2222222222222222,
              "#7201a8"
             ],
             [
              0.3333333333333333,
              "#9c179e"
             ],
             [
              0.4444444444444444,
              "#bd3786"
             ],
             [
              0.5555555555555556,
              "#d8576b"
             ],
             [
              0.6666666666666666,
              "#ed7953"
             ],
             [
              0.7777777777777778,
              "#fb9f3a"
             ],
             [
              0.8888888888888888,
              "#fdca26"
             ],
             [
              1,
              "#f0f921"
             ]
            ],
            "type": "histogram2dcontour"
           }
          ],
          "mesh3d": [
           {
            "colorbar": {
             "outlinewidth": 0,
             "ticks": ""
            },
            "type": "mesh3d"
           }
          ],
          "parcoords": [
           {
            "line": {
             "colorbar": {
              "outlinewidth": 0,
              "ticks": ""
             }
            },
            "type": "parcoords"
           }
          ],
          "pie": [
           {
            "automargin": true,
            "type": "pie"
           }
          ],
          "scatter": [
           {
            "fillpattern": {
             "fillmode": "overlay",
             "size": 10,
             "solidity": 0.2
            },
            "type": "scatter"
           }
          ],
          "scatter3d": [
           {
            "line": {
             "colorbar": {
              "outlinewidth": 0,
              "ticks": ""
             }
            },
            "marker": {
             "colorbar": {
              "outlinewidth": 0,
              "ticks": ""
             }
            },
            "type": "scatter3d"
           }
          ],
          "scattercarpet": [
           {
            "marker": {
             "colorbar": {
              "outlinewidth": 0,
              "ticks": ""
             }
            },
            "type": "scattercarpet"
           }
          ],
          "scattergeo": [
           {
            "marker": {
             "colorbar": {
              "outlinewidth": 0,
              "ticks": ""
             }
            },
            "type": "scattergeo"
           }
          ],
          "scattergl": [
           {
            "marker": {
             "colorbar": {
              "outlinewidth": 0,
              "ticks": ""
             }
            },
            "type": "scattergl"
           }
          ],
          "scattermap": [
           {
            "marker": {
             "colorbar": {
              "outlinewidth": 0,
              "ticks": ""
             }
            },
            "type": "scattermap"
           }
          ],
          "scattermapbox": [
           {
            "marker": {
             "colorbar": {
              "outlinewidth": 0,
              "ticks": ""
             }
            },
            "type": "scattermapbox"
           }
          ],
          "scatterpolar": [
           {
            "marker": {
             "colorbar": {
              "outlinewidth": 0,
              "ticks": ""
             }
            },
            "type": "scatterpolar"
           }
          ],
          "scatterpolargl": [
           {
            "marker": {
             "colorbar": {
              "outlinewidth": 0,
              "ticks": ""
             }
            },
            "type": "scatterpolargl"
           }
          ],
          "scatterternary": [
           {
            "marker": {
             "colorbar": {
              "outlinewidth": 0,
              "ticks": ""
             }
            },
            "type": "scatterternary"
           }
          ],
          "surface": [
           {
            "colorbar": {
             "outlinewidth": 0,
             "ticks": ""
            },
            "colorscale": [
             [
              0,
              "#0d0887"
             ],
             [
              0.1111111111111111,
              "#46039f"
             ],
             [
              0.2222222222222222,
              "#7201a8"
             ],
             [
              0.3333333333333333,
              "#9c179e"
             ],
             [
              0.4444444444444444,
              "#bd3786"
             ],
             [
              0.5555555555555556,
              "#d8576b"
             ],
             [
              0.6666666666666666,
              "#ed7953"
             ],
             [
              0.7777777777777778,
              "#fb9f3a"
             ],
             [
              0.8888888888888888,
              "#fdca26"
             ],
             [
              1,
              "#f0f921"
             ]
            ],
            "type": "surface"
           }
          ],
          "table": [
           {
            "cells": {
             "fill": {
              "color": "#EBF0F8"
             },
             "line": {
              "color": "white"
             }
            },
            "header": {
             "fill": {
              "color": "#C8D4E3"
             },
             "line": {
              "color": "white"
             }
            },
            "type": "table"
           }
          ]
         },
         "layout": {
          "annotationdefaults": {
           "arrowcolor": "#2a3f5f",
           "arrowhead": 0,
           "arrowwidth": 1
          },
          "autotypenumbers": "strict",
          "coloraxis": {
           "colorbar": {
            "outlinewidth": 0,
            "ticks": ""
           }
          },
          "colorscale": {
           "diverging": [
            [
             0,
             "#8e0152"
            ],
            [
             0.1,
             "#c51b7d"
            ],
            [
             0.2,
             "#de77ae"
            ],
            [
             0.3,
             "#f1b6da"
            ],
            [
             0.4,
             "#fde0ef"
            ],
            [
             0.5,
             "#f7f7f7"
            ],
            [
             0.6,
             "#e6f5d0"
            ],
            [
             0.7,
             "#b8e186"
            ],
            [
             0.8,
             "#7fbc41"
            ],
            [
             0.9,
             "#4d9221"
            ],
            [
             1,
             "#276419"
            ]
           ],
           "sequential": [
            [
             0,
             "#0d0887"
            ],
            [
             0.1111111111111111,
             "#46039f"
            ],
            [
             0.2222222222222222,
             "#7201a8"
            ],
            [
             0.3333333333333333,
             "#9c179e"
            ],
            [
             0.4444444444444444,
             "#bd3786"
            ],
            [
             0.5555555555555556,
             "#d8576b"
            ],
            [
             0.6666666666666666,
             "#ed7953"
            ],
            [
             0.7777777777777778,
             "#fb9f3a"
            ],
            [
             0.8888888888888888,
             "#fdca26"
            ],
            [
             1,
             "#f0f921"
            ]
           ],
           "sequentialminus": [
            [
             0,
             "#0d0887"
            ],
            [
             0.1111111111111111,
             "#46039f"
            ],
            [
             0.2222222222222222,
             "#7201a8"
            ],
            [
             0.3333333333333333,
             "#9c179e"
            ],
            [
             0.4444444444444444,
             "#bd3786"
            ],
            [
             0.5555555555555556,
             "#d8576b"
            ],
            [
             0.6666666666666666,
             "#ed7953"
            ],
            [
             0.7777777777777778,
             "#fb9f3a"
            ],
            [
             0.8888888888888888,
             "#fdca26"
            ],
            [
             1,
             "#f0f921"
            ]
           ]
          },
          "colorway": [
           "#636efa",
           "#EF553B",
           "#00cc96",
           "#ab63fa",
           "#FFA15A",
           "#19d3f3",
           "#FF6692",
           "#B6E880",
           "#FF97FF",
           "#FECB52"
          ],
          "font": {
           "color": "#2a3f5f"
          },
          "geo": {
           "bgcolor": "white",
           "lakecolor": "white",
           "landcolor": "#E5ECF6",
           "showlakes": true,
           "showland": true,
           "subunitcolor": "white"
          },
          "hoverlabel": {
           "align": "left"
          },
          "hovermode": "closest",
          "mapbox": {
           "style": "light"
          },
          "paper_bgcolor": "white",
          "plot_bgcolor": "#E5ECF6",
          "polar": {
           "angularaxis": {
            "gridcolor": "white",
            "linecolor": "white",
            "ticks": ""
           },
           "bgcolor": "#E5ECF6",
           "radialaxis": {
            "gridcolor": "white",
            "linecolor": "white",
            "ticks": ""
           }
          },
          "scene": {
           "xaxis": {
            "backgroundcolor": "#E5ECF6",
            "gridcolor": "white",
            "gridwidth": 2,
            "linecolor": "white",
            "showbackground": true,
            "ticks": "",
            "zerolinecolor": "white"
           },
           "yaxis": {
            "backgroundcolor": "#E5ECF6",
            "gridcolor": "white",
            "gridwidth": 2,
            "linecolor": "white",
            "showbackground": true,
            "ticks": "",
            "zerolinecolor": "white"
           },
           "zaxis": {
            "backgroundcolor": "#E5ECF6",
            "gridcolor": "white",
            "gridwidth": 2,
            "linecolor": "white",
            "showbackground": true,
            "ticks": "",
            "zerolinecolor": "white"
           }
          },
          "shapedefaults": {
           "line": {
            "color": "#2a3f5f"
           }
          },
          "ternary": {
           "aaxis": {
            "gridcolor": "white",
            "linecolor": "white",
            "ticks": ""
           },
           "baxis": {
            "gridcolor": "white",
            "linecolor": "white",
            "ticks": ""
           },
           "bgcolor": "#E5ECF6",
           "caxis": {
            "gridcolor": "white",
            "linecolor": "white",
            "ticks": ""
           }
          },
          "title": {
           "x": 0.05
          },
          "xaxis": {
           "automargin": true,
           "gridcolor": "white",
           "linecolor": "white",
           "ticks": "",
           "title": {
            "standoff": 15
           },
           "zerolinecolor": "white",
           "zerolinewidth": 2
          },
          "yaxis": {
           "automargin": true,
           "gridcolor": "white",
           "linecolor": "white",
           "ticks": "",
           "title": {
            "standoff": 15
           },
           "zerolinecolor": "white",
           "zerolinewidth": 2
          }
         }
        },
        "title": {
         "text": "Perbedaan Karakteristik Risiko Tinggi vs Risiko Rendah (%)"
        },
        "width": 900,
        "xaxis": {
         "anchor": "y",
         "categoryorder": "total ascending",
         "domain": [
          0,
          1
         ],
         "title": {
          "text": "Fitur"
         }
        },
        "yaxis": {
         "anchor": "x",
         "domain": [
          0,
          1
         ],
         "title": {
          "text": "Perbedaan Persentase (%)"
         }
        }
       }
      }
     },
     "metadata": {},
     "output_type": "display_data"
    },
    {
     "name": "stdout",
     "output_type": "stream",
     "text": [
      "Visualisasi disimpan sebagai 'profile_differences_colorblind.png'\n"
     ]
    },
    {
     "data": {
      "application/vnd.plotly.v1+json": {
       "config": {
        "plotlyServerURL": "https://plot.ly"
       },
       "data": [
        {
         "hovertemplate": "Fitur=%{x}<br>Perbedaan (%)=%{marker.color}<br>text=%{text}<extra></extra>",
         "legendgroup": "",
         "marker": {
          "color": {
           "bdata": "HYSIBFriWMAXzHWHhEokwI363IRExxFAHB0cUsjQEMCyUB+xdH8HwFn72+zlNwfA",
           "dtype": "f8"
          },
          "coloraxis": "coloraxis",
          "pattern": {
           "shape": ""
          }
         },
         "name": "",
         "orientation": "v",
         "showlegend": false,
         "text": [
          "-99.5%",
          "-10.1%",
          "+4.4%",
          "-4.2%",
          "-2.9%",
          "-2.9%"
         ],
         "textposition": "outside",
         "type": "bar",
         "x": [
          "StockOptionLevel",
          "MonthlyIncome",
          "MonthlyRate",
          "DailyRate",
          "Age",
          "SalaryPerLevel"
         ],
         "xaxis": "x",
         "y": {
          "bdata": "HYSIBFriWMAXzHWHhEokwI363IRExxFAHB0cUsjQEMCyUB+xdH8HwFn72+zlNwfA",
          "dtype": "f8"
         },
         "yaxis": "y"
        }
       ],
       "layout": {
        "barmode": "relative",
        "coloraxis": {
         "colorbar": {
          "title": {
           "text": "Perbedaan (%)"
          }
         },
         "colorscale": [
          [
           0,
           "#648FFF"
          ],
          [
           0.5,
           "#FFFFFF"
          ],
          [
           1,
           "#FE6100"
          ]
         ]
        },
        "font": {
         "size": 12
        },
        "height": 600,
        "legend": {
         "tracegroupgap": 0
        },
        "shapes": [
         {
          "line": {
           "color": "black",
           "dash": "dash",
           "width": 1
          },
          "type": "line",
          "x0": -0.5,
          "x1": 5.5,
          "y0": 0,
          "y1": 0
         }
        ],
        "template": {
         "data": {
          "bar": [
           {
            "error_x": {
             "color": "#2a3f5f"
            },
            "error_y": {
             "color": "#2a3f5f"
            },
            "marker": {
             "line": {
              "color": "#E5ECF6",
              "width": 0.5
             },
             "pattern": {
              "fillmode": "overlay",
              "size": 10,
              "solidity": 0.2
             }
            },
            "type": "bar"
           }
          ],
          "barpolar": [
           {
            "marker": {
             "line": {
              "color": "#E5ECF6",
              "width": 0.5
             },
             "pattern": {
              "fillmode": "overlay",
              "size": 10,
              "solidity": 0.2
             }
            },
            "type": "barpolar"
           }
          ],
          "carpet": [
           {
            "aaxis": {
             "endlinecolor": "#2a3f5f",
             "gridcolor": "white",
             "linecolor": "white",
             "minorgridcolor": "white",
             "startlinecolor": "#2a3f5f"
            },
            "baxis": {
             "endlinecolor": "#2a3f5f",
             "gridcolor": "white",
             "linecolor": "white",
             "minorgridcolor": "white",
             "startlinecolor": "#2a3f5f"
            },
            "type": "carpet"
           }
          ],
          "choropleth": [
           {
            "colorbar": {
             "outlinewidth": 0,
             "ticks": ""
            },
            "type": "choropleth"
           }
          ],
          "contour": [
           {
            "colorbar": {
             "outlinewidth": 0,
             "ticks": ""
            },
            "colorscale": [
             [
              0,
              "#0d0887"
             ],
             [
              0.1111111111111111,
              "#46039f"
             ],
             [
              0.2222222222222222,
              "#7201a8"
             ],
             [
              0.3333333333333333,
              "#9c179e"
             ],
             [
              0.4444444444444444,
              "#bd3786"
             ],
             [
              0.5555555555555556,
              "#d8576b"
             ],
             [
              0.6666666666666666,
              "#ed7953"
             ],
             [
              0.7777777777777778,
              "#fb9f3a"
             ],
             [
              0.8888888888888888,
              "#fdca26"
             ],
             [
              1,
              "#f0f921"
             ]
            ],
            "type": "contour"
           }
          ],
          "contourcarpet": [
           {
            "colorbar": {
             "outlinewidth": 0,
             "ticks": ""
            },
            "type": "contourcarpet"
           }
          ],
          "heatmap": [
           {
            "colorbar": {
             "outlinewidth": 0,
             "ticks": ""
            },
            "colorscale": [
             [
              0,
              "#0d0887"
             ],
             [
              0.1111111111111111,
              "#46039f"
             ],
             [
              0.2222222222222222,
              "#7201a8"
             ],
             [
              0.3333333333333333,
              "#9c179e"
             ],
             [
              0.4444444444444444,
              "#bd3786"
             ],
             [
              0.5555555555555556,
              "#d8576b"
             ],
             [
              0.6666666666666666,
              "#ed7953"
             ],
             [
              0.7777777777777778,
              "#fb9f3a"
             ],
             [
              0.8888888888888888,
              "#fdca26"
             ],
             [
              1,
              "#f0f921"
             ]
            ],
            "type": "heatmap"
           }
          ],
          "histogram": [
           {
            "marker": {
             "pattern": {
              "fillmode": "overlay",
              "size": 10,
              "solidity": 0.2
             }
            },
            "type": "histogram"
           }
          ],
          "histogram2d": [
           {
            "colorbar": {
             "outlinewidth": 0,
             "ticks": ""
            },
            "colorscale": [
             [
              0,
              "#0d0887"
             ],
             [
              0.1111111111111111,
              "#46039f"
             ],
             [
              0.2222222222222222,
              "#7201a8"
             ],
             [
              0.3333333333333333,
              "#9c179e"
             ],
             [
              0.4444444444444444,
              "#bd3786"
             ],
             [
              0.5555555555555556,
              "#d8576b"
             ],
             [
              0.6666666666666666,
              "#ed7953"
             ],
             [
              0.7777777777777778,
              "#fb9f3a"
             ],
             [
              0.8888888888888888,
              "#fdca26"
             ],
             [
              1,
              "#f0f921"
             ]
            ],
            "type": "histogram2d"
           }
          ],
          "histogram2dcontour": [
           {
            "colorbar": {
             "outlinewidth": 0,
             "ticks": ""
            },
            "colorscale": [
             [
              0,
              "#0d0887"
             ],
             [
              0.1111111111111111,
              "#46039f"
             ],
             [
              0.2222222222222222,
              "#7201a8"
             ],
             [
              0.3333333333333333,
              "#9c179e"
             ],
             [
              0.4444444444444444,
              "#bd3786"
             ],
             [
              0.5555555555555556,
              "#d8576b"
             ],
             [
              0.6666666666666666,
              "#ed7953"
             ],
             [
              0.7777777777777778,
              "#fb9f3a"
             ],
             [
              0.8888888888888888,
              "#fdca26"
             ],
             [
              1,
              "#f0f921"
             ]
            ],
            "type": "histogram2dcontour"
           }
          ],
          "mesh3d": [
           {
            "colorbar": {
             "outlinewidth": 0,
             "ticks": ""
            },
            "type": "mesh3d"
           }
          ],
          "parcoords": [
           {
            "line": {
             "colorbar": {
              "outlinewidth": 0,
              "ticks": ""
             }
            },
            "type": "parcoords"
           }
          ],
          "pie": [
           {
            "automargin": true,
            "type": "pie"
           }
          ],
          "scatter": [
           {
            "fillpattern": {
             "fillmode": "overlay",
             "size": 10,
             "solidity": 0.2
            },
            "type": "scatter"
           }
          ],
          "scatter3d": [
           {
            "line": {
             "colorbar": {
              "outlinewidth": 0,
              "ticks": ""
             }
            },
            "marker": {
             "colorbar": {
              "outlinewidth": 0,
              "ticks": ""
             }
            },
            "type": "scatter3d"
           }
          ],
          "scattercarpet": [
           {
            "marker": {
             "colorbar": {
              "outlinewidth": 0,
              "ticks": ""
             }
            },
            "type": "scattercarpet"
           }
          ],
          "scattergeo": [
           {
            "marker": {
             "colorbar": {
              "outlinewidth": 0,
              "ticks": ""
             }
            },
            "type": "scattergeo"
           }
          ],
          "scattergl": [
           {
            "marker": {
             "colorbar": {
              "outlinewidth": 0,
              "ticks": ""
             }
            },
            "type": "scattergl"
           }
          ],
          "scattermap": [
           {
            "marker": {
             "colorbar": {
              "outlinewidth": 0,
              "ticks": ""
             }
            },
            "type": "scattermap"
           }
          ],
          "scattermapbox": [
           {
            "marker": {
             "colorbar": {
              "outlinewidth": 0,
              "ticks": ""
             }
            },
            "type": "scattermapbox"
           }
          ],
          "scatterpolar": [
           {
            "marker": {
             "colorbar": {
              "outlinewidth": 0,
              "ticks": ""
             }
            },
            "type": "scatterpolar"
           }
          ],
          "scatterpolargl": [
           {
            "marker": {
             "colorbar": {
              "outlinewidth": 0,
              "ticks": ""
             }
            },
            "type": "scatterpolargl"
           }
          ],
          "scatterternary": [
           {
            "marker": {
             "colorbar": {
              "outlinewidth": 0,
              "ticks": ""
             }
            },
            "type": "scatterternary"
           }
          ],
          "surface": [
           {
            "colorbar": {
             "outlinewidth": 0,
             "ticks": ""
            },
            "colorscale": [
             [
              0,
              "#0d0887"
             ],
             [
              0.1111111111111111,
              "#46039f"
             ],
             [
              0.2222222222222222,
              "#7201a8"
             ],
             [
              0.3333333333333333,
              "#9c179e"
             ],
             [
              0.4444444444444444,
              "#bd3786"
             ],
             [
              0.5555555555555556,
              "#d8576b"
             ],
             [
              0.6666666666666666,
              "#ed7953"
             ],
             [
              0.7777777777777778,
              "#fb9f3a"
             ],
             [
              0.8888888888888888,
              "#fdca26"
             ],
             [
              1,
              "#f0f921"
             ]
            ],
            "type": "surface"
           }
          ],
          "table": [
           {
            "cells": {
             "fill": {
              "color": "#EBF0F8"
             },
             "line": {
              "color": "white"
             }
            },
            "header": {
             "fill": {
              "color": "#C8D4E3"
             },
             "line": {
              "color": "white"
             }
            },
            "type": "table"
           }
          ]
         },
         "layout": {
          "annotationdefaults": {
           "arrowcolor": "#2a3f5f",
           "arrowhead": 0,
           "arrowwidth": 1
          },
          "autotypenumbers": "strict",
          "coloraxis": {
           "colorbar": {
            "outlinewidth": 0,
            "ticks": ""
           }
          },
          "colorscale": {
           "diverging": [
            [
             0,
             "#8e0152"
            ],
            [
             0.1,
             "#c51b7d"
            ],
            [
             0.2,
             "#de77ae"
            ],
            [
             0.3,
             "#f1b6da"
            ],
            [
             0.4,
             "#fde0ef"
            ],
            [
             0.5,
             "#f7f7f7"
            ],
            [
             0.6,
             "#e6f5d0"
            ],
            [
             0.7,
             "#b8e186"
            ],
            [
             0.8,
             "#7fbc41"
            ],
            [
             0.9,
             "#4d9221"
            ],
            [
             1,
             "#276419"
            ]
           ],
           "sequential": [
            [
             0,
             "#0d0887"
            ],
            [
             0.1111111111111111,
             "#46039f"
            ],
            [
             0.2222222222222222,
             "#7201a8"
            ],
            [
             0.3333333333333333,
             "#9c179e"
            ],
            [
             0.4444444444444444,
             "#bd3786"
            ],
            [
             0.5555555555555556,
             "#d8576b"
            ],
            [
             0.6666666666666666,
             "#ed7953"
            ],
            [
             0.7777777777777778,
             "#fb9f3a"
            ],
            [
             0.8888888888888888,
             "#fdca26"
            ],
            [
             1,
             "#f0f921"
            ]
           ],
           "sequentialminus": [
            [
             0,
             "#0d0887"
            ],
            [
             0.1111111111111111,
             "#46039f"
            ],
            [
             0.2222222222222222,
             "#7201a8"
            ],
            [
             0.3333333333333333,
             "#9c179e"
            ],
            [
             0.4444444444444444,
             "#bd3786"
            ],
            [
             0.5555555555555556,
             "#d8576b"
            ],
            [
             0.6666666666666666,
             "#ed7953"
            ],
            [
             0.7777777777777778,
             "#fb9f3a"
            ],
            [
             0.8888888888888888,
             "#fdca26"
            ],
            [
             1,
             "#f0f921"
            ]
           ]
          },
          "colorway": [
           "#636efa",
           "#EF553B",
           "#00cc96",
           "#ab63fa",
           "#FFA15A",
           "#19d3f3",
           "#FF6692",
           "#B6E880",
           "#FF97FF",
           "#FECB52"
          ],
          "font": {
           "color": "#2a3f5f"
          },
          "geo": {
           "bgcolor": "white",
           "lakecolor": "white",
           "landcolor": "#E5ECF6",
           "showlakes": true,
           "showland": true,
           "subunitcolor": "white"
          },
          "hoverlabel": {
           "align": "left"
          },
          "hovermode": "closest",
          "mapbox": {
           "style": "light"
          },
          "paper_bgcolor": "white",
          "plot_bgcolor": "#E5ECF6",
          "polar": {
           "angularaxis": {
            "gridcolor": "white",
            "linecolor": "white",
            "ticks": ""
           },
           "bgcolor": "#E5ECF6",
           "radialaxis": {
            "gridcolor": "white",
            "linecolor": "white",
            "ticks": ""
           }
          },
          "scene": {
           "xaxis": {
            "backgroundcolor": "#E5ECF6",
            "gridcolor": "white",
            "gridwidth": 2,
            "linecolor": "white",
            "showbackground": true,
            "ticks": "",
            "zerolinecolor": "white"
           },
           "yaxis": {
            "backgroundcolor": "#E5ECF6",
            "gridcolor": "white",
            "gridwidth": 2,
            "linecolor": "white",
            "showbackground": true,
            "ticks": "",
            "zerolinecolor": "white"
           },
           "zaxis": {
            "backgroundcolor": "#E5ECF6",
            "gridcolor": "white",
            "gridwidth": 2,
            "linecolor": "white",
            "showbackground": true,
            "ticks": "",
            "zerolinecolor": "white"
           }
          },
          "shapedefaults": {
           "line": {
            "color": "#2a3f5f"
           }
          },
          "ternary": {
           "aaxis": {
            "gridcolor": "white",
            "linecolor": "white",
            "ticks": ""
           },
           "baxis": {
            "gridcolor": "white",
            "linecolor": "white",
            "ticks": ""
           },
           "bgcolor": "#E5ECF6",
           "caxis": {
            "gridcolor": "white",
            "linecolor": "white",
            "ticks": ""
           }
          },
          "title": {
           "x": 0.05
          },
          "xaxis": {
           "automargin": true,
           "gridcolor": "white",
           "linecolor": "white",
           "ticks": "",
           "title": {
            "standoff": 15
           },
           "zerolinecolor": "white",
           "zerolinewidth": 2
          },
          "yaxis": {
           "automargin": true,
           "gridcolor": "white",
           "linecolor": "white",
           "ticks": "",
           "title": {
            "standoff": 15
           },
           "zerolinecolor": "white",
           "zerolinewidth": 2
          }
         }
        },
        "title": {
         "text": "Perbedaan Karakteristik Risiko Tinggi vs Risiko Rendah (%)"
        },
        "width": 900,
        "xaxis": {
         "anchor": "y",
         "categoryorder": "total ascending",
         "domain": [
          0,
          1
         ],
         "title": {
          "text": "Fitur"
         }
        },
        "yaxis": {
         "anchor": "x",
         "domain": [
          0,
          1
         ],
         "title": {
          "text": "Perbedaan Persentase (%)"
         }
        }
       }
      }
     },
     "metadata": {},
     "output_type": "display_data"
    }
   ],
   "source": [
    "# 16. Visualisasi perbedaan profil dengan Plotly (colorblind friendly)\n",
    "print(\"\\nMembuat visualisasi perbedaan profil...\")\n",
    "\n",
    "# Pilih top 8 fitur dengan perbedaan terbesar untuk visualisasi\n",
    "top_diff_features = pct_diff.abs().sort_values(ascending=False).head(8).index.tolist()\n",
    "diff_df = pd.DataFrame({\n",
    "    'Fitur': top_diff_features,\n",
    "    'Perbedaan (%)': pct_diff[top_diff_features].values\n",
    "})\n",
    "\n",
    "# Gunakan colorscale yang menunjukkan perbedaan positif/negatif\n",
    "colors = [HIGH_RISK_COLOR if val > 0 else LOW_RISK_COLOR for val in diff_df['Perbedaan (%)']]\n",
    "\n",
    "fig = px.bar(\n",
    "    diff_df,\n",
    "    x='Fitur',\n",
    "    y='Perbedaan (%)',\n",
    "    color='Perbedaan (%)',\n",
    "    color_continuous_scale=[LOW_RISK_COLOR, '#FFFFFF', HIGH_RISK_COLOR],\n",
    "    text=[f\"{val:+.1f}%\" for val in diff_df['Perbedaan (%)']],\n",
    "    title='Perbedaan Karakteristik Risiko Tinggi vs Risiko Rendah (%)',\n",
    "    height=600,\n",
    "    width=900\n",
    ")\n",
    "fig.update_traces(textposition='outside')\n",
    "fig.update_layout(\n",
    "    xaxis_title='Fitur',\n",
    "    yaxis_title='Perbedaan Persentase (%)',\n",
    "    xaxis={'categoryorder': 'total ascending'},\n",
    "    font=dict(size=12)\n",
    ")\n",
    "# Tambahkan garis horizontal di 0\n",
    "fig.add_shape(\n",
    "    type=\"line\",\n",
    "    x0=-0.5,\n",
    "    y0=0,\n",
    "    x1=len(top_diff_features)-0.5,\n",
    "    y1=0,\n",
    "    line=dict(color=\"black\", width=1, dash=\"dash\")\n",
    ")\n",
    "\n",
    "# Tampilkan dan simpan visualisasi perbedaan profil\n",
    "display_and_save_figure(fig, \"profile_differences_colorblind.png\")"
   ]
  },
  {
   "cell_type": "code",
   "execution_count": 27,
   "id": "ea185f98",
   "metadata": {},
   "outputs": [
    {
     "name": "stdout",
     "output_type": "stream",
     "text": [
      "\n",
      "Distribusi Department (%) per Level Risiko:\n",
      "Department     Human Resources  Research & Development      Sales\n",
      "RiskLevel                                                        \n",
      "Risiko Rendah         3.924915               66.894198  29.180887\n",
      "Risiko Tinggi         3.177966               65.466102  31.355932\n"
     ]
    },
    {
     "data": {
      "application/vnd.plotly.v1+json": {
       "config": {
        "plotlyServerURL": "https://plot.ly"
       },
       "data": [
        {
         "hovertemplate": "Department=Human Resources<br>RiskLevel=%{x}<br>Percentage=%{y}<extra></extra>",
         "legendgroup": "Human Resources",
         "marker": {
          "color": "rgb(127, 60, 141)",
          "pattern": {
           "shape": ""
          }
         },
         "name": "Human Resources",
         "orientation": "v",
         "showlegend": true,
         "textposition": "auto",
         "type": "bar",
         "x": [
          "Risiko Rendah",
          "Risiko Tinggi"
         ],
         "xaxis": "x",
         "y": {
          "bdata": "9htgqjlmD0A0nNR9eWwJQA==",
          "dtype": "f8"
         },
         "yaxis": "y"
        },
        {
         "hovertemplate": "Department=Research & Development<br>RiskLevel=%{x}<br>Percentage=%{y}<extra></extra>",
         "legendgroup": "Research & Development",
         "marker": {
          "color": "rgb(17, 165, 121)",
          "pattern": {
           "shape": ""
          }
         },
         "name": "Research & Development",
         "orientation": "v",
         "showlegend": true,
         "textposition": "auto",
         "type": "bar",
         "x": [
          "Risiko Rendah",
          "Risiko Tinggi"
         ],
         "xaxis": "x",
         "y": {
          "bdata": "aTsMijq5UEBbETSc1F1QQA==",
          "dtype": "f8"
         },
         "yaxis": "y"
        },
        {
         "hovertemplate": "Department=Sales<br>RiskLevel=%{x}<br>Percentage=%{y}<extra></extra>",
         "legendgroup": "Sales",
         "marker": {
          "color": "rgb(57, 105, 172)",
          "pattern": {
           "shape": ""
          }
         },
         "name": "Sales",
         "orientation": "v",
         "showlegend": true,
         "textposition": "auto",
         "type": "bar",
         "x": [
          "Risiko Rendah",
          "Risiko Tinggi"
         ],
         "xaxis": "x",
         "y": {
          "bdata": "2w6Dok4uPUANJ3VfHls/QA==",
          "dtype": "f8"
         },
         "yaxis": "y"
        }
       ],
       "layout": {
        "barmode": "stack",
        "font": {
         "size": 12
        },
        "height": 600,
        "legend": {
         "title": {
          "text": "Department"
         },
         "tracegroupgap": 0
        },
        "template": {
         "data": {
          "bar": [
           {
            "error_x": {
             "color": "#2a3f5f"
            },
            "error_y": {
             "color": "#2a3f5f"
            },
            "marker": {
             "line": {
              "color": "#E5ECF6",
              "width": 0.5
             },
             "pattern": {
              "fillmode": "overlay",
              "size": 10,
              "solidity": 0.2
             }
            },
            "type": "bar"
           }
          ],
          "barpolar": [
           {
            "marker": {
             "line": {
              "color": "#E5ECF6",
              "width": 0.5
             },
             "pattern": {
              "fillmode": "overlay",
              "size": 10,
              "solidity": 0.2
             }
            },
            "type": "barpolar"
           }
          ],
          "carpet": [
           {
            "aaxis": {
             "endlinecolor": "#2a3f5f",
             "gridcolor": "white",
             "linecolor": "white",
             "minorgridcolor": "white",
             "startlinecolor": "#2a3f5f"
            },
            "baxis": {
             "endlinecolor": "#2a3f5f",
             "gridcolor": "white",
             "linecolor": "white",
             "minorgridcolor": "white",
             "startlinecolor": "#2a3f5f"
            },
            "type": "carpet"
           }
          ],
          "choropleth": [
           {
            "colorbar": {
             "outlinewidth": 0,
             "ticks": ""
            },
            "type": "choropleth"
           }
          ],
          "contour": [
           {
            "colorbar": {
             "outlinewidth": 0,
             "ticks": ""
            },
            "colorscale": [
             [
              0,
              "#0d0887"
             ],
             [
              0.1111111111111111,
              "#46039f"
             ],
             [
              0.2222222222222222,
              "#7201a8"
             ],
             [
              0.3333333333333333,
              "#9c179e"
             ],
             [
              0.4444444444444444,
              "#bd3786"
             ],
             [
              0.5555555555555556,
              "#d8576b"
             ],
             [
              0.6666666666666666,
              "#ed7953"
             ],
             [
              0.7777777777777778,
              "#fb9f3a"
             ],
             [
              0.8888888888888888,
              "#fdca26"
             ],
             [
              1,
              "#f0f921"
             ]
            ],
            "type": "contour"
           }
          ],
          "contourcarpet": [
           {
            "colorbar": {
             "outlinewidth": 0,
             "ticks": ""
            },
            "type": "contourcarpet"
           }
          ],
          "heatmap": [
           {
            "colorbar": {
             "outlinewidth": 0,
             "ticks": ""
            },
            "colorscale": [
             [
              0,
              "#0d0887"
             ],
             [
              0.1111111111111111,
              "#46039f"
             ],
             [
              0.2222222222222222,
              "#7201a8"
             ],
             [
              0.3333333333333333,
              "#9c179e"
             ],
             [
              0.4444444444444444,
              "#bd3786"
             ],
             [
              0.5555555555555556,
              "#d8576b"
             ],
             [
              0.6666666666666666,
              "#ed7953"
             ],
             [
              0.7777777777777778,
              "#fb9f3a"
             ],
             [
              0.8888888888888888,
              "#fdca26"
             ],
             [
              1,
              "#f0f921"
             ]
            ],
            "type": "heatmap"
           }
          ],
          "histogram": [
           {
            "marker": {
             "pattern": {
              "fillmode": "overlay",
              "size": 10,
              "solidity": 0.2
             }
            },
            "type": "histogram"
           }
          ],
          "histogram2d": [
           {
            "colorbar": {
             "outlinewidth": 0,
             "ticks": ""
            },
            "colorscale": [
             [
              0,
              "#0d0887"
             ],
             [
              0.1111111111111111,
              "#46039f"
             ],
             [
              0.2222222222222222,
              "#7201a8"
             ],
             [
              0.3333333333333333,
              "#9c179e"
             ],
             [
              0.4444444444444444,
              "#bd3786"
             ],
             [
              0.5555555555555556,
              "#d8576b"
             ],
             [
              0.6666666666666666,
              "#ed7953"
             ],
             [
              0.7777777777777778,
              "#fb9f3a"
             ],
             [
              0.8888888888888888,
              "#fdca26"
             ],
             [
              1,
              "#f0f921"
             ]
            ],
            "type": "histogram2d"
           }
          ],
          "histogram2dcontour": [
           {
            "colorbar": {
             "outlinewidth": 0,
             "ticks": ""
            },
            "colorscale": [
             [
              0,
              "#0d0887"
             ],
             [
              0.1111111111111111,
              "#46039f"
             ],
             [
              0.2222222222222222,
              "#7201a8"
             ],
             [
              0.3333333333333333,
              "#9c179e"
             ],
             [
              0.4444444444444444,
              "#bd3786"
             ],
             [
              0.5555555555555556,
              "#d8576b"
             ],
             [
              0.6666666666666666,
              "#ed7953"
             ],
             [
              0.7777777777777778,
              "#fb9f3a"
             ],
             [
              0.8888888888888888,
              "#fdca26"
             ],
             [
              1,
              "#f0f921"
             ]
            ],
            "type": "histogram2dcontour"
           }
          ],
          "mesh3d": [
           {
            "colorbar": {
             "outlinewidth": 0,
             "ticks": ""
            },
            "type": "mesh3d"
           }
          ],
          "parcoords": [
           {
            "line": {
             "colorbar": {
              "outlinewidth": 0,
              "ticks": ""
             }
            },
            "type": "parcoords"
           }
          ],
          "pie": [
           {
            "automargin": true,
            "type": "pie"
           }
          ],
          "scatter": [
           {
            "fillpattern": {
             "fillmode": "overlay",
             "size": 10,
             "solidity": 0.2
            },
            "type": "scatter"
           }
          ],
          "scatter3d": [
           {
            "line": {
             "colorbar": {
              "outlinewidth": 0,
              "ticks": ""
             }
            },
            "marker": {
             "colorbar": {
              "outlinewidth": 0,
              "ticks": ""
             }
            },
            "type": "scatter3d"
           }
          ],
          "scattercarpet": [
           {
            "marker": {
             "colorbar": {
              "outlinewidth": 0,
              "ticks": ""
             }
            },
            "type": "scattercarpet"
           }
          ],
          "scattergeo": [
           {
            "marker": {
             "colorbar": {
              "outlinewidth": 0,
              "ticks": ""
             }
            },
            "type": "scattergeo"
           }
          ],
          "scattergl": [
           {
            "marker": {
             "colorbar": {
              "outlinewidth": 0,
              "ticks": ""
             }
            },
            "type": "scattergl"
           }
          ],
          "scattermap": [
           {
            "marker": {
             "colorbar": {
              "outlinewidth": 0,
              "ticks": ""
             }
            },
            "type": "scattermap"
           }
          ],
          "scattermapbox": [
           {
            "marker": {
             "colorbar": {
              "outlinewidth": 0,
              "ticks": ""
             }
            },
            "type": "scattermapbox"
           }
          ],
          "scatterpolar": [
           {
            "marker": {
             "colorbar": {
              "outlinewidth": 0,
              "ticks": ""
             }
            },
            "type": "scatterpolar"
           }
          ],
          "scatterpolargl": [
           {
            "marker": {
             "colorbar": {
              "outlinewidth": 0,
              "ticks": ""
             }
            },
            "type": "scatterpolargl"
           }
          ],
          "scatterternary": [
           {
            "marker": {
             "colorbar": {
              "outlinewidth": 0,
              "ticks": ""
             }
            },
            "type": "scatterternary"
           }
          ],
          "surface": [
           {
            "colorbar": {
             "outlinewidth": 0,
             "ticks": ""
            },
            "colorscale": [
             [
              0,
              "#0d0887"
             ],
             [
              0.1111111111111111,
              "#46039f"
             ],
             [
              0.2222222222222222,
              "#7201a8"
             ],
             [
              0.3333333333333333,
              "#9c179e"
             ],
             [
              0.4444444444444444,
              "#bd3786"
             ],
             [
              0.5555555555555556,
              "#d8576b"
             ],
             [
              0.6666666666666666,
              "#ed7953"
             ],
             [
              0.7777777777777778,
              "#fb9f3a"
             ],
             [
              0.8888888888888888,
              "#fdca26"
             ],
             [
              1,
              "#f0f921"
             ]
            ],
            "type": "surface"
           }
          ],
          "table": [
           {
            "cells": {
             "fill": {
              "color": "#EBF0F8"
             },
             "line": {
              "color": "white"
             }
            },
            "header": {
             "fill": {
              "color": "#C8D4E3"
             },
             "line": {
              "color": "white"
             }
            },
            "type": "table"
           }
          ]
         },
         "layout": {
          "annotationdefaults": {
           "arrowcolor": "#2a3f5f",
           "arrowhead": 0,
           "arrowwidth": 1
          },
          "autotypenumbers": "strict",
          "coloraxis": {
           "colorbar": {
            "outlinewidth": 0,
            "ticks": ""
           }
          },
          "colorscale": {
           "diverging": [
            [
             0,
             "#8e0152"
            ],
            [
             0.1,
             "#c51b7d"
            ],
            [
             0.2,
             "#de77ae"
            ],
            [
             0.3,
             "#f1b6da"
            ],
            [
             0.4,
             "#fde0ef"
            ],
            [
             0.5,
             "#f7f7f7"
            ],
            [
             0.6,
             "#e6f5d0"
            ],
            [
             0.7,
             "#b8e186"
            ],
            [
             0.8,
             "#7fbc41"
            ],
            [
             0.9,
             "#4d9221"
            ],
            [
             1,
             "#276419"
            ]
           ],
           "sequential": [
            [
             0,
             "#0d0887"
            ],
            [
             0.1111111111111111,
             "#46039f"
            ],
            [
             0.2222222222222222,
             "#7201a8"
            ],
            [
             0.3333333333333333,
             "#9c179e"
            ],
            [
             0.4444444444444444,
             "#bd3786"
            ],
            [
             0.5555555555555556,
             "#d8576b"
            ],
            [
             0.6666666666666666,
             "#ed7953"
            ],
            [
             0.7777777777777778,
             "#fb9f3a"
            ],
            [
             0.8888888888888888,
             "#fdca26"
            ],
            [
             1,
             "#f0f921"
            ]
           ],
           "sequentialminus": [
            [
             0,
             "#0d0887"
            ],
            [
             0.1111111111111111,
             "#46039f"
            ],
            [
             0.2222222222222222,
             "#7201a8"
            ],
            [
             0.3333333333333333,
             "#9c179e"
            ],
            [
             0.4444444444444444,
             "#bd3786"
            ],
            [
             0.5555555555555556,
             "#d8576b"
            ],
            [
             0.6666666666666666,
             "#ed7953"
            ],
            [
             0.7777777777777778,
             "#fb9f3a"
            ],
            [
             0.8888888888888888,
             "#fdca26"
            ],
            [
             1,
             "#f0f921"
            ]
           ]
          },
          "colorway": [
           "#636efa",
           "#EF553B",
           "#00cc96",
           "#ab63fa",
           "#FFA15A",
           "#19d3f3",
           "#FF6692",
           "#B6E880",
           "#FF97FF",
           "#FECB52"
          ],
          "font": {
           "color": "#2a3f5f"
          },
          "geo": {
           "bgcolor": "white",
           "lakecolor": "white",
           "landcolor": "#E5ECF6",
           "showlakes": true,
           "showland": true,
           "subunitcolor": "white"
          },
          "hoverlabel": {
           "align": "left"
          },
          "hovermode": "closest",
          "mapbox": {
           "style": "light"
          },
          "paper_bgcolor": "white",
          "plot_bgcolor": "#E5ECF6",
          "polar": {
           "angularaxis": {
            "gridcolor": "white",
            "linecolor": "white",
            "ticks": ""
           },
           "bgcolor": "#E5ECF6",
           "radialaxis": {
            "gridcolor": "white",
            "linecolor": "white",
            "ticks": ""
           }
          },
          "scene": {
           "xaxis": {
            "backgroundcolor": "#E5ECF6",
            "gridcolor": "white",
            "gridwidth": 2,
            "linecolor": "white",
            "showbackground": true,
            "ticks": "",
            "zerolinecolor": "white"
           },
           "yaxis": {
            "backgroundcolor": "#E5ECF6",
            "gridcolor": "white",
            "gridwidth": 2,
            "linecolor": "white",
            "showbackground": true,
            "ticks": "",
            "zerolinecolor": "white"
           },
           "zaxis": {
            "backgroundcolor": "#E5ECF6",
            "gridcolor": "white",
            "gridwidth": 2,
            "linecolor": "white",
            "showbackground": true,
            "ticks": "",
            "zerolinecolor": "white"
           }
          },
          "shapedefaults": {
           "line": {
            "color": "#2a3f5f"
           }
          },
          "ternary": {
           "aaxis": {
            "gridcolor": "white",
            "linecolor": "white",
            "ticks": ""
           },
           "baxis": {
            "gridcolor": "white",
            "linecolor": "white",
            "ticks": ""
           },
           "bgcolor": "#E5ECF6",
           "caxis": {
            "gridcolor": "white",
            "linecolor": "white",
            "ticks": ""
           }
          },
          "title": {
           "x": 0.05
          },
          "xaxis": {
           "automargin": true,
           "gridcolor": "white",
           "linecolor": "white",
           "ticks": "",
           "title": {
            "standoff": 15
           },
           "zerolinecolor": "white",
           "zerolinewidth": 2
          },
          "yaxis": {
           "automargin": true,
           "gridcolor": "white",
           "linecolor": "white",
           "ticks": "",
           "title": {
            "standoff": 15
           },
           "zerolinecolor": "white",
           "zerolinewidth": 2
          }
         }
        },
        "title": {
         "text": "Distribusi Department berdasarkan Level Risiko"
        },
        "width": 900,
        "xaxis": {
         "anchor": "y",
         "domain": [
          0,
          1
         ],
         "title": {
          "text": "Level Risiko"
         }
        },
        "yaxis": {
         "anchor": "x",
         "domain": [
          0,
          1
         ],
         "title": {
          "text": "Persentase (%)"
         }
        }
       }
      }
     },
     "metadata": {},
     "output_type": "display_data"
    },
    {
     "name": "stdout",
     "output_type": "stream",
     "text": [
      "Visualisasi disimpan sebagai 'department_by_risk_binary_colorblind.png'\n"
     ]
    }
   ],
   "source": [
    "# 17. Analisis distribusi departemen per level risiko dengan Plotly\n",
    "if 'Department' in df.columns:\n",
    "    dept_by_risk = pd.crosstab(df['RiskLevel'], df['Department'], normalize='index') * 100\n",
    "    \n",
    "    print(\"\\nDistribusi Department (%) per Level Risiko:\")\n",
    "    print(dept_by_risk)\n",
    "    \n",
    "    # Reshape data untuk Plotly\n",
    "    dept_data = []\n",
    "    for risk_level in dept_by_risk.index:\n",
    "        for dept in dept_by_risk.columns:\n",
    "            dept_data.append({\n",
    "                'RiskLevel': risk_level,\n",
    "                'Department': dept,\n",
    "                'Percentage': dept_by_risk.loc[risk_level, dept]\n",
    "            })\n",
    "    \n",
    "    dept_df = pd.DataFrame(dept_data)\n",
    "    \n",
    "    fig = px.bar(\n",
    "        dept_df,\n",
    "        x='RiskLevel',\n",
    "        y='Percentage',\n",
    "        color='Department',\n",
    "        color_discrete_sequence=px.colors.qualitative.Bold,  # Colorblind friendly\n",
    "        title='Distribusi Department berdasarkan Level Risiko',\n",
    "        height=600,\n",
    "        width=900,\n",
    "        barmode='stack'\n",
    "    )\n",
    "    fig.update_layout(\n",
    "        xaxis_title='Level Risiko',\n",
    "        yaxis_title='Persentase (%)',\n",
    "        legend_title='Department',\n",
    "        font=dict(size=12)\n",
    "    )\n",
    "    \n",
    "    # Tampilkan dan simpan visualisasi distribusi department\n",
    "    display_and_save_figure(fig, \"department_by_risk_binary_colorblind.png\")"
   ]
  },
  {
   "cell_type": "code",
   "execution_count": 28,
   "id": "5ae47fab",
   "metadata": {},
   "outputs": [
    {
     "name": "stdout",
     "output_type": "stream",
     "text": [
      "\n",
      "Distribusi Job Role (%) per Level Risiko:\n",
      "JobRole        Healthcare Representative  Human Resources  \\\n",
      "RiskLevel                                                   \n",
      "Risiko Rendah                   8.191126         2.901024   \n",
      "Risiko Tinggi                   8.474576         2.754237   \n",
      "\n",
      "JobRole        Laboratory Technician   Manager  Manufacturing Director  \\\n",
      "RiskLevel                                                                \n",
      "Risiko Rendah              18.259386  9.044369               10.580205   \n",
      "Risiko Tinggi              17.161017  5.508475                9.533898   \n",
      "\n",
      "JobRole        Research Director  Research Scientist  Sales Executive  \\\n",
      "RiskLevel                                                               \n",
      "Risiko Rendah           6.143345           18.771331        21.843003   \n",
      "Risiko Tinggi           5.508475           22.033898        22.033898   \n",
      "\n",
      "JobRole        Sales Representative  \n",
      "RiskLevel                            \n",
      "Risiko Rendah              4.266212  \n",
      "Risiko Tinggi              6.991525  \n"
     ]
    },
    {
     "data": {
      "application/vnd.plotly.v1+json": {
       "config": {
        "plotlyServerURL": "https://plot.ly"
       },
       "data": [
        {
         "hovertemplate": "JobRole=Healthcare Representative<br>RiskLevel=%{x}<br>Percentage=%{y}<extra></extra>",
         "legendgroup": "Healthcare Representative",
         "marker": {
          "color": "#636EFA",
          "pattern": {
           "shape": ""
          }
         },
         "name": "Healthcare Representative",
         "orientation": "v",
         "showlegend": true,
         "textposition": "auto",
         "type": "bar",
         "x": [
          "Risiko Rendah",
          "Risiko Tinggi"
         ],
         "xaxis": "x",
         "y": {
          "bdata": "79bCTdthIEAiaDip+/IgQA==",
          "dtype": "f8"
         },
         "yaxis": "y"
        },
        {
         "hovertemplate": "JobRole=Human Resources<br>RiskLevel=%{x}<br>Percentage=%{y}<extra></extra>",
         "legendgroup": "Human Resources",
         "marker": {
          "color": "#EF553B",
          "pattern": {
           "shape": ""
          }
         },
         "name": "Human Resources",
         "orientation": "v",
         "showlegend": true,
         "textposition": "auto",
         "type": "bar",
         "x": [
          "Risiko Rendah",
          "Risiko Tinggi"
         ],
         "xaxis": "x",
         "y": {
          "bdata": "frB+A0w1B0CTui+PrQgGQA==",
          "dtype": "f8"
         },
         "yaxis": "y"
        },
        {
         "hovertemplate": "JobRole=Laboratory Technician<br>RiskLevel=%{x}<br>Percentage=%{y}<extra></extra>",
         "legendgroup": "Laboratory Technician",
         "marker": {
          "color": "#00CC96",
          "pattern": {
           "shape": ""
          }
         },
         "name": "Laboratory Technician",
         "orientation": "v",
         "showlegend": true,
         "textposition": "auto",
         "type": "bar",
         "x": [
          "Risiko Rendah",
          "Risiko Tinggi"
         ],
         "xaxis": "x",
         "y": {
          "bdata": "kH9WGWdCMkA8tiJoOCkxQA==",
          "dtype": "f8"
         },
         "yaxis": "y"
        },
        {
         "hovertemplate": "JobRole=Manager<br>RiskLevel=%{x}<br>Percentage=%{y}<extra></extra>",
         "legendgroup": "Manager",
         "marker": {
          "color": "#AB63FA",
          "pattern": {
           "shape": ""
          }
         },
         "name": "Manager",
         "orientation": "v",
         "showlegend": true,
         "textposition": "auto",
         "type": "bar",
         "x": [
          "Risiko Rendah",
          "Risiko Tinggi"
         ],
         "xaxis": "x",
         "y": {
          "bdata": "U80xe7cWIkCTui+PrQgWQA==",
          "dtype": "f8"
         },
         "yaxis": "y"
        },
        {
         "hovertemplate": "JobRole=Manufacturing Director<br>RiskLevel=%{x}<br>Percentage=%{y}<extra></extra>",
         "legendgroup": "Manufacturing Director",
         "marker": {
          "color": "#FFA15A",
          "pattern": {
           "shape": ""
          }
         },
         "name": "Manufacturing Director",
         "orientation": "v",
         "showlegend": true,
         "textposition": "auto",
         "type": "bar",
         "x": [
          "Risiko Rendah",
          "Risiko Tinggi"
         ],
         "xaxis": "x",
         "y": {
          "bdata": "oFXGmRApJUAndV8eWxEjQA==",
          "dtype": "f8"
         },
         "yaxis": "y"
        },
        {
         "hovertemplate": "JobRole=Research Director<br>RiskLevel=%{x}<br>Percentage=%{y}<extra></extra>",
         "legendgroup": "Research Director",
         "marker": {
          "color": "#19D3F3",
          "pattern": {
           "shape": ""
          }
         },
         "name": "Research Director",
         "orientation": "v",
         "showlegend": true,
         "textposition": "auto",
         "type": "bar",
         "x": [
          "Risiko Rendah",
          "Risiko Tinggi"
         ],
         "xaxis": "x",
         "y": {
          "bdata": "Z0Kk9MiSGECTui+PrQgWQA==",
          "dtype": "f8"
         },
         "yaxis": "y"
        },
        {
         "hovertemplate": "JobRole=Research Scientist<br>RiskLevel=%{x}<br>Percentage=%{y}<extra></extra>",
         "legendgroup": "Research Scientist",
         "marker": {
          "color": "#FF6692",
          "pattern": {
           "shape": ""
          }
         },
         "name": "Research Scientist",
         "orientation": "v",
         "showlegend": true,
         "textposition": "auto",
         "type": "bar",
         "x": [
          "Risiko Rendah",
          "Risiko Tinggi"
         ],
         "xaxis": "x",
         "y": {
          "bdata": "R5bE83XFMkCTui+PrQg2QA==",
          "dtype": "f8"
         },
         "yaxis": "y"
        },
        {
         "hovertemplate": "JobRole=Sales Executive<br>RiskLevel=%{x}<br>Percentage=%{y}<extra></extra>",
         "legendgroup": "Sales Executive",
         "marker": {
          "color": "#B6E880",
          "pattern": {
           "shape": ""
          }
         },
         "name": "Sales Executive",
         "orientation": "v",
         "showlegend": true,
         "textposition": "auto",
         "type": "bar",
         "x": [
          "Risiko Rendah",
          "Risiko Tinggi"
         ],
         "xaxis": "x",
         "y": {
          "bdata": "lR5ZEs/XNUCTui+PrQg2QA==",
          "dtype": "f8"
         },
         "yaxis": "y"
        },
        {
         "hovertemplate": "JobRole=Sales Representative<br>RiskLevel=%{x}<br>Percentage=%{y}<extra></extra>",
         "legendgroup": "Sales Representative",
         "marker": {
          "color": "#FF97FF",
          "pattern": {
           "shape": ""
          }
         },
         "name": "Sales Representative",
         "orientation": "v",
         "showlegend": true,
         "textposition": "auto",
         "type": "bar",
         "x": [
          "Risiko Rendah",
          "Risiko Tinggi"
         ],
         "xaxis": "x",
         "y": {
          "bdata": "5J9VxpkQEUBsRdBwUvcbQA==",
          "dtype": "f8"
         },
         "yaxis": "y"
        }
       ],
       "layout": {
        "barmode": "stack",
        "font": {
         "size": 12
        },
        "height": 600,
        "legend": {
         "title": {
          "text": "Job Role"
         },
         "tracegroupgap": 0
        },
        "template": {
         "data": {
          "bar": [
           {
            "error_x": {
             "color": "#2a3f5f"
            },
            "error_y": {
             "color": "#2a3f5f"
            },
            "marker": {
             "line": {
              "color": "#E5ECF6",
              "width": 0.5
             },
             "pattern": {
              "fillmode": "overlay",
              "size": 10,
              "solidity": 0.2
             }
            },
            "type": "bar"
           }
          ],
          "barpolar": [
           {
            "marker": {
             "line": {
              "color": "#E5ECF6",
              "width": 0.5
             },
             "pattern": {
              "fillmode": "overlay",
              "size": 10,
              "solidity": 0.2
             }
            },
            "type": "barpolar"
           }
          ],
          "carpet": [
           {
            "aaxis": {
             "endlinecolor": "#2a3f5f",
             "gridcolor": "white",
             "linecolor": "white",
             "minorgridcolor": "white",
             "startlinecolor": "#2a3f5f"
            },
            "baxis": {
             "endlinecolor": "#2a3f5f",
             "gridcolor": "white",
             "linecolor": "white",
             "minorgridcolor": "white",
             "startlinecolor": "#2a3f5f"
            },
            "type": "carpet"
           }
          ],
          "choropleth": [
           {
            "colorbar": {
             "outlinewidth": 0,
             "ticks": ""
            },
            "type": "choropleth"
           }
          ],
          "contour": [
           {
            "colorbar": {
             "outlinewidth": 0,
             "ticks": ""
            },
            "colorscale": [
             [
              0,
              "#0d0887"
             ],
             [
              0.1111111111111111,
              "#46039f"
             ],
             [
              0.2222222222222222,
              "#7201a8"
             ],
             [
              0.3333333333333333,
              "#9c179e"
             ],
             [
              0.4444444444444444,
              "#bd3786"
             ],
             [
              0.5555555555555556,
              "#d8576b"
             ],
             [
              0.6666666666666666,
              "#ed7953"
             ],
             [
              0.7777777777777778,
              "#fb9f3a"
             ],
             [
              0.8888888888888888,
              "#fdca26"
             ],
             [
              1,
              "#f0f921"
             ]
            ],
            "type": "contour"
           }
          ],
          "contourcarpet": [
           {
            "colorbar": {
             "outlinewidth": 0,
             "ticks": ""
            },
            "type": "contourcarpet"
           }
          ],
          "heatmap": [
           {
            "colorbar": {
             "outlinewidth": 0,
             "ticks": ""
            },
            "colorscale": [
             [
              0,
              "#0d0887"
             ],
             [
              0.1111111111111111,
              "#46039f"
             ],
             [
              0.2222222222222222,
              "#7201a8"
             ],
             [
              0.3333333333333333,
              "#9c179e"
             ],
             [
              0.4444444444444444,
              "#bd3786"
             ],
             [
              0.5555555555555556,
              "#d8576b"
             ],
             [
              0.6666666666666666,
              "#ed7953"
             ],
             [
              0.7777777777777778,
              "#fb9f3a"
             ],
             [
              0.8888888888888888,
              "#fdca26"
             ],
             [
              1,
              "#f0f921"
             ]
            ],
            "type": "heatmap"
           }
          ],
          "histogram": [
           {
            "marker": {
             "pattern": {
              "fillmode": "overlay",
              "size": 10,
              "solidity": 0.2
             }
            },
            "type": "histogram"
           }
          ],
          "histogram2d": [
           {
            "colorbar": {
             "outlinewidth": 0,
             "ticks": ""
            },
            "colorscale": [
             [
              0,
              "#0d0887"
             ],
             [
              0.1111111111111111,
              "#46039f"
             ],
             [
              0.2222222222222222,
              "#7201a8"
             ],
             [
              0.3333333333333333,
              "#9c179e"
             ],
             [
              0.4444444444444444,
              "#bd3786"
             ],
             [
              0.5555555555555556,
              "#d8576b"
             ],
             [
              0.6666666666666666,
              "#ed7953"
             ],
             [
              0.7777777777777778,
              "#fb9f3a"
             ],
             [
              0.8888888888888888,
              "#fdca26"
             ],
             [
              1,
              "#f0f921"
             ]
            ],
            "type": "histogram2d"
           }
          ],
          "histogram2dcontour": [
           {
            "colorbar": {
             "outlinewidth": 0,
             "ticks": ""
            },
            "colorscale": [
             [
              0,
              "#0d0887"
             ],
             [
              0.1111111111111111,
              "#46039f"
             ],
             [
              0.2222222222222222,
              "#7201a8"
             ],
             [
              0.3333333333333333,
              "#9c179e"
             ],
             [
              0.4444444444444444,
              "#bd3786"
             ],
             [
              0.5555555555555556,
              "#d8576b"
             ],
             [
              0.6666666666666666,
              "#ed7953"
             ],
             [
              0.7777777777777778,
              "#fb9f3a"
             ],
             [
              0.8888888888888888,
              "#fdca26"
             ],
             [
              1,
              "#f0f921"
             ]
            ],
            "type": "histogram2dcontour"
           }
          ],
          "mesh3d": [
           {
            "colorbar": {
             "outlinewidth": 0,
             "ticks": ""
            },
            "type": "mesh3d"
           }
          ],
          "parcoords": [
           {
            "line": {
             "colorbar": {
              "outlinewidth": 0,
              "ticks": ""
             }
            },
            "type": "parcoords"
           }
          ],
          "pie": [
           {
            "automargin": true,
            "type": "pie"
           }
          ],
          "scatter": [
           {
            "fillpattern": {
             "fillmode": "overlay",
             "size": 10,
             "solidity": 0.2
            },
            "type": "scatter"
           }
          ],
          "scatter3d": [
           {
            "line": {
             "colorbar": {
              "outlinewidth": 0,
              "ticks": ""
             }
            },
            "marker": {
             "colorbar": {
              "outlinewidth": 0,
              "ticks": ""
             }
            },
            "type": "scatter3d"
           }
          ],
          "scattercarpet": [
           {
            "marker": {
             "colorbar": {
              "outlinewidth": 0,
              "ticks": ""
             }
            },
            "type": "scattercarpet"
           }
          ],
          "scattergeo": [
           {
            "marker": {
             "colorbar": {
              "outlinewidth": 0,
              "ticks": ""
             }
            },
            "type": "scattergeo"
           }
          ],
          "scattergl": [
           {
            "marker": {
             "colorbar": {
              "outlinewidth": 0,
              "ticks": ""
             }
            },
            "type": "scattergl"
           }
          ],
          "scattermap": [
           {
            "marker": {
             "colorbar": {
              "outlinewidth": 0,
              "ticks": ""
             }
            },
            "type": "scattermap"
           }
          ],
          "scattermapbox": [
           {
            "marker": {
             "colorbar": {
              "outlinewidth": 0,
              "ticks": ""
             }
            },
            "type": "scattermapbox"
           }
          ],
          "scatterpolar": [
           {
            "marker": {
             "colorbar": {
              "outlinewidth": 0,
              "ticks": ""
             }
            },
            "type": "scatterpolar"
           }
          ],
          "scatterpolargl": [
           {
            "marker": {
             "colorbar": {
              "outlinewidth": 0,
              "ticks": ""
             }
            },
            "type": "scatterpolargl"
           }
          ],
          "scatterternary": [
           {
            "marker": {
             "colorbar": {
              "outlinewidth": 0,
              "ticks": ""
             }
            },
            "type": "scatterternary"
           }
          ],
          "surface": [
           {
            "colorbar": {
             "outlinewidth": 0,
             "ticks": ""
            },
            "colorscale": [
             [
              0,
              "#0d0887"
             ],
             [
              0.1111111111111111,
              "#46039f"
             ],
             [
              0.2222222222222222,
              "#7201a8"
             ],
             [
              0.3333333333333333,
              "#9c179e"
             ],
             [
              0.4444444444444444,
              "#bd3786"
             ],
             [
              0.5555555555555556,
              "#d8576b"
             ],
             [
              0.6666666666666666,
              "#ed7953"
             ],
             [
              0.7777777777777778,
              "#fb9f3a"
             ],
             [
              0.8888888888888888,
              "#fdca26"
             ],
             [
              1,
              "#f0f921"
             ]
            ],
            "type": "surface"
           }
          ],
          "table": [
           {
            "cells": {
             "fill": {
              "color": "#EBF0F8"
             },
             "line": {
              "color": "white"
             }
            },
            "header": {
             "fill": {
              "color": "#C8D4E3"
             },
             "line": {
              "color": "white"
             }
            },
            "type": "table"
           }
          ]
         },
         "layout": {
          "annotationdefaults": {
           "arrowcolor": "#2a3f5f",
           "arrowhead": 0,
           "arrowwidth": 1
          },
          "autotypenumbers": "strict",
          "coloraxis": {
           "colorbar": {
            "outlinewidth": 0,
            "ticks": ""
           }
          },
          "colorscale": {
           "diverging": [
            [
             0,
             "#8e0152"
            ],
            [
             0.1,
             "#c51b7d"
            ],
            [
             0.2,
             "#de77ae"
            ],
            [
             0.3,
             "#f1b6da"
            ],
            [
             0.4,
             "#fde0ef"
            ],
            [
             0.5,
             "#f7f7f7"
            ],
            [
             0.6,
             "#e6f5d0"
            ],
            [
             0.7,
             "#b8e186"
            ],
            [
             0.8,
             "#7fbc41"
            ],
            [
             0.9,
             "#4d9221"
            ],
            [
             1,
             "#276419"
            ]
           ],
           "sequential": [
            [
             0,
             "#0d0887"
            ],
            [
             0.1111111111111111,
             "#46039f"
            ],
            [
             0.2222222222222222,
             "#7201a8"
            ],
            [
             0.3333333333333333,
             "#9c179e"
            ],
            [
             0.4444444444444444,
             "#bd3786"
            ],
            [
             0.5555555555555556,
             "#d8576b"
            ],
            [
             0.6666666666666666,
             "#ed7953"
            ],
            [
             0.7777777777777778,
             "#fb9f3a"
            ],
            [
             0.8888888888888888,
             "#fdca26"
            ],
            [
             1,
             "#f0f921"
            ]
           ],
           "sequentialminus": [
            [
             0,
             "#0d0887"
            ],
            [
             0.1111111111111111,
             "#46039f"
            ],
            [
             0.2222222222222222,
             "#7201a8"
            ],
            [
             0.3333333333333333,
             "#9c179e"
            ],
            [
             0.4444444444444444,
             "#bd3786"
            ],
            [
             0.5555555555555556,
             "#d8576b"
            ],
            [
             0.6666666666666666,
             "#ed7953"
            ],
            [
             0.7777777777777778,
             "#fb9f3a"
            ],
            [
             0.8888888888888888,
             "#fdca26"
            ],
            [
             1,
             "#f0f921"
            ]
           ]
          },
          "colorway": [
           "#636efa",
           "#EF553B",
           "#00cc96",
           "#ab63fa",
           "#FFA15A",
           "#19d3f3",
           "#FF6692",
           "#B6E880",
           "#FF97FF",
           "#FECB52"
          ],
          "font": {
           "color": "#2a3f5f"
          },
          "geo": {
           "bgcolor": "white",
           "lakecolor": "white",
           "landcolor": "#E5ECF6",
           "showlakes": true,
           "showland": true,
           "subunitcolor": "white"
          },
          "hoverlabel": {
           "align": "left"
          },
          "hovermode": "closest",
          "mapbox": {
           "style": "light"
          },
          "paper_bgcolor": "white",
          "plot_bgcolor": "#E5ECF6",
          "polar": {
           "angularaxis": {
            "gridcolor": "white",
            "linecolor": "white",
            "ticks": ""
           },
           "bgcolor": "#E5ECF6",
           "radialaxis": {
            "gridcolor": "white",
            "linecolor": "white",
            "ticks": ""
           }
          },
          "scene": {
           "xaxis": {
            "backgroundcolor": "#E5ECF6",
            "gridcolor": "white",
            "gridwidth": 2,
            "linecolor": "white",
            "showbackground": true,
            "ticks": "",
            "zerolinecolor": "white"
           },
           "yaxis": {
            "backgroundcolor": "#E5ECF6",
            "gridcolor": "white",
            "gridwidth": 2,
            "linecolor": "white",
            "showbackground": true,
            "ticks": "",
            "zerolinecolor": "white"
           },
           "zaxis": {
            "backgroundcolor": "#E5ECF6",
            "gridcolor": "white",
            "gridwidth": 2,
            "linecolor": "white",
            "showbackground": true,
            "ticks": "",
            "zerolinecolor": "white"
           }
          },
          "shapedefaults": {
           "line": {
            "color": "#2a3f5f"
           }
          },
          "ternary": {
           "aaxis": {
            "gridcolor": "white",
            "linecolor": "white",
            "ticks": ""
           },
           "baxis": {
            "gridcolor": "white",
            "linecolor": "white",
            "ticks": ""
           },
           "bgcolor": "#E5ECF6",
           "caxis": {
            "gridcolor": "white",
            "linecolor": "white",
            "ticks": ""
           }
          },
          "title": {
           "x": 0.05
          },
          "xaxis": {
           "automargin": true,
           "gridcolor": "white",
           "linecolor": "white",
           "ticks": "",
           "title": {
            "standoff": 15
           },
           "zerolinecolor": "white",
           "zerolinewidth": 2
          },
          "yaxis": {
           "automargin": true,
           "gridcolor": "white",
           "linecolor": "white",
           "ticks": "",
           "title": {
            "standoff": 15
           },
           "zerolinecolor": "white",
           "zerolinewidth": 2
          }
         }
        },
        "title": {
         "text": "Distribusi Job Role berdasarkan Level Risiko"
        },
        "width": 900,
        "xaxis": {
         "anchor": "y",
         "domain": [
          0,
          1
         ],
         "title": {
          "text": "Level Risiko"
         }
        },
        "yaxis": {
         "anchor": "x",
         "domain": [
          0,
          1
         ],
         "title": {
          "text": "Persentase (%)"
         }
        }
       }
      }
     },
     "metadata": {},
     "output_type": "display_data"
    },
    {
     "name": "stdout",
     "output_type": "stream",
     "text": [
      "Visualisasi disimpan sebagai 'jobrole_by_risk_binary_colorblind.png'\n"
     ]
    }
   ],
   "source": [
    "# 18. Analisis distribusi job role per level risiko dengan Plotly\n",
    "if 'JobRole' in df.columns:\n",
    "    role_by_risk = pd.crosstab(df['RiskLevel'], df['JobRole'], normalize='index') * 100\n",
    "    \n",
    "    print(\"\\nDistribusi Job Role (%) per Level Risiko:\")\n",
    "    print(role_by_risk)\n",
    "    \n",
    "    # Reshape data untuk Plotly\n",
    "    role_data = []\n",
    "    for risk_level in role_by_risk.index:\n",
    "        for role in role_by_risk.columns:\n",
    "            role_data.append({\n",
    "                'RiskLevel': risk_level,\n",
    "                'JobRole': role,\n",
    "                'Percentage': role_by_risk.loc[risk_level, role]\n",
    "            })\n",
    "    \n",
    "    role_df = pd.DataFrame(role_data)\n",
    "    \n",
    "    fig = px.bar(\n",
    "        role_df,\n",
    "        x='RiskLevel',\n",
    "        y='Percentage',\n",
    "        color='JobRole',\n",
    "        color_discrete_sequence=px.colors.qualitative.Plotly,  # Colorblind friendly\n",
    "        title='Distribusi Job Role berdasarkan Level Risiko',\n",
    "        height=600,\n",
    "        width=900,\n",
    "        barmode='stack'\n",
    "    )\n",
    "    fig.update_layout(\n",
    "        xaxis_title='Level Risiko',\n",
    "        yaxis_title='Persentase (%)',\n",
    "        legend_title='Job Role',\n",
    "        font=dict(size=12)\n",
    "    )\n",
    "    \n",
    "    # Tampilkan dan simpan visualisasi distribusi job role\n",
    "    display_and_save_figure(fig, \"jobrole_by_risk_binary_colorblind.png\")"
   ]
  },
  {
   "cell_type": "code",
   "execution_count": 29,
   "id": "fe036ee3",
   "metadata": {},
   "outputs": [
    {
     "name": "stdout",
     "output_type": "stream",
     "text": [
      "\n",
      "================================================================================\n",
      "DASHBOARD RINGKASAN\n",
      "================================================================================\n"
     ]
    },
    {
     "data": {
      "application/vnd.plotly.v1+json": {
       "config": {
        "plotlyServerURL": "https://plot.ly"
       },
       "data": [
        {
         "marker": {
          "color": "#FE6100",
          "size": 8
         },
         "mode": "markers",
         "name": "Risiko Tinggi",
         "type": "scatter",
         "x": {
          "bdata": "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",
          "dtype": "f4"
         },
         "xaxis": "x",
         "y": {
          "bdata": "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",
          "dtype": "f4"
         },
         "yaxis": "y"
        },
        {
         "marker": {
          "color": "#648FFF",
          "size": 8
         },
         "mode": "markers",
         "name": "Risiko Rendah",
         "type": "scatter",
         "x": {
          "bdata": "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",
          "dtype": "f4"
         },
         "xaxis": "x",
         "y": {
          "bdata": "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",
          "dtype": "f4"
         },
         "yaxis": "y"
        },
        {
         "marker": {
          "color": "#648FFF"
         },
         "name": "Risiko Rendah",
         "showlegend": false,
         "text": [
          "586 (55.4%)"
         ],
         "textposition": "inside",
         "type": "bar",
         "x": [
          "Risiko Rendah"
         ],
         "xaxis": "x2",
         "y": [
          586
         ],
         "yaxis": "y2"
        },
        {
         "marker": {
          "color": "#FE6100"
         },
         "name": "Risiko Tinggi",
         "showlegend": false,
         "text": [
          "472 (44.6%)"
         ],
         "textposition": "inside",
         "type": "bar",
         "x": [
          "Risiko Tinggi"
         ],
         "xaxis": "x2",
         "y": [
          472
         ],
         "yaxis": "y2"
        },
        {
         "marker": {
          "color": "#648FFF"
         },
         "name": "StockOptionLevel",
         "showlegend": false,
         "text": [
          "-99.5%"
         ],
         "textposition": "outside",
         "type": "bar",
         "x": [
          "StockOptionLevel"
         ],
         "xaxis": "x3",
         "y": [
          -99.53674424487731
         ],
         "yaxis": "y3"
        },
        {
         "marker": {
          "color": "#648FFF"
         },
         "name": "MonthlyIncome",
         "showlegend": false,
         "text": [
          "-10.1%"
         ],
         "textposition": "outside",
         "type": "bar",
         "x": [
          "MonthlyIncome"
         ],
         "xaxis": "x3",
         "y": [
          -10.14554236710505
         ],
         "yaxis": "y3"
        },
        {
         "marker": {
          "color": "#FE6100"
         },
         "name": "MonthlyRate",
         "showlegend": false,
         "text": [
          "+4.4%"
         ],
         "textposition": "outside",
         "type": "bar",
         "x": [
          "MonthlyRate"
         ],
         "xaxis": "x3",
         "y": [
          4.444597316729994
         ],
         "yaxis": "y3"
        },
        {
         "marker": {
          "color": "#648FFF"
         },
         "name": "DailyRate",
         "showlegend": false,
         "text": [
          "-4.2%"
         ],
         "textposition": "outside",
         "type": "bar",
         "x": [
          "DailyRate"
         ],
         "xaxis": "x3",
         "y": [
          -4.203889162984776
         ],
         "yaxis": "y3"
        },
        {
         "marker": {
          "color": "#648FFF"
         },
         "name": "Age",
         "showlegend": false,
         "text": [
          "-2.9%"
         ],
         "textposition": "outside",
         "type": "bar",
         "x": [
          "Age"
         ],
         "xaxis": "x3",
         "y": [
          -2.9372342908555646
         ],
         "yaxis": "y3"
        },
        {
         "marker": {
          "color": "#648FFF"
         },
         "name": "Risiko Rendah - Research & Development",
         "opacity": 0.7,
         "showlegend": false,
         "text": [
          "66.9%"
         ],
         "textposition": "outside",
         "type": "bar",
         "x": [
          "Research & Development"
         ],
         "xaxis": "x4",
         "y": [
          66.89419795221842
         ],
         "yaxis": "y4"
        },
        {
         "marker": {
          "color": "#648FFF"
         },
         "name": "Risiko Rendah - Sales",
         "opacity": 0.7,
         "showlegend": false,
         "text": [
          "29.2%"
         ],
         "textposition": "outside",
         "type": "bar",
         "x": [
          "Sales"
         ],
         "xaxis": "x4",
         "y": [
          29.180887372013654
         ],
         "yaxis": "y4"
        },
        {
         "marker": {
          "color": "#648FFF"
         },
         "name": "Risiko Rendah - Human Resources",
         "opacity": 0.7,
         "showlegend": false,
         "text": [
          "3.9%"
         ],
         "textposition": "outside",
         "type": "bar",
         "x": [
          "Human Resources"
         ],
         "xaxis": "x4",
         "y": [
          3.9249146757679183
         ],
         "yaxis": "y4"
        },
        {
         "marker": {
          "color": "#FE6100"
         },
         "name": "Risiko Tinggi - Research & Development",
         "opacity": 0.7,
         "showlegend": false,
         "text": [
          "65.5%"
         ],
         "textposition": "outside",
         "type": "bar",
         "x": [
          "Research & Development"
         ],
         "xaxis": "x4",
         "y": [
          65.46610169491525
         ],
         "yaxis": "y4"
        },
        {
         "marker": {
          "color": "#FE6100"
         },
         "name": "Risiko Tinggi - Sales",
         "opacity": 0.7,
         "showlegend": false,
         "text": [
          "31.4%"
         ],
         "textposition": "outside",
         "type": "bar",
         "x": [
          "Sales"
         ],
         "xaxis": "x4",
         "y": [
          31.35593220338983
         ],
         "yaxis": "y4"
        },
        {
         "marker": {
          "color": "#FE6100"
         },
         "name": "Risiko Tinggi - Human Resources",
         "opacity": 0.7,
         "showlegend": false,
         "text": [
          "3.2%"
         ],
         "textposition": "outside",
         "type": "bar",
         "x": [
          "Human Resources"
         ],
         "xaxis": "x4",
         "y": [
          3.1779661016949152
         ],
         "yaxis": "y4"
        }
       ],
       "layout": {
        "annotations": [
         {
          "font": {
           "size": 16
          },
          "showarrow": false,
          "text": "Segmentasi Risiko Attrition",
          "x": 0.23,
          "xanchor": "center",
          "xref": "paper",
          "y": 1,
          "yanchor": "bottom",
          "yref": "paper"
         },
         {
          "font": {
           "size": 16
          },
          "showarrow": false,
          "text": "Distribusi Karyawan berdasarkan Risiko",
          "x": 0.77,
          "xanchor": "center",
          "xref": "paper",
          "y": 1,
          "yanchor": "bottom",
          "yref": "paper"
         },
         {
          "font": {
           "size": 16
          },
          "showarrow": false,
          "text": "Top 5 Perbedaan Karakteristik",
          "x": 0.23,
          "xanchor": "center",
          "xref": "paper",
          "y": 0.44,
          "yanchor": "bottom",
          "yref": "paper"
         },
         {
          "font": {
           "size": 16
          },
          "showarrow": false,
          "text": "Distribusi Department per Risiko",
          "x": 0.77,
          "xanchor": "center",
          "xref": "paper",
          "y": 0.44,
          "yanchor": "bottom",
          "yref": "paper"
         }
        ],
        "font": {
         "size": 12
        },
        "height": 900,
        "legend": {
         "orientation": "h",
         "x": 1,
         "xanchor": "right",
         "y": 1.02,
         "yanchor": "bottom"
        },
        "shapes": [
         {
          "line": {
           "color": "black",
           "dash": "dash",
           "width": 1
          },
          "type": "line",
          "x0": -0.5,
          "x1": 4.5,
          "xref": "x3",
          "y0": 0,
          "y1": 0,
          "yref": "y3"
         }
        ],
        "showlegend": true,
        "template": {
         "data": {
          "bar": [
           {
            "error_x": {
             "color": "#2a3f5f"
            },
            "error_y": {
             "color": "#2a3f5f"
            },
            "marker": {
             "line": {
              "color": "#E5ECF6",
              "width": 0.5
             },
             "pattern": {
              "fillmode": "overlay",
              "size": 10,
              "solidity": 0.2
             }
            },
            "type": "bar"
           }
          ],
          "barpolar": [
           {
            "marker": {
             "line": {
              "color": "#E5ECF6",
              "width": 0.5
             },
             "pattern": {
              "fillmode": "overlay",
              "size": 10,
              "solidity": 0.2
             }
            },
            "type": "barpolar"
           }
          ],
          "carpet": [
           {
            "aaxis": {
             "endlinecolor": "#2a3f5f",
             "gridcolor": "white",
             "linecolor": "white",
             "minorgridcolor": "white",
             "startlinecolor": "#2a3f5f"
            },
            "baxis": {
             "endlinecolor": "#2a3f5f",
             "gridcolor": "white",
             "linecolor": "white",
             "minorgridcolor": "white",
             "startlinecolor": "#2a3f5f"
            },
            "type": "carpet"
           }
          ],
          "choropleth": [
           {
            "colorbar": {
             "outlinewidth": 0,
             "ticks": ""
            },
            "type": "choropleth"
           }
          ],
          "contour": [
           {
            "colorbar": {
             "outlinewidth": 0,
             "ticks": ""
            },
            "colorscale": [
             [
              0,
              "#0d0887"
             ],
             [
              0.1111111111111111,
              "#46039f"
             ],
             [
              0.2222222222222222,
              "#7201a8"
             ],
             [
              0.3333333333333333,
              "#9c179e"
             ],
             [
              0.4444444444444444,
              "#bd3786"
             ],
             [
              0.5555555555555556,
              "#d8576b"
             ],
             [
              0.6666666666666666,
              "#ed7953"
             ],
             [
              0.7777777777777778,
              "#fb9f3a"
             ],
             [
              0.8888888888888888,
              "#fdca26"
             ],
             [
              1,
              "#f0f921"
             ]
            ],
            "type": "contour"
           }
          ],
          "contourcarpet": [
           {
            "colorbar": {
             "outlinewidth": 0,
             "ticks": ""
            },
            "type": "contourcarpet"
           }
          ],
          "heatmap": [
           {
            "colorbar": {
             "outlinewidth": 0,
             "ticks": ""
            },
            "colorscale": [
             [
              0,
              "#0d0887"
             ],
             [
              0.1111111111111111,
              "#46039f"
             ],
             [
              0.2222222222222222,
              "#7201a8"
             ],
             [
              0.3333333333333333,
              "#9c179e"
             ],
             [
              0.4444444444444444,
              "#bd3786"
             ],
             [
              0.5555555555555556,
              "#d8576b"
             ],
             [
              0.6666666666666666,
              "#ed7953"
             ],
             [
              0.7777777777777778,
              "#fb9f3a"
             ],
             [
              0.8888888888888888,
              "#fdca26"
             ],
             [
              1,
              "#f0f921"
             ]
            ],
            "type": "heatmap"
           }
          ],
          "histogram": [
           {
            "marker": {
             "pattern": {
              "fillmode": "overlay",
              "size": 10,
              "solidity": 0.2
             }
            },
            "type": "histogram"
           }
          ],
          "histogram2d": [
           {
            "colorbar": {
             "outlinewidth": 0,
             "ticks": ""
            },
            "colorscale": [
             [
              0,
              "#0d0887"
             ],
             [
              0.1111111111111111,
              "#46039f"
             ],
             [
              0.2222222222222222,
              "#7201a8"
             ],
             [
              0.3333333333333333,
              "#9c179e"
             ],
             [
              0.4444444444444444,
              "#bd3786"
             ],
             [
              0.5555555555555556,
              "#d8576b"
             ],
             [
              0.6666666666666666,
              "#ed7953"
             ],
             [
              0.7777777777777778,
              "#fb9f3a"
             ],
             [
              0.8888888888888888,
              "#fdca26"
             ],
             [
              1,
              "#f0f921"
             ]
            ],
            "type": "histogram2d"
           }
          ],
          "histogram2dcontour": [
           {
            "colorbar": {
             "outlinewidth": 0,
             "ticks": ""
            },
            "colorscale": [
             [
              0,
              "#0d0887"
             ],
             [
              0.1111111111111111,
              "#46039f"
             ],
             [
              0.2222222222222222,
              "#7201a8"
             ],
             [
              0.3333333333333333,
              "#9c179e"
             ],
             [
              0.4444444444444444,
              "#bd3786"
             ],
             [
              0.5555555555555556,
              "#d8576b"
             ],
             [
              0.6666666666666666,
              "#ed7953"
             ],
             [
              0.7777777777777778,
              "#fb9f3a"
             ],
             [
              0.8888888888888888,
              "#fdca26"
             ],
             [
              1,
              "#f0f921"
             ]
            ],
            "type": "histogram2dcontour"
           }
          ],
          "mesh3d": [
           {
            "colorbar": {
             "outlinewidth": 0,
             "ticks": ""
            },
            "type": "mesh3d"
           }
          ],
          "parcoords": [
           {
            "line": {
             "colorbar": {
              "outlinewidth": 0,
              "ticks": ""
             }
            },
            "type": "parcoords"
           }
          ],
          "pie": [
           {
            "automargin": true,
            "type": "pie"
           }
          ],
          "scatter": [
           {
            "fillpattern": {
             "fillmode": "overlay",
             "size": 10,
             "solidity": 0.2
            },
            "type": "scatter"
           }
          ],
          "scatter3d": [
           {
            "line": {
             "colorbar": {
              "outlinewidth": 0,
              "ticks": ""
             }
            },
            "marker": {
             "colorbar": {
              "outlinewidth": 0,
              "ticks": ""
             }
            },
            "type": "scatter3d"
           }
          ],
          "scattercarpet": [
           {
            "marker": {
             "colorbar": {
              "outlinewidth": 0,
              "ticks": ""
             }
            },
            "type": "scattercarpet"
           }
          ],
          "scattergeo": [
           {
            "marker": {
             "colorbar": {
              "outlinewidth": 0,
              "ticks": ""
             }
            },
            "type": "scattergeo"
           }
          ],
          "scattergl": [
           {
            "marker": {
             "colorbar": {
              "outlinewidth": 0,
              "ticks": ""
             }
            },
            "type": "scattergl"
           }
          ],
          "scattermap": [
           {
            "marker": {
             "colorbar": {
              "outlinewidth": 0,
              "ticks": ""
             }
            },
            "type": "scattermap"
           }
          ],
          "scattermapbox": [
           {
            "marker": {
             "colorbar": {
              "outlinewidth": 0,
              "ticks": ""
             }
            },
            "type": "scattermapbox"
           }
          ],
          "scatterpolar": [
           {
            "marker": {
             "colorbar": {
              "outlinewidth": 0,
              "ticks": ""
             }
            },
            "type": "scatterpolar"
           }
          ],
          "scatterpolargl": [
           {
            "marker": {
             "colorbar": {
              "outlinewidth": 0,
              "ticks": ""
             }
            },
            "type": "scatterpolargl"
           }
          ],
          "scatterternary": [
           {
            "marker": {
             "colorbar": {
              "outlinewidth": 0,
              "ticks": ""
             }
            },
            "type": "scatterternary"
           }
          ],
          "surface": [
           {
            "colorbar": {
             "outlinewidth": 0,
             "ticks": ""
            },
            "colorscale": [
             [
              0,
              "#0d0887"
             ],
             [
              0.1111111111111111,
              "#46039f"
             ],
             [
              0.2222222222222222,
              "#7201a8"
             ],
             [
              0.3333333333333333,
              "#9c179e"
             ],
             [
              0.4444444444444444,
              "#bd3786"
             ],
             [
              0.5555555555555556,
              "#d8576b"
             ],
             [
              0.6666666666666666,
              "#ed7953"
             ],
             [
              0.7777777777777778,
              "#fb9f3a"
             ],
             [
              0.8888888888888888,
              "#fdca26"
             ],
             [
              1,
              "#f0f921"
             ]
            ],
            "type": "surface"
           }
          ],
          "table": [
           {
            "cells": {
             "fill": {
              "color": "#EBF0F8"
             },
             "line": {
              "color": "white"
             }
            },
            "header": {
             "fill": {
              "color": "#C8D4E3"
             },
             "line": {
              "color": "white"
             }
            },
            "type": "table"
           }
          ]
         },
         "layout": {
          "annotationdefaults": {
           "arrowcolor": "#2a3f5f",
           "arrowhead": 0,
           "arrowwidth": 1
          },
          "autotypenumbers": "strict",
          "coloraxis": {
           "colorbar": {
            "outlinewidth": 0,
            "ticks": ""
           }
          },
          "colorscale": {
           "diverging": [
            [
             0,
             "#8e0152"
            ],
            [
             0.1,
             "#c51b7d"
            ],
            [
             0.2,
             "#de77ae"
            ],
            [
             0.3,
             "#f1b6da"
            ],
            [
             0.4,
             "#fde0ef"
            ],
            [
             0.5,
             "#f7f7f7"
            ],
            [
             0.6,
             "#e6f5d0"
            ],
            [
             0.7,
             "#b8e186"
            ],
            [
             0.8,
             "#7fbc41"
            ],
            [
             0.9,
             "#4d9221"
            ],
            [
             1,
             "#276419"
            ]
           ],
           "sequential": [
            [
             0,
             "#0d0887"
            ],
            [
             0.1111111111111111,
             "#46039f"
            ],
            [
             0.2222222222222222,
             "#7201a8"
            ],
            [
             0.3333333333333333,
             "#9c179e"
            ],
            [
             0.4444444444444444,
             "#bd3786"
            ],
            [
             0.5555555555555556,
             "#d8576b"
            ],
            [
             0.6666666666666666,
             "#ed7953"
            ],
            [
             0.7777777777777778,
             "#fb9f3a"
            ],
            [
             0.8888888888888888,
             "#fdca26"
            ],
            [
             1,
             "#f0f921"
            ]
           ],
           "sequentialminus": [
            [
             0,
             "#0d0887"
            ],
            [
             0.1111111111111111,
             "#46039f"
            ],
            [
             0.2222222222222222,
             "#7201a8"
            ],
            [
             0.3333333333333333,
             "#9c179e"
            ],
            [
             0.4444444444444444,
             "#bd3786"
            ],
            [
             0.5555555555555556,
             "#d8576b"
            ],
            [
             0.6666666666666666,
             "#ed7953"
            ],
            [
             0.7777777777777778,
             "#fb9f3a"
            ],
            [
             0.8888888888888888,
             "#fdca26"
            ],
            [
             1,
             "#f0f921"
            ]
           ]
          },
          "colorway": [
           "#636efa",
           "#EF553B",
           "#00cc96",
           "#ab63fa",
           "#FFA15A",
           "#19d3f3",
           "#FF6692",
           "#B6E880",
           "#FF97FF",
           "#FECB52"
          ],
          "font": {
           "color": "#2a3f5f"
          },
          "geo": {
           "bgcolor": "white",
           "lakecolor": "white",
           "landcolor": "#E5ECF6",
           "showlakes": true,
           "showland": true,
           "subunitcolor": "white"
          },
          "hoverlabel": {
           "align": "left"
          },
          "hovermode": "closest",
          "mapbox": {
           "style": "light"
          },
          "paper_bgcolor": "white",
          "plot_bgcolor": "#E5ECF6",
          "polar": {
           "angularaxis": {
            "gridcolor": "white",
            "linecolor": "white",
            "ticks": ""
           },
           "bgcolor": "#E5ECF6",
           "radialaxis": {
            "gridcolor": "white",
            "linecolor": "white",
            "ticks": ""
           }
          },
          "scene": {
           "xaxis": {
            "backgroundcolor": "#E5ECF6",
            "gridcolor": "white",
            "gridwidth": 2,
            "linecolor": "white",
            "showbackground": true,
            "ticks": "",
            "zerolinecolor": "white"
           },
           "yaxis": {
            "backgroundcolor": "#E5ECF6",
            "gridcolor": "white",
            "gridwidth": 2,
            "linecolor": "white",
            "showbackground": true,
            "ticks": "",
            "zerolinecolor": "white"
           },
           "zaxis": {
            "backgroundcolor": "#E5ECF6",
            "gridcolor": "white",
            "gridwidth": 2,
            "linecolor": "white",
            "showbackground": true,
            "ticks": "",
            "zerolinecolor": "white"
           }
          },
          "shapedefaults": {
           "line": {
            "color": "#2a3f5f"
           }
          },
          "ternary": {
           "aaxis": {
            "gridcolor": "white",
            "linecolor": "white",
            "ticks": ""
           },
           "baxis": {
            "gridcolor": "white",
            "linecolor": "white",
            "ticks": ""
           },
           "bgcolor": "#E5ECF6",
           "caxis": {
            "gridcolor": "white",
            "linecolor": "white",
            "ticks": ""
           }
          },
          "title": {
           "x": 0.05
          },
          "xaxis": {
           "automargin": true,
           "gridcolor": "white",
           "linecolor": "white",
           "ticks": "",
           "title": {
            "standoff": 15
           },
           "zerolinecolor": "white",
           "zerolinewidth": 2
          },
          "yaxis": {
           "automargin": true,
           "gridcolor": "white",
           "linecolor": "white",
           "ticks": "",
           "title": {
            "standoff": 15
           },
           "zerolinecolor": "white",
           "zerolinewidth": 2
          }
         }
        },
        "title": {
         "text": "DASHBOARD SEGMENTASI RISIKO ATTRITION KARYAWAN"
        },
        "width": 1200,
        "xaxis": {
         "anchor": "y",
         "domain": [
          0,
          0.46
         ],
         "title": {
          "text": "UMAP Dimension 1"
         }
        },
        "xaxis2": {
         "anchor": "y2",
         "domain": [
          0.54,
          1
         ],
         "title": {
          "text": "Level Risiko"
         }
        },
        "xaxis3": {
         "anchor": "y3",
         "domain": [
          0,
          0.46
         ],
         "title": {
          "text": "Fitur"
         }
        },
        "xaxis4": {
         "anchor": "y4",
         "domain": [
          0.54,
          1
         ],
         "title": {
          "text": "Department"
         }
        },
        "yaxis": {
         "anchor": "x",
         "domain": [
          0.56,
          1
         ],
         "title": {
          "text": "UMAP Dimension 2"
         }
        },
        "yaxis2": {
         "anchor": "x2",
         "domain": [
          0.56,
          1
         ],
         "title": {
          "text": "Jumlah Karyawan"
         }
        },
        "yaxis3": {
         "anchor": "x3",
         "domain": [
          0,
          0.44
         ],
         "title": {
          "text": "Perbedaan (%)"
         }
        },
        "yaxis4": {
         "anchor": "x4",
         "domain": [
          0,
          0.44
         ],
         "title": {
          "text": "Persentase (%)"
         }
        }
       }
      }
     },
     "metadata": {},
     "output_type": "display_data"
    },
    {
     "name": "stdout",
     "output_type": "stream",
     "text": [
      "Visualisasi disimpan sebagai 'dashboard_binary_risk_colorblind.png'\n"
     ]
    },
    {
     "data": {
      "application/vnd.plotly.v1+json": {
       "config": {
        "plotlyServerURL": "https://plot.ly"
       },
       "data": [
        {
         "marker": {
          "color": "#FE6100",
          "size": 8
         },
         "mode": "markers",
         "name": "Risiko Tinggi",
         "type": "scatter",
         "x": {
          "bdata": "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",
          "dtype": "f4"
         },
         "xaxis": "x",
         "y": {
          "bdata": "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",
          "dtype": "f4"
         },
         "yaxis": "y"
        },
        {
         "marker": {
          "color": "#648FFF",
          "size": 8
         },
         "mode": "markers",
         "name": "Risiko Rendah",
         "type": "scatter",
         "x": {
          "bdata": "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",
          "dtype": "f4"
         },
         "xaxis": "x",
         "y": {
          "bdata": "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",
          "dtype": "f4"
         },
         "yaxis": "y"
        },
        {
         "marker": {
          "color": "#648FFF"
         },
         "name": "Risiko Rendah",
         "showlegend": false,
         "text": [
          "586 (55.4%)"
         ],
         "textposition": "inside",
         "type": "bar",
         "x": [
          "Risiko Rendah"
         ],
         "xaxis": "x2",
         "y": [
          586
         ],
         "yaxis": "y2"
        },
        {
         "marker": {
          "color": "#FE6100"
         },
         "name": "Risiko Tinggi",
         "showlegend": false,
         "text": [
          "472 (44.6%)"
         ],
         "textposition": "inside",
         "type": "bar",
         "x": [
          "Risiko Tinggi"
         ],
         "xaxis": "x2",
         "y": [
          472
         ],
         "yaxis": "y2"
        },
        {
         "marker": {
          "color": "#648FFF"
         },
         "name": "StockOptionLevel",
         "showlegend": false,
         "text": [
          "-99.5%"
         ],
         "textposition": "outside",
         "type": "bar",
         "x": [
          "StockOptionLevel"
         ],
         "xaxis": "x3",
         "y": [
          -99.53674424487731
         ],
         "yaxis": "y3"
        },
        {
         "marker": {
          "color": "#648FFF"
         },
         "name": "MonthlyIncome",
         "showlegend": false,
         "text": [
          "-10.1%"
         ],
         "textposition": "outside",
         "type": "bar",
         "x": [
          "MonthlyIncome"
         ],
         "xaxis": "x3",
         "y": [
          -10.14554236710505
         ],
         "yaxis": "y3"
        },
        {
         "marker": {
          "color": "#FE6100"
         },
         "name": "MonthlyRate",
         "showlegend": false,
         "text": [
          "+4.4%"
         ],
         "textposition": "outside",
         "type": "bar",
         "x": [
          "MonthlyRate"
         ],
         "xaxis": "x3",
         "y": [
          4.444597316729994
         ],
         "yaxis": "y3"
        },
        {
         "marker": {
          "color": "#648FFF"
         },
         "name": "DailyRate",
         "showlegend": false,
         "text": [
          "-4.2%"
         ],
         "textposition": "outside",
         "type": "bar",
         "x": [
          "DailyRate"
         ],
         "xaxis": "x3",
         "y": [
          -4.203889162984776
         ],
         "yaxis": "y3"
        },
        {
         "marker": {
          "color": "#648FFF"
         },
         "name": "Age",
         "showlegend": false,
         "text": [
          "-2.9%"
         ],
         "textposition": "outside",
         "type": "bar",
         "x": [
          "Age"
         ],
         "xaxis": "x3",
         "y": [
          -2.9372342908555646
         ],
         "yaxis": "y3"
        },
        {
         "marker": {
          "color": "#648FFF"
         },
         "name": "Risiko Rendah - Research & Development",
         "opacity": 0.7,
         "showlegend": false,
         "text": [
          "66.9%"
         ],
         "textposition": "outside",
         "type": "bar",
         "x": [
          "Research & Development"
         ],
         "xaxis": "x4",
         "y": [
          66.89419795221842
         ],
         "yaxis": "y4"
        },
        {
         "marker": {
          "color": "#648FFF"
         },
         "name": "Risiko Rendah - Sales",
         "opacity": 0.7,
         "showlegend": false,
         "text": [
          "29.2%"
         ],
         "textposition": "outside",
         "type": "bar",
         "x": [
          "Sales"
         ],
         "xaxis": "x4",
         "y": [
          29.180887372013654
         ],
         "yaxis": "y4"
        },
        {
         "marker": {
          "color": "#648FFF"
         },
         "name": "Risiko Rendah - Human Resources",
         "opacity": 0.7,
         "showlegend": false,
         "text": [
          "3.9%"
         ],
         "textposition": "outside",
         "type": "bar",
         "x": [
          "Human Resources"
         ],
         "xaxis": "x4",
         "y": [
          3.9249146757679183
         ],
         "yaxis": "y4"
        },
        {
         "marker": {
          "color": "#FE6100"
         },
         "name": "Risiko Tinggi - Research & Development",
         "opacity": 0.7,
         "showlegend": false,
         "text": [
          "65.5%"
         ],
         "textposition": "outside",
         "type": "bar",
         "x": [
          "Research & Development"
         ],
         "xaxis": "x4",
         "y": [
          65.46610169491525
         ],
         "yaxis": "y4"
        },
        {
         "marker": {
          "color": "#FE6100"
         },
         "name": "Risiko Tinggi - Sales",
         "opacity": 0.7,
         "showlegend": false,
         "text": [
          "31.4%"
         ],
         "textposition": "outside",
         "type": "bar",
         "x": [
          "Sales"
         ],
         "xaxis": "x4",
         "y": [
          31.35593220338983
         ],
         "yaxis": "y4"
        },
        {
         "marker": {
          "color": "#FE6100"
         },
         "name": "Risiko Tinggi - Human Resources",
         "opacity": 0.7,
         "showlegend": false,
         "text": [
          "3.2%"
         ],
         "textposition": "outside",
         "type": "bar",
         "x": [
          "Human Resources"
         ],
         "xaxis": "x4",
         "y": [
          3.1779661016949152
         ],
         "yaxis": "y4"
        }
       ],
       "layout": {
        "annotations": [
         {
          "font": {
           "size": 16
          },
          "showarrow": false,
          "text": "Segmentasi Risiko Attrition",
          "x": 0.23,
          "xanchor": "center",
          "xref": "paper",
          "y": 1,
          "yanchor": "bottom",
          "yref": "paper"
         },
         {
          "font": {
           "size": 16
          },
          "showarrow": false,
          "text": "Distribusi Karyawan berdasarkan Risiko",
          "x": 0.77,
          "xanchor": "center",
          "xref": "paper",
          "y": 1,
          "yanchor": "bottom",
          "yref": "paper"
         },
         {
          "font": {
           "size": 16
          },
          "showarrow": false,
          "text": "Top 5 Perbedaan Karakteristik",
          "x": 0.23,
          "xanchor": "center",
          "xref": "paper",
          "y": 0.44,
          "yanchor": "bottom",
          "yref": "paper"
         },
         {
          "font": {
           "size": 16
          },
          "showarrow": false,
          "text": "Distribusi Department per Risiko",
          "x": 0.77,
          "xanchor": "center",
          "xref": "paper",
          "y": 0.44,
          "yanchor": "bottom",
          "yref": "paper"
         }
        ],
        "font": {
         "size": 12
        },
        "height": 900,
        "legend": {
         "orientation": "h",
         "x": 1,
         "xanchor": "right",
         "y": 1.02,
         "yanchor": "bottom"
        },
        "shapes": [
         {
          "line": {
           "color": "black",
           "dash": "dash",
           "width": 1
          },
          "type": "line",
          "x0": -0.5,
          "x1": 4.5,
          "xref": "x3",
          "y0": 0,
          "y1": 0,
          "yref": "y3"
         }
        ],
        "showlegend": true,
        "template": {
         "data": {
          "bar": [
           {
            "error_x": {
             "color": "#2a3f5f"
            },
            "error_y": {
             "color": "#2a3f5f"
            },
            "marker": {
             "line": {
              "color": "#E5ECF6",
              "width": 0.5
             },
             "pattern": {
              "fillmode": "overlay",
              "size": 10,
              "solidity": 0.2
             }
            },
            "type": "bar"
           }
          ],
          "barpolar": [
           {
            "marker": {
             "line": {
              "color": "#E5ECF6",
              "width": 0.5
             },
             "pattern": {
              "fillmode": "overlay",
              "size": 10,
              "solidity": 0.2
             }
            },
            "type": "barpolar"
           }
          ],
          "carpet": [
           {
            "aaxis": {
             "endlinecolor": "#2a3f5f",
             "gridcolor": "white",
             "linecolor": "white",
             "minorgridcolor": "white",
             "startlinecolor": "#2a3f5f"
            },
            "baxis": {
             "endlinecolor": "#2a3f5f",
             "gridcolor": "white",
             "linecolor": "white",
             "minorgridcolor": "white",
             "startlinecolor": "#2a3f5f"
            },
            "type": "carpet"
           }
          ],
          "choropleth": [
           {
            "colorbar": {
             "outlinewidth": 0,
             "ticks": ""
            },
            "type": "choropleth"
           }
          ],
          "contour": [
           {
            "colorbar": {
             "outlinewidth": 0,
             "ticks": ""
            },
            "colorscale": [
             [
              0,
              "#0d0887"
             ],
             [
              0.1111111111111111,
              "#46039f"
             ],
             [
              0.2222222222222222,
              "#7201a8"
             ],
             [
              0.3333333333333333,
              "#9c179e"
             ],
             [
              0.4444444444444444,
              "#bd3786"
             ],
             [
              0.5555555555555556,
              "#d8576b"
             ],
             [
              0.6666666666666666,
              "#ed7953"
             ],
             [
              0.7777777777777778,
              "#fb9f3a"
             ],
             [
              0.8888888888888888,
              "#fdca26"
             ],
             [
              1,
              "#f0f921"
             ]
            ],
            "type": "contour"
           }
          ],
          "contourcarpet": [
           {
            "colorbar": {
             "outlinewidth": 0,
             "ticks": ""
            },
            "type": "contourcarpet"
           }
          ],
          "heatmap": [
           {
            "colorbar": {
             "outlinewidth": 0,
             "ticks": ""
            },
            "colorscale": [
             [
              0,
              "#0d0887"
             ],
             [
              0.1111111111111111,
              "#46039f"
             ],
             [
              0.2222222222222222,
              "#7201a8"
             ],
             [
              0.3333333333333333,
              "#9c179e"
             ],
             [
              0.4444444444444444,
              "#bd3786"
             ],
             [
              0.5555555555555556,
              "#d8576b"
             ],
             [
              0.6666666666666666,
              "#ed7953"
             ],
             [
              0.7777777777777778,
              "#fb9f3a"
             ],
             [
              0.8888888888888888,
              "#fdca26"
             ],
             [
              1,
              "#f0f921"
             ]
            ],
            "type": "heatmap"
           }
          ],
          "histogram": [
           {
            "marker": {
             "pattern": {
              "fillmode": "overlay",
              "size": 10,
              "solidity": 0.2
             }
            },
            "type": "histogram"
           }
          ],
          "histogram2d": [
           {
            "colorbar": {
             "outlinewidth": 0,
             "ticks": ""
            },
            "colorscale": [
             [
              0,
              "#0d0887"
             ],
             [
              0.1111111111111111,
              "#46039f"
             ],
             [
              0.2222222222222222,
              "#7201a8"
             ],
             [
              0.3333333333333333,
              "#9c179e"
             ],
             [
              0.4444444444444444,
              "#bd3786"
             ],
             [
              0.5555555555555556,
              "#d8576b"
             ],
             [
              0.6666666666666666,
              "#ed7953"
             ],
             [
              0.7777777777777778,
              "#fb9f3a"
             ],
             [
              0.8888888888888888,
              "#fdca26"
             ],
             [
              1,
              "#f0f921"
             ]
            ],
            "type": "histogram2d"
           }
          ],
          "histogram2dcontour": [
           {
            "colorbar": {
             "outlinewidth": 0,
             "ticks": ""
            },
            "colorscale": [
             [
              0,
              "#0d0887"
             ],
             [
              0.1111111111111111,
              "#46039f"
             ],
             [
              0.2222222222222222,
              "#7201a8"
             ],
             [
              0.3333333333333333,
              "#9c179e"
             ],
             [
              0.4444444444444444,
              "#bd3786"
             ],
             [
              0.5555555555555556,
              "#d8576b"
             ],
             [
              0.6666666666666666,
              "#ed7953"
             ],
             [
              0.7777777777777778,
              "#fb9f3a"
             ],
             [
              0.8888888888888888,
              "#fdca26"
             ],
             [
              1,
              "#f0f921"
             ]
            ],
            "type": "histogram2dcontour"
           }
          ],
          "mesh3d": [
           {
            "colorbar": {
             "outlinewidth": 0,
             "ticks": ""
            },
            "type": "mesh3d"
           }
          ],
          "parcoords": [
           {
            "line": {
             "colorbar": {
              "outlinewidth": 0,
              "ticks": ""
             }
            },
            "type": "parcoords"
           }
          ],
          "pie": [
           {
            "automargin": true,
            "type": "pie"
           }
          ],
          "scatter": [
           {
            "fillpattern": {
             "fillmode": "overlay",
             "size": 10,
             "solidity": 0.2
            },
            "type": "scatter"
           }
          ],
          "scatter3d": [
           {
            "line": {
             "colorbar": {
              "outlinewidth": 0,
              "ticks": ""
             }
            },
            "marker": {
             "colorbar": {
              "outlinewidth": 0,
              "ticks": ""
             }
            },
            "type": "scatter3d"
           }
          ],
          "scattercarpet": [
           {
            "marker": {
             "colorbar": {
              "outlinewidth": 0,
              "ticks": ""
             }
            },
            "type": "scattercarpet"
           }
          ],
          "scattergeo": [
           {
            "marker": {
             "colorbar": {
              "outlinewidth": 0,
              "ticks": ""
             }
            },
            "type": "scattergeo"
           }
          ],
          "scattergl": [
           {
            "marker": {
             "colorbar": {
              "outlinewidth": 0,
              "ticks": ""
             }
            },
            "type": "scattergl"
           }
          ],
          "scattermap": [
           {
            "marker": {
             "colorbar": {
              "outlinewidth": 0,
              "ticks": ""
             }
            },
            "type": "scattermap"
           }
          ],
          "scattermapbox": [
           {
            "marker": {
             "colorbar": {
              "outlinewidth": 0,
              "ticks": ""
             }
            },
            "type": "scattermapbox"
           }
          ],
          "scatterpolar": [
           {
            "marker": {
             "colorbar": {
              "outlinewidth": 0,
              "ticks": ""
             }
            },
            "type": "scatterpolar"
           }
          ],
          "scatterpolargl": [
           {
            "marker": {
             "colorbar": {
              "outlinewidth": 0,
              "ticks": ""
             }
            },
            "type": "scatterpolargl"
           }
          ],
          "scatterternary": [
           {
            "marker": {
             "colorbar": {
              "outlinewidth": 0,
              "ticks": ""
             }
            },
            "type": "scatterternary"
           }
          ],
          "surface": [
           {
            "colorbar": {
             "outlinewidth": 0,
             "ticks": ""
            },
            "colorscale": [
             [
              0,
              "#0d0887"
             ],
             [
              0.1111111111111111,
              "#46039f"
             ],
             [
              0.2222222222222222,
              "#7201a8"
             ],
             [
              0.3333333333333333,
              "#9c179e"
             ],
             [
              0.4444444444444444,
              "#bd3786"
             ],
             [
              0.5555555555555556,
              "#d8576b"
             ],
             [
              0.6666666666666666,
              "#ed7953"
             ],
             [
              0.7777777777777778,
              "#fb9f3a"
             ],
             [
              0.8888888888888888,
              "#fdca26"
             ],
             [
              1,
              "#f0f921"
             ]
            ],
            "type": "surface"
           }
          ],
          "table": [
           {
            "cells": {
             "fill": {
              "color": "#EBF0F8"
             },
             "line": {
              "color": "white"
             }
            },
            "header": {
             "fill": {
              "color": "#C8D4E3"
             },
             "line": {
              "color": "white"
             }
            },
            "type": "table"
           }
          ]
         },
         "layout": {
          "annotationdefaults": {
           "arrowcolor": "#2a3f5f",
           "arrowhead": 0,
           "arrowwidth": 1
          },
          "autotypenumbers": "strict",
          "coloraxis": {
           "colorbar": {
            "outlinewidth": 0,
            "ticks": ""
           }
          },
          "colorscale": {
           "diverging": [
            [
             0,
             "#8e0152"
            ],
            [
             0.1,
             "#c51b7d"
            ],
            [
             0.2,
             "#de77ae"
            ],
            [
             0.3,
             "#f1b6da"
            ],
            [
             0.4,
             "#fde0ef"
            ],
            [
             0.5,
             "#f7f7f7"
            ],
            [
             0.6,
             "#e6f5d0"
            ],
            [
             0.7,
             "#b8e186"
            ],
            [
             0.8,
             "#7fbc41"
            ],
            [
             0.9,
             "#4d9221"
            ],
            [
             1,
             "#276419"
            ]
           ],
           "sequential": [
            [
             0,
             "#0d0887"
            ],
            [
             0.1111111111111111,
             "#46039f"
            ],
            [
             0.2222222222222222,
             "#7201a8"
            ],
            [
             0.3333333333333333,
             "#9c179e"
            ],
            [
             0.4444444444444444,
             "#bd3786"
            ],
            [
             0.5555555555555556,
             "#d8576b"
            ],
            [
             0.6666666666666666,
             "#ed7953"
            ],
            [
             0.7777777777777778,
             "#fb9f3a"
            ],
            [
             0.8888888888888888,
             "#fdca26"
            ],
            [
             1,
             "#f0f921"
            ]
           ],
           "sequentialminus": [
            [
             0,
             "#0d0887"
            ],
            [
             0.1111111111111111,
             "#46039f"
            ],
            [
             0.2222222222222222,
             "#7201a8"
            ],
            [
             0.3333333333333333,
             "#9c179e"
            ],
            [
             0.4444444444444444,
             "#bd3786"
            ],
            [
             0.5555555555555556,
             "#d8576b"
            ],
            [
             0.6666666666666666,
             "#ed7953"
            ],
            [
             0.7777777777777778,
             "#fb9f3a"
            ],
            [
             0.8888888888888888,
             "#fdca26"
            ],
            [
             1,
             "#f0f921"
            ]
           ]
          },
          "colorway": [
           "#636efa",
           "#EF553B",
           "#00cc96",
           "#ab63fa",
           "#FFA15A",
           "#19d3f3",
           "#FF6692",
           "#B6E880",
           "#FF97FF",
           "#FECB52"
          ],
          "font": {
           "color": "#2a3f5f"
          },
          "geo": {
           "bgcolor": "white",
           "lakecolor": "white",
           "landcolor": "#E5ECF6",
           "showlakes": true,
           "showland": true,
           "subunitcolor": "white"
          },
          "hoverlabel": {
           "align": "left"
          },
          "hovermode": "closest",
          "mapbox": {
           "style": "light"
          },
          "paper_bgcolor": "white",
          "plot_bgcolor": "#E5ECF6",
          "polar": {
           "angularaxis": {
            "gridcolor": "white",
            "linecolor": "white",
            "ticks": ""
           },
           "bgcolor": "#E5ECF6",
           "radialaxis": {
            "gridcolor": "white",
            "linecolor": "white",
            "ticks": ""
           }
          },
          "scene": {
           "xaxis": {
            "backgroundcolor": "#E5ECF6",
            "gridcolor": "white",
            "gridwidth": 2,
            "linecolor": "white",
            "showbackground": true,
            "ticks": "",
            "zerolinecolor": "white"
           },
           "yaxis": {
            "backgroundcolor": "#E5ECF6",
            "gridcolor": "white",
            "gridwidth": 2,
            "linecolor": "white",
            "showbackground": true,
            "ticks": "",
            "zerolinecolor": "white"
           },
           "zaxis": {
            "backgroundcolor": "#E5ECF6",
            "gridcolor": "white",
            "gridwidth": 2,
            "linecolor": "white",
            "showbackground": true,
            "ticks": "",
            "zerolinecolor": "white"
           }
          },
          "shapedefaults": {
           "line": {
            "color": "#2a3f5f"
           }
          },
          "ternary": {
           "aaxis": {
            "gridcolor": "white",
            "linecolor": "white",
            "ticks": ""
           },
           "baxis": {
            "gridcolor": "white",
            "linecolor": "white",
            "ticks": ""
           },
           "bgcolor": "#E5ECF6",
           "caxis": {
            "gridcolor": "white",
            "linecolor": "white",
            "ticks": ""
           }
          },
          "title": {
           "x": 0.05
          },
          "xaxis": {
           "automargin": true,
           "gridcolor": "white",
           "linecolor": "white",
           "ticks": "",
           "title": {
            "standoff": 15
           },
           "zerolinecolor": "white",
           "zerolinewidth": 2
          },
          "yaxis": {
           "automargin": true,
           "gridcolor": "white",
           "linecolor": "white",
           "ticks": "",
           "title": {
            "standoff": 15
           },
           "zerolinecolor": "white",
           "zerolinewidth": 2
          }
         }
        },
        "title": {
         "text": "DASHBOARD SEGMENTASI RISIKO ATTRITION KARYAWAN"
        },
        "width": 1200,
        "xaxis": {
         "anchor": "y",
         "domain": [
          0,
          0.46
         ],
         "title": {
          "text": "UMAP Dimension 1"
         }
        },
        "xaxis2": {
         "anchor": "y2",
         "domain": [
          0.54,
          1
         ],
         "title": {
          "text": "Level Risiko"
         }
        },
        "xaxis3": {
         "anchor": "y3",
         "domain": [
          0,
          0.46
         ],
         "title": {
          "text": "Fitur"
         }
        },
        "xaxis4": {
         "anchor": "y4",
         "domain": [
          0.54,
          1
         ],
         "title": {
          "text": "Department"
         }
        },
        "yaxis": {
         "anchor": "x",
         "domain": [
          0.56,
          1
         ],
         "title": {
          "text": "UMAP Dimension 2"
         }
        },
        "yaxis2": {
         "anchor": "x2",
         "domain": [
          0.56,
          1
         ],
         "title": {
          "text": "Jumlah Karyawan"
         }
        },
        "yaxis3": {
         "anchor": "x3",
         "domain": [
          0,
          0.44
         ],
         "title": {
          "text": "Perbedaan (%)"
         }
        },
        "yaxis4": {
         "anchor": "x4",
         "domain": [
          0,
          0.44
         ],
         "title": {
          "text": "Persentase (%)"
         }
        }
       }
      }
     },
     "metadata": {},
     "output_type": "display_data"
    }
   ],
   "source": [
    "# 19. Dashboard ringkasan dengan Plotly\n",
    "print_header(\"DASHBOARD RINGKASAN\")\n",
    "\n",
    "# Create dashboard with 2x2 subplots\n",
    "fig = make_subplots(\n",
    "    rows=2, \n",
    "    cols=2,\n",
    "    subplot_titles=(\n",
    "        'Segmentasi Risiko Attrition',\n",
    "        'Distribusi Karyawan berdasarkan Risiko',\n",
    "        'Top 5 Perbedaan Karakteristik',\n",
    "        'Distribusi Department per Risiko'\n",
    "    ),\n",
    "    specs=[\n",
    "        [{\"type\": \"scatter\"}, {\"type\": \"bar\"}],\n",
    "        [{\"type\": \"bar\"}, {\"type\": \"bar\"}]\n",
    "    ],\n",
    "    vertical_spacing=0.12,\n",
    "    horizontal_spacing=0.08\n",
    ")\n",
    "\n",
    "# 1. Segmentasi (Tinggi vs Rendah)\n",
    "fig.add_trace(\n",
    "    go.Scatter(\n",
    "        x=umap_cluster_df[umap_cluster_df['Risk Level'] == 'Risiko Tinggi']['UMAP_1'],\n",
    "        y=umap_cluster_df[umap_cluster_df['Risk Level'] == 'Risiko Tinggi']['UMAP_2'],\n",
    "        mode='markers',\n",
    "        marker=dict(color=HIGH_RISK_COLOR, size=8),\n",
    "        name='Risiko Tinggi'\n",
    "    ),\n",
    "    row=1, col=1\n",
    ")\n",
    "\n",
    "fig.add_trace(\n",
    "    go.Scatter(\n",
    "        x=umap_cluster_df[umap_cluster_df['Risk Level'] == 'Risiko Rendah']['UMAP_1'],\n",
    "        y=umap_cluster_df[umap_cluster_df['Risk Level'] == 'Risiko Rendah']['UMAP_2'],\n",
    "        mode='markers',\n",
    "        marker=dict(color=LOW_RISK_COLOR, size=8),\n",
    "        name='Risiko Rendah'\n",
    "    ),\n",
    "    row=1, col=1\n",
    ")\n",
    "\n",
    "# 2. Distribusi risiko\n",
    "for i, risk in enumerate(risk_df['Level Risiko']):\n",
    "    color = HIGH_RISK_COLOR if risk == 'Risiko Tinggi' else LOW_RISK_COLOR\n",
    "    fig.add_trace(\n",
    "        go.Bar(\n",
    "            x=[risk],\n",
    "            y=[risk_df['Jumlah Karyawan'].iloc[i]],\n",
    "            text=[f\"{risk_df['Jumlah Karyawan'].iloc[i]} ({risk_df['Persentase'].iloc[i]:.1f}%)\"],\n",
    "            textposition='inside',\n",
    "            name=risk,\n",
    "            marker_color=color,\n",
    "            showlegend=False\n",
    "        ),\n",
    "        row=1, col=2\n",
    "    )\n",
    "\n",
    "# 3. Top 5 perbedaan karakteristik\n",
    "top_5_diff = pct_diff.abs().sort_values(ascending=False).head(5)\n",
    "for feature in top_5_diff.index:\n",
    "    color = HIGH_RISK_COLOR if pct_diff[feature] > 0 else LOW_RISK_COLOR\n",
    "    fig.add_trace(\n",
    "        go.Bar(\n",
    "            x=[feature],\n",
    "            y=[pct_diff[feature]],\n",
    "            text=[f\"{pct_diff[feature]:+.1f}%\"],\n",
    "            textposition='outside',\n",
    "            marker_color=color,\n",
    "            showlegend=False,\n",
    "            name=feature\n",
    "        ),\n",
    "        row=2, col=1\n",
    "    )\n",
    "\n",
    "# 4. Department atau Job Role distribution\n",
    "if 'Department' in df.columns:\n",
    "    # Ambil 3 department dengan persentase tertinggi di setiap level risiko\n",
    "    for risk_level in dept_by_risk.index:\n",
    "        top_depts = dept_by_risk.loc[risk_level].sort_values(ascending=False).head(3)\n",
    "        for dept, pct in top_depts.items():\n",
    "            color = HIGH_RISK_COLOR if risk_level == 'Risiko Tinggi' else LOW_RISK_COLOR\n",
    "            fig.add_trace(\n",
    "                go.Bar(\n",
    "                    x=[dept],\n",
    "                    y=[pct],\n",
    "                    text=[f\"{pct:.1f}%\"],\n",
    "                    textposition='outside',\n",
    "                    name=f\"{risk_level} - {dept}\",\n",
    "                    marker_color=color,\n",
    "                    opacity=0.7,\n",
    "                    showlegend=False\n",
    "                ),\n",
    "                row=2, col=2\n",
    "            )\n",
    "\n",
    "# Update layout\n",
    "fig.update_layout(\n",
    "    title_text='DASHBOARD SEGMENTASI RISIKO ATTRITION KARYAWAN',\n",
    "    height=900,\n",
    "    width=1200,\n",
    "    showlegend=True,\n",
    "    legend=dict(\n",
    "        orientation=\"h\",\n",
    "        yanchor=\"bottom\",\n",
    "        y=1.02,\n",
    "        xanchor=\"right\",\n",
    "        x=1\n",
    "    ),\n",
    "    font=dict(size=12)\n",
    ")\n",
    "\n",
    "# Update axes\n",
    "fig.update_xaxes(title_text='UMAP Dimension 1', row=1, col=1)\n",
    "fig.update_yaxes(title_text='UMAP Dimension 2', row=1, col=1)\n",
    "\n",
    "fig.update_xaxes(title_text='Level Risiko', row=1, col=2)\n",
    "fig.update_yaxes(title_text='Jumlah Karyawan', row=1, col=2)\n",
    "\n",
    "fig.update_xaxes(title_text='Fitur', row=2, col=1)\n",
    "fig.update_yaxes(title_text='Perbedaan (%)', row=2, col=1)\n",
    "\n",
    "fig.update_xaxes(title_text='Department', row=2, col=2)\n",
    "fig.update_yaxes(title_text='Persentase (%)', row=2, col=2)\n",
    "\n",
    "# Add horizontal line at y=0 for differences\n",
    "fig.add_shape(\n",
    "    type=\"line\",\n",
    "    x0=-0.5,\n",
    "    y0=0,\n",
    "    x1=4.5,\n",
    "    y1=0,\n",
    "    line=dict(color=\"black\", width=1, dash=\"dash\"),\n",
    "    row=2, col=1\n",
    ")\n",
    "\n",
    "# Tampilkan dan simpan dashboard\n",
    "display_and_save_figure(fig, \"dashboard_binary_risk_colorblind.png\")"
   ]
  },
  {
   "cell_type": "code",
   "execution_count": 30,
   "id": "68fd951b",
   "metadata": {},
   "outputs": [
    {
     "name": "stdout",
     "output_type": "stream",
     "text": [
      "\n",
      "Hasil segmentasi dengan 2 level risiko telah disimpan ke 'binary_risk_segmentation_result.csv'\n"
     ]
    }
   ],
   "source": [
    "# 20. Simpan hasil segmentasi\n",
    "df.to_csv('binary_risk_segmentation_result.csv', index=False)\n",
    "print(\"\\nHasil segmentasi dengan 2 level risiko telah disimpan ke 'binary_risk_segmentation_result.csv'\")"
   ]
  },
  {
   "cell_type": "code",
   "execution_count": 31,
   "id": "3db3183f",
   "metadata": {},
   "outputs": [
    {
     "name": "stdout",
     "output_type": "stream",
     "text": [
      "\n",
      "================================================================================\n",
      "KESIMPULAN DAN REKOMENDASI\n",
      "================================================================================\n",
      "\n",
      "KESIMPULAN SEGMENTASI RISIKO ATTRITION KARYAWAN (RISIKO TINGGI vs RENDAH):\n",
      "\n",
      "1. Dengan menggunakan metode KMeans, karyawan telah berhasil disegmentasi menjadi 2 kelompok:\n",
      "   - Risiko Tinggi: 472 karyawan (44.6%)\n",
      "   - Risiko Rendah: 586 karyawan (55.4%)\n",
      "\n",
      "2. Tingkat attrition di masing-masing segmen:\n",
      "   - Risiko Tinggi: 25.64%\n",
      "   - Risiko Rendah: 9.90%\n",
      "\n",
      "3. Perbedaan utama karakteristik antara karyawan Risiko Tinggi vs Risiko Rendah:\n",
      "   - StockOptionLevel: 99.5% lebih rendah pada karyawan Risiko Tinggi\n",
      "   - MonthlyIncome: 10.1% lebih rendah pada karyawan Risiko Tinggi\n",
      "   - MonthlyRate: 4.4% lebih tinggi pada karyawan Risiko Tinggi\n",
      "   - DailyRate: 4.2% lebih rendah pada karyawan Risiko Tinggi\n",
      "   - Age: 2.9% lebih rendah pada karyawan Risiko Tinggi\n",
      "\n",
      "4. Department dengan persentase tertinggi di kelompok Risiko Tinggi:\n",
      "   - Research & Development: 65.5%\n",
      "\n",
      "5. Job Role dengan persentase tertinggi di kelompok Risiko Tinggi:\n",
      "   - Research Scientist: 22.0%\n",
      "\n",
      "REKOMENDASI STRATEGI RETENSI:\n",
      "\n",
      "1. Untuk Karyawan Risiko Tinggi:\n",
      "   - Implementasikan program retensi segera dan targeted\n",
      "   - Evaluasi dan tingkatkan paket kompensasi dan benefit\n",
      "   - Berikan jalur pengembangan karir yang jelas\n",
      "   - Adakan diskusi one-on-one untuk identifikasi masalah\n",
      "   - Pertimbangkan kebijakan kerja fleksibel, terutama untuk yang tinggal jauh\n",
      "   - Tinjau beban kerja dan keseimbangan kerja-hidup\n",
      "\n",
      "2. Untuk Karyawan Risiko Rendah:\n",
      "   - Pertahankan kebijakan dan program yang sudah berjalan baik\n",
      "   - Manfaatkan karyawan ini sebagai mentor untuk karyawan berisiko tinggi\n",
      "   - Lakukan survei kepuasan secara berkala untuk monitor perubahan\n",
      "   - Berikan tantangan dan proyek baru untuk mempertahankan engagement\n",
      "   - Kembangkan untuk posisi kepemimpinan dan perencanaan suksesi\n",
      "\n",
      "3. Implementasi dan Monitoring:\n",
      "   - Buat dashboard HR untuk memantau distribusi risiko secara real-time\n",
      "   - Evaluasi ulang segmentasi setiap 6 bulan untuk melihat efektivitas program\n",
      "   - Latih manajer untuk mengenali tanda-tanda awal attrition\n",
      "   - Tentukan target pengurangan attrition yang realistis\n",
      "   - Integrasikan model risiko attrition ke dalam proses manajemen talent\n",
      "\n",
      "\n",
      "Segmentasi risiko attrition (Tinggi vs Rendah) telah selesai dengan sukses!\n"
     ]
    }
   ],
   "source": [
    "# 21. Kesimpulan dan rekomendasi\n",
    "print_header(\"KESIMPULAN DAN REKOMENDASI\")\n",
    "\n",
    "print(f\"\"\"\n",
    "KESIMPULAN SEGMENTASI RISIKO ATTRITION KARYAWAN (RISIKO TINGGI vs RENDAH):\n",
    "\n",
    "1. Dengan menggunakan metode {best_method}, karyawan telah berhasil disegmentasi menjadi 2 kelompok:\n",
    "   - Risiko Tinggi: {risk_distribution.get('Risiko Tinggi', 0)} karyawan ({risk_percentage.get('Risiko Tinggi', 0):.1f}%)\n",
    "   - Risiko Rendah: {risk_distribution.get('Risiko Rendah', 0)} karyawan ({risk_percentage.get('Risiko Rendah', 0):.1f}%)\n",
    "\n",
    "2. Tingkat attrition di masing-masing segmen:\n",
    "   - Risiko Tinggi: {attrition_by_cluster[high_risk_cluster]:.2f}%\n",
    "   - Risiko Rendah: {attrition_by_cluster[low_risk_cluster]:.2f}%\n",
    "\n",
    "3. Perbedaan utama karakteristik antara karyawan Risiko Tinggi vs Risiko Rendah:\"\"\")\n",
    "\n",
    "# Print top 5 perbedaan\n",
    "for feature, diff in pct_diff.abs().sort_values(ascending=False).head(5).items():\n",
    "    actual_diff = pct_diff[feature]\n",
    "    direction = \"lebih tinggi\" if actual_diff > 0 else \"lebih rendah\"\n",
    "    print(f\"   - {feature}: {abs(actual_diff):.1f}% {direction} pada karyawan Risiko Tinggi\")\n",
    "\n",
    "# Departemen dan Job Role dengan risiko tertinggi\n",
    "if 'Department' in df.columns:\n",
    "    high_risk_dept = dept_by_risk.loc['Risiko Tinggi'].idxmax()\n",
    "    high_risk_dept_pct = dept_by_risk.loc['Risiko Tinggi', high_risk_dept]\n",
    "    print(f\"\\n4. Department dengan persentase tertinggi di kelompok Risiko Tinggi:\")\n",
    "    print(f\"   - {high_risk_dept}: {high_risk_dept_pct:.1f}%\")\n",
    "\n",
    "if 'JobRole' in df.columns:\n",
    "    high_risk_role = role_by_risk.loc['Risiko Tinggi'].idxmax()\n",
    "    high_risk_role_pct = role_by_risk.loc['Risiko Tinggi', high_risk_role]\n",
    "    print(f\"\\n5. Job Role dengan persentase tertinggi di kelompok Risiko Tinggi:\")\n",
    "    print(f\"   - {high_risk_role}: {high_risk_role_pct:.1f}%\")\n",
    "\n",
    "print(\"\"\"\n",
    "REKOMENDASI STRATEGI RETENSI:\n",
    "\n",
    "1. Untuk Karyawan Risiko Tinggi:\n",
    "   - Implementasikan program retensi segera dan targeted\n",
    "   - Evaluasi dan tingkatkan paket kompensasi dan benefit\n",
    "   - Berikan jalur pengembangan karir yang jelas\n",
    "   - Adakan diskusi one-on-one untuk identifikasi masalah\n",
    "   - Pertimbangkan kebijakan kerja fleksibel, terutama untuk yang tinggal jauh\n",
    "   - Tinjau beban kerja dan keseimbangan kerja-hidup\n",
    "\n",
    "2. Untuk Karyawan Risiko Rendah:\n",
    "   - Pertahankan kebijakan dan program yang sudah berjalan baik\n",
    "   - Manfaatkan karyawan ini sebagai mentor untuk karyawan berisiko tinggi\n",
    "   - Lakukan survei kepuasan secara berkala untuk monitor perubahan\n",
    "   - Berikan tantangan dan proyek baru untuk mempertahankan engagement\n",
    "   - Kembangkan untuk posisi kepemimpinan dan perencanaan suksesi\n",
    "\n",
    "3. Implementasi dan Monitoring:\n",
    "   - Buat dashboard HR untuk memantau distribusi risiko secara real-time\n",
    "   - Evaluasi ulang segmentasi setiap 6 bulan untuk melihat efektivitas program\n",
    "   - Latih manajer untuk mengenali tanda-tanda awal attrition\n",
    "   - Tentukan target pengurangan attrition yang realistis\n",
    "   - Integrasikan model risiko attrition ke dalam proses manajemen talent\n",
    "\"\"\")\n",
    "\n",
    "print(\"\\nSegmentasi risiko attrition (Tinggi vs Rendah) telah selesai dengan sukses!\")"
   ]
  },
  {
   "cell_type": "code",
   "execution_count": 32,
   "id": "436bef66",
   "metadata": {},
   "outputs": [
    {
     "name": "stdout",
     "output_type": "stream",
     "text": [
      "\n",
      "================================================================================\n",
      "BONUS: INTERACTIVE HTML DASHBOARD\n",
      "================================================================================\n",
      "Dashboard interaktif disimpan sebagai 'interactive_dashboard_colorblind.html'\n",
      "Anda dapat membuka file HTML tersebut di browser untuk interaksi lebih lanjut\n"
     ]
    }
   ],
   "source": [
    "# 22. Bonus: Interactive HTML Dashboard (jika diperlukan)\n",
    "print_header(\"BONUS: INTERACTIVE HTML DASHBOARD\")\n",
    "\n",
    "# Buat versi interaktif dari dashboard untuk dibuka di browser\n",
    "interactive_dashboard = make_subplots(\n",
    "    rows=2, \n",
    "    cols=2,\n",
    "    subplot_titles=(\n",
    "        'Segmentasi Risiko Attrition',\n",
    "        'Distribusi Karyawan berdasarkan Risiko',\n",
    "        'Top 5 Perbedaan Karakteristik',\n",
    "        'Distribusi Department per Risiko'\n",
    "    ),\n",
    "    specs=[\n",
    "        [{\"type\": \"scatter\"}, {\"type\": \"bar\"}],\n",
    "        [{\"type\": \"bar\"}, {\"type\": \"bar\"}]\n",
    "    ],\n",
    "    vertical_spacing=0.12,\n",
    "    horizontal_spacing=0.08\n",
    ")\n",
    "\n",
    "# 1. Segmentasi (Tinggi vs Rendah)\n",
    "interactive_dashboard.add_trace(\n",
    "    go.Scatter(\n",
    "        x=umap_cluster_df[umap_cluster_df['Risk Level'] == 'Risiko Tinggi']['UMAP_1'],\n",
    "        y=umap_cluster_df[umap_cluster_df['Risk Level'] == 'Risiko Tinggi']['UMAP_2'],\n",
    "        mode='markers',\n",
    "        marker=dict(color=HIGH_RISK_COLOR, size=8),\n",
    "        name='Risiko Tinggi',\n",
    "        hovertemplate='<b>Risiko Tinggi</b><extra></extra>'\n",
    "    ),\n",
    "    row=1, col=1\n",
    ")\n",
    "\n",
    "interactive_dashboard.add_trace(\n",
    "    go.Scatter(\n",
    "        x=umap_cluster_df[umap_cluster_df['Risk Level'] == 'Risiko Rendah']['UMAP_1'],\n",
    "        y=umap_cluster_df[umap_cluster_df['Risk Level'] == 'Risiko Rendah']['UMAP_2'],\n",
    "        mode='markers',\n",
    "        marker=dict(color=LOW_RISK_COLOR, size=8),\n",
    "        name='Risiko Rendah',\n",
    "        hovertemplate='<b>Risiko Rendah</b><extra></extra>'\n",
    "    ),\n",
    "    row=1, col=1\n",
    ")\n",
    "\n",
    "# 2. Distribusi risiko\n",
    "for i, risk in enumerate(risk_df['Level Risiko']):\n",
    "    color = HIGH_RISK_COLOR if risk == 'Risiko Tinggi' else LOW_RISK_COLOR\n",
    "    interactive_dashboard.add_trace(\n",
    "        go.Bar(\n",
    "            x=[risk],\n",
    "            y=[risk_df['Jumlah Karyawan'].iloc[i]],\n",
    "            text=[f\"{risk_df['Jumlah Karyawan'].iloc[i]} ({risk_df['Persentase'].iloc[i]:.1f}%)\"],\n",
    "            textposition='inside',\n",
    "            name=risk,\n",
    "            marker_color=color,\n",
    "            showlegend=False,\n",
    "            hovertemplate='<b>%{x}</b><br>Jumlah: %{y}<br>Persentase: %{text}<extra></extra>'\n",
    "        ),\n",
    "        row=1, col=2\n",
    "    )\n",
    "\n",
    "# 3. Top 5 perbedaan karakteristik\n",
    "top_5_diff = pct_diff.abs().sort_values(ascending=False).head(5)\n",
    "for feature in top_5_diff.index:\n",
    "    color = HIGH_RISK_COLOR if pct_diff[feature] > 0 else LOW_RISK_COLOR\n",
    "    interactive_dashboard.add_trace(\n",
    "        go.Bar(\n",
    "            x=[feature],\n",
    "            y=[pct_diff[feature]],\n",
    "            text=[f\"{pct_diff[feature]:+.1f}%\"],\n",
    "            textposition='outside',\n",
    "            marker_color=color,\n",
    "            showlegend=False,\n",
    "            name=feature,\n",
    "            hovertemplate='<b>%{x}</b><br>Perbedaan: %{text}<extra></extra>'\n",
    "        ),\n",
    "        row=2, col=1\n",
    "    )\n",
    "\n",
    "# 4. Department atau Job Role distribution\n",
    "if 'Department' in df.columns:\n",
    "    # Ambil 3 department dengan persentase tertinggi di setiap level risiko\n",
    "    for risk_level in dept_by_risk.index:\n",
    "        top_depts = dept_by_risk.loc[risk_level].sort_values(ascending=False).head(3)\n",
    "        for dept, pct in top_depts.items():\n",
    "            color = HIGH_RISK_COLOR if risk_level == 'Risiko Tinggi' else LOW_RISK_COLOR\n",
    "            interactive_dashboard.add_trace(\n",
    "                go.Bar(\n",
    "                    x=[dept],\n",
    "                    y=[pct],\n",
    "                    text=[f\"{pct:.1f}%\"],\n",
    "                    textposition='outside',\n",
    "                    name=f\"{risk_level} - {dept}\",\n",
    "                    marker_color=color,\n",
    "                    opacity=0.7,\n",
    "                    showlegend=False,\n",
    "                    hovertemplate='<b>%{x}</b><br>%{text} dari karyawan %{name}<extra></extra>'\n",
    "                ),\n",
    "                row=2, col=2\n",
    "            )\n",
    "\n",
    "# Update layout\n",
    "interactive_dashboard.update_layout(\n",
    "    title_text='DASHBOARD INTERAKTIF SEGMENTASI RISIKO ATTRITION KARYAWAN',\n",
    "    height=900,\n",
    "    width=1200,\n",
    "    showlegend=True,\n",
    "    legend=dict(\n",
    "        orientation=\"h\",\n",
    "        yanchor=\"bottom\",\n",
    "        y=1.02,\n",
    "        xanchor=\"right\",\n",
    "        x=1\n",
    "    ),\n",
    "    font=dict(size=12)\n",
    ")\n",
    "\n",
    "# Update axes\n",
    "interactive_dashboard.update_xaxes(title_text='UMAP Dimension 1', row=1, col=1)\n",
    "interactive_dashboard.update_yaxes(title_text='UMAP Dimension 2', row=1, col=1)\n",
    "\n",
    "interactive_dashboard.update_xaxes(title_text='Level Risiko', row=1, col=2)\n",
    "interactive_dashboard.update_yaxes(title_text='Jumlah Karyawan', row=1, col=2)\n",
    "\n",
    "interactive_dashboard.update_xaxes(title_text='Fitur', row=2, col=1)\n",
    "interactive_dashboard.update_yaxes(title_text='Perbedaan (%)', row=2, col=1)\n",
    "\n",
    "interactive_dashboard.update_xaxes(title_text='Department', row=2, col=2)\n",
    "interactive_dashboard.update_yaxes(title_text='Persentase (%)', row=2, col=2)\n",
    "\n",
    "# Add horizontal line at y=0 for differences\n",
    "interactive_dashboard.add_shape(\n",
    "    type=\"line\",\n",
    "    x0=-0.5,\n",
    "    y0=0,\n",
    "    x1=4.5,\n",
    "    y1=0,\n",
    "    line=dict(color=\"black\", width=1, dash=\"dash\"),\n",
    "    row=2, col=1\n",
    ")\n",
    "\n",
    "# Simpan sebagai HTML interaktif\n",
    "interactive_dashboard.write_html(\"interactive_dashboard_colorblind.html\")\n",
    "print(\"Dashboard interaktif disimpan sebagai 'interactive_dashboard_colorblind.html'\")\n",
    "print(\"Anda dapat membuka file HTML tersebut di browser untuk interaksi lebih lanjut\")"
   ]
  },
  {
   "cell_type": "code",
   "execution_count": 34,
   "id": "2406c08c",
   "metadata": {},
   "outputs": [
    {
     "name": "stdout",
     "output_type": "stream",
     "text": [
      "\n",
      "================================================================================\n",
      "MEMBACA DAN MEMPERSIAPKAN DATA\n",
      "================================================================================\n",
      "Ukuran dataset: (1058, 39)\n",
      "\n",
      "Menangani missing value...\n",
      "Tidak ada missing value ditemukan.\n",
      "\n",
      "================================================================================\n",
      "ADVANCED FEATURE ENGINEERING\n",
      "================================================================================\n",
      "\n",
      "Menggunakan 23 fitur numerik asli\n",
      "\n",
      "Membuat fitur engineering lanjutan...\n",
      "- Fitur baru: SalaryPerLevel (Gaji per level jabatan)\n",
      "- Fitur baru: SatisfactionIndex (Rata-rata dari 4 fitur kepuasan)\n",
      "- Fitur baru: WeightedSatisfactionIndex (Indeks kepuasan dengan bobot)\n",
      "- Fitur baru: SatisfactionVariance (Variansi tingkat kepuasan)\n",
      "- Fitur baru: PromotionRatio (Rasio tahun sejak promosi terhadap masa kerja)\n",
      "- Fitur baru: PromotionLevelRatio (Kecepatan kenaikan level)\n",
      "- Fitur baru: CareerGrowthRate (Tingkat pertumbuhan karir)\n",
      "- Fitur baru: AdjustedWorkLifeBalance (Keseimbangan kerja-hidup disesuaikan overtime)\n",
      "- Fitur baru: OvertimeStressIndex (Indeks stres akibat lembur)\n",
      "- Fitur baru: DistanceImpact (Dampak non-linear jarak)\n",
      "- Fitur baru: DistanceSatisfactionRatio (Rasio jarak terhadap kepuasan)\n",
      "- Fitur baru: CareerStageRatio (Tahap karir relatif terhadap usia)\n",
      "- Fitur baru: LevelAgeRatio (Rasio level jabatan terhadap dekade karir)\n",
      "- Fitur baru: CompensationExperienceRatio (Rasio gaji terhadap pengalaman)\n",
      "- Fitur baru: CompensationPerformanceRatio (Rasio gaji terhadap performa)\n",
      "\n",
      "Menambahkan 16 fitur hasil feature engineering:\n",
      "['OverTime', 'SalaryPerLevel', 'SatisfactionIndex', 'WeightedSatisfactionIndex', 'SatisfactionVariance', 'PromotionRatio', 'PromotionLevelRatio', 'CareerGrowthRate', 'AdjustedWorkLifeBalance', 'OvertimeStressIndex', 'DistanceImpact', 'DistanceSatisfactionRatio', 'CareerStageRatio', 'LevelAgeRatio', 'CompensationExperienceRatio', 'CompensationPerformanceRatio']\n",
      "\n",
      "Total fitur untuk evaluasi: 39\n",
      "\n",
      "================================================================================\n",
      "OUTLIER DETECTION AND REMOVAL\n",
      "================================================================================\n",
      "\n",
      "Standardisasi data...\n"
     ]
    },
    {
     "ename": "ValueError",
     "evalue": "Input X contains infinity or a value too large for dtype('float64').",
     "output_type": "error",
     "traceback": [
      "\u001b[31m---------------------------------------------------------------------------\u001b[39m",
      "\u001b[31mValueError\u001b[39m                                Traceback (most recent call last)",
      "\u001b[36mCell\u001b[39m\u001b[36m \u001b[39m\u001b[32mIn[34]\u001b[39m\u001b[32m, line 192\u001b[39m\n\u001b[32m    190\u001b[39m \u001b[38;5;28mprint\u001b[39m(\u001b[33m\"\u001b[39m\u001b[38;5;130;01m\\n\u001b[39;00m\u001b[33mStandardisasi data...\u001b[39m\u001b[33m\"\u001b[39m)\n\u001b[32m    191\u001b[39m robust_scaler = RobustScaler()  \u001b[38;5;66;03m# Robust terhadap outlier\u001b[39;00m\n\u001b[32m--> \u001b[39m\u001b[32m192\u001b[39m X_scaled = \u001b[43mrobust_scaler\u001b[49m\u001b[43m.\u001b[49m\u001b[43mfit_transform\u001b[49m\u001b[43m(\u001b[49m\u001b[43mX_all\u001b[49m\u001b[43m)\u001b[49m\n\u001b[32m    193\u001b[39m X_scaled_df = pd.DataFrame(X_scaled, columns=all_features)\n\u001b[32m    195\u001b[39m \u001b[38;5;66;03m# Deteksi Outlier dengan Isolation Forest\u001b[39;00m\n",
      "\u001b[36mFile \u001b[39m\u001b[32md:\\Programs\\Anaconda3\\envs\\dicodingpds\\Lib\\site-packages\\sklearn\\utils\\_set_output.py:319\u001b[39m, in \u001b[36m_wrap_method_output.<locals>.wrapped\u001b[39m\u001b[34m(self, X, *args, **kwargs)\u001b[39m\n\u001b[32m    317\u001b[39m \u001b[38;5;129m@wraps\u001b[39m(f)\n\u001b[32m    318\u001b[39m \u001b[38;5;28;01mdef\u001b[39;00m\u001b[38;5;250m \u001b[39m\u001b[34mwrapped\u001b[39m(\u001b[38;5;28mself\u001b[39m, X, *args, **kwargs):\n\u001b[32m--> \u001b[39m\u001b[32m319\u001b[39m     data_to_wrap = \u001b[43mf\u001b[49m\u001b[43m(\u001b[49m\u001b[38;5;28;43mself\u001b[39;49m\u001b[43m,\u001b[49m\u001b[43m \u001b[49m\u001b[43mX\u001b[49m\u001b[43m,\u001b[49m\u001b[43m \u001b[49m\u001b[43m*\u001b[49m\u001b[43margs\u001b[49m\u001b[43m,\u001b[49m\u001b[43m \u001b[49m\u001b[43m*\u001b[49m\u001b[43m*\u001b[49m\u001b[43mkwargs\u001b[49m\u001b[43m)\u001b[49m\n\u001b[32m    320\u001b[39m     \u001b[38;5;28;01mif\u001b[39;00m \u001b[38;5;28misinstance\u001b[39m(data_to_wrap, \u001b[38;5;28mtuple\u001b[39m):\n\u001b[32m    321\u001b[39m         \u001b[38;5;66;03m# only wrap the first output for cross decomposition\u001b[39;00m\n\u001b[32m    322\u001b[39m         return_tuple = (\n\u001b[32m    323\u001b[39m             _wrap_data_with_container(method, data_to_wrap[\u001b[32m0\u001b[39m], X, \u001b[38;5;28mself\u001b[39m),\n\u001b[32m    324\u001b[39m             *data_to_wrap[\u001b[32m1\u001b[39m:],\n\u001b[32m    325\u001b[39m         )\n",
      "\u001b[36mFile \u001b[39m\u001b[32md:\\Programs\\Anaconda3\\envs\\dicodingpds\\Lib\\site-packages\\sklearn\\base.py:918\u001b[39m, in \u001b[36mTransformerMixin.fit_transform\u001b[39m\u001b[34m(self, X, y, **fit_params)\u001b[39m\n\u001b[32m    903\u001b[39m         warnings.warn(\n\u001b[32m    904\u001b[39m             (\n\u001b[32m    905\u001b[39m                 \u001b[33mf\u001b[39m\u001b[33m\"\u001b[39m\u001b[33mThis object (\u001b[39m\u001b[38;5;132;01m{\u001b[39;00m\u001b[38;5;28mself\u001b[39m.\u001b[34m__class__\u001b[39m.\u001b[34m__name__\u001b[39m\u001b[38;5;132;01m}\u001b[39;00m\u001b[33m) has a `transform`\u001b[39m\u001b[33m\"\u001b[39m\n\u001b[32m   (...)\u001b[39m\u001b[32m    913\u001b[39m             \u001b[38;5;167;01mUserWarning\u001b[39;00m,\n\u001b[32m    914\u001b[39m         )\n\u001b[32m    916\u001b[39m \u001b[38;5;28;01mif\u001b[39;00m y \u001b[38;5;129;01mis\u001b[39;00m \u001b[38;5;28;01mNone\u001b[39;00m:\n\u001b[32m    917\u001b[39m     \u001b[38;5;66;03m# fit method of arity 1 (unsupervised transformation)\u001b[39;00m\n\u001b[32m--> \u001b[39m\u001b[32m918\u001b[39m     \u001b[38;5;28;01mreturn\u001b[39;00m \u001b[38;5;28;43mself\u001b[39;49m\u001b[43m.\u001b[49m\u001b[43mfit\u001b[49m\u001b[43m(\u001b[49m\u001b[43mX\u001b[49m\u001b[43m,\u001b[49m\u001b[43m \u001b[49m\u001b[43m*\u001b[49m\u001b[43m*\u001b[49m\u001b[43mfit_params\u001b[49m\u001b[43m)\u001b[49m.transform(X)\n\u001b[32m    919\u001b[39m \u001b[38;5;28;01melse\u001b[39;00m:\n\u001b[32m    920\u001b[39m     \u001b[38;5;66;03m# fit method of arity 2 (supervised transformation)\u001b[39;00m\n\u001b[32m    921\u001b[39m     \u001b[38;5;28;01mreturn\u001b[39;00m \u001b[38;5;28mself\u001b[39m.fit(X, y, **fit_params).transform(X)\n",
      "\u001b[36mFile \u001b[39m\u001b[32md:\\Programs\\Anaconda3\\envs\\dicodingpds\\Lib\\site-packages\\sklearn\\base.py:1389\u001b[39m, in \u001b[36m_fit_context.<locals>.decorator.<locals>.wrapper\u001b[39m\u001b[34m(estimator, *args, **kwargs)\u001b[39m\n\u001b[32m   1382\u001b[39m     estimator._validate_params()\n\u001b[32m   1384\u001b[39m \u001b[38;5;28;01mwith\u001b[39;00m config_context(\n\u001b[32m   1385\u001b[39m     skip_parameter_validation=(\n\u001b[32m   1386\u001b[39m         prefer_skip_nested_validation \u001b[38;5;129;01mor\u001b[39;00m global_skip_validation\n\u001b[32m   1387\u001b[39m     )\n\u001b[32m   1388\u001b[39m ):\n\u001b[32m-> \u001b[39m\u001b[32m1389\u001b[39m     \u001b[38;5;28;01mreturn\u001b[39;00m \u001b[43mfit_method\u001b[49m\u001b[43m(\u001b[49m\u001b[43mestimator\u001b[49m\u001b[43m,\u001b[49m\u001b[43m \u001b[49m\u001b[43m*\u001b[49m\u001b[43margs\u001b[49m\u001b[43m,\u001b[49m\u001b[43m \u001b[49m\u001b[43m*\u001b[49m\u001b[43m*\u001b[49m\u001b[43mkwargs\u001b[49m\u001b[43m)\u001b[49m\n",
      "\u001b[36mFile \u001b[39m\u001b[32md:\\Programs\\Anaconda3\\envs\\dicodingpds\\Lib\\site-packages\\sklearn\\preprocessing\\_data.py:1624\u001b[39m, in \u001b[36mRobustScaler.fit\u001b[39m\u001b[34m(self, X, y)\u001b[39m\n\u001b[32m   1606\u001b[39m \u001b[38;5;250m\u001b[39m\u001b[33;03m\"\"\"Compute the median and quantiles to be used for scaling.\u001b[39;00m\n\u001b[32m   1607\u001b[39m \n\u001b[32m   1608\u001b[39m \u001b[33;03mParameters\u001b[39;00m\n\u001b[32m   (...)\u001b[39m\u001b[32m   1620\u001b[39m \u001b[33;03m    Fitted scaler.\u001b[39;00m\n\u001b[32m   1621\u001b[39m \u001b[33;03m\"\"\"\u001b[39;00m\n\u001b[32m   1622\u001b[39m \u001b[38;5;66;03m# at fit, convert sparse matrices to csc for optimized computation of\u001b[39;00m\n\u001b[32m   1623\u001b[39m \u001b[38;5;66;03m# the quantiles\u001b[39;00m\n\u001b[32m-> \u001b[39m\u001b[32m1624\u001b[39m X = \u001b[43mvalidate_data\u001b[49m\u001b[43m(\u001b[49m\n\u001b[32m   1625\u001b[39m \u001b[43m    \u001b[49m\u001b[38;5;28;43mself\u001b[39;49m\u001b[43m,\u001b[49m\n\u001b[32m   1626\u001b[39m \u001b[43m    \u001b[49m\u001b[43mX\u001b[49m\u001b[43m,\u001b[49m\n\u001b[32m   1627\u001b[39m \u001b[43m    \u001b[49m\u001b[43maccept_sparse\u001b[49m\u001b[43m=\u001b[49m\u001b[33;43m\"\u001b[39;49m\u001b[33;43mcsc\u001b[39;49m\u001b[33;43m\"\u001b[39;49m\u001b[43m,\u001b[49m\n\u001b[32m   1628\u001b[39m \u001b[43m    \u001b[49m\u001b[43mdtype\u001b[49m\u001b[43m=\u001b[49m\u001b[43mFLOAT_DTYPES\u001b[49m\u001b[43m,\u001b[49m\n\u001b[32m   1629\u001b[39m \u001b[43m    \u001b[49m\u001b[43mensure_all_finite\u001b[49m\u001b[43m=\u001b[49m\u001b[33;43m\"\u001b[39;49m\u001b[33;43mallow-nan\u001b[39;49m\u001b[33;43m\"\u001b[39;49m\u001b[43m,\u001b[49m\n\u001b[32m   1630\u001b[39m \u001b[43m\u001b[49m\u001b[43m)\u001b[49m\n\u001b[32m   1632\u001b[39m q_min, q_max = \u001b[38;5;28mself\u001b[39m.quantile_range\n\u001b[32m   1633\u001b[39m \u001b[38;5;28;01mif\u001b[39;00m \u001b[38;5;129;01mnot\u001b[39;00m \u001b[32m0\u001b[39m <= q_min <= q_max <= \u001b[32m100\u001b[39m:\n",
      "\u001b[36mFile \u001b[39m\u001b[32md:\\Programs\\Anaconda3\\envs\\dicodingpds\\Lib\\site-packages\\sklearn\\utils\\validation.py:2944\u001b[39m, in \u001b[36mvalidate_data\u001b[39m\u001b[34m(_estimator, X, y, reset, validate_separately, skip_check_array, **check_params)\u001b[39m\n\u001b[32m   2942\u001b[39m         out = X, y\n\u001b[32m   2943\u001b[39m \u001b[38;5;28;01melif\u001b[39;00m \u001b[38;5;129;01mnot\u001b[39;00m no_val_X \u001b[38;5;129;01mand\u001b[39;00m no_val_y:\n\u001b[32m-> \u001b[39m\u001b[32m2944\u001b[39m     out = \u001b[43mcheck_array\u001b[49m\u001b[43m(\u001b[49m\u001b[43mX\u001b[49m\u001b[43m,\u001b[49m\u001b[43m \u001b[49m\u001b[43minput_name\u001b[49m\u001b[43m=\u001b[49m\u001b[33;43m\"\u001b[39;49m\u001b[33;43mX\u001b[39;49m\u001b[33;43m\"\u001b[39;49m\u001b[43m,\u001b[49m\u001b[43m \u001b[49m\u001b[43m*\u001b[49m\u001b[43m*\u001b[49m\u001b[43mcheck_params\u001b[49m\u001b[43m)\u001b[49m\n\u001b[32m   2945\u001b[39m \u001b[38;5;28;01melif\u001b[39;00m no_val_X \u001b[38;5;129;01mand\u001b[39;00m \u001b[38;5;129;01mnot\u001b[39;00m no_val_y:\n\u001b[32m   2946\u001b[39m     out = _check_y(y, **check_params)\n",
      "\u001b[36mFile \u001b[39m\u001b[32md:\\Programs\\Anaconda3\\envs\\dicodingpds\\Lib\\site-packages\\sklearn\\utils\\validation.py:1107\u001b[39m, in \u001b[36mcheck_array\u001b[39m\u001b[34m(array, accept_sparse, accept_large_sparse, dtype, order, copy, force_writeable, force_all_finite, ensure_all_finite, ensure_non_negative, ensure_2d, allow_nd, ensure_min_samples, ensure_min_features, estimator, input_name)\u001b[39m\n\u001b[32m   1101\u001b[39m     \u001b[38;5;28;01mraise\u001b[39;00m \u001b[38;5;167;01mValueError\u001b[39;00m(\n\u001b[32m   1102\u001b[39m         \u001b[33m\"\u001b[39m\u001b[33mFound array with dim \u001b[39m\u001b[38;5;132;01m%d\u001b[39;00m\u001b[33m. \u001b[39m\u001b[38;5;132;01m%s\u001b[39;00m\u001b[33m expected <= 2.\u001b[39m\u001b[33m\"\u001b[39m\n\u001b[32m   1103\u001b[39m         % (array.ndim, estimator_name)\n\u001b[32m   1104\u001b[39m     )\n\u001b[32m   1106\u001b[39m \u001b[38;5;28;01mif\u001b[39;00m ensure_all_finite:\n\u001b[32m-> \u001b[39m\u001b[32m1107\u001b[39m     \u001b[43m_assert_all_finite\u001b[49m\u001b[43m(\u001b[49m\n\u001b[32m   1108\u001b[39m \u001b[43m        \u001b[49m\u001b[43marray\u001b[49m\u001b[43m,\u001b[49m\n\u001b[32m   1109\u001b[39m \u001b[43m        \u001b[49m\u001b[43minput_name\u001b[49m\u001b[43m=\u001b[49m\u001b[43minput_name\u001b[49m\u001b[43m,\u001b[49m\n\u001b[32m   1110\u001b[39m \u001b[43m        \u001b[49m\u001b[43mestimator_name\u001b[49m\u001b[43m=\u001b[49m\u001b[43mestimator_name\u001b[49m\u001b[43m,\u001b[49m\n\u001b[32m   1111\u001b[39m \u001b[43m        \u001b[49m\u001b[43mallow_nan\u001b[49m\u001b[43m=\u001b[49m\u001b[43mensure_all_finite\u001b[49m\u001b[43m \u001b[49m\u001b[43m==\u001b[49m\u001b[43m \u001b[49m\u001b[33;43m\"\u001b[39;49m\u001b[33;43mallow-nan\u001b[39;49m\u001b[33;43m\"\u001b[39;49m\u001b[43m,\u001b[49m\n\u001b[32m   1112\u001b[39m \u001b[43m    \u001b[49m\u001b[43m)\u001b[49m\n\u001b[32m   1114\u001b[39m \u001b[38;5;28;01mif\u001b[39;00m copy:\n\u001b[32m   1115\u001b[39m     \u001b[38;5;28;01mif\u001b[39;00m _is_numpy_namespace(xp):\n\u001b[32m   1116\u001b[39m         \u001b[38;5;66;03m# only make a copy if `array` and `array_orig` may share memory`\u001b[39;00m\n",
      "\u001b[36mFile \u001b[39m\u001b[32md:\\Programs\\Anaconda3\\envs\\dicodingpds\\Lib\\site-packages\\sklearn\\utils\\validation.py:120\u001b[39m, in \u001b[36m_assert_all_finite\u001b[39m\u001b[34m(X, allow_nan, msg_dtype, estimator_name, input_name)\u001b[39m\n\u001b[32m    117\u001b[39m \u001b[38;5;28;01mif\u001b[39;00m first_pass_isfinite:\n\u001b[32m    118\u001b[39m     \u001b[38;5;28;01mreturn\u001b[39;00m\n\u001b[32m--> \u001b[39m\u001b[32m120\u001b[39m \u001b[43m_assert_all_finite_element_wise\u001b[49m\u001b[43m(\u001b[49m\n\u001b[32m    121\u001b[39m \u001b[43m    \u001b[49m\u001b[43mX\u001b[49m\u001b[43m,\u001b[49m\n\u001b[32m    122\u001b[39m \u001b[43m    \u001b[49m\u001b[43mxp\u001b[49m\u001b[43m=\u001b[49m\u001b[43mxp\u001b[49m\u001b[43m,\u001b[49m\n\u001b[32m    123\u001b[39m \u001b[43m    \u001b[49m\u001b[43mallow_nan\u001b[49m\u001b[43m=\u001b[49m\u001b[43mallow_nan\u001b[49m\u001b[43m,\u001b[49m\n\u001b[32m    124\u001b[39m \u001b[43m    \u001b[49m\u001b[43mmsg_dtype\u001b[49m\u001b[43m=\u001b[49m\u001b[43mmsg_dtype\u001b[49m\u001b[43m,\u001b[49m\n\u001b[32m    125\u001b[39m \u001b[43m    \u001b[49m\u001b[43mestimator_name\u001b[49m\u001b[43m=\u001b[49m\u001b[43mestimator_name\u001b[49m\u001b[43m,\u001b[49m\n\u001b[32m    126\u001b[39m \u001b[43m    \u001b[49m\u001b[43minput_name\u001b[49m\u001b[43m=\u001b[49m\u001b[43minput_name\u001b[49m\u001b[43m,\u001b[49m\n\u001b[32m    127\u001b[39m \u001b[43m\u001b[49m\u001b[43m)\u001b[49m\n",
      "\u001b[36mFile \u001b[39m\u001b[32md:\\Programs\\Anaconda3\\envs\\dicodingpds\\Lib\\site-packages\\sklearn\\utils\\validation.py:169\u001b[39m, in \u001b[36m_assert_all_finite_element_wise\u001b[39m\u001b[34m(X, xp, allow_nan, msg_dtype, estimator_name, input_name)\u001b[39m\n\u001b[32m    152\u001b[39m \u001b[38;5;28;01mif\u001b[39;00m estimator_name \u001b[38;5;129;01mand\u001b[39;00m input_name == \u001b[33m\"\u001b[39m\u001b[33mX\u001b[39m\u001b[33m\"\u001b[39m \u001b[38;5;129;01mand\u001b[39;00m has_nan_error:\n\u001b[32m    153\u001b[39m     \u001b[38;5;66;03m# Improve the error message on how to handle missing values in\u001b[39;00m\n\u001b[32m    154\u001b[39m     \u001b[38;5;66;03m# scikit-learn.\u001b[39;00m\n\u001b[32m    155\u001b[39m     msg_err += (\n\u001b[32m    156\u001b[39m         \u001b[33mf\u001b[39m\u001b[33m\"\u001b[39m\u001b[38;5;130;01m\\n\u001b[39;00m\u001b[38;5;132;01m{\u001b[39;00mestimator_name\u001b[38;5;132;01m}\u001b[39;00m\u001b[33m does not accept missing values\u001b[39m\u001b[33m\"\u001b[39m\n\u001b[32m    157\u001b[39m         \u001b[33m\"\u001b[39m\u001b[33m encoded as NaN natively. For supervised learning, you might want\u001b[39m\u001b[33m\"\u001b[39m\n\u001b[32m   (...)\u001b[39m\u001b[32m    167\u001b[39m         \u001b[33m\"\u001b[39m\u001b[33m#estimators-that-handle-nan-values\u001b[39m\u001b[33m\"\u001b[39m\n\u001b[32m    168\u001b[39m     )\n\u001b[32m--> \u001b[39m\u001b[32m169\u001b[39m \u001b[38;5;28;01mraise\u001b[39;00m \u001b[38;5;167;01mValueError\u001b[39;00m(msg_err)\n",
      "\u001b[31mValueError\u001b[39m: Input X contains infinity or a value too large for dtype('float64')."
     ]
    }
   ],
   "source": [
    "# Import library yang diperlukan\n",
    "import pandas as pd\n",
    "import numpy as np\n",
    "import matplotlib.pyplot as plt\n",
    "import seaborn as sns\n",
    "from sklearn.preprocessing import StandardScaler, RobustScaler, PowerTransformer, MinMaxScaler, QuantileTransformer\n",
    "from sklearn.cluster import KMeans, DBSCAN\n",
    "from sklearn.mixture import GaussianMixture\n",
    "from sklearn.metrics import silhouette_score, calinski_harabasz_score\n",
    "from sklearn.ensemble import RandomForestClassifier, IsolationForest\n",
    "from sklearn.feature_selection import mutual_info_classif, SelectKBest, f_classif\n",
    "from sklearn.decomposition import PCA, TruncatedSVD\n",
    "from umap import UMAP\n",
    "from sklearn.pipeline import Pipeline\n",
    "from scipy import stats\n",
    "import plotly.express as px\n",
    "import plotly.graph_objects as go\n",
    "from plotly.subplots import make_subplots\n",
    "\n",
    "# Skema warna yang color blind friendly\n",
    "CB_COLORS = {\n",
    "    'blue': '#648FFF',    # biru\n",
    "    'orange': '#FE6100',  # oranye\n",
    "}\n",
    "\n",
    "# Palette untuk high risk vs low risk\n",
    "HIGH_RISK_COLOR = CB_COLORS['orange']\n",
    "LOW_RISK_COLOR = CB_COLORS['blue']\n",
    "\n",
    "import warnings\n",
    "warnings.filterwarnings('ignore')\n",
    "\n",
    "# Fungsi untuk mencetak header\n",
    "def print_header(text):\n",
    "    print(f\"\\n{'='*80}\\n{text}\\n{'='*80}\")\n",
    "\n",
    "# Fungsi untuk menampilkan dan menyimpan visualisasi\n",
    "def display_and_save_figure(fig, filename, show_fig=True):\n",
    "    if show_fig:\n",
    "        fig.show()\n",
    "    fig.write_image(filename)\n",
    "    print(f\"Visualisasi disimpan sebagai '{filename}'\")\n",
    "    return fig\n",
    "\n",
    "# 1. Baca dan persiapkan data\n",
    "print_header(\"MEMBACA DAN MEMPERSIAPKAN DATA\")\n",
    "df = pd.read_csv('./data/data_final_employee.csv')\n",
    "print(f\"Ukuran dataset: {df.shape}\")\n",
    "\n",
    "# 2. Tangani missing value\n",
    "print(\"\\nMenangani missing value...\")\n",
    "missing_values = df.isnull().sum()\n",
    "if missing_values.sum() > 0:\n",
    "    print(f\"Missing values ditemukan: {missing_values[missing_values > 0]}\")\n",
    "    df.dropna(inplace=True)\n",
    "    print(f\"Ukuran dataset setelah menghapus missing value: {df.shape}\")\n",
    "else:\n",
    "    print(\"Tidak ada missing value ditemukan.\")\n",
    "\n",
    "# 3. Pastikan kolom Attrition numerik (0/1)\n",
    "if df['Attrition'].dtype == 'object':\n",
    "    df['Attrition'] = df['Attrition'].map({'Yes': 1, 'No': 0})\n",
    "    print(\"\\nKolom Attrition dikonversi dari kategorikal ke numerik (1/0)\")\n",
    "elif df['Attrition'].max() > 1:\n",
    "    df['Attrition'] = (df['Attrition'] > 0).astype(int)\n",
    "    print(\"\\nKolom Attrition dikonversi ke binary (0/1)\")\n",
    "\n",
    "# 4. PENINGKATAN 1: Advanced Feature Engineering\n",
    "print_header(\"ADVANCED FEATURE ENGINEERING\")\n",
    "\n",
    "# Pilih fitur numerik yang relevan\n",
    "numerical_features = df.select_dtypes(include=['int64', 'float64']).columns.tolist()\n",
    "numerical_features = [f for f in numerical_features if f != 'Attrition' and f != 'EmployeeId' and f != 'EmployeeCount' and f != 'StandardHours' and f != 'Cluster']\n",
    "\n",
    "print(f\"\\nMenggunakan {len(numerical_features)} fitur numerik asli\")\n",
    "\n",
    "# Cek fitur yang tersedia\n",
    "available_features = set(df.columns)\n",
    "\n",
    "# FEATURE ENGINEERING LANJUTAN\n",
    "print(\"\\nMembuat fitur engineering lanjutan...\")\n",
    "\n",
    "# 1. Rasio Compensation ke Job Level\n",
    "if 'MonthlyIncome' in available_features and 'JobLevel' in available_features:\n",
    "    df['SalaryPerLevel'] = df['MonthlyIncome'] / df['JobLevel'].replace(0, 1)\n",
    "    print(\"- Fitur baru: SalaryPerLevel (Gaji per level jabatan)\")\n",
    "\n",
    "# 2. Indeks Kepuasan Kerja Gabungan\n",
    "satisfaction_columns = [col for col in ['JobSatisfaction', 'EnvironmentSatisfaction', \n",
    "                                      'WorkLifeBalance', 'RelationshipSatisfaction'] \n",
    "                       if col in available_features]\n",
    "\n",
    "if len(satisfaction_columns) >= 2:\n",
    "    df['SatisfactionIndex'] = df[satisfaction_columns].mean(axis=1)\n",
    "    print(f\"- Fitur baru: SatisfactionIndex (Rata-rata dari {len(satisfaction_columns)} fitur kepuasan)\")\n",
    "    \n",
    "    # 2.1 Weighted satisfaction index (memberikan bobot lebih untuk job satisfaction)\n",
    "    df['WeightedSatisfactionIndex'] = (df['JobSatisfaction'] * 2 + df[satisfaction_columns].sum(axis=1)) / (len(satisfaction_columns) + 1)\n",
    "    print(\"- Fitur baru: WeightedSatisfactionIndex (Indeks kepuasan dengan bobot)\")\n",
    "    \n",
    "    # 2.2 Variance satisfaction (ketidakkonsistenan kepuasan)\n",
    "    df['SatisfactionVariance'] = df[satisfaction_columns].var(axis=1)\n",
    "    print(\"- Fitur baru: SatisfactionVariance (Variansi tingkat kepuasan)\")\n",
    "\n",
    "# 3. Rasio Promosi dan Karir\n",
    "if 'YearsSinceLastPromotion' in available_features and 'YearsAtCompany' in available_features:\n",
    "    df['PromotionRatio'] = df['YearsSinceLastPromotion'] / df['YearsAtCompany'].replace(0, 1)\n",
    "    print(\"- Fitur baru: PromotionRatio (Rasio tahun sejak promosi terhadap masa kerja)\")\n",
    "    \n",
    "    # 3.1 Promotion speed relative to job level\n",
    "    if 'JobLevel' in available_features:\n",
    "        df['PromotionLevelRatio'] = df['JobLevel'] / (df['YearsAtCompany'].replace(0, 1))\n",
    "        print(\"- Fitur baru: PromotionLevelRatio (Kecepatan kenaikan level)\")\n",
    "    \n",
    "    # 3.2 Career growth rate\n",
    "    df['CareerGrowthRate'] = df['JobLevel'] / (df['TotalWorkingYears'].replace(0, 1))\n",
    "    print(\"- Fitur baru: CareerGrowthRate (Tingkat pertumbuhan karir)\")\n",
    "\n",
    "# 4. Work-Life Balance dan Overtime\n",
    "if 'WorkLifeBalance' in available_features and 'OverTime' in available_features:\n",
    "    # Pastikan OverTime dalam bentuk numerik\n",
    "    if df['OverTime'].dtype == 'object':\n",
    "        df['OverTime'] = df['OverTime'].map({'Yes': 1, 'No': 0})\n",
    "    \n",
    "    # 4.1 Adjusted work-life balance (pengaruh overtime)\n",
    "    df['AdjustedWorkLifeBalance'] = df['WorkLifeBalance'] / (1 + 0.5 * df['OverTime'])\n",
    "    print(\"- Fitur baru: AdjustedWorkLifeBalance (Keseimbangan kerja-hidup disesuaikan overtime)\")\n",
    "    \n",
    "    # 4.2 Overtime impact index\n",
    "    if 'JobInvolvement' in available_features:\n",
    "        df['OvertimeStressIndex'] = df['OverTime'] * (5 - df['WorkLifeBalance']) * df['JobInvolvement']\n",
    "        print(\"- Fitur baru: OvertimeStressIndex (Indeks stres akibat lembur)\")\n",
    "\n",
    "# 5. Distance and Commute Efficiency\n",
    "if 'DistanceFromHome' in available_features:\n",
    "    # 5.1 Non-linear distance impact\n",
    "    df['DistanceImpact'] = np.log1p(df['DistanceFromHome'] ** 1.5)\n",
    "    print(\"- Fitur baru: DistanceImpact (Dampak non-linear jarak)\")\n",
    "    \n",
    "    # 5.2 Distance-Satisfaction interaction\n",
    "    if 'JobSatisfaction' in available_features:\n",
    "        df['DistanceSatisfactionRatio'] = df['DistanceFromHome'] / df['JobSatisfaction']\n",
    "        print(\"- Fitur baru: DistanceSatisfactionRatio (Rasio jarak terhadap kepuasan)\")\n",
    "\n",
    "# 6. Age and Career Stage\n",
    "if 'Age' in available_features and 'TotalWorkingYears' in available_features:\n",
    "    # 6.1 Career stage relative to age\n",
    "    df['CareerStageRatio'] = df['TotalWorkingYears'] / df['Age']\n",
    "    print(\"- Fitur baru: CareerStageRatio (Tahap karir relatif terhadap usia)\")\n",
    "    \n",
    "    # 6.2 Job level to age ratio\n",
    "    if 'JobLevel' in available_features:\n",
    "        df['LevelAgeRatio'] = df['JobLevel'] / ((df['Age'] - 18) / 10)  # Normalized to career decades\n",
    "        print(\"- Fitur baru: LevelAgeRatio (Rasio level jabatan terhadap dekade karir)\")\n",
    "\n",
    "# 7. Compensation and fairness metrics\n",
    "if 'MonthlyIncome' in available_features:\n",
    "    # 7.1 Compensation to experience ratio\n",
    "    if 'TotalWorkingYears' in available_features:\n",
    "        df['CompensationExperienceRatio'] = df['MonthlyIncome'] / (df['TotalWorkingYears'].replace(0, 0.5) + 1)\n",
    "        print(\"- Fitur baru: CompensationExperienceRatio (Rasio gaji terhadap pengalaman)\")\n",
    "    \n",
    "    # 7.2 Compensation to performance ratio\n",
    "    if 'PerformanceRating' in available_features:\n",
    "        df['CompensationPerformanceRatio'] = df['MonthlyIncome'] / df['PerformanceRating']\n",
    "        print(\"- Fitur baru: CompensationPerformanceRatio (Rasio gaji terhadap performa)\")\n",
    "\n",
    "# Update list fitur numerik dengan fitur baru\n",
    "engineered_features = [col for col in df.columns if col not in numerical_features \n",
    "                      and col != 'Attrition' and col != 'EmployeeId' \n",
    "                      and col != 'EmployeeCount' and col != 'StandardHours'\n",
    "                      and col != 'Cluster'\n",
    "                      and df[col].dtype != 'object']\n",
    "\n",
    "print(f\"\\nMenambahkan {len(engineered_features)} fitur hasil feature engineering:\")\n",
    "print(engineered_features)\n",
    "\n",
    "# Gabungkan fitur asli dan fitur baru\n",
    "all_features = numerical_features + engineered_features\n",
    "print(f\"\\nTotal fitur untuk evaluasi: {len(all_features)}\")\n",
    "\n",
    "# 5. PENINGKATAN 2: Outlier Detection and Removal\n",
    "print_header(\"OUTLIER DETECTION AND REMOVAL\")\n",
    "\n",
    "# Persiapkan data\n",
    "X_all = df[all_features]\n",
    "y = df['Attrition']\n",
    "\n",
    "# Standarisasi semua fitur\n",
    "print(\"\\nStandardisasi data...\")\n",
    "robust_scaler = RobustScaler()  # Robust terhadap outlier\n",
    "X_scaled = robust_scaler.fit_transform(X_all)\n",
    "X_scaled_df = pd.DataFrame(X_scaled, columns=all_features)\n",
    "\n",
    "# Deteksi Outlier dengan Isolation Forest\n",
    "print(\"\\nMendeteksi outlier dengan Isolation Forest...\")\n",
    "iso_forest = IsolationForest(contamination=0.05, random_state=42)\n",
    "outlier_labels = iso_forest.fit_predict(X_scaled)\n",
    "is_outlier = outlier_labels == -1  # -1 untuk outlier, 1 untuk inlier\n",
    "\n",
    "print(f\"Jumlah outlier terdeteksi: {sum(is_outlier)} ({sum(is_outlier)/len(df)*100:.1f}%)\")\n",
    "\n",
    "# Simpan kolom outlier untuk analisis\n",
    "df['is_outlier'] = is_outlier\n",
    "\n",
    "# Visualisasi outlier vs attrition \n",
    "outlier_attrition = df.groupby('is_outlier')['Attrition'].mean() * 100\n",
    "fig = px.bar(\n",
    "    x=['Normal', 'Outlier'],\n",
    "    y=[outlier_attrition[False], outlier_attrition[True]],\n",
    "    color=['Normal', 'Outlier'],\n",
    "    color_discrete_map={'Normal': LOW_RISK_COLOR, 'Outlier': HIGH_RISK_COLOR},\n",
    "    title='Perbandingan Tingkat Attrition antara Data Normal vs Outlier',\n",
    "    labels={'x': 'Tipe Data', 'y': 'Tingkat Attrition (%)'}\n",
    ")\n",
    "fig.update_layout(showlegend=False)\n",
    "for i, value in enumerate([outlier_attrition[False], outlier_attrition[True]]):\n",
    "    fig.add_annotation(\n",
    "        x=i, y=value + 1,\n",
    "        text=f\"{value:.1f}%\",\n",
    "        showarrow=False\n",
    "    )\n",
    "\n",
    "# Tampilkan dan simpan visualisasi\n",
    "display_and_save_figure(fig, \"outlier_attrition_comparison.png\")\n",
    "\n",
    "# Jika outlier punya tingkat attrition lebih tinggi, kita pertahankan\n",
    "# Jika tidak, kita hapus untuk meningkatkan kualitas clustering\n",
    "if outlier_attrition[True] > outlier_attrition[False] * 1.5:  # 50% lebih tinggi\n",
    "    print(\"Outlier memiliki tingkat attrition jauh lebih tinggi, mempertahankan sebagai cluster potensial\")\n",
    "    remove_outliers = False\n",
    "else:\n",
    "    print(\"Menghapus outlier untuk meningkatkan kualitas clustering...\")\n",
    "    remove_outliers = True\n",
    "    # Filter outlier\n",
    "    df_filtered = df[~is_outlier].copy()\n",
    "    X_scaled_filtered = X_scaled[~is_outlier]\n",
    "    y_filtered = y[~is_outlier]\n",
    "    \n",
    "    print(f\"Ukuran dataset setelah menghapus outlier: {df_filtered.shape[0]} baris\")\n",
    "\n",
    "\n",
    "# 6. PENINGKATAN 3: Advanced Feature Selection\n",
    "print_header(\"ADVANCED FEATURE SELECTION\")\n",
    "\n",
    "# Pilih dataset yang akan digunakan\n",
    "if remove_outliers:\n",
    "    X_for_selection = X_scaled_filtered\n",
    "    y_for_selection = y_filtered\n",
    "    df_for_model = df_filtered\n",
    "else:\n",
    "    X_for_selection = X_scaled\n",
    "    y_for_selection = y\n",
    "    df_for_model = df\n",
    "\n",
    "# A. Feature Selection berbasis Random Forest\n",
    "print(\"1. Feature Selection dengan Random Forest...\")\n",
    "rf = RandomForestClassifier(n_estimators=100, random_state=42, class_weight='balanced')\n",
    "rf.fit(X_for_selection, y_for_selection)\n",
    "\n",
    "rf_importance = pd.DataFrame({\n",
    "    'Feature': all_features,\n",
    "    'RF_Importance': rf.feature_importances_\n",
    "}).sort_values(by='RF_Importance', ascending=False)\n",
    "\n",
    "# B. Feature Selection berbasis Mutual Information (menangkap hubungan non-linear)\n",
    "print(\"\\n2. Feature Selection dengan Mutual Information...\")\n",
    "mi_scores = mutual_info_classif(X_for_selection, y_for_selection, random_state=42)\n",
    "mi_importance = pd.DataFrame({\n",
    "    'Feature': all_features,\n",
    "    'MI_Score': mi_scores\n",
    "}).sort_values(by='MI_Score', ascending=False)\n",
    "\n",
    "# C. Feature Selection berbasis ANOVA F-value\n",
    "print(\"\\n3. Feature Selection dengan ANOVA F-value...\")\n",
    "f_scores, p_values = f_classif(X_for_selection, y_for_selection)\n",
    "f_importance = pd.DataFrame({\n",
    "    'Feature': all_features,\n",
    "    'F_Score': f_scores,\n",
    "    'P_Value': p_values\n",
    "}).sort_values(by='F_Score', ascending=False)\n",
    "\n",
    "# D. Gabungkan hasil feature selection\n",
    "print(\"\\n4. Menggabungkan hasil feature selection...\")\n",
    "# Normalisasi skor\n",
    "rf_importance['RF_Normalized'] = rf_importance['RF_Importance'] / rf_importance['RF_Importance'].max()\n",
    "mi_importance['MI_Normalized'] = mi_importance['MI_Score'] / mi_importance['MI_Score'].max()\n",
    "f_importance['F_Normalized'] = f_importance['F_Score'] / f_importance['F_Score'].max()\n",
    "\n",
    "# Gabungkan semua metode\n",
    "feature_ranks = pd.DataFrame({'Feature': all_features})\n",
    "feature_ranks = pd.merge(feature_ranks, \n",
    "                         rf_importance[['Feature', 'RF_Normalized']], \n",
    "                         on='Feature')\n",
    "feature_ranks = pd.merge(feature_ranks, \n",
    "                         mi_importance[['Feature', 'MI_Normalized']], \n",
    "                         on='Feature')\n",
    "feature_ranks = pd.merge(feature_ranks, \n",
    "                         f_importance[['Feature', 'F_Normalized']], \n",
    "                         on='Feature')\n",
    "\n",
    "# Hitung skor gabungan\n",
    "feature_ranks['Combined_Score'] = (feature_ranks['RF_Normalized'] + \n",
    "                                  feature_ranks['MI_Normalized'] + \n",
    "                                  feature_ranks['F_Normalized']) / 3\n",
    "\n",
    "# Urutkan berdasarkan skor gabungan\n",
    "feature_ranks = feature_ranks.sort_values(by='Combined_Score', ascending=False)\n",
    "\n",
    "print(\"\\nTop 15 fitur berdasarkan kombinasi metode:\")\n",
    "print(feature_ranks[['Feature', 'Combined_Score']].head(15))\n",
    "\n",
    "# Visualisasi top features\n",
    "fig = px.bar(\n",
    "    feature_ranks.head(15),\n",
    "    x='Combined_Score',\n",
    "    y='Feature',\n",
    "    orientation='h',\n",
    "    title='Top 15 Fitur Terpenting untuk Attrition',\n",
    "    color='Combined_Score',\n",
    "    color_continuous_scale=[LOW_RISK_COLOR, '#FFFFFF', HIGH_RISK_COLOR]\n",
    ")\n",
    "fig.update_layout(\n",
    "    yaxis={'categoryorder': 'total ascending'},\n",
    "    coloraxis_showscale=False,\n",
    "    height=600,\n",
    "    width=900\n",
    ")\n",
    "\n",
    "# Tampilkan dan simpan visualisasi\n",
    "display_and_save_figure(fig, \"combined_feature_importance.png\")\n",
    "\n",
    "# E. Pilih top features untuk clustering\n",
    "print(\"\\n5. Memilih fitur optimal untuk clustering...\")\n",
    "\n",
    "# Uji berbagai jumlah fitur untuk menentukan optimal k\n",
    "k_values = range(5, 26, 5)  # 5, 10, 15, 20, 25\n",
    "best_silhouette = -1\n",
    "best_k = 0\n",
    "\n",
    "for k in k_values:\n",
    "    # Pilih top k features\n",
    "    top_k_features = feature_ranks.head(k)['Feature'].tolist()\n",
    "    \n",
    "    # Ekstrak data dengan top k features\n",
    "    X_top_k = X_for_selection[:, [all_features.index(f) for f in top_k_features]]\n",
    "    \n",
    "    # Uji silhouette score dengan KMeans clustering\n",
    "    kmeans = KMeans(n_clusters=2, random_state=42, n_init=20)\n",
    "    labels = kmeans.fit_predict(X_top_k)\n",
    "    score = silhouette_score(X_top_k, labels)\n",
    "    \n",
    "    print(f\"Silhouette score with top {k} features: {score:.3f}\")\n",
    "    \n",
    "    if score > best_silhouette:\n",
    "        best_silhouette = score\n",
    "        best_k = k\n",
    "\n",
    "print(f\"\\nJumlah fitur optimal: {best_k} dengan silhouette score: {best_silhouette:.3f}\")\n",
    "\n",
    "# Pilih fitur optimal\n",
    "optimal_features = feature_ranks.head(best_k)['Feature'].tolist()\n",
    "print(f\"\\nMenggunakan {best_k} fitur terbaik untuk clustering:\")\n",
    "print(optimal_features)\n",
    "\n",
    "# Ekstrak data dengan fitur optimal\n",
    "X_optimal = X_for_selection[:, [all_features.index(f) for f in optimal_features]]\n",
    "\n",
    "# 7. PENINGKATAN 4: Advanced Transformation and Dimensionality Reduction\n",
    "print_header(\"ADVANCED TRANSFORMATION AND DIMENSIONALITY REDUCTION\")\n",
    "\n",
    "# A. Non-linear transformation dengan Quantile Transformer\n",
    "print(\"1. Transformasi non-linear dengan Quantile Transformer...\")\n",
    "qt = QuantileTransformer(output_distribution='normal', random_state=42)\n",
    "X_transformed = qt.fit_transform(X_optimal)\n",
    "print(\"Transformasi selesai.\")\n",
    "\n",
    "# B. Dimensionality Reduction dengan UMAP\n",
    "print(\"\\n2. Melakukan reduksi dimensi dengan UMAP...\")\n",
    "# Uji berbagai parameter UMAP\n",
    "n_neighbors_values = [10, 15, 20, 30]\n",
    "min_dist_values = [0.0, 0.1, 0.2, 0.5]\n",
    "\n",
    "best_silhouette_umap = -1\n",
    "best_params = None\n",
    "best_umap = None\n",
    "best_X_umap = None\n",
    "\n",
    "for n_neighbors in n_neighbors_values:\n",
    "    for min_dist in min_dist_values:\n",
    "        # Uji UMAP dengan parameter ini\n",
    "        umap_reducer = UMAP(\n",
    "            n_components=2, \n",
    "            random_state=42, \n",
    "            n_neighbors=n_neighbors,\n",
    "            min_dist=min_dist\n",
    "        )\n",
    "        X_umap = umap_reducer.fit_transform(X_transformed)\n",
    "        \n",
    "        # Evaluasi dengan KMeans\n",
    "        kmeans = KMeans(n_clusters=2, random_state=42, n_init=20)\n",
    "        labels = kmeans.fit_predict(X_umap)\n",
    "        score = silhouette_score(X_umap, labels)\n",
    "        \n",
    "        print(f\"UMAP (n_neighbors={n_neighbors}, min_dist={min_dist}): silhouette={score:.3f}\")\n",
    "        \n",
    "        if score > best_silhouette_umap:\n",
    "            best_silhouette_umap = score\n",
    "            best_params = (n_neighbors, min_dist)\n",
    "            best_umap = umap_reducer\n",
    "            best_X_umap = X_umap\n",
    "\n",
    "print(f\"\\nParameter UMAP terbaik: n_neighbors={best_params[0]}, min_dist={best_params[1]}\")\n",
    "print(f\"Silhouette score dengan UMAP terbaik: {best_silhouette_umap:.3f}\")\n",
    "\n",
    "# Gunakan UMAP terbaik\n",
    "X_umap = best_X_umap\n",
    "print(f\"Dimensi setelah UMAP: {X_umap.shape}\")\n",
    "\n",
    "# Visualisasi hasil UMAP berdasarkan attrition aktual\n",
    "umap_df = pd.DataFrame(X_umap, columns=['UMAP_1', 'UMAP_2'])\n",
    "umap_df['Attrition'] = y_for_selection.reset_index(drop=True)\n",
    "umap_df['Attrition_Label'] = umap_df['Attrition'].map({0: 'Tidak Keluar', 1: 'Keluar'})\n",
    "\n",
    "fig = px.scatter(\n",
    "    umap_df, \n",
    "    x='UMAP_1', \n",
    "    y='UMAP_2', \n",
    "    color='Attrition_Label',\n",
    "    color_discrete_map={\n",
    "        'Keluar': HIGH_RISK_COLOR,\n",
    "        'Tidak Keluar': LOW_RISK_COLOR\n",
    "    },\n",
    "    title=f'Visualisasi Data dengan UMAP Optimal (Silhouette: {best_silhouette_umap:.3f})',\n",
    "    opacity=0.7,\n",
    "    width=900,\n",
    "    height=700\n",
    ")\n",
    "fig.update_traces(marker=dict(size=8, line=dict(width=1, color='DarkSlateGrey')))\n",
    "fig.update_layout(\n",
    "    legend_title_text='Status',\n",
    "    xaxis_title='UMAP Dimension 1',\n",
    "    yaxis_title='UMAP Dimension 2',\n",
    "    font=dict(size=12)\n",
    ")\n",
    "\n",
    "# Tampilkan dan simpan visualisasi\n",
    "display_and_save_figure(fig, \"optimal_umap_visualization.png\")\n",
    "\n",
    "# 8. PENINGKATAN 5: Advanced Clustering Methods\n",
    "print_header(\"ADVANCED CLUSTERING METHODS\")\n",
    "\n",
    "# A. Benchmarking berbagai metode clustering\n",
    "print(\"Benchmarking metode clustering dengan parameter optimal...\")\n",
    "\n",
    "# Set up metode-metode clustering\n",
    "clustering_methods = {\n",
    "    'KMeans': KMeans(n_clusters=2, random_state=42, n_init=50),\n",
    "    'GaussianMixture (Full)': GaussianMixture(n_components=2, covariance_type='full', random_state=42, max_iter=1000, n_init=10),\n",
    "    'GaussianMixture (Tied)': GaussianMixture(n_components=2, covariance_type='tied', random_state=42, max_iter=1000, n_init=10),\n",
    "}\n",
    "\n",
    "# Evaluasi semua metode\n",
    "scores_dict = {}\n",
    "\n",
    "for method_name, model in clustering_methods.items():\n",
    "    print(f\"\\nEvaluasi {method_name}...\")\n",
    "    \n",
    "    if 'GaussianMixture' in method_name:\n",
    "        model.fit(X_umap)\n",
    "        labels = model.predict(X_umap)\n",
    "    else:\n",
    "        labels = model.fit_predict(X_umap)\n",
    "    \n",
    "    # Hitung berbagai metrik evaluasi\n",
    "    silhouette = silhouette_score(X_umap, labels)\n",
    "    calinski = calinski_harabasz_score(X_umap, labels)\n",
    "    \n",
    "    # Hitung tingkat attrition per cluster\n",
    "    temp_df = df_for_model.copy()\n",
    "    temp_df['Cluster'] = labels\n",
    "    attrition_by_cluster = temp_df.groupby('Cluster')['Attrition'].mean() * 100\n",
    "    attrition_diff = abs(attrition_by_cluster.max() - attrition_by_cluster.min())\n",
    "    \n",
    "    print(f\"  Silhouette Score: {silhouette:.3f}\")\n",
    "    print(f\"  Calinski-Harabasz Score: {calinski:.1f}\")\n",
    "    print(f\"  Perbedaan Attrition: {attrition_diff:.1f}%\")\n",
    "    \n",
    "    scores_dict[method_name] = {\n",
    "        'silhouette': silhouette,\n",
    "        'calinski': calinski,\n",
    "        'attrition_diff': attrition_diff,\n",
    "        'labels': labels,\n",
    "        'model': model\n",
    "    }\n",
    "\n",
    "# Pilih metode terbaik berdasarkan silhouette score\n",
    "best_method = max(scores_dict.items(), key=lambda x: x[1]['silhouette'])\n",
    "best_method_name = best_method[0]\n",
    "best_silhouette_score = best_method[1]['silhouette']\n",
    "best_labels = best_method[1]['labels']\n",
    "best_model = best_method[1]['model']\n",
    "\n",
    "print(f\"\\nMetode terbaik: {best_method_name} dengan silhouette score: {best_silhouette_score:.3f}\")\n",
    "\n",
    "# Visualisasi perbandingan silhouette score\n",
    "methods = list(scores_dict.keys())\n",
    "silhouette_scores = [scores_dict[m]['silhouette'] for m in methods]\n",
    "\n",
    "fig = px.bar(\n",
    "    x=methods, \n",
    "    y=silhouette_scores,\n",
    "    color=silhouette_scores,\n",
    "    color_continuous_scale=[LOW_RISK_COLOR, '#FFFFFF', HIGH_RISK_COLOR],\n",
    "    title='Perbandingan Silhouette Score antar Metode Clustering',\n",
    "    labels={'x': 'Metode Clustering', 'y': 'Silhouette Score'}\n",
    ")\n",
    "for i, score in enumerate(silhouette_scores):\n",
    "    fig.add_annotation(\n",
    "        x=i, y=score + 0.02,\n",
    "        text=f\"{score:.3f}\",\n",
    "        showarrow=False\n",
    "    )\n",
    "fig.update_layout(coloraxis_showscale=False)\n",
    "\n",
    "# Tampilkan dan simpan visualisasi\n",
    "display_and_save_figure(fig, \"clustering_methods_comparison.png\")\n",
    "\n",
    "# 9. Tambahkan label cluster ke dataframe\n",
    "df_for_model['Cluster'] = best_labels\n",
    "\n",
    "# 10. Analisis tingkat attrition per cluster\n",
    "attrition_by_cluster = df_for_model.groupby('Cluster')['Attrition'].mean() * 100\n",
    "cluster_sizes = df_for_model.groupby('Cluster').size()\n",
    "\n",
    "print(\"\\nAnalisis tingkat attrition per cluster:\")\n",
    "for cluster in sorted(attrition_by_cluster.index):\n",
    "    print(f\"Cluster {cluster}: {cluster_sizes[cluster]} karyawan, tingkat attrition {attrition_by_cluster[cluster]:.2f}%\")\n",
    "\n",
    "# 11. Tentukan cluster dengan risiko tinggi\n",
    "high_risk_cluster = attrition_by_cluster.idxmax()\n",
    "low_risk_cluster = attrition_by_cluster.idxmin()\n",
    "\n",
    "print(f\"\\nCluster dengan risiko tinggi: Cluster {high_risk_cluster} ({attrition_by_cluster[high_risk_cluster]:.2f}%)\")\n",
    "print(f\"Cluster dengan risiko rendah: Cluster {low_risk_cluster} ({attrition_by_cluster[low_risk_cluster]:.2f}%)\")\n",
    "\n",
    "# 12. Buat kolom Risk Level dengan 2 kategori\n",
    "df_for_model['RiskLevel'] = df_for_model['Cluster'].map({\n",
    "    high_risk_cluster: 'Risiko Tinggi', \n",
    "    low_risk_cluster: 'Risiko Rendah'\n",
    "})\n",
    "\n",
    "# 13. Hitung distribusi risiko\n",
    "risk_distribution = df_for_model['RiskLevel'].value_counts()\n",
    "risk_percentage = df_for_model['RiskLevel'].value_counts(normalize=True) * 100\n",
    "\n",
    "print(\"\\nDistribusi Karyawan berdasarkan Level Risiko Attrition:\")\n",
    "for risk, count in risk_distribution.items():\n",
    "    percentage = risk_percentage[risk]\n",
    "    print(f\"{risk}: {count} karyawan ({percentage:.1f}%)\")\n",
    "\n",
    "# 14. Visualisasi hasil clustering dengan UMAP\n",
    "umap_cluster_df = pd.DataFrame(X_umap, columns=['UMAP_1', 'UMAP_2'])\n",
    "umap_cluster_df['Risk Level'] = df_for_model['RiskLevel'].values\n",
    "\n",
    "fig = px.scatter(\n",
    "    umap_cluster_df, \n",
    "    x='UMAP_1', \n",
    "    y='UMAP_2', \n",
    "    color='Risk Level',\n",
    "    color_discrete_map={\n",
    "        'Risiko Tinggi': HIGH_RISK_COLOR,\n",
    "        'Risiko Rendah': LOW_RISK_COLOR\n",
    "    },\n",
    "    title=f'Segmentasi Risiko Attrition (Silhouette: {best_silhouette_score:.3f})',\n",
    "    opacity=0.7,\n",
    "    width=900,\n",
    "    height=700\n",
    ")\n",
    "fig.update_traces(marker=dict(size=8, line=dict(width=1, color='DarkSlateGrey')))\n",
    "fig.update_layout(\n",
    "    legend_title_text='Level Risiko',\n",
    "    xaxis_title='UMAP Dimension 1',\n",
    "    yaxis_title='UMAP Dimension 2',\n",
    "    font=dict(size=12)\n",
    ")\n",
    "\n",
    "# Tampilkan dan simpan visualisasi\n",
    "display_and_save_figure(fig, \"optimal_clustering_results.png\")\n",
    "\n",
    "# 15. Analisis profil untuk setiap level risiko\n",
    "print_header(\"ANALISIS PROFIL RISIKO\")\n",
    "\n",
    "# Pilih fitur penting untuk analisis profil\n",
    "profile_features = optimal_features[:8]  # Gunakan 8 fitur teratas untuk profil\n",
    "\n",
    "# Hitung profil rata-rata berdasarkan level risiko\n",
    "profile_by_risk = df_for_model.groupby('RiskLevel')[profile_features].mean()\n",
    "\n",
    "print(\"\\nProfil rata-rata berdasarkan level risiko:\")\n",
    "print(profile_by_risk)\n",
    "\n",
    "# Hitung persentase perbedaan antara risiko tinggi vs rendah\n",
    "high_profile = profile_by_risk.loc['Risiko Tinggi'] if 'Risiko Tinggi' in profile_by_risk.index else profile_by_risk.iloc[0]\n",
    "low_profile = profile_by_risk.loc['Risiko Rendah'] if 'Risiko Rendah' in profile_by_risk.index else profile_by_risk.iloc[1]\n",
    "\n",
    "# Hitung perbedaan persentase\n",
    "pct_diff = (high_profile - low_profile) / low_profile.abs() * 100\n",
    "\n",
    "print(\"\\nPerbedaan persentase (Risiko Tinggi vs Risiko Rendah):\")\n",
    "for feature, diff in pct_diff.items():\n",
    "    print(f\"{feature}: {diff:+.1f}%\")\n",
    "\n",
    "# 16. Visualisasi perbedaan profil\n",
    "print(\"\\nMembuat visualisasi perbedaan profil...\")\n",
    "\n",
    "# Pilih top 8 fitur dengan perbedaan terbesar untuk visualisasi\n",
    "top_diff_features = pct_diff.abs().sort_values(ascending=False).head(8).index.tolist()\n",
    "diff_df = pd.DataFrame({\n",
    "    'Fitur': top_diff_features,\n",
    "    'Perbedaan (%)': pct_diff[top_diff_features].values\n",
    "})\n",
    "\n",
    "# Gunakan colorscale yang menunjukkan perbedaan positif/negatif\n",
    "colors = [HIGH_RISK_COLOR if val > 0 else LOW_RISK_COLOR for val in diff_df['Perbedaan (%)']]\n",
    "\n",
    "fig = px.bar(\n",
    "    diff_df,\n",
    "    x='Fitur',\n",
    "    y='Perbedaan (%)',\n",
    "    color='Perbedaan (%)',\n",
    "    color_continuous_scale=[LOW_RISK_COLOR, '#FFFFFF', HIGH_RISK_COLOR],\n",
    "    text=[f\"{val:+.1f}%\" for val in diff_df['Perbedaan (%)']],\n",
    "    title='Perbedaan Karakteristik Risiko Tinggi vs Risiko Rendah (%)',\n",
    "    height=600,\n",
    "    width=900\n",
    ")\n",
    "fig.update_traces(textposition='outside')\n",
    "fig.update_layout(\n",
    "    xaxis_title='Fitur',\n",
    "    yaxis_title='Perbedaan Persentase (%)',\n",
    "    xaxis={'categoryorder': 'total ascending'},\n",
    "    font=dict(size=12)\n",
    ")\n",
    "# Tambahkan garis horizontal di 0\n",
    "fig.add_shape(\n",
    "    type=\"line\",\n",
    "    x0=-0.5,\n",
    "    y0=0,\n",
    "    x1=len(top_diff_features)-0.5,\n",
    "    y1=0,\n",
    "    line=dict(color=\"black\", width=1, dash=\"dash\")\n",
    ")\n",
    "\n",
    "# Tampilkan dan simpan visualisasi\n",
    "display_and_save_figure(fig, \"profile_differences_optimal.png\")\n",
    "\n",
    "# 17. Analisis distribusi departemen per level risiko\n",
    "if 'Department' in df_for_model.columns:\n",
    "    dept_by_risk = pd.crosstab(df_for_model['RiskLevel'], df_for_model['Department'], normalize='index') * 100\n",
    "    \n",
    "    print(\"\\nDistribusi Department (%) per Level Risiko:\")\n",
    "    print(dept_by_risk)\n",
    "    \n",
    "    # Reshape data untuk Plotly\n",
    "    dept_data = []\n",
    "    for risk_level in dept_by_risk.index:\n",
    "        for dept in dept_by_risk.columns:\n",
    "            dept_data.append({\n",
    "                'RiskLevel': risk_level,\n",
    "                'Department': dept,\n",
    "                'Percentage': dept_by_risk.loc[risk_level, dept]\n",
    "            })\n",
    "    \n",
    "    dept_df = pd.DataFrame(dept_data)\n",
    "    \n",
    "    fig = px.bar(\n",
    "        dept_df,\n",
    "        x='RiskLevel',\n",
    "        y='Percentage',\n",
    "        color='Department',\n",
    "        color_discrete_sequence=px.colors.qualitative.Bold,  # Colorblind friendly\n",
    "        title='Distribusi Department berdasarkan Level Risiko',\n",
    "        height=600,\n",
    "        width=900,\n",
    "        barmode='stack'\n",
    "    )\n",
    "    fig.update_layout(\n",
    "        xaxis_title='Level Risiko',\n",
    "        yaxis_title='Persentase (%)',\n",
    "        legend_title='Department',\n",
    "        font=dict(size=12)\n",
    "    )\n",
    "    \n",
    "    # Tampilkan dan simpan visualisasi\n",
    "    display_and_save_figure(fig, \"department_by_risk_optimal.png\")\n",
    "\n",
    "# 18. Analisis distribusi job role per level risiko\n",
    "if 'JobRole' in df_for_model.columns:\n",
    "    role_by_risk = pd.crosstab(df_for_model['RiskLevel'], df_for_model['JobRole'], normalize='index') * 100\n",
    "    \n",
    "    print(\"\\nDistribusi Job Role (%) per Level Risiko:\")\n",
    "    print(role_by_risk)\n",
    "    \n",
    "    # Reshape data untuk Plotly\n",
    "    role_data = []\n",
    "    for risk_level in role_by_risk.index:\n",
    "        for role in role_by_risk.columns:\n",
    "            role_data.append({\n",
    "                'RiskLevel': risk_level,\n",
    "                'JobRole': role,\n",
    "                'Percentage': role_by_risk.loc[risk_level, role]\n",
    "            })\n",
    "    \n",
    "    role_df = pd.DataFrame(role_data)\n",
    "    \n",
    "    fig = px.bar(\n",
    "        role_df,\n",
    "        x='RiskLevel',\n",
    "        y='Percentage',\n",
    "        color='JobRole',\n",
    "        color_discrete_sequence=px.colors.qualitative.Plotly,  # Colorblind friendly\n",
    "        title='Distribusi Job Role berdasarkan Level Risiko',\n",
    "        height=600,\n",
    "        width=900,\n",
    "        barmode='stack'\n",
    "    )\n",
    "    fig.update_layout(\n",
    "        xaxis_title='Level Risiko',\n",
    "        yaxis_title='Persentase (%)',\n",
    "        legend_title='Job Role',\n",
    "        font=dict(size=12)\n",
    "    )\n",
    "    \n",
    "    # Tampilkan dan simpan visualisasi\n",
    "    display_and_save_figure(fig, \"jobrole_by_risk_optimal.png\")\n",
    "\n",
    "# 19. Dashboard ringkasan\n",
    "print_header(\"DASHBOARD RINGKASAN\")\n",
    "\n",
    "# Create dashboard with 2x2 subplots\n",
    "fig = make_subplots(\n",
    "    rows=2, \n",
    "    cols=2,\n",
    "    subplot_titles=(\n",
    "        f'Segmentasi Risiko Attrition (Silhouette: {best_silhouette_score:.3f})',\n",
    "        'Distribusi Karyawan berdasarkan Risiko',\n",
    "        'Top 5 Perbedaan Karakteristik',\n",
    "        'Distribusi Department per Risiko'\n",
    "    ),\n",
    "    specs=[\n",
    "        [{\"type\": \"scatter\"}, {\"type\": \"bar\"}],\n",
    "        [{\"type\": \"bar\"}, {\"type\": \"bar\"}]\n",
    "    ],\n",
    "    vertical_spacing=0.12,\n",
    "    horizontal_spacing=0.08\n",
    ")\n",
    "\n",
    "# 1. Segmentasi (Tinggi vs Rendah)\n",
    "fig.add_trace(\n",
    "    go.Scatter(\n",
    "        x=umap_cluster_df[umap_cluster_df['Risk Level'] == 'Risiko Tinggi']['UMAP_1'],\n",
    "        y=umap_cluster_df[umap_cluster_df['Risk Level'] == 'Risiko Tinggi']['UMAP_2'],\n",
    "        mode='markers',\n",
    "        marker=dict(color=HIGH_RISK_COLOR, size=8),\n",
    "        name='Risiko Tinggi'\n",
    "    ),\n",
    "    row=1, col=1\n",
    ")\n",
    "\n",
    "fig.add_trace(\n",
    "    go.Scatter(\n",
    "        x=umap_cluster_df[umap_cluster_df['Risk Level'] == 'Risiko Rendah']['UMAP_1'],\n",
    "        y=umap_cluster_df[umap_cluster_df['Risk Level'] == 'Risiko Rendah']['UMAP_2'],\n",
    "        mode='markers',\n",
    "        marker=dict(color=LOW_RISK_COLOR, size=8),\n",
    "        name='Risiko Rendah'\n",
    "    ),\n",
    "    row=1, col=1\n",
    ")\n",
    "\n",
    "# 2. Distribusi risiko\n",
    "risk_df = pd.DataFrame({\n",
    "    'Level Risiko': risk_distribution.index,\n",
    "    'Jumlah Karyawan': risk_distribution.values,\n",
    "    'Persentase': risk_percentage.values\n",
    "})\n",
    "\n",
    "for i, risk in enumerate(risk_df['Level Risiko']):\n",
    "    color = HIGH_RISK_COLOR if risk == 'Risiko Tinggi' else LOW_RISK_COLOR\n",
    "    fig.add_trace(\n",
    "        go.Bar(\n",
    "            x=[risk],\n",
    "            y=[risk_df['Jumlah Karyawan'].iloc[i]],\n",
    "            text=[f\"{risk_df['Jumlah Karyawan'].iloc[i]} ({risk_df['Persentase'].iloc[i]:.1f}%)\"],\n",
    "            textposition='inside',\n",
    "            name=risk,\n",
    "            marker_color=color,\n",
    "            showlegend=False\n",
    "        ),\n",
    "        row=1, col=2\n",
    "    )\n",
    "\n",
    "# 3. Top 5 perbedaan karakteristik\n",
    "top_5_diff = pct_diff.abs().sort_values(ascending=False).head(5)\n",
    "for feature in top_5_diff.index:\n",
    "    color = HIGH_RISK_COLOR if pct_diff[feature] > 0 else LOW_RISK_COLOR\n",
    "    fig.add_trace(\n",
    "        go.Bar(\n",
    "            x=[feature],\n",
    "            y=[pct_diff[feature]],\n",
    "            text=[f\"{pct_diff[feature]:+.1f}%\"],\n",
    "            textposition='outside',\n",
    "            marker_color=color,\n",
    "            showlegend=False,\n",
    "            name=feature\n",
    "        ),\n",
    "        row=2, col=1\n",
    "    )\n",
    "\n",
    "# 4. Department atau Job Role distribution\n",
    "if 'Department' in df_for_model.columns:\n",
    "    # Ambil 3 department dengan persentase tertinggi di setiap level risiko\n",
    "    for risk_level in dept_by_risk.index:\n",
    "        top_depts = dept_by_risk.loc[risk_level].sort_values(ascending=False).head(3)\n",
    "        for dept, pct in top_depts.items():\n",
    "            color = HIGH_RISK_COLOR if risk_level == 'Risiko Tinggi' else LOW_RISK_COLOR\n",
    "            fig.add_trace(\n",
    "                go.Bar(\n",
    "                    x=[dept],\n",
    "                    y=[pct],\n",
    "                    text=[f\"{pct:.1f}%\"],\n",
    "                    textposition='outside',\n",
    "                    name=f\"{risk_level} - {dept}\",\n",
    "                    marker_color=color,\n",
    "                    opacity=0.7,\n",
    "                    showlegend=False\n",
    "                ),\n",
    "                row=2, col=2\n",
    "            )\n",
    "\n",
    "# Update layout\n",
    "fig.update_layout(\n",
    "    title_text=f'DASHBOARD SEGMENTASI RISIKO ATTRITION (Silhouette: {best_silhouette_score:.3f})',\n",
    "    height=900,\n",
    "    width=1200,\n",
    "    showlegend=True,\n",
    "    legend=dict(\n",
    "        orientation=\"h\",\n",
    "        yanchor=\"bottom\",\n",
    "        y=1.02,\n",
    "        xanchor=\"right\",\n",
    "        x=1\n",
    "    ),\n",
    "    font=dict(size=12)\n",
    ")\n",
    "\n",
    "# Update axes\n",
    "fig.update_xaxes(title_text='UMAP Dimension 1', row=1, col=1)\n",
    "fig.update_yaxes(title_text='UMAP Dimension 2', row=1, col=1)\n",
    "\n",
    "fig.update_xaxes(title_text='Level Risiko', row=1, col=2)\n",
    "fig.update_yaxes(title_text='Jumlah Karyawan', row=1, col=2)\n",
    "\n",
    "fig.update_xaxes(title_text='Fitur', row=2, col=1)\n",
    "fig.update_yaxes(title_text='Perbedaan (%)', row=2, col=1)\n",
    "\n",
    "fig.update_xaxes(title_text='Department', row=2, col=2)\n",
    "fig.update_yaxes(title_text='Persentase (%)', row=2, col=2)\n",
    "\n",
    "# Add horizontal line at y=0 for differences\n",
    "fig.add_shape(\n",
    "    type=\"line\",\n",
    "    x0=-0.5,\n",
    "    y0=0,\n",
    "    x1=4.5,\n",
    "    y1=0,\n",
    "    line=dict(color=\"black\", width=1, dash=\"dash\"),\n",
    "    row=2, col=1\n",
    ")\n",
    "\n",
    "# Tampilkan dan simpan dashboard\n",
    "display_and_save_figure(fig, \"dashboard_optimal.png\")\n",
    "\n",
    "# 20. Simpan hasil segmentasi\n",
    "df_for_model.to_csv('optimal_risk_segmentation_result.csv', index=False)\n",
    "print(\"\\nHasil segmentasi dengan silhouette score optimal telah disimpan ke 'optimal_risk_segmentation_result.csv'\")\n",
    "\n",
    "# 21. Kesimpulan dan rekomendasi\n",
    "print_header(\"KESIMPULAN DAN REKOMENDASI\")\n",
    "\n",
    "print(f\"\"\"\n",
    "KESIMPULAN SEGMENTASI RISIKO ATTRITION KARYAWAN - HASIL OPTIMAL:\n",
    "\n",
    "1. Dengan metode {best_method_name}, kami mencapai silhouette score {best_silhouette_score:.3f} \n",
    "   yang menunjukkan kualitas segmentasi yang sangat baik.\n",
    "\n",
    "2. Karyawan telah berhasil disegmentasi menjadi 2 kelompok:\n",
    "   - Risiko Tinggi: {risk_distribution.get('Risiko Tinggi', 0)} karyawan ({risk_percentage.get('Risiko Tinggi', 0):.1f}%)\n",
    "   - Risiko Rendah: {risk_distribution.get('Risiko Rendah', 0)} karyawan ({risk_percentage.get('Risiko Rendah', 0):.1f}%)\n",
    "\n",
    "3. Tingkat attrition di masing-masing segmen:\n",
    "   - Risiko Tinggi: {attrition_by_cluster[high_risk_cluster]:.2f}%\n",
    "   - Risiko Rendah: {attrition_by_cluster[low_risk_cluster]:.2f}%\n",
    "   - Perbedaan: {abs(attrition_by_cluster[high_risk_cluster] - attrition_by_cluster[low_risk_cluster]):.2f}%\n",
    "\n",
    "4. Perbedaan utama karakteristik antara karyawan Risiko Tinggi vs Risiko Rendah:\"\"\")\n",
    "\n",
    "# Print top 5 perbedaan\n",
    "for feature, diff in pct_diff.abs().sort_values(ascending=False).head(5).items():\n",
    "    actual_diff = pct_diff[feature]\n",
    "    direction = \"lebih tinggi\" if actual_diff > 0 else \"lebih rendah\"\n",
    "    print(f\"   - {feature}: {abs(actual_diff):.1f}% {direction} pada karyawan Risiko Tinggi\")\n",
    "\n",
    "# Departemen dan Job Role dengan risiko tertinggi\n",
    "if 'Department' in df_for_model.columns:\n",
    "    high_risk_dept = dept_by_risk.loc['Risiko Tinggi'].idxmax()\n",
    "    high_risk_dept_pct = dept_by_risk.loc['Risiko Tinggi', high_risk_dept]\n",
    "    print(f\"\\n5. Department dengan persentase tertinggi di kelompok Risiko Tinggi:\")\n",
    "    print(f\"   - {high_risk_dept}: {high_risk_dept_pct:.1f}%\")\n",
    "\n",
    "if 'JobRole' in df_for_model.columns:\n",
    "    high_risk_role = role_by_risk.loc['Risiko Tinggi'].idxmax()\n",
    "    high_risk_role_pct = role_by_risk.loc['Risiko Tinggi', high_risk_role]\n",
    "    print(f\"\\n6. Job Role dengan persentase tertinggi di kelompok Risiko Tinggi:\")\n",
    "    print(f\"   - {high_risk_role}: {high_risk_role_pct:.1f}%\")\n",
    "\n",
    "print(\"\"\"\n",
    "FAKTOR KEBERHASILAN SEGMENTASI:\n",
    "\n",
    "1. Feature Engineering Lanjutan:\n",
    "   - Menciptakan fitur gabungan yang lebih representatif\n",
    "   - Menghitung rasio dan indeks yang merangkum beberapa fitur terkait\n",
    "\n",
    "2. Multi-stage Feature Selection:\n",
    "   - Kombinasi Random Forest, Mutual Information, dan ANOVA\n",
    "   - Penggunaan jumlah fitur optimal yang menghasilkan separasi terbaik\n",
    "\n",
    "3. Advanced Transformation:\n",
    "   - Penanganan outlier yang tepat\n",
    "   - Transformasi non-linear untuk normalisasi distribusi\n",
    "\n",
    "4. UMAP dengan Parameter Optimal:\n",
    "   - Pencarian parameter yang menghasilkan separasi cluster terbaik\n",
    "   - Reduksi dimensi yang mempertahankan struktur lokal dan global\n",
    "\n",
    "5. Pemilihan Model Clustering Terbaik:\n",
    "   - Evaluasi dengan berbagai metrics\n",
    "   - Optimalisasi parameter untuk performa maksimal\n",
    "\n",
    "REKOMENDASI STRATEGI RETENSI:\n",
    "\n",
    "1. Untuk Karyawan Risiko Tinggi:\n",
    "   - Implementasikan program retensi segera dan targeted\n",
    "   - Evaluasi dan tingkatkan paket kompensasi dan benefit\n",
    "   - Berikan jalur pengembangan karir yang jelas\n",
    "   - Adakan diskusi one-on-one untuk identifikasi masalah\n",
    "   - Pertimbangkan kebijakan kerja fleksibel, terutama untuk yang tinggal jauh\n",
    "   - Tinjau beban kerja dan keseimbangan kerja-hidup\n",
    "\n",
    "2. Untuk Karyawan Risiko Rendah:\n",
    "   - Pertahankan kebijakan dan program yang sudah berjalan baik\n",
    "   - Manfaatkan karyawan ini sebagai mentor untuk karyawan berisiko tinggi\n",
    "   - Lakukan survei kepuasan secara berkala untuk monitor perubahan\n",
    "   - Berikan tantangan dan proyek baru untuk mempertahankan engagement\n",
    "   - Kembangkan untuk posisi kepemimpinan dan perencanaan suksesi\n",
    "\n",
    "3. Implementasi dan Monitoring:\n",
    "   - Buat dashboard HR untuk memantau distribusi risiko secara real-time\n",
    "   - Evaluasi ulang segmentasi setiap 6 bulan untuk melihat efektivitas program\n",
    "   - Latih manajer untuk mengenali tanda-tanda awal attrition\n",
    "   - Tentukan target pengurangan attrition yang realistis\n",
    "   - Integrasikan model risiko attrition ke dalam proses manajemen talent\n",
    "\"\"\")\n",
    "\n",
    "print(\"\\nSegmentasi risiko attrition dengan silhouette score optimal telah selesai dengan sukses!\")\n",
    "\n",
    "# 22. Bonus: Interactive HTML Dashboard\n",
    "print_header(\"BONUS: INTERACTIVE HTML DASHBOARD\")\n",
    "\n",
    "# Buat versi interaktif dari dashboard untuk dibuka di browser\n",
    "interactive_dashboard = make_subplots(\n",
    "    rows=2, \n",
    "    cols=2,\n",
    "    subplot_titles=(\n",
    "        f'Segmentasi Risiko Attrition (Silhouette: {best_silhouette_score:.3f})',\n",
    "        'Distribusi Karyawan berdasarkan Risiko',\n",
    "        'Top 5 Perbedaan Karakteristik',\n",
    "        'Distribusi Department per Risiko'\n",
    "    ),\n",
    "    specs=[\n",
    "        [{\"type\": \"scatter\"}, {\"type\": \"bar\"}],\n",
    "        [{\"type\": \"bar\"}, {\"type\": \"bar\"}]\n",
    "    ],\n",
    "    vertical_spacing=0.12,\n",
    "    horizontal_spacing=0.08\n",
    ")\n",
    "\n",
    "# Tambahkan elemen visual yang sama dengan dashboard statis\n",
    "# 1. Segmentasi (Tinggi vs Rendah)\n",
    "interactive_dashboard.add_trace(\n",
    "    go.Scatter(\n",
    "        x=umap_cluster_df[umap_cluster_df['Risk Level'] == 'Risiko Tinggi']['UMAP_1'],\n",
    "        y=umap_cluster_df[umap_cluster_df['Risk Level'] == 'Risiko Tinggi']['UMAP_2'],\n",
    "        mode='markers',\n",
    "        marker=dict(color=HIGH_RISK_COLOR, size=8),\n",
    "        name='Risiko Tinggi',\n",
    "        hovertemplate='<b>Risiko Tinggi</b><extra></extra>'\n",
    "    ),\n",
    "    row=1, col=1\n",
    ")\n",
    "\n",
    "interactive_dashboard.add_trace(\n",
    "    go.Scatter(\n",
    "        x=umap_cluster_df[umap_cluster_df['Risk Level'] == 'Risiko Rendah']['UMAP_1'],\n",
    "        y=umap_cluster_df[umap_cluster_df['Risk Level'] == 'Risiko Rendah']['UMAP_2'],\n",
    "        mode='markers',\n",
    "        marker=dict(color=LOW_RISK_COLOR, size=8),\n",
    "        name='Risiko Rendah',\n",
    "        hovertemplate='<b>Risiko Rendah</b><extra></extra>'\n",
    "    ),\n",
    "    row=1, col=1\n",
    ")\n",
    "\n",
    "# 2. Distribusi risiko\n",
    "for i, risk in enumerate(risk_df['Level Risiko']):\n",
    "    color = HIGH_RISK_COLOR if risk == 'Risiko Tinggi' else LOW_RISK_COLOR\n",
    "    interactive_dashboard.add_trace(\n",
    "        go.Bar(\n",
    "            x=[risk],\n",
    "            y=[risk_df['Jumlah Karyawan'].iloc[i]],\n",
    "            text=[f\"{risk_df['Jumlah Karyawan'].iloc[i]} ({risk_df['Persentase'].iloc[i]:.1f}%)\"],\n",
    "            textposition='inside',\n",
    "            name=risk,\n",
    "            marker_color=color,\n",
    "            showlegend=False,\n",
    "            hovertemplate='<b>%{x}</b><br>Jumlah: %{y}<br>Persentase: %{text}<extra></extra>'\n",
    "        ),\n",
    "        row=1, col=2\n",
    "    )\n",
    "\n",
    "# 3. Top 5 perbedaan karakteristik\n",
    "for feature in top_5_diff.index:\n",
    "    color = HIGH_RISK_COLOR if pct_diff[feature] > 0 else LOW_RISK_COLOR\n",
    "    interactive_dashboard.add_trace(\n",
    "        go.Bar(\n",
    "            x=[feature],\n",
    "            y=[pct_diff[feature]],\n",
    "            text=[f\"{pct_diff[feature]:+.1f}%\"],\n",
    "            textposition='outside',\n",
    "            marker_color=color,\n",
    "            showlegend=False,\n",
    "            name=feature,\n",
    "            hovertemplate='<b>%{x}</b><br>Perbedaan: %{text}<extra></extra>'\n",
    "        ),\n",
    "        row=2, col=1\n",
    "    )\n",
    "\n",
    "# 4. Department atau Job Role distribution\n",
    "if 'Department' in df_for_model.columns:\n",
    "    # Ambil 3 department dengan persentase tertinggi di setiap level risiko\n",
    "    for risk_level in dept_by_risk.index:\n",
    "        top_depts = dept_by_risk.loc[risk_level].sort_values(ascending=False).head(3)\n",
    "        for dept, pct in top_depts.items():\n",
    "            color = HIGH_RISK_COLOR if risk_level == 'Risiko Tinggi' else LOW_RISK_COLOR\n",
    "            interactive_dashboard.add_trace(\n",
    "                go.Bar(\n",
    "                    x=[dept],\n",
    "                    y=[pct],\n",
    "                    text=[f\"{pct:.1f}%\"],\n",
    "                    textposition='outside',\n",
    "                    name=f\"{risk_level} - {dept}\",\n",
    "                    marker_color=color,\n",
    "                    opacity=0.7,\n",
    "                    showlegend=False,\n",
    "                    hovertemplate='<b>%{x}</b><br>%{text} dari karyawan %{name}<extra></extra>'\n",
    "                ),\n",
    "                row=2, col=2\n",
    "            )\n",
    "\n",
    "# Update layout\n",
    "interactive_dashboard.update_layout(\n",
    "    title_text=f'DASHBOARD INTERAKTIF SEGMENTASI RISIKO ATTRITION (Silhouette: {best_silhouette_score:.3f})',\n",
    "    height=900,\n",
    "    width=1200,\n",
    "    showlegend=True,\n",
    "    legend=dict(\n",
    "        orientation=\"h\",\n",
    "        yanchor=\"bottom\",\n",
    "        y=1.02,\n",
    "        xanchor=\"right\",\n",
    "        x=1\n",
    "    ),\n",
    "    font=dict(size=12)\n",
    ")\n",
    "\n",
    "# Update axes\n",
    "interactive_dashboard.update_xaxes(title_text='UMAP Dimension 1', row=1, col=1)\n",
    "interactive_dashboard.update_yaxes(title_text='UMAP Dimension 2', row=1, col=1)\n",
    "\n",
    "interactive_dashboard.update_xaxes(title_text='Level Risiko', row=1, col=2)\n",
    "interactive_dashboard.update_yaxes(title_text='Jumlah Karyawan', row=1, col=2)\n",
    "\n",
    "interactive_dashboard.update_xaxes(title_text='Fitur', row=2, col=1)\n",
    "interactive_dashboard.update_yaxes(title_text='Perbedaan (%)', row=2, col=1)\n",
    "\n",
    "interactive_dashboard.update_xaxes(title_text='Department', row=2, col=2)\n",
    "interactive_dashboard.update_yaxes(title_text='Persentase (%)', row=2, col=2)\n",
    "\n",
    "# Add horizontal line at y=0 for differences\n",
    "interactive_dashboard.add_shape(\n",
    "    type=\"line\",\n",
    "    x0=-0.5,\n",
    "    y0=0,\n",
    "    x1=4.5,\n",
    "    y1=0,\n",
    "    line=dict(color=\"black\", width=1, dash=\"dash\"),\n",
    "    row=2, col=1\n",
    ")\n",
    "\n",
    "# Simpan sebagai HTML interaktif\n",
    "interactive_dashboard.write_html(\"optimal_interactive_dashboard.html\")\n",
    "print(\"Dashboard interaktif disimpan sebagai 'optimal_interactive_dashboard.html'\")\n",
    "print(\"Anda dapat membuka file HTML tersebut di browser untuk interaksi lebih lanjut\")"
   ]
  },
  {
   "cell_type": "code",
   "execution_count": 36,
   "id": "ba00cfa4",
   "metadata": {},
   "outputs": [
    {
     "name": "stdout",
     "output_type": "stream",
     "text": [
      "\n",
      "================================================================================\n",
      "MEMBACA DAN MEMPERSIAPKAN DATA\n",
      "================================================================================\n",
      "Ukuran dataset: (1058, 39)\n",
      "\n",
      "Menangani missing value...\n",
      "Tidak ada missing value ditemukan.\n",
      "\n",
      "================================================================================\n",
      "FEATURE ENGINEERING STABIL\n",
      "================================================================================\n",
      "\n",
      "Menggunakan 23 fitur numerik asli\n",
      "\n",
      "Membuat fitur engineering dengan penanganan nilai ekstrem...\n",
      "- Fitur baru: SalaryPerLevel (Gaji per level jabatan)\n",
      "- Fitur baru: SatisfactionIndex (Rata-rata dari 4 fitur kepuasan)\n",
      "- Fitur baru: PromotionRatio (Rasio tahun sejak promosi terhadap masa kerja)\n",
      "- Fitur baru: LogDistance (Transformasi logaritmik jarak)\n",
      "- Fitur baru: WorkLifeBalanceAdjusted (Penyesuaian work-life balance)\n",
      "\n",
      "Membatasi jumlah fitur engineering untuk mengurangi risiko nilai ekstrem\n",
      "\n",
      "Menambahkan 6 fitur hasil feature engineering:\n",
      "['OverTime', 'SalaryPerLevel', 'SatisfactionIndex', 'PromotionRatio', 'LogDistance', 'WorkLifeBalanceAdjusted']\n",
      "\n",
      "Total fitur untuk evaluasi: 29\n",
      "\n",
      "================================================================================\n",
      "PENANGANAN NILAI TAK TERHINGGA\n",
      "================================================================================\n",
      "\n",
      "Statistik data setelah pembersihan:\n",
      "  Jumlah fitur: 29\n",
      "  Min values: 0.0\n",
      "  Max values: 26999.0\n",
      "  Rata-rata seluruh nilai: 857.7901092868161\n",
      "  Median seluruh nilai: 3.0\n",
      "\n",
      "================================================================================\n",
      "STANDARISASI DATA DENGAN CLIPPING\n",
      "================================================================================\n",
      "Melakukan standarisasi data dengan penanganan nilai ekstrem...\n",
      "Standarisasi berhasil. Menerapkan clipping untuk batasi nilai ekstrem ke range [-5, 5]\n",
      "\n",
      "Data setelah standarisasi dan clipping:\n",
      "  Min values: -3.4537418980280115\n",
      "  Max values: 5.0\n",
      "  Mean: -8.449376342258567e-06\n",
      "  Std: 1.0004295341415026\n",
      "\n",
      "================================================================================\n",
      "FEATURE SELECTION SEDERHANA\n",
      "================================================================================\n",
      "Mengidentifikasi fitur terpenting dengan Random Forest...\n",
      "\n",
      "Top 15 fitur terpenting:\n",
      "                    Feature  Importance\n",
      "0                       Age    0.065010\n",
      "9             MonthlyIncome    0.064225\n",
      "16        TotalWorkingYears    0.052469\n",
      "1                 DailyRate    0.051265\n",
      "25        SatisfactionIndex    0.048892\n",
      "10              MonthlyRate    0.047865\n",
      "24           SalaryPerLevel    0.045893\n",
      "23                 OverTime    0.044642\n",
      "5                HourlyRate    0.043540\n",
      "28  WorkLifeBalanceAdjusted    0.041358\n",
      "27              LogDistance    0.037490\n",
      "2          DistanceFromHome    0.036720\n",
      "15         StockOptionLevel    0.033990\n",
      "19           YearsAtCompany    0.032965\n",
      "11       NumCompaniesWorked    0.030371\n",
      "\n",
      "Menggunakan 10 fitur terpenting untuk clustering: ['Age', 'MonthlyIncome', 'TotalWorkingYears', 'DailyRate', 'SatisfactionIndex', 'MonthlyRate', 'SalaryPerLevel', 'OverTime', 'HourlyRate', 'WorkLifeBalanceAdjusted']\n",
      "\n",
      "================================================================================\n",
      "REDUKSI DIMENSI DENGAN UMAP\n",
      "================================================================================\n",
      "Menerapkan UMAP dengan parameter yang stabil...\n",
      "UMAP berhasil diterapkan\n",
      "\n",
      "================================================================================\n",
      "CLUSTERING DENGAN 2 CLUSTER\n",
      "================================================================================\n",
      "Menerapkan KMeans dengan 2 cluster...\n",
      "Silhouette score: 0.701\n",
      "\n",
      "Analisis tingkat attrition per cluster:\n",
      "Cluster 0: 308 karyawan, tingkat attrition 31.82%\n",
      "Cluster 1: 750 karyawan, tingkat attrition 10.80%\n",
      "\n",
      "Cluster dengan risiko tinggi: Cluster 0 (31.82%)\n",
      "Cluster dengan risiko rendah: Cluster 1 (10.80%)\n",
      "\n",
      "Distribusi Karyawan berdasarkan Level Risiko Attrition:\n",
      "Risiko Rendah: 750 karyawan (70.9%)\n",
      "Risiko Tinggi: 308 karyawan (29.1%)\n",
      "\n",
      "================================================================================\n",
      "VISUALISASI SEGMENTASI\n",
      "================================================================================\n",
      "Membuat visualisasi scatter plot...\n"
     ]
    },
    {
     "data": {
      "application/vnd.plotly.v1+json": {
       "config": {
        "plotlyServerURL": "https://plot.ly"
       },
       "data": [
        {
         "hovertemplate": "RiskLevel=Risiko Rendah<br>Dimension 1=%{x}<br>Dimension 2=%{y}<extra></extra>",
         "legendgroup": "Risiko Rendah",
         "marker": {
          "color": "#648FFF",
          "line": {
           "color": "DarkSlateGrey",
           "width": 1
          },
          "opacity": 0.7,
          "size": 8,
          "symbol": "circle"
         },
         "mode": "markers",
         "name": "Risiko Rendah",
         "showlegend": true,
         "type": "scattergl",
         "x": {
          "bdata": "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",
          "dtype": "f4"
         },
         "xaxis": "x",
         "y": {
          "bdata": "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",
          "dtype": "f4"
         },
         "yaxis": "y"
        },
        {
         "hovertemplate": "RiskLevel=Risiko Tinggi<br>Dimension 1=%{x}<br>Dimension 2=%{y}<extra></extra>",
         "legendgroup": "Risiko Tinggi",
         "marker": {
          "color": "#FE6100",
          "line": {
           "color": "DarkSlateGrey",
           "width": 1
          },
          "opacity": 0.7,
          "size": 8,
          "symbol": "circle"
         },
         "mode": "markers",
         "name": "Risiko Tinggi",
         "showlegend": true,
         "type": "scattergl",
         "x": {
          "bdata": "PgfVQI1g20Cs3W1Akez0QGlfxUCnouxApEfaQBpC7UAv2JBANevGQETX30DSptNAYEfaQCXy4UBz/8ZAMOeQQE4U0EAie5lA7Hn1QGj+vUBCRMxAfhbuQOtQ20Da75pAolTbQOO4qEDuzeBA7pvLQP/WtECpUa1A61mOQJeSAUFtTsZAI4zFQOuOY0DEmd5ADozxQLKi+EC+i/lATML+QOBGm0BcA45AfEbBQKEC60CQaP5APmflQINh+0AQDnpAcSLSQDDeykATJwJBcGjrQKzEyUD+o8pAzD/gQHPO3EDft6xA45byQBSobECOSeBA3VraQF+HtEDVVeRAsEYCQRUFwEB7dYRAWsrYQC5Cv0BX+QBBBsTSQL/svUBpJs1ACP36QGFrk0BW7dxABL3MQCbs50DV4uJA2SByQCJ3oEBwRW5ATWPrQEHiy0BzCZZA9t+/QAe2q0CmloRAa6bTQJClxkCi+wZBuJnbQHLh0EB5ua5AENr3QOsg5EBdzqZAFfDbQGgKA0Fa4bhAhpMBQVJnAUFqZYdAbYvEQC5E3UADFmpAnp/wQFmiykB1DuFAPoxOQCXAl0AL0u1ApdKIQAiD5kDq6qtA6GeVQBf6jUCb0rhArc/1QKyl80DJ7NdAck/jQO/N20A9ztZAQxLBQKp49UDB5f9AkvLgQO57skAlWudAdU/dP5D03EDsV/ZAmKkBQWEbzUB5MelAjNfjQHHn6kB+IdNAtprPQAc0yUDv9/JAF6W0QH851kBzBPJAzYztQKy6y0D0OfNA0fquQLtVakBV6fZAO1W4QJg/dkB/behA1J3hQGWABEGUdfhAHxzWQLWp30Brb9pAM0voQPXY50ANFJNA307uQDlE7UCVgvJAwRjNQOflsUDmKLFAOA3UQKa0vEDBi9VActm8QDrmv0CzQdZAkAfjQAguuUBcc7xA9ZH+QOlOcEAMwnNAMOfKQNBE5kBf7N9ApSHeQOOB8ECBFHRAOdPiQCFF2kBFeQNBMqOgQCfj0UD4lORA/KS+QJIPlkAnQNRAYa/jQBor3UDQSapAqLHyQP9hu0CvwOhA9HX1QLt87UCmzd1A+3f/QAUhsECuB6RASePYQN64fEC1leNADaCxQPJ76kBjY+NADDT0QOrsu0Ca7uBAt0XXQNLA+kDs4qRAxK3aQDdG9UBtwqVA7/3VQCfu9UC/ZHFA+dm9QDF0skAaQ/dANE9wQMPg1kDiG7tAjut4QEUX8UDh7s1AwU7oQCUv+0CmScpAmBbNQBh3e0DNO9dAJf3gQK8X80DKvvdAaVLOQMW3hUBdgJ9AM3gBQcly/kDMG6JArMfSQAaki0B5UJFAdjvHQO4H/EAx3YVANaPwQBwGrUBSDN1AFDPDQO4pqkCqe/pAwPp9QM222EDdSMRAIpHSQIgmc0DI8c5AJofOQIOa5kACsuJA+HG6QIVogECoasRAgJnFQEJmj0BtbepANoDJQFEX90BEBORAtHwBQSdBxkB0oMNAsS/dQKHarkC/qwBBcLSDQP/M60BFGZVAWpzxQFCt30DNEqFALZfuQPid90DCs55A6faxQLNCA0Gu7fJAFIvoQB8H8kAKKcRAsOIUQOg3zkAwwtxAmRjKQI/5wEBgOvZACmrQQCsoAEE=",
          "dtype": "f4"
         },
         "xaxis": "x",
         "y": {
          "bdata": "eSOOQEA5FUARiz1AphD/P8NbGEB5Lw5AKi8MQFvxTUBL/C1AOp9CQDxQP0A57ldAMsewP401rD9TFRxADcBbQL1zQEBaOB5AQXXMPx6BTEDVkvc/9awqQMlJS0CRSTNAVxwDQI0abEBOuCVAXHpOQK7Hc0AN5htAWYZXQAPrVkCixQJAaNFAQAVxPUBlZaQ/+7MwQDK/A0AlTvY/+wNGQO8BcUDvYUlA0VxpQJ19IkDuYOY/Vd0JQHedBkBK0WBA3WL3P26T2z/ZNUtAsLgQQIlDVUBBH0BAXyPIP1Y5YkAxujdAdvpaQHCYR0Cp0mtA1/WHQDBIVkDAnw9A9jQmQI0z/T8pVGlAhbt/QLQrgUBPhj1Aq998QEkWWEC1K4JAM3dsQKRzQUBBRcg/9PVbQJR4LUC36mFAzDpBQFpAa0BLGVpAVHtLQNeG9D+bJD9AaJJzQOsgZEA1MWtA7EEAQPMcQEB8vEtAszyqP8Gwh0Aep1lADxkWQIrQTkAzAhJAY08rQGUROUDdTPA/pTUuQJAHNUA9vmNAoDgMQPpcW0COLWRAMbRRQLH/H0D9O2hAETVMQNEoLUD4q3NAfbhcQMpugUBziDJAZFpVQG7YbUDyEgFAO6t5QPUQRUCOLlhAb/ewPyz3VUAI0DJA8NFdQKoYSUCdbDBAuZa3P8bWdkCiYQdAZG+EQD6SjkAkpihAX78PQMBn5T+voIlAlOzuP5P5cUAURl1A/XX9PzAVQECMdyJAOyBEQDEFiUBs9HVAh2/xP4IVyT89GOw/ATEHQIAGOUCz0zlA9GBdQOW1O0A4I1ZATvd5QFmgPED9c+4/eBzzPx96/j/UwmVARCRcQFRURkBYAWFAmmi7Pwv2ikDAIGxAVZVVQMrtNEC6HnRASf5EQA7taUAqfKU/fIk9QLUfZEB1odY/nx2BQFqgUEAQVyBALAdXQGpJd0Az+lhAghpiQG5CGEBvwKY/USoxQBDF4j9EJURAc2Q/QEIvdUBTcTtAN6ciQEBPjEDeAdI/w+0+QDLCa0ApbF1AlT0xQPXEPEAr4TFAUR30P/HM+z9It9o/NQkYQPDE8D/DlXJANSlGQJ5jW0C7ZzFALBYXQLujckCAiqI/yopZQM4tIkABeZFAMu9pQE2C9D+pj1dAhHJFQMBMYkBv0VBABXyNQD08OkCDgRJAXLBuQOk5bUCyqzNAwIECQF0dcEB1eXVAO3FBQPU4NkD9rQVAr29gQHJmCUB6qz1ANjdlQFGJUUAPKSFADVAKQHJpWEAZ9wJAenRmQHii2z/WVSdA2LJuQJiSM0BrlS1A2idlQFTpM0DRLRlAyGM1QOKTLUDc30hAkOndP1i1MUDbLXJAy7h7QHL7HkD19P4/TediQB7nFUDjRf4/ito/QNg+/D8RnG5AKCUPQP4/YkDlzi5AZIaCQG8WH0BJVI1AP75lQBIFYUAcdCtASvx/QBMTbECt8GRA/vMkQH/5BUCxEShA0QwkQB/0KECPJjdA0QTDP23iY0BrMhBAMfdGQN0IjEARETJATHRMQFQ4kUD47x1AHvBEQEZlc0CZ409AmqFzQB0VWUD+j35AgPAfQF5dAUDzgS1AIvNQQKYgtz+KeDZA55ZgQIfRGkAsaQdAvrkLQIzCEkA=",
          "dtype": "f4"
         },
         "yaxis": "y"
        }
       ],
       "layout": {
        "font": {
         "size": 12
        },
        "height": 700,
        "legend": {
         "title": {
          "text": "Level Risiko"
         },
         "tracegroupgap": 0
        },
        "template": {
         "data": {
          "bar": [
           {
            "error_x": {
             "color": "#2a3f5f"
            },
            "error_y": {
             "color": "#2a3f5f"
            },
            "marker": {
             "line": {
              "color": "#E5ECF6",
              "width": 0.5
             },
             "pattern": {
              "fillmode": "overlay",
              "size": 10,
              "solidity": 0.2
             }
            },
            "type": "bar"
           }
          ],
          "barpolar": [
           {
            "marker": {
             "line": {
              "color": "#E5ECF6",
              "width": 0.5
             },
             "pattern": {
              "fillmode": "overlay",
              "size": 10,
              "solidity": 0.2
             }
            },
            "type": "barpolar"
           }
          ],
          "carpet": [
           {
            "aaxis": {
             "endlinecolor": "#2a3f5f",
             "gridcolor": "white",
             "linecolor": "white",
             "minorgridcolor": "white",
             "startlinecolor": "#2a3f5f"
            },
            "baxis": {
             "endlinecolor": "#2a3f5f",
             "gridcolor": "white",
             "linecolor": "white",
             "minorgridcolor": "white",
             "startlinecolor": "#2a3f5f"
            },
            "type": "carpet"
           }
          ],
          "choropleth": [
           {
            "colorbar": {
             "outlinewidth": 0,
             "ticks": ""
            },
            "type": "choropleth"
           }
          ],
          "contour": [
           {
            "colorbar": {
             "outlinewidth": 0,
             "ticks": ""
            },
            "colorscale": [
             [
              0,
              "#0d0887"
             ],
             [
              0.1111111111111111,
              "#46039f"
             ],
             [
              0.2222222222222222,
              "#7201a8"
             ],
             [
              0.3333333333333333,
              "#9c179e"
             ],
             [
              0.4444444444444444,
              "#bd3786"
             ],
             [
              0.5555555555555556,
              "#d8576b"
             ],
             [
              0.6666666666666666,
              "#ed7953"
             ],
             [
              0.7777777777777778,
              "#fb9f3a"
             ],
             [
              0.8888888888888888,
              "#fdca26"
             ],
             [
              1,
              "#f0f921"
             ]
            ],
            "type": "contour"
           }
          ],
          "contourcarpet": [
           {
            "colorbar": {
             "outlinewidth": 0,
             "ticks": ""
            },
            "type": "contourcarpet"
           }
          ],
          "heatmap": [
           {
            "colorbar": {
             "outlinewidth": 0,
             "ticks": ""
            },
            "colorscale": [
             [
              0,
              "#0d0887"
             ],
             [
              0.1111111111111111,
              "#46039f"
             ],
             [
              0.2222222222222222,
              "#7201a8"
             ],
             [
              0.3333333333333333,
              "#9c179e"
             ],
             [
              0.4444444444444444,
              "#bd3786"
             ],
             [
              0.5555555555555556,
              "#d8576b"
             ],
             [
              0.6666666666666666,
              "#ed7953"
             ],
             [
              0.7777777777777778,
              "#fb9f3a"
             ],
             [
              0.8888888888888888,
              "#fdca26"
             ],
             [
              1,
              "#f0f921"
             ]
            ],
            "type": "heatmap"
           }
          ],
          "histogram": [
           {
            "marker": {
             "pattern": {
              "fillmode": "overlay",
              "size": 10,
              "solidity": 0.2
             }
            },
            "type": "histogram"
           }
          ],
          "histogram2d": [
           {
            "colorbar": {
             "outlinewidth": 0,
             "ticks": ""
            },
            "colorscale": [
             [
              0,
              "#0d0887"
             ],
             [
              0.1111111111111111,
              "#46039f"
             ],
             [
              0.2222222222222222,
              "#7201a8"
             ],
             [
              0.3333333333333333,
              "#9c179e"
             ],
             [
              0.4444444444444444,
              "#bd3786"
             ],
             [
              0.5555555555555556,
              "#d8576b"
             ],
             [
              0.6666666666666666,
              "#ed7953"
             ],
             [
              0.7777777777777778,
              "#fb9f3a"
             ],
             [
              0.8888888888888888,
              "#fdca26"
             ],
             [
              1,
              "#f0f921"
             ]
            ],
            "type": "histogram2d"
           }
          ],
          "histogram2dcontour": [
           {
            "colorbar": {
             "outlinewidth": 0,
             "ticks": ""
            },
            "colorscale": [
             [
              0,
              "#0d0887"
             ],
             [
              0.1111111111111111,
              "#46039f"
             ],
             [
              0.2222222222222222,
              "#7201a8"
             ],
             [
              0.3333333333333333,
              "#9c179e"
             ],
             [
              0.4444444444444444,
              "#bd3786"
             ],
             [
              0.5555555555555556,
              "#d8576b"
             ],
             [
              0.6666666666666666,
              "#ed7953"
             ],
             [
              0.7777777777777778,
              "#fb9f3a"
             ],
             [
              0.8888888888888888,
              "#fdca26"
             ],
             [
              1,
              "#f0f921"
             ]
            ],
            "type": "histogram2dcontour"
           }
          ],
          "mesh3d": [
           {
            "colorbar": {
             "outlinewidth": 0,
             "ticks": ""
            },
            "type": "mesh3d"
           }
          ],
          "parcoords": [
           {
            "line": {
             "colorbar": {
              "outlinewidth": 0,
              "ticks": ""
             }
            },
            "type": "parcoords"
           }
          ],
          "pie": [
           {
            "automargin": true,
            "type": "pie"
           }
          ],
          "scatter": [
           {
            "fillpattern": {
             "fillmode": "overlay",
             "size": 10,
             "solidity": 0.2
            },
            "type": "scatter"
           }
          ],
          "scatter3d": [
           {
            "line": {
             "colorbar": {
              "outlinewidth": 0,
              "ticks": ""
             }
            },
            "marker": {
             "colorbar": {
              "outlinewidth": 0,
              "ticks": ""
             }
            },
            "type": "scatter3d"
           }
          ],
          "scattercarpet": [
           {
            "marker": {
             "colorbar": {
              "outlinewidth": 0,
              "ticks": ""
             }
            },
            "type": "scattercarpet"
           }
          ],
          "scattergeo": [
           {
            "marker": {
             "colorbar": {
              "outlinewidth": 0,
              "ticks": ""
             }
            },
            "type": "scattergeo"
           }
          ],
          "scattergl": [
           {
            "marker": {
             "colorbar": {
              "outlinewidth": 0,
              "ticks": ""
             }
            },
            "type": "scattergl"
           }
          ],
          "scattermap": [
           {
            "marker": {
             "colorbar": {
              "outlinewidth": 0,
              "ticks": ""
             }
            },
            "type": "scattermap"
           }
          ],
          "scattermapbox": [
           {
            "marker": {
             "colorbar": {
              "outlinewidth": 0,
              "ticks": ""
             }
            },
            "type": "scattermapbox"
           }
          ],
          "scatterpolar": [
           {
            "marker": {
             "colorbar": {
              "outlinewidth": 0,
              "ticks": ""
             }
            },
            "type": "scatterpolar"
           }
          ],
          "scatterpolargl": [
           {
            "marker": {
             "colorbar": {
              "outlinewidth": 0,
              "ticks": ""
             }
            },
            "type": "scatterpolargl"
           }
          ],
          "scatterternary": [
           {
            "marker": {
             "colorbar": {
              "outlinewidth": 0,
              "ticks": ""
             }
            },
            "type": "scatterternary"
           }
          ],
          "surface": [
           {
            "colorbar": {
             "outlinewidth": 0,
             "ticks": ""
            },
            "colorscale": [
             [
              0,
              "#0d0887"
             ],
             [
              0.1111111111111111,
              "#46039f"
             ],
             [
              0.2222222222222222,
              "#7201a8"
             ],
             [
              0.3333333333333333,
              "#9c179e"
             ],
             [
              0.4444444444444444,
              "#bd3786"
             ],
             [
              0.5555555555555556,
              "#d8576b"
             ],
             [
              0.6666666666666666,
              "#ed7953"
             ],
             [
              0.7777777777777778,
              "#fb9f3a"
             ],
             [
              0.8888888888888888,
              "#fdca26"
             ],
             [
              1,
              "#f0f921"
             ]
            ],
            "type": "surface"
           }
          ],
          "table": [
           {
            "cells": {
             "fill": {
              "color": "#EBF0F8"
             },
             "line": {
              "color": "white"
             }
            },
            "header": {
             "fill": {
              "color": "#C8D4E3"
             },
             "line": {
              "color": "white"
             }
            },
            "type": "table"
           }
          ]
         },
         "layout": {
          "annotationdefaults": {
           "arrowcolor": "#2a3f5f",
           "arrowhead": 0,
           "arrowwidth": 1
          },
          "autotypenumbers": "strict",
          "coloraxis": {
           "colorbar": {
            "outlinewidth": 0,
            "ticks": ""
           }
          },
          "colorscale": {
           "diverging": [
            [
             0,
             "#8e0152"
            ],
            [
             0.1,
             "#c51b7d"
            ],
            [
             0.2,
             "#de77ae"
            ],
            [
             0.3,
             "#f1b6da"
            ],
            [
             0.4,
             "#fde0ef"
            ],
            [
             0.5,
             "#f7f7f7"
            ],
            [
             0.6,
             "#e6f5d0"
            ],
            [
             0.7,
             "#b8e186"
            ],
            [
             0.8,
             "#7fbc41"
            ],
            [
             0.9,
             "#4d9221"
            ],
            [
             1,
             "#276419"
            ]
           ],
           "sequential": [
            [
             0,
             "#0d0887"
            ],
            [
             0.1111111111111111,
             "#46039f"
            ],
            [
             0.2222222222222222,
             "#7201a8"
            ],
            [
             0.3333333333333333,
             "#9c179e"
            ],
            [
             0.4444444444444444,
             "#bd3786"
            ],
            [
             0.5555555555555556,
             "#d8576b"
            ],
            [
             0.6666666666666666,
             "#ed7953"
            ],
            [
             0.7777777777777778,
             "#fb9f3a"
            ],
            [
             0.8888888888888888,
             "#fdca26"
            ],
            [
             1,
             "#f0f921"
            ]
           ],
           "sequentialminus": [
            [
             0,
             "#0d0887"
            ],
            [
             0.1111111111111111,
             "#46039f"
            ],
            [
             0.2222222222222222,
             "#7201a8"
            ],
            [
             0.3333333333333333,
             "#9c179e"
            ],
            [
             0.4444444444444444,
             "#bd3786"
            ],
            [
             0.5555555555555556,
             "#d8576b"
            ],
            [
             0.6666666666666666,
             "#ed7953"
            ],
            [
             0.7777777777777778,
             "#fb9f3a"
            ],
            [
             0.8888888888888888,
             "#fdca26"
            ],
            [
             1,
             "#f0f921"
            ]
           ]
          },
          "colorway": [
           "#636efa",
           "#EF553B",
           "#00cc96",
           "#ab63fa",
           "#FFA15A",
           "#19d3f3",
           "#FF6692",
           "#B6E880",
           "#FF97FF",
           "#FECB52"
          ],
          "font": {
           "color": "#2a3f5f"
          },
          "geo": {
           "bgcolor": "white",
           "lakecolor": "white",
           "landcolor": "#E5ECF6",
           "showlakes": true,
           "showland": true,
           "subunitcolor": "white"
          },
          "hoverlabel": {
           "align": "left"
          },
          "hovermode": "closest",
          "mapbox": {
           "style": "light"
          },
          "paper_bgcolor": "white",
          "plot_bgcolor": "#E5ECF6",
          "polar": {
           "angularaxis": {
            "gridcolor": "white",
            "linecolor": "white",
            "ticks": ""
           },
           "bgcolor": "#E5ECF6",
           "radialaxis": {
            "gridcolor": "white",
            "linecolor": "white",
            "ticks": ""
           }
          },
          "scene": {
           "xaxis": {
            "backgroundcolor": "#E5ECF6",
            "gridcolor": "white",
            "gridwidth": 2,
            "linecolor": "white",
            "showbackground": true,
            "ticks": "",
            "zerolinecolor": "white"
           },
           "yaxis": {
            "backgroundcolor": "#E5ECF6",
            "gridcolor": "white",
            "gridwidth": 2,
            "linecolor": "white",
            "showbackground": true,
            "ticks": "",
            "zerolinecolor": "white"
           },
           "zaxis": {
            "backgroundcolor": "#E5ECF6",
            "gridcolor": "white",
            "gridwidth": 2,
            "linecolor": "white",
            "showbackground": true,
            "ticks": "",
            "zerolinecolor": "white"
           }
          },
          "shapedefaults": {
           "line": {
            "color": "#2a3f5f"
           }
          },
          "ternary": {
           "aaxis": {
            "gridcolor": "white",
            "linecolor": "white",
            "ticks": ""
           },
           "baxis": {
            "gridcolor": "white",
            "linecolor": "white",
            "ticks": ""
           },
           "bgcolor": "#E5ECF6",
           "caxis": {
            "gridcolor": "white",
            "linecolor": "white",
            "ticks": ""
           }
          },
          "title": {
           "x": 0.05
          },
          "xaxis": {
           "automargin": true,
           "gridcolor": "white",
           "linecolor": "white",
           "ticks": "",
           "title": {
            "standoff": 15
           },
           "zerolinecolor": "white",
           "zerolinewidth": 2
          },
          "yaxis": {
           "automargin": true,
           "gridcolor": "white",
           "linecolor": "white",
           "ticks": "",
           "title": {
            "standoff": 15
           },
           "zerolinecolor": "white",
           "zerolinewidth": 2
          }
         }
        },
        "title": {
         "text": "Segmentasi Risiko Attrition (Silhouette: 0.701)"
        },
        "width": 900,
        "xaxis": {
         "anchor": "y",
         "domain": [
          0,
          1
         ],
         "title": {
          "text": "Dimension 1"
         }
        },
        "yaxis": {
         "anchor": "x",
         "domain": [
          0,
          1
         ],
         "title": {
          "text": "Dimension 2"
         }
        }
       }
      }
     },
     "metadata": {},
     "output_type": "display_data"
    },
    {
     "name": "stdout",
     "output_type": "stream",
     "text": [
      "Visualisasi disimpan sebagai 'clustering_result_safe.png'\n",
      "\n",
      "================================================================================\n",
      "ANALISIS PROFIL RISIKO\n",
      "================================================================================\n",
      "\n",
      "Profil rata-rata berdasarkan level risiko:\n",
      "                     Age  MonthlyIncome  TotalWorkingYears   DailyRate  \\\n",
      "RiskLevel                                                                \n",
      "Risiko Rendah  36.838667    6616.517333          11.426667  807.545333   \n",
      "Risiko Tinggi  37.584416    6648.902597          11.457792  814.405844   \n",
      "\n",
      "               SatisfactionIndex   MonthlyRate  SalaryPerLevel  OverTime  \\\n",
      "RiskLevel                                                                  \n",
      "Risiko Rendah           2.722667  14306.189333     2965.003956  0.000000   \n",
      "Risiko Tinggi           2.775974  14172.538961     3020.849134  0.996753   \n",
      "\n",
      "               HourlyRate  WorkLifeBalanceAdjusted  \n",
      "RiskLevel                                           \n",
      "Risiko Rendah   65.848000                 2.793333  \n",
      "Risiko Tinggi   65.146104                 2.193182  \n",
      "\n",
      "Perbedaan persentase (Risiko Tinggi vs Risiko Rendah):\n",
      "Age: +2.0%\n",
      "MonthlyIncome: +0.5%\n",
      "TotalWorkingYears: +0.3%\n",
      "DailyRate: +0.8%\n",
      "SatisfactionIndex: +2.0%\n",
      "MonthlyRate: -0.9%\n",
      "SalaryPerLevel: +1.9%\n",
      "OverTime: +99.7%\n",
      "HourlyRate: -1.1%\n",
      "WorkLifeBalanceAdjusted: -21.5%\n",
      "\n",
      "Membuat visualisasi perbedaan karakteristik...\n"
     ]
    },
    {
     "data": {
      "application/vnd.plotly.v1+json": {
       "config": {
        "plotlyServerURL": "https://plot.ly"
       },
       "data": [
        {
         "hovertemplate": "Fitur=%{x}<br>Perbedaan (%)=%{marker.color}<br>text=%{text}<extra></extra>",
         "legendgroup": "",
         "marker": {
          "color": {
           "bdata": "4qz8hDjrWEANCzn9MXw1wHIj2A3mMQBAkk7oS5lT/z9EIscruSL+Pw==",
           "dtype": "f8"
          },
          "coloraxis": "coloraxis",
          "pattern": {
           "shape": ""
          }
         },
         "name": "",
         "orientation": "v",
         "showlegend": false,
         "text": [
          "+99.7%",
          "-21.5%",
          "+2.0%",
          "+2.0%",
          "+1.9%"
         ],
         "textposition": "outside",
         "type": "bar",
         "x": [
          "OverTime",
          "WorkLifeBalanceAdjusted",
          "Age",
          "SatisfactionIndex",
          "SalaryPerLevel"
         ],
         "xaxis": "x",
         "y": {
          "bdata": "4qz8hDjrWEANCzn9MXw1wHIj2A3mMQBAkk7oS5lT/z9EIscruSL+Pw==",
          "dtype": "f8"
         },
         "yaxis": "y"
        }
       ],
       "layout": {
        "barmode": "relative",
        "coloraxis": {
         "colorbar": {
          "title": {
           "text": "Perbedaan (%)"
          }
         },
         "colorscale": [
          [
           0,
           "#648FFF"
          ],
          [
           0.5,
           "#FFFFFF"
          ],
          [
           1,
           "#FE6100"
          ]
         ]
        },
        "font": {
         "size": 12
        },
        "height": 600,
        "legend": {
         "tracegroupgap": 0
        },
        "shapes": [
         {
          "line": {
           "color": "black",
           "dash": "dash",
           "width": 1
          },
          "type": "line",
          "x0": -0.5,
          "x1": 4.5,
          "y0": 0,
          "y1": 0
         }
        ],
        "template": {
         "data": {
          "bar": [
           {
            "error_x": {
             "color": "#2a3f5f"
            },
            "error_y": {
             "color": "#2a3f5f"
            },
            "marker": {
             "line": {
              "color": "#E5ECF6",
              "width": 0.5
             },
             "pattern": {
              "fillmode": "overlay",
              "size": 10,
              "solidity": 0.2
             }
            },
            "type": "bar"
           }
          ],
          "barpolar": [
           {
            "marker": {
             "line": {
              "color": "#E5ECF6",
              "width": 0.5
             },
             "pattern": {
              "fillmode": "overlay",
              "size": 10,
              "solidity": 0.2
             }
            },
            "type": "barpolar"
           }
          ],
          "carpet": [
           {
            "aaxis": {
             "endlinecolor": "#2a3f5f",
             "gridcolor": "white",
             "linecolor": "white",
             "minorgridcolor": "white",
             "startlinecolor": "#2a3f5f"
            },
            "baxis": {
             "endlinecolor": "#2a3f5f",
             "gridcolor": "white",
             "linecolor": "white",
             "minorgridcolor": "white",
             "startlinecolor": "#2a3f5f"
            },
            "type": "carpet"
           }
          ],
          "choropleth": [
           {
            "colorbar": {
             "outlinewidth": 0,
             "ticks": ""
            },
            "type": "choropleth"
           }
          ],
          "contour": [
           {
            "colorbar": {
             "outlinewidth": 0,
             "ticks": ""
            },
            "colorscale": [
             [
              0,
              "#0d0887"
             ],
             [
              0.1111111111111111,
              "#46039f"
             ],
             [
              0.2222222222222222,
              "#7201a8"
             ],
             [
              0.3333333333333333,
              "#9c179e"
             ],
             [
              0.4444444444444444,
              "#bd3786"
             ],
             [
              0.5555555555555556,
              "#d8576b"
             ],
             [
              0.6666666666666666,
              "#ed7953"
             ],
             [
              0.7777777777777778,
              "#fb9f3a"
             ],
             [
              0.8888888888888888,
              "#fdca26"
             ],
             [
              1,
              "#f0f921"
             ]
            ],
            "type": "contour"
           }
          ],
          "contourcarpet": [
           {
            "colorbar": {
             "outlinewidth": 0,
             "ticks": ""
            },
            "type": "contourcarpet"
           }
          ],
          "heatmap": [
           {
            "colorbar": {
             "outlinewidth": 0,
             "ticks": ""
            },
            "colorscale": [
             [
              0,
              "#0d0887"
             ],
             [
              0.1111111111111111,
              "#46039f"
             ],
             [
              0.2222222222222222,
              "#7201a8"
             ],
             [
              0.3333333333333333,
              "#9c179e"
             ],
             [
              0.4444444444444444,
              "#bd3786"
             ],
             [
              0.5555555555555556,
              "#d8576b"
             ],
             [
              0.6666666666666666,
              "#ed7953"
             ],
             [
              0.7777777777777778,
              "#fb9f3a"
             ],
             [
              0.8888888888888888,
              "#fdca26"
             ],
             [
              1,
              "#f0f921"
             ]
            ],
            "type": "heatmap"
           }
          ],
          "histogram": [
           {
            "marker": {
             "pattern": {
              "fillmode": "overlay",
              "size": 10,
              "solidity": 0.2
             }
            },
            "type": "histogram"
           }
          ],
          "histogram2d": [
           {
            "colorbar": {
             "outlinewidth": 0,
             "ticks": ""
            },
            "colorscale": [
             [
              0,
              "#0d0887"
             ],
             [
              0.1111111111111111,
              "#46039f"
             ],
             [
              0.2222222222222222,
              "#7201a8"
             ],
             [
              0.3333333333333333,
              "#9c179e"
             ],
             [
              0.4444444444444444,
              "#bd3786"
             ],
             [
              0.5555555555555556,
              "#d8576b"
             ],
             [
              0.6666666666666666,
              "#ed7953"
             ],
             [
              0.7777777777777778,
              "#fb9f3a"
             ],
             [
              0.8888888888888888,
              "#fdca26"
             ],
             [
              1,
              "#f0f921"
             ]
            ],
            "type": "histogram2d"
           }
          ],
          "histogram2dcontour": [
           {
            "colorbar": {
             "outlinewidth": 0,
             "ticks": ""
            },
            "colorscale": [
             [
              0,
              "#0d0887"
             ],
             [
              0.1111111111111111,
              "#46039f"
             ],
             [
              0.2222222222222222,
              "#7201a8"
             ],
             [
              0.3333333333333333,
              "#9c179e"
             ],
             [
              0.4444444444444444,
              "#bd3786"
             ],
             [
              0.5555555555555556,
              "#d8576b"
             ],
             [
              0.6666666666666666,
              "#ed7953"
             ],
             [
              0.7777777777777778,
              "#fb9f3a"
             ],
             [
              0.8888888888888888,
              "#fdca26"
             ],
             [
              1,
              "#f0f921"
             ]
            ],
            "type": "histogram2dcontour"
           }
          ],
          "mesh3d": [
           {
            "colorbar": {
             "outlinewidth": 0,
             "ticks": ""
            },
            "type": "mesh3d"
           }
          ],
          "parcoords": [
           {
            "line": {
             "colorbar": {
              "outlinewidth": 0,
              "ticks": ""
             }
            },
            "type": "parcoords"
           }
          ],
          "pie": [
           {
            "automargin": true,
            "type": "pie"
           }
          ],
          "scatter": [
           {
            "fillpattern": {
             "fillmode": "overlay",
             "size": 10,
             "solidity": 0.2
            },
            "type": "scatter"
           }
          ],
          "scatter3d": [
           {
            "line": {
             "colorbar": {
              "outlinewidth": 0,
              "ticks": ""
             }
            },
            "marker": {
             "colorbar": {
              "outlinewidth": 0,
              "ticks": ""
             }
            },
            "type": "scatter3d"
           }
          ],
          "scattercarpet": [
           {
            "marker": {
             "colorbar": {
              "outlinewidth": 0,
              "ticks": ""
             }
            },
            "type": "scattercarpet"
           }
          ],
          "scattergeo": [
           {
            "marker": {
             "colorbar": {
              "outlinewidth": 0,
              "ticks": ""
             }
            },
            "type": "scattergeo"
           }
          ],
          "scattergl": [
           {
            "marker": {
             "colorbar": {
              "outlinewidth": 0,
              "ticks": ""
             }
            },
            "type": "scattergl"
           }
          ],
          "scattermap": [
           {
            "marker": {
             "colorbar": {
              "outlinewidth": 0,
              "ticks": ""
             }
            },
            "type": "scattermap"
           }
          ],
          "scattermapbox": [
           {
            "marker": {
             "colorbar": {
              "outlinewidth": 0,
              "ticks": ""
             }
            },
            "type": "scattermapbox"
           }
          ],
          "scatterpolar": [
           {
            "marker": {
             "colorbar": {
              "outlinewidth": 0,
              "ticks": ""
             }
            },
            "type": "scatterpolar"
           }
          ],
          "scatterpolargl": [
           {
            "marker": {
             "colorbar": {
              "outlinewidth": 0,
              "ticks": ""
             }
            },
            "type": "scatterpolargl"
           }
          ],
          "scatterternary": [
           {
            "marker": {
             "colorbar": {
              "outlinewidth": 0,
              "ticks": ""
             }
            },
            "type": "scatterternary"
           }
          ],
          "surface": [
           {
            "colorbar": {
             "outlinewidth": 0,
             "ticks": ""
            },
            "colorscale": [
             [
              0,
              "#0d0887"
             ],
             [
              0.1111111111111111,
              "#46039f"
             ],
             [
              0.2222222222222222,
              "#7201a8"
             ],
             [
              0.3333333333333333,
              "#9c179e"
             ],
             [
              0.4444444444444444,
              "#bd3786"
             ],
             [
              0.5555555555555556,
              "#d8576b"
             ],
             [
              0.6666666666666666,
              "#ed7953"
             ],
             [
              0.7777777777777778,
              "#fb9f3a"
             ],
             [
              0.8888888888888888,
              "#fdca26"
             ],
             [
              1,
              "#f0f921"
             ]
            ],
            "type": "surface"
           }
          ],
          "table": [
           {
            "cells": {
             "fill": {
              "color": "#EBF0F8"
             },
             "line": {
              "color": "white"
             }
            },
            "header": {
             "fill": {
              "color": "#C8D4E3"
             },
             "line": {
              "color": "white"
             }
            },
            "type": "table"
           }
          ]
         },
         "layout": {
          "annotationdefaults": {
           "arrowcolor": "#2a3f5f",
           "arrowhead": 0,
           "arrowwidth": 1
          },
          "autotypenumbers": "strict",
          "coloraxis": {
           "colorbar": {
            "outlinewidth": 0,
            "ticks": ""
           }
          },
          "colorscale": {
           "diverging": [
            [
             0,
             "#8e0152"
            ],
            [
             0.1,
             "#c51b7d"
            ],
            [
             0.2,
             "#de77ae"
            ],
            [
             0.3,
             "#f1b6da"
            ],
            [
             0.4,
             "#fde0ef"
            ],
            [
             0.5,
             "#f7f7f7"
            ],
            [
             0.6,
             "#e6f5d0"
            ],
            [
             0.7,
             "#b8e186"
            ],
            [
             0.8,
             "#7fbc41"
            ],
            [
             0.9,
             "#4d9221"
            ],
            [
             1,
             "#276419"
            ]
           ],
           "sequential": [
            [
             0,
             "#0d0887"
            ],
            [
             0.1111111111111111,
             "#46039f"
            ],
            [
             0.2222222222222222,
             "#7201a8"
            ],
            [
             0.3333333333333333,
             "#9c179e"
            ],
            [
             0.4444444444444444,
             "#bd3786"
            ],
            [
             0.5555555555555556,
             "#d8576b"
            ],
            [
             0.6666666666666666,
             "#ed7953"
            ],
            [
             0.7777777777777778,
             "#fb9f3a"
            ],
            [
             0.8888888888888888,
             "#fdca26"
            ],
            [
             1,
             "#f0f921"
            ]
           ],
           "sequentialminus": [
            [
             0,
             "#0d0887"
            ],
            [
             0.1111111111111111,
             "#46039f"
            ],
            [
             0.2222222222222222,
             "#7201a8"
            ],
            [
             0.3333333333333333,
             "#9c179e"
            ],
            [
             0.4444444444444444,
             "#bd3786"
            ],
            [
             0.5555555555555556,
             "#d8576b"
            ],
            [
             0.6666666666666666,
             "#ed7953"
            ],
            [
             0.7777777777777778,
             "#fb9f3a"
            ],
            [
             0.8888888888888888,
             "#fdca26"
            ],
            [
             1,
             "#f0f921"
            ]
           ]
          },
          "colorway": [
           "#636efa",
           "#EF553B",
           "#00cc96",
           "#ab63fa",
           "#FFA15A",
           "#19d3f3",
           "#FF6692",
           "#B6E880",
           "#FF97FF",
           "#FECB52"
          ],
          "font": {
           "color": "#2a3f5f"
          },
          "geo": {
           "bgcolor": "white",
           "lakecolor": "white",
           "landcolor": "#E5ECF6",
           "showlakes": true,
           "showland": true,
           "subunitcolor": "white"
          },
          "hoverlabel": {
           "align": "left"
          },
          "hovermode": "closest",
          "mapbox": {
           "style": "light"
          },
          "paper_bgcolor": "white",
          "plot_bgcolor": "#E5ECF6",
          "polar": {
           "angularaxis": {
            "gridcolor": "white",
            "linecolor": "white",
            "ticks": ""
           },
           "bgcolor": "#E5ECF6",
           "radialaxis": {
            "gridcolor": "white",
            "linecolor": "white",
            "ticks": ""
           }
          },
          "scene": {
           "xaxis": {
            "backgroundcolor": "#E5ECF6",
            "gridcolor": "white",
            "gridwidth": 2,
            "linecolor": "white",
            "showbackground": true,
            "ticks": "",
            "zerolinecolor": "white"
           },
           "yaxis": {
            "backgroundcolor": "#E5ECF6",
            "gridcolor": "white",
            "gridwidth": 2,
            "linecolor": "white",
            "showbackground": true,
            "ticks": "",
            "zerolinecolor": "white"
           },
           "zaxis": {
            "backgroundcolor": "#E5ECF6",
            "gridcolor": "white",
            "gridwidth": 2,
            "linecolor": "white",
            "showbackground": true,
            "ticks": "",
            "zerolinecolor": "white"
           }
          },
          "shapedefaults": {
           "line": {
            "color": "#2a3f5f"
           }
          },
          "ternary": {
           "aaxis": {
            "gridcolor": "white",
            "linecolor": "white",
            "ticks": ""
           },
           "baxis": {
            "gridcolor": "white",
            "linecolor": "white",
            "ticks": ""
           },
           "bgcolor": "#E5ECF6",
           "caxis": {
            "gridcolor": "white",
            "linecolor": "white",
            "ticks": ""
           }
          },
          "title": {
           "x": 0.05
          },
          "xaxis": {
           "automargin": true,
           "gridcolor": "white",
           "linecolor": "white",
           "ticks": "",
           "title": {
            "standoff": 15
           },
           "zerolinecolor": "white",
           "zerolinewidth": 2
          },
          "yaxis": {
           "automargin": true,
           "gridcolor": "white",
           "linecolor": "white",
           "ticks": "",
           "title": {
            "standoff": 15
           },
           "zerolinecolor": "white",
           "zerolinewidth": 2
          }
         }
        },
        "title": {
         "text": "Perbedaan Karakteristik Risiko Tinggi vs Risiko Rendah (%)"
        },
        "width": 900,
        "xaxis": {
         "anchor": "y",
         "categoryorder": "total ascending",
         "domain": [
          0,
          1
         ],
         "title": {
          "text": "Fitur"
         }
        },
        "yaxis": {
         "anchor": "x",
         "domain": [
          0,
          1
         ],
         "title": {
          "text": "Perbedaan Persentase (%)"
         }
        }
       }
      }
     },
     "metadata": {},
     "output_type": "display_data"
    },
    {
     "name": "stdout",
     "output_type": "stream",
     "text": [
      "Visualisasi disimpan sebagai 'characteristic_differences_safe.png'\n",
      "\n",
      "Hasil segmentasi risiko attrition telah disimpan ke 'risk_segmentation_safe.csv'\n",
      "\n",
      "================================================================================\n",
      "KESIMPULAN DAN REKOMENDASI\n",
      "================================================================================\n",
      "\n",
      "KESIMPULAN SEGMENTASI RISIKO ATTRITION KARYAWAN:\n",
      "\n",
      "1. Dengan metode KMeans, kami mencapai silhouette score 0.701 \n",
      "   yang menunjukkan kualitas segmentasi yang baik.\n",
      "\n",
      "2. Karyawan telah berhasil disegmentasi menjadi 2 kelompok:\n",
      "   - Risiko Tinggi: 308 karyawan (29.1%)\n",
      "   - Risiko Rendah: 750 karyawan (70.9%)\n",
      "\n",
      "3. Tingkat attrition di masing-masing segmen:\n",
      "   - Risiko Tinggi: 31.82%\n",
      "   - Risiko Rendah: 10.80%\n",
      "   - Perbedaan: 21.02%\n",
      "\n",
      "4. Perbedaan utama karakteristik antara karyawan Risiko Tinggi vs Risiko Rendah:\n",
      "   - OverTime: 99.7% lebih tinggi pada karyawan Risiko Tinggi\n",
      "   - WorkLifeBalanceAdjusted: 21.5% lebih rendah pada karyawan Risiko Tinggi\n",
      "   - Age: 2.0% lebih tinggi pada karyawan Risiko Tinggi\n",
      "   - SatisfactionIndex: 2.0% lebih tinggi pada karyawan Risiko Tinggi\n",
      "   - SalaryPerLevel: 1.9% lebih tinggi pada karyawan Risiko Tinggi\n",
      "\n",
      "REKOMENDASI STRATEGI RETENSI:\n",
      "\n",
      "1. Untuk Karyawan Risiko Tinggi:\n",
      "   - Implementasikan program retensi segera dan targeted\n",
      "   - Evaluasi dan tingkatkan paket kompensasi dan benefit\n",
      "   - Berikan jalur pengembangan karir yang jelas\n",
      "   - Adakan diskusi one-on-one untuk identifikasi masalah\n",
      "   - Pertimbangkan kebijakan kerja fleksibel\n",
      "\n",
      "2. Untuk Karyawan Risiko Rendah:\n",
      "   - Pertahankan kebijakan dan program yang sudah berjalan baik\n",
      "   - Manfaatkan karyawan ini sebagai mentor untuk karyawan berisiko tinggi\n",
      "   - Lakukan survei kepuasan secara berkala untuk monitor perubahan\n",
      "\n",
      "3. Implementasi dan Monitoring:\n",
      "   - Buat dashboard HR untuk memantau distribusi risiko secara real-time\n",
      "   - Evaluasi ulang segmentasi setiap 6 bulan untuk melihat efektivitas program\n",
      "   - Tentukan target pengurangan attrition yang realistis\n",
      "\n",
      "\n",
      "Segmentasi risiko attrition telah selesai dengan aman!\n"
     ]
    }
   ],
   "source": [
    "# Import library yang diperlukan\n",
    "import pandas as pd\n",
    "import numpy as np\n",
    "import matplotlib.pyplot as plt\n",
    "import seaborn as sns\n",
    "from sklearn.preprocessing import StandardScaler, RobustScaler, PowerTransformer, MinMaxScaler, QuantileTransformer\n",
    "from sklearn.cluster import KMeans, DBSCAN\n",
    "from sklearn.mixture import GaussianMixture\n",
    "from sklearn.metrics import silhouette_score, calinski_harabasz_score\n",
    "from sklearn.ensemble import RandomForestClassifier, IsolationForest\n",
    "from sklearn.feature_selection import mutual_info_classif, SelectKBest, f_classif\n",
    "from sklearn.decomposition import PCA, TruncatedSVD\n",
    "from umap import UMAP\n",
    "from sklearn.pipeline import Pipeline\n",
    "from scipy import stats\n",
    "import plotly.express as px\n",
    "import plotly.graph_objects as go\n",
    "from plotly.subplots import make_subplots\n",
    "\n",
    "# Skema warna yang color blind friendly\n",
    "CB_COLORS = {\n",
    "    'blue': '#648FFF',    # biru\n",
    "    'orange': '#FE6100',  # oranye\n",
    "}\n",
    "\n",
    "# Palette untuk high risk vs low risk\n",
    "HIGH_RISK_COLOR = CB_COLORS['orange']\n",
    "LOW_RISK_COLOR = CB_COLORS['blue']\n",
    "\n",
    "import warnings\n",
    "warnings.filterwarnings('ignore')\n",
    "\n",
    "# Fungsi untuk mencetak header\n",
    "def print_header(text):\n",
    "    print(f\"\\n{'='*80}\\n{text}\\n{'='*80}\")\n",
    "\n",
    "# Fungsi untuk menampilkan dan menyimpan visualisasi\n",
    "def display_and_save_figure(fig, filename, show_fig=True):\n",
    "    if show_fig:\n",
    "        fig.show()\n",
    "    fig.write_image(filename)\n",
    "    print(f\"Visualisasi disimpan sebagai '{filename}'\")\n",
    "    return fig\n",
    "\n",
    "# Fungsi untuk memeriksa dan mengatasi nilai tak terhingga dan NaN\n",
    "def handle_infinite_values(df, features):\n",
    "    # Buat salinan DataFrame\n",
    "    df_clean = df.copy()\n",
    "    \n",
    "    # Cek nilai tak terhingga atau NaN dalam dataframe\n",
    "    has_inf = np.any(np.isinf(df[features].values))\n",
    "    has_nan = df[features].isna().any().any()\n",
    "    \n",
    "    if has_inf or has_nan:\n",
    "        print(\"Data mengandung nilai tak terhingga atau NaN. Menangani masalah ini...\")\n",
    "        \n",
    "        # Hitung jumlah nilai infinite dan NaN per kolom\n",
    "        inf_count = np.isinf(df[features]).sum()\n",
    "        nan_count = df[features].isna().sum()\n",
    "        \n",
    "        # Tampilkan kolom dengan masalah\n",
    "        problem_cols = []\n",
    "        for col in features:\n",
    "            inf_vals = np.isinf(df[col]).sum()\n",
    "            nan_vals = df[col].isna().sum()\n",
    "            if inf_vals > 0 or nan_vals > 0:\n",
    "                problem_cols.append((col, inf_vals, nan_vals))\n",
    "                print(f\"  - Kolom '{col}': {inf_vals} nilai tak terhingga, {nan_vals} nilai NaN\")\n",
    "        \n",
    "        # Tangani nilai tak terhingga dengan mengganti dengan NaN terlebih dahulu\n",
    "        for col in features:\n",
    "            # Ganti inf dengan NaN\n",
    "            df_clean[col] = df_clean[col].replace([np.inf, -np.inf], np.nan)\n",
    "            \n",
    "            # Cek apakah kolom masih memiliki nilai yang valid (bukan semuanya NaN)\n",
    "            if df_clean[col].notna().any():\n",
    "                # Ganti NaN dengan median kolom\n",
    "                median_val = df_clean[col].median()\n",
    "                df_clean[col] = df_clean[col].fillna(median_val)\n",
    "                print(f\"  - Mengganti nilai tak terhingga/NaN di kolom '{col}' dengan median: {median_val}\")\n",
    "            else:\n",
    "                # Jika semua nilai NaN, ganti dengan 0\n",
    "                df_clean[col] = 0\n",
    "                print(f\"  - Semua nilai di kolom '{col}' tidak valid. Mengganti dengan 0.\")\n",
    "    \n",
    "    return df_clean\n",
    "\n",
    "# 1. Baca dan persiapkan data\n",
    "print_header(\"MEMBACA DAN MEMPERSIAPKAN DATA\")\n",
    "df = pd.read_csv('./data/data_final_employee.csv')\n",
    "print(f\"Ukuran dataset: {df.shape}\")\n",
    "\n",
    "# 2. Tangani missing value\n",
    "print(\"\\nMenangani missing value...\")\n",
    "missing_values = df.isnull().sum()\n",
    "if missing_values.sum() > 0:\n",
    "    print(f\"Missing values ditemukan: {missing_values[missing_values > 0]}\")\n",
    "    df.dropna(inplace=True)\n",
    "    print(f\"Ukuran dataset setelah menghapus missing value: {df.shape}\")\n",
    "else:\n",
    "    print(\"Tidak ada missing value ditemukan.\")\n",
    "\n",
    "# 3. Pastikan kolom Attrition numerik (0/1)\n",
    "if df['Attrition'].dtype == 'object':\n",
    "    df['Attrition'] = df['Attrition'].map({'Yes': 1, 'No': 0})\n",
    "    print(\"\\nKolom Attrition dikonversi dari kategorikal ke numerik (1/0)\")\n",
    "elif df['Attrition'].max() > 1:\n",
    "    df['Attrition'] = (df['Attrition'] > 0).astype(int)\n",
    "    print(\"\\nKolom Attrition dikonversi ke binary (0/1)\")\n",
    "\n",
    "# 4. Feature Engineering yang lebih stabil\n",
    "print_header(\"FEATURE ENGINEERING STABIL\")\n",
    "\n",
    "# Pilih fitur numerik yang relevan\n",
    "numerical_features = df.select_dtypes(include=['int64', 'float64']).columns.tolist()\n",
    "numerical_features = [f for f in numerical_features if f != 'Attrition' and f != 'EmployeeId' and f != 'EmployeeCount' and f != 'StandardHours' and f != 'Cluster']\n",
    "\n",
    "print(f\"\\nMenggunakan {len(numerical_features)} fitur numerik asli\")\n",
    "\n",
    "# Cek fitur yang tersedia\n",
    "available_features = set(df.columns)\n",
    "\n",
    "# FEATURE ENGINEERING DENGAN PENANGANAN NILAI EKSTREM\n",
    "print(\"\\nMembuat fitur engineering dengan penanganan nilai ekstrem...\")\n",
    "\n",
    "try:\n",
    "    # 1. Rasio Compensation ke Job Level (dengan penanganan division by zero)\n",
    "    if 'MonthlyIncome' in available_features and 'JobLevel' in available_features:\n",
    "        # Pastikan tidak ada pembagian dengan nol\n",
    "        df['SalaryPerLevel'] = df['MonthlyIncome'] / df['JobLevel'].replace(0, 1)\n",
    "        print(\"- Fitur baru: SalaryPerLevel (Gaji per level jabatan)\")\n",
    "    \n",
    "    # 2. Indeks Kepuasan Kerja Gabungan\n",
    "    satisfaction_columns = [col for col in ['JobSatisfaction', 'EnvironmentSatisfaction', \n",
    "                                        'WorkLifeBalance', 'RelationshipSatisfaction'] \n",
    "                        if col in available_features]\n",
    "    \n",
    "    if len(satisfaction_columns) >= 2:\n",
    "        df['SatisfactionIndex'] = df[satisfaction_columns].mean(axis=1)\n",
    "        print(f\"- Fitur baru: SatisfactionIndex (Rata-rata dari {len(satisfaction_columns)} fitur kepuasan)\")\n",
    "    \n",
    "    # 3. Rasio Promosi (dengan penanganan division by zero)\n",
    "    if 'YearsSinceLastPromotion' in available_features and 'YearsAtCompany' in available_features:\n",
    "        df['PromotionRatio'] = df['YearsSinceLastPromotion'] / df['YearsAtCompany'].replace(0, 1)\n",
    "        # Terapkan clipping untuk menghindari nilai ekstrem\n",
    "        max_ratio = np.percentile(df['PromotionRatio'], 99)  # 99 persentil\n",
    "        df['PromotionRatio'] = df['PromotionRatio'].clip(0, max_ratio)\n",
    "        print(\"- Fitur baru: PromotionRatio (Rasio tahun sejak promosi terhadap masa kerja)\")\n",
    "    \n",
    "    # 4. Transformasi logaritmik (lebih stabil daripada exponential)\n",
    "    if 'DistanceFromHome' in available_features:\n",
    "        # Log transform lebih stabil (tambahkan 1 untuk menghindari log(0))\n",
    "        df['LogDistance'] = np.log1p(df['DistanceFromHome'])\n",
    "        print(\"- Fitur baru: LogDistance (Transformasi logaritmik jarak)\")\n",
    "    \n",
    "    # 5. Work-Life Balance dan Overtime (Linear, lebih stabil)\n",
    "    if 'WorkLifeBalance' in available_features and 'OverTime' in available_features:\n",
    "        # Pastikan OverTime dalam bentuk numerik\n",
    "        if df['OverTime'].dtype == 'object':\n",
    "            df['OverTime'] = df['OverTime'].map({'Yes': 1, 'No': 0})\n",
    "        \n",
    "        # Penambahan sederhana lebih stabil daripada perkalian/pembagian\n",
    "        df['WorkLifeBalanceAdjusted'] = df['WorkLifeBalance'] - 0.5 * df['OverTime']\n",
    "        print(\"- Fitur baru: WorkLifeBalanceAdjusted (Penyesuaian work-life balance)\")\n",
    "        \n",
    "    # Hanya tambahkan beberapa fitur kunci untuk mengurangi risiko nilai ekstrem\n",
    "    print(\"\\nMembatasi jumlah fitur engineering untuk mengurangi risiko nilai ekstrem\")\n",
    "except Exception as e:\n",
    "    print(f\"Error saat membuat fitur baru: {e}\")\n",
    "    print(\"Melanjutkan dengan fitur yang berhasil dibuat\")\n",
    "\n",
    "# Update list fitur numerik dengan fitur baru\n",
    "engineered_features = [col for col in df.columns if col not in numerical_features \n",
    "                      and col != 'Attrition' and col != 'EmployeeId' \n",
    "                      and col != 'EmployeeCount' and col != 'StandardHours'\n",
    "                      and col != 'Cluster'\n",
    "                      and df[col].dtype != 'object']\n",
    "\n",
    "print(f\"\\nMenambahkan {len(engineered_features)} fitur hasil feature engineering:\")\n",
    "print(engineered_features)\n",
    "\n",
    "# Gabungkan fitur asli dan fitur baru\n",
    "all_features = numerical_features + engineered_features\n",
    "print(f\"\\nTotal fitur untuk evaluasi: {len(all_features)}\")\n",
    "\n",
    "# 5. Periksa dan tangani nilai tak terhingga\n",
    "print_header(\"PENANGANAN NILAI TAK TERHINGGA\")\n",
    "\n",
    "# Persiapkan data\n",
    "X_all = df[all_features]\n",
    "\n",
    "# Tangani nilai tak terhingga atau NaN\n",
    "X_all_clean = handle_infinite_values(X_all, all_features)\n",
    "\n",
    "# Update DataFrame dengan data yang sudah dibersihkan\n",
    "df[all_features] = X_all_clean\n",
    "\n",
    "# Ambil data target\n",
    "y = df['Attrition']\n",
    "\n",
    "# Tampilkan statistik data setelah pembersihan\n",
    "print(\"\\nStatistik data setelah pembersihan:\")\n",
    "print(f\"  Jumlah fitur: {len(all_features)}\")\n",
    "print(f\"  Min values: {X_all_clean.min().min()}\")\n",
    "print(f\"  Max values: {X_all_clean.max().max()}\")\n",
    "print(f\"  Rata-rata seluruh nilai: {X_all_clean.mean().mean()}\")\n",
    "print(f\"  Median seluruh nilai: {X_all_clean.median().median()}\")\n",
    "\n",
    "# 6. Standarisasi data dengan clip untuk mencegah nilai ekstrem\n",
    "print_header(\"STANDARISASI DATA DENGAN CLIPPING\")\n",
    "\n",
    "print(\"Melakukan standarisasi data dengan penanganan nilai ekstrem...\")\n",
    "\n",
    "try:\n",
    "    # Menggunakan StandardScaler lebih stabil daripada RobustScaler dalam beberapa kasus\n",
    "    scaler = StandardScaler()\n",
    "    X_scaled = scaler.fit_transform(X_all_clean)\n",
    "    \n",
    "    # Terapkan clipping untuk batasi nilai ekstrem setelah standarisasi\n",
    "    X_scaled = np.clip(X_scaled, -5, 5)  # Batasi ke range [-5, 5] untuk mencegah nilai ekstrem\n",
    "    \n",
    "    # Konversi kembali ke DataFrame\n",
    "    X_scaled_df = pd.DataFrame(X_scaled, columns=all_features)\n",
    "    \n",
    "    print(\"Standarisasi berhasil. Menerapkan clipping untuk batasi nilai ekstrem ke range [-5, 5]\")\n",
    "    \n",
    "except Exception as e:\n",
    "    print(f\"Error saat standarisasi: {e}\")\n",
    "    print(\"Mencoba metode standarisasi alternatif...\")\n",
    "    \n",
    "    # Pendekatan alternatif: standarisasi per kolom dengan penanganan manual\n",
    "    X_scaled = np.zeros_like(X_all_clean.values)\n",
    "    \n",
    "    for i, col in enumerate(all_features):\n",
    "        # Ambil data kolom\n",
    "        col_data = X_all_clean[col].values\n",
    "        \n",
    "        # Hitung mean dan std secara manual, ignoring NaN\n",
    "        col_mean = np.nanmean(col_data)\n",
    "        col_std = np.nanstd(col_data)\n",
    "        \n",
    "        # Hindari division by zero\n",
    "        if col_std > 0:\n",
    "            X_scaled[:, i] = (col_data - col_mean) / col_std\n",
    "        else:\n",
    "            X_scaled[:, i] = 0  # Jika std=0, semua nilai sama, jadi set ke 0\n",
    "        \n",
    "        # Terapkan clipping untuk batasi nilai ekstrem\n",
    "        X_scaled[:, i] = np.clip(X_scaled[:, i], -5, 5)\n",
    "    \n",
    "    # Konversi kembali ke DataFrame\n",
    "    X_scaled_df = pd.DataFrame(X_scaled, columns=all_features)\n",
    "    \n",
    "    print(\"Standarisasi manual berhasil diterapkan dengan clipping\")\n",
    "\n",
    "print(\"\\nData setelah standarisasi dan clipping:\")\n",
    "print(f\"  Min values: {X_scaled_df.min().min()}\")\n",
    "print(f\"  Max values: {X_scaled_df.max().max()}\")\n",
    "print(f\"  Mean: {X_scaled_df.mean().mean()}\")\n",
    "print(f\"  Std: {X_scaled_df.std().mean()}\")\n",
    "\n",
    "# 7. Feature Selection untuk mengurangi dimensi\n",
    "print_header(\"FEATURE SELECTION SEDERHANA\")\n",
    "\n",
    "# Gunakan Random Forest yang stabil untuk feature selection\n",
    "print(\"Mengidentifikasi fitur terpenting dengan Random Forest...\")\n",
    "rf = RandomForestClassifier(n_estimators=100, random_state=42)\n",
    "rf.fit(X_scaled_df, y)\n",
    "\n",
    "# Feature importance\n",
    "importance = pd.DataFrame({\n",
    "    'Feature': all_features,\n",
    "    'Importance': rf.feature_importances_\n",
    "}).sort_values('Importance', ascending=False)\n",
    "\n",
    "print(\"\\nTop 15 fitur terpenting:\")\n",
    "print(importance.head(15))\n",
    "\n",
    "# Hanya pilih 10 fitur teratas untuk stabilitas\n",
    "top_features = importance.head(10)['Feature'].tolist()\n",
    "print(f\"\\nMenggunakan 10 fitur terpenting untuk clustering: {top_features}\")\n",
    "\n",
    "# Filter data untuk top features\n",
    "X_top = X_scaled_df[top_features]\n",
    "\n",
    "# 8. Reduksi dimensi dengan UMAP (dengan parameter stabil)\n",
    "print_header(\"REDUKSI DIMENSI DENGAN UMAP\")\n",
    "\n",
    "print(\"Menerapkan UMAP dengan parameter yang stabil...\")\n",
    "try:\n",
    "    # Dengan parameter stabil, min_dist lebih tinggi untuk menghindari tumpukan titik\n",
    "    umap_reducer = UMAP(\n",
    "        n_components=2,\n",
    "        random_state=42,\n",
    "        n_neighbors=30,  # Lebih tinggi untuk stabilitas\n",
    "        min_dist=0.3,    # Lebih tinggi untuk menghindari tumpukan titik\n",
    "        metric='euclidean'\n",
    "    )\n",
    "    X_umap = umap_reducer.fit_transform(X_top)\n",
    "    print(\"UMAP berhasil diterapkan\")\n",
    "    \n",
    "except Exception as e:\n",
    "    print(f\"Error saat menerapkan UMAP: {e}\")\n",
    "    print(\"Menggunakan PCA sebagai alternatif...\")\n",
    "    \n",
    "    # Gunakan PCA sebagai fallback\n",
    "    pca = PCA(n_components=2, random_state=42)\n",
    "    X_umap = pca.fit_transform(X_top)\n",
    "    print(\"PCA berhasil diterapkan sebagai alternatif\")\n",
    "\n",
    "# 9. Clustering dengan 2 cluster\n",
    "print_header(\"CLUSTERING DENGAN 2 CLUSTER\")\n",
    "\n",
    "# Aplikasikan KMeans (lebih stabil daripada GMM)\n",
    "print(\"Menerapkan KMeans dengan 2 cluster...\")\n",
    "kmeans = KMeans(n_clusters=2, random_state=42, n_init=50)\n",
    "cluster_labels = kmeans.fit_predict(X_umap)\n",
    "\n",
    "# Hitung silhouette score\n",
    "sil_score = silhouette_score(X_umap, cluster_labels)\n",
    "print(f\"Silhouette score: {sil_score:.3f}\")\n",
    "\n",
    "# Tambahkan label cluster ke DataFrame\n",
    "df['Cluster'] = cluster_labels\n",
    "\n",
    "# 10. Analisis tingkat attrition per cluster\n",
    "attrition_by_cluster = df.groupby('Cluster')['Attrition'].mean() * 100\n",
    "cluster_sizes = df.groupby('Cluster').size()\n",
    "\n",
    "print(\"\\nAnalisis tingkat attrition per cluster:\")\n",
    "for cluster in sorted(attrition_by_cluster.index):\n",
    "    print(f\"Cluster {cluster}: {cluster_sizes[cluster]} karyawan, tingkat attrition {attrition_by_cluster[cluster]:.2f}%\")\n",
    "\n",
    "# 11. Tentukan cluster dengan risiko tinggi\n",
    "high_risk_cluster = attrition_by_cluster.idxmax()\n",
    "low_risk_cluster = attrition_by_cluster.idxmin()\n",
    "\n",
    "print(f\"\\nCluster dengan risiko tinggi: Cluster {high_risk_cluster} ({attrition_by_cluster[high_risk_cluster]:.2f}%)\")\n",
    "print(f\"Cluster dengan risiko rendah: Cluster {low_risk_cluster} ({attrition_by_cluster[low_risk_cluster]:.2f}%)\")\n",
    "\n",
    "# 12. Buat kolom Risk Level dengan 2 kategori\n",
    "df['RiskLevel'] = df['Cluster'].map({\n",
    "    high_risk_cluster: 'Risiko Tinggi', \n",
    "    low_risk_cluster: 'Risiko Rendah'\n",
    "})\n",
    "\n",
    "# 13. Hitung distribusi risiko\n",
    "risk_distribution = df['RiskLevel'].value_counts()\n",
    "risk_percentage = df['RiskLevel'].value_counts(normalize=True) * 100\n",
    "\n",
    "print(\"\\nDistribusi Karyawan berdasarkan Level Risiko Attrition:\")\n",
    "for risk, count in risk_distribution.items():\n",
    "    percentage = risk_percentage[risk]\n",
    "    print(f\"{risk}: {count} karyawan ({percentage:.1f}%)\")\n",
    "\n",
    "# 14. Visualisasi segmentasi dengan Plotly\n",
    "print_header(\"VISUALISASI SEGMENTASI\")\n",
    "\n",
    "print(\"Membuat visualisasi scatter plot...\")\n",
    "umap_df = pd.DataFrame(X_umap, columns=['Dimension 1', 'Dimension 2'])\n",
    "umap_df['RiskLevel'] = df['RiskLevel'].values\n",
    "\n",
    "# Visualisasi scatter plot\n",
    "fig = px.scatter(\n",
    "    umap_df, \n",
    "    x='Dimension 1', \n",
    "    y='Dimension 2', \n",
    "    color='RiskLevel',\n",
    "    color_discrete_map={\n",
    "        'Risiko Tinggi': HIGH_RISK_COLOR,\n",
    "        'Risiko Rendah': LOW_RISK_COLOR\n",
    "    },\n",
    "    title=f'Segmentasi Risiko Attrition (Silhouette: {sil_score:.3f})',\n",
    "    opacity=0.7,\n",
    "    width=900,\n",
    "    height=700\n",
    ")\n",
    "fig.update_traces(marker=dict(size=8, line=dict(width=1, color='DarkSlateGrey')))\n",
    "fig.update_layout(\n",
    "    legend_title_text='Level Risiko',\n",
    "    xaxis_title='Dimension 1',\n",
    "    yaxis_title='Dimension 2',\n",
    "    font=dict(size=12)\n",
    ")\n",
    "\n",
    "# Tampilkan dan simpan visualisasi\n",
    "display_and_save_figure(fig, \"clustering_result_safe.png\")\n",
    "\n",
    "# 15. Analisis profil risiko\n",
    "print_header(\"ANALISIS PROFIL RISIKO\")\n",
    "\n",
    "# Gunakan fitur asli (bukan yang distandarisasi) untuk interpretasi yang lebih baik\n",
    "profile_features = top_features.copy()\n",
    "profile_by_risk = df.groupby('RiskLevel')[profile_features].mean()\n",
    "\n",
    "print(\"\\nProfil rata-rata berdasarkan level risiko:\")\n",
    "print(profile_by_risk)\n",
    "\n",
    "# Hitung perbedaan persentase\n",
    "high_profile = profile_by_risk.loc['Risiko Tinggi'] if 'Risiko Tinggi' in profile_by_risk.index else profile_by_risk.iloc[0]\n",
    "low_profile = profile_by_risk.loc['Risiko Rendah'] if 'Risiko Rendah' in profile_by_risk.index else profile_by_risk.iloc[1]\n",
    "\n",
    "# Hitung perbedaan persentase dengan penanganan division by zero\n",
    "pct_diff = pd.Series(index=profile_features)\n",
    "for feature in profile_features:\n",
    "    if low_profile[feature] != 0:\n",
    "        pct_diff[feature] = (high_profile[feature] - low_profile[feature]) / abs(low_profile[feature]) * 100\n",
    "    else:\n",
    "        # Jika denominator 0, gunakan perbedaan absolut\n",
    "        pct_diff[feature] = (high_profile[feature] - low_profile[feature]) * 100\n",
    "        \n",
    "print(\"\\nPerbedaan persentase (Risiko Tinggi vs Risiko Rendah):\")\n",
    "for feature, diff in pct_diff.items():\n",
    "    print(f\"{feature}: {diff:+.1f}%\")\n",
    "\n",
    "# 16. Visualisasi perbedaan karakteristik\n",
    "print(\"\\nMembuat visualisasi perbedaan karakteristik...\")\n",
    "# Pilih top 5 fitur dengan perbedaan terbesar untuk visualisasi\n",
    "top_diff_features = pct_diff.abs().sort_values(ascending=False).head(5).index.tolist()\n",
    "diff_df = pd.DataFrame({\n",
    "    'Fitur': top_diff_features,\n",
    "    'Perbedaan (%)': pct_diff[top_diff_features].values\n",
    "})\n",
    "\n",
    "# Visualisasi bar chart\n",
    "fig = px.bar(\n",
    "    diff_df,\n",
    "    x='Fitur',\n",
    "    y='Perbedaan (%)',\n",
    "    color='Perbedaan (%)',\n",
    "    color_continuous_scale=[LOW_RISK_COLOR, '#FFFFFF', HIGH_RISK_COLOR],\n",
    "    text=[f\"{val:+.1f}%\" for val in diff_df['Perbedaan (%)']],\n",
    "    title='Perbedaan Karakteristik Risiko Tinggi vs Risiko Rendah (%)',\n",
    "    height=600,\n",
    "    width=900\n",
    ")\n",
    "fig.update_traces(textposition='outside')\n",
    "fig.update_layout(\n",
    "    xaxis_title='Fitur',\n",
    "    yaxis_title='Perbedaan Persentase (%)',\n",
    "    xaxis={'categoryorder': 'total ascending'},\n",
    "    font=dict(size=12)\n",
    ")\n",
    "# Tambahkan garis horizontal di 0\n",
    "fig.add_shape(\n",
    "    type=\"line\",\n",
    "    x0=-0.5,\n",
    "    y0=0,\n",
    "    x1=len(top_diff_features)-0.5,\n",
    "    y1=0,\n",
    "    line=dict(color=\"black\", width=1, dash=\"dash\")\n",
    ")\n",
    "\n",
    "# Tampilkan dan simpan visualisasi\n",
    "display_and_save_figure(fig, \"characteristic_differences_safe.png\")\n",
    "\n",
    "# 17. Simpan hasil segmentasi\n",
    "df.to_csv('risk_segmentation_safe.csv', index=False)\n",
    "print(\"\\nHasil segmentasi risiko attrition telah disimpan ke 'risk_segmentation_safe.csv'\")\n",
    "\n",
    "# 18. Kesimpulan dan rekomendasi\n",
    "print_header(\"KESIMPULAN DAN REKOMENDASI\")\n",
    "print(f\"\"\"\n",
    "KESIMPULAN SEGMENTASI RISIKO ATTRITION KARYAWAN:\n",
    "\n",
    "1. Dengan metode KMeans, kami mencapai silhouette score {sil_score:.3f} \n",
    "   yang menunjukkan kualitas segmentasi yang baik.\n",
    "\n",
    "2. Karyawan telah berhasil disegmentasi menjadi 2 kelompok:\n",
    "   - Risiko Tinggi: {risk_distribution.get('Risiko Tinggi', 0)} karyawan ({risk_percentage.get('Risiko Tinggi', 0):.1f}%)\n",
    "   - Risiko Rendah: {risk_distribution.get('Risiko Rendah', 0)} karyawan ({risk_percentage.get('Risiko Rendah', 0):.1f}%)\n",
    "\n",
    "3. Tingkat attrition di masing-masing segmen:\n",
    "   - Risiko Tinggi: {attrition_by_cluster[high_risk_cluster]:.2f}%\n",
    "   - Risiko Rendah: {attrition_by_cluster[low_risk_cluster]:.2f}%\n",
    "   - Perbedaan: {abs(attrition_by_cluster[high_risk_cluster] - attrition_by_cluster[low_risk_cluster]):.2f}%\n",
    "\n",
    "4. Perbedaan utama karakteristik antara karyawan Risiko Tinggi vs Risiko Rendah:\"\"\")\n",
    "\n",
    "# Print top 5 perbedaan\n",
    "for feature, diff in pct_diff.abs().sort_values(ascending=False).head(5).items():\n",
    "    actual_diff = pct_diff[feature]\n",
    "    direction = \"lebih tinggi\" if actual_diff > 0 else \"lebih rendah\"\n",
    "    print(f\"   - {feature}: {abs(actual_diff):.1f}% {direction} pada karyawan Risiko Tinggi\")\n",
    "\n",
    "print(\"\"\"\n",
    "REKOMENDASI STRATEGI RETENSI:\n",
    "\n",
    "1. Untuk Karyawan Risiko Tinggi:\n",
    "   - Implementasikan program retensi segera dan targeted\n",
    "   - Evaluasi dan tingkatkan paket kompensasi dan benefit\n",
    "   - Berikan jalur pengembangan karir yang jelas\n",
    "   - Adakan diskusi one-on-one untuk identifikasi masalah\n",
    "   - Pertimbangkan kebijakan kerja fleksibel\n",
    "\n",
    "2. Untuk Karyawan Risiko Rendah:\n",
    "   - Pertahankan kebijakan dan program yang sudah berjalan baik\n",
    "   - Manfaatkan karyawan ini sebagai mentor untuk karyawan berisiko tinggi\n",
    "   - Lakukan survei kepuasan secara berkala untuk monitor perubahan\n",
    "\n",
    "3. Implementasi dan Monitoring:\n",
    "   - Buat dashboard HR untuk memantau distribusi risiko secara real-time\n",
    "   - Evaluasi ulang segmentasi setiap 6 bulan untuk melihat efektivitas program\n",
    "   - Tentukan target pengurangan attrition yang realistis\n",
    "\"\"\")\n",
    "\n",
    "print(\"\\nSegmentasi risiko attrition telah selesai dengan aman!\")"
   ]
  }
 ],
 "metadata": {
  "kernelspec": {
   "display_name": "dicodingpds",
   "language": "python",
   "name": "python3"
  },
  "language_info": {
   "codemirror_mode": {
    "name": "ipython",
    "version": 3
   },
   "file_extension": ".py",
   "mimetype": "text/x-python",
   "name": "python",
   "nbconvert_exporter": "python",
   "pygments_lexer": "ipython3",
   "version": "3.12.10"
  }
 },
 "nbformat": 4,
 "nbformat_minor": 5
}
