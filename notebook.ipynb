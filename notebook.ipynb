{
 "cells": [
  {
   "cell_type": "markdown",
   "id": "786fa7d5",
   "metadata": {},
   "source": [
    "# Instal library"
   ]
  },
  {
   "cell_type": "code",
   "execution_count": null,
   "id": "2937ffef",
   "metadata": {},
   "outputs": [],
   "source": [
    "# Impor library yang diperlukan\n",
    "import pandas as pd\n",
    "import numpy as np\n",
    "import matplotlib.pyplot as plt\n",
    "import seaborn as sns\n",
    "from IPython.display import display\n",
    "\n",
    "# Untuk visualisasi interaktif\n",
    "import plotly.express as px\n",
    "import plotly.graph_objects as go\n",
    "from plotly.subplots import make_subplots\n",
    "\n",
    "# Atur gaya tampilan\n",
    "plt.style.use('ggplot')\n",
    "\n",
    "\n",
    "# Import library yang diperlukan\n",
    "import pandas as pd\n",
    "import numpy as np\n",
    "import matplotlib.pyplot as plt\n",
    "import seaborn as sns\n",
    "from sklearn.preprocessing import StandardScaler, RobustScaler, PowerTransformer, QuantileTransformer\n",
    "from sklearn.decomposition import PCA, KernelPCA, TruncatedSVD, FastICA, NMF\n",
    "from sklearn.manifold import TSNE, Isomap, LocallyLinearEmbedding, SpectralEmbedding\n",
    "from sklearn.cluster import KMeans, AgglomerativeClustering, DBSCAN, OPTICS, SpectralClustering, Birch\n",
    "from sklearn.mixture import GaussianMixture, BayesianGaussianMixture\n",
    "from sklearn.metrics import silhouette_score, calinski_harabasz_score, davies_bouldin_score\n",
    "from sklearn.feature_selection import SelectKBest, mutual_info_regression, VarianceThreshold\n",
    "from sklearn.ensemble import IsolationForest, RandomForestClassifier\n",
    "from sklearn.neighbors import NearestNeighbors, KNeighborsClassifier\n",
    "from scipy.stats import zscore, spearmanr, pearsonr\n",
    "from scipy.cluster.hierarchy import dendrogram, linkage\n",
    "from scipy.spatial.distance import pdist, squareform\n",
    "from statsmodels.stats.outliers_influence import variance_inflation_factor\n",
    "from kneed import KneeLocator\n",
    "import plotly.express as px\n",
    "import plotly.graph_objects as go\n",
    "from plotly.subplots import make_subplots\n",
    "import warnings\n",
    "warnings.filterwarnings('ignore')\n",
    "\n",
    "# Import library yang diperlukan\n",
    "import pandas as pd\n",
    "import numpy as np\n",
    "import matplotlib.pyplot as plt\n",
    "import seaborn as sns\n",
    "from sklearn.preprocessing import StandardScaler, RobustScaler, PowerTransformer\n",
    "from sklearn.decomposition import PCA, KernelPCA, TruncatedSVD\n",
    "from sklearn.cluster import KMeans, AgglomerativeClustering, SpectralClustering\n",
    "from sklearn.metrics import silhouette_score, calinski_harabasz_score, davies_bouldin_score\n",
    "from sklearn.mixture import GaussianMixture\n",
    "import plotly.express as px\n",
    "import plotly.graph_objects as go\n",
    "import warnings\n",
    "warnings.filterwarnings('ignore')"
   ]
  },
  {
   "cell_type": "markdown",
   "id": "80ceab0e",
   "metadata": {},
   "source": [
    "# Data Cleaning & Preparation"
   ]
  },
  {
   "cell_type": "code",
   "execution_count": 43,
   "id": "3ebdac80",
   "metadata": {},
   "outputs": [
    {
     "data": {
      "application/vnd.microsoft.datawrangler.viewer.v0+json": {
       "columns": [
        {
         "name": "index",
         "rawType": "int64",
         "type": "integer"
        },
        {
         "name": "EmployeeId",
         "rawType": "int64",
         "type": "integer"
        },
        {
         "name": "Age",
         "rawType": "int64",
         "type": "integer"
        },
        {
         "name": "Attrition",
         "rawType": "float64",
         "type": "float"
        },
        {
         "name": "BusinessTravel",
         "rawType": "object",
         "type": "string"
        },
        {
         "name": "DailyRate",
         "rawType": "int64",
         "type": "integer"
        },
        {
         "name": "Department",
         "rawType": "object",
         "type": "string"
        },
        {
         "name": "DistanceFromHome",
         "rawType": "int64",
         "type": "integer"
        },
        {
         "name": "Education",
         "rawType": "int64",
         "type": "integer"
        },
        {
         "name": "EducationField",
         "rawType": "object",
         "type": "string"
        },
        {
         "name": "EmployeeCount",
         "rawType": "int64",
         "type": "integer"
        },
        {
         "name": "EnvironmentSatisfaction",
         "rawType": "int64",
         "type": "integer"
        },
        {
         "name": "Gender",
         "rawType": "object",
         "type": "string"
        },
        {
         "name": "HourlyRate",
         "rawType": "int64",
         "type": "integer"
        },
        {
         "name": "JobInvolvement",
         "rawType": "int64",
         "type": "integer"
        },
        {
         "name": "JobLevel",
         "rawType": "int64",
         "type": "integer"
        },
        {
         "name": "JobRole",
         "rawType": "object",
         "type": "string"
        },
        {
         "name": "JobSatisfaction",
         "rawType": "int64",
         "type": "integer"
        },
        {
         "name": "MaritalStatus",
         "rawType": "object",
         "type": "string"
        },
        {
         "name": "MonthlyIncome",
         "rawType": "int64",
         "type": "integer"
        },
        {
         "name": "MonthlyRate",
         "rawType": "int64",
         "type": "integer"
        },
        {
         "name": "NumCompaniesWorked",
         "rawType": "int64",
         "type": "integer"
        },
        {
         "name": "Over18",
         "rawType": "object",
         "type": "string"
        },
        {
         "name": "OverTime",
         "rawType": "object",
         "type": "string"
        },
        {
         "name": "PercentSalaryHike",
         "rawType": "int64",
         "type": "integer"
        },
        {
         "name": "PerformanceRating",
         "rawType": "int64",
         "type": "integer"
        },
        {
         "name": "RelationshipSatisfaction",
         "rawType": "int64",
         "type": "integer"
        },
        {
         "name": "StandardHours",
         "rawType": "int64",
         "type": "integer"
        },
        {
         "name": "StockOptionLevel",
         "rawType": "int64",
         "type": "integer"
        },
        {
         "name": "TotalWorkingYears",
         "rawType": "int64",
         "type": "integer"
        },
        {
         "name": "TrainingTimesLastYear",
         "rawType": "int64",
         "type": "integer"
        },
        {
         "name": "WorkLifeBalance",
         "rawType": "int64",
         "type": "integer"
        },
        {
         "name": "YearsAtCompany",
         "rawType": "int64",
         "type": "integer"
        },
        {
         "name": "YearsInCurrentRole",
         "rawType": "int64",
         "type": "integer"
        },
        {
         "name": "YearsSinceLastPromotion",
         "rawType": "int64",
         "type": "integer"
        },
        {
         "name": "YearsWithCurrManager",
         "rawType": "int64",
         "type": "integer"
        }
       ],
       "conversionMethod": "pd.DataFrame",
       "ref": "1597d51f-9d16-478f-a004-8aa057453499",
       "rows": [
        [
         "0",
         "1",
         "38",
         null,
         "Travel_Frequently",
         "1444",
         "Human Resources",
         "1",
         "4",
         "Other",
         "1",
         "4",
         "Male",
         "88",
         "3",
         "1",
         "Human Resources",
         "2",
         "Married",
         "2991",
         "5224",
         "0",
         "Y",
         "Yes",
         "11",
         "3",
         "2",
         "80",
         "1",
         "7",
         "2",
         "3",
         "6",
         "2",
         "1",
         "2"
        ],
        [
         "1",
         "2",
         "37",
         "1.0",
         "Travel_Rarely",
         "1141",
         "Research & Development",
         "11",
         "2",
         "Medical",
         "1",
         "1",
         "Female",
         "61",
         "1",
         "2",
         "Healthcare Representative",
         "2",
         "Married",
         "4777",
         "14382",
         "5",
         "Y",
         "No",
         "15",
         "3",
         "1",
         "80",
         "0",
         "15",
         "2",
         "1",
         "1",
         "0",
         "0",
         "0"
        ],
        [
         "2",
         "3",
         "51",
         "1.0",
         "Travel_Rarely",
         "1323",
         "Research & Development",
         "4",
         "4",
         "Life Sciences",
         "1",
         "1",
         "Male",
         "34",
         "3",
         "1",
         "Research Scientist",
         "3",
         "Married",
         "2461",
         "10332",
         "9",
         "Y",
         "Yes",
         "12",
         "3",
         "3",
         "80",
         "3",
         "18",
         "2",
         "4",
         "10",
         "0",
         "2",
         "7"
        ],
        [
         "3",
         "4",
         "42",
         "0.0",
         "Travel_Frequently",
         "555",
         "Sales",
         "26",
         "3",
         "Marketing",
         "1",
         "3",
         "Female",
         "77",
         "3",
         "4",
         "Sales Executive",
         "2",
         "Married",
         "13525",
         "14864",
         "5",
         "Y",
         "No",
         "14",
         "3",
         "4",
         "80",
         "1",
         "23",
         "2",
         "4",
         "20",
         "4",
         "4",
         "8"
        ],
        [
         "4",
         "5",
         "40",
         null,
         "Travel_Rarely",
         "1194",
         "Research & Development",
         "2",
         "4",
         "Medical",
         "1",
         "3",
         "Female",
         "98",
         "3",
         "1",
         "Research Scientist",
         "3",
         "Married",
         "2001",
         "12549",
         "2",
         "Y",
         "No",
         "14",
         "3",
         "2",
         "80",
         "3",
         "20",
         "2",
         "3",
         "5",
         "3",
         "0",
         "2"
        ]
       ],
       "shape": {
        "columns": 35,
        "rows": 5
       }
      },
      "text/html": [
       "<div>\n",
       "<style scoped>\n",
       "    .dataframe tbody tr th:only-of-type {\n",
       "        vertical-align: middle;\n",
       "    }\n",
       "\n",
       "    .dataframe tbody tr th {\n",
       "        vertical-align: top;\n",
       "    }\n",
       "\n",
       "    .dataframe thead th {\n",
       "        text-align: right;\n",
       "    }\n",
       "</style>\n",
       "<table border=\"1\" class=\"dataframe\">\n",
       "  <thead>\n",
       "    <tr style=\"text-align: right;\">\n",
       "      <th></th>\n",
       "      <th>EmployeeId</th>\n",
       "      <th>Age</th>\n",
       "      <th>Attrition</th>\n",
       "      <th>BusinessTravel</th>\n",
       "      <th>DailyRate</th>\n",
       "      <th>Department</th>\n",
       "      <th>DistanceFromHome</th>\n",
       "      <th>Education</th>\n",
       "      <th>EducationField</th>\n",
       "      <th>EmployeeCount</th>\n",
       "      <th>...</th>\n",
       "      <th>RelationshipSatisfaction</th>\n",
       "      <th>StandardHours</th>\n",
       "      <th>StockOptionLevel</th>\n",
       "      <th>TotalWorkingYears</th>\n",
       "      <th>TrainingTimesLastYear</th>\n",
       "      <th>WorkLifeBalance</th>\n",
       "      <th>YearsAtCompany</th>\n",
       "      <th>YearsInCurrentRole</th>\n",
       "      <th>YearsSinceLastPromotion</th>\n",
       "      <th>YearsWithCurrManager</th>\n",
       "    </tr>\n",
       "  </thead>\n",
       "  <tbody>\n",
       "    <tr>\n",
       "      <th>0</th>\n",
       "      <td>1</td>\n",
       "      <td>38</td>\n",
       "      <td>NaN</td>\n",
       "      <td>Travel_Frequently</td>\n",
       "      <td>1444</td>\n",
       "      <td>Human Resources</td>\n",
       "      <td>1</td>\n",
       "      <td>4</td>\n",
       "      <td>Other</td>\n",
       "      <td>1</td>\n",
       "      <td>...</td>\n",
       "      <td>2</td>\n",
       "      <td>80</td>\n",
       "      <td>1</td>\n",
       "      <td>7</td>\n",
       "      <td>2</td>\n",
       "      <td>3</td>\n",
       "      <td>6</td>\n",
       "      <td>2</td>\n",
       "      <td>1</td>\n",
       "      <td>2</td>\n",
       "    </tr>\n",
       "    <tr>\n",
       "      <th>1</th>\n",
       "      <td>2</td>\n",
       "      <td>37</td>\n",
       "      <td>1.0</td>\n",
       "      <td>Travel_Rarely</td>\n",
       "      <td>1141</td>\n",
       "      <td>Research &amp; Development</td>\n",
       "      <td>11</td>\n",
       "      <td>2</td>\n",
       "      <td>Medical</td>\n",
       "      <td>1</td>\n",
       "      <td>...</td>\n",
       "      <td>1</td>\n",
       "      <td>80</td>\n",
       "      <td>0</td>\n",
       "      <td>15</td>\n",
       "      <td>2</td>\n",
       "      <td>1</td>\n",
       "      <td>1</td>\n",
       "      <td>0</td>\n",
       "      <td>0</td>\n",
       "      <td>0</td>\n",
       "    </tr>\n",
       "    <tr>\n",
       "      <th>2</th>\n",
       "      <td>3</td>\n",
       "      <td>51</td>\n",
       "      <td>1.0</td>\n",
       "      <td>Travel_Rarely</td>\n",
       "      <td>1323</td>\n",
       "      <td>Research &amp; Development</td>\n",
       "      <td>4</td>\n",
       "      <td>4</td>\n",
       "      <td>Life Sciences</td>\n",
       "      <td>1</td>\n",
       "      <td>...</td>\n",
       "      <td>3</td>\n",
       "      <td>80</td>\n",
       "      <td>3</td>\n",
       "      <td>18</td>\n",
       "      <td>2</td>\n",
       "      <td>4</td>\n",
       "      <td>10</td>\n",
       "      <td>0</td>\n",
       "      <td>2</td>\n",
       "      <td>7</td>\n",
       "    </tr>\n",
       "    <tr>\n",
       "      <th>3</th>\n",
       "      <td>4</td>\n",
       "      <td>42</td>\n",
       "      <td>0.0</td>\n",
       "      <td>Travel_Frequently</td>\n",
       "      <td>555</td>\n",
       "      <td>Sales</td>\n",
       "      <td>26</td>\n",
       "      <td>3</td>\n",
       "      <td>Marketing</td>\n",
       "      <td>1</td>\n",
       "      <td>...</td>\n",
       "      <td>4</td>\n",
       "      <td>80</td>\n",
       "      <td>1</td>\n",
       "      <td>23</td>\n",
       "      <td>2</td>\n",
       "      <td>4</td>\n",
       "      <td>20</td>\n",
       "      <td>4</td>\n",
       "      <td>4</td>\n",
       "      <td>8</td>\n",
       "    </tr>\n",
       "    <tr>\n",
       "      <th>4</th>\n",
       "      <td>5</td>\n",
       "      <td>40</td>\n",
       "      <td>NaN</td>\n",
       "      <td>Travel_Rarely</td>\n",
       "      <td>1194</td>\n",
       "      <td>Research &amp; Development</td>\n",
       "      <td>2</td>\n",
       "      <td>4</td>\n",
       "      <td>Medical</td>\n",
       "      <td>1</td>\n",
       "      <td>...</td>\n",
       "      <td>2</td>\n",
       "      <td>80</td>\n",
       "      <td>3</td>\n",
       "      <td>20</td>\n",
       "      <td>2</td>\n",
       "      <td>3</td>\n",
       "      <td>5</td>\n",
       "      <td>3</td>\n",
       "      <td>0</td>\n",
       "      <td>2</td>\n",
       "    </tr>\n",
       "  </tbody>\n",
       "</table>\n",
       "<p>5 rows × 35 columns</p>\n",
       "</div>"
      ],
      "text/plain": [
       "   EmployeeId  Age  Attrition     BusinessTravel  DailyRate  \\\n",
       "0           1   38        NaN  Travel_Frequently       1444   \n",
       "1           2   37        1.0      Travel_Rarely       1141   \n",
       "2           3   51        1.0      Travel_Rarely       1323   \n",
       "3           4   42        0.0  Travel_Frequently        555   \n",
       "4           5   40        NaN      Travel_Rarely       1194   \n",
       "\n",
       "               Department  DistanceFromHome  Education EducationField  \\\n",
       "0         Human Resources                 1          4          Other   \n",
       "1  Research & Development                11          2        Medical   \n",
       "2  Research & Development                 4          4  Life Sciences   \n",
       "3                   Sales                26          3      Marketing   \n",
       "4  Research & Development                 2          4        Medical   \n",
       "\n",
       "   EmployeeCount  ...  RelationshipSatisfaction StandardHours  \\\n",
       "0              1  ...                         2            80   \n",
       "1              1  ...                         1            80   \n",
       "2              1  ...                         3            80   \n",
       "3              1  ...                         4            80   \n",
       "4              1  ...                         2            80   \n",
       "\n",
       "   StockOptionLevel  TotalWorkingYears  TrainingTimesLastYear WorkLifeBalance  \\\n",
       "0                 1                  7                      2               3   \n",
       "1                 0                 15                      2               1   \n",
       "2                 3                 18                      2               4   \n",
       "3                 1                 23                      2               4   \n",
       "4                 3                 20                      2               3   \n",
       "\n",
       "   YearsAtCompany YearsInCurrentRole  YearsSinceLastPromotion  \\\n",
       "0               6                  2                        1   \n",
       "1               1                  0                        0   \n",
       "2              10                  0                        2   \n",
       "3              20                  4                        4   \n",
       "4               5                  3                        0   \n",
       "\n",
       "   YearsWithCurrManager  \n",
       "0                     2  \n",
       "1                     0  \n",
       "2                     7  \n",
       "3                     8  \n",
       "4                     2  \n",
       "\n",
       "[5 rows x 35 columns]"
      ]
     },
     "metadata": {},
     "output_type": "display_data"
    }
   ],
   "source": [
    "# Baca file CSV\n",
    "df = pd.read_csv('./data/employee_data.csv')\n",
    "\n",
    "# Tampilkan 5 baris pertama untuk melihat struktur data\n",
    "display(df.head())"
   ]
  },
  {
   "cell_type": "code",
   "execution_count": 35,
   "id": "64a46edc",
   "metadata": {},
   "outputs": [
    {
     "name": "stdout",
     "output_type": "stream",
     "text": [
      "Ukuran dataset: (1470, 35)\n",
      "\n",
      "Informasi tentang tipe data:\n",
      "<class 'pandas.core.frame.DataFrame'>\n",
      "RangeIndex: 1470 entries, 0 to 1469\n",
      "Data columns (total 35 columns):\n",
      " #   Column                    Non-Null Count  Dtype  \n",
      "---  ------                    --------------  -----  \n",
      " 0   EmployeeId                1470 non-null   int64  \n",
      " 1   Age                       1470 non-null   int64  \n",
      " 2   Attrition                 1058 non-null   float64\n",
      " 3   BusinessTravel            1470 non-null   object \n",
      " 4   DailyRate                 1470 non-null   int64  \n",
      " 5   Department                1470 non-null   object \n",
      " 6   DistanceFromHome          1470 non-null   int64  \n",
      " 7   Education                 1470 non-null   int64  \n",
      " 8   EducationField            1470 non-null   object \n",
      " 9   EmployeeCount             1470 non-null   int64  \n",
      " 10  EnvironmentSatisfaction   1470 non-null   int64  \n",
      " 11  Gender                    1470 non-null   object \n",
      " 12  HourlyRate                1470 non-null   int64  \n",
      " 13  JobInvolvement            1470 non-null   int64  \n",
      " 14  JobLevel                  1470 non-null   int64  \n",
      " 15  JobRole                   1470 non-null   object \n",
      " 16  JobSatisfaction           1470 non-null   int64  \n",
      " 17  MaritalStatus             1470 non-null   object \n",
      " 18  MonthlyIncome             1470 non-null   int64  \n",
      " 19  MonthlyRate               1470 non-null   int64  \n",
      " 20  NumCompaniesWorked        1470 non-null   int64  \n",
      " 21  Over18                    1470 non-null   object \n",
      " 22  OverTime                  1470 non-null   object \n",
      " 23  PercentSalaryHike         1470 non-null   int64  \n",
      " 24  PerformanceRating         1470 non-null   int64  \n",
      " 25  RelationshipSatisfaction  1470 non-null   int64  \n",
      " 26  StandardHours             1470 non-null   int64  \n",
      " 27  StockOptionLevel          1470 non-null   int64  \n",
      " 28  TotalWorkingYears         1470 non-null   int64  \n",
      " 29  TrainingTimesLastYear     1470 non-null   int64  \n",
      " 30  WorkLifeBalance           1470 non-null   int64  \n",
      " 31  YearsAtCompany            1470 non-null   int64  \n",
      " 32  YearsInCurrentRole        1470 non-null   int64  \n",
      " 33  YearsSinceLastPromotion   1470 non-null   int64  \n",
      " 34  YearsWithCurrManager      1470 non-null   int64  \n",
      "dtypes: float64(1), int64(26), object(8)\n",
      "memory usage: 402.1+ KB\n"
     ]
    },
    {
     "data": {
      "text/plain": [
       "None"
      ]
     },
     "metadata": {},
     "output_type": "display_data"
    }
   ],
   "source": [
    "# Informasi tentang dataset\n",
    "print(\"Ukuran dataset:\", df.shape)\n",
    "print(\"\\nInformasi tentang tipe data:\")\n",
    "display(df.info())"
   ]
  },
  {
   "cell_type": "code",
   "execution_count": 36,
   "id": "bd2702f6",
   "metadata": {},
   "outputs": [
    {
     "data": {
      "application/vnd.microsoft.datawrangler.viewer.v0+json": {
       "columns": [
        {
         "name": "index",
         "rawType": "object",
         "type": "string"
        },
        {
         "name": "EmployeeId",
         "rawType": "float64",
         "type": "float"
        },
        {
         "name": "Age",
         "rawType": "float64",
         "type": "float"
        },
        {
         "name": "Attrition",
         "rawType": "float64",
         "type": "float"
        },
        {
         "name": "DailyRate",
         "rawType": "float64",
         "type": "float"
        },
        {
         "name": "DistanceFromHome",
         "rawType": "float64",
         "type": "float"
        },
        {
         "name": "Education",
         "rawType": "float64",
         "type": "float"
        },
        {
         "name": "EmployeeCount",
         "rawType": "float64",
         "type": "float"
        },
        {
         "name": "EnvironmentSatisfaction",
         "rawType": "float64",
         "type": "float"
        },
        {
         "name": "HourlyRate",
         "rawType": "float64",
         "type": "float"
        },
        {
         "name": "JobInvolvement",
         "rawType": "float64",
         "type": "float"
        },
        {
         "name": "JobLevel",
         "rawType": "float64",
         "type": "float"
        },
        {
         "name": "JobSatisfaction",
         "rawType": "float64",
         "type": "float"
        },
        {
         "name": "MonthlyIncome",
         "rawType": "float64",
         "type": "float"
        },
        {
         "name": "MonthlyRate",
         "rawType": "float64",
         "type": "float"
        },
        {
         "name": "NumCompaniesWorked",
         "rawType": "float64",
         "type": "float"
        },
        {
         "name": "PercentSalaryHike",
         "rawType": "float64",
         "type": "float"
        },
        {
         "name": "PerformanceRating",
         "rawType": "float64",
         "type": "float"
        },
        {
         "name": "RelationshipSatisfaction",
         "rawType": "float64",
         "type": "float"
        },
        {
         "name": "StandardHours",
         "rawType": "float64",
         "type": "float"
        },
        {
         "name": "StockOptionLevel",
         "rawType": "float64",
         "type": "float"
        },
        {
         "name": "TotalWorkingYears",
         "rawType": "float64",
         "type": "float"
        },
        {
         "name": "TrainingTimesLastYear",
         "rawType": "float64",
         "type": "float"
        },
        {
         "name": "WorkLifeBalance",
         "rawType": "float64",
         "type": "float"
        },
        {
         "name": "YearsAtCompany",
         "rawType": "float64",
         "type": "float"
        },
        {
         "name": "YearsInCurrentRole",
         "rawType": "float64",
         "type": "float"
        },
        {
         "name": "YearsSinceLastPromotion",
         "rawType": "float64",
         "type": "float"
        },
        {
         "name": "YearsWithCurrManager",
         "rawType": "float64",
         "type": "float"
        }
       ],
       "conversionMethod": "pd.DataFrame",
       "ref": "8fe16dc6-bfbf-4a05-bfeb-2645c62c7ce0",
       "rows": [
        [
         "count",
         "1470.0",
         "1470.0",
         "1058.0",
         "1470.0",
         "1470.0",
         "1470.0",
         "1470.0",
         "1470.0",
         "1470.0",
         "1470.0",
         "1470.0",
         "1470.0",
         "1470.0",
         "1470.0",
         "1470.0",
         "1470.0",
         "1470.0",
         "1470.0",
         "1470.0",
         "1470.0",
         "1470.0",
         "1470.0",
         "1470.0",
         "1470.0",
         "1470.0",
         "1470.0",
         "1470.0"
        ],
        [
         "mean",
         "735.5",
         "36.923809523809524",
         "0.16918714555765596",
         "802.4857142857143",
         "9.19251700680272",
         "2.912925170068027",
         "1.0",
         "2.721768707482993",
         "65.89115646258503",
         "2.7299319727891156",
         "2.0639455782312925",
         "2.7285714285714286",
         "6502.931292517007",
         "14313.103401360544",
         "2.6931972789115646",
         "15.209523809523809",
         "3.1537414965986397",
         "2.7122448979591836",
         "80.0",
         "0.7938775510204081",
         "11.279591836734694",
         "2.7993197278911564",
         "2.7612244897959184",
         "7.0081632653061225",
         "4.229251700680272",
         "2.1877551020408164",
         "4.12312925170068"
        ],
        [
         "std",
         "424.49676088281285",
         "9.135373489136732",
         "0.37509443900105627",
         "403.50909994352816",
         "8.106864435666074",
         "1.0241649445978729",
         "0.0",
         "1.0930822146350005",
         "20.329427593996165",
         "0.7115611429632305",
         "1.106939898935122",
         "1.1028461230547204",
         "4707.956783097994",
         "7117.786044059976",
         "2.498009006070747",
         "3.6599377165396407",
         "0.36082352460434397",
         "1.0812088864403524",
         "0.0",
         "0.852076667930838",
         "7.780781675514998",
         "1.2892706207958455",
         "0.7064758297141507",
         "6.126525152403569",
         "3.623137034670628",
         "3.222430279137967",
         "3.5681361205404376"
        ],
        [
         "min",
         "1.0",
         "18.0",
         "0.0",
         "102.0",
         "1.0",
         "1.0",
         "1.0",
         "1.0",
         "30.0",
         "1.0",
         "1.0",
         "1.0",
         "1009.0",
         "2094.0",
         "0.0",
         "11.0",
         "3.0",
         "1.0",
         "80.0",
         "0.0",
         "0.0",
         "0.0",
         "1.0",
         "0.0",
         "0.0",
         "0.0",
         "0.0"
        ],
        [
         "25%",
         "368.25",
         "30.0",
         "0.0",
         "465.0",
         "2.0",
         "2.0",
         "1.0",
         "2.0",
         "48.0",
         "2.0",
         "1.0",
         "2.0",
         "2911.0",
         "8047.0",
         "1.0",
         "12.0",
         "3.0",
         "2.0",
         "80.0",
         "0.0",
         "6.0",
         "2.0",
         "2.0",
         "3.0",
         "2.0",
         "0.0",
         "2.0"
        ],
        [
         "50%",
         "735.5",
         "36.0",
         "0.0",
         "802.0",
         "7.0",
         "3.0",
         "1.0",
         "3.0",
         "66.0",
         "3.0",
         "2.0",
         "3.0",
         "4919.0",
         "14235.5",
         "2.0",
         "14.0",
         "3.0",
         "3.0",
         "80.0",
         "1.0",
         "10.0",
         "3.0",
         "3.0",
         "5.0",
         "3.0",
         "1.0",
         "3.0"
        ],
        [
         "75%",
         "1102.75",
         "43.0",
         "0.0",
         "1157.0",
         "14.0",
         "4.0",
         "1.0",
         "4.0",
         "83.75",
         "3.0",
         "3.0",
         "4.0",
         "8379.0",
         "20461.5",
         "4.0",
         "18.0",
         "3.0",
         "4.0",
         "80.0",
         "1.0",
         "15.0",
         "3.0",
         "3.0",
         "9.0",
         "7.0",
         "3.0",
         "7.0"
        ],
        [
         "max",
         "1470.0",
         "60.0",
         "1.0",
         "1499.0",
         "29.0",
         "5.0",
         "1.0",
         "4.0",
         "100.0",
         "4.0",
         "5.0",
         "4.0",
         "19999.0",
         "26999.0",
         "9.0",
         "25.0",
         "4.0",
         "4.0",
         "80.0",
         "3.0",
         "40.0",
         "6.0",
         "4.0",
         "40.0",
         "18.0",
         "15.0",
         "17.0"
        ]
       ],
       "shape": {
        "columns": 27,
        "rows": 8
       }
      },
      "text/html": [
       "<div>\n",
       "<style scoped>\n",
       "    .dataframe tbody tr th:only-of-type {\n",
       "        vertical-align: middle;\n",
       "    }\n",
       "\n",
       "    .dataframe tbody tr th {\n",
       "        vertical-align: top;\n",
       "    }\n",
       "\n",
       "    .dataframe thead th {\n",
       "        text-align: right;\n",
       "    }\n",
       "</style>\n",
       "<table border=\"1\" class=\"dataframe\">\n",
       "  <thead>\n",
       "    <tr style=\"text-align: right;\">\n",
       "      <th></th>\n",
       "      <th>EmployeeId</th>\n",
       "      <th>Age</th>\n",
       "      <th>Attrition</th>\n",
       "      <th>DailyRate</th>\n",
       "      <th>DistanceFromHome</th>\n",
       "      <th>Education</th>\n",
       "      <th>EmployeeCount</th>\n",
       "      <th>EnvironmentSatisfaction</th>\n",
       "      <th>HourlyRate</th>\n",
       "      <th>JobInvolvement</th>\n",
       "      <th>...</th>\n",
       "      <th>RelationshipSatisfaction</th>\n",
       "      <th>StandardHours</th>\n",
       "      <th>StockOptionLevel</th>\n",
       "      <th>TotalWorkingYears</th>\n",
       "      <th>TrainingTimesLastYear</th>\n",
       "      <th>WorkLifeBalance</th>\n",
       "      <th>YearsAtCompany</th>\n",
       "      <th>YearsInCurrentRole</th>\n",
       "      <th>YearsSinceLastPromotion</th>\n",
       "      <th>YearsWithCurrManager</th>\n",
       "    </tr>\n",
       "  </thead>\n",
       "  <tbody>\n",
       "    <tr>\n",
       "      <th>count</th>\n",
       "      <td>1470.000000</td>\n",
       "      <td>1470.000000</td>\n",
       "      <td>1058.000000</td>\n",
       "      <td>1470.000000</td>\n",
       "      <td>1470.000000</td>\n",
       "      <td>1470.000000</td>\n",
       "      <td>1470.0</td>\n",
       "      <td>1470.000000</td>\n",
       "      <td>1470.000000</td>\n",
       "      <td>1470.000000</td>\n",
       "      <td>...</td>\n",
       "      <td>1470.000000</td>\n",
       "      <td>1470.0</td>\n",
       "      <td>1470.000000</td>\n",
       "      <td>1470.000000</td>\n",
       "      <td>1470.000000</td>\n",
       "      <td>1470.000000</td>\n",
       "      <td>1470.000000</td>\n",
       "      <td>1470.000000</td>\n",
       "      <td>1470.000000</td>\n",
       "      <td>1470.000000</td>\n",
       "    </tr>\n",
       "    <tr>\n",
       "      <th>mean</th>\n",
       "      <td>735.500000</td>\n",
       "      <td>36.923810</td>\n",
       "      <td>0.169187</td>\n",
       "      <td>802.485714</td>\n",
       "      <td>9.192517</td>\n",
       "      <td>2.912925</td>\n",
       "      <td>1.0</td>\n",
       "      <td>2.721769</td>\n",
       "      <td>65.891156</td>\n",
       "      <td>2.729932</td>\n",
       "      <td>...</td>\n",
       "      <td>2.712245</td>\n",
       "      <td>80.0</td>\n",
       "      <td>0.793878</td>\n",
       "      <td>11.279592</td>\n",
       "      <td>2.799320</td>\n",
       "      <td>2.761224</td>\n",
       "      <td>7.008163</td>\n",
       "      <td>4.229252</td>\n",
       "      <td>2.187755</td>\n",
       "      <td>4.123129</td>\n",
       "    </tr>\n",
       "    <tr>\n",
       "      <th>std</th>\n",
       "      <td>424.496761</td>\n",
       "      <td>9.135373</td>\n",
       "      <td>0.375094</td>\n",
       "      <td>403.509100</td>\n",
       "      <td>8.106864</td>\n",
       "      <td>1.024165</td>\n",
       "      <td>0.0</td>\n",
       "      <td>1.093082</td>\n",
       "      <td>20.329428</td>\n",
       "      <td>0.711561</td>\n",
       "      <td>...</td>\n",
       "      <td>1.081209</td>\n",
       "      <td>0.0</td>\n",
       "      <td>0.852077</td>\n",
       "      <td>7.780782</td>\n",
       "      <td>1.289271</td>\n",
       "      <td>0.706476</td>\n",
       "      <td>6.126525</td>\n",
       "      <td>3.623137</td>\n",
       "      <td>3.222430</td>\n",
       "      <td>3.568136</td>\n",
       "    </tr>\n",
       "    <tr>\n",
       "      <th>min</th>\n",
       "      <td>1.000000</td>\n",
       "      <td>18.000000</td>\n",
       "      <td>0.000000</td>\n",
       "      <td>102.000000</td>\n",
       "      <td>1.000000</td>\n",
       "      <td>1.000000</td>\n",
       "      <td>1.0</td>\n",
       "      <td>1.000000</td>\n",
       "      <td>30.000000</td>\n",
       "      <td>1.000000</td>\n",
       "      <td>...</td>\n",
       "      <td>1.000000</td>\n",
       "      <td>80.0</td>\n",
       "      <td>0.000000</td>\n",
       "      <td>0.000000</td>\n",
       "      <td>0.000000</td>\n",
       "      <td>1.000000</td>\n",
       "      <td>0.000000</td>\n",
       "      <td>0.000000</td>\n",
       "      <td>0.000000</td>\n",
       "      <td>0.000000</td>\n",
       "    </tr>\n",
       "    <tr>\n",
       "      <th>25%</th>\n",
       "      <td>368.250000</td>\n",
       "      <td>30.000000</td>\n",
       "      <td>0.000000</td>\n",
       "      <td>465.000000</td>\n",
       "      <td>2.000000</td>\n",
       "      <td>2.000000</td>\n",
       "      <td>1.0</td>\n",
       "      <td>2.000000</td>\n",
       "      <td>48.000000</td>\n",
       "      <td>2.000000</td>\n",
       "      <td>...</td>\n",
       "      <td>2.000000</td>\n",
       "      <td>80.0</td>\n",
       "      <td>0.000000</td>\n",
       "      <td>6.000000</td>\n",
       "      <td>2.000000</td>\n",
       "      <td>2.000000</td>\n",
       "      <td>3.000000</td>\n",
       "      <td>2.000000</td>\n",
       "      <td>0.000000</td>\n",
       "      <td>2.000000</td>\n",
       "    </tr>\n",
       "    <tr>\n",
       "      <th>50%</th>\n",
       "      <td>735.500000</td>\n",
       "      <td>36.000000</td>\n",
       "      <td>0.000000</td>\n",
       "      <td>802.000000</td>\n",
       "      <td>7.000000</td>\n",
       "      <td>3.000000</td>\n",
       "      <td>1.0</td>\n",
       "      <td>3.000000</td>\n",
       "      <td>66.000000</td>\n",
       "      <td>3.000000</td>\n",
       "      <td>...</td>\n",
       "      <td>3.000000</td>\n",
       "      <td>80.0</td>\n",
       "      <td>1.000000</td>\n",
       "      <td>10.000000</td>\n",
       "      <td>3.000000</td>\n",
       "      <td>3.000000</td>\n",
       "      <td>5.000000</td>\n",
       "      <td>3.000000</td>\n",
       "      <td>1.000000</td>\n",
       "      <td>3.000000</td>\n",
       "    </tr>\n",
       "    <tr>\n",
       "      <th>75%</th>\n",
       "      <td>1102.750000</td>\n",
       "      <td>43.000000</td>\n",
       "      <td>0.000000</td>\n",
       "      <td>1157.000000</td>\n",
       "      <td>14.000000</td>\n",
       "      <td>4.000000</td>\n",
       "      <td>1.0</td>\n",
       "      <td>4.000000</td>\n",
       "      <td>83.750000</td>\n",
       "      <td>3.000000</td>\n",
       "      <td>...</td>\n",
       "      <td>4.000000</td>\n",
       "      <td>80.0</td>\n",
       "      <td>1.000000</td>\n",
       "      <td>15.000000</td>\n",
       "      <td>3.000000</td>\n",
       "      <td>3.000000</td>\n",
       "      <td>9.000000</td>\n",
       "      <td>7.000000</td>\n",
       "      <td>3.000000</td>\n",
       "      <td>7.000000</td>\n",
       "    </tr>\n",
       "    <tr>\n",
       "      <th>max</th>\n",
       "      <td>1470.000000</td>\n",
       "      <td>60.000000</td>\n",
       "      <td>1.000000</td>\n",
       "      <td>1499.000000</td>\n",
       "      <td>29.000000</td>\n",
       "      <td>5.000000</td>\n",
       "      <td>1.0</td>\n",
       "      <td>4.000000</td>\n",
       "      <td>100.000000</td>\n",
       "      <td>4.000000</td>\n",
       "      <td>...</td>\n",
       "      <td>4.000000</td>\n",
       "      <td>80.0</td>\n",
       "      <td>3.000000</td>\n",
       "      <td>40.000000</td>\n",
       "      <td>6.000000</td>\n",
       "      <td>4.000000</td>\n",
       "      <td>40.000000</td>\n",
       "      <td>18.000000</td>\n",
       "      <td>15.000000</td>\n",
       "      <td>17.000000</td>\n",
       "    </tr>\n",
       "  </tbody>\n",
       "</table>\n",
       "<p>8 rows × 27 columns</p>\n",
       "</div>"
      ],
      "text/plain": [
       "        EmployeeId          Age    Attrition    DailyRate  DistanceFromHome  \\\n",
       "count  1470.000000  1470.000000  1058.000000  1470.000000       1470.000000   \n",
       "mean    735.500000    36.923810     0.169187   802.485714          9.192517   \n",
       "std     424.496761     9.135373     0.375094   403.509100          8.106864   \n",
       "min       1.000000    18.000000     0.000000   102.000000          1.000000   \n",
       "25%     368.250000    30.000000     0.000000   465.000000          2.000000   \n",
       "50%     735.500000    36.000000     0.000000   802.000000          7.000000   \n",
       "75%    1102.750000    43.000000     0.000000  1157.000000         14.000000   \n",
       "max    1470.000000    60.000000     1.000000  1499.000000         29.000000   \n",
       "\n",
       "         Education  EmployeeCount  EnvironmentSatisfaction   HourlyRate  \\\n",
       "count  1470.000000         1470.0              1470.000000  1470.000000   \n",
       "mean      2.912925            1.0                 2.721769    65.891156   \n",
       "std       1.024165            0.0                 1.093082    20.329428   \n",
       "min       1.000000            1.0                 1.000000    30.000000   \n",
       "25%       2.000000            1.0                 2.000000    48.000000   \n",
       "50%       3.000000            1.0                 3.000000    66.000000   \n",
       "75%       4.000000            1.0                 4.000000    83.750000   \n",
       "max       5.000000            1.0                 4.000000   100.000000   \n",
       "\n",
       "       JobInvolvement  ...  RelationshipSatisfaction  StandardHours  \\\n",
       "count     1470.000000  ...               1470.000000         1470.0   \n",
       "mean         2.729932  ...                  2.712245           80.0   \n",
       "std          0.711561  ...                  1.081209            0.0   \n",
       "min          1.000000  ...                  1.000000           80.0   \n",
       "25%          2.000000  ...                  2.000000           80.0   \n",
       "50%          3.000000  ...                  3.000000           80.0   \n",
       "75%          3.000000  ...                  4.000000           80.0   \n",
       "max          4.000000  ...                  4.000000           80.0   \n",
       "\n",
       "       StockOptionLevel  TotalWorkingYears  TrainingTimesLastYear  \\\n",
       "count       1470.000000        1470.000000            1470.000000   \n",
       "mean           0.793878          11.279592               2.799320   \n",
       "std            0.852077           7.780782               1.289271   \n",
       "min            0.000000           0.000000               0.000000   \n",
       "25%            0.000000           6.000000               2.000000   \n",
       "50%            1.000000          10.000000               3.000000   \n",
       "75%            1.000000          15.000000               3.000000   \n",
       "max            3.000000          40.000000               6.000000   \n",
       "\n",
       "       WorkLifeBalance  YearsAtCompany  YearsInCurrentRole  \\\n",
       "count      1470.000000     1470.000000         1470.000000   \n",
       "mean          2.761224        7.008163            4.229252   \n",
       "std           0.706476        6.126525            3.623137   \n",
       "min           1.000000        0.000000            0.000000   \n",
       "25%           2.000000        3.000000            2.000000   \n",
       "50%           3.000000        5.000000            3.000000   \n",
       "75%           3.000000        9.000000            7.000000   \n",
       "max           4.000000       40.000000           18.000000   \n",
       "\n",
       "       YearsSinceLastPromotion  YearsWithCurrManager  \n",
       "count              1470.000000           1470.000000  \n",
       "mean                  2.187755              4.123129  \n",
       "std                   3.222430              3.568136  \n",
       "min                   0.000000              0.000000  \n",
       "25%                   0.000000              2.000000  \n",
       "50%                   1.000000              3.000000  \n",
       "75%                   3.000000              7.000000  \n",
       "max                  15.000000             17.000000  \n",
       "\n",
       "[8 rows x 27 columns]"
      ]
     },
     "metadata": {},
     "output_type": "display_data"
    }
   ],
   "source": [
    "# Statistik deskriptif data numerik\n",
    "display(df.describe())"
   ]
  },
  {
   "cell_type": "code",
   "execution_count": 44,
   "id": "6cee2e53",
   "metadata": {},
   "outputs": [
    {
     "data": {
      "text/plain": [
       "EmployeeId                    0\n",
       "Age                           0\n",
       "Attrition                   412\n",
       "BusinessTravel                0\n",
       "DailyRate                     0\n",
       "Department                    0\n",
       "DistanceFromHome              0\n",
       "Education                     0\n",
       "EducationField                0\n",
       "EmployeeCount                 0\n",
       "EnvironmentSatisfaction       0\n",
       "Gender                        0\n",
       "HourlyRate                    0\n",
       "JobInvolvement                0\n",
       "JobLevel                      0\n",
       "JobRole                       0\n",
       "JobSatisfaction               0\n",
       "MaritalStatus                 0\n",
       "MonthlyIncome                 0\n",
       "MonthlyRate                   0\n",
       "NumCompaniesWorked            0\n",
       "Over18                        0\n",
       "OverTime                      0\n",
       "PercentSalaryHike             0\n",
       "PerformanceRating             0\n",
       "RelationshipSatisfaction      0\n",
       "StandardHours                 0\n",
       "StockOptionLevel              0\n",
       "TotalWorkingYears             0\n",
       "TrainingTimesLastYear         0\n",
       "WorkLifeBalance               0\n",
       "YearsAtCompany                0\n",
       "YearsInCurrentRole            0\n",
       "YearsSinceLastPromotion       0\n",
       "YearsWithCurrManager          0\n",
       "dtype: int64"
      ]
     },
     "execution_count": 44,
     "metadata": {},
     "output_type": "execute_result"
    }
   ],
   "source": [
    "df.isnull().sum()"
   ]
  },
  {
   "cell_type": "code",
   "execution_count": 45,
   "id": "a83c4eb3",
   "metadata": {},
   "outputs": [],
   "source": [
    "df.dropna(inplace=True)"
   ]
  },
  {
   "cell_type": "code",
   "execution_count": 46,
   "id": "e017c4bd",
   "metadata": {},
   "outputs": [
    {
     "data": {
      "text/plain": [
       "EmployeeId                  0\n",
       "Age                         0\n",
       "Attrition                   0\n",
       "BusinessTravel              0\n",
       "DailyRate                   0\n",
       "Department                  0\n",
       "DistanceFromHome            0\n",
       "Education                   0\n",
       "EducationField              0\n",
       "EmployeeCount               0\n",
       "EnvironmentSatisfaction     0\n",
       "Gender                      0\n",
       "HourlyRate                  0\n",
       "JobInvolvement              0\n",
       "JobLevel                    0\n",
       "JobRole                     0\n",
       "JobSatisfaction             0\n",
       "MaritalStatus               0\n",
       "MonthlyIncome               0\n",
       "MonthlyRate                 0\n",
       "NumCompaniesWorked          0\n",
       "Over18                      0\n",
       "OverTime                    0\n",
       "PercentSalaryHike           0\n",
       "PerformanceRating           0\n",
       "RelationshipSatisfaction    0\n",
       "StandardHours               0\n",
       "StockOptionLevel            0\n",
       "TotalWorkingYears           0\n",
       "TrainingTimesLastYear       0\n",
       "WorkLifeBalance             0\n",
       "YearsAtCompany              0\n",
       "YearsInCurrentRole          0\n",
       "YearsSinceLastPromotion     0\n",
       "YearsWithCurrManager        0\n",
       "dtype: int64"
      ]
     },
     "execution_count": 46,
     "metadata": {},
     "output_type": "execute_result"
    }
   ],
   "source": [
    "df.isnull().sum()"
   ]
  },
  {
   "cell_type": "markdown",
   "id": "b5813bf3",
   "metadata": {},
   "source": [
    "# Feature Engineering"
   ]
  },
  {
   "cell_type": "markdown",
   "id": "31a8b504",
   "metadata": {},
   "source": [
    "## Salary Category"
   ]
  },
  {
   "cell_type": "code",
   "execution_count": 47,
   "id": "2d09ab6d",
   "metadata": {},
   "outputs": [],
   "source": [
    "def salary_category(income):\n",
    "    if income < 5000:\n",
    "        return 'Rendah (< 5000)'\n",
    "    elif income < 10000:\n",
    "        return 'Sedang (5000-10000)'\n",
    "    elif income < 15000:\n",
    "        return 'Tinggi (10000-15000)'\n",
    "    else:\n",
    "        return 'Sangat Tinggi (>15000)'\n",
    "\n",
    "df['SalaryCategory'] = df['MonthlyIncome'].apply(salary_category)"
   ]
  },
  {
   "cell_type": "markdown",
   "id": "84b4fdbf",
   "metadata": {},
   "source": [
    "## Promotion Category"
   ]
  },
  {
   "cell_type": "code",
   "execution_count": 48,
   "id": "10e4b446",
   "metadata": {},
   "outputs": [],
   "source": [
    "def promotion_category(years):\n",
    "    if years == 0:\n",
    "        return 'Baru Dipromosikan'\n",
    "    elif years <= 2:\n",
    "        return '1-2 Tahun'\n",
    "    elif years <= 5:\n",
    "        return '3-5 Tahun'\n",
    "    else:\n",
    "        return '> 5 Tahun'\n",
    "\n",
    "df['PromotionCategory'] = df['YearsSinceLastPromotion'].apply(promotion_category)"
   ]
  },
  {
   "cell_type": "markdown",
   "id": "5eacbc4b",
   "metadata": {},
   "source": [
    "## Age Category"
   ]
  },
  {
   "cell_type": "code",
   "execution_count": 49,
   "id": "c597be36",
   "metadata": {},
   "outputs": [],
   "source": [
    "# Buat kategori usia\n",
    "def age_category(age):\n",
    "    if age < 30:\n",
    "        return '< 30'\n",
    "    elif age < 40:\n",
    "        return '30-39'\n",
    "    elif age < 50:\n",
    "        return '40-49'\n",
    "    else:\n",
    "        return '50+'\n",
    "\n",
    "df['AgeGroup'] = df['Age'].apply(age_category)"
   ]
  },
  {
   "cell_type": "markdown",
   "id": "a85537cd",
   "metadata": {},
   "source": [
    "## Satisfaction Category"
   ]
  },
  {
   "cell_type": "code",
   "execution_count": 50,
   "id": "d4114fa5",
   "metadata": {},
   "outputs": [],
   "source": [
    "satisfaction_cols = ['EnvironmentSatisfaction', 'JobSatisfaction', \n",
    "                     'RelationshipSatisfaction', 'WorkLifeBalance']\n",
    "satisfaction_labels = {1: 'Rendah', 2: 'Sedang', 3: 'Tinggi', 4: 'Sangat Tinggi'}\n",
    "\n",
    "df_satisfaction = df.copy()\n",
    "for col in satisfaction_cols:\n",
    "    df_satisfaction[col] = df_satisfaction[col].map(satisfaction_labels)"
   ]
  },
  {
   "cell_type": "markdown",
   "id": "29ce82d1",
   "metadata": {},
   "source": [
    "# Exploratory Data Analysis (EDA)"
   ]
  },
  {
   "cell_type": "markdown",
   "id": "7d99e7c4",
   "metadata": {},
   "source": [
    "## Analisis Univariate"
   ]
  },
  {
   "cell_type": "markdown",
   "id": "239c719e",
   "metadata": {},
   "source": [
    "### Distribusi Attrition"
   ]
  },
  {
   "cell_type": "code",
   "execution_count": 83,
   "id": "2f6e1ae2",
   "metadata": {},
   "outputs": [
    {
     "name": "stdout",
     "output_type": "stream",
     "text": [
      "Distribusi Attrition:\n"
     ]
    },
    {
     "data": {
      "application/vnd.microsoft.datawrangler.viewer.v0+json": {
       "columns": [
        {
         "name": "Attrition",
         "rawType": "float64",
         "type": "float"
        },
        {
         "name": "Count",
         "rawType": "int64",
         "type": "integer"
        },
        {
         "name": "Percentage",
         "rawType": "float64",
         "type": "float"
        }
       ],
       "conversionMethod": "pd.DataFrame",
       "ref": "5c6114fc-bebc-4477-aa40-9600e4493453",
       "rows": [
        [
         "0.0",
         "879",
         "83.08128544423441"
        ],
        [
         "1.0",
         "179",
         "16.918714555765597"
        ]
       ],
       "shape": {
        "columns": 2,
        "rows": 2
       }
      },
      "text/html": [
       "<div>\n",
       "<style scoped>\n",
       "    .dataframe tbody tr th:only-of-type {\n",
       "        vertical-align: middle;\n",
       "    }\n",
       "\n",
       "    .dataframe tbody tr th {\n",
       "        vertical-align: top;\n",
       "    }\n",
       "\n",
       "    .dataframe thead th {\n",
       "        text-align: right;\n",
       "    }\n",
       "</style>\n",
       "<table border=\"1\" class=\"dataframe\">\n",
       "  <thead>\n",
       "    <tr style=\"text-align: right;\">\n",
       "      <th></th>\n",
       "      <th>Count</th>\n",
       "      <th>Percentage</th>\n",
       "    </tr>\n",
       "    <tr>\n",
       "      <th>Attrition</th>\n",
       "      <th></th>\n",
       "      <th></th>\n",
       "    </tr>\n",
       "  </thead>\n",
       "  <tbody>\n",
       "    <tr>\n",
       "      <th>0.0</th>\n",
       "      <td>879</td>\n",
       "      <td>83.081285</td>\n",
       "    </tr>\n",
       "    <tr>\n",
       "      <th>1.0</th>\n",
       "      <td>179</td>\n",
       "      <td>16.918715</td>\n",
       "    </tr>\n",
       "  </tbody>\n",
       "</table>\n",
       "</div>"
      ],
      "text/plain": [
       "           Count  Percentage\n",
       "Attrition                   \n",
       "0.0          879   83.081285\n",
       "1.0          179   16.918715"
      ]
     },
     "metadata": {},
     "output_type": "display_data"
    },
    {
     "data": {
      "application/vnd.plotly.v1+json": {
       "config": {
        "plotlyServerURL": "https://plot.ly"
       },
       "data": [
        {
         "domain": {
          "x": [
           0,
           1
          ],
          "y": [
           0,
           1
          ]
         },
         "hole": 0.4,
         "hovertemplate": "label=%{label}<br>value=%{value}<extra></extra>",
         "labels": [
          "Tidak Keluar",
          "Keluar"
         ],
         "legendgroup": "",
         "name": "",
         "showlegend": true,
         "textinfo": "percent+label",
         "textposition": "inside",
         "type": "pie",
         "values": {
          "bdata": "bwOzAA==",
          "dtype": "i2"
         }
        }
       ],
       "layout": {
        "legend": {
         "tracegroupgap": 0
        },
        "piecolorway": [
         "rgb(141,211,199)",
         "rgb(255,255,179)",
         "rgb(190,186,218)",
         "rgb(251,128,114)",
         "rgb(128,177,211)",
         "rgb(253,180,98)",
         "rgb(179,222,105)",
         "rgb(252,205,229)",
         "rgb(217,217,217)",
         "rgb(188,128,189)",
         "rgb(204,235,197)",
         "rgb(255,237,111)"
        ],
        "template": {
         "data": {
          "bar": [
           {
            "error_x": {
             "color": "#2a3f5f"
            },
            "error_y": {
             "color": "#2a3f5f"
            },
            "marker": {
             "line": {
              "color": "#E5ECF6",
              "width": 0.5
             },
             "pattern": {
              "fillmode": "overlay",
              "size": 10,
              "solidity": 0.2
             }
            },
            "type": "bar"
           }
          ],
          "barpolar": [
           {
            "marker": {
             "line": {
              "color": "#E5ECF6",
              "width": 0.5
             },
             "pattern": {
              "fillmode": "overlay",
              "size": 10,
              "solidity": 0.2
             }
            },
            "type": "barpolar"
           }
          ],
          "carpet": [
           {
            "aaxis": {
             "endlinecolor": "#2a3f5f",
             "gridcolor": "white",
             "linecolor": "white",
             "minorgridcolor": "white",
             "startlinecolor": "#2a3f5f"
            },
            "baxis": {
             "endlinecolor": "#2a3f5f",
             "gridcolor": "white",
             "linecolor": "white",
             "minorgridcolor": "white",
             "startlinecolor": "#2a3f5f"
            },
            "type": "carpet"
           }
          ],
          "choropleth": [
           {
            "colorbar": {
             "outlinewidth": 0,
             "ticks": ""
            },
            "type": "choropleth"
           }
          ],
          "contour": [
           {
            "colorbar": {
             "outlinewidth": 0,
             "ticks": ""
            },
            "colorscale": [
             [
              0,
              "#0d0887"
             ],
             [
              0.1111111111111111,
              "#46039f"
             ],
             [
              0.2222222222222222,
              "#7201a8"
             ],
             [
              0.3333333333333333,
              "#9c179e"
             ],
             [
              0.4444444444444444,
              "#bd3786"
             ],
             [
              0.5555555555555556,
              "#d8576b"
             ],
             [
              0.6666666666666666,
              "#ed7953"
             ],
             [
              0.7777777777777778,
              "#fb9f3a"
             ],
             [
              0.8888888888888888,
              "#fdca26"
             ],
             [
              1,
              "#f0f921"
             ]
            ],
            "type": "contour"
           }
          ],
          "contourcarpet": [
           {
            "colorbar": {
             "outlinewidth": 0,
             "ticks": ""
            },
            "type": "contourcarpet"
           }
          ],
          "heatmap": [
           {
            "colorbar": {
             "outlinewidth": 0,
             "ticks": ""
            },
            "colorscale": [
             [
              0,
              "#0d0887"
             ],
             [
              0.1111111111111111,
              "#46039f"
             ],
             [
              0.2222222222222222,
              "#7201a8"
             ],
             [
              0.3333333333333333,
              "#9c179e"
             ],
             [
              0.4444444444444444,
              "#bd3786"
             ],
             [
              0.5555555555555556,
              "#d8576b"
             ],
             [
              0.6666666666666666,
              "#ed7953"
             ],
             [
              0.7777777777777778,
              "#fb9f3a"
             ],
             [
              0.8888888888888888,
              "#fdca26"
             ],
             [
              1,
              "#f0f921"
             ]
            ],
            "type": "heatmap"
           }
          ],
          "histogram": [
           {
            "marker": {
             "pattern": {
              "fillmode": "overlay",
              "size": 10,
              "solidity": 0.2
             }
            },
            "type": "histogram"
           }
          ],
          "histogram2d": [
           {
            "colorbar": {
             "outlinewidth": 0,
             "ticks": ""
            },
            "colorscale": [
             [
              0,
              "#0d0887"
             ],
             [
              0.1111111111111111,
              "#46039f"
             ],
             [
              0.2222222222222222,
              "#7201a8"
             ],
             [
              0.3333333333333333,
              "#9c179e"
             ],
             [
              0.4444444444444444,
              "#bd3786"
             ],
             [
              0.5555555555555556,
              "#d8576b"
             ],
             [
              0.6666666666666666,
              "#ed7953"
             ],
             [
              0.7777777777777778,
              "#fb9f3a"
             ],
             [
              0.8888888888888888,
              "#fdca26"
             ],
             [
              1,
              "#f0f921"
             ]
            ],
            "type": "histogram2d"
           }
          ],
          "histogram2dcontour": [
           {
            "colorbar": {
             "outlinewidth": 0,
             "ticks": ""
            },
            "colorscale": [
             [
              0,
              "#0d0887"
             ],
             [
              0.1111111111111111,
              "#46039f"
             ],
             [
              0.2222222222222222,
              "#7201a8"
             ],
             [
              0.3333333333333333,
              "#9c179e"
             ],
             [
              0.4444444444444444,
              "#bd3786"
             ],
             [
              0.5555555555555556,
              "#d8576b"
             ],
             [
              0.6666666666666666,
              "#ed7953"
             ],
             [
              0.7777777777777778,
              "#fb9f3a"
             ],
             [
              0.8888888888888888,
              "#fdca26"
             ],
             [
              1,
              "#f0f921"
             ]
            ],
            "type": "histogram2dcontour"
           }
          ],
          "mesh3d": [
           {
            "colorbar": {
             "outlinewidth": 0,
             "ticks": ""
            },
            "type": "mesh3d"
           }
          ],
          "parcoords": [
           {
            "line": {
             "colorbar": {
              "outlinewidth": 0,
              "ticks": ""
             }
            },
            "type": "parcoords"
           }
          ],
          "pie": [
           {
            "automargin": true,
            "type": "pie"
           }
          ],
          "scatter": [
           {
            "fillpattern": {
             "fillmode": "overlay",
             "size": 10,
             "solidity": 0.2
            },
            "type": "scatter"
           }
          ],
          "scatter3d": [
           {
            "line": {
             "colorbar": {
              "outlinewidth": 0,
              "ticks": ""
             }
            },
            "marker": {
             "colorbar": {
              "outlinewidth": 0,
              "ticks": ""
             }
            },
            "type": "scatter3d"
           }
          ],
          "scattercarpet": [
           {
            "marker": {
             "colorbar": {
              "outlinewidth": 0,
              "ticks": ""
             }
            },
            "type": "scattercarpet"
           }
          ],
          "scattergeo": [
           {
            "marker": {
             "colorbar": {
              "outlinewidth": 0,
              "ticks": ""
             }
            },
            "type": "scattergeo"
           }
          ],
          "scattergl": [
           {
            "marker": {
             "colorbar": {
              "outlinewidth": 0,
              "ticks": ""
             }
            },
            "type": "scattergl"
           }
          ],
          "scattermap": [
           {
            "marker": {
             "colorbar": {
              "outlinewidth": 0,
              "ticks": ""
             }
            },
            "type": "scattermap"
           }
          ],
          "scattermapbox": [
           {
            "marker": {
             "colorbar": {
              "outlinewidth": 0,
              "ticks": ""
             }
            },
            "type": "scattermapbox"
           }
          ],
          "scatterpolar": [
           {
            "marker": {
             "colorbar": {
              "outlinewidth": 0,
              "ticks": ""
             }
            },
            "type": "scatterpolar"
           }
          ],
          "scatterpolargl": [
           {
            "marker": {
             "colorbar": {
              "outlinewidth": 0,
              "ticks": ""
             }
            },
            "type": "scatterpolargl"
           }
          ],
          "scatterternary": [
           {
            "marker": {
             "colorbar": {
              "outlinewidth": 0,
              "ticks": ""
             }
            },
            "type": "scatterternary"
           }
          ],
          "surface": [
           {
            "colorbar": {
             "outlinewidth": 0,
             "ticks": ""
            },
            "colorscale": [
             [
              0,
              "#0d0887"
             ],
             [
              0.1111111111111111,
              "#46039f"
             ],
             [
              0.2222222222222222,
              "#7201a8"
             ],
             [
              0.3333333333333333,
              "#9c179e"
             ],
             [
              0.4444444444444444,
              "#bd3786"
             ],
             [
              0.5555555555555556,
              "#d8576b"
             ],
             [
              0.6666666666666666,
              "#ed7953"
             ],
             [
              0.7777777777777778,
              "#fb9f3a"
             ],
             [
              0.8888888888888888,
              "#fdca26"
             ],
             [
              1,
              "#f0f921"
             ]
            ],
            "type": "surface"
           }
          ],
          "table": [
           {
            "cells": {
             "fill": {
              "color": "#EBF0F8"
             },
             "line": {
              "color": "white"
             }
            },
            "header": {
             "fill": {
              "color": "#C8D4E3"
             },
             "line": {
              "color": "white"
             }
            },
            "type": "table"
           }
          ]
         },
         "layout": {
          "annotationdefaults": {
           "arrowcolor": "#2a3f5f",
           "arrowhead": 0,
           "arrowwidth": 1
          },
          "autotypenumbers": "strict",
          "coloraxis": {
           "colorbar": {
            "outlinewidth": 0,
            "ticks": ""
           }
          },
          "colorscale": {
           "diverging": [
            [
             0,
             "#8e0152"
            ],
            [
             0.1,
             "#c51b7d"
            ],
            [
             0.2,
             "#de77ae"
            ],
            [
             0.3,
             "#f1b6da"
            ],
            [
             0.4,
             "#fde0ef"
            ],
            [
             0.5,
             "#f7f7f7"
            ],
            [
             0.6,
             "#e6f5d0"
            ],
            [
             0.7,
             "#b8e186"
            ],
            [
             0.8,
             "#7fbc41"
            ],
            [
             0.9,
             "#4d9221"
            ],
            [
             1,
             "#276419"
            ]
           ],
           "sequential": [
            [
             0,
             "#0d0887"
            ],
            [
             0.1111111111111111,
             "#46039f"
            ],
            [
             0.2222222222222222,
             "#7201a8"
            ],
            [
             0.3333333333333333,
             "#9c179e"
            ],
            [
             0.4444444444444444,
             "#bd3786"
            ],
            [
             0.5555555555555556,
             "#d8576b"
            ],
            [
             0.6666666666666666,
             "#ed7953"
            ],
            [
             0.7777777777777778,
             "#fb9f3a"
            ],
            [
             0.8888888888888888,
             "#fdca26"
            ],
            [
             1,
             "#f0f921"
            ]
           ],
           "sequentialminus": [
            [
             0,
             "#0d0887"
            ],
            [
             0.1111111111111111,
             "#46039f"
            ],
            [
             0.2222222222222222,
             "#7201a8"
            ],
            [
             0.3333333333333333,
             "#9c179e"
            ],
            [
             0.4444444444444444,
             "#bd3786"
            ],
            [
             0.5555555555555556,
             "#d8576b"
            ],
            [
             0.6666666666666666,
             "#ed7953"
            ],
            [
             0.7777777777777778,
             "#fb9f3a"
            ],
            [
             0.8888888888888888,
             "#fdca26"
            ],
            [
             1,
             "#f0f921"
            ]
           ]
          },
          "colorway": [
           "#636efa",
           "#EF553B",
           "#00cc96",
           "#ab63fa",
           "#FFA15A",
           "#19d3f3",
           "#FF6692",
           "#B6E880",
           "#FF97FF",
           "#FECB52"
          ],
          "font": {
           "color": "#2a3f5f"
          },
          "geo": {
           "bgcolor": "white",
           "lakecolor": "white",
           "landcolor": "#E5ECF6",
           "showlakes": true,
           "showland": true,
           "subunitcolor": "white"
          },
          "hoverlabel": {
           "align": "left"
          },
          "hovermode": "closest",
          "mapbox": {
           "style": "light"
          },
          "paper_bgcolor": "white",
          "plot_bgcolor": "#E5ECF6",
          "polar": {
           "angularaxis": {
            "gridcolor": "white",
            "linecolor": "white",
            "ticks": ""
           },
           "bgcolor": "#E5ECF6",
           "radialaxis": {
            "gridcolor": "white",
            "linecolor": "white",
            "ticks": ""
           }
          },
          "scene": {
           "xaxis": {
            "backgroundcolor": "#E5ECF6",
            "gridcolor": "white",
            "gridwidth": 2,
            "linecolor": "white",
            "showbackground": true,
            "ticks": "",
            "zerolinecolor": "white"
           },
           "yaxis": {
            "backgroundcolor": "#E5ECF6",
            "gridcolor": "white",
            "gridwidth": 2,
            "linecolor": "white",
            "showbackground": true,
            "ticks": "",
            "zerolinecolor": "white"
           },
           "zaxis": {
            "backgroundcolor": "#E5ECF6",
            "gridcolor": "white",
            "gridwidth": 2,
            "linecolor": "white",
            "showbackground": true,
            "ticks": "",
            "zerolinecolor": "white"
           }
          },
          "shapedefaults": {
           "line": {
            "color": "#2a3f5f"
           }
          },
          "ternary": {
           "aaxis": {
            "gridcolor": "white",
            "linecolor": "white",
            "ticks": ""
           },
           "baxis": {
            "gridcolor": "white",
            "linecolor": "white",
            "ticks": ""
           },
           "bgcolor": "#E5ECF6",
           "caxis": {
            "gridcolor": "white",
            "linecolor": "white",
            "ticks": ""
           }
          },
          "title": {
           "x": 0.05
          },
          "xaxis": {
           "automargin": true,
           "gridcolor": "white",
           "linecolor": "white",
           "ticks": "",
           "title": {
            "standoff": 15
           },
           "zerolinecolor": "white",
           "zerolinewidth": 2
          },
          "yaxis": {
           "automargin": true,
           "gridcolor": "white",
           "linecolor": "white",
           "ticks": "",
           "title": {
            "standoff": 15
           },
           "zerolinecolor": "white",
           "zerolinewidth": 2
          }
         }
        },
        "title": {
         "text": "Persentase Karyawan yang Keluar vs Bertahan"
        },
        "uniformtext": {
         "minsize": 12,
         "mode": "hide"
        }
       }
      }
     },
     "metadata": {},
     "output_type": "display_data"
    }
   ],
   "source": [
    "attrition_counts = df['Attrition'].value_counts()\n",
    "attrition_percentage = df['Attrition'].value_counts(normalize=True) * 100\n",
    "\n",
    "attrition_df = pd.DataFrame({\n",
    "    'Count': attrition_counts,\n",
    "    'Percentage': attrition_percentage\n",
    "})\n",
    "\n",
    "print(\"Distribusi Attrition:\")\n",
    "display(attrition_df)\n",
    "\n",
    "fig = px.pie(\n",
    "    names=['Tidak Keluar', 'Keluar'] if 0 in attrition_counts.index else ['Keluar', 'Tidak Keluar'],\n",
    "    values=attrition_counts.values,\n",
    "    title='Persentase Karyawan yang Keluar vs Bertahan',\n",
    "    color_discrete_sequence=px.colors.qualitative.Set3,\n",
    "    hole=0.4\n",
    ")\n",
    "fig.update_traces(textinfo='percent+label', textposition='inside')\n",
    "fig.update_layout(uniformtext_minsize=12, uniformtext_mode='hide')\n",
    "fig.show()\n",
    "\n",
    "fig.write_image(\"./visualisasi/presentase_attrition.jpg\", scale=1)"
   ]
  },
  {
   "cell_type": "markdown",
   "id": "6a116d95",
   "metadata": {},
   "source": [
    "## Analisis Bivariate"
   ]
  },
  {
   "cell_type": "markdown",
   "id": "eddc6a73",
   "metadata": {},
   "source": [
    "### Attrition by Age"
   ]
  },
  {
   "cell_type": "code",
   "execution_count": 85,
   "id": "a42d4709",
   "metadata": {},
   "outputs": [
    {
     "data": {
      "application/vnd.microsoft.datawrangler.viewer.v0+json": {
       "columns": [
        {
         "name": "AgeGroup",
         "rawType": "object",
         "type": "string"
        },
        {
         "name": "Jumlah Karyawan",
         "rawType": "int64",
         "type": "integer"
        },
        {
         "name": "Tingkat Attrition (%)",
         "rawType": "float64",
         "type": "float"
        }
       ],
       "conversionMethod": "pd.DataFrame",
       "ref": "a13d004d-5adb-46f5-a2b3-904035e0bb25",
       "rows": [
        [
         "< 30",
         "236",
         "29.66101694915254"
        ],
        [
         "30-39",
         "437",
         "15.102974828375288"
        ],
        [
         "40-49",
         "243",
         "10.699588477366255"
        ],
        [
         "50+",
         "142",
         "11.971830985915492"
        ]
       ],
       "shape": {
        "columns": 2,
        "rows": 4
       }
      },
      "text/html": [
       "<div>\n",
       "<style scoped>\n",
       "    .dataframe tbody tr th:only-of-type {\n",
       "        vertical-align: middle;\n",
       "    }\n",
       "\n",
       "    .dataframe tbody tr th {\n",
       "        vertical-align: top;\n",
       "    }\n",
       "\n",
       "    .dataframe thead th {\n",
       "        text-align: right;\n",
       "    }\n",
       "</style>\n",
       "<table border=\"1\" class=\"dataframe\">\n",
       "  <thead>\n",
       "    <tr style=\"text-align: right;\">\n",
       "      <th></th>\n",
       "      <th>Jumlah Karyawan</th>\n",
       "      <th>Tingkat Attrition (%)</th>\n",
       "    </tr>\n",
       "    <tr>\n",
       "      <th>AgeGroup</th>\n",
       "      <th></th>\n",
       "      <th></th>\n",
       "    </tr>\n",
       "  </thead>\n",
       "  <tbody>\n",
       "    <tr>\n",
       "      <th>&lt; 30</th>\n",
       "      <td>236</td>\n",
       "      <td>29.661017</td>\n",
       "    </tr>\n",
       "    <tr>\n",
       "      <th>30-39</th>\n",
       "      <td>437</td>\n",
       "      <td>15.102975</td>\n",
       "    </tr>\n",
       "    <tr>\n",
       "      <th>40-49</th>\n",
       "      <td>243</td>\n",
       "      <td>10.699588</td>\n",
       "    </tr>\n",
       "    <tr>\n",
       "      <th>50+</th>\n",
       "      <td>142</td>\n",
       "      <td>11.971831</td>\n",
       "    </tr>\n",
       "  </tbody>\n",
       "</table>\n",
       "</div>"
      ],
      "text/plain": [
       "          Jumlah Karyawan  Tingkat Attrition (%)\n",
       "AgeGroup                                        \n",
       "< 30                  236              29.661017\n",
       "30-39                 437              15.102975\n",
       "40-49                 243              10.699588\n",
       "50+                   142              11.971831"
      ]
     },
     "metadata": {},
     "output_type": "display_data"
    },
    {
     "data": {
      "application/vnd.plotly.v1+json": {
       "config": {
        "plotlyServerURL": "https://plot.ly"
       },
       "data": [
        {
         "marker": {
          "color": "royalblue"
         },
         "name": "Jumlah Karyawan",
         "opacity": 0.7,
         "type": "bar",
         "x": [
          "< 30",
          "30-39",
          "40-49",
          "50+"
         ],
         "xaxis": "x",
         "y": {
          "bdata": "7AC1AfMAjgA=",
          "dtype": "i2"
         },
         "yaxis": "y"
        },
        {
         "line": {
          "width": 3
         },
         "marker": {
          "color": "firebrick",
          "size": 10
         },
         "mode": "lines+markers",
         "name": "Tingkat Attrition (%)",
         "type": "scatter",
         "x": [
          "< 30",
          "30-39",
          "40-49",
          "50+"
         ],
         "xaxis": "x",
         "y": {
          "bdata": "PLYiaDipPUC8XeAduTQuQJzk/XUwZiVAMn671JPxJ0A=",
          "dtype": "f8"
         },
         "yaxis": "y2"
        }
       ],
       "layout": {
        "template": {
         "data": {
          "bar": [
           {
            "error_x": {
             "color": "#2a3f5f"
            },
            "error_y": {
             "color": "#2a3f5f"
            },
            "marker": {
             "line": {
              "color": "white",
              "width": 0.5
             },
             "pattern": {
              "fillmode": "overlay",
              "size": 10,
              "solidity": 0.2
             }
            },
            "type": "bar"
           }
          ],
          "barpolar": [
           {
            "marker": {
             "line": {
              "color": "white",
              "width": 0.5
             },
             "pattern": {
              "fillmode": "overlay",
              "size": 10,
              "solidity": 0.2
             }
            },
            "type": "barpolar"
           }
          ],
          "carpet": [
           {
            "aaxis": {
             "endlinecolor": "#2a3f5f",
             "gridcolor": "#C8D4E3",
             "linecolor": "#C8D4E3",
             "minorgridcolor": "#C8D4E3",
             "startlinecolor": "#2a3f5f"
            },
            "baxis": {
             "endlinecolor": "#2a3f5f",
             "gridcolor": "#C8D4E3",
             "linecolor": "#C8D4E3",
             "minorgridcolor": "#C8D4E3",
             "startlinecolor": "#2a3f5f"
            },
            "type": "carpet"
           }
          ],
          "choropleth": [
           {
            "colorbar": {
             "outlinewidth": 0,
             "ticks": ""
            },
            "type": "choropleth"
           }
          ],
          "contour": [
           {
            "colorbar": {
             "outlinewidth": 0,
             "ticks": ""
            },
            "colorscale": [
             [
              0,
              "#0d0887"
             ],
             [
              0.1111111111111111,
              "#46039f"
             ],
             [
              0.2222222222222222,
              "#7201a8"
             ],
             [
              0.3333333333333333,
              "#9c179e"
             ],
             [
              0.4444444444444444,
              "#bd3786"
             ],
             [
              0.5555555555555556,
              "#d8576b"
             ],
             [
              0.6666666666666666,
              "#ed7953"
             ],
             [
              0.7777777777777778,
              "#fb9f3a"
             ],
             [
              0.8888888888888888,
              "#fdca26"
             ],
             [
              1,
              "#f0f921"
             ]
            ],
            "type": "contour"
           }
          ],
          "contourcarpet": [
           {
            "colorbar": {
             "outlinewidth": 0,
             "ticks": ""
            },
            "type": "contourcarpet"
           }
          ],
          "heatmap": [
           {
            "colorbar": {
             "outlinewidth": 0,
             "ticks": ""
            },
            "colorscale": [
             [
              0,
              "#0d0887"
             ],
             [
              0.1111111111111111,
              "#46039f"
             ],
             [
              0.2222222222222222,
              "#7201a8"
             ],
             [
              0.3333333333333333,
              "#9c179e"
             ],
             [
              0.4444444444444444,
              "#bd3786"
             ],
             [
              0.5555555555555556,
              "#d8576b"
             ],
             [
              0.6666666666666666,
              "#ed7953"
             ],
             [
              0.7777777777777778,
              "#fb9f3a"
             ],
             [
              0.8888888888888888,
              "#fdca26"
             ],
             [
              1,
              "#f0f921"
             ]
            ],
            "type": "heatmap"
           }
          ],
          "histogram": [
           {
            "marker": {
             "pattern": {
              "fillmode": "overlay",
              "size": 10,
              "solidity": 0.2
             }
            },
            "type": "histogram"
           }
          ],
          "histogram2d": [
           {
            "colorbar": {
             "outlinewidth": 0,
             "ticks": ""
            },
            "colorscale": [
             [
              0,
              "#0d0887"
             ],
             [
              0.1111111111111111,
              "#46039f"
             ],
             [
              0.2222222222222222,
              "#7201a8"
             ],
             [
              0.3333333333333333,
              "#9c179e"
             ],
             [
              0.4444444444444444,
              "#bd3786"
             ],
             [
              0.5555555555555556,
              "#d8576b"
             ],
             [
              0.6666666666666666,
              "#ed7953"
             ],
             [
              0.7777777777777778,
              "#fb9f3a"
             ],
             [
              0.8888888888888888,
              "#fdca26"
             ],
             [
              1,
              "#f0f921"
             ]
            ],
            "type": "histogram2d"
           }
          ],
          "histogram2dcontour": [
           {
            "colorbar": {
             "outlinewidth": 0,
             "ticks": ""
            },
            "colorscale": [
             [
              0,
              "#0d0887"
             ],
             [
              0.1111111111111111,
              "#46039f"
             ],
             [
              0.2222222222222222,
              "#7201a8"
             ],
             [
              0.3333333333333333,
              "#9c179e"
             ],
             [
              0.4444444444444444,
              "#bd3786"
             ],
             [
              0.5555555555555556,
              "#d8576b"
             ],
             [
              0.6666666666666666,
              "#ed7953"
             ],
             [
              0.7777777777777778,
              "#fb9f3a"
             ],
             [
              0.8888888888888888,
              "#fdca26"
             ],
             [
              1,
              "#f0f921"
             ]
            ],
            "type": "histogram2dcontour"
           }
          ],
          "mesh3d": [
           {
            "colorbar": {
             "outlinewidth": 0,
             "ticks": ""
            },
            "type": "mesh3d"
           }
          ],
          "parcoords": [
           {
            "line": {
             "colorbar": {
              "outlinewidth": 0,
              "ticks": ""
             }
            },
            "type": "parcoords"
           }
          ],
          "pie": [
           {
            "automargin": true,
            "type": "pie"
           }
          ],
          "scatter": [
           {
            "fillpattern": {
             "fillmode": "overlay",
             "size": 10,
             "solidity": 0.2
            },
            "type": "scatter"
           }
          ],
          "scatter3d": [
           {
            "line": {
             "colorbar": {
              "outlinewidth": 0,
              "ticks": ""
             }
            },
            "marker": {
             "colorbar": {
              "outlinewidth": 0,
              "ticks": ""
             }
            },
            "type": "scatter3d"
           }
          ],
          "scattercarpet": [
           {
            "marker": {
             "colorbar": {
              "outlinewidth": 0,
              "ticks": ""
             }
            },
            "type": "scattercarpet"
           }
          ],
          "scattergeo": [
           {
            "marker": {
             "colorbar": {
              "outlinewidth": 0,
              "ticks": ""
             }
            },
            "type": "scattergeo"
           }
          ],
          "scattergl": [
           {
            "marker": {
             "colorbar": {
              "outlinewidth": 0,
              "ticks": ""
             }
            },
            "type": "scattergl"
           }
          ],
          "scattermap": [
           {
            "marker": {
             "colorbar": {
              "outlinewidth": 0,
              "ticks": ""
             }
            },
            "type": "scattermap"
           }
          ],
          "scattermapbox": [
           {
            "marker": {
             "colorbar": {
              "outlinewidth": 0,
              "ticks": ""
             }
            },
            "type": "scattermapbox"
           }
          ],
          "scatterpolar": [
           {
            "marker": {
             "colorbar": {
              "outlinewidth": 0,
              "ticks": ""
             }
            },
            "type": "scatterpolar"
           }
          ],
          "scatterpolargl": [
           {
            "marker": {
             "colorbar": {
              "outlinewidth": 0,
              "ticks": ""
             }
            },
            "type": "scatterpolargl"
           }
          ],
          "scatterternary": [
           {
            "marker": {
             "colorbar": {
              "outlinewidth": 0,
              "ticks": ""
             }
            },
            "type": "scatterternary"
           }
          ],
          "surface": [
           {
            "colorbar": {
             "outlinewidth": 0,
             "ticks": ""
            },
            "colorscale": [
             [
              0,
              "#0d0887"
             ],
             [
              0.1111111111111111,
              "#46039f"
             ],
             [
              0.2222222222222222,
              "#7201a8"
             ],
             [
              0.3333333333333333,
              "#9c179e"
             ],
             [
              0.4444444444444444,
              "#bd3786"
             ],
             [
              0.5555555555555556,
              "#d8576b"
             ],
             [
              0.6666666666666666,
              "#ed7953"
             ],
             [
              0.7777777777777778,
              "#fb9f3a"
             ],
             [
              0.8888888888888888,
              "#fdca26"
             ],
             [
              1,
              "#f0f921"
             ]
            ],
            "type": "surface"
           }
          ],
          "table": [
           {
            "cells": {
             "fill": {
              "color": "#EBF0F8"
             },
             "line": {
              "color": "white"
             }
            },
            "header": {
             "fill": {
              "color": "#C8D4E3"
             },
             "line": {
              "color": "white"
             }
            },
            "type": "table"
           }
          ]
         },
         "layout": {
          "annotationdefaults": {
           "arrowcolor": "#2a3f5f",
           "arrowhead": 0,
           "arrowwidth": 1
          },
          "autotypenumbers": "strict",
          "coloraxis": {
           "colorbar": {
            "outlinewidth": 0,
            "ticks": ""
           }
          },
          "colorscale": {
           "diverging": [
            [
             0,
             "#8e0152"
            ],
            [
             0.1,
             "#c51b7d"
            ],
            [
             0.2,
             "#de77ae"
            ],
            [
             0.3,
             "#f1b6da"
            ],
            [
             0.4,
             "#fde0ef"
            ],
            [
             0.5,
             "#f7f7f7"
            ],
            [
             0.6,
             "#e6f5d0"
            ],
            [
             0.7,
             "#b8e186"
            ],
            [
             0.8,
             "#7fbc41"
            ],
            [
             0.9,
             "#4d9221"
            ],
            [
             1,
             "#276419"
            ]
           ],
           "sequential": [
            [
             0,
             "#0d0887"
            ],
            [
             0.1111111111111111,
             "#46039f"
            ],
            [
             0.2222222222222222,
             "#7201a8"
            ],
            [
             0.3333333333333333,
             "#9c179e"
            ],
            [
             0.4444444444444444,
             "#bd3786"
            ],
            [
             0.5555555555555556,
             "#d8576b"
            ],
            [
             0.6666666666666666,
             "#ed7953"
            ],
            [
             0.7777777777777778,
             "#fb9f3a"
            ],
            [
             0.8888888888888888,
             "#fdca26"
            ],
            [
             1,
             "#f0f921"
            ]
           ],
           "sequentialminus": [
            [
             0,
             "#0d0887"
            ],
            [
             0.1111111111111111,
             "#46039f"
            ],
            [
             0.2222222222222222,
             "#7201a8"
            ],
            [
             0.3333333333333333,
             "#9c179e"
            ],
            [
             0.4444444444444444,
             "#bd3786"
            ],
            [
             0.5555555555555556,
             "#d8576b"
            ],
            [
             0.6666666666666666,
             "#ed7953"
            ],
            [
             0.7777777777777778,
             "#fb9f3a"
            ],
            [
             0.8888888888888888,
             "#fdca26"
            ],
            [
             1,
             "#f0f921"
            ]
           ]
          },
          "colorway": [
           "#636efa",
           "#EF553B",
           "#00cc96",
           "#ab63fa",
           "#FFA15A",
           "#19d3f3",
           "#FF6692",
           "#B6E880",
           "#FF97FF",
           "#FECB52"
          ],
          "font": {
           "color": "#2a3f5f"
          },
          "geo": {
           "bgcolor": "white",
           "lakecolor": "white",
           "landcolor": "white",
           "showlakes": true,
           "showland": true,
           "subunitcolor": "#C8D4E3"
          },
          "hoverlabel": {
           "align": "left"
          },
          "hovermode": "closest",
          "mapbox": {
           "style": "light"
          },
          "paper_bgcolor": "white",
          "plot_bgcolor": "white",
          "polar": {
           "angularaxis": {
            "gridcolor": "#EBF0F8",
            "linecolor": "#EBF0F8",
            "ticks": ""
           },
           "bgcolor": "white",
           "radialaxis": {
            "gridcolor": "#EBF0F8",
            "linecolor": "#EBF0F8",
            "ticks": ""
           }
          },
          "scene": {
           "xaxis": {
            "backgroundcolor": "white",
            "gridcolor": "#DFE8F3",
            "gridwidth": 2,
            "linecolor": "#EBF0F8",
            "showbackground": true,
            "ticks": "",
            "zerolinecolor": "#EBF0F8"
           },
           "yaxis": {
            "backgroundcolor": "white",
            "gridcolor": "#DFE8F3",
            "gridwidth": 2,
            "linecolor": "#EBF0F8",
            "showbackground": true,
            "ticks": "",
            "zerolinecolor": "#EBF0F8"
           },
           "zaxis": {
            "backgroundcolor": "white",
            "gridcolor": "#DFE8F3",
            "gridwidth": 2,
            "linecolor": "#EBF0F8",
            "showbackground": true,
            "ticks": "",
            "zerolinecolor": "#EBF0F8"
           }
          },
          "shapedefaults": {
           "line": {
            "color": "#2a3f5f"
           }
          },
          "ternary": {
           "aaxis": {
            "gridcolor": "#DFE8F3",
            "linecolor": "#A2B1C6",
            "ticks": ""
           },
           "baxis": {
            "gridcolor": "#DFE8F3",
            "linecolor": "#A2B1C6",
            "ticks": ""
           },
           "bgcolor": "white",
           "caxis": {
            "gridcolor": "#DFE8F3",
            "linecolor": "#A2B1C6",
            "ticks": ""
           }
          },
          "title": {
           "x": 0.05
          },
          "xaxis": {
           "automargin": true,
           "gridcolor": "#EBF0F8",
           "linecolor": "#EBF0F8",
           "ticks": "",
           "title": {
            "standoff": 15
           },
           "zerolinecolor": "#EBF0F8",
           "zerolinewidth": 2
          },
          "yaxis": {
           "automargin": true,
           "gridcolor": "#EBF0F8",
           "linecolor": "#EBF0F8",
           "ticks": "",
           "title": {
            "standoff": 15
           },
           "zerolinecolor": "#EBF0F8",
           "zerolinewidth": 2
          }
         }
        },
        "title": {
         "text": "Distribusi dan Tingkat Attrition Berdasarkan Kelompok Usia"
        },
        "xaxis": {
         "anchor": "y",
         "domain": [
          0,
          0.94
         ],
         "title": {
          "text": "Kelompok Usia"
         }
        },
        "yaxis": {
         "anchor": "x",
         "domain": [
          0,
          1
         ],
         "title": {
          "text": "Jumlah Karyawan"
         }
        },
        "yaxis2": {
         "anchor": "x",
         "overlaying": "y",
         "side": "right",
         "title": {
          "text": "Tingkat Attrition (%)"
         }
        }
       }
      }
     },
     "metadata": {},
     "output_type": "display_data"
    }
   ],
   "source": [
    "age_group_attrition = df.groupby('AgeGroup')['Attrition'].mean() * 100\n",
    "age_group_counts = df.groupby('AgeGroup').size()\n",
    "\n",
    "order = ['< 30', '30-39', '40-49', '50+']\n",
    "age_group_attrition = age_group_attrition.reindex(order)\n",
    "age_group_counts = age_group_counts.reindex(order)\n",
    "\n",
    "age_group_df = pd.DataFrame({\n",
    "    'Jumlah Karyawan': age_group_counts,\n",
    "    'Tingkat Attrition (%)': age_group_attrition\n",
    "})\n",
    "\n",
    "display(age_group_df)\n",
    "\n",
    "fig = make_subplots(specs=[[{\"secondary_y\": True}]])\n",
    "\n",
    "fig.add_trace(\n",
    "    go.Bar(\n",
    "        x=age_group_df.index,\n",
    "        y=age_group_df['Jumlah Karyawan'],\n",
    "        name='Jumlah Karyawan',\n",
    "        marker_color='royalblue',\n",
    "        opacity=0.7\n",
    "    ),\n",
    "    secondary_y=False\n",
    ")\n",
    "\n",
    "fig.add_trace(\n",
    "    go.Scatter(\n",
    "        x=age_group_df.index,\n",
    "        y=age_group_df['Tingkat Attrition (%)'],\n",
    "        name='Tingkat Attrition (%)',\n",
    "        marker_color='firebrick',\n",
    "        mode='lines+markers',\n",
    "        marker=dict(size=10),\n",
    "        line=dict(width=3)\n",
    "    ),\n",
    "    secondary_y=True\n",
    ")\n",
    "\n",
    "fig.update_layout(\n",
    "    title_text='Distribusi dan Tingkat Attrition Berdasarkan Kelompok Usia',\n",
    "    template='plotly_white'\n",
    ")\n",
    "\n",
    "fig.update_xaxes(title_text='Kelompok Usia')\n",
    "fig.update_yaxes(title_text='Jumlah Karyawan', secondary_y=False)\n",
    "fig.update_yaxes(title_text='Tingkat Attrition (%)', secondary_y=True)\n",
    "\n",
    "fig.show()\n",
    "fig.write_image(\"./visualisasi/distribusi_usia_attrition.jpg\", scale=1)"
   ]
  },
  {
   "cell_type": "markdown",
   "id": "9eafbd06",
   "metadata": {},
   "source": [
    "### Attrition by Departemen"
   ]
  },
  {
   "cell_type": "code",
   "execution_count": 55,
   "id": "cc7d8a36",
   "metadata": {},
   "outputs": [
    {
     "data": {
      "application/vnd.microsoft.datawrangler.viewer.v0+json": {
       "columns": [
        {
         "name": "Department",
         "rawType": "object",
         "type": "string"
        },
        {
         "name": "Jumlah Karyawan",
         "rawType": "int64",
         "type": "integer"
        },
        {
         "name": "Tingkat Attrition (%)",
         "rawType": "float64",
         "type": "float"
        }
       ],
       "conversionMethod": "pd.DataFrame",
       "ref": "f2054be6-06ed-44d4-92f6-ea0a0316d7c1",
       "rows": [
        [
         "Human Resources",
         "38",
         "15.789473684210526"
        ],
        [
         "Research & Development",
         "701",
         "15.263908701854492"
        ],
        [
         "Sales",
         "319",
         "20.689655172413794"
        ]
       ],
       "shape": {
        "columns": 2,
        "rows": 3
       }
      },
      "text/html": [
       "<div>\n",
       "<style scoped>\n",
       "    .dataframe tbody tr th:only-of-type {\n",
       "        vertical-align: middle;\n",
       "    }\n",
       "\n",
       "    .dataframe tbody tr th {\n",
       "        vertical-align: top;\n",
       "    }\n",
       "\n",
       "    .dataframe thead th {\n",
       "        text-align: right;\n",
       "    }\n",
       "</style>\n",
       "<table border=\"1\" class=\"dataframe\">\n",
       "  <thead>\n",
       "    <tr style=\"text-align: right;\">\n",
       "      <th></th>\n",
       "      <th>Jumlah Karyawan</th>\n",
       "      <th>Tingkat Attrition (%)</th>\n",
       "    </tr>\n",
       "    <tr>\n",
       "      <th>Department</th>\n",
       "      <th></th>\n",
       "      <th></th>\n",
       "    </tr>\n",
       "  </thead>\n",
       "  <tbody>\n",
       "    <tr>\n",
       "      <th>Human Resources</th>\n",
       "      <td>38</td>\n",
       "      <td>15.789474</td>\n",
       "    </tr>\n",
       "    <tr>\n",
       "      <th>Research &amp; Development</th>\n",
       "      <td>701</td>\n",
       "      <td>15.263909</td>\n",
       "    </tr>\n",
       "    <tr>\n",
       "      <th>Sales</th>\n",
       "      <td>319</td>\n",
       "      <td>20.689655</td>\n",
       "    </tr>\n",
       "  </tbody>\n",
       "</table>\n",
       "</div>"
      ],
      "text/plain": [
       "                        Jumlah Karyawan  Tingkat Attrition (%)\n",
       "Department                                                    \n",
       "Human Resources                      38              15.789474\n",
       "Research & Development              701              15.263909\n",
       "Sales                               319              20.689655"
      ]
     },
     "metadata": {},
     "output_type": "display_data"
    },
    {
     "data": {
      "application/vnd.plotly.v1+json": {
       "config": {
        "plotlyServerURL": "https://plot.ly"
       },
       "data": [
        {
         "hovertemplate": "Departemen=%{x}<br>Tingkat Attrition (%)=%{y}<br>text=%{text}<br>color=%{marker.color}<extra></extra>",
         "legendgroup": "",
         "marker": {
          "color": {
           "bdata": "1AjLPY2wNEBDeQ3lNZQvQJEwlwofhy5A",
           "dtype": "f8"
          },
          "coloraxis": "coloraxis",
          "pattern": {
           "shape": ""
          }
         },
         "name": "",
         "orientation": "v",
         "showlegend": false,
         "text": {
          "bdata": "MzMzMzOzNECamZmZmZkvQJqZmZmZmS5A",
          "dtype": "f8"
         },
         "textposition": "outside",
         "texttemplate": "%{text:.1f}%",
         "type": "bar",
         "x": [
          "Sales",
          "Human Resources",
          "Research & Development"
         ],
         "xaxis": "x",
         "y": {
          "bdata": "1AjLPY2wNEBDeQ3lNZQvQJEwlwofhy5A",
          "dtype": "f8"
         },
         "yaxis": "y"
        }
       ],
       "layout": {
        "barmode": "relative",
        "coloraxis": {
         "colorbar": {
          "title": {
           "text": "color"
          }
         },
         "colorscale": [
          [
           0,
           "#440154"
          ],
          [
           0.1111111111111111,
           "#482878"
          ],
          [
           0.2222222222222222,
           "#3e4989"
          ],
          [
           0.3333333333333333,
           "#31688e"
          ],
          [
           0.4444444444444444,
           "#26828e"
          ],
          [
           0.5555555555555556,
           "#1f9e89"
          ],
          [
           0.6666666666666666,
           "#35b779"
          ],
          [
           0.7777777777777778,
           "#6ece58"
          ],
          [
           0.8888888888888888,
           "#b5de2b"
          ],
          [
           1,
           "#fde725"
          ]
         ],
         "showscale": false
        },
        "legend": {
         "tracegroupgap": 0
        },
        "template": {
         "data": {
          "bar": [
           {
            "error_x": {
             "color": "#2a3f5f"
            },
            "error_y": {
             "color": "#2a3f5f"
            },
            "marker": {
             "line": {
              "color": "white",
              "width": 0.5
             },
             "pattern": {
              "fillmode": "overlay",
              "size": 10,
              "solidity": 0.2
             }
            },
            "type": "bar"
           }
          ],
          "barpolar": [
           {
            "marker": {
             "line": {
              "color": "white",
              "width": 0.5
             },
             "pattern": {
              "fillmode": "overlay",
              "size": 10,
              "solidity": 0.2
             }
            },
            "type": "barpolar"
           }
          ],
          "carpet": [
           {
            "aaxis": {
             "endlinecolor": "#2a3f5f",
             "gridcolor": "#C8D4E3",
             "linecolor": "#C8D4E3",
             "minorgridcolor": "#C8D4E3",
             "startlinecolor": "#2a3f5f"
            },
            "baxis": {
             "endlinecolor": "#2a3f5f",
             "gridcolor": "#C8D4E3",
             "linecolor": "#C8D4E3",
             "minorgridcolor": "#C8D4E3",
             "startlinecolor": "#2a3f5f"
            },
            "type": "carpet"
           }
          ],
          "choropleth": [
           {
            "colorbar": {
             "outlinewidth": 0,
             "ticks": ""
            },
            "type": "choropleth"
           }
          ],
          "contour": [
           {
            "colorbar": {
             "outlinewidth": 0,
             "ticks": ""
            },
            "colorscale": [
             [
              0,
              "#0d0887"
             ],
             [
              0.1111111111111111,
              "#46039f"
             ],
             [
              0.2222222222222222,
              "#7201a8"
             ],
             [
              0.3333333333333333,
              "#9c179e"
             ],
             [
              0.4444444444444444,
              "#bd3786"
             ],
             [
              0.5555555555555556,
              "#d8576b"
             ],
             [
              0.6666666666666666,
              "#ed7953"
             ],
             [
              0.7777777777777778,
              "#fb9f3a"
             ],
             [
              0.8888888888888888,
              "#fdca26"
             ],
             [
              1,
              "#f0f921"
             ]
            ],
            "type": "contour"
           }
          ],
          "contourcarpet": [
           {
            "colorbar": {
             "outlinewidth": 0,
             "ticks": ""
            },
            "type": "contourcarpet"
           }
          ],
          "heatmap": [
           {
            "colorbar": {
             "outlinewidth": 0,
             "ticks": ""
            },
            "colorscale": [
             [
              0,
              "#0d0887"
             ],
             [
              0.1111111111111111,
              "#46039f"
             ],
             [
              0.2222222222222222,
              "#7201a8"
             ],
             [
              0.3333333333333333,
              "#9c179e"
             ],
             [
              0.4444444444444444,
              "#bd3786"
             ],
             [
              0.5555555555555556,
              "#d8576b"
             ],
             [
              0.6666666666666666,
              "#ed7953"
             ],
             [
              0.7777777777777778,
              "#fb9f3a"
             ],
             [
              0.8888888888888888,
              "#fdca26"
             ],
             [
              1,
              "#f0f921"
             ]
            ],
            "type": "heatmap"
           }
          ],
          "histogram": [
           {
            "marker": {
             "pattern": {
              "fillmode": "overlay",
              "size": 10,
              "solidity": 0.2
             }
            },
            "type": "histogram"
           }
          ],
          "histogram2d": [
           {
            "colorbar": {
             "outlinewidth": 0,
             "ticks": ""
            },
            "colorscale": [
             [
              0,
              "#0d0887"
             ],
             [
              0.1111111111111111,
              "#46039f"
             ],
             [
              0.2222222222222222,
              "#7201a8"
             ],
             [
              0.3333333333333333,
              "#9c179e"
             ],
             [
              0.4444444444444444,
              "#bd3786"
             ],
             [
              0.5555555555555556,
              "#d8576b"
             ],
             [
              0.6666666666666666,
              "#ed7953"
             ],
             [
              0.7777777777777778,
              "#fb9f3a"
             ],
             [
              0.8888888888888888,
              "#fdca26"
             ],
             [
              1,
              "#f0f921"
             ]
            ],
            "type": "histogram2d"
           }
          ],
          "histogram2dcontour": [
           {
            "colorbar": {
             "outlinewidth": 0,
             "ticks": ""
            },
            "colorscale": [
             [
              0,
              "#0d0887"
             ],
             [
              0.1111111111111111,
              "#46039f"
             ],
             [
              0.2222222222222222,
              "#7201a8"
             ],
             [
              0.3333333333333333,
              "#9c179e"
             ],
             [
              0.4444444444444444,
              "#bd3786"
             ],
             [
              0.5555555555555556,
              "#d8576b"
             ],
             [
              0.6666666666666666,
              "#ed7953"
             ],
             [
              0.7777777777777778,
              "#fb9f3a"
             ],
             [
              0.8888888888888888,
              "#fdca26"
             ],
             [
              1,
              "#f0f921"
             ]
            ],
            "type": "histogram2dcontour"
           }
          ],
          "mesh3d": [
           {
            "colorbar": {
             "outlinewidth": 0,
             "ticks": ""
            },
            "type": "mesh3d"
           }
          ],
          "parcoords": [
           {
            "line": {
             "colorbar": {
              "outlinewidth": 0,
              "ticks": ""
             }
            },
            "type": "parcoords"
           }
          ],
          "pie": [
           {
            "automargin": true,
            "type": "pie"
           }
          ],
          "scatter": [
           {
            "fillpattern": {
             "fillmode": "overlay",
             "size": 10,
             "solidity": 0.2
            },
            "type": "scatter"
           }
          ],
          "scatter3d": [
           {
            "line": {
             "colorbar": {
              "outlinewidth": 0,
              "ticks": ""
             }
            },
            "marker": {
             "colorbar": {
              "outlinewidth": 0,
              "ticks": ""
             }
            },
            "type": "scatter3d"
           }
          ],
          "scattercarpet": [
           {
            "marker": {
             "colorbar": {
              "outlinewidth": 0,
              "ticks": ""
             }
            },
            "type": "scattercarpet"
           }
          ],
          "scattergeo": [
           {
            "marker": {
             "colorbar": {
              "outlinewidth": 0,
              "ticks": ""
             }
            },
            "type": "scattergeo"
           }
          ],
          "scattergl": [
           {
            "marker": {
             "colorbar": {
              "outlinewidth": 0,
              "ticks": ""
             }
            },
            "type": "scattergl"
           }
          ],
          "scattermap": [
           {
            "marker": {
             "colorbar": {
              "outlinewidth": 0,
              "ticks": ""
             }
            },
            "type": "scattermap"
           }
          ],
          "scattermapbox": [
           {
            "marker": {
             "colorbar": {
              "outlinewidth": 0,
              "ticks": ""
             }
            },
            "type": "scattermapbox"
           }
          ],
          "scatterpolar": [
           {
            "marker": {
             "colorbar": {
              "outlinewidth": 0,
              "ticks": ""
             }
            },
            "type": "scatterpolar"
           }
          ],
          "scatterpolargl": [
           {
            "marker": {
             "colorbar": {
              "outlinewidth": 0,
              "ticks": ""
             }
            },
            "type": "scatterpolargl"
           }
          ],
          "scatterternary": [
           {
            "marker": {
             "colorbar": {
              "outlinewidth": 0,
              "ticks": ""
             }
            },
            "type": "scatterternary"
           }
          ],
          "surface": [
           {
            "colorbar": {
             "outlinewidth": 0,
             "ticks": ""
            },
            "colorscale": [
             [
              0,
              "#0d0887"
             ],
             [
              0.1111111111111111,
              "#46039f"
             ],
             [
              0.2222222222222222,
              "#7201a8"
             ],
             [
              0.3333333333333333,
              "#9c179e"
             ],
             [
              0.4444444444444444,
              "#bd3786"
             ],
             [
              0.5555555555555556,
              "#d8576b"
             ],
             [
              0.6666666666666666,
              "#ed7953"
             ],
             [
              0.7777777777777778,
              "#fb9f3a"
             ],
             [
              0.8888888888888888,
              "#fdca26"
             ],
             [
              1,
              "#f0f921"
             ]
            ],
            "type": "surface"
           }
          ],
          "table": [
           {
            "cells": {
             "fill": {
              "color": "#EBF0F8"
             },
             "line": {
              "color": "white"
             }
            },
            "header": {
             "fill": {
              "color": "#C8D4E3"
             },
             "line": {
              "color": "white"
             }
            },
            "type": "table"
           }
          ]
         },
         "layout": {
          "annotationdefaults": {
           "arrowcolor": "#2a3f5f",
           "arrowhead": 0,
           "arrowwidth": 1
          },
          "autotypenumbers": "strict",
          "coloraxis": {
           "colorbar": {
            "outlinewidth": 0,
            "ticks": ""
           }
          },
          "colorscale": {
           "diverging": [
            [
             0,
             "#8e0152"
            ],
            [
             0.1,
             "#c51b7d"
            ],
            [
             0.2,
             "#de77ae"
            ],
            [
             0.3,
             "#f1b6da"
            ],
            [
             0.4,
             "#fde0ef"
            ],
            [
             0.5,
             "#f7f7f7"
            ],
            [
             0.6,
             "#e6f5d0"
            ],
            [
             0.7,
             "#b8e186"
            ],
            [
             0.8,
             "#7fbc41"
            ],
            [
             0.9,
             "#4d9221"
            ],
            [
             1,
             "#276419"
            ]
           ],
           "sequential": [
            [
             0,
             "#0d0887"
            ],
            [
             0.1111111111111111,
             "#46039f"
            ],
            [
             0.2222222222222222,
             "#7201a8"
            ],
            [
             0.3333333333333333,
             "#9c179e"
            ],
            [
             0.4444444444444444,
             "#bd3786"
            ],
            [
             0.5555555555555556,
             "#d8576b"
            ],
            [
             0.6666666666666666,
             "#ed7953"
            ],
            [
             0.7777777777777778,
             "#fb9f3a"
            ],
            [
             0.8888888888888888,
             "#fdca26"
            ],
            [
             1,
             "#f0f921"
            ]
           ],
           "sequentialminus": [
            [
             0,
             "#0d0887"
            ],
            [
             0.1111111111111111,
             "#46039f"
            ],
            [
             0.2222222222222222,
             "#7201a8"
            ],
            [
             0.3333333333333333,
             "#9c179e"
            ],
            [
             0.4444444444444444,
             "#bd3786"
            ],
            [
             0.5555555555555556,
             "#d8576b"
            ],
            [
             0.6666666666666666,
             "#ed7953"
            ],
            [
             0.7777777777777778,
             "#fb9f3a"
            ],
            [
             0.8888888888888888,
             "#fdca26"
            ],
            [
             1,
             "#f0f921"
            ]
           ]
          },
          "colorway": [
           "#636efa",
           "#EF553B",
           "#00cc96",
           "#ab63fa",
           "#FFA15A",
           "#19d3f3",
           "#FF6692",
           "#B6E880",
           "#FF97FF",
           "#FECB52"
          ],
          "font": {
           "color": "#2a3f5f"
          },
          "geo": {
           "bgcolor": "white",
           "lakecolor": "white",
           "landcolor": "white",
           "showlakes": true,
           "showland": true,
           "subunitcolor": "#C8D4E3"
          },
          "hoverlabel": {
           "align": "left"
          },
          "hovermode": "closest",
          "mapbox": {
           "style": "light"
          },
          "paper_bgcolor": "white",
          "plot_bgcolor": "white",
          "polar": {
           "angularaxis": {
            "gridcolor": "#EBF0F8",
            "linecolor": "#EBF0F8",
            "ticks": ""
           },
           "bgcolor": "white",
           "radialaxis": {
            "gridcolor": "#EBF0F8",
            "linecolor": "#EBF0F8",
            "ticks": ""
           }
          },
          "scene": {
           "xaxis": {
            "backgroundcolor": "white",
            "gridcolor": "#DFE8F3",
            "gridwidth": 2,
            "linecolor": "#EBF0F8",
            "showbackground": true,
            "ticks": "",
            "zerolinecolor": "#EBF0F8"
           },
           "yaxis": {
            "backgroundcolor": "white",
            "gridcolor": "#DFE8F3",
            "gridwidth": 2,
            "linecolor": "#EBF0F8",
            "showbackground": true,
            "ticks": "",
            "zerolinecolor": "#EBF0F8"
           },
           "zaxis": {
            "backgroundcolor": "white",
            "gridcolor": "#DFE8F3",
            "gridwidth": 2,
            "linecolor": "#EBF0F8",
            "showbackground": true,
            "ticks": "",
            "zerolinecolor": "#EBF0F8"
           }
          },
          "shapedefaults": {
           "line": {
            "color": "#2a3f5f"
           }
          },
          "ternary": {
           "aaxis": {
            "gridcolor": "#DFE8F3",
            "linecolor": "#A2B1C6",
            "ticks": ""
           },
           "baxis": {
            "gridcolor": "#DFE8F3",
            "linecolor": "#A2B1C6",
            "ticks": ""
           },
           "bgcolor": "white",
           "caxis": {
            "gridcolor": "#DFE8F3",
            "linecolor": "#A2B1C6",
            "ticks": ""
           }
          },
          "title": {
           "x": 0.05
          },
          "xaxis": {
           "automargin": true,
           "gridcolor": "#EBF0F8",
           "linecolor": "#EBF0F8",
           "ticks": "",
           "title": {
            "standoff": 15
           },
           "zerolinecolor": "#EBF0F8",
           "zerolinewidth": 2
          },
          "yaxis": {
           "automargin": true,
           "gridcolor": "#EBF0F8",
           "linecolor": "#EBF0F8",
           "ticks": "",
           "title": {
            "standoff": 15
           },
           "zerolinecolor": "#EBF0F8",
           "zerolinewidth": 2
          }
         }
        },
        "title": {
         "text": "Tingkat Attrition (%) Berdasarkan Departemen"
        },
        "xaxis": {
         "anchor": "y",
         "domain": [
          0,
          1
         ],
         "title": {
          "text": "Departemen"
         }
        },
        "yaxis": {
         "anchor": "x",
         "domain": [
          0,
          1
         ],
         "title": {
          "text": "Tingkat Attrition (%)"
         }
        }
       }
      }
     },
     "metadata": {},
     "output_type": "display_data"
    }
   ],
   "source": [
    "dept_attrition = df.groupby('Department')['Attrition'].mean().sort_values(ascending=False) * 100\n",
    "dept_counts = df.groupby('Department').size()\n",
    "\n",
    "dept_df = pd.DataFrame({\n",
    "    'Jumlah Karyawan': dept_counts,\n",
    "    'Tingkat Attrition (%)': dept_attrition\n",
    "})\n",
    "\n",
    "display(dept_df)\n",
    "\n",
    "fig = px.bar(\n",
    "    x=dept_attrition.index,\n",
    "    y=dept_attrition.values,\n",
    "    color=dept_attrition.values,\n",
    "    text=dept_attrition.values.round(1),\n",
    "    title='Tingkat Attrition (%) Berdasarkan Departemen',\n",
    "    labels={'x': 'Departemen', 'y': 'Tingkat Attrition (%)'},\n",
    "    color_continuous_scale='Viridis'\n",
    ")\n",
    "fig.update_traces(texttemplate='%{text:.1f}%', textposition='outside')\n",
    "fig.update_layout(coloraxis_showscale=False, template='plotly_white')\n",
    "\n",
    "fig.show()\n",
    "\n",
    "fig.write_image(\"./visualisasi/tingkat_attrition_departemen.jpg\", scale=1)"
   ]
  },
  {
   "cell_type": "markdown",
   "id": "28cb0920",
   "metadata": {},
   "source": [
    "### Attrition by JobLevel"
   ]
  },
  {
   "cell_type": "code",
   "execution_count": 59,
   "id": "9ab2d2d6",
   "metadata": {},
   "outputs": [
    {
     "data": {
      "application/vnd.microsoft.datawrangler.viewer.v0+json": {
       "columns": [
        {
         "name": "JobLevel",
         "rawType": "int64",
         "type": "integer"
        },
        {
         "name": "Tingkat Attrition (%)",
         "rawType": "float64",
         "type": "float"
        },
        {
         "name": "Jumlah Karyawan",
         "rawType": "int64",
         "type": "integer"
        }
       ],
       "conversionMethod": "pd.DataFrame",
       "ref": "24e2958a-30b2-44be-8324-d63b37455a49",
       "rows": [
        [
         "1",
         "27.411167512690355",
         "394"
        ],
        [
         "2",
         "10.164835164835164",
         "364"
        ],
        [
         "3",
         "15.151515151515152",
         "165"
        ],
        [
         "4",
         "5.0",
         "80"
        ],
        [
         "5",
         "9.090909090909092",
         "55"
        ]
       ],
       "shape": {
        "columns": 2,
        "rows": 5
       }
      },
      "text/html": [
       "<div>\n",
       "<style scoped>\n",
       "    .dataframe tbody tr th:only-of-type {\n",
       "        vertical-align: middle;\n",
       "    }\n",
       "\n",
       "    .dataframe tbody tr th {\n",
       "        vertical-align: top;\n",
       "    }\n",
       "\n",
       "    .dataframe thead th {\n",
       "        text-align: right;\n",
       "    }\n",
       "</style>\n",
       "<table border=\"1\" class=\"dataframe\">\n",
       "  <thead>\n",
       "    <tr style=\"text-align: right;\">\n",
       "      <th></th>\n",
       "      <th>Tingkat Attrition (%)</th>\n",
       "      <th>Jumlah Karyawan</th>\n",
       "    </tr>\n",
       "    <tr>\n",
       "      <th>JobLevel</th>\n",
       "      <th></th>\n",
       "      <th></th>\n",
       "    </tr>\n",
       "  </thead>\n",
       "  <tbody>\n",
       "    <tr>\n",
       "      <th>1</th>\n",
       "      <td>27.411168</td>\n",
       "      <td>394</td>\n",
       "    </tr>\n",
       "    <tr>\n",
       "      <th>2</th>\n",
       "      <td>10.164835</td>\n",
       "      <td>364</td>\n",
       "    </tr>\n",
       "    <tr>\n",
       "      <th>3</th>\n",
       "      <td>15.151515</td>\n",
       "      <td>165</td>\n",
       "    </tr>\n",
       "    <tr>\n",
       "      <th>4</th>\n",
       "      <td>5.000000</td>\n",
       "      <td>80</td>\n",
       "    </tr>\n",
       "    <tr>\n",
       "      <th>5</th>\n",
       "      <td>9.090909</td>\n",
       "      <td>55</td>\n",
       "    </tr>\n",
       "  </tbody>\n",
       "</table>\n",
       "</div>"
      ],
      "text/plain": [
       "          Tingkat Attrition (%)  Jumlah Karyawan\n",
       "JobLevel                                        \n",
       "1                     27.411168              394\n",
       "2                     10.164835              364\n",
       "3                     15.151515              165\n",
       "4                      5.000000               80\n",
       "5                      9.090909               55"
      ]
     },
     "metadata": {},
     "output_type": "display_data"
    },
    {
     "data": {
      "application/vnd.plotly.v1+json": {
       "config": {
        "plotlyServerURL": "https://plot.ly"
       },
       "data": [
        {
         "marker": {
          "color": "lightblue"
         },
         "name": "Jumlah Karyawan",
         "opacity": 0.7,
         "type": "bar",
         "x": {
          "bdata": "AQIDBAU=",
          "dtype": "i1"
         },
         "y": {
          "bdata": "igFsAaUAUAA3AA==",
          "dtype": "i2"
         },
         "yaxis": "y"
        },
        {
         "marker": {
          "color": "red",
          "size": 10
         },
         "mode": "lines+markers",
         "name": "Tingkat Attrition (%)",
         "type": "scatter",
         "x": {
          "bdata": "AQIDBAU=",
          "dtype": "i1"
         },
         "y": {
          "bdata": "yC4sRkJpO0BGZVRGZVQkQE422WSTTS5AAAAAAAAAFEAvuuiiiy4iQA==",
          "dtype": "f8"
         },
         "yaxis": "y2"
        }
       ],
       "layout": {
        "legend": {
         "x": 0.01,
         "y": 0.99
        },
        "template": {
         "data": {
          "bar": [
           {
            "error_x": {
             "color": "#2a3f5f"
            },
            "error_y": {
             "color": "#2a3f5f"
            },
            "marker": {
             "line": {
              "color": "white",
              "width": 0.5
             },
             "pattern": {
              "fillmode": "overlay",
              "size": 10,
              "solidity": 0.2
             }
            },
            "type": "bar"
           }
          ],
          "barpolar": [
           {
            "marker": {
             "line": {
              "color": "white",
              "width": 0.5
             },
             "pattern": {
              "fillmode": "overlay",
              "size": 10,
              "solidity": 0.2
             }
            },
            "type": "barpolar"
           }
          ],
          "carpet": [
           {
            "aaxis": {
             "endlinecolor": "#2a3f5f",
             "gridcolor": "#C8D4E3",
             "linecolor": "#C8D4E3",
             "minorgridcolor": "#C8D4E3",
             "startlinecolor": "#2a3f5f"
            },
            "baxis": {
             "endlinecolor": "#2a3f5f",
             "gridcolor": "#C8D4E3",
             "linecolor": "#C8D4E3",
             "minorgridcolor": "#C8D4E3",
             "startlinecolor": "#2a3f5f"
            },
            "type": "carpet"
           }
          ],
          "choropleth": [
           {
            "colorbar": {
             "outlinewidth": 0,
             "ticks": ""
            },
            "type": "choropleth"
           }
          ],
          "contour": [
           {
            "colorbar": {
             "outlinewidth": 0,
             "ticks": ""
            },
            "colorscale": [
             [
              0,
              "#0d0887"
             ],
             [
              0.1111111111111111,
              "#46039f"
             ],
             [
              0.2222222222222222,
              "#7201a8"
             ],
             [
              0.3333333333333333,
              "#9c179e"
             ],
             [
              0.4444444444444444,
              "#bd3786"
             ],
             [
              0.5555555555555556,
              "#d8576b"
             ],
             [
              0.6666666666666666,
              "#ed7953"
             ],
             [
              0.7777777777777778,
              "#fb9f3a"
             ],
             [
              0.8888888888888888,
              "#fdca26"
             ],
             [
              1,
              "#f0f921"
             ]
            ],
            "type": "contour"
           }
          ],
          "contourcarpet": [
           {
            "colorbar": {
             "outlinewidth": 0,
             "ticks": ""
            },
            "type": "contourcarpet"
           }
          ],
          "heatmap": [
           {
            "colorbar": {
             "outlinewidth": 0,
             "ticks": ""
            },
            "colorscale": [
             [
              0,
              "#0d0887"
             ],
             [
              0.1111111111111111,
              "#46039f"
             ],
             [
              0.2222222222222222,
              "#7201a8"
             ],
             [
              0.3333333333333333,
              "#9c179e"
             ],
             [
              0.4444444444444444,
              "#bd3786"
             ],
             [
              0.5555555555555556,
              "#d8576b"
             ],
             [
              0.6666666666666666,
              "#ed7953"
             ],
             [
              0.7777777777777778,
              "#fb9f3a"
             ],
             [
              0.8888888888888888,
              "#fdca26"
             ],
             [
              1,
              "#f0f921"
             ]
            ],
            "type": "heatmap"
           }
          ],
          "histogram": [
           {
            "marker": {
             "pattern": {
              "fillmode": "overlay",
              "size": 10,
              "solidity": 0.2
             }
            },
            "type": "histogram"
           }
          ],
          "histogram2d": [
           {
            "colorbar": {
             "outlinewidth": 0,
             "ticks": ""
            },
            "colorscale": [
             [
              0,
              "#0d0887"
             ],
             [
              0.1111111111111111,
              "#46039f"
             ],
             [
              0.2222222222222222,
              "#7201a8"
             ],
             [
              0.3333333333333333,
              "#9c179e"
             ],
             [
              0.4444444444444444,
              "#bd3786"
             ],
             [
              0.5555555555555556,
              "#d8576b"
             ],
             [
              0.6666666666666666,
              "#ed7953"
             ],
             [
              0.7777777777777778,
              "#fb9f3a"
             ],
             [
              0.8888888888888888,
              "#fdca26"
             ],
             [
              1,
              "#f0f921"
             ]
            ],
            "type": "histogram2d"
           }
          ],
          "histogram2dcontour": [
           {
            "colorbar": {
             "outlinewidth": 0,
             "ticks": ""
            },
            "colorscale": [
             [
              0,
              "#0d0887"
             ],
             [
              0.1111111111111111,
              "#46039f"
             ],
             [
              0.2222222222222222,
              "#7201a8"
             ],
             [
              0.3333333333333333,
              "#9c179e"
             ],
             [
              0.4444444444444444,
              "#bd3786"
             ],
             [
              0.5555555555555556,
              "#d8576b"
             ],
             [
              0.6666666666666666,
              "#ed7953"
             ],
             [
              0.7777777777777778,
              "#fb9f3a"
             ],
             [
              0.8888888888888888,
              "#fdca26"
             ],
             [
              1,
              "#f0f921"
             ]
            ],
            "type": "histogram2dcontour"
           }
          ],
          "mesh3d": [
           {
            "colorbar": {
             "outlinewidth": 0,
             "ticks": ""
            },
            "type": "mesh3d"
           }
          ],
          "parcoords": [
           {
            "line": {
             "colorbar": {
              "outlinewidth": 0,
              "ticks": ""
             }
            },
            "type": "parcoords"
           }
          ],
          "pie": [
           {
            "automargin": true,
            "type": "pie"
           }
          ],
          "scatter": [
           {
            "fillpattern": {
             "fillmode": "overlay",
             "size": 10,
             "solidity": 0.2
            },
            "type": "scatter"
           }
          ],
          "scatter3d": [
           {
            "line": {
             "colorbar": {
              "outlinewidth": 0,
              "ticks": ""
             }
            },
            "marker": {
             "colorbar": {
              "outlinewidth": 0,
              "ticks": ""
             }
            },
            "type": "scatter3d"
           }
          ],
          "scattercarpet": [
           {
            "marker": {
             "colorbar": {
              "outlinewidth": 0,
              "ticks": ""
             }
            },
            "type": "scattercarpet"
           }
          ],
          "scattergeo": [
           {
            "marker": {
             "colorbar": {
              "outlinewidth": 0,
              "ticks": ""
             }
            },
            "type": "scattergeo"
           }
          ],
          "scattergl": [
           {
            "marker": {
             "colorbar": {
              "outlinewidth": 0,
              "ticks": ""
             }
            },
            "type": "scattergl"
           }
          ],
          "scattermap": [
           {
            "marker": {
             "colorbar": {
              "outlinewidth": 0,
              "ticks": ""
             }
            },
            "type": "scattermap"
           }
          ],
          "scattermapbox": [
           {
            "marker": {
             "colorbar": {
              "outlinewidth": 0,
              "ticks": ""
             }
            },
            "type": "scattermapbox"
           }
          ],
          "scatterpolar": [
           {
            "marker": {
             "colorbar": {
              "outlinewidth": 0,
              "ticks": ""
             }
            },
            "type": "scatterpolar"
           }
          ],
          "scatterpolargl": [
           {
            "marker": {
             "colorbar": {
              "outlinewidth": 0,
              "ticks": ""
             }
            },
            "type": "scatterpolargl"
           }
          ],
          "scatterternary": [
           {
            "marker": {
             "colorbar": {
              "outlinewidth": 0,
              "ticks": ""
             }
            },
            "type": "scatterternary"
           }
          ],
          "surface": [
           {
            "colorbar": {
             "outlinewidth": 0,
             "ticks": ""
            },
            "colorscale": [
             [
              0,
              "#0d0887"
             ],
             [
              0.1111111111111111,
              "#46039f"
             ],
             [
              0.2222222222222222,
              "#7201a8"
             ],
             [
              0.3333333333333333,
              "#9c179e"
             ],
             [
              0.4444444444444444,
              "#bd3786"
             ],
             [
              0.5555555555555556,
              "#d8576b"
             ],
             [
              0.6666666666666666,
              "#ed7953"
             ],
             [
              0.7777777777777778,
              "#fb9f3a"
             ],
             [
              0.8888888888888888,
              "#fdca26"
             ],
             [
              1,
              "#f0f921"
             ]
            ],
            "type": "surface"
           }
          ],
          "table": [
           {
            "cells": {
             "fill": {
              "color": "#EBF0F8"
             },
             "line": {
              "color": "white"
             }
            },
            "header": {
             "fill": {
              "color": "#C8D4E3"
             },
             "line": {
              "color": "white"
             }
            },
            "type": "table"
           }
          ]
         },
         "layout": {
          "annotationdefaults": {
           "arrowcolor": "#2a3f5f",
           "arrowhead": 0,
           "arrowwidth": 1
          },
          "autotypenumbers": "strict",
          "coloraxis": {
           "colorbar": {
            "outlinewidth": 0,
            "ticks": ""
           }
          },
          "colorscale": {
           "diverging": [
            [
             0,
             "#8e0152"
            ],
            [
             0.1,
             "#c51b7d"
            ],
            [
             0.2,
             "#de77ae"
            ],
            [
             0.3,
             "#f1b6da"
            ],
            [
             0.4,
             "#fde0ef"
            ],
            [
             0.5,
             "#f7f7f7"
            ],
            [
             0.6,
             "#e6f5d0"
            ],
            [
             0.7,
             "#b8e186"
            ],
            [
             0.8,
             "#7fbc41"
            ],
            [
             0.9,
             "#4d9221"
            ],
            [
             1,
             "#276419"
            ]
           ],
           "sequential": [
            [
             0,
             "#0d0887"
            ],
            [
             0.1111111111111111,
             "#46039f"
            ],
            [
             0.2222222222222222,
             "#7201a8"
            ],
            [
             0.3333333333333333,
             "#9c179e"
            ],
            [
             0.4444444444444444,
             "#bd3786"
            ],
            [
             0.5555555555555556,
             "#d8576b"
            ],
            [
             0.6666666666666666,
             "#ed7953"
            ],
            [
             0.7777777777777778,
             "#fb9f3a"
            ],
            [
             0.8888888888888888,
             "#fdca26"
            ],
            [
             1,
             "#f0f921"
            ]
           ],
           "sequentialminus": [
            [
             0,
             "#0d0887"
            ],
            [
             0.1111111111111111,
             "#46039f"
            ],
            [
             0.2222222222222222,
             "#7201a8"
            ],
            [
             0.3333333333333333,
             "#9c179e"
            ],
            [
             0.4444444444444444,
             "#bd3786"
            ],
            [
             0.5555555555555556,
             "#d8576b"
            ],
            [
             0.6666666666666666,
             "#ed7953"
            ],
            [
             0.7777777777777778,
             "#fb9f3a"
            ],
            [
             0.8888888888888888,
             "#fdca26"
            ],
            [
             1,
             "#f0f921"
            ]
           ]
          },
          "colorway": [
           "#636efa",
           "#EF553B",
           "#00cc96",
           "#ab63fa",
           "#FFA15A",
           "#19d3f3",
           "#FF6692",
           "#B6E880",
           "#FF97FF",
           "#FECB52"
          ],
          "font": {
           "color": "#2a3f5f"
          },
          "geo": {
           "bgcolor": "white",
           "lakecolor": "white",
           "landcolor": "white",
           "showlakes": true,
           "showland": true,
           "subunitcolor": "#C8D4E3"
          },
          "hoverlabel": {
           "align": "left"
          },
          "hovermode": "closest",
          "mapbox": {
           "style": "light"
          },
          "paper_bgcolor": "white",
          "plot_bgcolor": "white",
          "polar": {
           "angularaxis": {
            "gridcolor": "#EBF0F8",
            "linecolor": "#EBF0F8",
            "ticks": ""
           },
           "bgcolor": "white",
           "radialaxis": {
            "gridcolor": "#EBF0F8",
            "linecolor": "#EBF0F8",
            "ticks": ""
           }
          },
          "scene": {
           "xaxis": {
            "backgroundcolor": "white",
            "gridcolor": "#DFE8F3",
            "gridwidth": 2,
            "linecolor": "#EBF0F8",
            "showbackground": true,
            "ticks": "",
            "zerolinecolor": "#EBF0F8"
           },
           "yaxis": {
            "backgroundcolor": "white",
            "gridcolor": "#DFE8F3",
            "gridwidth": 2,
            "linecolor": "#EBF0F8",
            "showbackground": true,
            "ticks": "",
            "zerolinecolor": "#EBF0F8"
           },
           "zaxis": {
            "backgroundcolor": "white",
            "gridcolor": "#DFE8F3",
            "gridwidth": 2,
            "linecolor": "#EBF0F8",
            "showbackground": true,
            "ticks": "",
            "zerolinecolor": "#EBF0F8"
           }
          },
          "shapedefaults": {
           "line": {
            "color": "#2a3f5f"
           }
          },
          "ternary": {
           "aaxis": {
            "gridcolor": "#DFE8F3",
            "linecolor": "#A2B1C6",
            "ticks": ""
           },
           "baxis": {
            "gridcolor": "#DFE8F3",
            "linecolor": "#A2B1C6",
            "ticks": ""
           },
           "bgcolor": "white",
           "caxis": {
            "gridcolor": "#DFE8F3",
            "linecolor": "#A2B1C6",
            "ticks": ""
           }
          },
          "title": {
           "x": 0.05
          },
          "xaxis": {
           "automargin": true,
           "gridcolor": "#EBF0F8",
           "linecolor": "#EBF0F8",
           "ticks": "",
           "title": {
            "standoff": 15
           },
           "zerolinecolor": "#EBF0F8",
           "zerolinewidth": 2
          },
          "yaxis": {
           "automargin": true,
           "gridcolor": "#EBF0F8",
           "linecolor": "#EBF0F8",
           "ticks": "",
           "title": {
            "standoff": 15
           },
           "zerolinecolor": "#EBF0F8",
           "zerolinewidth": 2
          }
         }
        },
        "title": {
         "text": "Distribusi Attrition dan Jumlah Karyawan berdasarkan Job Level"
        },
        "xaxis": {
         "title": {
          "text": "Job Level"
         }
        },
        "yaxis": {
         "showgrid": false,
         "side": "left",
         "title": {
          "text": "Jumlah Karyawan"
         }
        },
        "yaxis2": {
         "overlaying": "y",
         "showgrid": false,
         "side": "right",
         "title": {
          "text": "Tingkat Attrition (%)"
         }
        }
       }
      }
     },
     "metadata": {},
     "output_type": "display_data"
    }
   ],
   "source": [
    "joblevel_attrition = df.groupby('JobLevel')['Attrition'].mean().sort_values(ascending=False) * 100\n",
    "joblevel_counts = df.groupby('JobLevel').size()\n",
    "\n",
    "joblevel_df = pd.DataFrame({\n",
    "    'Tingkat Attrition (%)': joblevel_attrition,\n",
    "    'Jumlah Karyawan': joblevel_counts\n",
    "})\n",
    "\n",
    "display(joblevel_df)\n",
    "\n",
    "fig = go.Figure()\n",
    "\n",
    "fig.add_trace(go.Bar(\n",
    "    x=joblevel_df.index,\n",
    "    y=joblevel_df['Jumlah Karyawan'],\n",
    "    name='Jumlah Karyawan',\n",
    "    marker_color='lightblue',\n",
    "    opacity=0.7,\n",
    "    yaxis='y'\n",
    "))\n",
    "\n",
    "fig.add_trace(go.Scatter(\n",
    "    x=joblevel_df.index,\n",
    "    y=joblevel_df['Tingkat Attrition (%)'],\n",
    "    name='Tingkat Attrition (%)',\n",
    "    marker_color='red',\n",
    "    mode='lines+markers',\n",
    "    marker=dict(size=10),\n",
    "    yaxis='y2'\n",
    "))\n",
    "\n",
    "fig.update_layout(\n",
    "    title='Distribusi Attrition dan Jumlah Karyawan berdasarkan Job Level',\n",
    "    xaxis=dict(title='Job Level'),\n",
    "    yaxis=dict(title='Jumlah Karyawan', side='left', showgrid=False),\n",
    "    yaxis2=dict(title='Tingkat Attrition (%)', side='right', overlaying='y', showgrid=False),\n",
    "    legend=dict(x=0.01, y=0.99),\n",
    "    template='plotly_white'\n",
    ")\n",
    "\n",
    "fig.show()\n",
    "\n",
    "fig.write_image(\"./visualisasi/attrition_job_level.jpg\", scale=2)"
   ]
  },
  {
   "cell_type": "markdown",
   "id": "2eb56090",
   "metadata": {},
   "source": [
    "### Attrition by MaritalStatus"
   ]
  },
  {
   "cell_type": "code",
   "execution_count": 64,
   "id": "1d1dd1ca",
   "metadata": {},
   "outputs": [
    {
     "data": {
      "application/vnd.microsoft.datawrangler.viewer.v0+json": {
       "columns": [
        {
         "name": "MaritalStatus",
         "rawType": "object",
         "type": "string"
        },
        {
         "name": "Jumlah Karyawan",
         "rawType": "int64",
         "type": "integer"
        },
        {
         "name": "Tingkat Attrition (%)",
         "rawType": "float64",
         "type": "float"
        }
       ],
       "conversionMethod": "pd.DataFrame",
       "ref": "024f21d5-3df0-4c04-9801-fb5affed8e78",
       "rows": [
        [
         "Divorced",
         "242",
         "9.50413223140496"
        ],
        [
         "Married",
         "464",
         "13.36206896551724"
        ],
        [
         "Single",
         "352",
         "26.704545454545453"
        ]
       ],
       "shape": {
        "columns": 2,
        "rows": 3
       }
      },
      "text/html": [
       "<div>\n",
       "<style scoped>\n",
       "    .dataframe tbody tr th:only-of-type {\n",
       "        vertical-align: middle;\n",
       "    }\n",
       "\n",
       "    .dataframe tbody tr th {\n",
       "        vertical-align: top;\n",
       "    }\n",
       "\n",
       "    .dataframe thead th {\n",
       "        text-align: right;\n",
       "    }\n",
       "</style>\n",
       "<table border=\"1\" class=\"dataframe\">\n",
       "  <thead>\n",
       "    <tr style=\"text-align: right;\">\n",
       "      <th></th>\n",
       "      <th>Jumlah Karyawan</th>\n",
       "      <th>Tingkat Attrition (%)</th>\n",
       "    </tr>\n",
       "    <tr>\n",
       "      <th>MaritalStatus</th>\n",
       "      <th></th>\n",
       "      <th></th>\n",
       "    </tr>\n",
       "  </thead>\n",
       "  <tbody>\n",
       "    <tr>\n",
       "      <th>Divorced</th>\n",
       "      <td>242</td>\n",
       "      <td>9.504132</td>\n",
       "    </tr>\n",
       "    <tr>\n",
       "      <th>Married</th>\n",
       "      <td>464</td>\n",
       "      <td>13.362069</td>\n",
       "    </tr>\n",
       "    <tr>\n",
       "      <th>Single</th>\n",
       "      <td>352</td>\n",
       "      <td>26.704545</td>\n",
       "    </tr>\n",
       "  </tbody>\n",
       "</table>\n",
       "</div>"
      ],
      "text/plain": [
       "               Jumlah Karyawan  Tingkat Attrition (%)\n",
       "MaritalStatus                                        \n",
       "Divorced                   242               9.504132\n",
       "Married                    464              13.362069\n",
       "Single                     352              26.704545"
      ]
     },
     "metadata": {},
     "output_type": "display_data"
    },
    {
     "data": {
      "application/vnd.plotly.v1+json": {
       "config": {
        "plotlyServerURL": "https://plot.ly"
       },
       "data": [
        {
         "hole": 0.4,
         "labels": [
          "Divorced<br>Attrition: 9.5%",
          "Married<br>Attrition: 13.4%",
          "Single<br>Attrition: 26.7%"
         ],
         "marker": {
          "colors": [
           "#F9D876",
           "#F98B60",
           "#61D4D5"
          ],
          "line": {
           "color": "#FFFFFF",
           "width": 2
          }
         },
         "pull": [
          0.05,
          0.05,
          0.05
         ],
         "textinfo": "percent",
         "textposition": "outside",
         "type": "pie",
         "values": {
          "bdata": "8gDQAWAB",
          "dtype": "i2"
         }
        }
       ],
       "layout": {
        "annotations": [
         {
          "font": {
           "size": 14
          },
          "showarrow": false,
          "text": "Status<br>Pernikahan",
          "x": 0.5,
          "y": 0.5
         }
        ],
        "height": 600,
        "legend": {
         "title": {
          "text": "Status Pernikahan & Tingkat Attrition"
         }
        },
        "margin": {
         "b": 20,
         "l": 20,
         "r": 20,
         "t": 80
        },
        "template": {
         "data": {
          "bar": [
           {
            "error_x": {
             "color": "#2a3f5f"
            },
            "error_y": {
             "color": "#2a3f5f"
            },
            "marker": {
             "line": {
              "color": "white",
              "width": 0.5
             },
             "pattern": {
              "fillmode": "overlay",
              "size": 10,
              "solidity": 0.2
             }
            },
            "type": "bar"
           }
          ],
          "barpolar": [
           {
            "marker": {
             "line": {
              "color": "white",
              "width": 0.5
             },
             "pattern": {
              "fillmode": "overlay",
              "size": 10,
              "solidity": 0.2
             }
            },
            "type": "barpolar"
           }
          ],
          "carpet": [
           {
            "aaxis": {
             "endlinecolor": "#2a3f5f",
             "gridcolor": "#C8D4E3",
             "linecolor": "#C8D4E3",
             "minorgridcolor": "#C8D4E3",
             "startlinecolor": "#2a3f5f"
            },
            "baxis": {
             "endlinecolor": "#2a3f5f",
             "gridcolor": "#C8D4E3",
             "linecolor": "#C8D4E3",
             "minorgridcolor": "#C8D4E3",
             "startlinecolor": "#2a3f5f"
            },
            "type": "carpet"
           }
          ],
          "choropleth": [
           {
            "colorbar": {
             "outlinewidth": 0,
             "ticks": ""
            },
            "type": "choropleth"
           }
          ],
          "contour": [
           {
            "colorbar": {
             "outlinewidth": 0,
             "ticks": ""
            },
            "colorscale": [
             [
              0,
              "#0d0887"
             ],
             [
              0.1111111111111111,
              "#46039f"
             ],
             [
              0.2222222222222222,
              "#7201a8"
             ],
             [
              0.3333333333333333,
              "#9c179e"
             ],
             [
              0.4444444444444444,
              "#bd3786"
             ],
             [
              0.5555555555555556,
              "#d8576b"
             ],
             [
              0.6666666666666666,
              "#ed7953"
             ],
             [
              0.7777777777777778,
              "#fb9f3a"
             ],
             [
              0.8888888888888888,
              "#fdca26"
             ],
             [
              1,
              "#f0f921"
             ]
            ],
            "type": "contour"
           }
          ],
          "contourcarpet": [
           {
            "colorbar": {
             "outlinewidth": 0,
             "ticks": ""
            },
            "type": "contourcarpet"
           }
          ],
          "heatmap": [
           {
            "colorbar": {
             "outlinewidth": 0,
             "ticks": ""
            },
            "colorscale": [
             [
              0,
              "#0d0887"
             ],
             [
              0.1111111111111111,
              "#46039f"
             ],
             [
              0.2222222222222222,
              "#7201a8"
             ],
             [
              0.3333333333333333,
              "#9c179e"
             ],
             [
              0.4444444444444444,
              "#bd3786"
             ],
             [
              0.5555555555555556,
              "#d8576b"
             ],
             [
              0.6666666666666666,
              "#ed7953"
             ],
             [
              0.7777777777777778,
              "#fb9f3a"
             ],
             [
              0.8888888888888888,
              "#fdca26"
             ],
             [
              1,
              "#f0f921"
             ]
            ],
            "type": "heatmap"
           }
          ],
          "histogram": [
           {
            "marker": {
             "pattern": {
              "fillmode": "overlay",
              "size": 10,
              "solidity": 0.2
             }
            },
            "type": "histogram"
           }
          ],
          "histogram2d": [
           {
            "colorbar": {
             "outlinewidth": 0,
             "ticks": ""
            },
            "colorscale": [
             [
              0,
              "#0d0887"
             ],
             [
              0.1111111111111111,
              "#46039f"
             ],
             [
              0.2222222222222222,
              "#7201a8"
             ],
             [
              0.3333333333333333,
              "#9c179e"
             ],
             [
              0.4444444444444444,
              "#bd3786"
             ],
             [
              0.5555555555555556,
              "#d8576b"
             ],
             [
              0.6666666666666666,
              "#ed7953"
             ],
             [
              0.7777777777777778,
              "#fb9f3a"
             ],
             [
              0.8888888888888888,
              "#fdca26"
             ],
             [
              1,
              "#f0f921"
             ]
            ],
            "type": "histogram2d"
           }
          ],
          "histogram2dcontour": [
           {
            "colorbar": {
             "outlinewidth": 0,
             "ticks": ""
            },
            "colorscale": [
             [
              0,
              "#0d0887"
             ],
             [
              0.1111111111111111,
              "#46039f"
             ],
             [
              0.2222222222222222,
              "#7201a8"
             ],
             [
              0.3333333333333333,
              "#9c179e"
             ],
             [
              0.4444444444444444,
              "#bd3786"
             ],
             [
              0.5555555555555556,
              "#d8576b"
             ],
             [
              0.6666666666666666,
              "#ed7953"
             ],
             [
              0.7777777777777778,
              "#fb9f3a"
             ],
             [
              0.8888888888888888,
              "#fdca26"
             ],
             [
              1,
              "#f0f921"
             ]
            ],
            "type": "histogram2dcontour"
           }
          ],
          "mesh3d": [
           {
            "colorbar": {
             "outlinewidth": 0,
             "ticks": ""
            },
            "type": "mesh3d"
           }
          ],
          "parcoords": [
           {
            "line": {
             "colorbar": {
              "outlinewidth": 0,
              "ticks": ""
             }
            },
            "type": "parcoords"
           }
          ],
          "pie": [
           {
            "automargin": true,
            "type": "pie"
           }
          ],
          "scatter": [
           {
            "fillpattern": {
             "fillmode": "overlay",
             "size": 10,
             "solidity": 0.2
            },
            "type": "scatter"
           }
          ],
          "scatter3d": [
           {
            "line": {
             "colorbar": {
              "outlinewidth": 0,
              "ticks": ""
             }
            },
            "marker": {
             "colorbar": {
              "outlinewidth": 0,
              "ticks": ""
             }
            },
            "type": "scatter3d"
           }
          ],
          "scattercarpet": [
           {
            "marker": {
             "colorbar": {
              "outlinewidth": 0,
              "ticks": ""
             }
            },
            "type": "scattercarpet"
           }
          ],
          "scattergeo": [
           {
            "marker": {
             "colorbar": {
              "outlinewidth": 0,
              "ticks": ""
             }
            },
            "type": "scattergeo"
           }
          ],
          "scattergl": [
           {
            "marker": {
             "colorbar": {
              "outlinewidth": 0,
              "ticks": ""
             }
            },
            "type": "scattergl"
           }
          ],
          "scattermap": [
           {
            "marker": {
             "colorbar": {
              "outlinewidth": 0,
              "ticks": ""
             }
            },
            "type": "scattermap"
           }
          ],
          "scattermapbox": [
           {
            "marker": {
             "colorbar": {
              "outlinewidth": 0,
              "ticks": ""
             }
            },
            "type": "scattermapbox"
           }
          ],
          "scatterpolar": [
           {
            "marker": {
             "colorbar": {
              "outlinewidth": 0,
              "ticks": ""
             }
            },
            "type": "scatterpolar"
           }
          ],
          "scatterpolargl": [
           {
            "marker": {
             "colorbar": {
              "outlinewidth": 0,
              "ticks": ""
             }
            },
            "type": "scatterpolargl"
           }
          ],
          "scatterternary": [
           {
            "marker": {
             "colorbar": {
              "outlinewidth": 0,
              "ticks": ""
             }
            },
            "type": "scatterternary"
           }
          ],
          "surface": [
           {
            "colorbar": {
             "outlinewidth": 0,
             "ticks": ""
            },
            "colorscale": [
             [
              0,
              "#0d0887"
             ],
             [
              0.1111111111111111,
              "#46039f"
             ],
             [
              0.2222222222222222,
              "#7201a8"
             ],
             [
              0.3333333333333333,
              "#9c179e"
             ],
             [
              0.4444444444444444,
              "#bd3786"
             ],
             [
              0.5555555555555556,
              "#d8576b"
             ],
             [
              0.6666666666666666,
              "#ed7953"
             ],
             [
              0.7777777777777778,
              "#fb9f3a"
             ],
             [
              0.8888888888888888,
              "#fdca26"
             ],
             [
              1,
              "#f0f921"
             ]
            ],
            "type": "surface"
           }
          ],
          "table": [
           {
            "cells": {
             "fill": {
              "color": "#EBF0F8"
             },
             "line": {
              "color": "white"
             }
            },
            "header": {
             "fill": {
              "color": "#C8D4E3"
             },
             "line": {
              "color": "white"
             }
            },
            "type": "table"
           }
          ]
         },
         "layout": {
          "annotationdefaults": {
           "arrowcolor": "#2a3f5f",
           "arrowhead": 0,
           "arrowwidth": 1
          },
          "autotypenumbers": "strict",
          "coloraxis": {
           "colorbar": {
            "outlinewidth": 0,
            "ticks": ""
           }
          },
          "colorscale": {
           "diverging": [
            [
             0,
             "#8e0152"
            ],
            [
             0.1,
             "#c51b7d"
            ],
            [
             0.2,
             "#de77ae"
            ],
            [
             0.3,
             "#f1b6da"
            ],
            [
             0.4,
             "#fde0ef"
            ],
            [
             0.5,
             "#f7f7f7"
            ],
            [
             0.6,
             "#e6f5d0"
            ],
            [
             0.7,
             "#b8e186"
            ],
            [
             0.8,
             "#7fbc41"
            ],
            [
             0.9,
             "#4d9221"
            ],
            [
             1,
             "#276419"
            ]
           ],
           "sequential": [
            [
             0,
             "#0d0887"
            ],
            [
             0.1111111111111111,
             "#46039f"
            ],
            [
             0.2222222222222222,
             "#7201a8"
            ],
            [
             0.3333333333333333,
             "#9c179e"
            ],
            [
             0.4444444444444444,
             "#bd3786"
            ],
            [
             0.5555555555555556,
             "#d8576b"
            ],
            [
             0.6666666666666666,
             "#ed7953"
            ],
            [
             0.7777777777777778,
             "#fb9f3a"
            ],
            [
             0.8888888888888888,
             "#fdca26"
            ],
            [
             1,
             "#f0f921"
            ]
           ],
           "sequentialminus": [
            [
             0,
             "#0d0887"
            ],
            [
             0.1111111111111111,
             "#46039f"
            ],
            [
             0.2222222222222222,
             "#7201a8"
            ],
            [
             0.3333333333333333,
             "#9c179e"
            ],
            [
             0.4444444444444444,
             "#bd3786"
            ],
            [
             0.5555555555555556,
             "#d8576b"
            ],
            [
             0.6666666666666666,
             "#ed7953"
            ],
            [
             0.7777777777777778,
             "#fb9f3a"
            ],
            [
             0.8888888888888888,
             "#fdca26"
            ],
            [
             1,
             "#f0f921"
            ]
           ]
          },
          "colorway": [
           "#636efa",
           "#EF553B",
           "#00cc96",
           "#ab63fa",
           "#FFA15A",
           "#19d3f3",
           "#FF6692",
           "#B6E880",
           "#FF97FF",
           "#FECB52"
          ],
          "font": {
           "color": "#2a3f5f"
          },
          "geo": {
           "bgcolor": "white",
           "lakecolor": "white",
           "landcolor": "white",
           "showlakes": true,
           "showland": true,
           "subunitcolor": "#C8D4E3"
          },
          "hoverlabel": {
           "align": "left"
          },
          "hovermode": "closest",
          "mapbox": {
           "style": "light"
          },
          "paper_bgcolor": "white",
          "plot_bgcolor": "white",
          "polar": {
           "angularaxis": {
            "gridcolor": "#EBF0F8",
            "linecolor": "#EBF0F8",
            "ticks": ""
           },
           "bgcolor": "white",
           "radialaxis": {
            "gridcolor": "#EBF0F8",
            "linecolor": "#EBF0F8",
            "ticks": ""
           }
          },
          "scene": {
           "xaxis": {
            "backgroundcolor": "white",
            "gridcolor": "#DFE8F3",
            "gridwidth": 2,
            "linecolor": "#EBF0F8",
            "showbackground": true,
            "ticks": "",
            "zerolinecolor": "#EBF0F8"
           },
           "yaxis": {
            "backgroundcolor": "white",
            "gridcolor": "#DFE8F3",
            "gridwidth": 2,
            "linecolor": "#EBF0F8",
            "showbackground": true,
            "ticks": "",
            "zerolinecolor": "#EBF0F8"
           },
           "zaxis": {
            "backgroundcolor": "white",
            "gridcolor": "#DFE8F3",
            "gridwidth": 2,
            "linecolor": "#EBF0F8",
            "showbackground": true,
            "ticks": "",
            "zerolinecolor": "#EBF0F8"
           }
          },
          "shapedefaults": {
           "line": {
            "color": "#2a3f5f"
           }
          },
          "ternary": {
           "aaxis": {
            "gridcolor": "#DFE8F3",
            "linecolor": "#A2B1C6",
            "ticks": ""
           },
           "baxis": {
            "gridcolor": "#DFE8F3",
            "linecolor": "#A2B1C6",
            "ticks": ""
           },
           "bgcolor": "white",
           "caxis": {
            "gridcolor": "#DFE8F3",
            "linecolor": "#A2B1C6",
            "ticks": ""
           }
          },
          "title": {
           "x": 0.05
          },
          "xaxis": {
           "automargin": true,
           "gridcolor": "#EBF0F8",
           "linecolor": "#EBF0F8",
           "ticks": "",
           "title": {
            "standoff": 15
           },
           "zerolinecolor": "#EBF0F8",
           "zerolinewidth": 2
          },
          "yaxis": {
           "automargin": true,
           "gridcolor": "#EBF0F8",
           "linecolor": "#EBF0F8",
           "ticks": "",
           "title": {
            "standoff": 15
           },
           "zerolinecolor": "#EBF0F8",
           "zerolinewidth": 2
          }
         }
        },
        "title": {
         "text": "Distribusi Karyawan Berdasarkan Status Pernikahan"
        },
        "width": 800
       }
      }
     },
     "metadata": {},
     "output_type": "display_data"
    }
   ],
   "source": [
    "marital_attrition = df.groupby('MaritalStatus')['Attrition'].mean() * 100\n",
    "marital_counts = df.groupby('MaritalStatus').size()\n",
    "\n",
    "marital_df = pd.DataFrame({\n",
    "    'Jumlah Karyawan': marital_counts,\n",
    "    'Tingkat Attrition (%)': marital_attrition\n",
    "})\n",
    "\n",
    "display(marital_df)\n",
    "\n",
    "custom_labels = [f\"{status}<br>Attrition: {attrition:.1f}%\" \n",
    "                for status, attrition in zip(marital_attrition.index, marital_attrition.values)]\n",
    "\n",
    "fig = go.Figure(go.Pie(\n",
    "    labels=custom_labels,\n",
    "    values=marital_counts.values,\n",
    "    hole=0.4,\n",
    "    textposition='outside',\n",
    "    textinfo='percent', \n",
    "    pull=[0.05, 0.05, 0.05],\n",
    "    marker=dict(\n",
    "        colors=['#F9D876', '#F98B60', '#61D4D5'],\n",
    "        line=dict(color='#FFFFFF', width=2)\n",
    "    )\n",
    "))\n",
    "\n",
    "fig.update_layout(\n",
    "    title='Distribusi Karyawan Berdasarkan Status Pernikahan',\n",
    "    template='plotly_white',\n",
    "    legend_title='Status Pernikahan & Tingkat Attrition',\n",
    "    margin=dict(t=80, b=20, l=20, r=20),\n",
    "    height=600,\n",
    "    width=800\n",
    ")\n",
    "\n",
    "fig.add_annotation(\n",
    "    text=\"Status<br>Pernikahan\",\n",
    "    x=0.5, y=0.5,\n",
    "    font_size=14,\n",
    "    showarrow=False\n",
    ")\n",
    "\n",
    "fig.show()\n",
    "\n",
    "fig.write_image(\"./visualisasi/distribusi_status_pernikahan.jpg\", scale=2)"
   ]
  },
  {
   "cell_type": "markdown",
   "id": "a1a1370f",
   "metadata": {},
   "source": [
    "### Attrition by Distance"
   ]
  },
  {
   "cell_type": "code",
   "execution_count": 68,
   "id": "b5a9f9bc",
   "metadata": {},
   "outputs": [
    {
     "data": {
      "application/vnd.microsoft.datawrangler.viewer.v0+json": {
       "columns": [
        {
         "name": "index",
         "rawType": "int64",
         "type": "integer"
        },
        {
         "name": "Attrition",
         "rawType": "object",
         "type": "string"
        },
        {
         "name": "mean",
         "rawType": "float64",
         "type": "float"
        },
        {
         "name": "median",
         "rawType": "float64",
         "type": "float"
        },
        {
         "name": "min",
         "rawType": "int64",
         "type": "integer"
        },
        {
         "name": "max",
         "rawType": "int64",
         "type": "integer"
        },
        {
         "name": "std",
         "rawType": "float64",
         "type": "float"
        }
       ],
       "conversionMethod": "pd.DataFrame",
       "ref": "52357ad4-c470-46b4-99aa-27c7c8bf027f",
       "rows": [
        [
         "0",
         "Tidak Keluar",
         "8.695108077360636",
         "7.0",
         "1",
         "29",
         "7.909963798569764"
        ],
        [
         "1",
         "Keluar",
         "10.368715083798882",
         "8.0",
         "1",
         "29",
         "8.541262966260676"
        ]
       ],
       "shape": {
        "columns": 6,
        "rows": 2
       }
      },
      "text/html": [
       "<div>\n",
       "<style scoped>\n",
       "    .dataframe tbody tr th:only-of-type {\n",
       "        vertical-align: middle;\n",
       "    }\n",
       "\n",
       "    .dataframe tbody tr th {\n",
       "        vertical-align: top;\n",
       "    }\n",
       "\n",
       "    .dataframe thead th {\n",
       "        text-align: right;\n",
       "    }\n",
       "</style>\n",
       "<table border=\"1\" class=\"dataframe\">\n",
       "  <thead>\n",
       "    <tr style=\"text-align: right;\">\n",
       "      <th></th>\n",
       "      <th>Attrition</th>\n",
       "      <th>mean</th>\n",
       "      <th>median</th>\n",
       "      <th>min</th>\n",
       "      <th>max</th>\n",
       "      <th>std</th>\n",
       "    </tr>\n",
       "  </thead>\n",
       "  <tbody>\n",
       "    <tr>\n",
       "      <th>0</th>\n",
       "      <td>Tidak Keluar</td>\n",
       "      <td>8.695108</td>\n",
       "      <td>7.0</td>\n",
       "      <td>1</td>\n",
       "      <td>29</td>\n",
       "      <td>7.909964</td>\n",
       "    </tr>\n",
       "    <tr>\n",
       "      <th>1</th>\n",
       "      <td>Keluar</td>\n",
       "      <td>10.368715</td>\n",
       "      <td>8.0</td>\n",
       "      <td>1</td>\n",
       "      <td>29</td>\n",
       "      <td>8.541263</td>\n",
       "    </tr>\n",
       "  </tbody>\n",
       "</table>\n",
       "</div>"
      ],
      "text/plain": [
       "      Attrition       mean  median  min  max       std\n",
       "0  Tidak Keluar   8.695108     7.0    1   29  7.909964\n",
       "1        Keluar  10.368715     8.0    1   29  8.541263"
      ]
     },
     "metadata": {},
     "output_type": "display_data"
    },
    {
     "data": {
      "application/vnd.plotly.v1+json": {
       "config": {
        "plotlyServerURL": "https://plot.ly"
       },
       "data": [
        {
         "alignmentgroup": "True",
         "hovertemplate": "Status Keluar=%{x}<br>Jarak dari Rumah (km)=%{y}<extra></extra>",
         "legendgroup": "1.0",
         "marker": {
          "color": "#636EFA"
         },
         "name": "1.0",
         "notched": false,
         "offsetgroup": "1.0",
         "orientation": "v",
         "showlegend": true,
         "type": "box",
         "x": {
          "bdata": "AAAAAAAA8D8AAAAAAADwPwAAAAAAAPA/AAAAAAAA8D8AAAAAAADwPwAAAAAAAPA/AAAAAAAA8D8AAAAAAADwPwAAAAAAAPA/AAAAAAAA8D8AAAAAAADwPwAAAAAAAPA/AAAAAAAA8D8AAAAAAADwPwAAAAAAAPA/AAAAAAAA8D8AAAAAAADwPwAAAAAAAPA/AAAAAAAA8D8AAAAAAADwPwAAAAAAAPA/AAAAAAAA8D8AAAAAAADwPwAAAAAAAPA/AAAAAAAA8D8AAAAAAADwPwAAAAAAAPA/AAAAAAAA8D8AAAAAAADwPwAAAAAAAPA/AAAAAAAA8D8AAAAAAADwPwAAAAAAAPA/AAAAAAAA8D8AAAAAAADwPwAAAAAAAPA/AAAAAAAA8D8AAAAAAADwPwAAAAAAAPA/AAAAAAAA8D8AAAAAAADwPwAAAAAAAPA/AAAAAAAA8D8AAAAAAADwPwAAAAAAAPA/AAAAAAAA8D8AAAAAAADwPwAAAAAAAPA/AAAAAAAA8D8AAAAAAADwPwAAAAAAAPA/AAAAAAAA8D8AAAAAAADwPwAAAAAAAPA/AAAAAAAA8D8AAAAAAADwPwAAAAAAAPA/AAAAAAAA8D8AAAAAAADwPwAAAAAAAPA/AAAAAAAA8D8AAAAAAADwPwAAAAAAAPA/AAAAAAAA8D8AAAAAAADwPwAAAAAAAPA/AAAAAAAA8D8AAAAAAADwPwAAAAAAAPA/AAAAAAAA8D8AAAAAAADwPwAAAAAAAPA/AAAAAAAA8D8AAAAAAADwPwAAAAAAAPA/AAAAAAAA8D8AAAAAAADwPwAAAAAAAPA/AAAAAAAA8D8AAAAAAADwPwAAAAAAAPA/AAAAAAAA8D8AAAAAAADwPwAAAAAAAPA/AAAAAAAA8D8AAAAAAADwPwAAAAAAAPA/AAAAAAAA8D8AAAAAAADwPwAAAAAAAPA/AAAAAAAA8D8AAAAAAADwPwAAAAAAAPA/AAAAAAAA8D8AAAAAAADwPwAAAAAAAPA/AAAAAAAA8D8AAAAAAADwPwAAAAAAAPA/AAAAAAAA8D8AAAAAAADwPwAAAAAAAPA/AAAAAAAA8D8AAAAAAADwPwAAAAAAAPA/AAAAAAAA8D8AAAAAAADwPwAAAAAAAPA/AAAAAAAA8D8AAAAAAADwPwAAAAAAAPA/AAAAAAAA8D8AAAAAAADwPwAAAAAAAPA/AAAAAAAA8D8AAAAAAADwPwAAAAAAAPA/AAAAAAAA8D8AAAAAAADwPwAAAAAAAPA/AAAAAAAA8D8AAAAAAADwPwAAAAAAAPA/AAAAAAAA8D8AAAAAAADwPwAAAAAAAPA/AAAAAAAA8D8AAAAAAADwPwAAAAAAAPA/AAAAAAAA8D8AAAAAAADwPwAAAAAAAPA/AAAAAAAA8D8AAAAAAADwPwAAAAAAAPA/AAAAAAAA8D8AAAAAAADwPwAAAAAAAPA/AAAAAAAA8D8AAAAAAADwPwAAAAAAAPA/AAAAAAAA8D8AAAAAAADwPwAAAAAAAPA/AAAAAAAA8D8AAAAAAADwPwAAAAAAAPA/AAAAAAAA8D8AAAAAAADwPwAAAAAAAPA/AAAAAAAA8D8AAAAAAADwPwAAAAAAAPA/AAAAAAAA8D8AAAAAAADwPwAAAAAAAPA/AAAAAAAA8D8AAAAAAADwPwAAAAAAAPA/AAAAAAAA8D8AAAAAAADwPwAAAAAAAPA/AAAAAAAA8D8AAAAAAADwPwAAAAAAAPA/AAAAAAAA8D8AAAAAAADwPwAAAAAAAPA/AAAAAAAA8D8AAAAAAADwPwAAAAAAAPA/AAAAAAAA8D8AAAAAAADwPwAAAAAAAPA/AAAAAAAA8D8AAAAAAADwPwAAAAAAAPA/AAAAAAAA8D8AAAAAAADwPw==",
          "dtype": "f8"
         },
         "x0": " ",
         "xaxis": "x",
         "y": {
          "bdata": "CwQCBAEBBhUCAQkSCgYMCA4CCxECAQUXCgkEEwwGFgUUAwgJAgYDBwodChoCHRsDBgsBEBYECgkKCAMFBhEWCQ8CEBwYAw8ZBwQBCBkGCgMCFwEFAgILGQMDCRIXAxgOFAICGBUJAxMbFgQQAgECAh0HEQ8CBQUJAgQZDhMEGAkNBQUBEAEXCAkDBQkHDwEBGAICDQwMAQgHAQEaDQEBDhQBGR0KCAMEAQICFwIdGRIYDAE=",
          "dtype": "i1"
         },
         "y0": " ",
         "yaxis": "y"
        },
        {
         "alignmentgroup": "True",
         "hovertemplate": "Status Keluar=%{x}<br>Jarak dari Rumah (km)=%{y}<extra></extra>",
         "legendgroup": "0.0",
         "marker": {
          "color": "#EF553B"
         },
         "name": "0.0",
         "notched": false,
         "offsetgroup": "0.0",
         "orientation": "v",
         "showlegend": true,
         "type": "box",
         "x": {
          "bdata": "AAAAAAAAAAAAAAAAAAAAAAAAAAAAAAAAAAAAAAAAAAAAAAAAAAAAAAAAAAAAAAAAAAAAAAAAAAAAAAAAAAAAAAAAAAAAAAAAAAAAAAAAAAAAAAAAAAAAAAAAAAAAAAAAAAAAAAAAAAAAAAAAAAAAAAAAAAAAAAAAAAAAAAAAAAAAAAAAAAAAAAAAAAAAAAAAAAAAAAAAAAAAAAAAAAAAAAAAAAAAAAAAAAAAAAAAAAAAAAAAAAAAAAAAAAAAAAAAAAAAAAAAAAAAAAAAAAAAAAAAAAAAAAAAAAAAAAAAAAAAAAAAAAAAAAAAAAAAAAAAAAAAAAAAAAAAAAAAAAAAAAAAAAAAAAAAAAAAAAAAAAAAAAAAAAAAAAAAAAAAAAAAAAAAAAAAAAAAAAAAAAAAAAAAAAAAAAAAAAAAAAAAAAAAAAAAAAAAAAAAAAAAAAAAAAAAAAAAAAAAAAAAAAAAAAAAAAAAAAAAAAAAAAAAAAAAAAAAAAAAAAAAAAAAAAAAAAAAAAAAAAAAAAAAAAAAAAAAAAAAAAAAAAAAAAAAAAAAAAAAAAAAAAAAAAAAAAAAAAAAAAAAAAAAAAAAAAAAAAAAAAAAAAAAAAAAAAAAAAAAAAAAAAAAAAAAAAAAAAAAAAAAAAAAAAAAAAAAAAAAAAAAAAAAAAAAAAAAAAAAAAAAAAAAAAAAAAAAAAAAAAAAAAAAAAAAAAAAAAAAAAAAAAAAAAAAAAAAAAAAAAAAAAAAAAAAAAAAAAAAAAAAAAAAAAAAAAAAAAAAAAAAAAAAAAAAAAAAAAAAAAAAAAAAAAAAAAAAAAAAAAAAAAAAAAAAAAAAAAAAAAAAAAAAAAAAAAAAAAAAAAAAAAAAAAAAAAAAAAAAAAAAAAAAAAAAAAAAAAAAAAAAAAAAAAAAAAAAAAAAAAAAAAAAAAAAAAAAAAAAAAAAAAAAAAAAAAAAAAAAAAAAAAAAAAAAAAAAAAAAAAAAAAAAAAAAAAAAAAAAAAAAAAAAAAAAAAAAAAAAAAAAAAAAAAAAAAAAAAAAAAAAAAAAAAAAAAAAAAAAAAAAAAAAAAAAAAAAAAAAAAAAAAAAAAAAAAAAAAAAAAAAAAAAAAAAAAAAAAAAAAAAAAAAAAAAAAAAAAAAAAAAAAAAAAAAAAAAAAAAAAAAAAAAAAAAAAAAAAAAAAAAAAAAAAAAAAAAAAAAAAAAAAAAAAAAAAAAAAAAAAAAAAAAAAAAAAAAAAAAAAAAAAAAAAAAAAAAAAAAAAAAAAAAAAAAAAAAAAAAAAAAAAAAAAAAAAAAAAAAAAAAAAAAAAAAAAAAAAAAAAAAAAAAAAAAAAAAAAAAAAAAAAAAAAAAAAAAAAAAAAAAAAAAAAAAAAAAAAAAAAAAAAAAAAAAAAAAAAAAAAAAAAAAAAAAAAAAAAAAAAAAAAAAAAAAAAAAAAAAAAAAAAAAAAAAAAAAAAAAAAAAAAAAAAAAAAAAAAAAAAAAAAAAAAAAAAAAAAAAAAAAAAAAAAAAAAAAAAAAAAAAAAAAAAAAAAAAAAAAAAAAAAAAAAAAAAAAAAAAAAAAAAAAAAAAAAAAAAAAAAAAAAAAAAAAAAAAAAAAAAAAAAAAAAAAAAAAAAAAAAAAAAAAAAAAAAAAAAAAAAAAAAAAAAAAAAAAAAAAAAAAAAAAAAAAAAAAAAAAAAAAAAAAAAAAAAAAAAAAAAAAAAAAAAAAAAAAAAAAAAAAAAAAAAAAAAAAAAAAAAAAAAAAAAAAAAAAAAAAAAAAAAAAAAAAAAAAAAAAAAAAAAAAAAAAAAAAAAAAAAAAAAAAAAAAAAAAAAAAAAAAAAAAAAAAAAAAAAAAAAAAAAAAAAAAAAAAAAAAAAAAAAAAAAAAAAAAAAAAAAAAAAAAAAAAAAAAAAAAAAAAAAAAAAAAAAAAAAAAAAAAAAAAAAAAAAAAAAAAAAAAAAAAAAAAAAAAAAAAAAAAAAAAAAAAAAAAAAAAAAAAAAAAAAAAAAAAAAAAAAAAAAAAAAAAAAAAAAAAAAAAAAAAAAAAAAAAAAAAAAAAAAAAAAAAAAAAAAAAAAAAAAAAAAAAAAAAAAAAAAAAAAAAAAAAAAAAAAAAAAAAAAAAAAAAAAAAAAAAAAAAAAAAAAAAAAAAAAAAAAAAAAAAAAAAAAAAAAAAAAAAAAAAAAAAAAAAAAAAAAAAAAAAAAAAAAAAAAAAAAAAAAAAAAAAAAAAAAAAAAAAAAAAAAAAAAAAAAAAAAAAAAAAAAAAAAAAAAAAAAAAAAAAAAAAAAAAAAAAAAAAAAAAAAAAAAAAAAAAAAAAAAAAAAAAAAAAAAAAAAAAAAAAAAAAAAAAAAAAAAAAAAAAAAAAAAAAAAAAAAAAAAAAAAAAAAAAAAAAAAAAAAAAAAAAAAAAAAAAAAAAAAAAAAAAAAAAAAAAAAAAAAAAAAAAAAAAAAAAAAAAAAAAAAAAAAAAAAAAAAAAAAAAAAAAAAAAAAAAAAAAAAAAAAAAAAAAAAAAAAAAAAAAAAAAAAAAAAAAAAAAAAAAAAAAAAAAAAAAAAAAAAAAAAAAAAAAAAAAAAAAAAAAAAAAAAAAAAAAAAAAAAAAAAAAAAAAAAAAAAAAAAAAAAAAAAAAAAAAAAAAAAAAAAAAAAAAAAAAAAAAAAAAAAAAAAAAAAAAAAAAAAAAAAAAAAAAAAAAAAAAAAAAAAAAAAAAAAAAAAAAAAAAAAAAAAAAAAAAAAAAAAAAAAAAAAAAAAAAAAAAAAAAAAAAAAAAAAAAAAAAAAAAAAAAAAAAAAAAAAAAAAAAAAAAAAAAAAAAAAAAAAAAAAAAAAAAAAAAAAAAAAAAAAAAAAAAAAAAAAAAAAAAAAAAAAAAAAAAAAAAAAAAAAAAAAAAAAAAAAAAAAAAAAAAAAAAAAAAAAAAAAAAAAAAAAAAAAAAAAAAAAAAAAAAAAAAAAAAAAAAAAAAAAAAAAAAAAAAAAAAAAAAAAAAAAAAAAAAAAAAAAAAAAAAAAAAAAAAAAAAAAAAAAAAAAAAAAAAAAAAAAAAAAAAAAAAAAAAAAAAAAAAAAAAAAAAAAAAAAAAAAAAAAAAAAAAAAAAAAAAAAAAAAAAAAAAAAAAAAAAAAAAAAAAAAAAAAAAAAAAAAAAAAAAAAAAAAAAAAAAAAAAAAAAAAAAAAAAAAAAAAAAAAAAAAAAAAAAAAAAAAAAAAAAAAAAAAAAAAAAAAAAAAAAAAAAAAAAAAAAAAAAAAAAAAAAAAAAAAAAAAAAAAAAAAAAAAAAAAAAAAAAAAAAAAAAAAAAAAAAAAAAAAAAAAAAAAAAAAAAAAAAAAAAAAAAAAAAAAAAAAAAAAAAAAAAAAAAAAAAAAAAAAAAAAAAAAAAAAAAAAAAAAAAAAAAAAAAAAAAAAAAAAAAAAAAAAAAAAAAAAAAAAAAAAAAAAAAAAAAAAAAAAAAAAAAAAAAAAAAAAAAAAAAAAAAAAAAAAAAAAAAAAAAAAAAAAAAAAAAAAAAAAAAAAAAAAAAAAAAAAAAAAAAAAAAAAAAAAAAAAAAAAAAAAAAAAAAAAAAAAAAAAAAAAAAAAAAAAAAAAAAAAAAAAAAAAAAAAAAAAAAAAAAAAAAAAAAAAAAAAAAAAAAAAAAAAAAAAAAAAAAAAAAAAAAAAAAAAAAAAAAAAAAAAAAAAAAAAAAAAAAAAAAAAAAAAAAAAAAAAAAAAAAAAAAAAAAAAAAAAAAAAAAAAAAAAAAAAAAAAAAAAAAAAAAAAAAAAAAAAAAAAAAAAAAAAAAAAAAAAAAAAAAAAAAAAAAAAAAAAAAAAAAAAAAAAAAAAAAAAAAAAAAAAAAAAAAAAAAAAAAAAAAAAAAAAAAAAAAAAAAAAAAAAAAAAAAAAAAAAAAAAAAAAAAAAAAAAAAAAAAAAAAAAAAAAAAAAAAAAAAAAAAAAAAAAAAAAAAAAAAAAAAAAAAAAAAAAAAAAAAAAAAAAAAAAAAAAAAAAAAAAAAAAAAAAAAAAAAAAAAAAAAAAAAAAAAAAAAAAAAAAAAAAAAAAAAAAAAAAAAAAAAAAAAAAAAAAAAAAAAAAAAAAAAAAAAAAAAAAAAAAAAAAAAAAAAAAAAAAAAAAAAAAAAAAAAAAAAAAAAAAAAAAAAAAAAAAAAAAAAAAAAAAAAAAAAAAAAAAAAAAAAAAAAAAAAAAAAAAAAAAAAAAAAAAAAAAAAAAAAAAAAAAAAAAAAAAAAAAAAAAAAAAAAAAAAAAAAAAAAAAAAAAAAAAAAAAAAAAAAAAAAAAAAAAAAAAAAAAAAAAAAAAAAAAAAAAAAAAAAAAAAAAAAAAAAAAAAAAAAAAAAAAAAAAAAAAAAAAAAAAAAAAAAAAAAAAAAAAAAAAAAAAAAAAAAAAAAAAAAAAAAAAAAAAAAAAAAAAAAAAAAAAAAAAAAAAAAAAAAAAAAAAAAAAAAAAAAAAAAAAAAAAAAAAAAAAAAAAAAAAAAAAAAAAAAAAAAAAAAAAAAAAAAAAAAAAAAAAAAAAAAAAAAAAAAAAAAAAAAAAAAAAAAAAAAAAAAAAAAAAAAAAAAAAAAAAAAAAAAAAAAAAAAAAAAAAAAAAAAAAAAAAAAAAAAAAAAAAAAAAAAAAAAAAAAAAAAAAAAAAAAAAAAAAAAAAAAAAAAAAAAAAAAAAAAAAAAAAAAAAAAAAAAAAAAAAAAAAAAAAAAAAAAAAAAAAAAAAAAAAAAAAAAAAAAAAAAAAAAAAAAAAAAAAAAAAAAAAAAAAAAAAAAAAAAAAAAAAAAAAAAAAAAAAAAAAAAAAAAAAAAAAAAAAAAAAAAAAAAAAAAAAAAAAAAAAAAAAAAAAAAAAAAAAAAAAAAAAAAAAAAAAAAAAAAAAAAAAAAAAAAAAAAAAAAAAAAAAAAAAAAAAAAAAAAAAAAAAAAAAAAAAAAAAAAAAAAAAAAAAAAAAAAAAAAAAAAAAAAAAAAAAAAAAAAAAAAAAAAAAAAAAAAAAAAAAAAAAAAAAAAAAAAAAAAAAAAAAAAAAAAAAAAAAAAAAAAAAAAAAAAAAAAAAAAAAAAAAAAAAAAAAAAAAAAAAAAAAAAAAAAAAAAAAAAAAAAAAAAAAAAAAAAAAAAAAAAAAAAAAAAAAAAAAAAAAAAAAAAAAAAAAAAAAAAAAAAAAAAAAAAAAAAAAAAAAAAAAAAAAAAAAAAAAAAAAAAAAAAAAAAAAAAAAAAAAAAAAAAAAAAAAAAAAAAAAAAAAAAAAAAAAAAAAAAAAAAAAAAAAAAAAAAAAAAAAAAAAAAAAAAAAAAAAAAAAAAAAAAAAAAAAAAAAAAAAAAAAAAAAAAAAAAAAAAAAAAAAAAAAAAAAAAAAAAAAAAAAAAAAAAAAAAAAAAAAAAAAAAAAAAAAAAAAAAAAAAAAAAAAAAAAAAAAAAAAAAAAAAAAAAAAAAAAAAAAAAAAAAAAAAAAAAAAAAAAAAAAAAAAAAAAAAAAAAAAAAAAAAAAAAAAAAAAAAAAAAAAAAAAAAAAAAAAAAAAAAAAAAAAAAAAAAAAAAAAAAAAAAAAAAAAAAAAAAAAAAAAAAAAAAAAAAAAAAAAAAAAAAAAAAAAAAAAAAAAAAAAAAAAAAAAAAAAAAAAAAAAAAAAAAAAAAAAAAAAAAAAAAAAAAAAAAAAAAAAAAAAAAAAAAAAAAAAAAAAAAAAAAAAAAAAAAAAAAAAAAAAAAAAAAAAAAAAAAAAAAAAAAAAAAAAAAAAAAAAAAAAAAAAAAAAAAAAAAAAAAAAAAAAAAAAAAAAAAAAAAAAAAAAAAAAAAAAAAAAAAAAAAAAAAAAAAAAAAAAAAAAAAAAAAAAAAAAAAAAAAAAAAAAAAAAAAAAAAAAAAAAAAAAAAAAAAAAAAAAAAAAAAAAAAAAAAAAAAAAAAAAAAAAAAAAAAAAAAAAAAAAAAAAAAAAAAAAAAAAAAAAAAAAAAAAAAAAAAAAAAAAAAAAAAAAAAAAAAAAAAAAAAAAAAAAAAAAAAAAAAAAAAAAAAAAAAAAAAAAAAAAAAAAAAAAAAAAAAAAAAAAAAAAAAAAAAAAAAAAAAAAAAAAAAAAAAAAAAAAAAAAAAAAAAAAAAAAAAAAAAAAAAAAAAAAAAAAAAAAAAAAAAAAAAAAAAAAAAAAAAAAAAAAAAAAAAAAAAAAAAAAAAAAAAAAAAAAAAAAAAAAAAAAAAAAAAAAAAAAAAAAAAAAAAAAAAAAAAAAAAAAAAAAAAAAAAAAAAAAAAAAAAAAAAAAAAAAAAAAAAAAAAAAAAAAAAAAAAAAAAAAAAAAAAAAAAAAAAAAAAAAAAAAAAAAAAAAAAAAAAAAAAAAAAAAAAAAAAAAAAAAAAAAAAAAAAAAAAAAAAAAAAAAAAAAAAAAAAAAAAAAAAAAAAAAAAAAAAAAAAAAAAAAAAAAAAAAAAAAAAAAAAAAAAAAAAAAAAAAAAAAAAAAAAAAAAAAAAAAAAAAAAAAAAAAAAAAAAAAAAAAAAAAAAAAAAAAAAAAAAAAAAAAAAAAAAAAAAAAAAAAAAAAAAAAAAAAAAAAAAAAAAAAAAAAAAAAAAAAAAAAAAAAAAAAAAAAAAAAAAAAAAAAAAAAAAAAAAAAAAAAAAAAAAAAAAAAAAAAAAAAAAAAAAAAAAAAAAAAAAAAAAAAAAAAAAAAAAAAAAAAAAAAAAAAAAAAAAAAAAAAAAAAAAAAAAAAAAAAAAAAAAAAAAAAAAAAAAAAAAAAAAAAAAAAAAAAAAAAAAAAAAAAAAAAAAAAAAAAAAAAAAAAAAAAAAAAAAAAAAAAAAAAAAAAAAAAAAAAAAAAAAAAAAAAAAAAAAAAAAAAAAAAAAAAAAAAAAAAAAAAAAAAAAAAAAAAAAAAAAAAAAAAAAAAAAAAAAAAAAAAAAAAAAAAAAAAAAAAAAAAAAAAAAAAAAAAAAAAAAAAAAAAAAAAAAAAAAAAAAAAAAAAAAAAAAAAAAAAAAAAAAAAAAAAAAAAAAAAAAAAAAAAAAAAAAAAAAAAAAAAAAAAAAAAAAAAAAAAAAAAAAAAAAAAAAAAAAAAAAAAAAAAAAAAAAAAAAAAAAAAAAAAAAAAAAAAAAAAAAAAAAAAAAAAAAAAAAAAAAAAAAAAAAAAAAAAAAAAAAAAAAAAAAAAAAAAAAAAAAAAAAAAAAAAAAAAAAAAAAAAAAAAAAAAAAAAAAAAAAAAAAAAAAAAAAAAAAAAAAAAAAAAAAAAAAAAAAAAAAAAAAAAAAAAAAAAAAAAAAAAAAAAAAAAAAAAAAAAAAAAAAAAAAAAAAAAAAAAAAAAAAAAAAAAAAAAAAAAAAAAAAAAAAAAAAAAAAAAAAAAAAAAAAAAAAAAAAAAAAAAAAAAAAAAAAAAAAAAAAAAAAAAAAAAAAAAAAAAAAAAAAAAAAAAAAAAAAAAAAAAAAAAAAAAAAAAAAAAAAAAAAAAAAAAAAAAAAAAAAAAAAAAAAAAAAAAAAAAAAAAAAAAAAAAAAAAAAAAAAAAAAAAAAAAAAAAAAAAAAAAAAAAAAAAAAAAAAAAAAAAAAAAAAAAAAAAAAAAAAAAAAAAAAAAAAAAAAAAAAAAAAAAAAAAAAAAAAAAAAAAAAAAAAAAAAAAAAAAAAAAAAAAAAAAAAAAAAAAAAAAAAAAAAAAAAAAAAAAAAAAAAAAAAAAAAAAAAAAAAAAAAAAAAAAAAAAAAAAAAAAAAAAAAAAAAAAAAAAAAAAAAAAAAAAAAAAAAAAAAAAAAAAAAAAAAAAAAAAAAAAAAAAAAAAAAAAAAAAAAAAAAAAAAAAAAAAAAAAAAAAAAAAAAAAAAAAAAAAAAAAAAAAAAAAAAAAAAAAAAAAAAAAAAAAAAAAAAAAAAAAAAAAAAAAAAAAAAAAAAAAAAAAAAAAAAAAAAAAAAAAAAAAAAAAAAAAAAAAAAAAAAAAAAAAAAAAAAAAAAAAAAAAAAAAAAAAAAAAAAAAAAAAAAAAAAAAAAAAAAAAAAAAAAAAAAAAAAAAAAAAAAAAAAAAAAAAAAAAAAAAAAAAAAAAAAAAAAAAAAAAAAAAAAAAAAAAAAAAAAAAAAAAAAAAAAAAAAAAAAAAAAAAAAAAAAAAAAAAAAAAAAAAAAAAAAAAAAAAAAAAAAAAAAAAAAAAAAAAAAAAAAAAAAAAAAAAAAAAAAAAAAAAAAAAAAAAAAAAAAAAAAAAAAAAAAAAAAAAAAAAAAAAAAAAAAAAAAAAAAAAAAAAAAAAAAAAAAAAAAAAAAAAAAAAAAAAAAAAAAAAAAAAAAAAAAAAAAAAAAAAAAAAAAAAAAAAAAAAAAAAAAAAAAAAAAAAAAAAAAAAAAAAAAAAAAAAAAAAAAAAAAAAAAAAAAAAAAAAAAAAAAAAAAAAAAAAAAAAAAAAAAAAAAAAAAAAAAAAAAAAAAAAAAAAAAAAAAAAAAAAAAAAAAAAAAAAAAAAAAAAAAAAAAAAAAAAAAAAAAAAAAAAAAAAAAAAAAAAAAAAAAAAAAAAAAAAAAAAAAAAAAAAAAAAAAAAAAAAAAAAAAAAAAAAAAAAAAAAAAAAAAAAAAAAAAAAAAAAAAAAAAAAAAAAAAAAAAAAAAAAAAAAAAAAAAAAAAAAAAAAAAAAAAAAAAAAAAAAAAAAAAAAAAAAAAAAAAAAAAAAAAAAAAAAAAAAAAAAAAAAAAAAAAAAAAAAAAAAAAAAAAAAAAAAAAAAAAAAAAAAAAAAAAAAAAAAAAAAAAAAAAAAAAAAAAAAAAAAAAAAAAAAAAAAAAAAAAAAAAAAAAAAAAAAAAAAAAAAAAAAAAAAAAAAAAAAAAAAAAAAAAAAAAAAAAAAAAAAAAAAAAAAAAAAAAAAAAAAAAAAAAAAAAAAAAAAAAAAAAAAAAAAAAAAAAAAAAAAAAAAAAAAAAAAAAAAAAAAAAAAAAAAAAAAAAAAAAAAAAAAAAAAAAAAAAAAAAAAAAAAAAAAAAAAAAAAAAAAAAAAAAAAAAAAAAAAAAAAAAAAAAAAAAAAAAAAAAAAAAAAAAAAAAAAAAAAAAAAAAAAAAAAAAAAAAAAAAAAAAAAAAAAAAAAAAAAAAAAAAAAAAAAAAAAAAAAAAAAAAAAAAAAAAAAAAAAAAAAAAAAAAAAAAAAAAAAAAAAAAAAAAAAAAAAAAAAAAAAAAAAAAAAAAAAAAAAAAAAAAAAAAAAAAAAAAAAAAAAAAAAAAAAAAAAAAAAAAAAAAAAAAAAAAAAAAAAAAAAAAAAAAAAAAAAAAAAAAAAAAAAAAAAAAAAAAAAAAAAAAAAAAAAAAAAAAAAAAAAAAAAAAAAAAAAAAAAAAAAAAAAAAAAAAAAAAAAAAAAAAAAAAAAAAAAAAAAAAAAAAAAAAAAAAAAAAAAAAAAAAAAAAAAAAAAAAAAAAAAAAAAAAAAAAAAAAAAAAAAAAAAAAAAAAAAAAAAAAAAAAAAAAAAAAAAAA",
          "dtype": "f8"
         },
         "x0": " ",
         "xaxis": "x",
         "y": {
          "bdata": "GgESAwQXDAYCBQQXBgoIDQYOBwECAQEECAEQBQIXFgcBAgoCBQIBCQkcAQMVAgQDBxQGAQIBBAEUBgYJARwBAQkHCgsDAgoCChAGBBgBAQEBDQocAREIGgoYGQIaDwoCAQgDBwECDxQCEhkCAwUFBw8UGxwJCwYBCAwBFwEFFhkFARkCCQYBAwIKEAgQBgEaCRoIBAIHBwcdChIVAgEDAgUHAQQCEgoMGAQZAwIIAgICDgEJCAkBAhcPGQIRAgETBw4DCAEGEgIIGBQIAxULARcJCQQKAwMUBRUCCBcBAwEGBQIYDw4GAggDAwYGCQYCBQgXBgIDGAMIEwgCCQEKAQEDBAIBAgcBCgsQAgIKCQMBCwgSAQgECQMJCAERARAQEAoYBxIBHA4IAwEBGgYBBgcLBggDAQEHCgcJHAICBwMCDgUBCQMaChQcEAESBx0BAQEHARQFFQoFExAFChwCCgQFGAwPCgoKCBoaBwoEAwIJCgkGAREPCAECAwcJBB0RCgsCCQEHBgkBCgQLFwQBFggJAQIKAgMCAREGAgEWHQkEBAgBBQIRHQ4JAgwFBwkTAgcLCQELAQcJAQIEAwQBBx0CBBkaAxECAxMCARAJBAMIBBIKBgMHChUIAQUcHAkGCBUHCAcCAQoHGQIJBAEBCA4CCAkCBwMcFxIEGAIDAhcCEgMIAggGBwgVAgMBCQEdGgsGHQUFAgEEAwIJBgIIAQUDChEGAQgBEgUIDQ4IAQEIHQECAQIBExILFBICGgEBAgsHAggdCBgZAQIbDwoBBwMUFBMBGwUCBAoFFgcEGQEDAhkJEQgVCQgCHRQDBAEFAQITFhEFDAUKAQIHCgECBwICBwcUAQcQEgIXAxcBAgcICAUZAQ8VBwIBAQIIAwEZAQsCDg8ODQIBGggCBwEBBQIDAgUdEgYGAQIXBAIKAwcBBwoaAQUDAwcYAQQJAh0dAQoCAQIQBwECEwIICQkXAgoDEAkBGAcLARYKAQIKCgICAgYKAhMBCxsCCwcBAQIBAgINBgIMAQkDBAICCQkKCQ8TBQEJCAYFDQECAwYCGwsBAgMHCgIMAQcCBgESAgINFQgCCQcHBwIDBxMDBBcOAgYZBQQCAhMDBAIFBBkFBQkEHAEUBQcXAggBCggBEQIGCBsGBwkdAQEEAgEUAQEQ",
          "dtype": "i1"
         },
         "y0": " ",
         "yaxis": "y"
        }
       ],
       "layout": {
        "boxmode": "overlay",
        "legend": {
         "title": {
          "text": "Status Keluar"
         },
         "tracegroupgap": 0
        },
        "template": {
         "data": {
          "bar": [
           {
            "error_x": {
             "color": "#2a3f5f"
            },
            "error_y": {
             "color": "#2a3f5f"
            },
            "marker": {
             "line": {
              "color": "white",
              "width": 0.5
             },
             "pattern": {
              "fillmode": "overlay",
              "size": 10,
              "solidity": 0.2
             }
            },
            "type": "bar"
           }
          ],
          "barpolar": [
           {
            "marker": {
             "line": {
              "color": "white",
              "width": 0.5
             },
             "pattern": {
              "fillmode": "overlay",
              "size": 10,
              "solidity": 0.2
             }
            },
            "type": "barpolar"
           }
          ],
          "carpet": [
           {
            "aaxis": {
             "endlinecolor": "#2a3f5f",
             "gridcolor": "#C8D4E3",
             "linecolor": "#C8D4E3",
             "minorgridcolor": "#C8D4E3",
             "startlinecolor": "#2a3f5f"
            },
            "baxis": {
             "endlinecolor": "#2a3f5f",
             "gridcolor": "#C8D4E3",
             "linecolor": "#C8D4E3",
             "minorgridcolor": "#C8D4E3",
             "startlinecolor": "#2a3f5f"
            },
            "type": "carpet"
           }
          ],
          "choropleth": [
           {
            "colorbar": {
             "outlinewidth": 0,
             "ticks": ""
            },
            "type": "choropleth"
           }
          ],
          "contour": [
           {
            "colorbar": {
             "outlinewidth": 0,
             "ticks": ""
            },
            "colorscale": [
             [
              0,
              "#0d0887"
             ],
             [
              0.1111111111111111,
              "#46039f"
             ],
             [
              0.2222222222222222,
              "#7201a8"
             ],
             [
              0.3333333333333333,
              "#9c179e"
             ],
             [
              0.4444444444444444,
              "#bd3786"
             ],
             [
              0.5555555555555556,
              "#d8576b"
             ],
             [
              0.6666666666666666,
              "#ed7953"
             ],
             [
              0.7777777777777778,
              "#fb9f3a"
             ],
             [
              0.8888888888888888,
              "#fdca26"
             ],
             [
              1,
              "#f0f921"
             ]
            ],
            "type": "contour"
           }
          ],
          "contourcarpet": [
           {
            "colorbar": {
             "outlinewidth": 0,
             "ticks": ""
            },
            "type": "contourcarpet"
           }
          ],
          "heatmap": [
           {
            "colorbar": {
             "outlinewidth": 0,
             "ticks": ""
            },
            "colorscale": [
             [
              0,
              "#0d0887"
             ],
             [
              0.1111111111111111,
              "#46039f"
             ],
             [
              0.2222222222222222,
              "#7201a8"
             ],
             [
              0.3333333333333333,
              "#9c179e"
             ],
             [
              0.4444444444444444,
              "#bd3786"
             ],
             [
              0.5555555555555556,
              "#d8576b"
             ],
             [
              0.6666666666666666,
              "#ed7953"
             ],
             [
              0.7777777777777778,
              "#fb9f3a"
             ],
             [
              0.8888888888888888,
              "#fdca26"
             ],
             [
              1,
              "#f0f921"
             ]
            ],
            "type": "heatmap"
           }
          ],
          "histogram": [
           {
            "marker": {
             "pattern": {
              "fillmode": "overlay",
              "size": 10,
              "solidity": 0.2
             }
            },
            "type": "histogram"
           }
          ],
          "histogram2d": [
           {
            "colorbar": {
             "outlinewidth": 0,
             "ticks": ""
            },
            "colorscale": [
             [
              0,
              "#0d0887"
             ],
             [
              0.1111111111111111,
              "#46039f"
             ],
             [
              0.2222222222222222,
              "#7201a8"
             ],
             [
              0.3333333333333333,
              "#9c179e"
             ],
             [
              0.4444444444444444,
              "#bd3786"
             ],
             [
              0.5555555555555556,
              "#d8576b"
             ],
             [
              0.6666666666666666,
              "#ed7953"
             ],
             [
              0.7777777777777778,
              "#fb9f3a"
             ],
             [
              0.8888888888888888,
              "#fdca26"
             ],
             [
              1,
              "#f0f921"
             ]
            ],
            "type": "histogram2d"
           }
          ],
          "histogram2dcontour": [
           {
            "colorbar": {
             "outlinewidth": 0,
             "ticks": ""
            },
            "colorscale": [
             [
              0,
              "#0d0887"
             ],
             [
              0.1111111111111111,
              "#46039f"
             ],
             [
              0.2222222222222222,
              "#7201a8"
             ],
             [
              0.3333333333333333,
              "#9c179e"
             ],
             [
              0.4444444444444444,
              "#bd3786"
             ],
             [
              0.5555555555555556,
              "#d8576b"
             ],
             [
              0.6666666666666666,
              "#ed7953"
             ],
             [
              0.7777777777777778,
              "#fb9f3a"
             ],
             [
              0.8888888888888888,
              "#fdca26"
             ],
             [
              1,
              "#f0f921"
             ]
            ],
            "type": "histogram2dcontour"
           }
          ],
          "mesh3d": [
           {
            "colorbar": {
             "outlinewidth": 0,
             "ticks": ""
            },
            "type": "mesh3d"
           }
          ],
          "parcoords": [
           {
            "line": {
             "colorbar": {
              "outlinewidth": 0,
              "ticks": ""
             }
            },
            "type": "parcoords"
           }
          ],
          "pie": [
           {
            "automargin": true,
            "type": "pie"
           }
          ],
          "scatter": [
           {
            "fillpattern": {
             "fillmode": "overlay",
             "size": 10,
             "solidity": 0.2
            },
            "type": "scatter"
           }
          ],
          "scatter3d": [
           {
            "line": {
             "colorbar": {
              "outlinewidth": 0,
              "ticks": ""
             }
            },
            "marker": {
             "colorbar": {
              "outlinewidth": 0,
              "ticks": ""
             }
            },
            "type": "scatter3d"
           }
          ],
          "scattercarpet": [
           {
            "marker": {
             "colorbar": {
              "outlinewidth": 0,
              "ticks": ""
             }
            },
            "type": "scattercarpet"
           }
          ],
          "scattergeo": [
           {
            "marker": {
             "colorbar": {
              "outlinewidth": 0,
              "ticks": ""
             }
            },
            "type": "scattergeo"
           }
          ],
          "scattergl": [
           {
            "marker": {
             "colorbar": {
              "outlinewidth": 0,
              "ticks": ""
             }
            },
            "type": "scattergl"
           }
          ],
          "scattermap": [
           {
            "marker": {
             "colorbar": {
              "outlinewidth": 0,
              "ticks": ""
             }
            },
            "type": "scattermap"
           }
          ],
          "scattermapbox": [
           {
            "marker": {
             "colorbar": {
              "outlinewidth": 0,
              "ticks": ""
             }
            },
            "type": "scattermapbox"
           }
          ],
          "scatterpolar": [
           {
            "marker": {
             "colorbar": {
              "outlinewidth": 0,
              "ticks": ""
             }
            },
            "type": "scatterpolar"
           }
          ],
          "scatterpolargl": [
           {
            "marker": {
             "colorbar": {
              "outlinewidth": 0,
              "ticks": ""
             }
            },
            "type": "scatterpolargl"
           }
          ],
          "scatterternary": [
           {
            "marker": {
             "colorbar": {
              "outlinewidth": 0,
              "ticks": ""
             }
            },
            "type": "scatterternary"
           }
          ],
          "surface": [
           {
            "colorbar": {
             "outlinewidth": 0,
             "ticks": ""
            },
            "colorscale": [
             [
              0,
              "#0d0887"
             ],
             [
              0.1111111111111111,
              "#46039f"
             ],
             [
              0.2222222222222222,
              "#7201a8"
             ],
             [
              0.3333333333333333,
              "#9c179e"
             ],
             [
              0.4444444444444444,
              "#bd3786"
             ],
             [
              0.5555555555555556,
              "#d8576b"
             ],
             [
              0.6666666666666666,
              "#ed7953"
             ],
             [
              0.7777777777777778,
              "#fb9f3a"
             ],
             [
              0.8888888888888888,
              "#fdca26"
             ],
             [
              1,
              "#f0f921"
             ]
            ],
            "type": "surface"
           }
          ],
          "table": [
           {
            "cells": {
             "fill": {
              "color": "#EBF0F8"
             },
             "line": {
              "color": "white"
             }
            },
            "header": {
             "fill": {
              "color": "#C8D4E3"
             },
             "line": {
              "color": "white"
             }
            },
            "type": "table"
           }
          ]
         },
         "layout": {
          "annotationdefaults": {
           "arrowcolor": "#2a3f5f",
           "arrowhead": 0,
           "arrowwidth": 1
          },
          "autotypenumbers": "strict",
          "coloraxis": {
           "colorbar": {
            "outlinewidth": 0,
            "ticks": ""
           }
          },
          "colorscale": {
           "diverging": [
            [
             0,
             "#8e0152"
            ],
            [
             0.1,
             "#c51b7d"
            ],
            [
             0.2,
             "#de77ae"
            ],
            [
             0.3,
             "#f1b6da"
            ],
            [
             0.4,
             "#fde0ef"
            ],
            [
             0.5,
             "#f7f7f7"
            ],
            [
             0.6,
             "#e6f5d0"
            ],
            [
             0.7,
             "#b8e186"
            ],
            [
             0.8,
             "#7fbc41"
            ],
            [
             0.9,
             "#4d9221"
            ],
            [
             1,
             "#276419"
            ]
           ],
           "sequential": [
            [
             0,
             "#0d0887"
            ],
            [
             0.1111111111111111,
             "#46039f"
            ],
            [
             0.2222222222222222,
             "#7201a8"
            ],
            [
             0.3333333333333333,
             "#9c179e"
            ],
            [
             0.4444444444444444,
             "#bd3786"
            ],
            [
             0.5555555555555556,
             "#d8576b"
            ],
            [
             0.6666666666666666,
             "#ed7953"
            ],
            [
             0.7777777777777778,
             "#fb9f3a"
            ],
            [
             0.8888888888888888,
             "#fdca26"
            ],
            [
             1,
             "#f0f921"
            ]
           ],
           "sequentialminus": [
            [
             0,
             "#0d0887"
            ],
            [
             0.1111111111111111,
             "#46039f"
            ],
            [
             0.2222222222222222,
             "#7201a8"
            ],
            [
             0.3333333333333333,
             "#9c179e"
            ],
            [
             0.4444444444444444,
             "#bd3786"
            ],
            [
             0.5555555555555556,
             "#d8576b"
            ],
            [
             0.6666666666666666,
             "#ed7953"
            ],
            [
             0.7777777777777778,
             "#fb9f3a"
            ],
            [
             0.8888888888888888,
             "#fdca26"
            ],
            [
             1,
             "#f0f921"
            ]
           ]
          },
          "colorway": [
           "#636efa",
           "#EF553B",
           "#00cc96",
           "#ab63fa",
           "#FFA15A",
           "#19d3f3",
           "#FF6692",
           "#B6E880",
           "#FF97FF",
           "#FECB52"
          ],
          "font": {
           "color": "#2a3f5f"
          },
          "geo": {
           "bgcolor": "white",
           "lakecolor": "white",
           "landcolor": "white",
           "showlakes": true,
           "showland": true,
           "subunitcolor": "#C8D4E3"
          },
          "hoverlabel": {
           "align": "left"
          },
          "hovermode": "closest",
          "mapbox": {
           "style": "light"
          },
          "paper_bgcolor": "white",
          "plot_bgcolor": "white",
          "polar": {
           "angularaxis": {
            "gridcolor": "#EBF0F8",
            "linecolor": "#EBF0F8",
            "ticks": ""
           },
           "bgcolor": "white",
           "radialaxis": {
            "gridcolor": "#EBF0F8",
            "linecolor": "#EBF0F8",
            "ticks": ""
           }
          },
          "scene": {
           "xaxis": {
            "backgroundcolor": "white",
            "gridcolor": "#DFE8F3",
            "gridwidth": 2,
            "linecolor": "#EBF0F8",
            "showbackground": true,
            "ticks": "",
            "zerolinecolor": "#EBF0F8"
           },
           "yaxis": {
            "backgroundcolor": "white",
            "gridcolor": "#DFE8F3",
            "gridwidth": 2,
            "linecolor": "#EBF0F8",
            "showbackground": true,
            "ticks": "",
            "zerolinecolor": "#EBF0F8"
           },
           "zaxis": {
            "backgroundcolor": "white",
            "gridcolor": "#DFE8F3",
            "gridwidth": 2,
            "linecolor": "#EBF0F8",
            "showbackground": true,
            "ticks": "",
            "zerolinecolor": "#EBF0F8"
           }
          },
          "shapedefaults": {
           "line": {
            "color": "#2a3f5f"
           }
          },
          "ternary": {
           "aaxis": {
            "gridcolor": "#DFE8F3",
            "linecolor": "#A2B1C6",
            "ticks": ""
           },
           "baxis": {
            "gridcolor": "#DFE8F3",
            "linecolor": "#A2B1C6",
            "ticks": ""
           },
           "bgcolor": "white",
           "caxis": {
            "gridcolor": "#DFE8F3",
            "linecolor": "#A2B1C6",
            "ticks": ""
           }
          },
          "title": {
           "x": 0.05
          },
          "xaxis": {
           "automargin": true,
           "gridcolor": "#EBF0F8",
           "linecolor": "#EBF0F8",
           "ticks": "",
           "title": {
            "standoff": 15
           },
           "zerolinecolor": "#EBF0F8",
           "zerolinewidth": 2
          },
          "yaxis": {
           "automargin": true,
           "gridcolor": "#EBF0F8",
           "linecolor": "#EBF0F8",
           "ticks": "",
           "title": {
            "standoff": 15
           },
           "zerolinecolor": "#EBF0F8",
           "zerolinewidth": 2
          }
         }
        },
        "title": {
         "text": "Hubungan Jarak dari Rumah dengan Attrition"
        },
        "xaxis": {
         "anchor": "y",
         "categoryarray": [
          1,
          0
         ],
         "categoryorder": "array",
         "domain": [
          0,
          1
         ],
         "title": {
          "text": "Status Keluar"
         }
        },
        "yaxis": {
         "anchor": "x",
         "domain": [
          0,
          1
         ],
         "title": {
          "text": "Jarak dari Rumah (km)"
         }
        }
       }
      }
     },
     "metadata": {},
     "output_type": "display_data"
    }
   ],
   "source": [
    "distance_stats = df.groupby('Attrition')['DistanceFromHome'].agg(['mean', 'median', 'min', 'max', 'std']).reset_index()\n",
    "\n",
    "distance_stats['Attrition'] = distance_stats['Attrition'].map({0: 'Tidak Keluar', 1: 'Keluar'})\n",
    "\n",
    "display(distance_stats)\n",
    "\n",
    "fig = px.box(\n",
    "    df, \n",
    "    x='Attrition', \n",
    "    y='DistanceFromHome',\n",
    "    color='Attrition',\n",
    "    title='Hubungan Jarak dari Rumah dengan Attrition',\n",
    "    labels={'DistanceFromHome': 'Jarak dari Rumah (km)', 'Attrition': 'Status Keluar'},\n",
    "    color_discrete_sequence=['#636EFA', '#EF553B']\n",
    ")\n",
    "fig.update_layout(template='plotly_white')\n",
    "\n",
    "fig.show()\n",
    "\n",
    "fig.write_image(\"./visualisasi/jarak_rumah_attrition.jpg\", scale=2)"
   ]
  },
  {
   "cell_type": "markdown",
   "id": "c277b567",
   "metadata": {},
   "source": [
    "### Attrtion by Satisfaction"
   ]
  },
  {
   "cell_type": "code",
   "execution_count": 72,
   "id": "31f85c87",
   "metadata": {},
   "outputs": [
    {
     "data": {
      "application/vnd.microsoft.datawrangler.viewer.v0+json": {
       "columns": [
        {
         "name": "index",
         "rawType": "int64",
         "type": "integer"
        },
        {
         "name": "EmployeeId",
         "rawType": "int64",
         "type": "integer"
        },
        {
         "name": "Age",
         "rawType": "int64",
         "type": "integer"
        },
        {
         "name": "Attrition",
         "rawType": "float64",
         "type": "float"
        },
        {
         "name": "BusinessTravel",
         "rawType": "object",
         "type": "string"
        },
        {
         "name": "DailyRate",
         "rawType": "int64",
         "type": "integer"
        },
        {
         "name": "Department",
         "rawType": "object",
         "type": "string"
        },
        {
         "name": "DistanceFromHome",
         "rawType": "int64",
         "type": "integer"
        },
        {
         "name": "Education",
         "rawType": "int64",
         "type": "integer"
        },
        {
         "name": "EducationField",
         "rawType": "object",
         "type": "string"
        },
        {
         "name": "EmployeeCount",
         "rawType": "int64",
         "type": "integer"
        },
        {
         "name": "EnvironmentSatisfaction",
         "rawType": "object",
         "type": "string"
        },
        {
         "name": "Gender",
         "rawType": "object",
         "type": "string"
        },
        {
         "name": "HourlyRate",
         "rawType": "int64",
         "type": "integer"
        },
        {
         "name": "JobInvolvement",
         "rawType": "int64",
         "type": "integer"
        },
        {
         "name": "JobLevel",
         "rawType": "int64",
         "type": "integer"
        },
        {
         "name": "JobRole",
         "rawType": "object",
         "type": "string"
        },
        {
         "name": "JobSatisfaction",
         "rawType": "object",
         "type": "string"
        },
        {
         "name": "MaritalStatus",
         "rawType": "object",
         "type": "string"
        },
        {
         "name": "MonthlyIncome",
         "rawType": "int64",
         "type": "integer"
        },
        {
         "name": "MonthlyRate",
         "rawType": "int64",
         "type": "integer"
        },
        {
         "name": "NumCompaniesWorked",
         "rawType": "int64",
         "type": "integer"
        },
        {
         "name": "Over18",
         "rawType": "object",
         "type": "string"
        },
        {
         "name": "OverTime",
         "rawType": "object",
         "type": "string"
        },
        {
         "name": "PercentSalaryHike",
         "rawType": "int64",
         "type": "integer"
        },
        {
         "name": "PerformanceRating",
         "rawType": "int64",
         "type": "integer"
        },
        {
         "name": "RelationshipSatisfaction",
         "rawType": "object",
         "type": "string"
        },
        {
         "name": "StandardHours",
         "rawType": "int64",
         "type": "integer"
        },
        {
         "name": "StockOptionLevel",
         "rawType": "int64",
         "type": "integer"
        },
        {
         "name": "TotalWorkingYears",
         "rawType": "int64",
         "type": "integer"
        },
        {
         "name": "TrainingTimesLastYear",
         "rawType": "int64",
         "type": "integer"
        },
        {
         "name": "WorkLifeBalance",
         "rawType": "object",
         "type": "string"
        },
        {
         "name": "YearsAtCompany",
         "rawType": "int64",
         "type": "integer"
        },
        {
         "name": "YearsInCurrentRole",
         "rawType": "int64",
         "type": "integer"
        },
        {
         "name": "YearsSinceLastPromotion",
         "rawType": "int64",
         "type": "integer"
        },
        {
         "name": "YearsWithCurrManager",
         "rawType": "int64",
         "type": "integer"
        },
        {
         "name": "SalaryCategory",
         "rawType": "object",
         "type": "string"
        },
        {
         "name": "PromotionCategory",
         "rawType": "object",
         "type": "string"
        },
        {
         "name": "AgeGroup",
         "rawType": "object",
         "type": "string"
        }
       ],
       "conversionMethod": "pd.DataFrame",
       "ref": "d348fe2d-8209-4db7-b373-b971b441a121",
       "rows": [
        [
         "1",
         "2",
         "37",
         "1.0",
         "Travel_Rarely",
         "1141",
         "Research & Development",
         "11",
         "2",
         "Medical",
         "1",
         "Rendah",
         "Female",
         "61",
         "1",
         "2",
         "Healthcare Representative",
         "Sedang",
         "Married",
         "4777",
         "14382",
         "5",
         "Y",
         "No",
         "15",
         "3",
         "Rendah",
         "80",
         "0",
         "15",
         "2",
         "Rendah",
         "1",
         "0",
         "0",
         "0",
         "Rendah (< 5000)",
         "Baru Dipromosikan",
         "30-39"
        ],
        [
         "2",
         "3",
         "51",
         "1.0",
         "Travel_Rarely",
         "1323",
         "Research & Development",
         "4",
         "4",
         "Life Sciences",
         "1",
         "Rendah",
         "Male",
         "34",
         "3",
         "1",
         "Research Scientist",
         "Tinggi",
         "Married",
         "2461",
         "10332",
         "9",
         "Y",
         "Yes",
         "12",
         "3",
         "Tinggi",
         "80",
         "3",
         "18",
         "2",
         "Sangat Tinggi",
         "10",
         "0",
         "2",
         "7",
         "Rendah (< 5000)",
         "1-2 Tahun",
         "50+"
        ],
        [
         "3",
         "4",
         "42",
         "0.0",
         "Travel_Frequently",
         "555",
         "Sales",
         "26",
         "3",
         "Marketing",
         "1",
         "Tinggi",
         "Female",
         "77",
         "3",
         "4",
         "Sales Executive",
         "Sedang",
         "Married",
         "13525",
         "14864",
         "5",
         "Y",
         "No",
         "14",
         "3",
         "Sangat Tinggi",
         "80",
         "1",
         "23",
         "2",
         "Sangat Tinggi",
         "20",
         "4",
         "4",
         "8",
         "Tinggi (10000-15000)",
         "3-5 Tahun",
         "40-49"
        ],
        [
         "6",
         "7",
         "40",
         "0.0",
         "Travel_Rarely",
         "1124",
         "Sales",
         "1",
         "2",
         "Medical",
         "1",
         "Sedang",
         "Male",
         "57",
         "1",
         "2",
         "Sales Executive",
         "Sangat Tinggi",
         "Married",
         "7457",
         "13273",
         "2",
         "Y",
         "Yes",
         "22",
         "4",
         "Tinggi",
         "80",
         "3",
         "6",
         "2",
         "Sedang",
         "4",
         "3",
         "0",
         "2",
         "Sedang (5000-10000)",
         "Baru Dipromosikan",
         "40-49"
        ],
        [
         "7",
         "8",
         "55",
         "1.0",
         "Travel_Rarely",
         "725",
         "Research & Development",
         "2",
         "3",
         "Medical",
         "1",
         "Sangat Tinggi",
         "Male",
         "78",
         "3",
         "5",
         "Manager",
         "Rendah",
         "Married",
         "19859",
         "21199",
         "5",
         "Y",
         "Yes",
         "13",
         "3",
         "Sangat Tinggi",
         "80",
         "1",
         "24",
         "2",
         "Tinggi",
         "5",
         "2",
         "1",
         "4",
         "Sangat Tinggi (>15000)",
         "1-2 Tahun",
         "50+"
        ],
        [
         "8",
         "9",
         "36",
         "0.0",
         "Travel_Frequently",
         "635",
         "Research & Development",
         "18",
         "1",
         "Medical",
         "1",
         "Sedang",
         "Female",
         "73",
         "3",
         "1",
         "Laboratory Technician",
         "Sangat Tinggi",
         "Single",
         "2153",
         "7703",
         "1",
         "Y",
         "No",
         "13",
         "3",
         "Rendah",
         "80",
         "0",
         "8",
         "2",
         "Tinggi",
         "8",
         "1",
         "1",
         "7",
         "Rendah (< 5000)",
         "1-2 Tahun",
         "30-39"
        ],
        [
         "9",
         "10",
         "32",
         "0.0",
         "Travel_Rarely",
         "1018",
         "Research & Development",
         "3",
         "2",
         "Life Sciences",
         "1",
         "Tinggi",
         "Female",
         "39",
         "3",
         "3",
         "Research Director",
         "Sangat Tinggi",
         "Single",
         "11159",
         "19373",
         "3",
         "Y",
         "No",
         "15",
         "3",
         "Sangat Tinggi",
         "80",
         "0",
         "10",
         "6",
         "Tinggi",
         "7",
         "7",
         "7",
         "7",
         "Tinggi (10000-15000)",
         "> 5 Tahun",
         "30-39"
        ],
        [
         "10",
         "11",
         "25",
         "0.0",
         "Travel_Rarely",
         "583",
         "Sales",
         "4",
         "1",
         "Marketing",
         "1",
         "Tinggi",
         "Male",
         "87",
         "2",
         "2",
         "Sales Executive",
         "Rendah",
         "Married",
         "4256",
         "18154",
         "1",
         "Y",
         "No",
         "12",
         "3",
         "Rendah",
         "80",
         "0",
         "5",
         "1",
         "Sangat Tinggi",
         "5",
         "2",
         "0",
         "3",
         "Rendah (< 5000)",
         "Baru Dipromosikan",
         "< 30"
        ],
        [
         "11",
         "12",
         "20",
         "1.0",
         "Travel_Rarely",
         "129",
         "Research & Development",
         "4",
         "3",
         "Technical Degree",
         "1",
         "Rendah",
         "Male",
         "84",
         "3",
         "1",
         "Laboratory Technician",
         "Rendah",
         "Single",
         "2973",
         "13008",
         "1",
         "Y",
         "No",
         "19",
         "3",
         "Sedang",
         "80",
         "0",
         "1",
         "2",
         "Tinggi",
         "1",
         "0",
         "0",
         "0",
         "Rendah (< 5000)",
         "Baru Dipromosikan",
         "< 30"
        ],
        [
         "13",
         "14",
         "42",
         "0.0",
         "Travel_Rarely",
         "810",
         "Research & Development",
         "23",
         "5",
         "Life Sciences",
         "1",
         "Rendah",
         "Female",
         "44",
         "3",
         "4",
         "Research Director",
         "Sangat Tinggi",
         "Single",
         "15992",
         "15901",
         "2",
         "Y",
         "No",
         "14",
         "3",
         "Sedang",
         "80",
         "0",
         "16",
         "2",
         "Tinggi",
         "1",
         "0",
         "0",
         "0",
         "Sangat Tinggi (>15000)",
         "Baru Dipromosikan",
         "40-49"
        ],
        [
         "14",
         "15",
         "31",
         "0.0",
         "Travel_Rarely",
         "616",
         "Research & Development",
         "12",
         "3",
         "Medical",
         "1",
         "Sangat Tinggi",
         "Female",
         "41",
         "3",
         "2",
         "Healthcare Representative",
         "Sangat Tinggi",
         "Married",
         "5855",
         "17369",
         "0",
         "Y",
         "Yes",
         "11",
         "3",
         "Tinggi",
         "80",
         "2",
         "10",
         "2",
         "Rendah",
         "9",
         "7",
         "8",
         "5",
         "Sedang (5000-10000)",
         "> 5 Tahun",
         "30-39"
        ],
        [
         "15",
         "16",
         "38",
         "0.0",
         "Non-Travel",
         "573",
         "Research & Development",
         "6",
         "3",
         "Medical",
         "1",
         "Sedang",
         "Female",
         "79",
         "1",
         "2",
         "Research Scientist",
         "Sangat Tinggi",
         "Divorced",
         "5329",
         "15717",
         "7",
         "Y",
         "Yes",
         "12",
         "3",
         "Sangat Tinggi",
         "80",
         "3",
         "17",
         "3",
         "Tinggi",
         "13",
         "11",
         "1",
         "9",
         "Sedang (5000-10000)",
         "1-2 Tahun",
         "30-39"
        ],
        [
         "16",
         "17",
         "39",
         "0.0",
         "Travel_Rarely",
         "408",
         "Research & Development",
         "2",
         "4",
         "Technical Degree",
         "1",
         "Sangat Tinggi",
         "Female",
         "80",
         "2",
         "2",
         "Healthcare Representative",
         "Tinggi",
         "Single",
         "4553",
         "20978",
         "1",
         "Y",
         "No",
         "11",
         "3",
         "Rendah",
         "80",
         "0",
         "20",
         "4",
         "Tinggi",
         "20",
         "7",
         "11",
         "10",
         "Rendah (< 5000)",
         "> 5 Tahun",
         "30-39"
        ],
        [
         "17",
         "18",
         "54",
         "0.0",
         "Travel_Rarely",
         "821",
         "Research & Development",
         "5",
         "2",
         "Medical",
         "1",
         "Rendah",
         "Male",
         "86",
         "3",
         "5",
         "Research Director",
         "Rendah",
         "Married",
         "19406",
         "8509",
         "4",
         "Y",
         "No",
         "11",
         "3",
         "Tinggi",
         "80",
         "1",
         "24",
         "4",
         "Sedang",
         "4",
         "2",
         "1",
         "2",
         "Sangat Tinggi (>15000)",
         "1-2 Tahun",
         "50+"
        ],
        [
         "19",
         "20",
         "49",
         "0.0",
         "Travel_Rarely",
         "1098",
         "Research & Development",
         "4",
         "2",
         "Medical",
         "1",
         "Rendah",
         "Male",
         "85",
         "2",
         "5",
         "Manager",
         "Tinggi",
         "Married",
         "18711",
         "12124",
         "2",
         "Y",
         "No",
         "13",
         "3",
         "Tinggi",
         "80",
         "1",
         "23",
         "2",
         "Sangat Tinggi",
         "1",
         "0",
         "0",
         "0",
         "Sangat Tinggi (>15000)",
         "Baru Dipromosikan",
         "40-49"
        ],
        [
         "20",
         "21",
         "24",
         "0.0",
         "Travel_Rarely",
         "691",
         "Research & Development",
         "23",
         "3",
         "Medical",
         "1",
         "Sedang",
         "Male",
         "89",
         "4",
         "1",
         "Research Scientist",
         "Sangat Tinggi",
         "Married",
         "2725",
         "21630",
         "1",
         "Y",
         "Yes",
         "11",
         "3",
         "Sedang",
         "80",
         "2",
         "6",
         "3",
         "Tinggi",
         "6",
         "5",
         "1",
         "4",
         "Rendah (< 5000)",
         "1-2 Tahun",
         "< 30"
        ],
        [
         "21",
         "22",
         "40",
         "0.0",
         "Travel_Rarely",
         "302",
         "Research & Development",
         "6",
         "3",
         "Life Sciences",
         "1",
         "Sedang",
         "Female",
         "75",
         "3",
         "4",
         "Manufacturing Director",
         "Tinggi",
         "Single",
         "13237",
         "20364",
         "7",
         "Y",
         "No",
         "15",
         "3",
         "Tinggi",
         "80",
         "0",
         "22",
         "3",
         "Tinggi",
         "20",
         "6",
         "5",
         "13",
         "Tinggi (10000-15000)",
         "3-5 Tahun",
         "40-49"
        ],
        [
         "22",
         "23",
         "41",
         "0.0",
         "Non-Travel",
         "267",
         "Sales",
         "10",
         "2",
         "Life Sciences",
         "1",
         "Sangat Tinggi",
         "Male",
         "56",
         "3",
         "2",
         "Sales Executive",
         "Sangat Tinggi",
         "Single",
         "6230",
         "13430",
         "7",
         "Y",
         "No",
         "14",
         "3",
         "Sangat Tinggi",
         "80",
         "0",
         "16",
         "3",
         "Tinggi",
         "14",
         "3",
         "1",
         "10",
         "Sedang (5000-10000)",
         "1-2 Tahun",
         "40-49"
        ],
        [
         "23",
         "24",
         "32",
         "0.0",
         "Travel_Rarely",
         "588",
         "Sales",
         "8",
         "2",
         "Technical Degree",
         "1",
         "Tinggi",
         "Female",
         "65",
         "2",
         "2",
         "Sales Executive",
         "Sedang",
         "Married",
         "5228",
         "24624",
         "1",
         "Y",
         "Yes",
         "11",
         "3",
         "Sangat Tinggi",
         "80",
         "0",
         "13",
         "2",
         "Tinggi",
         "13",
         "12",
         "11",
         "9",
         "Sedang (5000-10000)",
         "> 5 Tahun",
         "30-39"
        ],
        [
         "24",
         "25",
         "24",
         "1.0",
         "Travel_Rarely",
         "813",
         "Research & Development",
         "1",
         "3",
         "Medical",
         "1",
         "Sedang",
         "Male",
         "61",
         "3",
         "1",
         "Research Scientist",
         "Sangat Tinggi",
         "Married",
         "2293",
         "3020",
         "2",
         "Y",
         "Yes",
         "16",
         "3",
         "Rendah",
         "80",
         "1",
         "6",
         "2",
         "Sedang",
         "2",
         "0",
         "2",
         "0",
         "Rendah (< 5000)",
         "1-2 Tahun",
         "< 30"
        ],
        [
         "27",
         "28",
         "39",
         "0.0",
         "Travel_Rarely",
         "412",
         "Research & Development",
         "13",
         "4",
         "Medical",
         "1",
         "Tinggi",
         "Female",
         "94",
         "2",
         "4",
         "Manager",
         "Sedang",
         "Divorced",
         "17123",
         "17334",
         "6",
         "Y",
         "Yes",
         "13",
         "3",
         "Sangat Tinggi",
         "80",
         "2",
         "21",
         "4",
         "Tinggi",
         "19",
         "9",
         "15",
         "2",
         "Sangat Tinggi (>15000)",
         "> 5 Tahun",
         "30-39"
        ],
        [
         "28",
         "29",
         "59",
         "0.0",
         "Travel_Rarely",
         "818",
         "Human Resources",
         "6",
         "2",
         "Medical",
         "1",
         "Sedang",
         "Male",
         "52",
         "3",
         "1",
         "Human Resources",
         "Tinggi",
         "Married",
         "2267",
         "25657",
         "8",
         "Y",
         "No",
         "17",
         "3",
         "Sangat Tinggi",
         "80",
         "0",
         "7",
         "2",
         "Sedang",
         "2",
         "2",
         "2",
         "2",
         "Rendah (< 5000)",
         "1-2 Tahun",
         "50+"
        ],
        [
         "30",
         "31",
         "36",
         "0.0",
         "Travel_Rarely",
         "1425",
         "Research & Development",
         "14",
         "1",
         "Life Sciences",
         "1",
         "Tinggi",
         "Male",
         "68",
         "3",
         "2",
         "Healthcare Representative",
         "Sangat Tinggi",
         "Married",
         "6586",
         "4821",
         "0",
         "Y",
         "Yes",
         "17",
         "3",
         "Rendah",
         "80",
         "1",
         "17",
         "2",
         "Sedang",
         "16",
         "8",
         "4",
         "11",
         "Sedang (5000-10000)",
         "3-5 Tahun",
         "30-39"
        ],
        [
         "31",
         "32",
         "30",
         "0.0",
         "Travel_Rarely",
         "853",
         "Research & Development",
         "7",
         "4",
         "Life Sciences",
         "1",
         "Tinggi",
         "Male",
         "49",
         "3",
         "2",
         "Laboratory Technician",
         "Tinggi",
         "Divorced",
         "3491",
         "11309",
         "1",
         "Y",
         "No",
         "13",
         "3",
         "Rendah",
         "80",
         "3",
         "10",
         "4",
         "Sedang",
         "10",
         "7",
         "8",
         "9",
         "Rendah (< 5000)",
         "> 5 Tahun",
         "30-39"
        ],
        [
         "32",
         "33",
         "38",
         "0.0",
         "Travel_Rarely",
         "433",
         "Human Resources",
         "1",
         "3",
         "Human Resources",
         "1",
         "Tinggi",
         "Male",
         "37",
         "4",
         "1",
         "Human Resources",
         "Tinggi",
         "Married",
         "2844",
         "6004",
         "1",
         "Y",
         "No",
         "13",
         "3",
         "Sangat Tinggi",
         "80",
         "1",
         "7",
         "2",
         "Sangat Tinggi",
         "7",
         "6",
         "5",
         "0",
         "Rendah (< 5000)",
         "3-5 Tahun",
         "30-39"
        ],
        [
         "33",
         "34",
         "28",
         "1.0",
         "Travel_Frequently",
         "1496",
         "Sales",
         "1",
         "3",
         "Technical Degree",
         "1",
         "Rendah",
         "Male",
         "92",
         "3",
         "1",
         "Sales Representative",
         "Tinggi",
         "Married",
         "2909",
         "15747",
         "3",
         "Y",
         "No",
         "15",
         "3",
         "Sangat Tinggi",
         "80",
         "1",
         "5",
         "3",
         "Sangat Tinggi",
         "3",
         "2",
         "1",
         "2",
         "Rendah (< 5000)",
         "1-2 Tahun",
         "< 30"
        ],
        [
         "34",
         "35",
         "31",
         "0.0",
         "Travel_Rarely",
         "192",
         "Research & Development",
         "2",
         "4",
         "Life Sciences",
         "1",
         "Tinggi",
         "Male",
         "32",
         "3",
         "1",
         "Research Scientist",
         "Sangat Tinggi",
         "Divorced",
         "2695",
         "7747",
         "0",
         "Y",
         "Yes",
         "18",
         "3",
         "Sedang",
         "80",
         "1",
         "3",
         "2",
         "Rendah",
         "2",
         "2",
         "2",
         "2",
         "Rendah (< 5000)",
         "1-2 Tahun",
         "30-39"
        ],
        [
         "35",
         "36",
         "36",
         "0.0",
         "Non-Travel",
         "845",
         "Sales",
         "1",
         "5",
         "Medical",
         "1",
         "Sangat Tinggi",
         "Female",
         "45",
         "3",
         "2",
         "Sales Executive",
         "Sangat Tinggi",
         "Single",
         "6653",
         "15276",
         "4",
         "Y",
         "No",
         "15",
         "3",
         "Sedang",
         "80",
         "0",
         "7",
         "6",
         "Tinggi",
         "1",
         "0",
         "0",
         "0",
         "Sedang (5000-10000)",
         "Baru Dipromosikan",
         "30-39"
        ],
        [
         "36",
         "37",
         "32",
         "0.0",
         "Travel_Rarely",
         "427",
         "Research & Development",
         "1",
         "3",
         "Medical",
         "1",
         "Rendah",
         "Male",
         "33",
         "3",
         "2",
         "Manufacturing Director",
         "Sangat Tinggi",
         "Married",
         "6162",
         "10877",
         "1",
         "Y",
         "Yes",
         "22",
         "4",
         "Sedang",
         "80",
         "1",
         "9",
         "3",
         "Tinggi",
         "9",
         "8",
         "7",
         "8",
         "Sedang (5000-10000)",
         "> 5 Tahun",
         "30-39"
        ],
        [
         "38",
         "39",
         "28",
         "0.0",
         "Non-Travel",
         "120",
         "Sales",
         "4",
         "3",
         "Medical",
         "1",
         "Sedang",
         "Male",
         "43",
         "3",
         "2",
         "Sales Executive",
         "Tinggi",
         "Married",
         "4221",
         "8863",
         "1",
         "Y",
         "No",
         "15",
         "3",
         "Sedang",
         "80",
         "0",
         "5",
         "3",
         "Sangat Tinggi",
         "5",
         "4",
         "0",
         "4",
         "Rendah (< 5000)",
         "Baru Dipromosikan",
         "< 30"
        ],
        [
         "39",
         "40",
         "31",
         "1.0",
         "Travel_Rarely",
         "249",
         "Sales",
         "6",
         "4",
         "Life Sciences",
         "1",
         "Sedang",
         "Male",
         "76",
         "1",
         "2",
         "Sales Executive",
         "Tinggi",
         "Married",
         "6172",
         "20739",
         "4",
         "Y",
         "Yes",
         "18",
         "3",
         "Sedang",
         "80",
         "0",
         "12",
         "3",
         "Sedang",
         "7",
         "7",
         "7",
         "7",
         "Sedang (5000-10000)",
         "> 5 Tahun",
         "30-39"
        ],
        [
         "40",
         "41",
         "50",
         "0.0",
         "Travel_Rarely",
         "316",
         "Sales",
         "8",
         "4",
         "Marketing",
         "1",
         "Sangat Tinggi",
         "Male",
         "54",
         "3",
         "1",
         "Sales Representative",
         "Sedang",
         "Married",
         "3875",
         "9983",
         "7",
         "Y",
         "No",
         "15",
         "3",
         "Sangat Tinggi",
         "80",
         "1",
         "4",
         "2",
         "Tinggi",
         "2",
         "2",
         "2",
         "2",
         "Rendah (< 5000)",
         "1-2 Tahun",
         "50+"
        ],
        [
         "41",
         "42",
         "39",
         "0.0",
         "Travel_Rarely",
         "1132",
         "Research & Development",
         "1",
         "3",
         "Medical",
         "1",
         "Tinggi",
         "Male",
         "48",
         "4",
         "3",
         "Healthcare Representative",
         "Sangat Tinggi",
         "Divorced",
         "9613",
         "10942",
         "0",
         "Y",
         "No",
         "17",
         "3",
         "Rendah",
         "80",
         "3",
         "19",
         "5",
         "Sedang",
         "18",
         "10",
         "3",
         "7",
         "Sedang (5000-10000)",
         "3-5 Tahun",
         "30-39"
        ],
        [
         "42",
         "43",
         "35",
         "0.0",
         "Travel_Rarely",
         "809",
         "Research & Development",
         "16",
         "3",
         "Medical",
         "1",
         "Rendah",
         "Male",
         "84",
         "4",
         "1",
         "Laboratory Technician",
         "Sedang",
         "Married",
         "2426",
         "16479",
         "0",
         "Y",
         "No",
         "13",
         "3",
         "Tinggi",
         "80",
         "1",
         "6",
         "5",
         "Tinggi",
         "5",
         "4",
         "0",
         "3",
         "Rendah (< 5000)",
         "Baru Dipromosikan",
         "30-39"
        ],
        [
         "43",
         "44",
         "32",
         "0.0",
         "Travel_Frequently",
         "379",
         "Sales",
         "5",
         "2",
         "Life Sciences",
         "1",
         "Sedang",
         "Male",
         "48",
         "3",
         "2",
         "Sales Executive",
         "Sedang",
         "Married",
         "6524",
         "8891",
         "1",
         "Y",
         "No",
         "14",
         "3",
         "Sangat Tinggi",
         "80",
         "1",
         "10",
         "3",
         "Tinggi",
         "10",
         "8",
         "5",
         "3",
         "Sedang (5000-10000)",
         "3-5 Tahun",
         "30-39"
        ],
        [
         "44",
         "45",
         "26",
         "1.0",
         "Travel_Rarely",
         "1330",
         "Research & Development",
         "21",
         "3",
         "Medical",
         "1",
         "Rendah",
         "Male",
         "37",
         "3",
         "1",
         "Laboratory Technician",
         "Tinggi",
         "Divorced",
         "2377",
         "19373",
         "1",
         "Y",
         "No",
         "20",
         "4",
         "Tinggi",
         "80",
         "1",
         "1",
         "0",
         "Sedang",
         "1",
         "1",
         "0",
         "0",
         "Rendah (< 5000)",
         "Baru Dipromosikan",
         "< 30"
        ],
        [
         "45",
         "46",
         "30",
         "0.0",
         "Travel_Rarely",
         "288",
         "Research & Development",
         "2",
         "3",
         "Life Sciences",
         "1",
         "Tinggi",
         "Male",
         "99",
         "2",
         "2",
         "Healthcare Representative",
         "Sangat Tinggi",
         "Married",
         "4152",
         "15830",
         "1",
         "Y",
         "No",
         "19",
         "3",
         "Rendah",
         "80",
         "3",
         "11",
         "3",
         "Tinggi",
         "11",
         "10",
         "10",
         "8",
         "Rendah (< 5000)",
         "> 5 Tahun",
         "30-39"
        ],
        [
         "48",
         "49",
         "38",
         "0.0",
         "Travel_Frequently",
         "216",
         "Research & Development",
         "23",
         "3",
         "Life Sciences",
         "1",
         "Sangat Tinggi",
         "Male",
         "44",
         "2",
         "3",
         "Manufacturing Director",
         "Tinggi",
         "Single",
         "9526",
         "8787",
         "0",
         "Y",
         "No",
         "21",
         "4",
         "Sedang",
         "80",
         "0",
         "10",
         "2",
         "Tinggi",
         "9",
         "7",
         "1",
         "8",
         "Sedang (5000-10000)",
         "1-2 Tahun",
         "30-39"
        ],
        [
         "49",
         "50",
         "21",
         "0.0",
         "Travel_Rarely",
         "1343",
         "Sales",
         "22",
         "1",
         "Technical Degree",
         "1",
         "Tinggi",
         "Male",
         "49",
         "3",
         "1",
         "Sales Representative",
         "Tinggi",
         "Single",
         "3447",
         "24444",
         "1",
         "Y",
         "No",
         "11",
         "3",
         "Tinggi",
         "80",
         "0",
         "3",
         "2",
         "Tinggi",
         "3",
         "2",
         "1",
         "2",
         "Rendah (< 5000)",
         "1-2 Tahun",
         "< 30"
        ],
        [
         "50",
         "51",
         "35",
         "0.0",
         "Travel_Rarely",
         "950",
         "Research & Development",
         "7",
         "3",
         "Other",
         "1",
         "Tinggi",
         "Male",
         "59",
         "3",
         "3",
         "Manufacturing Director",
         "Tinggi",
         "Single",
         "10221",
         "18869",
         "3",
         "Y",
         "No",
         "21",
         "4",
         "Sedang",
         "80",
         "0",
         "17",
         "3",
         "Sangat Tinggi",
         "8",
         "5",
         "1",
         "6",
         "Tinggi (10000-15000)",
         "1-2 Tahun",
         "30-39"
        ],
        [
         "53",
         "54",
         "26",
         "0.0",
         "Travel_Frequently",
         "1479",
         "Research & Development",
         "1",
         "3",
         "Life Sciences",
         "1",
         "Tinggi",
         "Female",
         "84",
         "3",
         "2",
         "Manufacturing Director",
         "Sedang",
         "Divorced",
         "6397",
         "26767",
         "1",
         "Y",
         "No",
         "20",
         "4",
         "Rendah",
         "80",
         "1",
         "6",
         "6",
         "Rendah",
         "6",
         "5",
         "1",
         "4",
         "Sedang (5000-10000)",
         "1-2 Tahun",
         "< 30"
        ],
        [
         "54",
         "55",
         "31",
         "1.0",
         "Travel_Frequently",
         "523",
         "Research & Development",
         "2",
         "3",
         "Life Sciences",
         "1",
         "Sedang",
         "Male",
         "94",
         "3",
         "1",
         "Laboratory Technician",
         "Sangat Tinggi",
         "Married",
         "3722",
         "21081",
         "6",
         "Y",
         "Yes",
         "13",
         "3",
         "Tinggi",
         "80",
         "1",
         "7",
         "2",
         "Rendah",
         "2",
         "2",
         "2",
         "2",
         "Rendah (< 5000)",
         "1-2 Tahun",
         "30-39"
        ],
        [
         "56",
         "57",
         "32",
         "0.0",
         "Travel_Rarely",
         "1062",
         "Research & Development",
         "2",
         "3",
         "Medical",
         "1",
         "Tinggi",
         "Female",
         "75",
         "3",
         "1",
         "Laboratory Technician",
         "Sedang",
         "Married",
         "2370",
         "3956",
         "1",
         "Y",
         "No",
         "13",
         "3",
         "Tinggi",
         "80",
         "1",
         "8",
         "4",
         "Tinggi",
         "8",
         "0",
         "0",
         "7",
         "Rendah (< 5000)",
         "Baru Dipromosikan",
         "30-39"
        ],
        [
         "57",
         "58",
         "32",
         "0.0",
         "Travel_Rarely",
         "929",
         "Sales",
         "10",
         "3",
         "Marketing",
         "1",
         "Sangat Tinggi",
         "Male",
         "55",
         "3",
         "2",
         "Sales Executive",
         "Sangat Tinggi",
         "Single",
         "5396",
         "21703",
         "1",
         "Y",
         "No",
         "12",
         "3",
         "Sangat Tinggi",
         "80",
         "0",
         "10",
         "2",
         "Sedang",
         "10",
         "7",
         "0",
         "8",
         "Sedang (5000-10000)",
         "Baru Dipromosikan",
         "30-39"
        ],
        [
         "58",
         "59",
         "34",
         "0.0",
         "Travel_Rarely",
         "1303",
         "Research & Development",
         "2",
         "4",
         "Life Sciences",
         "1",
         "Sangat Tinggi",
         "Male",
         "62",
         "2",
         "1",
         "Research Scientist",
         "Tinggi",
         "Divorced",
         "2768",
         "8416",
         "3",
         "Y",
         "No",
         "12",
         "3",
         "Tinggi",
         "80",
         "1",
         "14",
         "3",
         "Tinggi",
         "7",
         "3",
         "5",
         "7",
         "Rendah (< 5000)",
         "3-5 Tahun",
         "30-39"
        ],
        [
         "59",
         "60",
         "33",
         "0.0",
         "Travel_Frequently",
         "553",
         "Research & Development",
         "5",
         "4",
         "Life Sciences",
         "1",
         "Sangat Tinggi",
         "Female",
         "74",
         "3",
         "3",
         "Manager",
         "Sedang",
         "Married",
         "11878",
         "23364",
         "6",
         "Y",
         "No",
         "11",
         "3",
         "Sedang",
         "80",
         "2",
         "12",
         "2",
         "Tinggi",
         "10",
         "6",
         "8",
         "8",
         "Tinggi (10000-15000)",
         "> 5 Tahun",
         "30-39"
        ],
        [
         "60",
         "61",
         "47",
         "0.0",
         "Travel_Rarely",
         "983",
         "Research & Development",
         "2",
         "2",
         "Medical",
         "1",
         "Rendah",
         "Female",
         "65",
         "3",
         "2",
         "Manufacturing Director",
         "Sangat Tinggi",
         "Divorced",
         "5070",
         "7389",
         "5",
         "Y",
         "No",
         "13",
         "3",
         "Tinggi",
         "80",
         "3",
         "20",
         "2",
         "Tinggi",
         "5",
         "0",
         "0",
         "4",
         "Sedang (5000-10000)",
         "Baru Dipromosikan",
         "40-49"
        ],
        [
         "62",
         "63",
         "30",
         "0.0",
         "Travel_Rarely",
         "921",
         "Research & Development",
         "1",
         "3",
         "Life Sciences",
         "1",
         "Sangat Tinggi",
         "Male",
         "38",
         "1",
         "1",
         "Laboratory Technician",
         "Tinggi",
         "Married",
         "3833",
         "24375",
         "3",
         "Y",
         "No",
         "21",
         "4",
         "Tinggi",
         "80",
         "2",
         "7",
         "2",
         "Tinggi",
         "2",
         "2",
         "0",
         "2",
         "Rendah (< 5000)",
         "Baru Dipromosikan",
         "30-39"
        ],
        [
         "63",
         "64",
         "58",
         "0.0",
         "Travel_Rarely",
         "1145",
         "Research & Development",
         "9",
         "3",
         "Medical",
         "1",
         "Sedang",
         "Female",
         "75",
         "2",
         "1",
         "Research Scientist",
         "Sedang",
         "Married",
         "3346",
         "11873",
         "4",
         "Y",
         "Yes",
         "20",
         "4",
         "Sedang",
         "80",
         "1",
         "9",
         "3",
         "Sedang",
         "1",
         "0",
         "0",
         "0",
         "Rendah (< 5000)",
         "Baru Dipromosikan",
         "50+"
        ],
        [
         "64",
         "65",
         "37",
         "1.0",
         "Travel_Rarely",
         "625",
         "Sales",
         "1",
         "4",
         "Life Sciences",
         "1",
         "Rendah",
         "Male",
         "46",
         "2",
         "3",
         "Sales Executive",
         "Tinggi",
         "Married",
         "10609",
         "14922",
         "5",
         "Y",
         "No",
         "11",
         "3",
         "Tinggi",
         "80",
         "0",
         "17",
         "2",
         "Rendah",
         "14",
         "1",
         "11",
         "7",
         "Tinggi (10000-15000)",
         "> 5 Tahun",
         "30-39"
        ]
       ],
       "shape": {
        "columns": 38,
        "rows": 1058
       }
      },
      "text/html": [
       "<div>\n",
       "<style scoped>\n",
       "    .dataframe tbody tr th:only-of-type {\n",
       "        vertical-align: middle;\n",
       "    }\n",
       "\n",
       "    .dataframe tbody tr th {\n",
       "        vertical-align: top;\n",
       "    }\n",
       "\n",
       "    .dataframe thead th {\n",
       "        text-align: right;\n",
       "    }\n",
       "</style>\n",
       "<table border=\"1\" class=\"dataframe\">\n",
       "  <thead>\n",
       "    <tr style=\"text-align: right;\">\n",
       "      <th></th>\n",
       "      <th>EmployeeId</th>\n",
       "      <th>Age</th>\n",
       "      <th>Attrition</th>\n",
       "      <th>BusinessTravel</th>\n",
       "      <th>DailyRate</th>\n",
       "      <th>Department</th>\n",
       "      <th>DistanceFromHome</th>\n",
       "      <th>Education</th>\n",
       "      <th>EducationField</th>\n",
       "      <th>EmployeeCount</th>\n",
       "      <th>...</th>\n",
       "      <th>TotalWorkingYears</th>\n",
       "      <th>TrainingTimesLastYear</th>\n",
       "      <th>WorkLifeBalance</th>\n",
       "      <th>YearsAtCompany</th>\n",
       "      <th>YearsInCurrentRole</th>\n",
       "      <th>YearsSinceLastPromotion</th>\n",
       "      <th>YearsWithCurrManager</th>\n",
       "      <th>SalaryCategory</th>\n",
       "      <th>PromotionCategory</th>\n",
       "      <th>AgeGroup</th>\n",
       "    </tr>\n",
       "  </thead>\n",
       "  <tbody>\n",
       "    <tr>\n",
       "      <th>1</th>\n",
       "      <td>2</td>\n",
       "      <td>37</td>\n",
       "      <td>1.0</td>\n",
       "      <td>Travel_Rarely</td>\n",
       "      <td>1141</td>\n",
       "      <td>Research &amp; Development</td>\n",
       "      <td>11</td>\n",
       "      <td>2</td>\n",
       "      <td>Medical</td>\n",
       "      <td>1</td>\n",
       "      <td>...</td>\n",
       "      <td>15</td>\n",
       "      <td>2</td>\n",
       "      <td>Rendah</td>\n",
       "      <td>1</td>\n",
       "      <td>0</td>\n",
       "      <td>0</td>\n",
       "      <td>0</td>\n",
       "      <td>Rendah (&lt; 5000)</td>\n",
       "      <td>Baru Dipromosikan</td>\n",
       "      <td>30-39</td>\n",
       "    </tr>\n",
       "    <tr>\n",
       "      <th>2</th>\n",
       "      <td>3</td>\n",
       "      <td>51</td>\n",
       "      <td>1.0</td>\n",
       "      <td>Travel_Rarely</td>\n",
       "      <td>1323</td>\n",
       "      <td>Research &amp; Development</td>\n",
       "      <td>4</td>\n",
       "      <td>4</td>\n",
       "      <td>Life Sciences</td>\n",
       "      <td>1</td>\n",
       "      <td>...</td>\n",
       "      <td>18</td>\n",
       "      <td>2</td>\n",
       "      <td>Sangat Tinggi</td>\n",
       "      <td>10</td>\n",
       "      <td>0</td>\n",
       "      <td>2</td>\n",
       "      <td>7</td>\n",
       "      <td>Rendah (&lt; 5000)</td>\n",
       "      <td>1-2 Tahun</td>\n",
       "      <td>50+</td>\n",
       "    </tr>\n",
       "    <tr>\n",
       "      <th>3</th>\n",
       "      <td>4</td>\n",
       "      <td>42</td>\n",
       "      <td>0.0</td>\n",
       "      <td>Travel_Frequently</td>\n",
       "      <td>555</td>\n",
       "      <td>Sales</td>\n",
       "      <td>26</td>\n",
       "      <td>3</td>\n",
       "      <td>Marketing</td>\n",
       "      <td>1</td>\n",
       "      <td>...</td>\n",
       "      <td>23</td>\n",
       "      <td>2</td>\n",
       "      <td>Sangat Tinggi</td>\n",
       "      <td>20</td>\n",
       "      <td>4</td>\n",
       "      <td>4</td>\n",
       "      <td>8</td>\n",
       "      <td>Tinggi (10000-15000)</td>\n",
       "      <td>3-5 Tahun</td>\n",
       "      <td>40-49</td>\n",
       "    </tr>\n",
       "    <tr>\n",
       "      <th>6</th>\n",
       "      <td>7</td>\n",
       "      <td>40</td>\n",
       "      <td>0.0</td>\n",
       "      <td>Travel_Rarely</td>\n",
       "      <td>1124</td>\n",
       "      <td>Sales</td>\n",
       "      <td>1</td>\n",
       "      <td>2</td>\n",
       "      <td>Medical</td>\n",
       "      <td>1</td>\n",
       "      <td>...</td>\n",
       "      <td>6</td>\n",
       "      <td>2</td>\n",
       "      <td>Sedang</td>\n",
       "      <td>4</td>\n",
       "      <td>3</td>\n",
       "      <td>0</td>\n",
       "      <td>2</td>\n",
       "      <td>Sedang (5000-10000)</td>\n",
       "      <td>Baru Dipromosikan</td>\n",
       "      <td>40-49</td>\n",
       "    </tr>\n",
       "    <tr>\n",
       "      <th>7</th>\n",
       "      <td>8</td>\n",
       "      <td>55</td>\n",
       "      <td>1.0</td>\n",
       "      <td>Travel_Rarely</td>\n",
       "      <td>725</td>\n",
       "      <td>Research &amp; Development</td>\n",
       "      <td>2</td>\n",
       "      <td>3</td>\n",
       "      <td>Medical</td>\n",
       "      <td>1</td>\n",
       "      <td>...</td>\n",
       "      <td>24</td>\n",
       "      <td>2</td>\n",
       "      <td>Tinggi</td>\n",
       "      <td>5</td>\n",
       "      <td>2</td>\n",
       "      <td>1</td>\n",
       "      <td>4</td>\n",
       "      <td>Sangat Tinggi (&gt;15000)</td>\n",
       "      <td>1-2 Tahun</td>\n",
       "      <td>50+</td>\n",
       "    </tr>\n",
       "    <tr>\n",
       "      <th>...</th>\n",
       "      <td>...</td>\n",
       "      <td>...</td>\n",
       "      <td>...</td>\n",
       "      <td>...</td>\n",
       "      <td>...</td>\n",
       "      <td>...</td>\n",
       "      <td>...</td>\n",
       "      <td>...</td>\n",
       "      <td>...</td>\n",
       "      <td>...</td>\n",
       "      <td>...</td>\n",
       "      <td>...</td>\n",
       "      <td>...</td>\n",
       "      <td>...</td>\n",
       "      <td>...</td>\n",
       "      <td>...</td>\n",
       "      <td>...</td>\n",
       "      <td>...</td>\n",
       "      <td>...</td>\n",
       "      <td>...</td>\n",
       "      <td>...</td>\n",
       "    </tr>\n",
       "    <tr>\n",
       "      <th>1464</th>\n",
       "      <td>1465</td>\n",
       "      <td>28</td>\n",
       "      <td>1.0</td>\n",
       "      <td>Non-Travel</td>\n",
       "      <td>1366</td>\n",
       "      <td>Research &amp; Development</td>\n",
       "      <td>24</td>\n",
       "      <td>2</td>\n",
       "      <td>Technical Degree</td>\n",
       "      <td>1</td>\n",
       "      <td>...</td>\n",
       "      <td>10</td>\n",
       "      <td>2</td>\n",
       "      <td>Sedang</td>\n",
       "      <td>10</td>\n",
       "      <td>7</td>\n",
       "      <td>1</td>\n",
       "      <td>9</td>\n",
       "      <td>Sedang (5000-10000)</td>\n",
       "      <td>1-2 Tahun</td>\n",
       "      <td>&lt; 30</td>\n",
       "    </tr>\n",
       "    <tr>\n",
       "      <th>1465</th>\n",
       "      <td>1466</td>\n",
       "      <td>38</td>\n",
       "      <td>0.0</td>\n",
       "      <td>Travel_Rarely</td>\n",
       "      <td>168</td>\n",
       "      <td>Research &amp; Development</td>\n",
       "      <td>1</td>\n",
       "      <td>3</td>\n",
       "      <td>Life Sciences</td>\n",
       "      <td>1</td>\n",
       "      <td>...</td>\n",
       "      <td>10</td>\n",
       "      <td>4</td>\n",
       "      <td>Sangat Tinggi</td>\n",
       "      <td>1</td>\n",
       "      <td>0</td>\n",
       "      <td>0</td>\n",
       "      <td>0</td>\n",
       "      <td>Sedang (5000-10000)</td>\n",
       "      <td>Baru Dipromosikan</td>\n",
       "      <td>30-39</td>\n",
       "    </tr>\n",
       "    <tr>\n",
       "      <th>1467</th>\n",
       "      <td>1468</td>\n",
       "      <td>28</td>\n",
       "      <td>1.0</td>\n",
       "      <td>Travel_Rarely</td>\n",
       "      <td>1485</td>\n",
       "      <td>Research &amp; Development</td>\n",
       "      <td>12</td>\n",
       "      <td>1</td>\n",
       "      <td>Life Sciences</td>\n",
       "      <td>1</td>\n",
       "      <td>...</td>\n",
       "      <td>1</td>\n",
       "      <td>4</td>\n",
       "      <td>Sedang</td>\n",
       "      <td>1</td>\n",
       "      <td>1</td>\n",
       "      <td>0</td>\n",
       "      <td>0</td>\n",
       "      <td>Rendah (&lt; 5000)</td>\n",
       "      <td>Baru Dipromosikan</td>\n",
       "      <td>&lt; 30</td>\n",
       "    </tr>\n",
       "    <tr>\n",
       "      <th>1468</th>\n",
       "      <td>1469</td>\n",
       "      <td>40</td>\n",
       "      <td>0.0</td>\n",
       "      <td>Non-Travel</td>\n",
       "      <td>458</td>\n",
       "      <td>Research &amp; Development</td>\n",
       "      <td>16</td>\n",
       "      <td>2</td>\n",
       "      <td>Life Sciences</td>\n",
       "      <td>1</td>\n",
       "      <td>...</td>\n",
       "      <td>6</td>\n",
       "      <td>0</td>\n",
       "      <td>Tinggi</td>\n",
       "      <td>4</td>\n",
       "      <td>2</td>\n",
       "      <td>0</td>\n",
       "      <td>0</td>\n",
       "      <td>Rendah (&lt; 5000)</td>\n",
       "      <td>Baru Dipromosikan</td>\n",
       "      <td>40-49</td>\n",
       "    </tr>\n",
       "    <tr>\n",
       "      <th>1469</th>\n",
       "      <td>1470</td>\n",
       "      <td>19</td>\n",
       "      <td>1.0</td>\n",
       "      <td>Travel_Frequently</td>\n",
       "      <td>602</td>\n",
       "      <td>Sales</td>\n",
       "      <td>1</td>\n",
       "      <td>1</td>\n",
       "      <td>Technical Degree</td>\n",
       "      <td>1</td>\n",
       "      <td>...</td>\n",
       "      <td>1</td>\n",
       "      <td>5</td>\n",
       "      <td>Sangat Tinggi</td>\n",
       "      <td>0</td>\n",
       "      <td>0</td>\n",
       "      <td>0</td>\n",
       "      <td>0</td>\n",
       "      <td>Rendah (&lt; 5000)</td>\n",
       "      <td>Baru Dipromosikan</td>\n",
       "      <td>&lt; 30</td>\n",
       "    </tr>\n",
       "  </tbody>\n",
       "</table>\n",
       "<p>1058 rows × 38 columns</p>\n",
       "</div>"
      ],
      "text/plain": [
       "      EmployeeId  Age  Attrition     BusinessTravel  DailyRate  \\\n",
       "1              2   37        1.0      Travel_Rarely       1141   \n",
       "2              3   51        1.0      Travel_Rarely       1323   \n",
       "3              4   42        0.0  Travel_Frequently        555   \n",
       "6              7   40        0.0      Travel_Rarely       1124   \n",
       "7              8   55        1.0      Travel_Rarely        725   \n",
       "...          ...  ...        ...                ...        ...   \n",
       "1464        1465   28        1.0         Non-Travel       1366   \n",
       "1465        1466   38        0.0      Travel_Rarely        168   \n",
       "1467        1468   28        1.0      Travel_Rarely       1485   \n",
       "1468        1469   40        0.0         Non-Travel        458   \n",
       "1469        1470   19        1.0  Travel_Frequently        602   \n",
       "\n",
       "                  Department  DistanceFromHome  Education    EducationField  \\\n",
       "1     Research & Development                11          2           Medical   \n",
       "2     Research & Development                 4          4     Life Sciences   \n",
       "3                      Sales                26          3         Marketing   \n",
       "6                      Sales                 1          2           Medical   \n",
       "7     Research & Development                 2          3           Medical   \n",
       "...                      ...               ...        ...               ...   \n",
       "1464  Research & Development                24          2  Technical Degree   \n",
       "1465  Research & Development                 1          3     Life Sciences   \n",
       "1467  Research & Development                12          1     Life Sciences   \n",
       "1468  Research & Development                16          2     Life Sciences   \n",
       "1469                   Sales                 1          1  Technical Degree   \n",
       "\n",
       "      EmployeeCount  ... TotalWorkingYears TrainingTimesLastYear  \\\n",
       "1                 1  ...                15                     2   \n",
       "2                 1  ...                18                     2   \n",
       "3                 1  ...                23                     2   \n",
       "6                 1  ...                 6                     2   \n",
       "7                 1  ...                24                     2   \n",
       "...             ...  ...               ...                   ...   \n",
       "1464              1  ...                10                     2   \n",
       "1465              1  ...                10                     4   \n",
       "1467              1  ...                 1                     4   \n",
       "1468              1  ...                 6                     0   \n",
       "1469              1  ...                 1                     5   \n",
       "\n",
       "      WorkLifeBalance  YearsAtCompany  YearsInCurrentRole  \\\n",
       "1              Rendah               1                   0   \n",
       "2       Sangat Tinggi              10                   0   \n",
       "3       Sangat Tinggi              20                   4   \n",
       "6              Sedang               4                   3   \n",
       "7              Tinggi               5                   2   \n",
       "...               ...             ...                 ...   \n",
       "1464           Sedang              10                   7   \n",
       "1465    Sangat Tinggi               1                   0   \n",
       "1467           Sedang               1                   1   \n",
       "1468           Tinggi               4                   2   \n",
       "1469    Sangat Tinggi               0                   0   \n",
       "\n",
       "     YearsSinceLastPromotion YearsWithCurrManager          SalaryCategory  \\\n",
       "1                          0                    0         Rendah (< 5000)   \n",
       "2                          2                    7         Rendah (< 5000)   \n",
       "3                          4                    8    Tinggi (10000-15000)   \n",
       "6                          0                    2     Sedang (5000-10000)   \n",
       "7                          1                    4  Sangat Tinggi (>15000)   \n",
       "...                      ...                  ...                     ...   \n",
       "1464                       1                    9     Sedang (5000-10000)   \n",
       "1465                       0                    0     Sedang (5000-10000)   \n",
       "1467                       0                    0         Rendah (< 5000)   \n",
       "1468                       0                    0         Rendah (< 5000)   \n",
       "1469                       0                    0         Rendah (< 5000)   \n",
       "\n",
       "      PromotionCategory  AgeGroup  \n",
       "1     Baru Dipromosikan     30-39  \n",
       "2             1-2 Tahun       50+  \n",
       "3             3-5 Tahun     40-49  \n",
       "6     Baru Dipromosikan     40-49  \n",
       "7             1-2 Tahun       50+  \n",
       "...                 ...       ...  \n",
       "1464          1-2 Tahun      < 30  \n",
       "1465  Baru Dipromosikan     30-39  \n",
       "1467  Baru Dipromosikan      < 30  \n",
       "1468  Baru Dipromosikan     40-49  \n",
       "1469  Baru Dipromosikan      < 30  \n",
       "\n",
       "[1058 rows x 38 columns]"
      ]
     },
     "metadata": {},
     "output_type": "display_data"
    },
    {
     "data": {
      "application/vnd.plotly.v1+json": {
       "config": {
        "plotlyServerURL": "https://plot.ly"
       },
       "data": [
        {
         "marker": {
          "color": "lightseagreen"
         },
         "text": [
          "27.3%",
          "12.7%",
          "17.5%",
          "14.0%"
         ],
         "textposition": "auto",
         "type": "bar",
         "x": [
          "Rendah",
          "Sangat Tinggi",
          "Sedang",
          "Tinggi"
         ],
         "xaxis": "x",
         "y": {
          "bdata": "RRdddNFFO0BAbaEBS3opQAAAAAAAgDFAXPjVmEgPLEA=",
          "dtype": "f8"
         },
         "yaxis": "y"
        },
        {
         "marker": {
          "color": "lightseagreen"
         },
         "text": [
          "22.4%",
          "11.5%",
          "16.4%",
          "19.5%"
         ],
         "textposition": "auto",
         "type": "bar",
         "x": [
          "Rendah",
          "Sangat Tinggi",
          "Sedang",
          "Tinggi"
         ],
         "xaxis": "x2",
         "y": {
          "bdata": "cT4G52NwNkDx8PDw8PAmQJAGaZAGaTBA24h16TF/M0A=",
          "dtype": "f8"
         },
         "yaxis": "y2"
        },
        {
         "marker": {
          "color": "lightseagreen"
         },
         "text": [
          "22.9%",
          "16.1%",
          "15.2%",
          "15.1%"
         ],
         "textposition": "auto",
         "type": "bar",
         "x": [
          "Rendah",
          "Sangat Tinggi",
          "Sedang",
          "Tinggi"
         ],
         "xaxis": "x3",
         "y": {
          "bdata": "po4Q27TiNkB44wu7XBkwQJ/neZ7neS5ASRl4ujU/LkA=",
          "dtype": "f8"
         },
         "yaxis": "y3"
        },
        {
         "marker": {
          "color": "lightseagreen"
         },
         "text": [
          "32.1%",
          "19.5%",
          "17.9%",
          "14.7%"
         ],
         "textposition": "auto",
         "type": "bar",
         "x": [
          "Rendah",
          "Sangat Tinggi",
          "Sedang",
          "Tinggi"
         ],
         "xaxis": "x4",
         "y": {
          "bdata": "JUmSJEkSQEAigbcfEngzQOYtCTWk7TFAFhzj25J3LUA=",
          "dtype": "f8"
         },
         "yaxis": "y4"
        }
       ],
       "layout": {
        "annotations": [
         {
          "font": {
           "color": "#000000",
           "size": 12
          },
          "showarrow": false,
          "text": "Kepuasan Lingkungan",
          "x": 0.225,
          "xanchor": "center",
          "xref": "paper",
          "y": 1,
          "yanchor": "bottom",
          "yref": "paper"
         },
         {
          "font": {
           "color": "#000000",
           "size": 12
          },
          "showarrow": false,
          "text": "Kepuasan Kerja",
          "x": 0.775,
          "xanchor": "center",
          "xref": "paper",
          "y": 1,
          "yanchor": "bottom",
          "yref": "paper"
         },
         {
          "font": {
           "color": "#000000",
           "size": 12
          },
          "showarrow": false,
          "text": "Kepuasan Hubungan",
          "x": 0.225,
          "xanchor": "center",
          "xref": "paper",
          "y": 0.375,
          "yanchor": "bottom",
          "yref": "paper"
         },
         {
          "font": {
           "color": "#000000",
           "size": 12
          },
          "showarrow": false,
          "text": "Work Life Balance",
          "x": 0.775,
          "xanchor": "center",
          "xref": "paper",
          "y": 0.375,
          "yanchor": "bottom",
          "yref": "paper"
         }
        ],
        "height": 600,
        "showlegend": false,
        "template": {
         "data": {
          "bar": [
           {
            "error_x": {
             "color": "#2a3f5f"
            },
            "error_y": {
             "color": "#2a3f5f"
            },
            "marker": {
             "line": {
              "color": "white",
              "width": 0.5
             },
             "pattern": {
              "fillmode": "overlay",
              "size": 10,
              "solidity": 0.2
             }
            },
            "type": "bar"
           }
          ],
          "barpolar": [
           {
            "marker": {
             "line": {
              "color": "white",
              "width": 0.5
             },
             "pattern": {
              "fillmode": "overlay",
              "size": 10,
              "solidity": 0.2
             }
            },
            "type": "barpolar"
           }
          ],
          "carpet": [
           {
            "aaxis": {
             "endlinecolor": "#2a3f5f",
             "gridcolor": "#C8D4E3",
             "linecolor": "#C8D4E3",
             "minorgridcolor": "#C8D4E3",
             "startlinecolor": "#2a3f5f"
            },
            "baxis": {
             "endlinecolor": "#2a3f5f",
             "gridcolor": "#C8D4E3",
             "linecolor": "#C8D4E3",
             "minorgridcolor": "#C8D4E3",
             "startlinecolor": "#2a3f5f"
            },
            "type": "carpet"
           }
          ],
          "choropleth": [
           {
            "colorbar": {
             "outlinewidth": 0,
             "ticks": ""
            },
            "type": "choropleth"
           }
          ],
          "contour": [
           {
            "colorbar": {
             "outlinewidth": 0,
             "ticks": ""
            },
            "colorscale": [
             [
              0,
              "#0d0887"
             ],
             [
              0.1111111111111111,
              "#46039f"
             ],
             [
              0.2222222222222222,
              "#7201a8"
             ],
             [
              0.3333333333333333,
              "#9c179e"
             ],
             [
              0.4444444444444444,
              "#bd3786"
             ],
             [
              0.5555555555555556,
              "#d8576b"
             ],
             [
              0.6666666666666666,
              "#ed7953"
             ],
             [
              0.7777777777777778,
              "#fb9f3a"
             ],
             [
              0.8888888888888888,
              "#fdca26"
             ],
             [
              1,
              "#f0f921"
             ]
            ],
            "type": "contour"
           }
          ],
          "contourcarpet": [
           {
            "colorbar": {
             "outlinewidth": 0,
             "ticks": ""
            },
            "type": "contourcarpet"
           }
          ],
          "heatmap": [
           {
            "colorbar": {
             "outlinewidth": 0,
             "ticks": ""
            },
            "colorscale": [
             [
              0,
              "#0d0887"
             ],
             [
              0.1111111111111111,
              "#46039f"
             ],
             [
              0.2222222222222222,
              "#7201a8"
             ],
             [
              0.3333333333333333,
              "#9c179e"
             ],
             [
              0.4444444444444444,
              "#bd3786"
             ],
             [
              0.5555555555555556,
              "#d8576b"
             ],
             [
              0.6666666666666666,
              "#ed7953"
             ],
             [
              0.7777777777777778,
              "#fb9f3a"
             ],
             [
              0.8888888888888888,
              "#fdca26"
             ],
             [
              1,
              "#f0f921"
             ]
            ],
            "type": "heatmap"
           }
          ],
          "histogram": [
           {
            "marker": {
             "pattern": {
              "fillmode": "overlay",
              "size": 10,
              "solidity": 0.2
             }
            },
            "type": "histogram"
           }
          ],
          "histogram2d": [
           {
            "colorbar": {
             "outlinewidth": 0,
             "ticks": ""
            },
            "colorscale": [
             [
              0,
              "#0d0887"
             ],
             [
              0.1111111111111111,
              "#46039f"
             ],
             [
              0.2222222222222222,
              "#7201a8"
             ],
             [
              0.3333333333333333,
              "#9c179e"
             ],
             [
              0.4444444444444444,
              "#bd3786"
             ],
             [
              0.5555555555555556,
              "#d8576b"
             ],
             [
              0.6666666666666666,
              "#ed7953"
             ],
             [
              0.7777777777777778,
              "#fb9f3a"
             ],
             [
              0.8888888888888888,
              "#fdca26"
             ],
             [
              1,
              "#f0f921"
             ]
            ],
            "type": "histogram2d"
           }
          ],
          "histogram2dcontour": [
           {
            "colorbar": {
             "outlinewidth": 0,
             "ticks": ""
            },
            "colorscale": [
             [
              0,
              "#0d0887"
             ],
             [
              0.1111111111111111,
              "#46039f"
             ],
             [
              0.2222222222222222,
              "#7201a8"
             ],
             [
              0.3333333333333333,
              "#9c179e"
             ],
             [
              0.4444444444444444,
              "#bd3786"
             ],
             [
              0.5555555555555556,
              "#d8576b"
             ],
             [
              0.6666666666666666,
              "#ed7953"
             ],
             [
              0.7777777777777778,
              "#fb9f3a"
             ],
             [
              0.8888888888888888,
              "#fdca26"
             ],
             [
              1,
              "#f0f921"
             ]
            ],
            "type": "histogram2dcontour"
           }
          ],
          "mesh3d": [
           {
            "colorbar": {
             "outlinewidth": 0,
             "ticks": ""
            },
            "type": "mesh3d"
           }
          ],
          "parcoords": [
           {
            "line": {
             "colorbar": {
              "outlinewidth": 0,
              "ticks": ""
             }
            },
            "type": "parcoords"
           }
          ],
          "pie": [
           {
            "automargin": true,
            "type": "pie"
           }
          ],
          "scatter": [
           {
            "fillpattern": {
             "fillmode": "overlay",
             "size": 10,
             "solidity": 0.2
            },
            "type": "scatter"
           }
          ],
          "scatter3d": [
           {
            "line": {
             "colorbar": {
              "outlinewidth": 0,
              "ticks": ""
             }
            },
            "marker": {
             "colorbar": {
              "outlinewidth": 0,
              "ticks": ""
             }
            },
            "type": "scatter3d"
           }
          ],
          "scattercarpet": [
           {
            "marker": {
             "colorbar": {
              "outlinewidth": 0,
              "ticks": ""
             }
            },
            "type": "scattercarpet"
           }
          ],
          "scattergeo": [
           {
            "marker": {
             "colorbar": {
              "outlinewidth": 0,
              "ticks": ""
             }
            },
            "type": "scattergeo"
           }
          ],
          "scattergl": [
           {
            "marker": {
             "colorbar": {
              "outlinewidth": 0,
              "ticks": ""
             }
            },
            "type": "scattergl"
           }
          ],
          "scattermap": [
           {
            "marker": {
             "colorbar": {
              "outlinewidth": 0,
              "ticks": ""
             }
            },
            "type": "scattermap"
           }
          ],
          "scattermapbox": [
           {
            "marker": {
             "colorbar": {
              "outlinewidth": 0,
              "ticks": ""
             }
            },
            "type": "scattermapbox"
           }
          ],
          "scatterpolar": [
           {
            "marker": {
             "colorbar": {
              "outlinewidth": 0,
              "ticks": ""
             }
            },
            "type": "scatterpolar"
           }
          ],
          "scatterpolargl": [
           {
            "marker": {
             "colorbar": {
              "outlinewidth": 0,
              "ticks": ""
             }
            },
            "type": "scatterpolargl"
           }
          ],
          "scatterternary": [
           {
            "marker": {
             "colorbar": {
              "outlinewidth": 0,
              "ticks": ""
             }
            },
            "type": "scatterternary"
           }
          ],
          "surface": [
           {
            "colorbar": {
             "outlinewidth": 0,
             "ticks": ""
            },
            "colorscale": [
             [
              0,
              "#0d0887"
             ],
             [
              0.1111111111111111,
              "#46039f"
             ],
             [
              0.2222222222222222,
              "#7201a8"
             ],
             [
              0.3333333333333333,
              "#9c179e"
             ],
             [
              0.4444444444444444,
              "#bd3786"
             ],
             [
              0.5555555555555556,
              "#d8576b"
             ],
             [
              0.6666666666666666,
              "#ed7953"
             ],
             [
              0.7777777777777778,
              "#fb9f3a"
             ],
             [
              0.8888888888888888,
              "#fdca26"
             ],
             [
              1,
              "#f0f921"
             ]
            ],
            "type": "surface"
           }
          ],
          "table": [
           {
            "cells": {
             "fill": {
              "color": "#EBF0F8"
             },
             "line": {
              "color": "white"
             }
            },
            "header": {
             "fill": {
              "color": "#C8D4E3"
             },
             "line": {
              "color": "white"
             }
            },
            "type": "table"
           }
          ]
         },
         "layout": {
          "annotationdefaults": {
           "arrowcolor": "#2a3f5f",
           "arrowhead": 0,
           "arrowwidth": 1
          },
          "autotypenumbers": "strict",
          "coloraxis": {
           "colorbar": {
            "outlinewidth": 0,
            "ticks": ""
           }
          },
          "colorscale": {
           "diverging": [
            [
             0,
             "#8e0152"
            ],
            [
             0.1,
             "#c51b7d"
            ],
            [
             0.2,
             "#de77ae"
            ],
            [
             0.3,
             "#f1b6da"
            ],
            [
             0.4,
             "#fde0ef"
            ],
            [
             0.5,
             "#f7f7f7"
            ],
            [
             0.6,
             "#e6f5d0"
            ],
            [
             0.7,
             "#b8e186"
            ],
            [
             0.8,
             "#7fbc41"
            ],
            [
             0.9,
             "#4d9221"
            ],
            [
             1,
             "#276419"
            ]
           ],
           "sequential": [
            [
             0,
             "#0d0887"
            ],
            [
             0.1111111111111111,
             "#46039f"
            ],
            [
             0.2222222222222222,
             "#7201a8"
            ],
            [
             0.3333333333333333,
             "#9c179e"
            ],
            [
             0.4444444444444444,
             "#bd3786"
            ],
            [
             0.5555555555555556,
             "#d8576b"
            ],
            [
             0.6666666666666666,
             "#ed7953"
            ],
            [
             0.7777777777777778,
             "#fb9f3a"
            ],
            [
             0.8888888888888888,
             "#fdca26"
            ],
            [
             1,
             "#f0f921"
            ]
           ],
           "sequentialminus": [
            [
             0,
             "#0d0887"
            ],
            [
             0.1111111111111111,
             "#46039f"
            ],
            [
             0.2222222222222222,
             "#7201a8"
            ],
            [
             0.3333333333333333,
             "#9c179e"
            ],
            [
             0.4444444444444444,
             "#bd3786"
            ],
            [
             0.5555555555555556,
             "#d8576b"
            ],
            [
             0.6666666666666666,
             "#ed7953"
            ],
            [
             0.7777777777777778,
             "#fb9f3a"
            ],
            [
             0.8888888888888888,
             "#fdca26"
            ],
            [
             1,
             "#f0f921"
            ]
           ]
          },
          "colorway": [
           "#636efa",
           "#EF553B",
           "#00cc96",
           "#ab63fa",
           "#FFA15A",
           "#19d3f3",
           "#FF6692",
           "#B6E880",
           "#FF97FF",
           "#FECB52"
          ],
          "font": {
           "color": "#2a3f5f"
          },
          "geo": {
           "bgcolor": "white",
           "lakecolor": "white",
           "landcolor": "white",
           "showlakes": true,
           "showland": true,
           "subunitcolor": "#C8D4E3"
          },
          "hoverlabel": {
           "align": "left"
          },
          "hovermode": "closest",
          "mapbox": {
           "style": "light"
          },
          "paper_bgcolor": "white",
          "plot_bgcolor": "white",
          "polar": {
           "angularaxis": {
            "gridcolor": "#EBF0F8",
            "linecolor": "#EBF0F8",
            "ticks": ""
           },
           "bgcolor": "white",
           "radialaxis": {
            "gridcolor": "#EBF0F8",
            "linecolor": "#EBF0F8",
            "ticks": ""
           }
          },
          "scene": {
           "xaxis": {
            "backgroundcolor": "white",
            "gridcolor": "#DFE8F3",
            "gridwidth": 2,
            "linecolor": "#EBF0F8",
            "showbackground": true,
            "ticks": "",
            "zerolinecolor": "#EBF0F8"
           },
           "yaxis": {
            "backgroundcolor": "white",
            "gridcolor": "#DFE8F3",
            "gridwidth": 2,
            "linecolor": "#EBF0F8",
            "showbackground": true,
            "ticks": "",
            "zerolinecolor": "#EBF0F8"
           },
           "zaxis": {
            "backgroundcolor": "white",
            "gridcolor": "#DFE8F3",
            "gridwidth": 2,
            "linecolor": "#EBF0F8",
            "showbackground": true,
            "ticks": "",
            "zerolinecolor": "#EBF0F8"
           }
          },
          "shapedefaults": {
           "line": {
            "color": "#2a3f5f"
           }
          },
          "ternary": {
           "aaxis": {
            "gridcolor": "#DFE8F3",
            "linecolor": "#A2B1C6",
            "ticks": ""
           },
           "baxis": {
            "gridcolor": "#DFE8F3",
            "linecolor": "#A2B1C6",
            "ticks": ""
           },
           "bgcolor": "white",
           "caxis": {
            "gridcolor": "#DFE8F3",
            "linecolor": "#A2B1C6",
            "ticks": ""
           }
          },
          "title": {
           "x": 0.05
          },
          "xaxis": {
           "automargin": true,
           "gridcolor": "#EBF0F8",
           "linecolor": "#EBF0F8",
           "ticks": "",
           "title": {
            "standoff": 15
           },
           "zerolinecolor": "#EBF0F8",
           "zerolinewidth": 2
          },
          "yaxis": {
           "automargin": true,
           "gridcolor": "#EBF0F8",
           "linecolor": "#EBF0F8",
           "ticks": "",
           "title": {
            "standoff": 15
           },
           "zerolinecolor": "#EBF0F8",
           "zerolinewidth": 2
          }
         }
        },
        "title": {
         "text": "Tingkat Attrition (%) Berdasarkan Faktor Kepuasan"
        },
        "width": 900,
        "xaxis": {
         "anchor": "y",
         "domain": [
          0,
          0.45
         ],
         "title": {
          "text": "Tingkat Kepuasan"
         }
        },
        "xaxis2": {
         "anchor": "y2",
         "domain": [
          0.55,
          1
         ],
         "title": {
          "text": "Tingkat Kepuasan"
         }
        },
        "xaxis3": {
         "anchor": "y3",
         "domain": [
          0,
          0.45
         ],
         "title": {
          "text": "Tingkat Kepuasan"
         }
        },
        "xaxis4": {
         "anchor": "y4",
         "domain": [
          0.55,
          1
         ],
         "title": {
          "text": "Tingkat Kepuasan"
         }
        },
        "yaxis": {
         "anchor": "x",
         "domain": [
          0.625,
          1
         ],
         "title": {
          "text": "Tingkat Attrition (%)"
         }
        },
        "yaxis2": {
         "anchor": "x2",
         "domain": [
          0.625,
          1
         ],
         "title": {
          "text": "Tingkat Attrition (%)"
         }
        },
        "yaxis3": {
         "anchor": "x3",
         "domain": [
          0,
          0.375
         ],
         "title": {
          "text": "Tingkat Attrition (%)"
         }
        },
        "yaxis4": {
         "anchor": "x4",
         "domain": [
          0,
          0.375
         ],
         "title": {
          "text": "Tingkat Attrition (%)"
         }
        }
       }
      }
     },
     "metadata": {},
     "output_type": "display_data"
    }
   ],
   "source": [
    "df_satisfaction = df.copy()\n",
    "for col in satisfaction_cols:\n",
    "    df_satisfaction[col] = df_satisfaction[col].map(satisfaction_labels)\n",
    "\n",
    "display(df_satisfaction)\n",
    "\n",
    "fig = make_subplots(rows=2, cols=2, \n",
    "                   subplot_titles=['Kepuasan Lingkungan', 'Kepuasan Kerja', \n",
    "                                  'Kepuasan Hubungan', 'Work Life Balance'],)\n",
    "\n",
    "col_positions = [\n",
    "    ('EnvironmentSatisfaction', 1, 1),\n",
    "    ('JobSatisfaction', 1, 2),\n",
    "    ('RelationshipSatisfaction', 2, 1),\n",
    "    ('WorkLifeBalance', 2, 2)\n",
    "]\n",
    "\n",
    "for col, row, col_pos in col_positions:\n",
    "    attrition_by_satisfaction = df_satisfaction.groupby(col)['Attrition'].mean() * 100\n",
    "    \n",
    "    fig.add_trace(\n",
    "        go.Bar(\n",
    "            x=attrition_by_satisfaction.index,\n",
    "            y=attrition_by_satisfaction.values,\n",
    "            text=[f'{val:.1f}%' for val in attrition_by_satisfaction.values],\n",
    "            textposition='auto',\n",
    "            marker_color='lightseagreen'\n",
    "        ),\n",
    "        row=row, col=col_pos\n",
    "    )\n",
    "\n",
    "fig.update_layout(\n",
    "    height=600,\n",
    "    width=900,\n",
    "    showlegend=False,\n",
    "    title_text='Tingkat Attrition (%) Berdasarkan Faktor Kepuasan',\n",
    "    template='plotly_white'\n",
    ")\n",
    "\n",
    "for i in fig['layout']['annotations']:\n",
    "    i['font'] = dict(size=12, color='#000000')\n",
    "\n",
    "fig.update_xaxes(title_text='Tingkat Kepuasan')\n",
    "fig.update_yaxes(title_text='Tingkat Attrition (%)')\n",
    "\n",
    "fig.show()\n",
    "\n",
    "fig.write_image(\"./visualisasi/tingkat_attrition_kepuasan.jpg\", scale=2)"
   ]
  },
  {
   "cell_type": "markdown",
   "id": "f1c60a81",
   "metadata": {},
   "source": [
    "### Attrition by JobRole"
   ]
  },
  {
   "cell_type": "code",
   "execution_count": 73,
   "id": "d7e39804",
   "metadata": {},
   "outputs": [
    {
     "data": {
      "application/vnd.microsoft.datawrangler.viewer.v0+json": {
       "columns": [
        {
         "name": "JobRole",
         "rawType": "object",
         "type": "string"
        },
        {
         "name": "Tingkat Attrition (%)",
         "rawType": "float64",
         "type": "float"
        },
        {
         "name": "Jumlah Karyawan",
         "rawType": "int64",
         "type": "integer"
        }
       ],
       "conversionMethod": "pd.DataFrame",
       "ref": "3549f312-1b62-4fa3-a71c-583639175b9e",
       "rows": [
        [
         "Healthcare Representative",
         "9.090909090909092",
         "88"
        ],
        [
         "Human Resources",
         "20.0",
         "30"
        ],
        [
         "Laboratory Technician",
         "26.063829787234045",
         "188"
        ],
        [
         "Manager",
         "6.329113924050633",
         "79"
        ],
        [
         "Manufacturing Director",
         "6.5420560747663545",
         "107"
        ],
        [
         "Research Director",
         "3.225806451612903",
         "62"
        ],
        [
         "Research Scientist",
         "17.75700934579439",
         "214"
        ],
        [
         "Sales Executive",
         "16.810344827586206",
         "232"
        ],
        [
         "Sales Representative",
         "43.103448275862064",
         "58"
        ]
       ],
       "shape": {
        "columns": 2,
        "rows": 9
       }
      },
      "text/html": [
       "<div>\n",
       "<style scoped>\n",
       "    .dataframe tbody tr th:only-of-type {\n",
       "        vertical-align: middle;\n",
       "    }\n",
       "\n",
       "    .dataframe tbody tr th {\n",
       "        vertical-align: top;\n",
       "    }\n",
       "\n",
       "    .dataframe thead th {\n",
       "        text-align: right;\n",
       "    }\n",
       "</style>\n",
       "<table border=\"1\" class=\"dataframe\">\n",
       "  <thead>\n",
       "    <tr style=\"text-align: right;\">\n",
       "      <th></th>\n",
       "      <th>Tingkat Attrition (%)</th>\n",
       "      <th>Jumlah Karyawan</th>\n",
       "    </tr>\n",
       "    <tr>\n",
       "      <th>JobRole</th>\n",
       "      <th></th>\n",
       "      <th></th>\n",
       "    </tr>\n",
       "  </thead>\n",
       "  <tbody>\n",
       "    <tr>\n",
       "      <th>Healthcare Representative</th>\n",
       "      <td>9.090909</td>\n",
       "      <td>88</td>\n",
       "    </tr>\n",
       "    <tr>\n",
       "      <th>Human Resources</th>\n",
       "      <td>20.000000</td>\n",
       "      <td>30</td>\n",
       "    </tr>\n",
       "    <tr>\n",
       "      <th>Laboratory Technician</th>\n",
       "      <td>26.063830</td>\n",
       "      <td>188</td>\n",
       "    </tr>\n",
       "    <tr>\n",
       "      <th>Manager</th>\n",
       "      <td>6.329114</td>\n",
       "      <td>79</td>\n",
       "    </tr>\n",
       "    <tr>\n",
       "      <th>Manufacturing Director</th>\n",
       "      <td>6.542056</td>\n",
       "      <td>107</td>\n",
       "    </tr>\n",
       "    <tr>\n",
       "      <th>Research Director</th>\n",
       "      <td>3.225806</td>\n",
       "      <td>62</td>\n",
       "    </tr>\n",
       "    <tr>\n",
       "      <th>Research Scientist</th>\n",
       "      <td>17.757009</td>\n",
       "      <td>214</td>\n",
       "    </tr>\n",
       "    <tr>\n",
       "      <th>Sales Executive</th>\n",
       "      <td>16.810345</td>\n",
       "      <td>232</td>\n",
       "    </tr>\n",
       "    <tr>\n",
       "      <th>Sales Representative</th>\n",
       "      <td>43.103448</td>\n",
       "      <td>58</td>\n",
       "    </tr>\n",
       "  </tbody>\n",
       "</table>\n",
       "</div>"
      ],
      "text/plain": [
       "                           Tingkat Attrition (%)  Jumlah Karyawan\n",
       "JobRole                                                          \n",
       "Healthcare Representative               9.090909               88\n",
       "Human Resources                        20.000000               30\n",
       "Laboratory Technician                  26.063830              188\n",
       "Manager                                 6.329114               79\n",
       "Manufacturing Director                  6.542056              107\n",
       "Research Director                       3.225806               62\n",
       "Research Scientist                     17.757009              214\n",
       "Sales Executive                        16.810345              232\n",
       "Sales Representative                   43.103448               58"
      ]
     },
     "metadata": {},
     "output_type": "display_data"
    },
    {
     "data": {
      "application/vnd.plotly.v1+json": {
       "config": {
        "plotlyServerURL": "https://plot.ly"
       },
       "data": [
        {
         "hovertemplate": "Job Role=%{x}<br>Tingkat Attrition (%)=%{y}<br>text=%{text}<br>color=%{marker.color}<extra></extra>",
         "legendgroup": "",
         "marker": {
          "color": {
           "bdata": "3NMIyz2NRUBNriAmVxA6QAAAAAAAADRACfROXcvBMUAs9zTCcs8wQC+66KKLLiJA5eBmvxArGkCi0pE9A1EZQM4555xzzglA",
           "dtype": "f8"
          },
          "coloraxis": "coloraxis",
          "pattern": {
           "shape": ""
          }
         },
         "name": "",
         "orientation": "v",
         "showlegend": false,
         "text": {
          "bdata": "zczMzMyMRUCamZmZmRk6QAAAAAAAADRAzczMzMzMMUDNzMzMzMwwQDMzMzMzMyJAAAAAAAAAGkAzMzMzMzMZQJqZmZmZmQlA",
          "dtype": "f8"
         },
         "textposition": "outside",
         "texttemplate": "%{text:.1f}%",
         "type": "bar",
         "x": [
          "Sales Representative",
          "Laboratory Technician",
          "Human Resources",
          "Research Scientist",
          "Sales Executive",
          "Healthcare Representative",
          "Manufacturing Director",
          "Manager",
          "Research Director"
         ],
         "xaxis": "x",
         "y": {
          "bdata": "3NMIyz2NRUBNriAmVxA6QAAAAAAAADRACfROXcvBMUAs9zTCcs8wQC+66KKLLiJA5eBmvxArGkCi0pE9A1EZQM4555xzzglA",
          "dtype": "f8"
         },
         "yaxis": "y"
        }
       ],
       "layout": {
        "barmode": "relative",
        "coloraxis": {
         "colorbar": {
          "title": {
           "text": "color"
          }
         },
         "colorscale": [
          [
           0,
           "#440154"
          ],
          [
           0.1111111111111111,
           "#482878"
          ],
          [
           0.2222222222222222,
           "#3e4989"
          ],
          [
           0.3333333333333333,
           "#31688e"
          ],
          [
           0.4444444444444444,
           "#26828e"
          ],
          [
           0.5555555555555556,
           "#1f9e89"
          ],
          [
           0.6666666666666666,
           "#35b779"
          ],
          [
           0.7777777777777778,
           "#6ece58"
          ],
          [
           0.8888888888888888,
           "#b5de2b"
          ],
          [
           1,
           "#fde725"
          ]
         ],
         "showscale": false
        },
        "legend": {
         "tracegroupgap": 0
        },
        "template": {
         "data": {
          "bar": [
           {
            "error_x": {
             "color": "#2a3f5f"
            },
            "error_y": {
             "color": "#2a3f5f"
            },
            "marker": {
             "line": {
              "color": "white",
              "width": 0.5
             },
             "pattern": {
              "fillmode": "overlay",
              "size": 10,
              "solidity": 0.2
             }
            },
            "type": "bar"
           }
          ],
          "barpolar": [
           {
            "marker": {
             "line": {
              "color": "white",
              "width": 0.5
             },
             "pattern": {
              "fillmode": "overlay",
              "size": 10,
              "solidity": 0.2
             }
            },
            "type": "barpolar"
           }
          ],
          "carpet": [
           {
            "aaxis": {
             "endlinecolor": "#2a3f5f",
             "gridcolor": "#C8D4E3",
             "linecolor": "#C8D4E3",
             "minorgridcolor": "#C8D4E3",
             "startlinecolor": "#2a3f5f"
            },
            "baxis": {
             "endlinecolor": "#2a3f5f",
             "gridcolor": "#C8D4E3",
             "linecolor": "#C8D4E3",
             "minorgridcolor": "#C8D4E3",
             "startlinecolor": "#2a3f5f"
            },
            "type": "carpet"
           }
          ],
          "choropleth": [
           {
            "colorbar": {
             "outlinewidth": 0,
             "ticks": ""
            },
            "type": "choropleth"
           }
          ],
          "contour": [
           {
            "colorbar": {
             "outlinewidth": 0,
             "ticks": ""
            },
            "colorscale": [
             [
              0,
              "#0d0887"
             ],
             [
              0.1111111111111111,
              "#46039f"
             ],
             [
              0.2222222222222222,
              "#7201a8"
             ],
             [
              0.3333333333333333,
              "#9c179e"
             ],
             [
              0.4444444444444444,
              "#bd3786"
             ],
             [
              0.5555555555555556,
              "#d8576b"
             ],
             [
              0.6666666666666666,
              "#ed7953"
             ],
             [
              0.7777777777777778,
              "#fb9f3a"
             ],
             [
              0.8888888888888888,
              "#fdca26"
             ],
             [
              1,
              "#f0f921"
             ]
            ],
            "type": "contour"
           }
          ],
          "contourcarpet": [
           {
            "colorbar": {
             "outlinewidth": 0,
             "ticks": ""
            },
            "type": "contourcarpet"
           }
          ],
          "heatmap": [
           {
            "colorbar": {
             "outlinewidth": 0,
             "ticks": ""
            },
            "colorscale": [
             [
              0,
              "#0d0887"
             ],
             [
              0.1111111111111111,
              "#46039f"
             ],
             [
              0.2222222222222222,
              "#7201a8"
             ],
             [
              0.3333333333333333,
              "#9c179e"
             ],
             [
              0.4444444444444444,
              "#bd3786"
             ],
             [
              0.5555555555555556,
              "#d8576b"
             ],
             [
              0.6666666666666666,
              "#ed7953"
             ],
             [
              0.7777777777777778,
              "#fb9f3a"
             ],
             [
              0.8888888888888888,
              "#fdca26"
             ],
             [
              1,
              "#f0f921"
             ]
            ],
            "type": "heatmap"
           }
          ],
          "histogram": [
           {
            "marker": {
             "pattern": {
              "fillmode": "overlay",
              "size": 10,
              "solidity": 0.2
             }
            },
            "type": "histogram"
           }
          ],
          "histogram2d": [
           {
            "colorbar": {
             "outlinewidth": 0,
             "ticks": ""
            },
            "colorscale": [
             [
              0,
              "#0d0887"
             ],
             [
              0.1111111111111111,
              "#46039f"
             ],
             [
              0.2222222222222222,
              "#7201a8"
             ],
             [
              0.3333333333333333,
              "#9c179e"
             ],
             [
              0.4444444444444444,
              "#bd3786"
             ],
             [
              0.5555555555555556,
              "#d8576b"
             ],
             [
              0.6666666666666666,
              "#ed7953"
             ],
             [
              0.7777777777777778,
              "#fb9f3a"
             ],
             [
              0.8888888888888888,
              "#fdca26"
             ],
             [
              1,
              "#f0f921"
             ]
            ],
            "type": "histogram2d"
           }
          ],
          "histogram2dcontour": [
           {
            "colorbar": {
             "outlinewidth": 0,
             "ticks": ""
            },
            "colorscale": [
             [
              0,
              "#0d0887"
             ],
             [
              0.1111111111111111,
              "#46039f"
             ],
             [
              0.2222222222222222,
              "#7201a8"
             ],
             [
              0.3333333333333333,
              "#9c179e"
             ],
             [
              0.4444444444444444,
              "#bd3786"
             ],
             [
              0.5555555555555556,
              "#d8576b"
             ],
             [
              0.6666666666666666,
              "#ed7953"
             ],
             [
              0.7777777777777778,
              "#fb9f3a"
             ],
             [
              0.8888888888888888,
              "#fdca26"
             ],
             [
              1,
              "#f0f921"
             ]
            ],
            "type": "histogram2dcontour"
           }
          ],
          "mesh3d": [
           {
            "colorbar": {
             "outlinewidth": 0,
             "ticks": ""
            },
            "type": "mesh3d"
           }
          ],
          "parcoords": [
           {
            "line": {
             "colorbar": {
              "outlinewidth": 0,
              "ticks": ""
             }
            },
            "type": "parcoords"
           }
          ],
          "pie": [
           {
            "automargin": true,
            "type": "pie"
           }
          ],
          "scatter": [
           {
            "fillpattern": {
             "fillmode": "overlay",
             "size": 10,
             "solidity": 0.2
            },
            "type": "scatter"
           }
          ],
          "scatter3d": [
           {
            "line": {
             "colorbar": {
              "outlinewidth": 0,
              "ticks": ""
             }
            },
            "marker": {
             "colorbar": {
              "outlinewidth": 0,
              "ticks": ""
             }
            },
            "type": "scatter3d"
           }
          ],
          "scattercarpet": [
           {
            "marker": {
             "colorbar": {
              "outlinewidth": 0,
              "ticks": ""
             }
            },
            "type": "scattercarpet"
           }
          ],
          "scattergeo": [
           {
            "marker": {
             "colorbar": {
              "outlinewidth": 0,
              "ticks": ""
             }
            },
            "type": "scattergeo"
           }
          ],
          "scattergl": [
           {
            "marker": {
             "colorbar": {
              "outlinewidth": 0,
              "ticks": ""
             }
            },
            "type": "scattergl"
           }
          ],
          "scattermap": [
           {
            "marker": {
             "colorbar": {
              "outlinewidth": 0,
              "ticks": ""
             }
            },
            "type": "scattermap"
           }
          ],
          "scattermapbox": [
           {
            "marker": {
             "colorbar": {
              "outlinewidth": 0,
              "ticks": ""
             }
            },
            "type": "scattermapbox"
           }
          ],
          "scatterpolar": [
           {
            "marker": {
             "colorbar": {
              "outlinewidth": 0,
              "ticks": ""
             }
            },
            "type": "scatterpolar"
           }
          ],
          "scatterpolargl": [
           {
            "marker": {
             "colorbar": {
              "outlinewidth": 0,
              "ticks": ""
             }
            },
            "type": "scatterpolargl"
           }
          ],
          "scatterternary": [
           {
            "marker": {
             "colorbar": {
              "outlinewidth": 0,
              "ticks": ""
             }
            },
            "type": "scatterternary"
           }
          ],
          "surface": [
           {
            "colorbar": {
             "outlinewidth": 0,
             "ticks": ""
            },
            "colorscale": [
             [
              0,
              "#0d0887"
             ],
             [
              0.1111111111111111,
              "#46039f"
             ],
             [
              0.2222222222222222,
              "#7201a8"
             ],
             [
              0.3333333333333333,
              "#9c179e"
             ],
             [
              0.4444444444444444,
              "#bd3786"
             ],
             [
              0.5555555555555556,
              "#d8576b"
             ],
             [
              0.6666666666666666,
              "#ed7953"
             ],
             [
              0.7777777777777778,
              "#fb9f3a"
             ],
             [
              0.8888888888888888,
              "#fdca26"
             ],
             [
              1,
              "#f0f921"
             ]
            ],
            "type": "surface"
           }
          ],
          "table": [
           {
            "cells": {
             "fill": {
              "color": "#EBF0F8"
             },
             "line": {
              "color": "white"
             }
            },
            "header": {
             "fill": {
              "color": "#C8D4E3"
             },
             "line": {
              "color": "white"
             }
            },
            "type": "table"
           }
          ]
         },
         "layout": {
          "annotationdefaults": {
           "arrowcolor": "#2a3f5f",
           "arrowhead": 0,
           "arrowwidth": 1
          },
          "autotypenumbers": "strict",
          "coloraxis": {
           "colorbar": {
            "outlinewidth": 0,
            "ticks": ""
           }
          },
          "colorscale": {
           "diverging": [
            [
             0,
             "#8e0152"
            ],
            [
             0.1,
             "#c51b7d"
            ],
            [
             0.2,
             "#de77ae"
            ],
            [
             0.3,
             "#f1b6da"
            ],
            [
             0.4,
             "#fde0ef"
            ],
            [
             0.5,
             "#f7f7f7"
            ],
            [
             0.6,
             "#e6f5d0"
            ],
            [
             0.7,
             "#b8e186"
            ],
            [
             0.8,
             "#7fbc41"
            ],
            [
             0.9,
             "#4d9221"
            ],
            [
             1,
             "#276419"
            ]
           ],
           "sequential": [
            [
             0,
             "#0d0887"
            ],
            [
             0.1111111111111111,
             "#46039f"
            ],
            [
             0.2222222222222222,
             "#7201a8"
            ],
            [
             0.3333333333333333,
             "#9c179e"
            ],
            [
             0.4444444444444444,
             "#bd3786"
            ],
            [
             0.5555555555555556,
             "#d8576b"
            ],
            [
             0.6666666666666666,
             "#ed7953"
            ],
            [
             0.7777777777777778,
             "#fb9f3a"
            ],
            [
             0.8888888888888888,
             "#fdca26"
            ],
            [
             1,
             "#f0f921"
            ]
           ],
           "sequentialminus": [
            [
             0,
             "#0d0887"
            ],
            [
             0.1111111111111111,
             "#46039f"
            ],
            [
             0.2222222222222222,
             "#7201a8"
            ],
            [
             0.3333333333333333,
             "#9c179e"
            ],
            [
             0.4444444444444444,
             "#bd3786"
            ],
            [
             0.5555555555555556,
             "#d8576b"
            ],
            [
             0.6666666666666666,
             "#ed7953"
            ],
            [
             0.7777777777777778,
             "#fb9f3a"
            ],
            [
             0.8888888888888888,
             "#fdca26"
            ],
            [
             1,
             "#f0f921"
            ]
           ]
          },
          "colorway": [
           "#636efa",
           "#EF553B",
           "#00cc96",
           "#ab63fa",
           "#FFA15A",
           "#19d3f3",
           "#FF6692",
           "#B6E880",
           "#FF97FF",
           "#FECB52"
          ],
          "font": {
           "color": "#2a3f5f"
          },
          "geo": {
           "bgcolor": "white",
           "lakecolor": "white",
           "landcolor": "white",
           "showlakes": true,
           "showland": true,
           "subunitcolor": "#C8D4E3"
          },
          "hoverlabel": {
           "align": "left"
          },
          "hovermode": "closest",
          "mapbox": {
           "style": "light"
          },
          "paper_bgcolor": "white",
          "plot_bgcolor": "white",
          "polar": {
           "angularaxis": {
            "gridcolor": "#EBF0F8",
            "linecolor": "#EBF0F8",
            "ticks": ""
           },
           "bgcolor": "white",
           "radialaxis": {
            "gridcolor": "#EBF0F8",
            "linecolor": "#EBF0F8",
            "ticks": ""
           }
          },
          "scene": {
           "xaxis": {
            "backgroundcolor": "white",
            "gridcolor": "#DFE8F3",
            "gridwidth": 2,
            "linecolor": "#EBF0F8",
            "showbackground": true,
            "ticks": "",
            "zerolinecolor": "#EBF0F8"
           },
           "yaxis": {
            "backgroundcolor": "white",
            "gridcolor": "#DFE8F3",
            "gridwidth": 2,
            "linecolor": "#EBF0F8",
            "showbackground": true,
            "ticks": "",
            "zerolinecolor": "#EBF0F8"
           },
           "zaxis": {
            "backgroundcolor": "white",
            "gridcolor": "#DFE8F3",
            "gridwidth": 2,
            "linecolor": "#EBF0F8",
            "showbackground": true,
            "ticks": "",
            "zerolinecolor": "#EBF0F8"
           }
          },
          "shapedefaults": {
           "line": {
            "color": "#2a3f5f"
           }
          },
          "ternary": {
           "aaxis": {
            "gridcolor": "#DFE8F3",
            "linecolor": "#A2B1C6",
            "ticks": ""
           },
           "baxis": {
            "gridcolor": "#DFE8F3",
            "linecolor": "#A2B1C6",
            "ticks": ""
           },
           "bgcolor": "white",
           "caxis": {
            "gridcolor": "#DFE8F3",
            "linecolor": "#A2B1C6",
            "ticks": ""
           }
          },
          "title": {
           "x": 0.05
          },
          "xaxis": {
           "automargin": true,
           "gridcolor": "#EBF0F8",
           "linecolor": "#EBF0F8",
           "ticks": "",
           "title": {
            "standoff": 15
           },
           "zerolinecolor": "#EBF0F8",
           "zerolinewidth": 2
          },
          "yaxis": {
           "automargin": true,
           "gridcolor": "#EBF0F8",
           "linecolor": "#EBF0F8",
           "ticks": "",
           "title": {
            "standoff": 15
           },
           "zerolinecolor": "#EBF0F8",
           "zerolinewidth": 2
          }
         }
        },
        "title": {
         "text": "Tingkat Attrition (%) Berdasarkan Job Role"
        },
        "xaxis": {
         "anchor": "y",
         "domain": [
          0,
          1
         ],
         "tickangle": -45,
         "title": {
          "text": "Job Role"
         }
        },
        "yaxis": {
         "anchor": "x",
         "domain": [
          0,
          1
         ],
         "title": {
          "text": "Tingkat Attrition (%)"
         }
        }
       }
      }
     },
     "metadata": {},
     "output_type": "display_data"
    }
   ],
   "source": [
    "jobrole_attrition = df.groupby('JobRole')['Attrition'].mean().sort_values(ascending=False) * 100\n",
    "jobrole_counts = df.groupby('JobRole').size()\n",
    "\n",
    "jobrole_df = pd.DataFrame({\n",
    "    'Tingkat Attrition (%)': jobrole_attrition,\n",
    "    'Jumlah Karyawan': jobrole_counts\n",
    "})\n",
    "\n",
    "display(jobrole_df)\n",
    "\n",
    "fig = px.bar(\n",
    "    x=jobrole_attrition.index,\n",
    "    y=jobrole_attrition.values,\n",
    "    color=jobrole_attrition.values,\n",
    "    text=jobrole_attrition.values.round(1),\n",
    "    title='Tingkat Attrition (%) Berdasarkan Job Role',\n",
    "    labels={'x': 'Job Role', 'y': 'Tingkat Attrition (%)'},\n",
    "    color_continuous_scale='Viridis'\n",
    ")\n",
    "fig.update_traces(texttemplate='%{text:.1f}%', textposition='outside')\n",
    "fig.update_layout(\n",
    "    coloraxis_showscale=False,\n",
    "    xaxis_tickangle=-45,\n",
    "    template='plotly_white'\n",
    ")\n",
    "fig.show()\n",
    "\n",
    "fig.write_image(\"./visualisasi/tingkat_attrition_job_role.jpg\", scale=2)"
   ]
  },
  {
   "cell_type": "markdown",
   "id": "7f3918b1",
   "metadata": {},
   "source": [
    "### Attrition by Overtime"
   ]
  },
  {
   "cell_type": "code",
   "execution_count": 74,
   "id": "871f2ee4",
   "metadata": {},
   "outputs": [
    {
     "data": {
      "application/vnd.microsoft.datawrangler.viewer.v0+json": {
       "columns": [
        {
         "name": "OverTime",
         "rawType": "object",
         "type": "string"
        },
        {
         "name": "Jumlah Karyawan",
         "rawType": "int64",
         "type": "integer"
        },
        {
         "name": "Tingkat Attrition (%)",
         "rawType": "float64",
         "type": "float"
        }
       ],
       "conversionMethod": "pd.DataFrame",
       "ref": "4cc288f5-40c0-4d0f-8f01-29c787958e23",
       "rows": [
        [
         "No",
         "751",
         "10.785619174434089"
        ],
        [
         "Yes",
         "307",
         "31.921824104234524"
        ]
       ],
       "shape": {
        "columns": 2,
        "rows": 2
       }
      },
      "text/html": [
       "<div>\n",
       "<style scoped>\n",
       "    .dataframe tbody tr th:only-of-type {\n",
       "        vertical-align: middle;\n",
       "    }\n",
       "\n",
       "    .dataframe tbody tr th {\n",
       "        vertical-align: top;\n",
       "    }\n",
       "\n",
       "    .dataframe thead th {\n",
       "        text-align: right;\n",
       "    }\n",
       "</style>\n",
       "<table border=\"1\" class=\"dataframe\">\n",
       "  <thead>\n",
       "    <tr style=\"text-align: right;\">\n",
       "      <th></th>\n",
       "      <th>Jumlah Karyawan</th>\n",
       "      <th>Tingkat Attrition (%)</th>\n",
       "    </tr>\n",
       "    <tr>\n",
       "      <th>OverTime</th>\n",
       "      <th></th>\n",
       "      <th></th>\n",
       "    </tr>\n",
       "  </thead>\n",
       "  <tbody>\n",
       "    <tr>\n",
       "      <th>No</th>\n",
       "      <td>751</td>\n",
       "      <td>10.785619</td>\n",
       "    </tr>\n",
       "    <tr>\n",
       "      <th>Yes</th>\n",
       "      <td>307</td>\n",
       "      <td>31.921824</td>\n",
       "    </tr>\n",
       "  </tbody>\n",
       "</table>\n",
       "</div>"
      ],
      "text/plain": [
       "          Jumlah Karyawan  Tingkat Attrition (%)\n",
       "OverTime                                        \n",
       "No                    751              10.785619\n",
       "Yes                   307              31.921824"
      ]
     },
     "metadata": {},
     "output_type": "display_data"
    },
    {
     "data": {
      "application/vnd.plotly.v1+json": {
       "config": {
        "plotlyServerURL": "https://plot.ly"
       },
       "data": [
        {
         "hovertemplate": "Overtime=%{x}<br>Tingkat Attrition (%)=%{y}<br>text=%{text}<br>color=%{marker.color}<extra></extra>",
         "legendgroup": "",
         "marker": {
          "color": {
           "bdata": "IJwqrTySJUAOWhyq/Os/QA==",
           "dtype": "f8"
          },
          "coloraxis": "coloraxis",
          "pattern": {
           "shape": ""
          }
         },
         "name": "",
         "orientation": "v",
         "showlegend": false,
         "text": {
          "bdata": "mpmZmZmZJUBmZmZmZuY/QA==",
          "dtype": "f8"
         },
         "textposition": "outside",
         "texttemplate": "%{text:.1f}%",
         "type": "bar",
         "x": [
          "No",
          "Yes"
         ],
         "xaxis": "x",
         "y": {
          "bdata": "IJwqrTySJUAOWhyq/Os/QA==",
          "dtype": "f8"
         },
         "yaxis": "y"
        }
       ],
       "layout": {
        "barmode": "relative",
        "coloraxis": {
         "colorbar": {
          "title": {
           "text": "color"
          }
         },
         "colorscale": [
          [
           0,
           "rgb(255,245,240)"
          ],
          [
           0.125,
           "rgb(254,224,210)"
          ],
          [
           0.25,
           "rgb(252,187,161)"
          ],
          [
           0.375,
           "rgb(252,146,114)"
          ],
          [
           0.5,
           "rgb(251,106,74)"
          ],
          [
           0.625,
           "rgb(239,59,44)"
          ],
          [
           0.75,
           "rgb(203,24,29)"
          ],
          [
           0.875,
           "rgb(165,15,21)"
          ],
          [
           1,
           "rgb(103,0,13)"
          ]
         ],
         "showscale": false
        },
        "legend": {
         "tracegroupgap": 0
        },
        "template": {
         "data": {
          "bar": [
           {
            "error_x": {
             "color": "#2a3f5f"
            },
            "error_y": {
             "color": "#2a3f5f"
            },
            "marker": {
             "line": {
              "color": "white",
              "width": 0.5
             },
             "pattern": {
              "fillmode": "overlay",
              "size": 10,
              "solidity": 0.2
             }
            },
            "type": "bar"
           }
          ],
          "barpolar": [
           {
            "marker": {
             "line": {
              "color": "white",
              "width": 0.5
             },
             "pattern": {
              "fillmode": "overlay",
              "size": 10,
              "solidity": 0.2
             }
            },
            "type": "barpolar"
           }
          ],
          "carpet": [
           {
            "aaxis": {
             "endlinecolor": "#2a3f5f",
             "gridcolor": "#C8D4E3",
             "linecolor": "#C8D4E3",
             "minorgridcolor": "#C8D4E3",
             "startlinecolor": "#2a3f5f"
            },
            "baxis": {
             "endlinecolor": "#2a3f5f",
             "gridcolor": "#C8D4E3",
             "linecolor": "#C8D4E3",
             "minorgridcolor": "#C8D4E3",
             "startlinecolor": "#2a3f5f"
            },
            "type": "carpet"
           }
          ],
          "choropleth": [
           {
            "colorbar": {
             "outlinewidth": 0,
             "ticks": ""
            },
            "type": "choropleth"
           }
          ],
          "contour": [
           {
            "colorbar": {
             "outlinewidth": 0,
             "ticks": ""
            },
            "colorscale": [
             [
              0,
              "#0d0887"
             ],
             [
              0.1111111111111111,
              "#46039f"
             ],
             [
              0.2222222222222222,
              "#7201a8"
             ],
             [
              0.3333333333333333,
              "#9c179e"
             ],
             [
              0.4444444444444444,
              "#bd3786"
             ],
             [
              0.5555555555555556,
              "#d8576b"
             ],
             [
              0.6666666666666666,
              "#ed7953"
             ],
             [
              0.7777777777777778,
              "#fb9f3a"
             ],
             [
              0.8888888888888888,
              "#fdca26"
             ],
             [
              1,
              "#f0f921"
             ]
            ],
            "type": "contour"
           }
          ],
          "contourcarpet": [
           {
            "colorbar": {
             "outlinewidth": 0,
             "ticks": ""
            },
            "type": "contourcarpet"
           }
          ],
          "heatmap": [
           {
            "colorbar": {
             "outlinewidth": 0,
             "ticks": ""
            },
            "colorscale": [
             [
              0,
              "#0d0887"
             ],
             [
              0.1111111111111111,
              "#46039f"
             ],
             [
              0.2222222222222222,
              "#7201a8"
             ],
             [
              0.3333333333333333,
              "#9c179e"
             ],
             [
              0.4444444444444444,
              "#bd3786"
             ],
             [
              0.5555555555555556,
              "#d8576b"
             ],
             [
              0.6666666666666666,
              "#ed7953"
             ],
             [
              0.7777777777777778,
              "#fb9f3a"
             ],
             [
              0.8888888888888888,
              "#fdca26"
             ],
             [
              1,
              "#f0f921"
             ]
            ],
            "type": "heatmap"
           }
          ],
          "histogram": [
           {
            "marker": {
             "pattern": {
              "fillmode": "overlay",
              "size": 10,
              "solidity": 0.2
             }
            },
            "type": "histogram"
           }
          ],
          "histogram2d": [
           {
            "colorbar": {
             "outlinewidth": 0,
             "ticks": ""
            },
            "colorscale": [
             [
              0,
              "#0d0887"
             ],
             [
              0.1111111111111111,
              "#46039f"
             ],
             [
              0.2222222222222222,
              "#7201a8"
             ],
             [
              0.3333333333333333,
              "#9c179e"
             ],
             [
              0.4444444444444444,
              "#bd3786"
             ],
             [
              0.5555555555555556,
              "#d8576b"
             ],
             [
              0.6666666666666666,
              "#ed7953"
             ],
             [
              0.7777777777777778,
              "#fb9f3a"
             ],
             [
              0.8888888888888888,
              "#fdca26"
             ],
             [
              1,
              "#f0f921"
             ]
            ],
            "type": "histogram2d"
           }
          ],
          "histogram2dcontour": [
           {
            "colorbar": {
             "outlinewidth": 0,
             "ticks": ""
            },
            "colorscale": [
             [
              0,
              "#0d0887"
             ],
             [
              0.1111111111111111,
              "#46039f"
             ],
             [
              0.2222222222222222,
              "#7201a8"
             ],
             [
              0.3333333333333333,
              "#9c179e"
             ],
             [
              0.4444444444444444,
              "#bd3786"
             ],
             [
              0.5555555555555556,
              "#d8576b"
             ],
             [
              0.6666666666666666,
              "#ed7953"
             ],
             [
              0.7777777777777778,
              "#fb9f3a"
             ],
             [
              0.8888888888888888,
              "#fdca26"
             ],
             [
              1,
              "#f0f921"
             ]
            ],
            "type": "histogram2dcontour"
           }
          ],
          "mesh3d": [
           {
            "colorbar": {
             "outlinewidth": 0,
             "ticks": ""
            },
            "type": "mesh3d"
           }
          ],
          "parcoords": [
           {
            "line": {
             "colorbar": {
              "outlinewidth": 0,
              "ticks": ""
             }
            },
            "type": "parcoords"
           }
          ],
          "pie": [
           {
            "automargin": true,
            "type": "pie"
           }
          ],
          "scatter": [
           {
            "fillpattern": {
             "fillmode": "overlay",
             "size": 10,
             "solidity": 0.2
            },
            "type": "scatter"
           }
          ],
          "scatter3d": [
           {
            "line": {
             "colorbar": {
              "outlinewidth": 0,
              "ticks": ""
             }
            },
            "marker": {
             "colorbar": {
              "outlinewidth": 0,
              "ticks": ""
             }
            },
            "type": "scatter3d"
           }
          ],
          "scattercarpet": [
           {
            "marker": {
             "colorbar": {
              "outlinewidth": 0,
              "ticks": ""
             }
            },
            "type": "scattercarpet"
           }
          ],
          "scattergeo": [
           {
            "marker": {
             "colorbar": {
              "outlinewidth": 0,
              "ticks": ""
             }
            },
            "type": "scattergeo"
           }
          ],
          "scattergl": [
           {
            "marker": {
             "colorbar": {
              "outlinewidth": 0,
              "ticks": ""
             }
            },
            "type": "scattergl"
           }
          ],
          "scattermap": [
           {
            "marker": {
             "colorbar": {
              "outlinewidth": 0,
              "ticks": ""
             }
            },
            "type": "scattermap"
           }
          ],
          "scattermapbox": [
           {
            "marker": {
             "colorbar": {
              "outlinewidth": 0,
              "ticks": ""
             }
            },
            "type": "scattermapbox"
           }
          ],
          "scatterpolar": [
           {
            "marker": {
             "colorbar": {
              "outlinewidth": 0,
              "ticks": ""
             }
            },
            "type": "scatterpolar"
           }
          ],
          "scatterpolargl": [
           {
            "marker": {
             "colorbar": {
              "outlinewidth": 0,
              "ticks": ""
             }
            },
            "type": "scatterpolargl"
           }
          ],
          "scatterternary": [
           {
            "marker": {
             "colorbar": {
              "outlinewidth": 0,
              "ticks": ""
             }
            },
            "type": "scatterternary"
           }
          ],
          "surface": [
           {
            "colorbar": {
             "outlinewidth": 0,
             "ticks": ""
            },
            "colorscale": [
             [
              0,
              "#0d0887"
             ],
             [
              0.1111111111111111,
              "#46039f"
             ],
             [
              0.2222222222222222,
              "#7201a8"
             ],
             [
              0.3333333333333333,
              "#9c179e"
             ],
             [
              0.4444444444444444,
              "#bd3786"
             ],
             [
              0.5555555555555556,
              "#d8576b"
             ],
             [
              0.6666666666666666,
              "#ed7953"
             ],
             [
              0.7777777777777778,
              "#fb9f3a"
             ],
             [
              0.8888888888888888,
              "#fdca26"
             ],
             [
              1,
              "#f0f921"
             ]
            ],
            "type": "surface"
           }
          ],
          "table": [
           {
            "cells": {
             "fill": {
              "color": "#EBF0F8"
             },
             "line": {
              "color": "white"
             }
            },
            "header": {
             "fill": {
              "color": "#C8D4E3"
             },
             "line": {
              "color": "white"
             }
            },
            "type": "table"
           }
          ]
         },
         "layout": {
          "annotationdefaults": {
           "arrowcolor": "#2a3f5f",
           "arrowhead": 0,
           "arrowwidth": 1
          },
          "autotypenumbers": "strict",
          "coloraxis": {
           "colorbar": {
            "outlinewidth": 0,
            "ticks": ""
           }
          },
          "colorscale": {
           "diverging": [
            [
             0,
             "#8e0152"
            ],
            [
             0.1,
             "#c51b7d"
            ],
            [
             0.2,
             "#de77ae"
            ],
            [
             0.3,
             "#f1b6da"
            ],
            [
             0.4,
             "#fde0ef"
            ],
            [
             0.5,
             "#f7f7f7"
            ],
            [
             0.6,
             "#e6f5d0"
            ],
            [
             0.7,
             "#b8e186"
            ],
            [
             0.8,
             "#7fbc41"
            ],
            [
             0.9,
             "#4d9221"
            ],
            [
             1,
             "#276419"
            ]
           ],
           "sequential": [
            [
             0,
             "#0d0887"
            ],
            [
             0.1111111111111111,
             "#46039f"
            ],
            [
             0.2222222222222222,
             "#7201a8"
            ],
            [
             0.3333333333333333,
             "#9c179e"
            ],
            [
             0.4444444444444444,
             "#bd3786"
            ],
            [
             0.5555555555555556,
             "#d8576b"
            ],
            [
             0.6666666666666666,
             "#ed7953"
            ],
            [
             0.7777777777777778,
             "#fb9f3a"
            ],
            [
             0.8888888888888888,
             "#fdca26"
            ],
            [
             1,
             "#f0f921"
            ]
           ],
           "sequentialminus": [
            [
             0,
             "#0d0887"
            ],
            [
             0.1111111111111111,
             "#46039f"
            ],
            [
             0.2222222222222222,
             "#7201a8"
            ],
            [
             0.3333333333333333,
             "#9c179e"
            ],
            [
             0.4444444444444444,
             "#bd3786"
            ],
            [
             0.5555555555555556,
             "#d8576b"
            ],
            [
             0.6666666666666666,
             "#ed7953"
            ],
            [
             0.7777777777777778,
             "#fb9f3a"
            ],
            [
             0.8888888888888888,
             "#fdca26"
            ],
            [
             1,
             "#f0f921"
            ]
           ]
          },
          "colorway": [
           "#636efa",
           "#EF553B",
           "#00cc96",
           "#ab63fa",
           "#FFA15A",
           "#19d3f3",
           "#FF6692",
           "#B6E880",
           "#FF97FF",
           "#FECB52"
          ],
          "font": {
           "color": "#2a3f5f"
          },
          "geo": {
           "bgcolor": "white",
           "lakecolor": "white",
           "landcolor": "white",
           "showlakes": true,
           "showland": true,
           "subunitcolor": "#C8D4E3"
          },
          "hoverlabel": {
           "align": "left"
          },
          "hovermode": "closest",
          "mapbox": {
           "style": "light"
          },
          "paper_bgcolor": "white",
          "plot_bgcolor": "white",
          "polar": {
           "angularaxis": {
            "gridcolor": "#EBF0F8",
            "linecolor": "#EBF0F8",
            "ticks": ""
           },
           "bgcolor": "white",
           "radialaxis": {
            "gridcolor": "#EBF0F8",
            "linecolor": "#EBF0F8",
            "ticks": ""
           }
          },
          "scene": {
           "xaxis": {
            "backgroundcolor": "white",
            "gridcolor": "#DFE8F3",
            "gridwidth": 2,
            "linecolor": "#EBF0F8",
            "showbackground": true,
            "ticks": "",
            "zerolinecolor": "#EBF0F8"
           },
           "yaxis": {
            "backgroundcolor": "white",
            "gridcolor": "#DFE8F3",
            "gridwidth": 2,
            "linecolor": "#EBF0F8",
            "showbackground": true,
            "ticks": "",
            "zerolinecolor": "#EBF0F8"
           },
           "zaxis": {
            "backgroundcolor": "white",
            "gridcolor": "#DFE8F3",
            "gridwidth": 2,
            "linecolor": "#EBF0F8",
            "showbackground": true,
            "ticks": "",
            "zerolinecolor": "#EBF0F8"
           }
          },
          "shapedefaults": {
           "line": {
            "color": "#2a3f5f"
           }
          },
          "ternary": {
           "aaxis": {
            "gridcolor": "#DFE8F3",
            "linecolor": "#A2B1C6",
            "ticks": ""
           },
           "baxis": {
            "gridcolor": "#DFE8F3",
            "linecolor": "#A2B1C6",
            "ticks": ""
           },
           "bgcolor": "white",
           "caxis": {
            "gridcolor": "#DFE8F3",
            "linecolor": "#A2B1C6",
            "ticks": ""
           }
          },
          "title": {
           "x": 0.05
          },
          "xaxis": {
           "automargin": true,
           "gridcolor": "#EBF0F8",
           "linecolor": "#EBF0F8",
           "ticks": "",
           "title": {
            "standoff": 15
           },
           "zerolinecolor": "#EBF0F8",
           "zerolinewidth": 2
          },
          "yaxis": {
           "automargin": true,
           "gridcolor": "#EBF0F8",
           "linecolor": "#EBF0F8",
           "ticks": "",
           "title": {
            "standoff": 15
           },
           "zerolinecolor": "#EBF0F8",
           "zerolinewidth": 2
          }
         }
        },
        "title": {
         "text": "Tingkat Attrition (%) Berdasarkan Status Overtime"
        },
        "xaxis": {
         "anchor": "y",
         "domain": [
          0,
          1
         ],
         "title": {
          "text": "Overtime"
         }
        },
        "yaxis": {
         "anchor": "x",
         "domain": [
          0,
          1
         ],
         "title": {
          "text": "Tingkat Attrition (%)"
         }
        }
       }
      }
     },
     "metadata": {},
     "output_type": "display_data"
    }
   ],
   "source": [
    "overtime_attrition = df.groupby('OverTime')['Attrition'].mean() * 100\n",
    "overtime_counts = df.groupby('OverTime').size()\n",
    "\n",
    "overtime_df = pd.DataFrame({\n",
    "    'Jumlah Karyawan': overtime_counts,\n",
    "    'Tingkat Attrition (%)': overtime_attrition\n",
    "})\n",
    "\n",
    "display(overtime_df)\n",
    "\n",
    "fig = px.bar(\n",
    "    x=overtime_attrition.index,\n",
    "    y=overtime_attrition.values,\n",
    "    color=overtime_attrition.values,\n",
    "    text=overtime_attrition.values.round(1),\n",
    "    title='Tingkat Attrition (%) Berdasarkan Status Overtime',\n",
    "    labels={'x': 'Overtime', 'y': 'Tingkat Attrition (%)'},\n",
    "    color_continuous_scale='Reds'\n",
    ")\n",
    "fig.update_traces(texttemplate='%{text:.1f}%', textposition='outside')\n",
    "fig.update_layout(coloraxis_showscale=False, template='plotly_white')\n",
    "fig.show()\n",
    "\n",
    "fig.write_image(\"./visualisasi/tingkat_attrition_overtime.jpg\", scale=2)"
   ]
  },
  {
   "cell_type": "markdown",
   "id": "ec9a7f58",
   "metadata": {},
   "source": [
    "### Attrition by Salary Category"
   ]
  },
  {
   "cell_type": "code",
   "execution_count": 75,
   "id": "c45459ec",
   "metadata": {},
   "outputs": [
    {
     "data": {
      "application/vnd.microsoft.datawrangler.viewer.v0+json": {
       "columns": [
        {
         "name": "SalaryCategory",
         "rawType": "object",
         "type": "string"
        },
        {
         "name": "Jumlah Karyawan",
         "rawType": "int64",
         "type": "integer"
        },
        {
         "name": "Tingkat Attrition (%)",
         "rawType": "float64",
         "type": "float"
        }
       ],
       "conversionMethod": "pd.DataFrame",
       "ref": "e12d3d40-3ba1-4153-887c-50211ccdf5b9",
       "rows": [
        [
         "Rendah (< 5000)",
         "542",
         "22.878228782287824"
        ],
        [
         "Sedang (5000-10000)",
         "297",
         "11.784511784511785"
        ],
        [
         "Tinggi (10000-15000)",
         "117",
         "12.82051282051282"
        ],
        [
         "Sangat Tinggi (>15000)",
         "102",
         "4.901960784313726"
        ]
       ],
       "shape": {
        "columns": 2,
        "rows": 4
       }
      },
      "text/html": [
       "<div>\n",
       "<style scoped>\n",
       "    .dataframe tbody tr th:only-of-type {\n",
       "        vertical-align: middle;\n",
       "    }\n",
       "\n",
       "    .dataframe tbody tr th {\n",
       "        vertical-align: top;\n",
       "    }\n",
       "\n",
       "    .dataframe thead th {\n",
       "        text-align: right;\n",
       "    }\n",
       "</style>\n",
       "<table border=\"1\" class=\"dataframe\">\n",
       "  <thead>\n",
       "    <tr style=\"text-align: right;\">\n",
       "      <th></th>\n",
       "      <th>Jumlah Karyawan</th>\n",
       "      <th>Tingkat Attrition (%)</th>\n",
       "    </tr>\n",
       "    <tr>\n",
       "      <th>SalaryCategory</th>\n",
       "      <th></th>\n",
       "      <th></th>\n",
       "    </tr>\n",
       "  </thead>\n",
       "  <tbody>\n",
       "    <tr>\n",
       "      <th>Rendah (&lt; 5000)</th>\n",
       "      <td>542</td>\n",
       "      <td>22.878229</td>\n",
       "    </tr>\n",
       "    <tr>\n",
       "      <th>Sedang (5000-10000)</th>\n",
       "      <td>297</td>\n",
       "      <td>11.784512</td>\n",
       "    </tr>\n",
       "    <tr>\n",
       "      <th>Tinggi (10000-15000)</th>\n",
       "      <td>117</td>\n",
       "      <td>12.820513</td>\n",
       "    </tr>\n",
       "    <tr>\n",
       "      <th>Sangat Tinggi (&gt;15000)</th>\n",
       "      <td>102</td>\n",
       "      <td>4.901961</td>\n",
       "    </tr>\n",
       "  </tbody>\n",
       "</table>\n",
       "</div>"
      ],
      "text/plain": [
       "                        Jumlah Karyawan  Tingkat Attrition (%)\n",
       "SalaryCategory                                                \n",
       "Rendah (< 5000)                     542              22.878229\n",
       "Sedang (5000-10000)                 297              11.784512\n",
       "Tinggi (10000-15000)                117              12.820513\n",
       "Sangat Tinggi (>15000)              102               4.901961"
      ]
     },
     "metadata": {},
     "output_type": "display_data"
    },
    {
     "data": {
      "application/vnd.plotly.v1+json": {
       "config": {
        "plotlyServerURL": "https://plot.ly"
       },
       "data": [
        {
         "hovertemplate": "Kategori Gaji=%{x}<br>Tingkat Attrition (%)=%{y}<br>text=%{text}<br>color=%{marker.color}<extra></extra>",
         "legendgroup": "",
         "marker": {
          "color": {
           "bdata": "BVX6mdPgNkAEnFOHq5EnQEEapEEapClAnJubm5ubE0A=",
           "dtype": "f8"
          },
          "coloraxis": "coloraxis",
          "pattern": {
           "shape": ""
          }
         },
         "name": "",
         "orientation": "v",
         "showlegend": false,
         "text": {
          "bdata": "ZmZmZmbmNkCamZmZmZknQJqZmZmZmSlAmpmZmZmZE0A=",
          "dtype": "f8"
         },
         "textposition": "outside",
         "texttemplate": "%{text:.1f}%",
         "type": "bar",
         "x": [
          "Rendah (< 5000)",
          "Sedang (5000-10000)",
          "Tinggi (10000-15000)",
          "Sangat Tinggi (>15000)"
         ],
         "xaxis": "x",
         "y": {
          "bdata": "BVX6mdPgNkAEnFOHq5EnQEEapEEapClAnJubm5ubE0A=",
          "dtype": "f8"
         },
         "yaxis": "y"
        }
       ],
       "layout": {
        "barmode": "relative",
        "coloraxis": {
         "colorbar": {
          "title": {
           "text": "color"
          }
         },
         "colorscale": [
          [
           0,
           "rgb(0,68,27)"
          ],
          [
           0.125,
           "rgb(0,109,44)"
          ],
          [
           0.25,
           "rgb(35,139,69)"
          ],
          [
           0.375,
           "rgb(65,171,93)"
          ],
          [
           0.5,
           "rgb(116,196,118)"
          ],
          [
           0.625,
           "rgb(161,217,155)"
          ],
          [
           0.75,
           "rgb(199,233,192)"
          ],
          [
           0.875,
           "rgb(229,245,224)"
          ],
          [
           1,
           "rgb(247,252,245)"
          ]
         ],
         "showscale": false
        },
        "legend": {
         "tracegroupgap": 0
        },
        "template": {
         "data": {
          "bar": [
           {
            "error_x": {
             "color": "#2a3f5f"
            },
            "error_y": {
             "color": "#2a3f5f"
            },
            "marker": {
             "line": {
              "color": "white",
              "width": 0.5
             },
             "pattern": {
              "fillmode": "overlay",
              "size": 10,
              "solidity": 0.2
             }
            },
            "type": "bar"
           }
          ],
          "barpolar": [
           {
            "marker": {
             "line": {
              "color": "white",
              "width": 0.5
             },
             "pattern": {
              "fillmode": "overlay",
              "size": 10,
              "solidity": 0.2
             }
            },
            "type": "barpolar"
           }
          ],
          "carpet": [
           {
            "aaxis": {
             "endlinecolor": "#2a3f5f",
             "gridcolor": "#C8D4E3",
             "linecolor": "#C8D4E3",
             "minorgridcolor": "#C8D4E3",
             "startlinecolor": "#2a3f5f"
            },
            "baxis": {
             "endlinecolor": "#2a3f5f",
             "gridcolor": "#C8D4E3",
             "linecolor": "#C8D4E3",
             "minorgridcolor": "#C8D4E3",
             "startlinecolor": "#2a3f5f"
            },
            "type": "carpet"
           }
          ],
          "choropleth": [
           {
            "colorbar": {
             "outlinewidth": 0,
             "ticks": ""
            },
            "type": "choropleth"
           }
          ],
          "contour": [
           {
            "colorbar": {
             "outlinewidth": 0,
             "ticks": ""
            },
            "colorscale": [
             [
              0,
              "#0d0887"
             ],
             [
              0.1111111111111111,
              "#46039f"
             ],
             [
              0.2222222222222222,
              "#7201a8"
             ],
             [
              0.3333333333333333,
              "#9c179e"
             ],
             [
              0.4444444444444444,
              "#bd3786"
             ],
             [
              0.5555555555555556,
              "#d8576b"
             ],
             [
              0.6666666666666666,
              "#ed7953"
             ],
             [
              0.7777777777777778,
              "#fb9f3a"
             ],
             [
              0.8888888888888888,
              "#fdca26"
             ],
             [
              1,
              "#f0f921"
             ]
            ],
            "type": "contour"
           }
          ],
          "contourcarpet": [
           {
            "colorbar": {
             "outlinewidth": 0,
             "ticks": ""
            },
            "type": "contourcarpet"
           }
          ],
          "heatmap": [
           {
            "colorbar": {
             "outlinewidth": 0,
             "ticks": ""
            },
            "colorscale": [
             [
              0,
              "#0d0887"
             ],
             [
              0.1111111111111111,
              "#46039f"
             ],
             [
              0.2222222222222222,
              "#7201a8"
             ],
             [
              0.3333333333333333,
              "#9c179e"
             ],
             [
              0.4444444444444444,
              "#bd3786"
             ],
             [
              0.5555555555555556,
              "#d8576b"
             ],
             [
              0.6666666666666666,
              "#ed7953"
             ],
             [
              0.7777777777777778,
              "#fb9f3a"
             ],
             [
              0.8888888888888888,
              "#fdca26"
             ],
             [
              1,
              "#f0f921"
             ]
            ],
            "type": "heatmap"
           }
          ],
          "histogram": [
           {
            "marker": {
             "pattern": {
              "fillmode": "overlay",
              "size": 10,
              "solidity": 0.2
             }
            },
            "type": "histogram"
           }
          ],
          "histogram2d": [
           {
            "colorbar": {
             "outlinewidth": 0,
             "ticks": ""
            },
            "colorscale": [
             [
              0,
              "#0d0887"
             ],
             [
              0.1111111111111111,
              "#46039f"
             ],
             [
              0.2222222222222222,
              "#7201a8"
             ],
             [
              0.3333333333333333,
              "#9c179e"
             ],
             [
              0.4444444444444444,
              "#bd3786"
             ],
             [
              0.5555555555555556,
              "#d8576b"
             ],
             [
              0.6666666666666666,
              "#ed7953"
             ],
             [
              0.7777777777777778,
              "#fb9f3a"
             ],
             [
              0.8888888888888888,
              "#fdca26"
             ],
             [
              1,
              "#f0f921"
             ]
            ],
            "type": "histogram2d"
           }
          ],
          "histogram2dcontour": [
           {
            "colorbar": {
             "outlinewidth": 0,
             "ticks": ""
            },
            "colorscale": [
             [
              0,
              "#0d0887"
             ],
             [
              0.1111111111111111,
              "#46039f"
             ],
             [
              0.2222222222222222,
              "#7201a8"
             ],
             [
              0.3333333333333333,
              "#9c179e"
             ],
             [
              0.4444444444444444,
              "#bd3786"
             ],
             [
              0.5555555555555556,
              "#d8576b"
             ],
             [
              0.6666666666666666,
              "#ed7953"
             ],
             [
              0.7777777777777778,
              "#fb9f3a"
             ],
             [
              0.8888888888888888,
              "#fdca26"
             ],
             [
              1,
              "#f0f921"
             ]
            ],
            "type": "histogram2dcontour"
           }
          ],
          "mesh3d": [
           {
            "colorbar": {
             "outlinewidth": 0,
             "ticks": ""
            },
            "type": "mesh3d"
           }
          ],
          "parcoords": [
           {
            "line": {
             "colorbar": {
              "outlinewidth": 0,
              "ticks": ""
             }
            },
            "type": "parcoords"
           }
          ],
          "pie": [
           {
            "automargin": true,
            "type": "pie"
           }
          ],
          "scatter": [
           {
            "fillpattern": {
             "fillmode": "overlay",
             "size": 10,
             "solidity": 0.2
            },
            "type": "scatter"
           }
          ],
          "scatter3d": [
           {
            "line": {
             "colorbar": {
              "outlinewidth": 0,
              "ticks": ""
             }
            },
            "marker": {
             "colorbar": {
              "outlinewidth": 0,
              "ticks": ""
             }
            },
            "type": "scatter3d"
           }
          ],
          "scattercarpet": [
           {
            "marker": {
             "colorbar": {
              "outlinewidth": 0,
              "ticks": ""
             }
            },
            "type": "scattercarpet"
           }
          ],
          "scattergeo": [
           {
            "marker": {
             "colorbar": {
              "outlinewidth": 0,
              "ticks": ""
             }
            },
            "type": "scattergeo"
           }
          ],
          "scattergl": [
           {
            "marker": {
             "colorbar": {
              "outlinewidth": 0,
              "ticks": ""
             }
            },
            "type": "scattergl"
           }
          ],
          "scattermap": [
           {
            "marker": {
             "colorbar": {
              "outlinewidth": 0,
              "ticks": ""
             }
            },
            "type": "scattermap"
           }
          ],
          "scattermapbox": [
           {
            "marker": {
             "colorbar": {
              "outlinewidth": 0,
              "ticks": ""
             }
            },
            "type": "scattermapbox"
           }
          ],
          "scatterpolar": [
           {
            "marker": {
             "colorbar": {
              "outlinewidth": 0,
              "ticks": ""
             }
            },
            "type": "scatterpolar"
           }
          ],
          "scatterpolargl": [
           {
            "marker": {
             "colorbar": {
              "outlinewidth": 0,
              "ticks": ""
             }
            },
            "type": "scatterpolargl"
           }
          ],
          "scatterternary": [
           {
            "marker": {
             "colorbar": {
              "outlinewidth": 0,
              "ticks": ""
             }
            },
            "type": "scatterternary"
           }
          ],
          "surface": [
           {
            "colorbar": {
             "outlinewidth": 0,
             "ticks": ""
            },
            "colorscale": [
             [
              0,
              "#0d0887"
             ],
             [
              0.1111111111111111,
              "#46039f"
             ],
             [
              0.2222222222222222,
              "#7201a8"
             ],
             [
              0.3333333333333333,
              "#9c179e"
             ],
             [
              0.4444444444444444,
              "#bd3786"
             ],
             [
              0.5555555555555556,
              "#d8576b"
             ],
             [
              0.6666666666666666,
              "#ed7953"
             ],
             [
              0.7777777777777778,
              "#fb9f3a"
             ],
             [
              0.8888888888888888,
              "#fdca26"
             ],
             [
              1,
              "#f0f921"
             ]
            ],
            "type": "surface"
           }
          ],
          "table": [
           {
            "cells": {
             "fill": {
              "color": "#EBF0F8"
             },
             "line": {
              "color": "white"
             }
            },
            "header": {
             "fill": {
              "color": "#C8D4E3"
             },
             "line": {
              "color": "white"
             }
            },
            "type": "table"
           }
          ]
         },
         "layout": {
          "annotationdefaults": {
           "arrowcolor": "#2a3f5f",
           "arrowhead": 0,
           "arrowwidth": 1
          },
          "autotypenumbers": "strict",
          "coloraxis": {
           "colorbar": {
            "outlinewidth": 0,
            "ticks": ""
           }
          },
          "colorscale": {
           "diverging": [
            [
             0,
             "#8e0152"
            ],
            [
             0.1,
             "#c51b7d"
            ],
            [
             0.2,
             "#de77ae"
            ],
            [
             0.3,
             "#f1b6da"
            ],
            [
             0.4,
             "#fde0ef"
            ],
            [
             0.5,
             "#f7f7f7"
            ],
            [
             0.6,
             "#e6f5d0"
            ],
            [
             0.7,
             "#b8e186"
            ],
            [
             0.8,
             "#7fbc41"
            ],
            [
             0.9,
             "#4d9221"
            ],
            [
             1,
             "#276419"
            ]
           ],
           "sequential": [
            [
             0,
             "#0d0887"
            ],
            [
             0.1111111111111111,
             "#46039f"
            ],
            [
             0.2222222222222222,
             "#7201a8"
            ],
            [
             0.3333333333333333,
             "#9c179e"
            ],
            [
             0.4444444444444444,
             "#bd3786"
            ],
            [
             0.5555555555555556,
             "#d8576b"
            ],
            [
             0.6666666666666666,
             "#ed7953"
            ],
            [
             0.7777777777777778,
             "#fb9f3a"
            ],
            [
             0.8888888888888888,
             "#fdca26"
            ],
            [
             1,
             "#f0f921"
            ]
           ],
           "sequentialminus": [
            [
             0,
             "#0d0887"
            ],
            [
             0.1111111111111111,
             "#46039f"
            ],
            [
             0.2222222222222222,
             "#7201a8"
            ],
            [
             0.3333333333333333,
             "#9c179e"
            ],
            [
             0.4444444444444444,
             "#bd3786"
            ],
            [
             0.5555555555555556,
             "#d8576b"
            ],
            [
             0.6666666666666666,
             "#ed7953"
            ],
            [
             0.7777777777777778,
             "#fb9f3a"
            ],
            [
             0.8888888888888888,
             "#fdca26"
            ],
            [
             1,
             "#f0f921"
            ]
           ]
          },
          "colorway": [
           "#636efa",
           "#EF553B",
           "#00cc96",
           "#ab63fa",
           "#FFA15A",
           "#19d3f3",
           "#FF6692",
           "#B6E880",
           "#FF97FF",
           "#FECB52"
          ],
          "font": {
           "color": "#2a3f5f"
          },
          "geo": {
           "bgcolor": "white",
           "lakecolor": "white",
           "landcolor": "white",
           "showlakes": true,
           "showland": true,
           "subunitcolor": "#C8D4E3"
          },
          "hoverlabel": {
           "align": "left"
          },
          "hovermode": "closest",
          "mapbox": {
           "style": "light"
          },
          "paper_bgcolor": "white",
          "plot_bgcolor": "white",
          "polar": {
           "angularaxis": {
            "gridcolor": "#EBF0F8",
            "linecolor": "#EBF0F8",
            "ticks": ""
           },
           "bgcolor": "white",
           "radialaxis": {
            "gridcolor": "#EBF0F8",
            "linecolor": "#EBF0F8",
            "ticks": ""
           }
          },
          "scene": {
           "xaxis": {
            "backgroundcolor": "white",
            "gridcolor": "#DFE8F3",
            "gridwidth": 2,
            "linecolor": "#EBF0F8",
            "showbackground": true,
            "ticks": "",
            "zerolinecolor": "#EBF0F8"
           },
           "yaxis": {
            "backgroundcolor": "white",
            "gridcolor": "#DFE8F3",
            "gridwidth": 2,
            "linecolor": "#EBF0F8",
            "showbackground": true,
            "ticks": "",
            "zerolinecolor": "#EBF0F8"
           },
           "zaxis": {
            "backgroundcolor": "white",
            "gridcolor": "#DFE8F3",
            "gridwidth": 2,
            "linecolor": "#EBF0F8",
            "showbackground": true,
            "ticks": "",
            "zerolinecolor": "#EBF0F8"
           }
          },
          "shapedefaults": {
           "line": {
            "color": "#2a3f5f"
           }
          },
          "ternary": {
           "aaxis": {
            "gridcolor": "#DFE8F3",
            "linecolor": "#A2B1C6",
            "ticks": ""
           },
           "baxis": {
            "gridcolor": "#DFE8F3",
            "linecolor": "#A2B1C6",
            "ticks": ""
           },
           "bgcolor": "white",
           "caxis": {
            "gridcolor": "#DFE8F3",
            "linecolor": "#A2B1C6",
            "ticks": ""
           }
          },
          "title": {
           "x": 0.05
          },
          "xaxis": {
           "automargin": true,
           "gridcolor": "#EBF0F8",
           "linecolor": "#EBF0F8",
           "ticks": "",
           "title": {
            "standoff": 15
           },
           "zerolinecolor": "#EBF0F8",
           "zerolinewidth": 2
          },
          "yaxis": {
           "automargin": true,
           "gridcolor": "#EBF0F8",
           "linecolor": "#EBF0F8",
           "ticks": "",
           "title": {
            "standoff": 15
           },
           "zerolinecolor": "#EBF0F8",
           "zerolinewidth": 2
          }
         }
        },
        "title": {
         "text": "Tingkat Attrition (%) Berdasarkan Kategori Gaji"
        },
        "xaxis": {
         "anchor": "y",
         "domain": [
          0,
          1
         ],
         "title": {
          "text": "Kategori Gaji"
         }
        },
        "yaxis": {
         "anchor": "x",
         "domain": [
          0,
          1
         ],
         "title": {
          "text": "Tingkat Attrition (%)"
         }
        }
       }
      }
     },
     "metadata": {},
     "output_type": "display_data"
    }
   ],
   "source": [
    "salary_attrition = df.groupby('SalaryCategory')['Attrition'].mean() * 100\n",
    "salary_counts = df.groupby('SalaryCategory').size()\n",
    "\n",
    "order = ['Rendah (< 5000)', 'Sedang (5000-10000)', 'Tinggi (10000-15000)', 'Sangat Tinggi (>15000)']\n",
    "salary_attrition = salary_attrition.reindex(order)\n",
    "salary_counts = salary_counts.reindex(order)\n",
    "\n",
    "salary_df = pd.DataFrame({\n",
    "    'Jumlah Karyawan': salary_counts,\n",
    "    'Tingkat Attrition (%)': salary_attrition\n",
    "})\n",
    "\n",
    "display(salary_df)\n",
    "\n",
    "fig = px.bar(\n",
    "    x=salary_attrition.index,\n",
    "    y=salary_attrition.values,\n",
    "    color=salary_attrition.values,\n",
    "    text=salary_attrition.values.round(1),\n",
    "    title='Tingkat Attrition (%) Berdasarkan Kategori Gaji',\n",
    "    labels={'x': 'Kategori Gaji', 'y': 'Tingkat Attrition (%)'},\n",
    "    color_continuous_scale='Greens_r'\n",
    ")\n",
    "fig.update_traces(texttemplate='%{text:.1f}%', textposition='outside')\n",
    "fig.update_layout(coloraxis_showscale=False, template='plotly_white')\n",
    "fig.show()\n",
    "fig.write_image(\"./visualisasi/tingkat_attrition_kategori_gaji.jpg\", scale=2)"
   ]
  },
  {
   "cell_type": "markdown",
   "id": "75c25293",
   "metadata": {},
   "source": [
    "### Attrition by Gender"
   ]
  },
  {
   "cell_type": "code",
   "execution_count": 76,
   "id": "cd39e1d1",
   "metadata": {},
   "outputs": [
    {
     "data": {
      "application/vnd.microsoft.datawrangler.viewer.v0+json": {
       "columns": [
        {
         "name": "Gender",
         "rawType": "object",
         "type": "string"
        },
        {
         "name": "Jumlah Karyawan",
         "rawType": "int64",
         "type": "integer"
        },
        {
         "name": "Tingkat Attrition (%)",
         "rawType": "float64",
         "type": "float"
        }
       ],
       "conversionMethod": "pd.DataFrame",
       "ref": "418114dc-2d03-4cb8-85d0-65b6fab0baca",
       "rows": [
        [
         "Female",
         "438",
         "16.210045662100455"
        ],
        [
         "Male",
         "620",
         "17.419354838709676"
        ]
       ],
       "shape": {
        "columns": 2,
        "rows": 2
       }
      },
      "text/html": [
       "<div>\n",
       "<style scoped>\n",
       "    .dataframe tbody tr th:only-of-type {\n",
       "        vertical-align: middle;\n",
       "    }\n",
       "\n",
       "    .dataframe tbody tr th {\n",
       "        vertical-align: top;\n",
       "    }\n",
       "\n",
       "    .dataframe thead th {\n",
       "        text-align: right;\n",
       "    }\n",
       "</style>\n",
       "<table border=\"1\" class=\"dataframe\">\n",
       "  <thead>\n",
       "    <tr style=\"text-align: right;\">\n",
       "      <th></th>\n",
       "      <th>Jumlah Karyawan</th>\n",
       "      <th>Tingkat Attrition (%)</th>\n",
       "    </tr>\n",
       "    <tr>\n",
       "      <th>Gender</th>\n",
       "      <th></th>\n",
       "      <th></th>\n",
       "    </tr>\n",
       "  </thead>\n",
       "  <tbody>\n",
       "    <tr>\n",
       "      <th>Female</th>\n",
       "      <td>438</td>\n",
       "      <td>16.210046</td>\n",
       "    </tr>\n",
       "    <tr>\n",
       "      <th>Male</th>\n",
       "      <td>620</td>\n",
       "      <td>17.419355</td>\n",
       "    </tr>\n",
       "  </tbody>\n",
       "</table>\n",
       "</div>"
      ],
      "text/plain": [
       "        Jumlah Karyawan  Tingkat Attrition (%)\n",
       "Gender                                        \n",
       "Female              438              16.210046\n",
       "Male                620              17.419355"
      ]
     },
     "metadata": {},
     "output_type": "display_data"
    },
    {
     "data": {
      "application/vnd.plotly.v1+json": {
       "config": {
        "plotlyServerURL": "https://plot.ly"
       },
       "data": [
        {
         "marker": {
          "color": "skyblue"
         },
         "name": "Jumlah Karyawan",
         "opacity": 0.7,
         "text": {
          "bdata": "AAAAAABge0AAAAAAAGCDQA==",
          "dtype": "f8"
         },
         "textposition": "auto",
         "type": "bar",
         "x": [
          "Female",
          "Male"
         ],
         "y": {
          "bdata": "tgFsAg==",
          "dtype": "i2"
         },
         "yaxis": "y"
        },
        {
         "marker": {
          "color": "red",
          "size": 12
         },
         "mode": "lines+markers+text",
         "name": "Tingkat Attrition (%)",
         "text": [
          "16.2%",
          "17.4%"
         ],
         "textposition": "top center",
         "type": "scatter",
         "x": [
          "Female",
          "Male"
         ],
         "y": {
          "bdata": "XGNxjcU1MEBrrbXWWmsxQA==",
          "dtype": "f8"
         },
         "yaxis": "y2"
        }
       ],
       "layout": {
        "legend": {
         "x": 0.01,
         "y": 0.99
        },
        "template": {
         "data": {
          "bar": [
           {
            "error_x": {
             "color": "#2a3f5f"
            },
            "error_y": {
             "color": "#2a3f5f"
            },
            "marker": {
             "line": {
              "color": "white",
              "width": 0.5
             },
             "pattern": {
              "fillmode": "overlay",
              "size": 10,
              "solidity": 0.2
             }
            },
            "type": "bar"
           }
          ],
          "barpolar": [
           {
            "marker": {
             "line": {
              "color": "white",
              "width": 0.5
             },
             "pattern": {
              "fillmode": "overlay",
              "size": 10,
              "solidity": 0.2
             }
            },
            "type": "barpolar"
           }
          ],
          "carpet": [
           {
            "aaxis": {
             "endlinecolor": "#2a3f5f",
             "gridcolor": "#C8D4E3",
             "linecolor": "#C8D4E3",
             "minorgridcolor": "#C8D4E3",
             "startlinecolor": "#2a3f5f"
            },
            "baxis": {
             "endlinecolor": "#2a3f5f",
             "gridcolor": "#C8D4E3",
             "linecolor": "#C8D4E3",
             "minorgridcolor": "#C8D4E3",
             "startlinecolor": "#2a3f5f"
            },
            "type": "carpet"
           }
          ],
          "choropleth": [
           {
            "colorbar": {
             "outlinewidth": 0,
             "ticks": ""
            },
            "type": "choropleth"
           }
          ],
          "contour": [
           {
            "colorbar": {
             "outlinewidth": 0,
             "ticks": ""
            },
            "colorscale": [
             [
              0,
              "#0d0887"
             ],
             [
              0.1111111111111111,
              "#46039f"
             ],
             [
              0.2222222222222222,
              "#7201a8"
             ],
             [
              0.3333333333333333,
              "#9c179e"
             ],
             [
              0.4444444444444444,
              "#bd3786"
             ],
             [
              0.5555555555555556,
              "#d8576b"
             ],
             [
              0.6666666666666666,
              "#ed7953"
             ],
             [
              0.7777777777777778,
              "#fb9f3a"
             ],
             [
              0.8888888888888888,
              "#fdca26"
             ],
             [
              1,
              "#f0f921"
             ]
            ],
            "type": "contour"
           }
          ],
          "contourcarpet": [
           {
            "colorbar": {
             "outlinewidth": 0,
             "ticks": ""
            },
            "type": "contourcarpet"
           }
          ],
          "heatmap": [
           {
            "colorbar": {
             "outlinewidth": 0,
             "ticks": ""
            },
            "colorscale": [
             [
              0,
              "#0d0887"
             ],
             [
              0.1111111111111111,
              "#46039f"
             ],
             [
              0.2222222222222222,
              "#7201a8"
             ],
             [
              0.3333333333333333,
              "#9c179e"
             ],
             [
              0.4444444444444444,
              "#bd3786"
             ],
             [
              0.5555555555555556,
              "#d8576b"
             ],
             [
              0.6666666666666666,
              "#ed7953"
             ],
             [
              0.7777777777777778,
              "#fb9f3a"
             ],
             [
              0.8888888888888888,
              "#fdca26"
             ],
             [
              1,
              "#f0f921"
             ]
            ],
            "type": "heatmap"
           }
          ],
          "histogram": [
           {
            "marker": {
             "pattern": {
              "fillmode": "overlay",
              "size": 10,
              "solidity": 0.2
             }
            },
            "type": "histogram"
           }
          ],
          "histogram2d": [
           {
            "colorbar": {
             "outlinewidth": 0,
             "ticks": ""
            },
            "colorscale": [
             [
              0,
              "#0d0887"
             ],
             [
              0.1111111111111111,
              "#46039f"
             ],
             [
              0.2222222222222222,
              "#7201a8"
             ],
             [
              0.3333333333333333,
              "#9c179e"
             ],
             [
              0.4444444444444444,
              "#bd3786"
             ],
             [
              0.5555555555555556,
              "#d8576b"
             ],
             [
              0.6666666666666666,
              "#ed7953"
             ],
             [
              0.7777777777777778,
              "#fb9f3a"
             ],
             [
              0.8888888888888888,
              "#fdca26"
             ],
             [
              1,
              "#f0f921"
             ]
            ],
            "type": "histogram2d"
           }
          ],
          "histogram2dcontour": [
           {
            "colorbar": {
             "outlinewidth": 0,
             "ticks": ""
            },
            "colorscale": [
             [
              0,
              "#0d0887"
             ],
             [
              0.1111111111111111,
              "#46039f"
             ],
             [
              0.2222222222222222,
              "#7201a8"
             ],
             [
              0.3333333333333333,
              "#9c179e"
             ],
             [
              0.4444444444444444,
              "#bd3786"
             ],
             [
              0.5555555555555556,
              "#d8576b"
             ],
             [
              0.6666666666666666,
              "#ed7953"
             ],
             [
              0.7777777777777778,
              "#fb9f3a"
             ],
             [
              0.8888888888888888,
              "#fdca26"
             ],
             [
              1,
              "#f0f921"
             ]
            ],
            "type": "histogram2dcontour"
           }
          ],
          "mesh3d": [
           {
            "colorbar": {
             "outlinewidth": 0,
             "ticks": ""
            },
            "type": "mesh3d"
           }
          ],
          "parcoords": [
           {
            "line": {
             "colorbar": {
              "outlinewidth": 0,
              "ticks": ""
             }
            },
            "type": "parcoords"
           }
          ],
          "pie": [
           {
            "automargin": true,
            "type": "pie"
           }
          ],
          "scatter": [
           {
            "fillpattern": {
             "fillmode": "overlay",
             "size": 10,
             "solidity": 0.2
            },
            "type": "scatter"
           }
          ],
          "scatter3d": [
           {
            "line": {
             "colorbar": {
              "outlinewidth": 0,
              "ticks": ""
             }
            },
            "marker": {
             "colorbar": {
              "outlinewidth": 0,
              "ticks": ""
             }
            },
            "type": "scatter3d"
           }
          ],
          "scattercarpet": [
           {
            "marker": {
             "colorbar": {
              "outlinewidth": 0,
              "ticks": ""
             }
            },
            "type": "scattercarpet"
           }
          ],
          "scattergeo": [
           {
            "marker": {
             "colorbar": {
              "outlinewidth": 0,
              "ticks": ""
             }
            },
            "type": "scattergeo"
           }
          ],
          "scattergl": [
           {
            "marker": {
             "colorbar": {
              "outlinewidth": 0,
              "ticks": ""
             }
            },
            "type": "scattergl"
           }
          ],
          "scattermap": [
           {
            "marker": {
             "colorbar": {
              "outlinewidth": 0,
              "ticks": ""
             }
            },
            "type": "scattermap"
           }
          ],
          "scattermapbox": [
           {
            "marker": {
             "colorbar": {
              "outlinewidth": 0,
              "ticks": ""
             }
            },
            "type": "scattermapbox"
           }
          ],
          "scatterpolar": [
           {
            "marker": {
             "colorbar": {
              "outlinewidth": 0,
              "ticks": ""
             }
            },
            "type": "scatterpolar"
           }
          ],
          "scatterpolargl": [
           {
            "marker": {
             "colorbar": {
              "outlinewidth": 0,
              "ticks": ""
             }
            },
            "type": "scatterpolargl"
           }
          ],
          "scatterternary": [
           {
            "marker": {
             "colorbar": {
              "outlinewidth": 0,
              "ticks": ""
             }
            },
            "type": "scatterternary"
           }
          ],
          "surface": [
           {
            "colorbar": {
             "outlinewidth": 0,
             "ticks": ""
            },
            "colorscale": [
             [
              0,
              "#0d0887"
             ],
             [
              0.1111111111111111,
              "#46039f"
             ],
             [
              0.2222222222222222,
              "#7201a8"
             ],
             [
              0.3333333333333333,
              "#9c179e"
             ],
             [
              0.4444444444444444,
              "#bd3786"
             ],
             [
              0.5555555555555556,
              "#d8576b"
             ],
             [
              0.6666666666666666,
              "#ed7953"
             ],
             [
              0.7777777777777778,
              "#fb9f3a"
             ],
             [
              0.8888888888888888,
              "#fdca26"
             ],
             [
              1,
              "#f0f921"
             ]
            ],
            "type": "surface"
           }
          ],
          "table": [
           {
            "cells": {
             "fill": {
              "color": "#EBF0F8"
             },
             "line": {
              "color": "white"
             }
            },
            "header": {
             "fill": {
              "color": "#C8D4E3"
             },
             "line": {
              "color": "white"
             }
            },
            "type": "table"
           }
          ]
         },
         "layout": {
          "annotationdefaults": {
           "arrowcolor": "#2a3f5f",
           "arrowhead": 0,
           "arrowwidth": 1
          },
          "autotypenumbers": "strict",
          "coloraxis": {
           "colorbar": {
            "outlinewidth": 0,
            "ticks": ""
           }
          },
          "colorscale": {
           "diverging": [
            [
             0,
             "#8e0152"
            ],
            [
             0.1,
             "#c51b7d"
            ],
            [
             0.2,
             "#de77ae"
            ],
            [
             0.3,
             "#f1b6da"
            ],
            [
             0.4,
             "#fde0ef"
            ],
            [
             0.5,
             "#f7f7f7"
            ],
            [
             0.6,
             "#e6f5d0"
            ],
            [
             0.7,
             "#b8e186"
            ],
            [
             0.8,
             "#7fbc41"
            ],
            [
             0.9,
             "#4d9221"
            ],
            [
             1,
             "#276419"
            ]
           ],
           "sequential": [
            [
             0,
             "#0d0887"
            ],
            [
             0.1111111111111111,
             "#46039f"
            ],
            [
             0.2222222222222222,
             "#7201a8"
            ],
            [
             0.3333333333333333,
             "#9c179e"
            ],
            [
             0.4444444444444444,
             "#bd3786"
            ],
            [
             0.5555555555555556,
             "#d8576b"
            ],
            [
             0.6666666666666666,
             "#ed7953"
            ],
            [
             0.7777777777777778,
             "#fb9f3a"
            ],
            [
             0.8888888888888888,
             "#fdca26"
            ],
            [
             1,
             "#f0f921"
            ]
           ],
           "sequentialminus": [
            [
             0,
             "#0d0887"
            ],
            [
             0.1111111111111111,
             "#46039f"
            ],
            [
             0.2222222222222222,
             "#7201a8"
            ],
            [
             0.3333333333333333,
             "#9c179e"
            ],
            [
             0.4444444444444444,
             "#bd3786"
            ],
            [
             0.5555555555555556,
             "#d8576b"
            ],
            [
             0.6666666666666666,
             "#ed7953"
            ],
            [
             0.7777777777777778,
             "#fb9f3a"
            ],
            [
             0.8888888888888888,
             "#fdca26"
            ],
            [
             1,
             "#f0f921"
            ]
           ]
          },
          "colorway": [
           "#636efa",
           "#EF553B",
           "#00cc96",
           "#ab63fa",
           "#FFA15A",
           "#19d3f3",
           "#FF6692",
           "#B6E880",
           "#FF97FF",
           "#FECB52"
          ],
          "font": {
           "color": "#2a3f5f"
          },
          "geo": {
           "bgcolor": "white",
           "lakecolor": "white",
           "landcolor": "white",
           "showlakes": true,
           "showland": true,
           "subunitcolor": "#C8D4E3"
          },
          "hoverlabel": {
           "align": "left"
          },
          "hovermode": "closest",
          "mapbox": {
           "style": "light"
          },
          "paper_bgcolor": "white",
          "plot_bgcolor": "white",
          "polar": {
           "angularaxis": {
            "gridcolor": "#EBF0F8",
            "linecolor": "#EBF0F8",
            "ticks": ""
           },
           "bgcolor": "white",
           "radialaxis": {
            "gridcolor": "#EBF0F8",
            "linecolor": "#EBF0F8",
            "ticks": ""
           }
          },
          "scene": {
           "xaxis": {
            "backgroundcolor": "white",
            "gridcolor": "#DFE8F3",
            "gridwidth": 2,
            "linecolor": "#EBF0F8",
            "showbackground": true,
            "ticks": "",
            "zerolinecolor": "#EBF0F8"
           },
           "yaxis": {
            "backgroundcolor": "white",
            "gridcolor": "#DFE8F3",
            "gridwidth": 2,
            "linecolor": "#EBF0F8",
            "showbackground": true,
            "ticks": "",
            "zerolinecolor": "#EBF0F8"
           },
           "zaxis": {
            "backgroundcolor": "white",
            "gridcolor": "#DFE8F3",
            "gridwidth": 2,
            "linecolor": "#EBF0F8",
            "showbackground": true,
            "ticks": "",
            "zerolinecolor": "#EBF0F8"
           }
          },
          "shapedefaults": {
           "line": {
            "color": "#2a3f5f"
           }
          },
          "ternary": {
           "aaxis": {
            "gridcolor": "#DFE8F3",
            "linecolor": "#A2B1C6",
            "ticks": ""
           },
           "baxis": {
            "gridcolor": "#DFE8F3",
            "linecolor": "#A2B1C6",
            "ticks": ""
           },
           "bgcolor": "white",
           "caxis": {
            "gridcolor": "#DFE8F3",
            "linecolor": "#A2B1C6",
            "ticks": ""
           }
          },
          "title": {
           "x": 0.05
          },
          "xaxis": {
           "automargin": true,
           "gridcolor": "#EBF0F8",
           "linecolor": "#EBF0F8",
           "ticks": "",
           "title": {
            "standoff": 15
           },
           "zerolinecolor": "#EBF0F8",
           "zerolinewidth": 2
          },
          "yaxis": {
           "automargin": true,
           "gridcolor": "#EBF0F8",
           "linecolor": "#EBF0F8",
           "ticks": "",
           "title": {
            "standoff": 15
           },
           "zerolinecolor": "#EBF0F8",
           "zerolinewidth": 2
          }
         }
        },
        "title": {
         "text": "Jumlah Karyawan dan Tingkat Attrition Berdasarkan Jenis Kelamin"
        },
        "xaxis": {
         "title": {
          "text": "Jenis Kelamin"
         }
        },
        "yaxis": {
         "showgrid": false,
         "side": "left",
         "title": {
          "text": "Jumlah Karyawan"
         }
        },
        "yaxis2": {
         "overlaying": "y",
         "showgrid": false,
         "side": "right",
         "title": {
          "text": "Tingkat Attrition (%)"
         }
        }
       }
      }
     },
     "metadata": {},
     "output_type": "display_data"
    }
   ],
   "source": [
    "gender_attrition = df.groupby('Gender')['Attrition'].mean() * 100\n",
    "gender_counts = df.groupby('Gender').size()\n",
    "\n",
    "gender_df = pd.DataFrame({\n",
    "    'Jumlah Karyawan': gender_counts,\n",
    "    'Tingkat Attrition (%)': gender_attrition\n",
    "})\n",
    "\n",
    "display(gender_df)\n",
    "\n",
    "fig = go.Figure()\n",
    "\n",
    "fig.add_trace(go.Bar(\n",
    "    x=gender_counts.index,\n",
    "    y=gender_counts.values,\n",
    "    name='Jumlah Karyawan',\n",
    "    marker_color='skyblue',\n",
    "    opacity=0.7,\n",
    "    text=gender_counts.values,\n",
    "    textposition='auto',\n",
    "    yaxis='y'\n",
    "))\n",
    "\n",
    "fig.add_trace(go.Scatter(\n",
    "    x=gender_attrition.index,\n",
    "    y=gender_attrition.values,\n",
    "    name='Tingkat Attrition (%)',\n",
    "    marker_color='red',\n",
    "    mode='lines+markers+text',\n",
    "    marker=dict(size=12),\n",
    "    text=[f'{val:.1f}%' for val in gender_attrition.values],\n",
    "    textposition='top center',\n",
    "    yaxis='y2'\n",
    "))\n",
    "\n",
    "fig.update_layout(\n",
    "    title='Jumlah Karyawan dan Tingkat Attrition Berdasarkan Jenis Kelamin',\n",
    "    xaxis=dict(title='Jenis Kelamin'),\n",
    "    yaxis=dict(title='Jumlah Karyawan', side='left', showgrid=False),\n",
    "    yaxis2=dict(title='Tingkat Attrition (%)', side='right', overlaying='y', showgrid=False),\n",
    "    legend=dict(x=0.01, y=0.99),\n",
    "    template='plotly_white'\n",
    ")\n",
    "\n",
    "fig.show()\n",
    "fig.write_image(\"./visualisasi/tingkat_attrition_jenis_kelamin.jpg\", scale=2)"
   ]
  },
  {
   "cell_type": "markdown",
   "id": "e10af782",
   "metadata": {},
   "source": [
    "### Attrition by Education Background"
   ]
  },
  {
   "cell_type": "code",
   "execution_count": 77,
   "id": "031c39d3",
   "metadata": {},
   "outputs": [
    {
     "data": {
      "application/vnd.microsoft.datawrangler.viewer.v0+json": {
       "columns": [
        {
         "name": "EducationField",
         "rawType": "object",
         "type": "string"
        },
        {
         "name": "Jumlah Karyawan",
         "rawType": "int64",
         "type": "integer"
        },
        {
         "name": "Tingkat Attrition (%)",
         "rawType": "float64",
         "type": "float"
        }
       ],
       "conversionMethod": "pd.DataFrame",
       "ref": "6c04ddb3-fa30-4a82-b0a3-e99c45e54dae",
       "rows": [
        [
         "Technical Degree",
         "96",
         "26.041666666666668"
        ],
        [
         "Marketing",
         "122",
         "21.311475409836063"
        ],
        [
         "Other",
         "59",
         "16.94915254237288"
        ],
        [
         "Life Sciences",
         "436",
         "16.055045871559635"
        ],
        [
         "Medical",
         "330",
         "13.939393939393941"
        ],
        [
         "Human Resources",
         "15",
         "13.333333333333334"
        ]
       ],
       "shape": {
        "columns": 2,
        "rows": 6
       }
      },
      "text/html": [
       "<div>\n",
       "<style scoped>\n",
       "    .dataframe tbody tr th:only-of-type {\n",
       "        vertical-align: middle;\n",
       "    }\n",
       "\n",
       "    .dataframe tbody tr th {\n",
       "        vertical-align: top;\n",
       "    }\n",
       "\n",
       "    .dataframe thead th {\n",
       "        text-align: right;\n",
       "    }\n",
       "</style>\n",
       "<table border=\"1\" class=\"dataframe\">\n",
       "  <thead>\n",
       "    <tr style=\"text-align: right;\">\n",
       "      <th></th>\n",
       "      <th>Jumlah Karyawan</th>\n",
       "      <th>Tingkat Attrition (%)</th>\n",
       "    </tr>\n",
       "    <tr>\n",
       "      <th>EducationField</th>\n",
       "      <th></th>\n",
       "      <th></th>\n",
       "    </tr>\n",
       "  </thead>\n",
       "  <tbody>\n",
       "    <tr>\n",
       "      <th>Technical Degree</th>\n",
       "      <td>96</td>\n",
       "      <td>26.041667</td>\n",
       "    </tr>\n",
       "    <tr>\n",
       "      <th>Marketing</th>\n",
       "      <td>122</td>\n",
       "      <td>21.311475</td>\n",
       "    </tr>\n",
       "    <tr>\n",
       "      <th>Other</th>\n",
       "      <td>59</td>\n",
       "      <td>16.949153</td>\n",
       "    </tr>\n",
       "    <tr>\n",
       "      <th>Life Sciences</th>\n",
       "      <td>436</td>\n",
       "      <td>16.055046</td>\n",
       "    </tr>\n",
       "    <tr>\n",
       "      <th>Medical</th>\n",
       "      <td>330</td>\n",
       "      <td>13.939394</td>\n",
       "    </tr>\n",
       "    <tr>\n",
       "      <th>Human Resources</th>\n",
       "      <td>15</td>\n",
       "      <td>13.333333</td>\n",
       "    </tr>\n",
       "  </tbody>\n",
       "</table>\n",
       "</div>"
      ],
      "text/plain": [
       "                  Jumlah Karyawan  Tingkat Attrition (%)\n",
       "EducationField                                          \n",
       "Technical Degree               96              26.041667\n",
       "Marketing                     122              21.311475\n",
       "Other                          59              16.949153\n",
       "Life Sciences                 436              16.055046\n",
       "Medical                       330              13.939394\n",
       "Human Resources                15              13.333333"
      ]
     },
     "metadata": {},
     "output_type": "display_data"
    },
    {
     "data": {
      "application/vnd.plotly.v1+json": {
       "config": {
        "plotlyServerURL": "https://plot.ly"
       },
       "data": [
        {
         "hovertemplate": "EducationField=%{x}<br>Tingkat Attrition (%)=%{marker.color}<br>text=%{text}<extra></extra>",
         "legendgroup": "",
         "marker": {
          "color": {
           "bdata": "q6qqqqoKOkAMwTravE81QCJoOKn78jBA4iB6fBcOMEDigw8++OArQKuqqqqqqipA",
           "dtype": "f8"
          },
          "coloraxis": "coloraxis",
          "pattern": {
           "shape": ""
          }
         },
         "name": "",
         "orientation": "v",
         "showlegend": false,
         "text": {
          "bdata": "AAAAAAAAOkDNzMzMzEw1QGZmZmZm5jBAmpmZmZkZMEDNzMzMzMwrQJqZmZmZmSpA",
          "dtype": "f8"
         },
         "textposition": "outside",
         "texttemplate": "%{text:.1f}%",
         "type": "bar",
         "x": [
          "Technical Degree",
          "Marketing",
          "Other",
          "Life Sciences",
          "Medical",
          "Human Resources"
         ],
         "xaxis": "x",
         "y": {
          "bdata": "q6qqqqoKOkAMwTravE81QCJoOKn78jBA4iB6fBcOMEDigw8++OArQKuqqqqqqipA",
          "dtype": "f8"
         },
         "yaxis": "y"
        }
       ],
       "layout": {
        "barmode": "relative",
        "coloraxis": {
         "colorbar": {
          "title": {
           "text": "Tingkat Attrition (%)"
          }
         },
         "colorscale": [
          [
           0,
           "rgb(8,48,107)"
          ],
          [
           0.125,
           "rgb(8,81,156)"
          ],
          [
           0.25,
           "rgb(33,113,181)"
          ],
          [
           0.375,
           "rgb(66,146,198)"
          ],
          [
           0.5,
           "rgb(107,174,214)"
          ],
          [
           0.625,
           "rgb(158,202,225)"
          ],
          [
           0.75,
           "rgb(198,219,239)"
          ],
          [
           0.875,
           "rgb(222,235,247)"
          ],
          [
           1,
           "rgb(247,251,255)"
          ]
         ],
         "showscale": false
        },
        "legend": {
         "tracegroupgap": 0
        },
        "template": {
         "data": {
          "bar": [
           {
            "error_x": {
             "color": "#2a3f5f"
            },
            "error_y": {
             "color": "#2a3f5f"
            },
            "marker": {
             "line": {
              "color": "white",
              "width": 0.5
             },
             "pattern": {
              "fillmode": "overlay",
              "size": 10,
              "solidity": 0.2
             }
            },
            "type": "bar"
           }
          ],
          "barpolar": [
           {
            "marker": {
             "line": {
              "color": "white",
              "width": 0.5
             },
             "pattern": {
              "fillmode": "overlay",
              "size": 10,
              "solidity": 0.2
             }
            },
            "type": "barpolar"
           }
          ],
          "carpet": [
           {
            "aaxis": {
             "endlinecolor": "#2a3f5f",
             "gridcolor": "#C8D4E3",
             "linecolor": "#C8D4E3",
             "minorgridcolor": "#C8D4E3",
             "startlinecolor": "#2a3f5f"
            },
            "baxis": {
             "endlinecolor": "#2a3f5f",
             "gridcolor": "#C8D4E3",
             "linecolor": "#C8D4E3",
             "minorgridcolor": "#C8D4E3",
             "startlinecolor": "#2a3f5f"
            },
            "type": "carpet"
           }
          ],
          "choropleth": [
           {
            "colorbar": {
             "outlinewidth": 0,
             "ticks": ""
            },
            "type": "choropleth"
           }
          ],
          "contour": [
           {
            "colorbar": {
             "outlinewidth": 0,
             "ticks": ""
            },
            "colorscale": [
             [
              0,
              "#0d0887"
             ],
             [
              0.1111111111111111,
              "#46039f"
             ],
             [
              0.2222222222222222,
              "#7201a8"
             ],
             [
              0.3333333333333333,
              "#9c179e"
             ],
             [
              0.4444444444444444,
              "#bd3786"
             ],
             [
              0.5555555555555556,
              "#d8576b"
             ],
             [
              0.6666666666666666,
              "#ed7953"
             ],
             [
              0.7777777777777778,
              "#fb9f3a"
             ],
             [
              0.8888888888888888,
              "#fdca26"
             ],
             [
              1,
              "#f0f921"
             ]
            ],
            "type": "contour"
           }
          ],
          "contourcarpet": [
           {
            "colorbar": {
             "outlinewidth": 0,
             "ticks": ""
            },
            "type": "contourcarpet"
           }
          ],
          "heatmap": [
           {
            "colorbar": {
             "outlinewidth": 0,
             "ticks": ""
            },
            "colorscale": [
             [
              0,
              "#0d0887"
             ],
             [
              0.1111111111111111,
              "#46039f"
             ],
             [
              0.2222222222222222,
              "#7201a8"
             ],
             [
              0.3333333333333333,
              "#9c179e"
             ],
             [
              0.4444444444444444,
              "#bd3786"
             ],
             [
              0.5555555555555556,
              "#d8576b"
             ],
             [
              0.6666666666666666,
              "#ed7953"
             ],
             [
              0.7777777777777778,
              "#fb9f3a"
             ],
             [
              0.8888888888888888,
              "#fdca26"
             ],
             [
              1,
              "#f0f921"
             ]
            ],
            "type": "heatmap"
           }
          ],
          "histogram": [
           {
            "marker": {
             "pattern": {
              "fillmode": "overlay",
              "size": 10,
              "solidity": 0.2
             }
            },
            "type": "histogram"
           }
          ],
          "histogram2d": [
           {
            "colorbar": {
             "outlinewidth": 0,
             "ticks": ""
            },
            "colorscale": [
             [
              0,
              "#0d0887"
             ],
             [
              0.1111111111111111,
              "#46039f"
             ],
             [
              0.2222222222222222,
              "#7201a8"
             ],
             [
              0.3333333333333333,
              "#9c179e"
             ],
             [
              0.4444444444444444,
              "#bd3786"
             ],
             [
              0.5555555555555556,
              "#d8576b"
             ],
             [
              0.6666666666666666,
              "#ed7953"
             ],
             [
              0.7777777777777778,
              "#fb9f3a"
             ],
             [
              0.8888888888888888,
              "#fdca26"
             ],
             [
              1,
              "#f0f921"
             ]
            ],
            "type": "histogram2d"
           }
          ],
          "histogram2dcontour": [
           {
            "colorbar": {
             "outlinewidth": 0,
             "ticks": ""
            },
            "colorscale": [
             [
              0,
              "#0d0887"
             ],
             [
              0.1111111111111111,
              "#46039f"
             ],
             [
              0.2222222222222222,
              "#7201a8"
             ],
             [
              0.3333333333333333,
              "#9c179e"
             ],
             [
              0.4444444444444444,
              "#bd3786"
             ],
             [
              0.5555555555555556,
              "#d8576b"
             ],
             [
              0.6666666666666666,
              "#ed7953"
             ],
             [
              0.7777777777777778,
              "#fb9f3a"
             ],
             [
              0.8888888888888888,
              "#fdca26"
             ],
             [
              1,
              "#f0f921"
             ]
            ],
            "type": "histogram2dcontour"
           }
          ],
          "mesh3d": [
           {
            "colorbar": {
             "outlinewidth": 0,
             "ticks": ""
            },
            "type": "mesh3d"
           }
          ],
          "parcoords": [
           {
            "line": {
             "colorbar": {
              "outlinewidth": 0,
              "ticks": ""
             }
            },
            "type": "parcoords"
           }
          ],
          "pie": [
           {
            "automargin": true,
            "type": "pie"
           }
          ],
          "scatter": [
           {
            "fillpattern": {
             "fillmode": "overlay",
             "size": 10,
             "solidity": 0.2
            },
            "type": "scatter"
           }
          ],
          "scatter3d": [
           {
            "line": {
             "colorbar": {
              "outlinewidth": 0,
              "ticks": ""
             }
            },
            "marker": {
             "colorbar": {
              "outlinewidth": 0,
              "ticks": ""
             }
            },
            "type": "scatter3d"
           }
          ],
          "scattercarpet": [
           {
            "marker": {
             "colorbar": {
              "outlinewidth": 0,
              "ticks": ""
             }
            },
            "type": "scattercarpet"
           }
          ],
          "scattergeo": [
           {
            "marker": {
             "colorbar": {
              "outlinewidth": 0,
              "ticks": ""
             }
            },
            "type": "scattergeo"
           }
          ],
          "scattergl": [
           {
            "marker": {
             "colorbar": {
              "outlinewidth": 0,
              "ticks": ""
             }
            },
            "type": "scattergl"
           }
          ],
          "scattermap": [
           {
            "marker": {
             "colorbar": {
              "outlinewidth": 0,
              "ticks": ""
             }
            },
            "type": "scattermap"
           }
          ],
          "scattermapbox": [
           {
            "marker": {
             "colorbar": {
              "outlinewidth": 0,
              "ticks": ""
             }
            },
            "type": "scattermapbox"
           }
          ],
          "scatterpolar": [
           {
            "marker": {
             "colorbar": {
              "outlinewidth": 0,
              "ticks": ""
             }
            },
            "type": "scatterpolar"
           }
          ],
          "scatterpolargl": [
           {
            "marker": {
             "colorbar": {
              "outlinewidth": 0,
              "ticks": ""
             }
            },
            "type": "scatterpolargl"
           }
          ],
          "scatterternary": [
           {
            "marker": {
             "colorbar": {
              "outlinewidth": 0,
              "ticks": ""
             }
            },
            "type": "scatterternary"
           }
          ],
          "surface": [
           {
            "colorbar": {
             "outlinewidth": 0,
             "ticks": ""
            },
            "colorscale": [
             [
              0,
              "#0d0887"
             ],
             [
              0.1111111111111111,
              "#46039f"
             ],
             [
              0.2222222222222222,
              "#7201a8"
             ],
             [
              0.3333333333333333,
              "#9c179e"
             ],
             [
              0.4444444444444444,
              "#bd3786"
             ],
             [
              0.5555555555555556,
              "#d8576b"
             ],
             [
              0.6666666666666666,
              "#ed7953"
             ],
             [
              0.7777777777777778,
              "#fb9f3a"
             ],
             [
              0.8888888888888888,
              "#fdca26"
             ],
             [
              1,
              "#f0f921"
             ]
            ],
            "type": "surface"
           }
          ],
          "table": [
           {
            "cells": {
             "fill": {
              "color": "#EBF0F8"
             },
             "line": {
              "color": "white"
             }
            },
            "header": {
             "fill": {
              "color": "#C8D4E3"
             },
             "line": {
              "color": "white"
             }
            },
            "type": "table"
           }
          ]
         },
         "layout": {
          "annotationdefaults": {
           "arrowcolor": "#2a3f5f",
           "arrowhead": 0,
           "arrowwidth": 1
          },
          "autotypenumbers": "strict",
          "coloraxis": {
           "colorbar": {
            "outlinewidth": 0,
            "ticks": ""
           }
          },
          "colorscale": {
           "diverging": [
            [
             0,
             "#8e0152"
            ],
            [
             0.1,
             "#c51b7d"
            ],
            [
             0.2,
             "#de77ae"
            ],
            [
             0.3,
             "#f1b6da"
            ],
            [
             0.4,
             "#fde0ef"
            ],
            [
             0.5,
             "#f7f7f7"
            ],
            [
             0.6,
             "#e6f5d0"
            ],
            [
             0.7,
             "#b8e186"
            ],
            [
             0.8,
             "#7fbc41"
            ],
            [
             0.9,
             "#4d9221"
            ],
            [
             1,
             "#276419"
            ]
           ],
           "sequential": [
            [
             0,
             "#0d0887"
            ],
            [
             0.1111111111111111,
             "#46039f"
            ],
            [
             0.2222222222222222,
             "#7201a8"
            ],
            [
             0.3333333333333333,
             "#9c179e"
            ],
            [
             0.4444444444444444,
             "#bd3786"
            ],
            [
             0.5555555555555556,
             "#d8576b"
            ],
            [
             0.6666666666666666,
             "#ed7953"
            ],
            [
             0.7777777777777778,
             "#fb9f3a"
            ],
            [
             0.8888888888888888,
             "#fdca26"
            ],
            [
             1,
             "#f0f921"
            ]
           ],
           "sequentialminus": [
            [
             0,
             "#0d0887"
            ],
            [
             0.1111111111111111,
             "#46039f"
            ],
            [
             0.2222222222222222,
             "#7201a8"
            ],
            [
             0.3333333333333333,
             "#9c179e"
            ],
            [
             0.4444444444444444,
             "#bd3786"
            ],
            [
             0.5555555555555556,
             "#d8576b"
            ],
            [
             0.6666666666666666,
             "#ed7953"
            ],
            [
             0.7777777777777778,
             "#fb9f3a"
            ],
            [
             0.8888888888888888,
             "#fdca26"
            ],
            [
             1,
             "#f0f921"
            ]
           ]
          },
          "colorway": [
           "#636efa",
           "#EF553B",
           "#00cc96",
           "#ab63fa",
           "#FFA15A",
           "#19d3f3",
           "#FF6692",
           "#B6E880",
           "#FF97FF",
           "#FECB52"
          ],
          "font": {
           "color": "#2a3f5f"
          },
          "geo": {
           "bgcolor": "white",
           "lakecolor": "white",
           "landcolor": "white",
           "showlakes": true,
           "showland": true,
           "subunitcolor": "#C8D4E3"
          },
          "hoverlabel": {
           "align": "left"
          },
          "hovermode": "closest",
          "mapbox": {
           "style": "light"
          },
          "paper_bgcolor": "white",
          "plot_bgcolor": "white",
          "polar": {
           "angularaxis": {
            "gridcolor": "#EBF0F8",
            "linecolor": "#EBF0F8",
            "ticks": ""
           },
           "bgcolor": "white",
           "radialaxis": {
            "gridcolor": "#EBF0F8",
            "linecolor": "#EBF0F8",
            "ticks": ""
           }
          },
          "scene": {
           "xaxis": {
            "backgroundcolor": "white",
            "gridcolor": "#DFE8F3",
            "gridwidth": 2,
            "linecolor": "#EBF0F8",
            "showbackground": true,
            "ticks": "",
            "zerolinecolor": "#EBF0F8"
           },
           "yaxis": {
            "backgroundcolor": "white",
            "gridcolor": "#DFE8F3",
            "gridwidth": 2,
            "linecolor": "#EBF0F8",
            "showbackground": true,
            "ticks": "",
            "zerolinecolor": "#EBF0F8"
           },
           "zaxis": {
            "backgroundcolor": "white",
            "gridcolor": "#DFE8F3",
            "gridwidth": 2,
            "linecolor": "#EBF0F8",
            "showbackground": true,
            "ticks": "",
            "zerolinecolor": "#EBF0F8"
           }
          },
          "shapedefaults": {
           "line": {
            "color": "#2a3f5f"
           }
          },
          "ternary": {
           "aaxis": {
            "gridcolor": "#DFE8F3",
            "linecolor": "#A2B1C6",
            "ticks": ""
           },
           "baxis": {
            "gridcolor": "#DFE8F3",
            "linecolor": "#A2B1C6",
            "ticks": ""
           },
           "bgcolor": "white",
           "caxis": {
            "gridcolor": "#DFE8F3",
            "linecolor": "#A2B1C6",
            "ticks": ""
           }
          },
          "title": {
           "x": 0.05
          },
          "xaxis": {
           "automargin": true,
           "gridcolor": "#EBF0F8",
           "linecolor": "#EBF0F8",
           "ticks": "",
           "title": {
            "standoff": 15
           },
           "zerolinecolor": "#EBF0F8",
           "zerolinewidth": 2
          },
          "yaxis": {
           "automargin": true,
           "gridcolor": "#EBF0F8",
           "linecolor": "#EBF0F8",
           "ticks": "",
           "title": {
            "standoff": 15
           },
           "zerolinecolor": "#EBF0F8",
           "zerolinewidth": 2
          }
         }
        },
        "title": {
         "text": "Tingkat Attrition (%) Berdasarkan Bidang Pendidikan"
        },
        "xaxis": {
         "anchor": "y",
         "domain": [
          0,
          1
         ],
         "title": {
          "text": "EducationField"
         }
        },
        "yaxis": {
         "anchor": "x",
         "domain": [
          0,
          1
         ],
         "title": {
          "text": "Tingkat Attrition (%)"
         }
        }
       }
      }
     },
     "metadata": {},
     "output_type": "display_data"
    }
   ],
   "source": [
    "education_field_attrition = df.groupby('EducationField')['Attrition'].mean() * 100\n",
    "education_field_counts = df.groupby('EducationField').size()\n",
    "\n",
    "education_field_df = pd.DataFrame({\n",
    "    'Jumlah Karyawan': education_field_counts,\n",
    "    'Tingkat Attrition (%)': education_field_attrition\n",
    "})\n",
    "\n",
    "education_field_df = education_field_df.sort_values('Tingkat Attrition (%)', ascending=False)\n",
    "display(education_field_df)\n",
    "\n",
    "fig = px.bar(\n",
    "    education_field_df,\n",
    "    x=education_field_df.index,\n",
    "    y='Tingkat Attrition (%)',\n",
    "    color='Tingkat Attrition (%)',\n",
    "    text=education_field_df['Tingkat Attrition (%)'].round(1),\n",
    "    title='Tingkat Attrition (%) Berdasarkan Bidang Pendidikan',\n",
    "    labels={'y': 'Tingkat Attrition (%)', 'x': 'Bidang Pendidikan'},\n",
    "    color_continuous_scale='Blues_r'\n",
    ")\n",
    "fig.update_traces(texttemplate='%{text:.1f}%', textposition='outside')\n",
    "fig.update_layout(coloraxis_showscale=False, template='plotly_white')\n",
    "fig.show()\n",
    "fig.write_image(\"./visualisasi/tingkat_attrition_bidang_pendidikan.jpg\", scale=2)"
   ]
  },
  {
   "cell_type": "markdown",
   "id": "2f78b2c9",
   "metadata": {},
   "source": [
    "### Attrition by LastTimePromoted"
   ]
  },
  {
   "cell_type": "code",
   "execution_count": 79,
   "id": "28d5927c",
   "metadata": {},
   "outputs": [
    {
     "data": {
      "application/vnd.microsoft.datawrangler.viewer.v0+json": {
       "columns": [
        {
         "name": "PromotionCategory",
         "rawType": "object",
         "type": "string"
        },
        {
         "name": "Jumlah Karyawan",
         "rawType": "int64",
         "type": "integer"
        },
        {
         "name": "Tingkat Attrition (%)",
         "rawType": "float64",
         "type": "float"
        }
       ],
       "conversionMethod": "pd.DataFrame",
       "ref": "7c5d8939-f365-40c4-a128-295fdf762ad9",
       "rows": [
        [
         "Baru Dipromosikan",
         "427",
         "19.437939110070257"
        ],
        [
         "1-2 Tahun",
         "358",
         "15.64245810055866"
        ],
        [
         "3-5 Tahun",
         "118",
         "11.864406779661017"
        ],
        [
         "> 5 Tahun",
         "155",
         "16.7741935483871"
        ]
       ],
       "shape": {
        "columns": 2,
        "rows": 4
       }
      },
      "text/html": [
       "<div>\n",
       "<style scoped>\n",
       "    .dataframe tbody tr th:only-of-type {\n",
       "        vertical-align: middle;\n",
       "    }\n",
       "\n",
       "    .dataframe tbody tr th {\n",
       "        vertical-align: top;\n",
       "    }\n",
       "\n",
       "    .dataframe thead th {\n",
       "        text-align: right;\n",
       "    }\n",
       "</style>\n",
       "<table border=\"1\" class=\"dataframe\">\n",
       "  <thead>\n",
       "    <tr style=\"text-align: right;\">\n",
       "      <th></th>\n",
       "      <th>Jumlah Karyawan</th>\n",
       "      <th>Tingkat Attrition (%)</th>\n",
       "    </tr>\n",
       "    <tr>\n",
       "      <th>PromotionCategory</th>\n",
       "      <th></th>\n",
       "      <th></th>\n",
       "    </tr>\n",
       "  </thead>\n",
       "  <tbody>\n",
       "    <tr>\n",
       "      <th>Baru Dipromosikan</th>\n",
       "      <td>427</td>\n",
       "      <td>19.437939</td>\n",
       "    </tr>\n",
       "    <tr>\n",
       "      <th>1-2 Tahun</th>\n",
       "      <td>358</td>\n",
       "      <td>15.642458</td>\n",
       "    </tr>\n",
       "    <tr>\n",
       "      <th>3-5 Tahun</th>\n",
       "      <td>118</td>\n",
       "      <td>11.864407</td>\n",
       "    </tr>\n",
       "    <tr>\n",
       "      <th>&gt; 5 Tahun</th>\n",
       "      <td>155</td>\n",
       "      <td>16.774194</td>\n",
       "    </tr>\n",
       "  </tbody>\n",
       "</table>\n",
       "</div>"
      ],
      "text/plain": [
       "                   Jumlah Karyawan  Tingkat Attrition (%)\n",
       "PromotionCategory                                        \n",
       "Baru Dipromosikan              427              19.437939\n",
       "1-2 Tahun                      358              15.642458\n",
       "3-5 Tahun                      118              11.864407\n",
       "> 5 Tahun                      155              16.774194"
      ]
     },
     "metadata": {},
     "output_type": "display_data"
    },
    {
     "data": {
      "application/vnd.plotly.v1+json": {
       "config": {
        "plotlyServerURL": "https://plot.ly"
       },
       "data": [
        {
         "hovertemplate": "Tahun Sejak Promosi Terakhir=%{x}<br>Tingkat Attrition (%)=%{y}<br>text=%{text}<extra></extra>",
         "legendgroup": "",
         "line": {
          "color": "purple",
          "dash": "solid",
          "width": 3
         },
         "marker": {
          "color": "blue",
          "size": 10,
          "symbol": "circle"
         },
         "mode": "lines+markers+text",
         "name": "",
         "orientation": "v",
         "showlegend": false,
         "text": {
          "bdata": "ZmZmZmZmM0AzMzMzMzMvQM3MzMzMzCdAzczMzMzMMEA=",
          "dtype": "f8"
         },
         "textposition": "top center",
         "type": "scatter",
         "x": [
          "Baru Dipromosikan",
          "1-2 Tahun",
          "3-5 Tahun",
          "> 5 Tahun"
         ],
         "xaxis": "x",
         "y": {
          "bdata": "H2QLxxxwM0BC5qVE8EgvQGQrgoaTuidAxxhjjDHGMEA=",
          "dtype": "f8"
         },
         "yaxis": "y"
        }
       ],
       "layout": {
        "legend": {
         "tracegroupgap": 0
        },
        "template": {
         "data": {
          "bar": [
           {
            "error_x": {
             "color": "#2a3f5f"
            },
            "error_y": {
             "color": "#2a3f5f"
            },
            "marker": {
             "line": {
              "color": "white",
              "width": 0.5
             },
             "pattern": {
              "fillmode": "overlay",
              "size": 10,
              "solidity": 0.2
             }
            },
            "type": "bar"
           }
          ],
          "barpolar": [
           {
            "marker": {
             "line": {
              "color": "white",
              "width": 0.5
             },
             "pattern": {
              "fillmode": "overlay",
              "size": 10,
              "solidity": 0.2
             }
            },
            "type": "barpolar"
           }
          ],
          "carpet": [
           {
            "aaxis": {
             "endlinecolor": "#2a3f5f",
             "gridcolor": "#C8D4E3",
             "linecolor": "#C8D4E3",
             "minorgridcolor": "#C8D4E3",
             "startlinecolor": "#2a3f5f"
            },
            "baxis": {
             "endlinecolor": "#2a3f5f",
             "gridcolor": "#C8D4E3",
             "linecolor": "#C8D4E3",
             "minorgridcolor": "#C8D4E3",
             "startlinecolor": "#2a3f5f"
            },
            "type": "carpet"
           }
          ],
          "choropleth": [
           {
            "colorbar": {
             "outlinewidth": 0,
             "ticks": ""
            },
            "type": "choropleth"
           }
          ],
          "contour": [
           {
            "colorbar": {
             "outlinewidth": 0,
             "ticks": ""
            },
            "colorscale": [
             [
              0,
              "#0d0887"
             ],
             [
              0.1111111111111111,
              "#46039f"
             ],
             [
              0.2222222222222222,
              "#7201a8"
             ],
             [
              0.3333333333333333,
              "#9c179e"
             ],
             [
              0.4444444444444444,
              "#bd3786"
             ],
             [
              0.5555555555555556,
              "#d8576b"
             ],
             [
              0.6666666666666666,
              "#ed7953"
             ],
             [
              0.7777777777777778,
              "#fb9f3a"
             ],
             [
              0.8888888888888888,
              "#fdca26"
             ],
             [
              1,
              "#f0f921"
             ]
            ],
            "type": "contour"
           }
          ],
          "contourcarpet": [
           {
            "colorbar": {
             "outlinewidth": 0,
             "ticks": ""
            },
            "type": "contourcarpet"
           }
          ],
          "heatmap": [
           {
            "colorbar": {
             "outlinewidth": 0,
             "ticks": ""
            },
            "colorscale": [
             [
              0,
              "#0d0887"
             ],
             [
              0.1111111111111111,
              "#46039f"
             ],
             [
              0.2222222222222222,
              "#7201a8"
             ],
             [
              0.3333333333333333,
              "#9c179e"
             ],
             [
              0.4444444444444444,
              "#bd3786"
             ],
             [
              0.5555555555555556,
              "#d8576b"
             ],
             [
              0.6666666666666666,
              "#ed7953"
             ],
             [
              0.7777777777777778,
              "#fb9f3a"
             ],
             [
              0.8888888888888888,
              "#fdca26"
             ],
             [
              1,
              "#f0f921"
             ]
            ],
            "type": "heatmap"
           }
          ],
          "histogram": [
           {
            "marker": {
             "pattern": {
              "fillmode": "overlay",
              "size": 10,
              "solidity": 0.2
             }
            },
            "type": "histogram"
           }
          ],
          "histogram2d": [
           {
            "colorbar": {
             "outlinewidth": 0,
             "ticks": ""
            },
            "colorscale": [
             [
              0,
              "#0d0887"
             ],
             [
              0.1111111111111111,
              "#46039f"
             ],
             [
              0.2222222222222222,
              "#7201a8"
             ],
             [
              0.3333333333333333,
              "#9c179e"
             ],
             [
              0.4444444444444444,
              "#bd3786"
             ],
             [
              0.5555555555555556,
              "#d8576b"
             ],
             [
              0.6666666666666666,
              "#ed7953"
             ],
             [
              0.7777777777777778,
              "#fb9f3a"
             ],
             [
              0.8888888888888888,
              "#fdca26"
             ],
             [
              1,
              "#f0f921"
             ]
            ],
            "type": "histogram2d"
           }
          ],
          "histogram2dcontour": [
           {
            "colorbar": {
             "outlinewidth": 0,
             "ticks": ""
            },
            "colorscale": [
             [
              0,
              "#0d0887"
             ],
             [
              0.1111111111111111,
              "#46039f"
             ],
             [
              0.2222222222222222,
              "#7201a8"
             ],
             [
              0.3333333333333333,
              "#9c179e"
             ],
             [
              0.4444444444444444,
              "#bd3786"
             ],
             [
              0.5555555555555556,
              "#d8576b"
             ],
             [
              0.6666666666666666,
              "#ed7953"
             ],
             [
              0.7777777777777778,
              "#fb9f3a"
             ],
             [
              0.8888888888888888,
              "#fdca26"
             ],
             [
              1,
              "#f0f921"
             ]
            ],
            "type": "histogram2dcontour"
           }
          ],
          "mesh3d": [
           {
            "colorbar": {
             "outlinewidth": 0,
             "ticks": ""
            },
            "type": "mesh3d"
           }
          ],
          "parcoords": [
           {
            "line": {
             "colorbar": {
              "outlinewidth": 0,
              "ticks": ""
             }
            },
            "type": "parcoords"
           }
          ],
          "pie": [
           {
            "automargin": true,
            "type": "pie"
           }
          ],
          "scatter": [
           {
            "fillpattern": {
             "fillmode": "overlay",
             "size": 10,
             "solidity": 0.2
            },
            "type": "scatter"
           }
          ],
          "scatter3d": [
           {
            "line": {
             "colorbar": {
              "outlinewidth": 0,
              "ticks": ""
             }
            },
            "marker": {
             "colorbar": {
              "outlinewidth": 0,
              "ticks": ""
             }
            },
            "type": "scatter3d"
           }
          ],
          "scattercarpet": [
           {
            "marker": {
             "colorbar": {
              "outlinewidth": 0,
              "ticks": ""
             }
            },
            "type": "scattercarpet"
           }
          ],
          "scattergeo": [
           {
            "marker": {
             "colorbar": {
              "outlinewidth": 0,
              "ticks": ""
             }
            },
            "type": "scattergeo"
           }
          ],
          "scattergl": [
           {
            "marker": {
             "colorbar": {
              "outlinewidth": 0,
              "ticks": ""
             }
            },
            "type": "scattergl"
           }
          ],
          "scattermap": [
           {
            "marker": {
             "colorbar": {
              "outlinewidth": 0,
              "ticks": ""
             }
            },
            "type": "scattermap"
           }
          ],
          "scattermapbox": [
           {
            "marker": {
             "colorbar": {
              "outlinewidth": 0,
              "ticks": ""
             }
            },
            "type": "scattermapbox"
           }
          ],
          "scatterpolar": [
           {
            "marker": {
             "colorbar": {
              "outlinewidth": 0,
              "ticks": ""
             }
            },
            "type": "scatterpolar"
           }
          ],
          "scatterpolargl": [
           {
            "marker": {
             "colorbar": {
              "outlinewidth": 0,
              "ticks": ""
             }
            },
            "type": "scatterpolargl"
           }
          ],
          "scatterternary": [
           {
            "marker": {
             "colorbar": {
              "outlinewidth": 0,
              "ticks": ""
             }
            },
            "type": "scatterternary"
           }
          ],
          "surface": [
           {
            "colorbar": {
             "outlinewidth": 0,
             "ticks": ""
            },
            "colorscale": [
             [
              0,
              "#0d0887"
             ],
             [
              0.1111111111111111,
              "#46039f"
             ],
             [
              0.2222222222222222,
              "#7201a8"
             ],
             [
              0.3333333333333333,
              "#9c179e"
             ],
             [
              0.4444444444444444,
              "#bd3786"
             ],
             [
              0.5555555555555556,
              "#d8576b"
             ],
             [
              0.6666666666666666,
              "#ed7953"
             ],
             [
              0.7777777777777778,
              "#fb9f3a"
             ],
             [
              0.8888888888888888,
              "#fdca26"
             ],
             [
              1,
              "#f0f921"
             ]
            ],
            "type": "surface"
           }
          ],
          "table": [
           {
            "cells": {
             "fill": {
              "color": "#EBF0F8"
             },
             "line": {
              "color": "white"
             }
            },
            "header": {
             "fill": {
              "color": "#C8D4E3"
             },
             "line": {
              "color": "white"
             }
            },
            "type": "table"
           }
          ]
         },
         "layout": {
          "annotationdefaults": {
           "arrowcolor": "#2a3f5f",
           "arrowhead": 0,
           "arrowwidth": 1
          },
          "autotypenumbers": "strict",
          "coloraxis": {
           "colorbar": {
            "outlinewidth": 0,
            "ticks": ""
           }
          },
          "colorscale": {
           "diverging": [
            [
             0,
             "#8e0152"
            ],
            [
             0.1,
             "#c51b7d"
            ],
            [
             0.2,
             "#de77ae"
            ],
            [
             0.3,
             "#f1b6da"
            ],
            [
             0.4,
             "#fde0ef"
            ],
            [
             0.5,
             "#f7f7f7"
            ],
            [
             0.6,
             "#e6f5d0"
            ],
            [
             0.7,
             "#b8e186"
            ],
            [
             0.8,
             "#7fbc41"
            ],
            [
             0.9,
             "#4d9221"
            ],
            [
             1,
             "#276419"
            ]
           ],
           "sequential": [
            [
             0,
             "#0d0887"
            ],
            [
             0.1111111111111111,
             "#46039f"
            ],
            [
             0.2222222222222222,
             "#7201a8"
            ],
            [
             0.3333333333333333,
             "#9c179e"
            ],
            [
             0.4444444444444444,
             "#bd3786"
            ],
            [
             0.5555555555555556,
             "#d8576b"
            ],
            [
             0.6666666666666666,
             "#ed7953"
            ],
            [
             0.7777777777777778,
             "#fb9f3a"
            ],
            [
             0.8888888888888888,
             "#fdca26"
            ],
            [
             1,
             "#f0f921"
            ]
           ],
           "sequentialminus": [
            [
             0,
             "#0d0887"
            ],
            [
             0.1111111111111111,
             "#46039f"
            ],
            [
             0.2222222222222222,
             "#7201a8"
            ],
            [
             0.3333333333333333,
             "#9c179e"
            ],
            [
             0.4444444444444444,
             "#bd3786"
            ],
            [
             0.5555555555555556,
             "#d8576b"
            ],
            [
             0.6666666666666666,
             "#ed7953"
            ],
            [
             0.7777777777777778,
             "#fb9f3a"
            ],
            [
             0.8888888888888888,
             "#fdca26"
            ],
            [
             1,
             "#f0f921"
            ]
           ]
          },
          "colorway": [
           "#636efa",
           "#EF553B",
           "#00cc96",
           "#ab63fa",
           "#FFA15A",
           "#19d3f3",
           "#FF6692",
           "#B6E880",
           "#FF97FF",
           "#FECB52"
          ],
          "font": {
           "color": "#2a3f5f"
          },
          "geo": {
           "bgcolor": "white",
           "lakecolor": "white",
           "landcolor": "white",
           "showlakes": true,
           "showland": true,
           "subunitcolor": "#C8D4E3"
          },
          "hoverlabel": {
           "align": "left"
          },
          "hovermode": "closest",
          "mapbox": {
           "style": "light"
          },
          "paper_bgcolor": "white",
          "plot_bgcolor": "white",
          "polar": {
           "angularaxis": {
            "gridcolor": "#EBF0F8",
            "linecolor": "#EBF0F8",
            "ticks": ""
           },
           "bgcolor": "white",
           "radialaxis": {
            "gridcolor": "#EBF0F8",
            "linecolor": "#EBF0F8",
            "ticks": ""
           }
          },
          "scene": {
           "xaxis": {
            "backgroundcolor": "white",
            "gridcolor": "#DFE8F3",
            "gridwidth": 2,
            "linecolor": "#EBF0F8",
            "showbackground": true,
            "ticks": "",
            "zerolinecolor": "#EBF0F8"
           },
           "yaxis": {
            "backgroundcolor": "white",
            "gridcolor": "#DFE8F3",
            "gridwidth": 2,
            "linecolor": "#EBF0F8",
            "showbackground": true,
            "ticks": "",
            "zerolinecolor": "#EBF0F8"
           },
           "zaxis": {
            "backgroundcolor": "white",
            "gridcolor": "#DFE8F3",
            "gridwidth": 2,
            "linecolor": "#EBF0F8",
            "showbackground": true,
            "ticks": "",
            "zerolinecolor": "#EBF0F8"
           }
          },
          "shapedefaults": {
           "line": {
            "color": "#2a3f5f"
           }
          },
          "ternary": {
           "aaxis": {
            "gridcolor": "#DFE8F3",
            "linecolor": "#A2B1C6",
            "ticks": ""
           },
           "baxis": {
            "gridcolor": "#DFE8F3",
            "linecolor": "#A2B1C6",
            "ticks": ""
           },
           "bgcolor": "white",
           "caxis": {
            "gridcolor": "#DFE8F3",
            "linecolor": "#A2B1C6",
            "ticks": ""
           }
          },
          "title": {
           "x": 0.05
          },
          "xaxis": {
           "automargin": true,
           "gridcolor": "#EBF0F8",
           "linecolor": "#EBF0F8",
           "ticks": "",
           "title": {
            "standoff": 15
           },
           "zerolinecolor": "#EBF0F8",
           "zerolinewidth": 2
          },
          "yaxis": {
           "automargin": true,
           "gridcolor": "#EBF0F8",
           "linecolor": "#EBF0F8",
           "ticks": "",
           "title": {
            "standoff": 15
           },
           "zerolinecolor": "#EBF0F8",
           "zerolinewidth": 2
          }
         }
        },
        "title": {
         "text": "Tingkat Attrition (%) Berdasarkan Tahun Sejak Promosi Terakhir"
        },
        "xaxis": {
         "anchor": "y",
         "domain": [
          0,
          1
         ],
         "title": {
          "text": "Tahun Sejak Promosi Terakhir"
         }
        },
        "yaxis": {
         "anchor": "x",
         "domain": [
          0,
          1
         ],
         "title": {
          "text": "Tingkat Attrition (%)"
         }
        }
       }
      }
     },
     "metadata": {},
     "output_type": "display_data"
    }
   ],
   "source": [
    "promotion_attrition = df.groupby('PromotionCategory')['Attrition'].mean() * 100\n",
    "promotion_counts = df.groupby('PromotionCategory').size()\n",
    "\n",
    "order = ['Baru Dipromosikan', '1-2 Tahun', '3-5 Tahun', '> 5 Tahun']\n",
    "promotion_attrition = promotion_attrition.reindex(order)\n",
    "promotion_counts = promotion_counts.reindex(order)\n",
    "\n",
    "promotion_df = pd.DataFrame({\n",
    "    'Jumlah Karyawan': promotion_counts,\n",
    "    'Tingkat Attrition (%)': promotion_attrition\n",
    "})\n",
    "\n",
    "display(promotion_df)\n",
    "\n",
    "fig = px.line(\n",
    "    x=promotion_attrition.index,\n",
    "    y=promotion_attrition.values,\n",
    "    markers=True,\n",
    "    text=promotion_attrition.values.round(1),\n",
    "    title='Tingkat Attrition (%) Berdasarkan Tahun Sejak Promosi Terakhir',\n",
    "    labels={'x': 'Tahun Sejak Promosi Terakhir', 'y': 'Tingkat Attrition (%)'},\n",
    ")\n",
    "fig.update_traces(\n",
    "    marker=dict(size=10, color='blue'),\n",
    "    line=dict(width=3, color='purple'),\n",
    "    textposition='top center'\n",
    ")\n",
    "fig.update_layout(template='plotly_white')\n",
    "fig.show()\n",
    "fig.write_image(\"./visualisasi/tingkat_attrition_promotion.jpg\", scale=2)"
   ]
  },
  {
   "cell_type": "code",
   "execution_count": null,
   "id": "fad81b5d",
   "metadata": {},
   "outputs": [
    {
     "data": {
      "application/vnd.microsoft.datawrangler.viewer.v0+json": {
       "columns": [
        {
         "name": "AgeGroup",
         "rawType": "object",
         "type": "string"
        },
        {
         "name": "Jumlah Karyawan",
         "rawType": "int64",
         "type": "integer"
        },
        {
         "name": "Tingkat Attrition (%)",
         "rawType": "float64",
         "type": "float"
        }
       ],
       "conversionMethod": "pd.DataFrame",
       "ref": "a1888fe6-b712-4f3e-95ae-4f92b0da46cd",
       "rows": [
        [
         "< 30",
         "236",
         "29.66101694915254"
        ],
        [
         "30-39",
         "437",
         "15.102974828375288"
        ],
        [
         "40-49",
         "243",
         "10.699588477366255"
        ],
        [
         "50+",
         "142",
         "11.971830985915492"
        ]
       ],
       "shape": {
        "columns": 2,
        "rows": 4
       }
      },
      "text/html": [
       "<div>\n",
       "<style scoped>\n",
       "    .dataframe tbody tr th:only-of-type {\n",
       "        vertical-align: middle;\n",
       "    }\n",
       "\n",
       "    .dataframe tbody tr th {\n",
       "        vertical-align: top;\n",
       "    }\n",
       "\n",
       "    .dataframe thead th {\n",
       "        text-align: right;\n",
       "    }\n",
       "</style>\n",
       "<table border=\"1\" class=\"dataframe\">\n",
       "  <thead>\n",
       "    <tr style=\"text-align: right;\">\n",
       "      <th></th>\n",
       "      <th>Jumlah Karyawan</th>\n",
       "      <th>Tingkat Attrition (%)</th>\n",
       "    </tr>\n",
       "    <tr>\n",
       "      <th>AgeGroup</th>\n",
       "      <th></th>\n",
       "      <th></th>\n",
       "    </tr>\n",
       "  </thead>\n",
       "  <tbody>\n",
       "    <tr>\n",
       "      <th>&lt; 30</th>\n",
       "      <td>236</td>\n",
       "      <td>29.661017</td>\n",
       "    </tr>\n",
       "    <tr>\n",
       "      <th>30-39</th>\n",
       "      <td>437</td>\n",
       "      <td>15.102975</td>\n",
       "    </tr>\n",
       "    <tr>\n",
       "      <th>40-49</th>\n",
       "      <td>243</td>\n",
       "      <td>10.699588</td>\n",
       "    </tr>\n",
       "    <tr>\n",
       "      <th>50+</th>\n",
       "      <td>142</td>\n",
       "      <td>11.971831</td>\n",
       "    </tr>\n",
       "  </tbody>\n",
       "</table>\n",
       "</div>"
      ],
      "text/plain": [
       "          Jumlah Karyawan  Tingkat Attrition (%)\n",
       "AgeGroup                                        \n",
       "< 30                  236              29.661017\n",
       "30-39                 437              15.102975\n",
       "40-49                 243              10.699588\n",
       "50+                   142              11.971831"
      ]
     },
     "metadata": {},
     "output_type": "display_data"
    },
    {
     "data": {
      "application/vnd.plotly.v1+json": {
       "config": {
        "plotlyServerURL": "https://plot.ly"
       },
       "data": [
        {
         "marker": {
          "color": "royalblue"
         },
         "name": "Jumlah Karyawan",
         "opacity": 0.7,
         "type": "bar",
         "x": [
          "< 30",
          "30-39",
          "40-49",
          "50+"
         ],
         "xaxis": "x",
         "y": {
          "bdata": "7AC1AfMAjgA=",
          "dtype": "i2"
         },
         "yaxis": "y"
        },
        {
         "line": {
          "width": 3
         },
         "marker": {
          "color": "firebrick",
          "size": 10
         },
         "mode": "lines+markers",
         "name": "Tingkat Attrition (%)",
         "type": "scatter",
         "x": [
          "< 30",
          "30-39",
          "40-49",
          "50+"
         ],
         "xaxis": "x",
         "y": {
          "bdata": "PLYiaDipPUC8XeAduTQuQJzk/XUwZiVAMn671JPxJ0A=",
          "dtype": "f8"
         },
         "yaxis": "y2"
        }
       ],
       "layout": {
        "template": {
         "data": {
          "bar": [
           {
            "error_x": {
             "color": "#2a3f5f"
            },
            "error_y": {
             "color": "#2a3f5f"
            },
            "marker": {
             "line": {
              "color": "white",
              "width": 0.5
             },
             "pattern": {
              "fillmode": "overlay",
              "size": 10,
              "solidity": 0.2
             }
            },
            "type": "bar"
           }
          ],
          "barpolar": [
           {
            "marker": {
             "line": {
              "color": "white",
              "width": 0.5
             },
             "pattern": {
              "fillmode": "overlay",
              "size": 10,
              "solidity": 0.2
             }
            },
            "type": "barpolar"
           }
          ],
          "carpet": [
           {
            "aaxis": {
             "endlinecolor": "#2a3f5f",
             "gridcolor": "#C8D4E3",
             "linecolor": "#C8D4E3",
             "minorgridcolor": "#C8D4E3",
             "startlinecolor": "#2a3f5f"
            },
            "baxis": {
             "endlinecolor": "#2a3f5f",
             "gridcolor": "#C8D4E3",
             "linecolor": "#C8D4E3",
             "minorgridcolor": "#C8D4E3",
             "startlinecolor": "#2a3f5f"
            },
            "type": "carpet"
           }
          ],
          "choropleth": [
           {
            "colorbar": {
             "outlinewidth": 0,
             "ticks": ""
            },
            "type": "choropleth"
           }
          ],
          "contour": [
           {
            "colorbar": {
             "outlinewidth": 0,
             "ticks": ""
            },
            "colorscale": [
             [
              0,
              "#0d0887"
             ],
             [
              0.1111111111111111,
              "#46039f"
             ],
             [
              0.2222222222222222,
              "#7201a8"
             ],
             [
              0.3333333333333333,
              "#9c179e"
             ],
             [
              0.4444444444444444,
              "#bd3786"
             ],
             [
              0.5555555555555556,
              "#d8576b"
             ],
             [
              0.6666666666666666,
              "#ed7953"
             ],
             [
              0.7777777777777778,
              "#fb9f3a"
             ],
             [
              0.8888888888888888,
              "#fdca26"
             ],
             [
              1,
              "#f0f921"
             ]
            ],
            "type": "contour"
           }
          ],
          "contourcarpet": [
           {
            "colorbar": {
             "outlinewidth": 0,
             "ticks": ""
            },
            "type": "contourcarpet"
           }
          ],
          "heatmap": [
           {
            "colorbar": {
             "outlinewidth": 0,
             "ticks": ""
            },
            "colorscale": [
             [
              0,
              "#0d0887"
             ],
             [
              0.1111111111111111,
              "#46039f"
             ],
             [
              0.2222222222222222,
              "#7201a8"
             ],
             [
              0.3333333333333333,
              "#9c179e"
             ],
             [
              0.4444444444444444,
              "#bd3786"
             ],
             [
              0.5555555555555556,
              "#d8576b"
             ],
             [
              0.6666666666666666,
              "#ed7953"
             ],
             [
              0.7777777777777778,
              "#fb9f3a"
             ],
             [
              0.8888888888888888,
              "#fdca26"
             ],
             [
              1,
              "#f0f921"
             ]
            ],
            "type": "heatmap"
           }
          ],
          "histogram": [
           {
            "marker": {
             "pattern": {
              "fillmode": "overlay",
              "size": 10,
              "solidity": 0.2
             }
            },
            "type": "histogram"
           }
          ],
          "histogram2d": [
           {
            "colorbar": {
             "outlinewidth": 0,
             "ticks": ""
            },
            "colorscale": [
             [
              0,
              "#0d0887"
             ],
             [
              0.1111111111111111,
              "#46039f"
             ],
             [
              0.2222222222222222,
              "#7201a8"
             ],
             [
              0.3333333333333333,
              "#9c179e"
             ],
             [
              0.4444444444444444,
              "#bd3786"
             ],
             [
              0.5555555555555556,
              "#d8576b"
             ],
             [
              0.6666666666666666,
              "#ed7953"
             ],
             [
              0.7777777777777778,
              "#fb9f3a"
             ],
             [
              0.8888888888888888,
              "#fdca26"
             ],
             [
              1,
              "#f0f921"
             ]
            ],
            "type": "histogram2d"
           }
          ],
          "histogram2dcontour": [
           {
            "colorbar": {
             "outlinewidth": 0,
             "ticks": ""
            },
            "colorscale": [
             [
              0,
              "#0d0887"
             ],
             [
              0.1111111111111111,
              "#46039f"
             ],
             [
              0.2222222222222222,
              "#7201a8"
             ],
             [
              0.3333333333333333,
              "#9c179e"
             ],
             [
              0.4444444444444444,
              "#bd3786"
             ],
             [
              0.5555555555555556,
              "#d8576b"
             ],
             [
              0.6666666666666666,
              "#ed7953"
             ],
             [
              0.7777777777777778,
              "#fb9f3a"
             ],
             [
              0.8888888888888888,
              "#fdca26"
             ],
             [
              1,
              "#f0f921"
             ]
            ],
            "type": "histogram2dcontour"
           }
          ],
          "mesh3d": [
           {
            "colorbar": {
             "outlinewidth": 0,
             "ticks": ""
            },
            "type": "mesh3d"
           }
          ],
          "parcoords": [
           {
            "line": {
             "colorbar": {
              "outlinewidth": 0,
              "ticks": ""
             }
            },
            "type": "parcoords"
           }
          ],
          "pie": [
           {
            "automargin": true,
            "type": "pie"
           }
          ],
          "scatter": [
           {
            "fillpattern": {
             "fillmode": "overlay",
             "size": 10,
             "solidity": 0.2
            },
            "type": "scatter"
           }
          ],
          "scatter3d": [
           {
            "line": {
             "colorbar": {
              "outlinewidth": 0,
              "ticks": ""
             }
            },
            "marker": {
             "colorbar": {
              "outlinewidth": 0,
              "ticks": ""
             }
            },
            "type": "scatter3d"
           }
          ],
          "scattercarpet": [
           {
            "marker": {
             "colorbar": {
              "outlinewidth": 0,
              "ticks": ""
             }
            },
            "type": "scattercarpet"
           }
          ],
          "scattergeo": [
           {
            "marker": {
             "colorbar": {
              "outlinewidth": 0,
              "ticks": ""
             }
            },
            "type": "scattergeo"
           }
          ],
          "scattergl": [
           {
            "marker": {
             "colorbar": {
              "outlinewidth": 0,
              "ticks": ""
             }
            },
            "type": "scattergl"
           }
          ],
          "scattermap": [
           {
            "marker": {
             "colorbar": {
              "outlinewidth": 0,
              "ticks": ""
             }
            },
            "type": "scattermap"
           }
          ],
          "scattermapbox": [
           {
            "marker": {
             "colorbar": {
              "outlinewidth": 0,
              "ticks": ""
             }
            },
            "type": "scattermapbox"
           }
          ],
          "scatterpolar": [
           {
            "marker": {
             "colorbar": {
              "outlinewidth": 0,
              "ticks": ""
             }
            },
            "type": "scatterpolar"
           }
          ],
          "scatterpolargl": [
           {
            "marker": {
             "colorbar": {
              "outlinewidth": 0,
              "ticks": ""
             }
            },
            "type": "scatterpolargl"
           }
          ],
          "scatterternary": [
           {
            "marker": {
             "colorbar": {
              "outlinewidth": 0,
              "ticks": ""
             }
            },
            "type": "scatterternary"
           }
          ],
          "surface": [
           {
            "colorbar": {
             "outlinewidth": 0,
             "ticks": ""
            },
            "colorscale": [
             [
              0,
              "#0d0887"
             ],
             [
              0.1111111111111111,
              "#46039f"
             ],
             [
              0.2222222222222222,
              "#7201a8"
             ],
             [
              0.3333333333333333,
              "#9c179e"
             ],
             [
              0.4444444444444444,
              "#bd3786"
             ],
             [
              0.5555555555555556,
              "#d8576b"
             ],
             [
              0.6666666666666666,
              "#ed7953"
             ],
             [
              0.7777777777777778,
              "#fb9f3a"
             ],
             [
              0.8888888888888888,
              "#fdca26"
             ],
             [
              1,
              "#f0f921"
             ]
            ],
            "type": "surface"
           }
          ],
          "table": [
           {
            "cells": {
             "fill": {
              "color": "#EBF0F8"
             },
             "line": {
              "color": "white"
             }
            },
            "header": {
             "fill": {
              "color": "#C8D4E3"
             },
             "line": {
              "color": "white"
             }
            },
            "type": "table"
           }
          ]
         },
         "layout": {
          "annotationdefaults": {
           "arrowcolor": "#2a3f5f",
           "arrowhead": 0,
           "arrowwidth": 1
          },
          "autotypenumbers": "strict",
          "coloraxis": {
           "colorbar": {
            "outlinewidth": 0,
            "ticks": ""
           }
          },
          "colorscale": {
           "diverging": [
            [
             0,
             "#8e0152"
            ],
            [
             0.1,
             "#c51b7d"
            ],
            [
             0.2,
             "#de77ae"
            ],
            [
             0.3,
             "#f1b6da"
            ],
            [
             0.4,
             "#fde0ef"
            ],
            [
             0.5,
             "#f7f7f7"
            ],
            [
             0.6,
             "#e6f5d0"
            ],
            [
             0.7,
             "#b8e186"
            ],
            [
             0.8,
             "#7fbc41"
            ],
            [
             0.9,
             "#4d9221"
            ],
            [
             1,
             "#276419"
            ]
           ],
           "sequential": [
            [
             0,
             "#0d0887"
            ],
            [
             0.1111111111111111,
             "#46039f"
            ],
            [
             0.2222222222222222,
             "#7201a8"
            ],
            [
             0.3333333333333333,
             "#9c179e"
            ],
            [
             0.4444444444444444,
             "#bd3786"
            ],
            [
             0.5555555555555556,
             "#d8576b"
            ],
            [
             0.6666666666666666,
             "#ed7953"
            ],
            [
             0.7777777777777778,
             "#fb9f3a"
            ],
            [
             0.8888888888888888,
             "#fdca26"
            ],
            [
             1,
             "#f0f921"
            ]
           ],
           "sequentialminus": [
            [
             0,
             "#0d0887"
            ],
            [
             0.1111111111111111,
             "#46039f"
            ],
            [
             0.2222222222222222,
             "#7201a8"
            ],
            [
             0.3333333333333333,
             "#9c179e"
            ],
            [
             0.4444444444444444,
             "#bd3786"
            ],
            [
             0.5555555555555556,
             "#d8576b"
            ],
            [
             0.6666666666666666,
             "#ed7953"
            ],
            [
             0.7777777777777778,
             "#fb9f3a"
            ],
            [
             0.8888888888888888,
             "#fdca26"
            ],
            [
             1,
             "#f0f921"
            ]
           ]
          },
          "colorway": [
           "#636efa",
           "#EF553B",
           "#00cc96",
           "#ab63fa",
           "#FFA15A",
           "#19d3f3",
           "#FF6692",
           "#B6E880",
           "#FF97FF",
           "#FECB52"
          ],
          "font": {
           "color": "#2a3f5f"
          },
          "geo": {
           "bgcolor": "white",
           "lakecolor": "white",
           "landcolor": "white",
           "showlakes": true,
           "showland": true,
           "subunitcolor": "#C8D4E3"
          },
          "hoverlabel": {
           "align": "left"
          },
          "hovermode": "closest",
          "mapbox": {
           "style": "light"
          },
          "paper_bgcolor": "white",
          "plot_bgcolor": "white",
          "polar": {
           "angularaxis": {
            "gridcolor": "#EBF0F8",
            "linecolor": "#EBF0F8",
            "ticks": ""
           },
           "bgcolor": "white",
           "radialaxis": {
            "gridcolor": "#EBF0F8",
            "linecolor": "#EBF0F8",
            "ticks": ""
           }
          },
          "scene": {
           "xaxis": {
            "backgroundcolor": "white",
            "gridcolor": "#DFE8F3",
            "gridwidth": 2,
            "linecolor": "#EBF0F8",
            "showbackground": true,
            "ticks": "",
            "zerolinecolor": "#EBF0F8"
           },
           "yaxis": {
            "backgroundcolor": "white",
            "gridcolor": "#DFE8F3",
            "gridwidth": 2,
            "linecolor": "#EBF0F8",
            "showbackground": true,
            "ticks": "",
            "zerolinecolor": "#EBF0F8"
           },
           "zaxis": {
            "backgroundcolor": "white",
            "gridcolor": "#DFE8F3",
            "gridwidth": 2,
            "linecolor": "#EBF0F8",
            "showbackground": true,
            "ticks": "",
            "zerolinecolor": "#EBF0F8"
           }
          },
          "shapedefaults": {
           "line": {
            "color": "#2a3f5f"
           }
          },
          "ternary": {
           "aaxis": {
            "gridcolor": "#DFE8F3",
            "linecolor": "#A2B1C6",
            "ticks": ""
           },
           "baxis": {
            "gridcolor": "#DFE8F3",
            "linecolor": "#A2B1C6",
            "ticks": ""
           },
           "bgcolor": "white",
           "caxis": {
            "gridcolor": "#DFE8F3",
            "linecolor": "#A2B1C6",
            "ticks": ""
           }
          },
          "title": {
           "x": 0.05
          },
          "xaxis": {
           "automargin": true,
           "gridcolor": "#EBF0F8",
           "linecolor": "#EBF0F8",
           "ticks": "",
           "title": {
            "standoff": 15
           },
           "zerolinecolor": "#EBF0F8",
           "zerolinewidth": 2
          },
          "yaxis": {
           "automargin": true,
           "gridcolor": "#EBF0F8",
           "linecolor": "#EBF0F8",
           "ticks": "",
           "title": {
            "standoff": 15
           },
           "zerolinecolor": "#EBF0F8",
           "zerolinewidth": 2
          }
         }
        },
        "title": {
         "text": "Distribusi dan Tingkat Attrition Berdasarkan Kelompok Usia"
        },
        "xaxis": {
         "anchor": "y",
         "domain": [
          0,
          0.94
         ],
         "title": {
          "text": "Kelompok Usia"
         }
        },
        "yaxis": {
         "anchor": "x",
         "domain": [
          0,
          1
         ],
         "title": {
          "text": "Jumlah Karyawan"
         }
        },
        "yaxis2": {
         "anchor": "x",
         "overlaying": "y",
         "side": "right",
         "title": {
          "text": "Tingkat Attrition (%)"
         }
        }
       }
      }
     },
     "metadata": {},
     "output_type": "display_data"
    }
   ],
   "source": []
  },
  {
   "cell_type": "markdown",
   "id": "a9078820",
   "metadata": {},
   "source": [
    "## Multivariate"
   ]
  },
  {
   "cell_type": "code",
   "execution_count": 86,
   "id": "ffd8bea9",
   "metadata": {},
   "outputs": [
    {
     "name": "stdout",
     "output_type": "stream",
     "text": [
      "Tingkat Attrition (%) berdasarkan Overtime dan Job Satisfaction:\n"
     ]
    },
    {
     "data": {
      "application/vnd.microsoft.datawrangler.viewer.v0+json": {
       "columns": [
        {
         "name": "OverTime",
         "rawType": "object",
         "type": "string"
        },
        {
         "name": "Rendah",
         "rawType": "float64",
         "type": "float"
        },
        {
         "name": "Sedang",
         "rawType": "float64",
         "type": "float"
        },
        {
         "name": "Tinggi",
         "rawType": "float64",
         "type": "float"
        },
        {
         "name": "Sangat Tinggi",
         "rawType": "float64",
         "type": "float"
        }
       ],
       "conversionMethod": "pd.DataFrame",
       "ref": "3b252c7c-8358-43e5-9fd9-91be51720043",
       "rows": [
        [
         "No",
         "18.30985915492958",
         "8.51063829787234",
         "11.403508771929824",
         "7.083333333333333"
        ],
        [
         "Yes",
         "31.746031746031743",
         "37.03703703703704",
         "40.0",
         "22.0"
        ]
       ],
       "shape": {
        "columns": 4,
        "rows": 2
       }
      },
      "text/html": [
       "<div>\n",
       "<style scoped>\n",
       "    .dataframe tbody tr th:only-of-type {\n",
       "        vertical-align: middle;\n",
       "    }\n",
       "\n",
       "    .dataframe tbody tr th {\n",
       "        vertical-align: top;\n",
       "    }\n",
       "\n",
       "    .dataframe thead th {\n",
       "        text-align: right;\n",
       "    }\n",
       "</style>\n",
       "<table border=\"1\" class=\"dataframe\">\n",
       "  <thead>\n",
       "    <tr style=\"text-align: right;\">\n",
       "      <th></th>\n",
       "      <th>Rendah</th>\n",
       "      <th>Sedang</th>\n",
       "      <th>Tinggi</th>\n",
       "      <th>Sangat Tinggi</th>\n",
       "    </tr>\n",
       "    <tr>\n",
       "      <th>OverTime</th>\n",
       "      <th></th>\n",
       "      <th></th>\n",
       "      <th></th>\n",
       "      <th></th>\n",
       "    </tr>\n",
       "  </thead>\n",
       "  <tbody>\n",
       "    <tr>\n",
       "      <th>No</th>\n",
       "      <td>18.309859</td>\n",
       "      <td>8.510638</td>\n",
       "      <td>11.403509</td>\n",
       "      <td>7.083333</td>\n",
       "    </tr>\n",
       "    <tr>\n",
       "      <th>Yes</th>\n",
       "      <td>31.746032</td>\n",
       "      <td>37.037037</td>\n",
       "      <td>40.000000</td>\n",
       "      <td>22.000000</td>\n",
       "    </tr>\n",
       "  </tbody>\n",
       "</table>\n",
       "</div>"
      ],
      "text/plain": [
       "             Rendah     Sedang     Tinggi  Sangat Tinggi\n",
       "OverTime                                                \n",
       "No        18.309859   8.510638  11.403509       7.083333\n",
       "Yes       31.746032  37.037037  40.000000      22.000000"
      ]
     },
     "metadata": {},
     "output_type": "display_data"
    },
    {
     "data": {
      "application/vnd.plotly.v1+json": {
       "config": {
        "plotlyServerURL": "https://plot.ly"
       },
       "data": [
        {
         "coloraxis": "coloraxis",
         "hovertemplate": "Tingkat Kepuasan Kerja: %{x}<br>Overtime: %{y}<br>Attrition Rate (%): %{z}<extra></extra>",
         "name": "0",
         "texttemplate": "%{z:.1f}",
         "type": "heatmap",
         "x": [
          "Rendah",
          "Sedang",
          "Tinggi",
          "Sangat Tinggi"
         ],
         "xaxis": "x",
         "y": [
          "No",
          "Yes"
         ],
         "yaxis": "y",
         "z": {
          "bdata": "68n47VJPMkDE5ApicgUhQOksprOYziZAVVVVVVVVHEDv+77v+74/QExoL6G9hEJAAAAAAAAAREAAAAAAAAA2QA==",
          "dtype": "f8",
          "shape": "2, 4"
         }
        }
       ],
       "layout": {
        "coloraxis": {
         "colorbar": {
          "title": {
           "text": "Attrition Rate (%)"
          }
         },
         "colorscale": [
          [
           0,
           "rgb(0,104,55)"
          ],
          [
           0.1,
           "rgb(26,152,80)"
          ],
          [
           0.2,
           "rgb(102,189,99)"
          ],
          [
           0.3,
           "rgb(166,217,106)"
          ],
          [
           0.4,
           "rgb(217,239,139)"
          ],
          [
           0.5,
           "rgb(255,255,191)"
          ],
          [
           0.6,
           "rgb(254,224,139)"
          ],
          [
           0.7,
           "rgb(253,174,97)"
          ],
          [
           0.8,
           "rgb(244,109,67)"
          ],
          [
           0.9,
           "rgb(215,48,39)"
          ],
          [
           1,
           "rgb(165,0,38)"
          ]
         ]
        },
        "template": {
         "data": {
          "bar": [
           {
            "error_x": {
             "color": "#2a3f5f"
            },
            "error_y": {
             "color": "#2a3f5f"
            },
            "marker": {
             "line": {
              "color": "white",
              "width": 0.5
             },
             "pattern": {
              "fillmode": "overlay",
              "size": 10,
              "solidity": 0.2
             }
            },
            "type": "bar"
           }
          ],
          "barpolar": [
           {
            "marker": {
             "line": {
              "color": "white",
              "width": 0.5
             },
             "pattern": {
              "fillmode": "overlay",
              "size": 10,
              "solidity": 0.2
             }
            },
            "type": "barpolar"
           }
          ],
          "carpet": [
           {
            "aaxis": {
             "endlinecolor": "#2a3f5f",
             "gridcolor": "#C8D4E3",
             "linecolor": "#C8D4E3",
             "minorgridcolor": "#C8D4E3",
             "startlinecolor": "#2a3f5f"
            },
            "baxis": {
             "endlinecolor": "#2a3f5f",
             "gridcolor": "#C8D4E3",
             "linecolor": "#C8D4E3",
             "minorgridcolor": "#C8D4E3",
             "startlinecolor": "#2a3f5f"
            },
            "type": "carpet"
           }
          ],
          "choropleth": [
           {
            "colorbar": {
             "outlinewidth": 0,
             "ticks": ""
            },
            "type": "choropleth"
           }
          ],
          "contour": [
           {
            "colorbar": {
             "outlinewidth": 0,
             "ticks": ""
            },
            "colorscale": [
             [
              0,
              "#0d0887"
             ],
             [
              0.1111111111111111,
              "#46039f"
             ],
             [
              0.2222222222222222,
              "#7201a8"
             ],
             [
              0.3333333333333333,
              "#9c179e"
             ],
             [
              0.4444444444444444,
              "#bd3786"
             ],
             [
              0.5555555555555556,
              "#d8576b"
             ],
             [
              0.6666666666666666,
              "#ed7953"
             ],
             [
              0.7777777777777778,
              "#fb9f3a"
             ],
             [
              0.8888888888888888,
              "#fdca26"
             ],
             [
              1,
              "#f0f921"
             ]
            ],
            "type": "contour"
           }
          ],
          "contourcarpet": [
           {
            "colorbar": {
             "outlinewidth": 0,
             "ticks": ""
            },
            "type": "contourcarpet"
           }
          ],
          "heatmap": [
           {
            "colorbar": {
             "outlinewidth": 0,
             "ticks": ""
            },
            "colorscale": [
             [
              0,
              "#0d0887"
             ],
             [
              0.1111111111111111,
              "#46039f"
             ],
             [
              0.2222222222222222,
              "#7201a8"
             ],
             [
              0.3333333333333333,
              "#9c179e"
             ],
             [
              0.4444444444444444,
              "#bd3786"
             ],
             [
              0.5555555555555556,
              "#d8576b"
             ],
             [
              0.6666666666666666,
              "#ed7953"
             ],
             [
              0.7777777777777778,
              "#fb9f3a"
             ],
             [
              0.8888888888888888,
              "#fdca26"
             ],
             [
              1,
              "#f0f921"
             ]
            ],
            "type": "heatmap"
           }
          ],
          "histogram": [
           {
            "marker": {
             "pattern": {
              "fillmode": "overlay",
              "size": 10,
              "solidity": 0.2
             }
            },
            "type": "histogram"
           }
          ],
          "histogram2d": [
           {
            "colorbar": {
             "outlinewidth": 0,
             "ticks": ""
            },
            "colorscale": [
             [
              0,
              "#0d0887"
             ],
             [
              0.1111111111111111,
              "#46039f"
             ],
             [
              0.2222222222222222,
              "#7201a8"
             ],
             [
              0.3333333333333333,
              "#9c179e"
             ],
             [
              0.4444444444444444,
              "#bd3786"
             ],
             [
              0.5555555555555556,
              "#d8576b"
             ],
             [
              0.6666666666666666,
              "#ed7953"
             ],
             [
              0.7777777777777778,
              "#fb9f3a"
             ],
             [
              0.8888888888888888,
              "#fdca26"
             ],
             [
              1,
              "#f0f921"
             ]
            ],
            "type": "histogram2d"
           }
          ],
          "histogram2dcontour": [
           {
            "colorbar": {
             "outlinewidth": 0,
             "ticks": ""
            },
            "colorscale": [
             [
              0,
              "#0d0887"
             ],
             [
              0.1111111111111111,
              "#46039f"
             ],
             [
              0.2222222222222222,
              "#7201a8"
             ],
             [
              0.3333333333333333,
              "#9c179e"
             ],
             [
              0.4444444444444444,
              "#bd3786"
             ],
             [
              0.5555555555555556,
              "#d8576b"
             ],
             [
              0.6666666666666666,
              "#ed7953"
             ],
             [
              0.7777777777777778,
              "#fb9f3a"
             ],
             [
              0.8888888888888888,
              "#fdca26"
             ],
             [
              1,
              "#f0f921"
             ]
            ],
            "type": "histogram2dcontour"
           }
          ],
          "mesh3d": [
           {
            "colorbar": {
             "outlinewidth": 0,
             "ticks": ""
            },
            "type": "mesh3d"
           }
          ],
          "parcoords": [
           {
            "line": {
             "colorbar": {
              "outlinewidth": 0,
              "ticks": ""
             }
            },
            "type": "parcoords"
           }
          ],
          "pie": [
           {
            "automargin": true,
            "type": "pie"
           }
          ],
          "scatter": [
           {
            "fillpattern": {
             "fillmode": "overlay",
             "size": 10,
             "solidity": 0.2
            },
            "type": "scatter"
           }
          ],
          "scatter3d": [
           {
            "line": {
             "colorbar": {
              "outlinewidth": 0,
              "ticks": ""
             }
            },
            "marker": {
             "colorbar": {
              "outlinewidth": 0,
              "ticks": ""
             }
            },
            "type": "scatter3d"
           }
          ],
          "scattercarpet": [
           {
            "marker": {
             "colorbar": {
              "outlinewidth": 0,
              "ticks": ""
             }
            },
            "type": "scattercarpet"
           }
          ],
          "scattergeo": [
           {
            "marker": {
             "colorbar": {
              "outlinewidth": 0,
              "ticks": ""
             }
            },
            "type": "scattergeo"
           }
          ],
          "scattergl": [
           {
            "marker": {
             "colorbar": {
              "outlinewidth": 0,
              "ticks": ""
             }
            },
            "type": "scattergl"
           }
          ],
          "scattermap": [
           {
            "marker": {
             "colorbar": {
              "outlinewidth": 0,
              "ticks": ""
             }
            },
            "type": "scattermap"
           }
          ],
          "scattermapbox": [
           {
            "marker": {
             "colorbar": {
              "outlinewidth": 0,
              "ticks": ""
             }
            },
            "type": "scattermapbox"
           }
          ],
          "scatterpolar": [
           {
            "marker": {
             "colorbar": {
              "outlinewidth": 0,
              "ticks": ""
             }
            },
            "type": "scatterpolar"
           }
          ],
          "scatterpolargl": [
           {
            "marker": {
             "colorbar": {
              "outlinewidth": 0,
              "ticks": ""
             }
            },
            "type": "scatterpolargl"
           }
          ],
          "scatterternary": [
           {
            "marker": {
             "colorbar": {
              "outlinewidth": 0,
              "ticks": ""
             }
            },
            "type": "scatterternary"
           }
          ],
          "surface": [
           {
            "colorbar": {
             "outlinewidth": 0,
             "ticks": ""
            },
            "colorscale": [
             [
              0,
              "#0d0887"
             ],
             [
              0.1111111111111111,
              "#46039f"
             ],
             [
              0.2222222222222222,
              "#7201a8"
             ],
             [
              0.3333333333333333,
              "#9c179e"
             ],
             [
              0.4444444444444444,
              "#bd3786"
             ],
             [
              0.5555555555555556,
              "#d8576b"
             ],
             [
              0.6666666666666666,
              "#ed7953"
             ],
             [
              0.7777777777777778,
              "#fb9f3a"
             ],
             [
              0.8888888888888888,
              "#fdca26"
             ],
             [
              1,
              "#f0f921"
             ]
            ],
            "type": "surface"
           }
          ],
          "table": [
           {
            "cells": {
             "fill": {
              "color": "#EBF0F8"
             },
             "line": {
              "color": "white"
             }
            },
            "header": {
             "fill": {
              "color": "#C8D4E3"
             },
             "line": {
              "color": "white"
             }
            },
            "type": "table"
           }
          ]
         },
         "layout": {
          "annotationdefaults": {
           "arrowcolor": "#2a3f5f",
           "arrowhead": 0,
           "arrowwidth": 1
          },
          "autotypenumbers": "strict",
          "coloraxis": {
           "colorbar": {
            "outlinewidth": 0,
            "ticks": ""
           }
          },
          "colorscale": {
           "diverging": [
            [
             0,
             "#8e0152"
            ],
            [
             0.1,
             "#c51b7d"
            ],
            [
             0.2,
             "#de77ae"
            ],
            [
             0.3,
             "#f1b6da"
            ],
            [
             0.4,
             "#fde0ef"
            ],
            [
             0.5,
             "#f7f7f7"
            ],
            [
             0.6,
             "#e6f5d0"
            ],
            [
             0.7,
             "#b8e186"
            ],
            [
             0.8,
             "#7fbc41"
            ],
            [
             0.9,
             "#4d9221"
            ],
            [
             1,
             "#276419"
            ]
           ],
           "sequential": [
            [
             0,
             "#0d0887"
            ],
            [
             0.1111111111111111,
             "#46039f"
            ],
            [
             0.2222222222222222,
             "#7201a8"
            ],
            [
             0.3333333333333333,
             "#9c179e"
            ],
            [
             0.4444444444444444,
             "#bd3786"
            ],
            [
             0.5555555555555556,
             "#d8576b"
            ],
            [
             0.6666666666666666,
             "#ed7953"
            ],
            [
             0.7777777777777778,
             "#fb9f3a"
            ],
            [
             0.8888888888888888,
             "#fdca26"
            ],
            [
             1,
             "#f0f921"
            ]
           ],
           "sequentialminus": [
            [
             0,
             "#0d0887"
            ],
            [
             0.1111111111111111,
             "#46039f"
            ],
            [
             0.2222222222222222,
             "#7201a8"
            ],
            [
             0.3333333333333333,
             "#9c179e"
            ],
            [
             0.4444444444444444,
             "#bd3786"
            ],
            [
             0.5555555555555556,
             "#d8576b"
            ],
            [
             0.6666666666666666,
             "#ed7953"
            ],
            [
             0.7777777777777778,
             "#fb9f3a"
            ],
            [
             0.8888888888888888,
             "#fdca26"
            ],
            [
             1,
             "#f0f921"
            ]
           ]
          },
          "colorway": [
           "#636efa",
           "#EF553B",
           "#00cc96",
           "#ab63fa",
           "#FFA15A",
           "#19d3f3",
           "#FF6692",
           "#B6E880",
           "#FF97FF",
           "#FECB52"
          ],
          "font": {
           "color": "#2a3f5f"
          },
          "geo": {
           "bgcolor": "white",
           "lakecolor": "white",
           "landcolor": "white",
           "showlakes": true,
           "showland": true,
           "subunitcolor": "#C8D4E3"
          },
          "hoverlabel": {
           "align": "left"
          },
          "hovermode": "closest",
          "mapbox": {
           "style": "light"
          },
          "paper_bgcolor": "white",
          "plot_bgcolor": "white",
          "polar": {
           "angularaxis": {
            "gridcolor": "#EBF0F8",
            "linecolor": "#EBF0F8",
            "ticks": ""
           },
           "bgcolor": "white",
           "radialaxis": {
            "gridcolor": "#EBF0F8",
            "linecolor": "#EBF0F8",
            "ticks": ""
           }
          },
          "scene": {
           "xaxis": {
            "backgroundcolor": "white",
            "gridcolor": "#DFE8F3",
            "gridwidth": 2,
            "linecolor": "#EBF0F8",
            "showbackground": true,
            "ticks": "",
            "zerolinecolor": "#EBF0F8"
           },
           "yaxis": {
            "backgroundcolor": "white",
            "gridcolor": "#DFE8F3",
            "gridwidth": 2,
            "linecolor": "#EBF0F8",
            "showbackground": true,
            "ticks": "",
            "zerolinecolor": "#EBF0F8"
           },
           "zaxis": {
            "backgroundcolor": "white",
            "gridcolor": "#DFE8F3",
            "gridwidth": 2,
            "linecolor": "#EBF0F8",
            "showbackground": true,
            "ticks": "",
            "zerolinecolor": "#EBF0F8"
           }
          },
          "shapedefaults": {
           "line": {
            "color": "#2a3f5f"
           }
          },
          "ternary": {
           "aaxis": {
            "gridcolor": "#DFE8F3",
            "linecolor": "#A2B1C6",
            "ticks": ""
           },
           "baxis": {
            "gridcolor": "#DFE8F3",
            "linecolor": "#A2B1C6",
            "ticks": ""
           },
           "bgcolor": "white",
           "caxis": {
            "gridcolor": "#DFE8F3",
            "linecolor": "#A2B1C6",
            "ticks": ""
           }
          },
          "title": {
           "x": 0.05
          },
          "xaxis": {
           "automargin": true,
           "gridcolor": "#EBF0F8",
           "linecolor": "#EBF0F8",
           "ticks": "",
           "title": {
            "standoff": 15
           },
           "zerolinecolor": "#EBF0F8",
           "zerolinewidth": 2
          },
          "yaxis": {
           "automargin": true,
           "gridcolor": "#EBF0F8",
           "linecolor": "#EBF0F8",
           "ticks": "",
           "title": {
            "standoff": 15
           },
           "zerolinecolor": "#EBF0F8",
           "zerolinewidth": 2
          }
         }
        },
        "title": {
         "text": "Tingkat Attrition (%) Berdasarkan Overtime dan Job Satisfaction"
        },
        "xaxis": {
         "anchor": "y",
         "domain": [
          0,
          1
         ],
         "title": {
          "text": "Tingkat Kepuasan Kerja"
         }
        },
        "yaxis": {
         "anchor": "x",
         "autorange": "reversed",
         "domain": [
          0,
          1
         ],
         "title": {
          "text": "Overtime"
         }
        }
       }
      }
     },
     "metadata": {},
     "output_type": "display_data"
    },
    {
     "name": "stdout",
     "output_type": "stream",
     "text": [
      "Visualisasi telah disimpan sebagai './visualisasi/attrition_overtime_jobsatisfaction.jpg'\n"
     ]
    }
   ],
   "source": [
    "# 1. Analisis multivariate: Overtime, Job Satisfaction, dan Attrition\n",
    "# Membuat tabel pivot untuk melihat interaksi antara overtime dan tingkat kepuasan kerja\n",
    "pivot_overtime_satisfaction = pd.crosstab(\n",
    "    index=df['OverTime'],\n",
    "    columns=df['JobSatisfaction'],\n",
    "    values=df['Attrition'],\n",
    "    aggfunc='mean'\n",
    ") * 100\n",
    "\n",
    "# Ubah nilai job satisfaction menjadi kategori untuk memudahkan pembacaan\n",
    "satisfaction_labels = {1: 'Rendah', 2: 'Sedang', 3: 'Tinggi', 4: 'Sangat Tinggi'}\n",
    "pivot_overtime_satisfaction.columns = [satisfaction_labels[col] for col in pivot_overtime_satisfaction.columns]\n",
    "\n",
    "# Tampilkan dataframe\n",
    "print(\"Tingkat Attrition (%) berdasarkan Overtime dan Job Satisfaction:\")\n",
    "display(pivot_overtime_satisfaction)\n",
    "\n",
    "# Visualisasi dengan heatmap\n",
    "fig = px.imshow(\n",
    "    pivot_overtime_satisfaction,\n",
    "    text_auto='.1f',\n",
    "    aspect='auto',\n",
    "    color_continuous_scale='RdYlGn_r',\n",
    "    title='Tingkat Attrition (%) Berdasarkan Overtime dan Job Satisfaction',\n",
    "    labels=dict(x='Tingkat Kepuasan Kerja', y='Overtime', color='Attrition Rate (%)')\n",
    ")\n",
    "fig.update_layout(template='plotly_white')\n",
    "fig.show()\n",
    "\n",
    "# Simpan gambar\n",
    "fig.write_image(\"./visualisasi/attrition_overtime_jobsatisfaction.jpg\", scale=2)\n",
    "print(\"Visualisasi telah disimpan sebagai './visualisasi/attrition_overtime_jobsatisfaction.jpg'\")"
   ]
  },
  {
   "cell_type": "code",
   "execution_count": 87,
   "id": "6c609a90",
   "metadata": {},
   "outputs": [
    {
     "name": "stdout",
     "output_type": "stream",
     "text": [
      "Tingkat Attrition (%) berdasarkan Department dan Job Level:\n"
     ]
    },
    {
     "data": {
      "application/vnd.microsoft.datawrangler.viewer.v0+json": {
       "columns": [
        {
         "name": "Department",
         "rawType": "object",
         "type": "string"
        },
        {
         "name": "1",
         "rawType": "float64",
         "type": "float"
        },
        {
         "name": "2",
         "rawType": "float64",
         "type": "float"
        },
        {
         "name": "3",
         "rawType": "float64",
         "type": "float"
        },
        {
         "name": "4",
         "rawType": "float64",
         "type": "float"
        },
        {
         "name": "5",
         "rawType": "float64",
         "type": "float"
        }
       ],
       "conversionMethod": "pd.DataFrame",
       "ref": "725a2a03-d3c3-40ce-a134-7b0bff2e6405",
       "rows": [
        [
         "Human Resources",
         "22.22222222222222",
         "0.0",
         "50.0",
         "0.0",
         "0.0"
        ],
        [
         "Research & Development",
         "24.84472049689441",
         "5.851063829787234",
         "12.121212121212121",
         "1.9230769230769231",
         "7.5"
        ],
        [
         "Sales",
         "44.44444444444444",
         "15.476190476190476",
         "17.741935483870968",
         "12.0",
         "20.0"
        ]
       ],
       "shape": {
        "columns": 5,
        "rows": 3
       }
      },
      "text/html": [
       "<div>\n",
       "<style scoped>\n",
       "    .dataframe tbody tr th:only-of-type {\n",
       "        vertical-align: middle;\n",
       "    }\n",
       "\n",
       "    .dataframe tbody tr th {\n",
       "        vertical-align: top;\n",
       "    }\n",
       "\n",
       "    .dataframe thead th {\n",
       "        text-align: right;\n",
       "    }\n",
       "</style>\n",
       "<table border=\"1\" class=\"dataframe\">\n",
       "  <thead>\n",
       "    <tr style=\"text-align: right;\">\n",
       "      <th>JobLevel</th>\n",
       "      <th>1</th>\n",
       "      <th>2</th>\n",
       "      <th>3</th>\n",
       "      <th>4</th>\n",
       "      <th>5</th>\n",
       "    </tr>\n",
       "    <tr>\n",
       "      <th>Department</th>\n",
       "      <th></th>\n",
       "      <th></th>\n",
       "      <th></th>\n",
       "      <th></th>\n",
       "      <th></th>\n",
       "    </tr>\n",
       "  </thead>\n",
       "  <tbody>\n",
       "    <tr>\n",
       "      <th>Human Resources</th>\n",
       "      <td>22.222222</td>\n",
       "      <td>0.000000</td>\n",
       "      <td>50.000000</td>\n",
       "      <td>0.000000</td>\n",
       "      <td>0.0</td>\n",
       "    </tr>\n",
       "    <tr>\n",
       "      <th>Research &amp; Development</th>\n",
       "      <td>24.844720</td>\n",
       "      <td>5.851064</td>\n",
       "      <td>12.121212</td>\n",
       "      <td>1.923077</td>\n",
       "      <td>7.5</td>\n",
       "    </tr>\n",
       "    <tr>\n",
       "      <th>Sales</th>\n",
       "      <td>44.444444</td>\n",
       "      <td>15.476190</td>\n",
       "      <td>17.741935</td>\n",
       "      <td>12.000000</td>\n",
       "      <td>20.0</td>\n",
       "    </tr>\n",
       "  </tbody>\n",
       "</table>\n",
       "</div>"
      ],
      "text/plain": [
       "JobLevel                        1          2          3          4     5\n",
       "Department                                                              \n",
       "Human Resources         22.222222   0.000000  50.000000   0.000000   0.0\n",
       "Research & Development  24.844720   5.851064  12.121212   1.923077   7.5\n",
       "Sales                   44.444444  15.476190  17.741935  12.000000  20.0"
      ]
     },
     "metadata": {},
     "output_type": "display_data"
    },
    {
     "data": {
      "application/vnd.plotly.v1+json": {
       "config": {
        "plotlyServerURL": "https://plot.ly"
       },
       "data": [
        {
         "coloraxis": "coloraxis",
         "hovertemplate": "Job Level: %{x}<br>Department: %{y}<br>Attrition Rate (%): %{z}<extra></extra>",
         "name": "0",
         "texttemplate": "%{z:.1f}",
         "type": "heatmap",
         "x": {
          "bdata": "AQIDBAU=",
          "dtype": "i1"
         },
         "xaxis": "x",
         "y": [
          "Human Resources",
          "Research & Development",
          "Sales"
         ],
         "yaxis": "y",
         "z": {
          "bdata": "juM4juM4NkAAAAAAAAAAAAAAAAAAAElAAAAAAAAAAAAAAAAAAAAAACBsPJo/2DhAjvrORn1nF0A++OCDDz4oQE/sxE7sxP4/AAAAAAAAHkCO4ziO4zhGQD3P8zzP8y5Avvfee++9MUAAAAAAAAAoQAAAAAAAADRA",
          "dtype": "f8",
          "shape": "3, 5"
         }
        }
       ],
       "layout": {
        "coloraxis": {
         "colorbar": {
          "title": {
           "text": "Attrition Rate (%)"
          }
         },
         "colorscale": [
          [
           0,
           "#fde725"
          ],
          [
           0.1111111111111111,
           "#b5de2b"
          ],
          [
           0.2222222222222222,
           "#6ece58"
          ],
          [
           0.3333333333333333,
           "#35b779"
          ],
          [
           0.4444444444444444,
           "#1f9e89"
          ],
          [
           0.5555555555555556,
           "#26828e"
          ],
          [
           0.6666666666666666,
           "#31688e"
          ],
          [
           0.7777777777777778,
           "#3e4989"
          ],
          [
           0.8888888888888888,
           "#482878"
          ],
          [
           1,
           "#440154"
          ]
         ]
        },
        "template": {
         "data": {
          "bar": [
           {
            "error_x": {
             "color": "#2a3f5f"
            },
            "error_y": {
             "color": "#2a3f5f"
            },
            "marker": {
             "line": {
              "color": "white",
              "width": 0.5
             },
             "pattern": {
              "fillmode": "overlay",
              "size": 10,
              "solidity": 0.2
             }
            },
            "type": "bar"
           }
          ],
          "barpolar": [
           {
            "marker": {
             "line": {
              "color": "white",
              "width": 0.5
             },
             "pattern": {
              "fillmode": "overlay",
              "size": 10,
              "solidity": 0.2
             }
            },
            "type": "barpolar"
           }
          ],
          "carpet": [
           {
            "aaxis": {
             "endlinecolor": "#2a3f5f",
             "gridcolor": "#C8D4E3",
             "linecolor": "#C8D4E3",
             "minorgridcolor": "#C8D4E3",
             "startlinecolor": "#2a3f5f"
            },
            "baxis": {
             "endlinecolor": "#2a3f5f",
             "gridcolor": "#C8D4E3",
             "linecolor": "#C8D4E3",
             "minorgridcolor": "#C8D4E3",
             "startlinecolor": "#2a3f5f"
            },
            "type": "carpet"
           }
          ],
          "choropleth": [
           {
            "colorbar": {
             "outlinewidth": 0,
             "ticks": ""
            },
            "type": "choropleth"
           }
          ],
          "contour": [
           {
            "colorbar": {
             "outlinewidth": 0,
             "ticks": ""
            },
            "colorscale": [
             [
              0,
              "#0d0887"
             ],
             [
              0.1111111111111111,
              "#46039f"
             ],
             [
              0.2222222222222222,
              "#7201a8"
             ],
             [
              0.3333333333333333,
              "#9c179e"
             ],
             [
              0.4444444444444444,
              "#bd3786"
             ],
             [
              0.5555555555555556,
              "#d8576b"
             ],
             [
              0.6666666666666666,
              "#ed7953"
             ],
             [
              0.7777777777777778,
              "#fb9f3a"
             ],
             [
              0.8888888888888888,
              "#fdca26"
             ],
             [
              1,
              "#f0f921"
             ]
            ],
            "type": "contour"
           }
          ],
          "contourcarpet": [
           {
            "colorbar": {
             "outlinewidth": 0,
             "ticks": ""
            },
            "type": "contourcarpet"
           }
          ],
          "heatmap": [
           {
            "colorbar": {
             "outlinewidth": 0,
             "ticks": ""
            },
            "colorscale": [
             [
              0,
              "#0d0887"
             ],
             [
              0.1111111111111111,
              "#46039f"
             ],
             [
              0.2222222222222222,
              "#7201a8"
             ],
             [
              0.3333333333333333,
              "#9c179e"
             ],
             [
              0.4444444444444444,
              "#bd3786"
             ],
             [
              0.5555555555555556,
              "#d8576b"
             ],
             [
              0.6666666666666666,
              "#ed7953"
             ],
             [
              0.7777777777777778,
              "#fb9f3a"
             ],
             [
              0.8888888888888888,
              "#fdca26"
             ],
             [
              1,
              "#f0f921"
             ]
            ],
            "type": "heatmap"
           }
          ],
          "histogram": [
           {
            "marker": {
             "pattern": {
              "fillmode": "overlay",
              "size": 10,
              "solidity": 0.2
             }
            },
            "type": "histogram"
           }
          ],
          "histogram2d": [
           {
            "colorbar": {
             "outlinewidth": 0,
             "ticks": ""
            },
            "colorscale": [
             [
              0,
              "#0d0887"
             ],
             [
              0.1111111111111111,
              "#46039f"
             ],
             [
              0.2222222222222222,
              "#7201a8"
             ],
             [
              0.3333333333333333,
              "#9c179e"
             ],
             [
              0.4444444444444444,
              "#bd3786"
             ],
             [
              0.5555555555555556,
              "#d8576b"
             ],
             [
              0.6666666666666666,
              "#ed7953"
             ],
             [
              0.7777777777777778,
              "#fb9f3a"
             ],
             [
              0.8888888888888888,
              "#fdca26"
             ],
             [
              1,
              "#f0f921"
             ]
            ],
            "type": "histogram2d"
           }
          ],
          "histogram2dcontour": [
           {
            "colorbar": {
             "outlinewidth": 0,
             "ticks": ""
            },
            "colorscale": [
             [
              0,
              "#0d0887"
             ],
             [
              0.1111111111111111,
              "#46039f"
             ],
             [
              0.2222222222222222,
              "#7201a8"
             ],
             [
              0.3333333333333333,
              "#9c179e"
             ],
             [
              0.4444444444444444,
              "#bd3786"
             ],
             [
              0.5555555555555556,
              "#d8576b"
             ],
             [
              0.6666666666666666,
              "#ed7953"
             ],
             [
              0.7777777777777778,
              "#fb9f3a"
             ],
             [
              0.8888888888888888,
              "#fdca26"
             ],
             [
              1,
              "#f0f921"
             ]
            ],
            "type": "histogram2dcontour"
           }
          ],
          "mesh3d": [
           {
            "colorbar": {
             "outlinewidth": 0,
             "ticks": ""
            },
            "type": "mesh3d"
           }
          ],
          "parcoords": [
           {
            "line": {
             "colorbar": {
              "outlinewidth": 0,
              "ticks": ""
             }
            },
            "type": "parcoords"
           }
          ],
          "pie": [
           {
            "automargin": true,
            "type": "pie"
           }
          ],
          "scatter": [
           {
            "fillpattern": {
             "fillmode": "overlay",
             "size": 10,
             "solidity": 0.2
            },
            "type": "scatter"
           }
          ],
          "scatter3d": [
           {
            "line": {
             "colorbar": {
              "outlinewidth": 0,
              "ticks": ""
             }
            },
            "marker": {
             "colorbar": {
              "outlinewidth": 0,
              "ticks": ""
             }
            },
            "type": "scatter3d"
           }
          ],
          "scattercarpet": [
           {
            "marker": {
             "colorbar": {
              "outlinewidth": 0,
              "ticks": ""
             }
            },
            "type": "scattercarpet"
           }
          ],
          "scattergeo": [
           {
            "marker": {
             "colorbar": {
              "outlinewidth": 0,
              "ticks": ""
             }
            },
            "type": "scattergeo"
           }
          ],
          "scattergl": [
           {
            "marker": {
             "colorbar": {
              "outlinewidth": 0,
              "ticks": ""
             }
            },
            "type": "scattergl"
           }
          ],
          "scattermap": [
           {
            "marker": {
             "colorbar": {
              "outlinewidth": 0,
              "ticks": ""
             }
            },
            "type": "scattermap"
           }
          ],
          "scattermapbox": [
           {
            "marker": {
             "colorbar": {
              "outlinewidth": 0,
              "ticks": ""
             }
            },
            "type": "scattermapbox"
           }
          ],
          "scatterpolar": [
           {
            "marker": {
             "colorbar": {
              "outlinewidth": 0,
              "ticks": ""
             }
            },
            "type": "scatterpolar"
           }
          ],
          "scatterpolargl": [
           {
            "marker": {
             "colorbar": {
              "outlinewidth": 0,
              "ticks": ""
             }
            },
            "type": "scatterpolargl"
           }
          ],
          "scatterternary": [
           {
            "marker": {
             "colorbar": {
              "outlinewidth": 0,
              "ticks": ""
             }
            },
            "type": "scatterternary"
           }
          ],
          "surface": [
           {
            "colorbar": {
             "outlinewidth": 0,
             "ticks": ""
            },
            "colorscale": [
             [
              0,
              "#0d0887"
             ],
             [
              0.1111111111111111,
              "#46039f"
             ],
             [
              0.2222222222222222,
              "#7201a8"
             ],
             [
              0.3333333333333333,
              "#9c179e"
             ],
             [
              0.4444444444444444,
              "#bd3786"
             ],
             [
              0.5555555555555556,
              "#d8576b"
             ],
             [
              0.6666666666666666,
              "#ed7953"
             ],
             [
              0.7777777777777778,
              "#fb9f3a"
             ],
             [
              0.8888888888888888,
              "#fdca26"
             ],
             [
              1,
              "#f0f921"
             ]
            ],
            "type": "surface"
           }
          ],
          "table": [
           {
            "cells": {
             "fill": {
              "color": "#EBF0F8"
             },
             "line": {
              "color": "white"
             }
            },
            "header": {
             "fill": {
              "color": "#C8D4E3"
             },
             "line": {
              "color": "white"
             }
            },
            "type": "table"
           }
          ]
         },
         "layout": {
          "annotationdefaults": {
           "arrowcolor": "#2a3f5f",
           "arrowhead": 0,
           "arrowwidth": 1
          },
          "autotypenumbers": "strict",
          "coloraxis": {
           "colorbar": {
            "outlinewidth": 0,
            "ticks": ""
           }
          },
          "colorscale": {
           "diverging": [
            [
             0,
             "#8e0152"
            ],
            [
             0.1,
             "#c51b7d"
            ],
            [
             0.2,
             "#de77ae"
            ],
            [
             0.3,
             "#f1b6da"
            ],
            [
             0.4,
             "#fde0ef"
            ],
            [
             0.5,
             "#f7f7f7"
            ],
            [
             0.6,
             "#e6f5d0"
            ],
            [
             0.7,
             "#b8e186"
            ],
            [
             0.8,
             "#7fbc41"
            ],
            [
             0.9,
             "#4d9221"
            ],
            [
             1,
             "#276419"
            ]
           ],
           "sequential": [
            [
             0,
             "#0d0887"
            ],
            [
             0.1111111111111111,
             "#46039f"
            ],
            [
             0.2222222222222222,
             "#7201a8"
            ],
            [
             0.3333333333333333,
             "#9c179e"
            ],
            [
             0.4444444444444444,
             "#bd3786"
            ],
            [
             0.5555555555555556,
             "#d8576b"
            ],
            [
             0.6666666666666666,
             "#ed7953"
            ],
            [
             0.7777777777777778,
             "#fb9f3a"
            ],
            [
             0.8888888888888888,
             "#fdca26"
            ],
            [
             1,
             "#f0f921"
            ]
           ],
           "sequentialminus": [
            [
             0,
             "#0d0887"
            ],
            [
             0.1111111111111111,
             "#46039f"
            ],
            [
             0.2222222222222222,
             "#7201a8"
            ],
            [
             0.3333333333333333,
             "#9c179e"
            ],
            [
             0.4444444444444444,
             "#bd3786"
            ],
            [
             0.5555555555555556,
             "#d8576b"
            ],
            [
             0.6666666666666666,
             "#ed7953"
            ],
            [
             0.7777777777777778,
             "#fb9f3a"
            ],
            [
             0.8888888888888888,
             "#fdca26"
            ],
            [
             1,
             "#f0f921"
            ]
           ]
          },
          "colorway": [
           "#636efa",
           "#EF553B",
           "#00cc96",
           "#ab63fa",
           "#FFA15A",
           "#19d3f3",
           "#FF6692",
           "#B6E880",
           "#FF97FF",
           "#FECB52"
          ],
          "font": {
           "color": "#2a3f5f"
          },
          "geo": {
           "bgcolor": "white",
           "lakecolor": "white",
           "landcolor": "white",
           "showlakes": true,
           "showland": true,
           "subunitcolor": "#C8D4E3"
          },
          "hoverlabel": {
           "align": "left"
          },
          "hovermode": "closest",
          "mapbox": {
           "style": "light"
          },
          "paper_bgcolor": "white",
          "plot_bgcolor": "white",
          "polar": {
           "angularaxis": {
            "gridcolor": "#EBF0F8",
            "linecolor": "#EBF0F8",
            "ticks": ""
           },
           "bgcolor": "white",
           "radialaxis": {
            "gridcolor": "#EBF0F8",
            "linecolor": "#EBF0F8",
            "ticks": ""
           }
          },
          "scene": {
           "xaxis": {
            "backgroundcolor": "white",
            "gridcolor": "#DFE8F3",
            "gridwidth": 2,
            "linecolor": "#EBF0F8",
            "showbackground": true,
            "ticks": "",
            "zerolinecolor": "#EBF0F8"
           },
           "yaxis": {
            "backgroundcolor": "white",
            "gridcolor": "#DFE8F3",
            "gridwidth": 2,
            "linecolor": "#EBF0F8",
            "showbackground": true,
            "ticks": "",
            "zerolinecolor": "#EBF0F8"
           },
           "zaxis": {
            "backgroundcolor": "white",
            "gridcolor": "#DFE8F3",
            "gridwidth": 2,
            "linecolor": "#EBF0F8",
            "showbackground": true,
            "ticks": "",
            "zerolinecolor": "#EBF0F8"
           }
          },
          "shapedefaults": {
           "line": {
            "color": "#2a3f5f"
           }
          },
          "ternary": {
           "aaxis": {
            "gridcolor": "#DFE8F3",
            "linecolor": "#A2B1C6",
            "ticks": ""
           },
           "baxis": {
            "gridcolor": "#DFE8F3",
            "linecolor": "#A2B1C6",
            "ticks": ""
           },
           "bgcolor": "white",
           "caxis": {
            "gridcolor": "#DFE8F3",
            "linecolor": "#A2B1C6",
            "ticks": ""
           }
          },
          "title": {
           "x": 0.05
          },
          "xaxis": {
           "automargin": true,
           "gridcolor": "#EBF0F8",
           "linecolor": "#EBF0F8",
           "ticks": "",
           "title": {
            "standoff": 15
           },
           "zerolinecolor": "#EBF0F8",
           "zerolinewidth": 2
          },
          "yaxis": {
           "automargin": true,
           "gridcolor": "#EBF0F8",
           "linecolor": "#EBF0F8",
           "ticks": "",
           "title": {
            "standoff": 15
           },
           "zerolinecolor": "#EBF0F8",
           "zerolinewidth": 2
          }
         }
        },
        "title": {
         "text": "Tingkat Attrition (%) Berdasarkan Department dan Job Level"
        },
        "xaxis": {
         "anchor": "y",
         "domain": [
          0,
          1
         ],
         "title": {
          "text": "Job Level"
         }
        },
        "yaxis": {
         "anchor": "x",
         "autorange": "reversed",
         "domain": [
          0,
          1
         ],
         "title": {
          "text": "Department"
         }
        }
       }
      }
     },
     "metadata": {},
     "output_type": "display_data"
    },
    {
     "name": "stdout",
     "output_type": "stream",
     "text": [
      "Visualisasi telah disimpan sebagai './visualisasi/attrition_department_joblevel.jpg'\n"
     ]
    }
   ],
   "source": [
    "# 2. Analisis multivariate: Department, Job Level, dan Attrition\n",
    "# Membuat tabel pivot untuk melihat interaksi antara department dan job level\n",
    "pivot_dept_joblevel = pd.crosstab(\n",
    "    index=df['Department'],\n",
    "    columns=df['JobLevel'],\n",
    "    values=df['Attrition'],\n",
    "    aggfunc='mean'\n",
    ") * 100\n",
    "\n",
    "# Tampilkan dataframe\n",
    "print(\"Tingkat Attrition (%) berdasarkan Department dan Job Level:\")\n",
    "display(pivot_dept_joblevel)\n",
    "\n",
    "# Visualisasi dengan heatmap\n",
    "fig = px.imshow(\n",
    "    pivot_dept_joblevel,\n",
    "    text_auto='.1f',\n",
    "    aspect='auto',\n",
    "    color_continuous_scale='Viridis_r',\n",
    "    title='Tingkat Attrition (%) Berdasarkan Department dan Job Level',\n",
    "    labels=dict(x='Job Level', y='Department', color='Attrition Rate (%)')\n",
    ")\n",
    "fig.update_layout(template='plotly_white')\n",
    "fig.show()\n",
    "\n",
    "# Simpan gambar\n",
    "fig.write_image(\"./visualisasi/attrition_department_joblevel.jpg\", scale=2)\n",
    "print(\"Visualisasi telah disimpan sebagai './visualisasi/attrition_department_joblevel.jpg'\")"
   ]
  },
  {
   "cell_type": "code",
   "execution_count": 88,
   "id": "ba17c532",
   "metadata": {},
   "outputs": [
    {
     "data": {
      "application/vnd.plotly.v1+json": {
       "config": {
        "plotlyServerURL": "https://plot.ly"
       },
       "data": [
        {
         "customdata": {
          "bdata": "JQECKhQCJAgEIAcEGQUBFAEBKgEEJxQDNgQBMQEDKBQDKQ4EOwIDHgoDJgcDHAMDJAEEHAUDMgICJxIEIwUCIAoCGgEDHgsEJgkDFQMDIwgDGgYCIAgCIAoEIgcDIQoCLwUEHgIDJQ4DJgIEKwQDOwEEKgUDLQgCFQEEFwMBNgYBKQoDLRMENwEEIgoDOQwDIQMCIAMEFQIDIgIDGwcDJAcDKRYDIQ0EEgADGwcCFgIEKgYEHQoEIwkEJQkCNCAEHwgEHQEDIAQDKwgEIQMEHAUCGwkBJQEDGwQDJQkEHwoBMAEEJAkCJQ4EJggEIAUEHAgDKwMDIQoDKwECJQUBGAIEKBQCNwkEIgoBEgADKRYCLAEDKgkCMwcCHwUEHwQBHgMCJAIDHAQDHgYBIwIEOwkEJwYDHQoEJAgCHgMBKwEBHwIEHggEFwQBFQEBLgcENQIEMQQBIgkDIwMBIwUDHAUBIA4EKwUEJQYEJgEDKhQDHgEDNQkCHQICIgUEHAUEJQUELAIDIgUDHAcEKAcBIgMBLAUCGQQBIgQBPB0BIAQEJAYEIAgDKhQBGAUDMAICMgUENgoEHgECMwQELAUDIAoCLBkBNRkENwoCIgIDJA4EJAoEHAADIwMELRQEGwQEKRIBHgsEIAEBNxgCIAoDNgUDIQIEGwICJQEEJgoCKgEENgoDHQUCGgcBHwcELQEBKwQBHQoDHggDKBYCOAcBGQMDKgQBIAkEIAoEGwMDJgIDJQUELRgEEwEBKAwEKwkDIwEDNCIBMQ8BJQYDKwMEFwABNQwEIg0BOgEDIgYEHgsDIAUDJA0CKAACJAkCFQAEIhADJwUELQoEHwUCHwIDHgkEIgkEGwEBJwgDHQoDHQoELAMBGgUCMAkEJQUEHwMCMQkEIgsCIgUDJxMDJQEEIwsDJAEEGAUEIAMCIgYBGgcBIQUBJgIDJQMDIAYBIQ4EOwYEHAUEGwkDMA8DKQUBJAsCKAMEHwsEIwoDGAQDFwEDHAgBPAIBKRUEGAQCHQQEJQEDGgUCGQIBJRIBJAUBKQEBJg8BJgABMxQDLQUEGAECMQUDGAQDFgIDKhgEJQcDJA8BMgQEIQ0DHgoEJAUBGwMEKhYBJAEDJQoDKBUDKBQDHgoEIQMBHwUDMQQBHAUBJAcDGgYBHwkDKAEBGwICLgIDJQUDGgADMgcEHwQBGgUDIQQBHAUEHgoDHwECFgIEKwgEPBIBIQQEMQMDLQYCKxkCIg4BFwIDIwMEFwQEGQYEKwUEGQQENAUEJA0EGggEOAUDJgICJA8EGgUBHQsBHwEDKwIEJAoBKAQCFgIEGggEHAUEKgEELAADHAECEwEELQEDMgEEMw0BIAsDIAgEIAEBHQICIwUEHQMEGAIDIAQCHAkEIwcCIgABNCEDIwYCMiACMgIBOQMDHwcEIQUEIQcCIggDMwQEMgoCLgsCFgQBHQsELhoBHQoBJgoEKQkDKAgDMgIEHwoDLRECNAQEOigEHQACLBYEJAYCJAkEGQQDLgEDHQMEGggDNwkBIwEEIAgBHAIDLQMDKgkCHQQDOxUBHwUDJhMDHgUEJxIEIgAEKQEBKRYDHgIDHgwBGwEDJhADJAcEIAUBJw8DLgoDJwgCIgwCIwEELgQBHgUEHQcEIgYDMAIDIgoENAUBGQIELgIBHQMEKQgCLQIEHgMBIQoDIQUDKgwEKxUEJxUEJwMDMwcEKAwDIAoEHAIDKBQDLRgBIwkBMAoEKAkEFQMDNREDIwIEJAgCJBEDMQkCJAEENQUDNQIEHwoCHQoBFAIDGQMEIggCFgICMAADEgAEIxACMAMBKBQDNwMCHw0CJAMCJgcBOwQDIwoEIgECIgECKQoBHwIDEwEEIAUDMhIDJAsELBYCGQMCIQMEMgMDGQICIwUDOQEEJwEEMwQCIQYDJgECJQECIQkBJwgDFgIDNAUDKAsEIwUDHQoDHAMBJAsDIgoCJxUELAoEMRoCHgQBKAkCLAUDNAkENhQEIwEBHQgDFgAEJgEDIQkBHw0BHQYDHQMENgQDLwYEJAcDHQUCIAcEKhYEOiUDJQYEHwcEGggDIwUDHgUEIgMDKwEEIwECNgEDFAIEKRIDOAcCLBQEIgEDIgMEIgMDEgAEIQIEJBEBIgQEGQMEHgkBHAoBKgEDHAQEIwMEJREEKAEDKRUDHgwEJAoDNQcDGgQEGwICNAgCHQMEKgUBHgMCIwsCGgQBIAcEHgoDHwkEGwIBLgkELgMDEgADGQMBMAIBHwMCIQUEJQYCHQYELAoEKAgCIgoEOAMBIQEELgwDLQACNwcEGwEEKgUDHQYDLwcBIAICIg4EJQYEIAMEGwgCJgcEIg8EGwAEJggELwMDJgcEHgUDGwUDLgcBNxMDGgMEIwIEKgoEKAUCEwECMQgCFAECIA0DJAoEGgIEGwQBKgIDIg0BIQMCHgEDIwgDKgYBIgYEMhsDLQYEFQECJQMBIQcEHgEBGwkBMh8BJAMBLQEBLgYENgkCIQUDJwUCJgIENgkDFAIDKAEDIgUCHgEDMgUCHwECKQcBNAkEKAkEMwQCKAMDHQoEKAECHgUEHQMEIwoCLQkEKwgBLxQDMwUCLggDLBQBHQcELhgBKAUCHgYBGQcDHwMBJgQBIwIDLQ8DOAUBOwMEHgoDFQMEOAoELgQCIw8BKBIDJAgBHwICJAUCLQgDMxQDNQ8CHwEDIwYBGwUBGwUCIgsBGAMDJgQDKRMCHgUDLgIEGwcBIgQBJAEEIgQDGgEDMAECNQQBHw0EGwYEIAUCOAYEMwEDMgQDHAkCIQ0DKQIDNAgCHAYBGwQELwADLAMCIQgCIwcCIgsBKwUDIgIEJQQCIA4DHwIBGQYBHAECIw0CIQMEHgoDGAECLQkCGQIDIwYDMAADNQ4DHwcDOgIDHwEEJwgDMwoCKQkBHQcCMQoCMwEEGAECJwUBNAIEIxEEGgIBIgMCMwcDKgUDJgkEIgUCGwUDNgQDMAUELAUCNQ4BHAoBKAQDEwAB",
          "dtype": "i1",
          "shape": "751, 3"
         },
         "hovertemplate": "<b>%{hovertext}</b><br><br>Status Overtime=No<br>Gaji Bulanan=%{x}<br>Jarak dari Rumah (km)=%{y}<br>Age=%{customdata[0]}<br>YearsAtCompany=%{customdata[1]}<br>JobSatisfaction=%{customdata[2]}<br>Status Attrition=%{marker.color}<extra></extra>",
         "hovertext": [
          "Healthcare Representative",
          "Sales Executive",
          "Laboratory Technician",
          "Research Director",
          "Sales Executive",
          "Laboratory Technician",
          "Research Director",
          "Healthcare Representative",
          "Research Director",
          "Manager",
          "Manufacturing Director",
          "Sales Executive",
          "Human Resources",
          "Laboratory Technician",
          "Human Resources",
          "Sales Representative",
          "Sales Executive",
          "Sales Executive",
          "Sales Representative",
          "Healthcare Representative",
          "Laboratory Technician",
          "Sales Executive",
          "Laboratory Technician",
          "Healthcare Representative",
          "Manufacturing Director",
          "Sales Representative",
          "Manufacturing Director",
          "Manufacturing Director",
          "Laboratory Technician",
          "Sales Executive",
          "Research Scientist",
          "Manager",
          "Manufacturing Director",
          "Laboratory Technician",
          "Sales Executive",
          "Laboratory Technician",
          "Sales Executive",
          "Research Scientist",
          "Manufacturing Director",
          "Sales Executive",
          "Research Scientist",
          "Research Scientist",
          "Sales Executive",
          "Research Scientist",
          "Sales Executive",
          "Sales Executive",
          "Manufacturing Director",
          "Research Scientist",
          "Research Scientist",
          "Laboratory Technician",
          "Laboratory Technician",
          "Sales Representative",
          "Sales Executive",
          "Laboratory Technician",
          "Research Director",
          "Healthcare Representative",
          "Laboratory Technician",
          "Research Scientist",
          "Manufacturing Director",
          "Healthcare Representative",
          "Research Scientist",
          "Laboratory Technician",
          "Sales Executive",
          "Manager",
          "Sales Executive",
          "Sales Representative",
          "Sales Executive",
          "Research Director",
          "Research Scientist",
          "Research Scientist",
          "Manufacturing Director",
          "Sales Executive",
          "Research Scientist",
          "Sales Representative",
          "Healthcare Representative",
          "Research Director",
          "Manufacturing Director",
          "Manufacturing Director",
          "Sales Executive",
          "Sales Executive",
          "Research Scientist",
          "Research Scientist",
          "Manager",
          "Manufacturing Director",
          "Laboratory Technician",
          "Sales Representative",
          "Research Scientist",
          "Sales Executive",
          "Sales Executive",
          "Sales Representative",
          "Manager",
          "Sales Executive",
          "Sales Executive",
          "Healthcare Representative",
          "Manager",
          "Manufacturing Director",
          "Laboratory Technician",
          "Research Scientist",
          "Laboratory Technician",
          "Manufacturing Director",
          "Sales Representative",
          "Manufacturing Director",
          "Healthcare Representative",
          "Sales Executive",
          "Research Scientist",
          "Research Scientist",
          "Healthcare Representative",
          "Sales Representative",
          "Sales Executive",
          "Laboratory Technician",
          "Laboratory Technician",
          "Sales Executive",
          "Laboratory Technician",
          "Research Scientist",
          "Sales Executive",
          "Research Scientist",
          "Laboratory Technician",
          "Sales Executive",
          "Sales Executive",
          "Healthcare Representative",
          "Healthcare Representative",
          "Manufacturing Director",
          "Sales Executive",
          "Research Scientist",
          "Research Director",
          "Sales Representative",
          "Research Scientist",
          "Human Resources",
          "Sales Executive",
          "Human Resources",
          "Research Scientist",
          "Sales Executive",
          "Sales Executive",
          "Sales Executive",
          "Healthcare Representative",
          "Research Scientist",
          "Research Scientist",
          "Manager",
          "Sales Executive",
          "Research Scientist",
          "Laboratory Technician",
          "Manager",
          "Laboratory Technician",
          "Sales Executive",
          "Research Director",
          "Research Director",
          "Sales Representative",
          "Manufacturing Director",
          "Laboratory Technician",
          "Research Scientist",
          "Manager",
          "Manager",
          "Manager",
          "Human Resources",
          "Manufacturing Director",
          "Laboratory Technician",
          "Laboratory Technician",
          "Laboratory Technician",
          "Manager",
          "Sales Executive",
          "Manager",
          "Laboratory Technician",
          "Sales Representative",
          "Research Director",
          "Laboratory Technician",
          "Manufacturing Director",
          "Sales Representative",
          "Research Scientist",
          "Healthcare Representative",
          "Research Director",
          "Healthcare Representative",
          "Manufacturing Director",
          "Research Scientist",
          "Sales Executive",
          "Laboratory Technician",
          "Sales Executive",
          "Research Director",
          "Research Director",
          "Sales Executive",
          "Healthcare Representative",
          "Sales Executive",
          "Sales Executive",
          "Human Resources",
          "Sales Executive",
          "Laboratory Technician",
          "Laboratory Technician",
          "Research Scientist",
          "Sales Representative",
          "Manager",
          "Research Scientist",
          "Sales Executive",
          "Laboratory Technician",
          "Laboratory Technician",
          "Manager",
          "Manufacturing Director",
          "Laboratory Technician",
          "Laboratory Technician",
          "Sales Representative",
          "Research Director",
          "Healthcare Representative",
          "Research Scientist",
          "Healthcare Representative",
          "Manufacturing Director",
          "Research Scientist",
          "Laboratory Technician",
          "Sales Executive",
          "Laboratory Technician",
          "Research Scientist",
          "Research Scientist",
          "Human Resources",
          "Research Scientist",
          "Laboratory Technician",
          "Research Director",
          "Laboratory Technician",
          "Healthcare Representative",
          "Laboratory Technician",
          "Laboratory Technician",
          "Research Scientist",
          "Sales Executive",
          "Laboratory Technician",
          "Research Scientist",
          "Sales Executive",
          "Sales Executive",
          "Human Resources",
          "Sales Executive",
          "Laboratory Technician",
          "Healthcare Representative",
          "Healthcare Representative",
          "Research Scientist",
          "Sales Executive",
          "Laboratory Technician",
          "Laboratory Technician",
          "Laboratory Technician",
          "Research Scientist",
          "Laboratory Technician",
          "Sales Executive",
          "Research Scientist",
          "Laboratory Technician",
          "Laboratory Technician",
          "Research Scientist",
          "Sales Executive",
          "Research Scientist",
          "Sales Executive",
          "Healthcare Representative",
          "Laboratory Technician",
          "Research Scientist",
          "Healthcare Representative",
          "Manufacturing Director",
          "Sales Executive",
          "Manufacturing Director",
          "Research Scientist",
          "Healthcare Representative",
          "Sales Executive",
          "Manager",
          "Laboratory Technician",
          "Laboratory Technician",
          "Manufacturing Director",
          "Sales Executive",
          "Laboratory Technician",
          "Laboratory Technician",
          "Human Resources",
          "Research Scientist",
          "Research Director",
          "Research Scientist",
          "Manager",
          "Laboratory Technician",
          "Laboratory Technician",
          "Healthcare Representative",
          "Manufacturing Director",
          "Research Scientist",
          "Manager",
          "Manufacturing Director",
          "Sales Executive",
          "Healthcare Representative",
          "Research Director",
          "Research Scientist",
          "Sales Representative",
          "Manufacturing Director",
          "Manager",
          "Laboratory Technician",
          "Manufacturing Director",
          "Research Director",
          "Research Director",
          "Sales Executive",
          "Sales Executive",
          "Manufacturing Director",
          "Laboratory Technician",
          "Sales Executive",
          "Healthcare Representative",
          "Research Scientist",
          "Sales Executive",
          "Sales Executive",
          "Laboratory Technician",
          "Healthcare Representative",
          "Research Director",
          "Sales Executive",
          "Manager",
          "Laboratory Technician",
          "Research Scientist",
          "Sales Executive",
          "Research Scientist",
          "Sales Executive",
          "Research Scientist",
          "Research Scientist",
          "Laboratory Technician",
          "Sales Executive",
          "Laboratory Technician",
          "Healthcare Representative",
          "Human Resources",
          "Research Director",
          "Research Director",
          "Research Scientist",
          "Sales Representative",
          "Research Scientist",
          "Sales Executive",
          "Research Scientist",
          "Sales Executive",
          "Manager",
          "Sales Executive",
          "Manufacturing Director",
          "Research Scientist",
          "Sales Representative",
          "Laboratory Technician",
          "Laboratory Technician",
          "Sales Executive",
          "Sales Representative",
          "Sales Executive",
          "Sales Executive",
          "Laboratory Technician",
          "Laboratory Technician",
          "Laboratory Technician",
          "Research Scientist",
          "Laboratory Technician",
          "Research Scientist",
          "Sales Representative",
          "Laboratory Technician",
          "Research Scientist",
          "Laboratory Technician",
          "Healthcare Representative",
          "Sales Executive",
          "Sales Executive",
          "Research Scientist",
          "Research Scientist",
          "Sales Executive",
          "Research Scientist",
          "Sales Executive",
          "Sales Representative",
          "Laboratory Technician",
          "Manager",
          "Manufacturing Director",
          "Manager",
          "Laboratory Technician",
          "Manager",
          "Manager",
          "Healthcare Representative",
          "Sales Executive",
          "Healthcare Representative",
          "Sales Executive",
          "Laboratory Technician",
          "Laboratory Technician",
          "Research Director",
          "Manager",
          "Laboratory Technician",
          "Sales Executive",
          "Manager",
          "Human Resources",
          "Laboratory Technician",
          "Research Scientist",
          "Laboratory Technician",
          "Sales Executive",
          "Manufacturing Director",
          "Laboratory Technician",
          "Research Scientist",
          "Healthcare Representative",
          "Sales Executive",
          "Healthcare Representative",
          "Manufacturing Director",
          "Sales Executive",
          "Manufacturing Director",
          "Manufacturing Director",
          "Laboratory Technician",
          "Sales Executive",
          "Manager",
          "Laboratory Technician",
          "Manufacturing Director",
          "Research Scientist",
          "Manufacturing Director",
          "Manufacturing Director",
          "Sales Executive",
          "Sales Executive",
          "Research Scientist",
          "Healthcare Representative",
          "Laboratory Technician",
          "Healthcare Representative",
          "Research Scientist",
          "Research Scientist",
          "Manager",
          "Sales Executive",
          "Laboratory Technician",
          "Research Scientist",
          "Sales Executive",
          "Sales Executive",
          "Laboratory Technician",
          "Sales Executive",
          "Manufacturing Director",
          "Human Resources",
          "Research Director",
          "Laboratory Technician",
          "Healthcare Representative",
          "Research Scientist",
          "Research Scientist",
          "Sales Executive",
          "Healthcare Representative",
          "Sales Executive",
          "Laboratory Technician",
          "Research Scientist",
          "Manager",
          "Research Scientist",
          "Sales Executive",
          "Research Scientist",
          "Sales Executive",
          "Sales Executive",
          "Human Resources",
          "Laboratory Technician",
          "Sales Executive",
          "Manufacturing Director",
          "Laboratory Technician",
          "Sales Executive",
          "Healthcare Representative",
          "Sales Executive",
          "Research Scientist",
          "Manager",
          "Laboratory Technician",
          "Sales Executive",
          "Manufacturing Director",
          "Research Scientist",
          "Research Scientist",
          "Manager",
          "Manufacturing Director",
          "Laboratory Technician",
          "Healthcare Representative",
          "Sales Executive",
          "Laboratory Technician",
          "Research Director",
          "Sales Executive",
          "Manufacturing Director",
          "Manufacturing Director",
          "Sales Representative",
          "Laboratory Technician",
          "Healthcare Representative",
          "Research Scientist",
          "Manager",
          "Research Scientist",
          "Manufacturing Director",
          "Manager",
          "Manager",
          "Manufacturing Director",
          "Manufacturing Director",
          "Manufacturing Director",
          "Sales Executive",
          "Sales Executive",
          "Sales Executive",
          "Laboratory Technician",
          "Research Scientist",
          "Sales Executive",
          "Laboratory Technician",
          "Human Resources",
          "Research Scientist",
          "Sales Executive",
          "Manufacturing Director",
          "Manager",
          "Sales Executive",
          "Research Scientist",
          "Laboratory Technician",
          "Research Scientist",
          "Human Resources",
          "Manager",
          "Sales Representative",
          "Manufacturing Director",
          "Research Director",
          "Sales Executive",
          "Research Scientist",
          "Laboratory Technician",
          "Manufacturing Director",
          "Laboratory Technician",
          "Laboratory Technician",
          "Healthcare Representative",
          "Sales Executive",
          "Manufacturing Director",
          "Research Scientist",
          "Laboratory Technician",
          "Human Resources",
          "Manager",
          "Research Scientist",
          "Laboratory Technician",
          "Sales Executive",
          "Research Director",
          "Laboratory Technician",
          "Manufacturing Director",
          "Research Director",
          "Healthcare Representative",
          "Healthcare Representative",
          "Laboratory Technician",
          "Healthcare Representative",
          "Sales Executive",
          "Manufacturing Director",
          "Sales Executive",
          "Sales Representative",
          "Research Scientist",
          "Research Scientist",
          "Healthcare Representative",
          "Sales Executive",
          "Research Scientist",
          "Manager",
          "Sales Executive",
          "Manufacturing Director",
          "Sales Executive",
          "Human Resources",
          "Sales Executive",
          "Laboratory Technician",
          "Manufacturing Director",
          "Sales Executive",
          "Healthcare Representative",
          "Laboratory Technician",
          "Sales Representative",
          "Research Director",
          "Manager",
          "Research Scientist",
          "Research Scientist",
          "Human Resources",
          "Sales Executive",
          "Laboratory Technician",
          "Research Scientist",
          "Laboratory Technician",
          "Research Scientist",
          "Laboratory Technician",
          "Sales Executive",
          "Laboratory Technician",
          "Manager",
          "Sales Executive",
          "Laboratory Technician",
          "Research Scientist",
          "Laboratory Technician",
          "Research Director",
          "Laboratory Technician",
          "Sales Executive",
          "Manager",
          "Research Scientist",
          "Laboratory Technician",
          "Healthcare Representative",
          "Sales Executive",
          "Laboratory Technician",
          "Sales Representative",
          "Sales Executive",
          "Sales Executive",
          "Laboratory Technician",
          "Research Scientist",
          "Healthcare Representative",
          "Manufacturing Director",
          "Sales Executive",
          "Research Director",
          "Laboratory Technician",
          "Sales Representative",
          "Sales Executive",
          "Research Director",
          "Sales Executive",
          "Manufacturing Director",
          "Research Scientist",
          "Healthcare Representative",
          "Healthcare Representative",
          "Research Scientist",
          "Research Scientist",
          "Laboratory Technician",
          "Manager",
          "Manager",
          "Research Director",
          "Sales Representative",
          "Sales Executive",
          "Research Scientist",
          "Sales Executive",
          "Laboratory Technician",
          "Healthcare Representative",
          "Manufacturing Director",
          "Sales Executive",
          "Sales Executive",
          "Sales Executive",
          "Sales Executive",
          "Research Scientist",
          "Sales Executive",
          "Research Director",
          "Manufacturing Director",
          "Research Scientist",
          "Research Scientist",
          "Human Resources",
          "Manager",
          "Research Scientist",
          "Laboratory Technician",
          "Healthcare Representative",
          "Sales Executive",
          "Laboratory Technician",
          "Healthcare Representative",
          "Research Scientist",
          "Sales Executive",
          "Sales Executive",
          "Laboratory Technician",
          "Sales Representative",
          "Laboratory Technician",
          "Sales Executive",
          "Sales Executive",
          "Laboratory Technician",
          "Laboratory Technician",
          "Sales Executive",
          "Sales Executive",
          "Manager",
          "Research Scientist",
          "Sales Representative",
          "Research Scientist",
          "Sales Executive",
          "Sales Representative",
          "Manufacturing Director",
          "Manager",
          "Sales Executive",
          "Research Scientist",
          "Manufacturing Director",
          "Human Resources",
          "Sales Executive",
          "Laboratory Technician",
          "Healthcare Representative",
          "Sales Executive",
          "Laboratory Technician",
          "Laboratory Technician",
          "Laboratory Technician",
          "Research Scientist",
          "Manager",
          "Research Scientist",
          "Manager",
          "Manager",
          "Research Scientist",
          "Sales Executive",
          "Research Scientist",
          "Laboratory Technician",
          "Sales Executive",
          "Manufacturing Director",
          "Manufacturing Director",
          "Sales Executive",
          "Manager",
          "Manufacturing Director",
          "Research Director",
          "Manufacturing Director",
          "Manufacturing Director",
          "Human Resources",
          "Research Director",
          "Sales Executive",
          "Sales Executive",
          "Sales Executive",
          "Sales Representative",
          "Sales Executive",
          "Healthcare Representative",
          "Research Scientist",
          "Sales Executive",
          "Manager",
          "Manager",
          "Laboratory Technician",
          "Sales Representative",
          "Healthcare Representative",
          "Research Director",
          "Sales Executive",
          "Research Director",
          "Research Director",
          "Sales Representative",
          "Human Resources",
          "Sales Representative",
          "Research Director",
          "Sales Executive",
          "Healthcare Representative",
          "Research Scientist",
          "Laboratory Technician",
          "Laboratory Technician",
          "Manufacturing Director",
          "Sales Executive",
          "Research Scientist",
          "Sales Executive",
          "Sales Executive",
          "Research Director",
          "Healthcare Representative",
          "Research Scientist",
          "Laboratory Technician",
          "Sales Representative",
          "Laboratory Technician",
          "Laboratory Technician",
          "Manufacturing Director",
          "Sales Executive",
          "Sales Executive",
          "Laboratory Technician",
          "Manufacturing Director",
          "Manufacturing Director",
          "Research Director",
          "Manufacturing Director",
          "Research Scientist",
          "Manufacturing Director",
          "Research Scientist",
          "Laboratory Technician",
          "Research Scientist",
          "Sales Representative",
          "Laboratory Technician",
          "Research Scientist",
          "Manufacturing Director",
          "Manager",
          "Research Scientist",
          "Laboratory Technician",
          "Healthcare Representative",
          "Manufacturing Director",
          "Human Resources",
          "Healthcare Representative",
          "Laboratory Technician",
          "Manufacturing Director",
          "Healthcare Representative",
          "Sales Executive",
          "Laboratory Technician",
          "Laboratory Technician",
          "Sales Executive",
          "Research Scientist",
          "Research Scientist",
          "Manager",
          "Sales Representative",
          "Research Scientist",
          "Sales Representative",
          "Sales Executive",
          "Research Director",
          "Sales Executive",
          "Research Scientist",
          "Research Scientist",
          "Research Scientist",
          "Laboratory Technician",
          "Research Scientist",
          "Laboratory Technician",
          "Research Scientist",
          "Sales Executive",
          "Research Scientist",
          "Laboratory Technician",
          "Research Scientist",
          "Healthcare Representative",
          "Manufacturing Director",
          "Research Scientist",
          "Research Director",
          "Manager",
          "Research Scientist",
          "Sales Executive",
          "Healthcare Representative",
          "Research Scientist",
          "Sales Representative"
         ],
         "legendgroup": "",
         "marker": {
          "color": {
           "bdata": "AAAAAAAA8D8AAAAAAAAAAAAAAAAAAAAAAAAAAAAAAAAAAAAAAAAAAAAAAAAAAPA/AAAAAAAAAAAAAAAAAAAAAAAAAAAAAAAAAAAAAAAAAAAAAAAAAAAAAAAAAAAAAAAAAAAAAAAAAAAAAAAAAAAAAAAAAAAAAAAAAAAAAAAA8D8AAAAAAAAAAAAAAAAAAAAAAAAAAAAAAAAAAAAAAAAAAAAAAAAAAAAAAAAAAAAAAAAAAAAAAADwPwAAAAAAAAAAAAAAAAAAAAAAAAAAAAAAAAAAAAAAAAAAAAAAAAAAAAAAAAAAAAAAAAAAAAAAAAAAAAAAAAAAAAAAAAAAAAAAAAAAAAAAAAAAAAAAAAAAAAAAAAAAAADwPwAAAAAAAAAAAAAAAAAA8D8AAAAAAAAAAAAAAAAAAAAAAAAAAAAAAAAAAAAAAADwPwAAAAAAAAAAAAAAAAAAAAAAAAAAAAAAAAAAAAAAAAAAAAAAAAAAAAAAAAAAAAAAAAAAAAAAAAAAAAAAAAAAAAAAAAAAAAAAAAAAAAAAAPA/AAAAAAAA8D8AAAAAAAAAAAAAAAAAAAAAAAAAAAAA8D8AAAAAAAAAAAAAAAAAAPA/AAAAAAAAAAAAAAAAAAAAAAAAAAAAAAAAAAAAAAAAAAAAAAAAAAAAAAAAAAAAAAAAAAAAAAAA8D8AAAAAAAAAAAAAAAAAAAAAAAAAAAAA8D8AAAAAAAAAAAAAAAAAAAAAAAAAAAAAAAAAAAAAAAAAAAAAAAAAAAAAAAAAAAAAAAAAAAAAAAAAAAAAAAAAAAAAAAAAAAAAAAAAAAAAAAAAAAAAAAAAAAAAAAAAAAAAAAAAAAAAAAAAAAAAAAAAAAAAAAAAAAAAAAAAAAAAAAAAAAAAAAAAAAAAAAAAAAAAAAAAAAAAAAAAAAAAAAAAAAAAAAAAAAAA8D8AAAAAAAAAAAAAAAAAAAAAAAAAAAAAAAAAAAAAAAAAAAAAAAAAAAAAAAAAAAAAAAAAAAAAAAAAAAAAAAAAAAAAAAAAAAAA8D8AAAAAAAAAAAAAAAAAAAAAAAAAAAAAAAAAAAAAAAAAAAAAAAAAAAAAAAAAAAAAAAAAAAAAAAAAAAAAAAAAAAAAAAAAAAAAAAAAAAAAAAAAAAAAAAAAAAAAAAAAAAAAAAAAAAAAAAAAAAAAAAAAAPA/AAAAAAAA8D8AAAAAAAAAAAAAAAAAAAAAAAAAAAAAAAAAAAAAAAAAAAAAAAAAAAAAAAAAAAAAAAAAAAAAAADwPwAAAAAAAAAAAAAAAAAAAAAAAAAAAAAAAAAAAAAAAAAAAAAAAAAAAAAAAAAAAAAAAAAAAAAAAAAAAAAAAAAAAAAAAAAAAAAAAAAAAAAAAAAAAAAAAAAAAAAAAAAAAAAAAAAAAAAAAAAAAAAAAAAAAAAAAAAAAAAAAAAAAAAAAAAAAAAAAAAAAAAAAAAAAADwPwAAAAAAAAAAAAAAAAAAAAAAAAAAAAAAAAAAAAAAAAAAAAAAAAAAAAAAAAAAAAAAAAAAAAAAAAAAAAAAAAAAAAAAAAAAAAAAAAAAAAAAAAAAAAAAAAAA8D8AAAAAAAAAAAAAAAAAAAAAAAAAAAAAAAAAAAAAAAAAAAAAAAAAAAAAAAAAAAAA8D8AAAAAAAAAAAAAAAAAAAAAAAAAAAAA8D8AAAAAAAAAAAAAAAAAAAAAAAAAAAAAAAAAAAAAAAAAAAAAAAAAAAAAAAAAAAAAAAAAAAAAAAAAAAAAAAAAAPA/AAAAAAAAAAAAAAAAAAAAAAAAAAAAAAAAAAAAAAAAAAAAAAAAAAAAAAAAAAAAAAAAAAAAAAAAAAAAAAAAAAAAAAAAAAAAAAAAAAAAAAAAAAAAAAAAAADwPwAAAAAAAAAAAAAAAAAAAAAAAAAAAAAAAAAAAAAAAAAAAAAAAAAAAAAAAAAAAAAAAAAAAAAAAAAAAAAAAAAAAAAAAAAAAAAAAAAAAAAAAAAAAAAAAAAAAAAAAAAAAAAAAAAAAAAAAAAAAAAAAAAAAAAAAAAAAAAAAAAAAAAAAAAAAAAAAAAAAAAAAAAAAAAAAAAAAAAAAAAAAAAAAAAAAAAAAAAAAAAAAAAAAAAAAAAAAAAAAAAAAAAAAAAAAAAAAAAAAAAAAPA/AAAAAAAAAAAAAAAAAAAAAAAAAAAAAAAAAAAAAAAAAAAAAAAAAAAAAAAAAAAAAAAAAAAAAAAAAAAAAAAAAAAAAAAAAAAAAAAAAAAAAAAAAAAAAAAAAADwPwAAAAAAAAAAAAAAAAAAAAAAAAAAAAAAAAAAAAAAAAAAAAAAAAAAAAAAAAAAAAAAAAAAAAAAAPA/AAAAAAAA8D8AAAAAAAAAAAAAAAAAAAAAAAAAAAAAAAAAAAAAAAAAAAAAAAAAAPA/AAAAAAAAAAAAAAAAAAAAAAAAAAAAAAAAAAAAAAAAAAAAAAAAAAAAAAAAAAAAAAAAAAAAAAAAAAAAAAAAAAAAAAAAAAAAAAAAAAAAAAAAAAAAAAAAAAAAAAAAAAAAAAAAAAAAAAAAAAAAAAAAAAAAAAAAAAAAAAAAAAAAAAAAAAAAAAAAAAAAAAAAAAAAAAAAAAAAAAAAAAAAAAAAAAAAAAAAAAAAAAAAAAAAAAAAAAAAAAAAAAAAAAAAAAAAAAAAAAAAAAAAAAAAAAAAAAAAAAAAAAAAAAAAAAAAAAAAAAAAAAAAAAAAAAAAAAAAAAAAAAAAAAAAAAAAAAAAAADwPwAAAAAAAAAAAAAAAAAA8D8AAAAAAAAAAAAAAAAAAAAAAAAAAAAA8D8AAAAAAAAAAAAAAAAAAAAAAAAAAAAAAAAAAAAAAAAAAAAAAAAAAPA/AAAAAAAAAAAAAAAAAAAAAAAAAAAAAAAAAAAAAAAAAAAAAAAAAAAAAAAAAAAAAAAAAAAAAAAAAAAAAAAAAAAAAAAAAAAAAAAAAAAAAAAA8D8AAAAAAAAAAAAAAAAAAAAAAAAAAAAA8D8AAAAAAAAAAAAAAAAAAAAAAAAAAAAAAAAAAAAAAAAAAAAAAAAAAPA/AAAAAAAAAAAAAAAAAADwPwAAAAAAAAAAAAAAAAAAAAAAAAAAAADwPwAAAAAAAAAAAAAAAAAAAAAAAAAAAAAAAAAAAAAAAAAAAAAAAAAAAAAAAAAAAAAAAAAAAAAAAAAAAAAAAAAAAAAAAAAAAAAAAAAAAAAAAAAAAAAAAAAAAAAAAAAAAAAAAAAAAAAAAPA/AAAAAAAAAAAAAAAAAAAAAAAAAAAAAAAAAAAAAAAA8D8AAAAAAAAAAAAAAAAAAAAAAAAAAAAAAAAAAAAAAAAAAAAAAAAAAAAAAAAAAAAAAAAAAAAAAAAAAAAAAAAAAAAAAAAAAAAAAAAAAAAAAAAAAAAAAAAAAAAAAAAAAAAAAAAAAAAAAAAAAAAAAAAAAAAAAAAAAAAAAAAAAAAAAAAAAAAAAAAAAAAAAAAAAAAA8D8AAAAAAADwPwAAAAAAAAAAAAAAAAAAAAAAAAAAAAAAAAAAAAAAAAAAAAAAAAAAAAAAAAAAAAAAAAAAAAAAAAAAAAAAAAAAAAAAAAAAAAAAAAAAAAAAAPA/AAAAAAAAAAAAAAAAAAAAAAAAAAAAAAAAAAAAAAAAAAAAAAAAAAAAAAAAAAAAAAAAAAAAAAAA8D8AAAAAAAAAAAAAAAAAAAAAAAAAAAAA8D8AAAAAAAAAAAAAAAAAAAAAAAAAAAAAAAAAAAAAAAAAAAAAAAAAAAAAAAAAAAAAAAAAAAAAAAAAAAAAAAAAAAAAAAAAAAAAAAAAAAAAAAAAAAAAAAAAAAAAAAAAAAAAAAAAAAAAAAAAAAAAAAAAAAAAAAAAAAAAAAAAAAAAAAAAAAAAAAAAAAAAAAAAAAAAAAAAAAAAAAAAAAAAAAAAAAAAAAAAAAAAAAAAAAAAAAAAAAAAAAAAAAAAAAAAAAAAAAAAAAAAAAAAAAAAAAAAAAAAAAAAAAAAAAAAAAAAAADwPwAAAAAAAAAAAAAAAAAAAAAAAAAAAAAAAAAAAAAAAAAAAAAAAAAAAAAAAAAAAAAAAAAAAAAAAAAAAAAAAAAAAAAAAAAAAAAAAAAAAAAAAAAAAAAAAAAAAAAAAAAAAADwPwAAAAAAAAAAAAAAAAAAAAAAAAAAAAAAAAAAAAAAAAAAAAAAAAAAAAAAAAAAAAAAAAAAAAAAAAAAAAAAAAAA8D8AAAAAAAAAAAAAAAAAAAAAAAAAAAAAAAAAAAAAAAAAAAAAAAAAAAAAAAAAAAAAAAAAAAAAAAAAAAAAAAAAAAAAAAAAAAAA8D8AAAAAAAAAAAAAAAAAAAAAAAAAAAAAAAAAAAAAAAAAAAAAAAAAAAAAAAAAAAAAAAAAAAAAAAAAAAAAAAAAAAAAAAAAAAAAAAAAAAAAAAAAAAAAAAAAAAAAAAAAAAAAAAAAAAAAAAAAAAAAAAAAAAAAAAAAAAAAAAAAAAAAAADwPwAAAAAAAAAAAAAAAAAAAAAAAAAAAAAAAAAAAAAAAAAAAAAAAAAAAAAAAAAAAAAAAAAAAAAAAAAAAAAAAAAAAAAAAAAAAAAAAAAAAAAAAAAAAAAAAAAAAAAAAAAAAAAAAAAAAAAAAAAAAAAAAAAAAAAAAAAAAAAAAAAAAAAAAAAAAAAAAAAAAAAAAAAAAAAAAAAAAAAAAAAAAAAAAAAAAAAAAAAAAAAAAAAAAAAAAAAAAAAAAAAAAAAAAAAAAAAAAAAAAAAAAAAAAAAAAAAAAAAAAAAAAADwPwAAAAAAAAAAAAAAAAAA8D8AAAAAAAAAAAAAAAAAAAAAAAAAAAAAAAAAAAAAAAAAAAAAAAAAAAAAAAAAAAAAAAAAAAAAAAAAAAAAAAAAAAAAAAAAAAAAAAAAAAAAAAAAAAAAAAAAAAAAAAAAAAAAAAAAAAAAAAAAAAAAAAAAAAAAAAAAAAAAAAAAAAAAAAAAAAAAAAAAAAAAAAAAAAAA8D8AAAAAAADwPwAAAAAAAAAAAAAAAAAAAAAAAAAAAAAAAAAAAAAAAAAAAAAAAAAAAAAAAAAAAAAAAAAAAAAAAAAAAAAAAAAAAAAAAAAAAAAAAAAAAAAAAAAAAAAAAAAA8D8AAAAAAAAAAAAAAAAAAAAAAAAAAAAAAAAAAAAAAAAAAAAAAAAAAPA/AAAAAAAAAAAAAAAAAADwPwAAAAAAAAAAAAAAAAAAAAAAAAAAAAAAAAAAAAAAAAAAAAAAAAAAAAAAAAAAAAAAAAAAAAAAAAAAAAAAAAAAAAAAAAAAAAAAAAAAAAAAAAAAAAAAAAAAAAAAAAAAAAAAAAAAAAAAAAAAAAAAAAAAAAAAAAAAAAAAAAAAAAAAAAAAAAAAAAAAAAAAAAAAAAAAAAAAAAAAAAAAAAAAAAAAAAAAAAAAAAAAAAAAAAAAAAAAAAAAAAAAAAAAAAAAAAAAAAAAAAAAAAAAAAAAAAAAAAAAAAAAAADwPwAAAAAAAAAAAAAAAAAAAAAAAAAAAAAAAAAAAAAAAAAAAAAAAAAAAAAAAAAAAAAAAAAAAAAAAAAAAAAAAAAAAAAAAAAAAAAAAAAAAAAAAAAAAAAAAAAAAAAAAAAAAAAAAAAAAAAAAAAAAAAAAAAAAAAAAAAAAAAAAAAAAAAAAAAAAAAAAAAAAAAAAAAAAAAAAAAAAAAAAAAAAAAAAAAAAAAAAAAAAAAAAAAAAAAAAPA/AAAAAAAAAAAAAAAAAAAAAAAAAAAAAAAAAAAAAAAAAAAAAAAAAAAAAAAAAAAAAAAAAAAAAAAAAAAAAAAAAAAAAAAAAAAAAAAAAAAAAAAAAAAAAAAAAAAAAAAAAAAAAAAAAAAAAAAAAAAAAAAAAAAAAAAAAAAAAAAAAAAAAAAAAAAAAAAAAAAAAAAAAAAAAAAAAAAAAAAAAAAAAAAAAAAAAAAAAAAAAPA/AAAAAAAAAAAAAAAAAAAAAAAAAAAAAAAAAAAAAAAAAAAAAAAAAADwPwAAAAAAAAAAAAAAAAAA8D8AAAAAAADwPwAAAAAAAAAAAAAAAAAAAAAAAAAAAAAAAAAAAAAAAAAAAAAAAAAAAAAAAAAAAADwPwAAAAAAAAAAAAAAAAAAAAAAAAAAAAAAAAAAAAAAAAAAAAAAAAAAAAAAAAAAAAAAAAAAAAAAAAAAAAAAAAAAAAAAAAAAAAAAAAAAAAAAAPA/AAAAAAAAAAAAAAAAAAAAAAAAAAAAAAAAAAAAAAAAAAAAAAAAAAAAAAAAAAAAAAAAAAAAAAAAAAAAAAAAAAAAAAAAAAAAAAAAAAAAAAAAAAAAAAAAAAAAAAAAAAAAAAAAAAAAAAAAAAAAAAAAAAAAAAAAAAAAAAAAAAAAAAAAAAAAAAAAAAAAAAAAAAAAAAAAAAAAAAAAAAAAAAAAAAAAAAAAAAAAAAAAAAAAAAAAAAAAAAAAAAAAAAAAAAAAAAAAAAAAAAAAAAAAAAAAAAAAAAAAAAAAAPA/AAAAAAAAAAAAAAAAAAAAAAAAAAAAAAAAAAAAAAAAAAAAAAAAAAAAAAAAAAAAAAAAAAAAAAAAAAAAAAAAAAAAAAAAAAAAAAAAAAAAAAAA8D8AAAAAAAAAAAAAAAAAAAAAAAAAAAAA8D8AAAAAAAAAAAAAAAAAAAAAAAAAAAAAAAAAAAAAAAAAAAAAAAAAAAAAAAAAAAAAAAAAAAAAAAAAAAAAAAAAAAAAAAAAAAAAAAAAAAAAAAAAAAAAAAAAAAAAAAAAAAAAAAAAAAAAAAAAAAAAAAAAAAAAAAAAAAAAAAAAAAAAAAAAAAAAAAAAAAAAAAAAAAAAAAAAAAAAAAAAAAAAAAAAAAAAAAAAAAAAAAAAAAAAAAAAAAAAAAAAAAAAAAAAAAAAAAAAAAAAAAAAAAAAAAAAAAAAAAAAAAAAAAAAAAAAAAAAAAAAAAAAAAAAAAAAAAAAAAAAAAAAAAAAAAAAAAAAAPA/AAAAAAAAAAAAAAAAAAAAAAAAAAAAAAAAAAAAAAAA8D8AAAAAAAAAAAAAAAAAAPA/AAAAAAAAAAAAAAAAAAAAAAAAAAAAAAAAAAAAAAAAAAAAAAAAAAAAAAAAAAAAAAAAAAAAAAAAAAAAAAAAAAAAAAAAAAAAAAAAAAAAAAAAAAAAAAAAAAAAAAAAAAAAAAAAAAAAAAAAAAAAAAAAAAAAAAAAAAAAAAAAAAAAAAAAAAAAAAAAAAAAAAAAAAAAAPA/AAAAAAAAAAAAAAAAAAAAAAAAAAAAAAAAAAAAAAAAAAAAAAAAAAAAAAAAAAAAAAAAAAAAAAAAAAAAAAAAAAAAAAAAAAAAAAAAAAAAAAAAAAAAAAAAAAAAAAAAAAAAAAAAAAAAAAAAAAAAAAAAAADwPwAAAAAAAAAAAAAAAAAAAAAAAAAAAAAAAAAAAAAAAAAAAAAAAAAAAAAAAAAAAAAAAAAAAAAAAAAAAAAAAAAAAAAAAAAAAAAAAAAAAAAAAPA/AAAAAAAAAAAAAAAAAADwPwAAAAAAAAAAAAAAAAAAAAAAAAAAAAAAAAAAAAAAAAAAAAAAAAAAAAAAAAAAAAAAAAAAAAAAAAAAAAAAAAAAAAAAAAAAAAAAAAAAAAAAAAAAAAAAAAAAAAAAAAAAAAAAAAAAAAAAAAAAAAAAAAAA8D8AAAAAAAAAAAAAAAAAAAAAAAAAAAAAAAAAAAAAAAAAAAAAAAAAAAAAAAAAAAAAAAAAAAAAAAAAAAAAAAAAAAAAAAAAAAAAAAAAAAAAAAAAAAAAAAAAAAAAAAAAAAAA8D8AAAAAAAAAAAAAAAAAAAAAAAAAAAAAAAAAAAAAAAAAAAAAAAAAAAAAAAAAAAAAAAAAAAAAAAAAAAAAAAAAAPA/AAAAAAAAAAAAAAAAAAAAAAAAAAAAAPA/AAAAAAAAAAAAAAAAAAAAAAAAAAAAAAAAAAAAAAAAAAAAAAAAAAAAAAAAAAAAAAAAAAAAAAAAAAAAAAAAAAAAAAAAAAAAAAAAAAAAAAAAAAAAAAAAAADwPwAAAAAAAAAAAAAAAAAA8D8=",
           "dtype": "f8"
          },
          "coloraxis": "coloraxis",
          "opacity": 0.7,
          "symbol": "circle"
         },
         "mode": "markers",
         "name": "",
         "showlegend": false,
         "type": "scattergl",
         "x": {
          "bdata": "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",
          "dtype": "i2"
         },
         "xaxis": "x",
         "y": {
          "bdata": "CxoSAwQEFwIFBAYKBgcBAQEECAEQBRUCFxYHAQIKAgUCAQEJCQMVAhIEAwcGAQIBBAEKBhQGDAYICQEcAQEJAgcKCwMCAgoQBgQYAQEBAQ0KHBEIChgaAg8KAgEIAwcBBQIPFAISGQIDBQcUGwkKCQYBFwEWBQQBGQIBAwIKEAgGARoJGggEAgYHBwcdChICAQMCCAUBBAISCQwEAhkCCAICAg4HAQgJAhkCEQIBBxoOAwgBBhICCBgIAxUBCQQKAwMUBRUCFwECAwEGBQIYDwYCCB0DBgkCCBcbAwYCAwgLEwgCCgEDBAECBwEKCwIJAwgIBAkDCQgBEQEQEAoYBwocAw4IBQEBGgERBwsGCAEHCgccCQICDwMCDgUQARwaCgMUHBASBx0BAQEHFQoIEwocCgUYDA8KCBoaBwoEAwIJCQYBFwEPCAECAwkdEQoCAgkBBgkBGQsXAwQBFggBAgMCAQYBFh0JBAQIAQIRHQ4JDAcJExcCBwsLAQcJAQIEAwIHHQIZGhECAgMTARAJBAMICQQSAwcIAQUcCQYVCAcCAQQKBxkCCQQBAQ4CCAkCBxIEGAMCEgMICAYHCAEVAgEJCx0FBQEEAgkGAgEDCgYBDwIIARIFCA0BAQgdBQIBAhMCEgQLFBIBAQILBwIIHQgYGQECGw8KAQcDFBQBGw0CBAoFBxkBAwIZCQgVCQgdFAMEAQUQARMWEQUFCgECBwECBwICBxQBBxAIAhcXAQkCAwkHCAUBDw8CAQECAxkBCw4BDg0CARoIBwEDAgUdEgYBAhcEAgoDBwEHCgECBQMHGAEEAh0dDAEKDAECEAcCEwgJFwIDEAEHCwEKAQICAgYKAhMBCxsCCwcBAQECGg0NDAEJBAIJCQkPAQkIBQ0CBgIUGwsBAgMHCgwBBwESAhkCDQgCBwcHAgMdBwgTAwQXDgIFAhMDBAIFARkFBQkEHAEUBQcXAgIIAQoIAREXAgYdGwYdAQEEAgEUARgQAQ==",
          "dtype": "i1"
         },
         "yaxis": "y"
        },
        {
         "customdata": {
          "bdata": "MwoDKAQENwUBHwkEJg0EGAYEIA0CGAIEJxMCJBAEHwIEIAkEHwcDHwIEOgECNAUDLAQBLQcBIQUEIwQBJQEEGwgDHgsCKgEBJQ0DJQMDIAMDIgMBGwkEJgsELAwEHwYELhABHwQEOgkBIAYCEwEEHgsENQcDGQECKhUBKxEEKAYDGQYDIwoEHwIDJwEDMhsDJgUEOQUEGwYEJQMBMgMDLAYDIAYEIQMBLwoCEwECOBMCHQkDJQoCNwoEGgUBGgIEKQkDNwUDIggDJgEEGgMEIwMDHwUEJgMDFwABMgwDKQYEIAoBJQQEHgUDNyQBLgoBMggDIwgDJg8BJxUBJBIEJQoEMR8DIgYEIwgBFAEDJAEDLxMDNwgCHgoEHQcBJAUCJQcBFAEENAoBEwADIQgDJxUDKwgDHQYEOh8CHggDOwEBHAQDMggCIQcDIQICOgoBHgEEOwYELRQEOgYCLgkEHwMCFgEEJAEBIwoCIgMBJwIBJggDGQUEIgEDJQUBJBAEKQcEIgUDGwUCHwsENAgCJQYDHwYBJQADKgECIQkDLwkEFAEBJAMCLAQEFgMDKAQEIQUBIwQDHgkBNCEDFgQCHwoDMyECHgUBHwICFQICLAEDHQgEKQQCIwkDHAQDGggENAUDGgEEKgIEEwECIQoBLgMEKRIBIgUEHQcCJQgBLwUDMhQDHwoDKwUDPAsEIw0EGgMCLAIEMgMBLQkBKgMDJgEDIwIBHAMEOwUEGgMBHwYEIQQCIQ8ELQMEKAEEJgEBKwEEHAIEGQUBHQcDOAIBGwQCKgMBGgcDGwkBHQoEIQEDFAIEOgUDJQUELwMENgUEIAEEOAUCKgIDGQcEGQEENgUBHwMBKQQDEgACJxUBLQUBHAIDIwcBIQoEGwUDNwUEMAEDKQEEGAUDNQUEIwEDMQcENQUDGggDLAMEHgIDGAYDMwoELQMDNyECGwUCHAgCHQUEGAUCKgkBMQcDKBIBJgEEHAMDKAECJwEBKxkENxMDKgUEKAECLxoEHQEBMgQDIQYCLwcEIxEDJQECMx0CIgkDKgoBKQYEMQMBGwYEJgMEHQMDKgQEKQgDKhQDKQUCJBACLxYDHAcCMgADHgAEIwQCKAcDKAcELgQCKxQDJAcBGwEDLgcCIAgDKQEEFQMCJwUELQUBHQABFgAELQABIxADGAUDGggEIAMCHgsCOgEELRgCHggBJggBLAgBKAUCHQQEJgEDHAEE",
          "dtype": "i1",
          "shape": "307, 3"
         },
         "hovertemplate": "<b>%{hovertext}</b><br><br>Status Overtime=Yes<br>Gaji Bulanan=%{x}<br>Jarak dari Rumah (km)=%{y}<br>Age=%{customdata[0]}<br>YearsAtCompany=%{customdata[1]}<br>JobSatisfaction=%{customdata[2]}<br>Status Attrition=%{marker.color}<extra></extra>",
         "hovertext": [
          "Research Scientist",
          "Sales Executive",
          "Manager",
          "Healthcare Representative",
          "Research Scientist",
          "Research Scientist",
          "Sales Executive",
          "Research Scientist",
          "Manager",
          "Healthcare Representative",
          "Research Scientist",
          "Manufacturing Director",
          "Sales Executive",
          "Laboratory Technician",
          "Research Scientist",
          "Manufacturing Director",
          "Sales Executive",
          "Healthcare Representative",
          "Laboratory Technician",
          "Healthcare Representative",
          "Sales Executive",
          "Research Scientist",
          "Research Scientist",
          "Research Director",
          "Research Scientist",
          "Sales Executive",
          "Laboratory Technician",
          "Human Resources",
          "Research Director",
          "Research Director",
          "Sales Executive",
          "Research Scientist",
          "Research Scientist",
          "Research Scientist",
          "Research Director",
          "Research Scientist",
          "Research Scientist",
          "Human Resources",
          "Sales Representative",
          "Sales Representative",
          "Sales Executive",
          "Manager",
          "Sales Executive",
          "Sales Executive",
          "Healthcare Representative",
          "Sales Executive",
          "Sales Executive",
          "Research Director",
          "Sales Executive",
          "Healthcare Representative",
          "Sales Executive",
          "Human Resources",
          "Sales Representative",
          "Research Scientist",
          "Research Scientist",
          "Research Scientist",
          "Manager",
          "Research Scientist",
          "Manufacturing Director",
          "Laboratory Technician",
          "Sales Executive",
          "Laboratory Technician",
          "Healthcare Representative",
          "Sales Executive",
          "Sales Executive",
          "Manager",
          "Sales Representative",
          "Sales Executive",
          "Laboratory Technician",
          "Research Scientist",
          "Research Scientist",
          "Research Scientist",
          "Laboratory Technician",
          "Manufacturing Director",
          "Sales Executive",
          "Research Scientist",
          "Research Scientist",
          "Research Scientist",
          "Manager",
          "Healthcare Representative",
          "Research Director",
          "Healthcare Representative",
          "Manufacturing Director",
          "Manager",
          "Sales Executive",
          "Research Director",
          "Research Director",
          "Research Scientist",
          "Sales Executive",
          "Research Scientist",
          "Research Scientist",
          "Manufacturing Director",
          "Healthcare Representative",
          "Laboratory Technician",
          "Laboratory Technician",
          "Sales Executive",
          "Research Scientist",
          "Laboratory Technician",
          "Research Scientist",
          "Sales Representative",
          "Research Scientist",
          "Manager",
          "Laboratory Technician",
          "Healthcare Representative",
          "Research Director",
          "Manufacturing Director",
          "Laboratory Technician",
          "Laboratory Technician",
          "Research Director",
          "Manager",
          "Research Scientist",
          "Manufacturing Director",
          "Research Scientist",
          "Manager",
          "Healthcare Representative",
          "Healthcare Representative",
          "Sales Executive",
          "Sales Representative",
          "Laboratory Technician",
          "Research Scientist",
          "Research Scientist",
          "Sales Executive",
          "Laboratory Technician",
          "Sales Executive",
          "Sales Executive",
          "Sales Representative",
          "Research Scientist",
          "Sales Executive",
          "Laboratory Technician",
          "Research Scientist",
          "Research Scientist",
          "Manufacturing Director",
          "Sales Executive",
          "Research Scientist",
          "Healthcare Representative",
          "Laboratory Technician",
          "Research Scientist",
          "Sales Executive",
          "Sales Executive",
          "Research Scientist",
          "Manufacturing Director",
          "Healthcare Representative",
          "Manufacturing Director",
          "Research Scientist",
          "Sales Executive",
          "Sales Executive",
          "Manager",
          "Manager",
          "Research Scientist",
          "Sales Executive",
          "Manager",
          "Research Scientist",
          "Research Scientist",
          "Research Scientist",
          "Laboratory Technician",
          "Healthcare Representative",
          "Sales Representative",
          "Research Scientist",
          "Laboratory Technician",
          "Research Scientist",
          "Manufacturing Director",
          "Laboratory Technician",
          "Research Scientist",
          "Sales Representative",
          "Research Scientist",
          "Sales Executive",
          "Laboratory Technician",
          "Sales Executive",
          "Sales Executive",
          "Research Scientist",
          "Sales Executive",
          "Laboratory Technician",
          "Manufacturing Director",
          "Healthcare Representative",
          "Sales Executive",
          "Sales Executive",
          "Laboratory Technician",
          "Manager",
          "Research Director",
          "Laboratory Technician",
          "Human Resources",
          "Research Scientist",
          "Laboratory Technician",
          "Research Scientist",
          "Manufacturing Director",
          "Research Scientist",
          "Sales Executive",
          "Human Resources",
          "Research Director",
          "Manufacturing Director",
          "Research Scientist",
          "Healthcare Representative",
          "Research Director",
          "Laboratory Technician",
          "Sales Executive",
          "Laboratory Technician",
          "Research Scientist",
          "Research Scientist",
          "Research Scientist",
          "Human Resources",
          "Research Scientist",
          "Manufacturing Director",
          "Sales Representative",
          "Sales Representative",
          "Healthcare Representative",
          "Research Director",
          "Sales Representative",
          "Manager",
          "Laboratory Technician",
          "Research Scientist",
          "Research Scientist",
          "Laboratory Technician",
          "Sales Representative",
          "Manufacturing Director",
          "Research Scientist",
          "Research Scientist",
          "Sales Representative",
          "Manufacturing Director",
          "Sales Executive",
          "Laboratory Technician",
          "Sales Executive",
          "Research Scientist",
          "Sales Executive",
          "Manager",
          "Laboratory Technician",
          "Laboratory Technician",
          "Sales Executive",
          "Sales Executive",
          "Manufacturing Director",
          "Manufacturing Director",
          "Research Director",
          "Research Scientist",
          "Laboratory Technician",
          "Sales Executive",
          "Laboratory Technician",
          "Sales Executive",
          "Research Scientist",
          "Healthcare Representative",
          "Sales Executive",
          "Sales Executive",
          "Research Scientist",
          "Sales Representative",
          "Laboratory Technician",
          "Healthcare Representative",
          "Sales Executive",
          "Laboratory Technician",
          "Research Scientist",
          "Sales Executive",
          "Laboratory Technician",
          "Manager",
          "Sales Executive",
          "Laboratory Technician",
          "Research Scientist",
          "Manager",
          "Laboratory Technician",
          "Sales Executive",
          "Healthcare Representative",
          "Sales Executive",
          "Manufacturing Director",
          "Manufacturing Director",
          "Manager",
          "Laboratory Technician",
          "Manufacturing Director",
          "Research Scientist",
          "Research Director",
          "Sales Executive",
          "Research Scientist",
          "Sales Representative",
          "Manufacturing Director",
          "Healthcare Representative",
          "Manager",
          "Manufacturing Director",
          "Manufacturing Director",
          "Sales Executive",
          "Research Scientist",
          "Sales Executive",
          "Manufacturing Director",
          "Laboratory Technician",
          "Laboratory Technician",
          "Laboratory Technician",
          "Human Resources",
          "Research Scientist",
          "Manufacturing Director",
          "Research Scientist",
          "Manager",
          "Research Scientist",
          "Manager",
          "Sales Representative",
          "Sales Executive",
          "Sales Executive",
          "Research Scientist",
          "Research Scientist",
          "Research Director",
          "Healthcare Representative",
          "Sales Executive",
          "Sales Executive",
          "Sales Executive",
          "Sales Executive",
          "Laboratory Technician",
          "Manager",
          "Research Director",
          "Sales Executive",
          "Research Scientist",
          "Sales Executive",
          "Research Scientist",
          "Manufacturing Director",
          "Laboratory Technician"
         ],
         "legendgroup": "",
         "marker": {
          "color": {
           "bdata": "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",
           "dtype": "f8"
          },
          "coloraxis": "coloraxis",
          "opacity": 0.7,
          "symbol": "circle"
         },
         "mode": "markers",
         "name": "",
         "showlegend": false,
         "type": "scattergl",
         "x": {
          "bdata": "nQkhHZNN3xbRFKUKbBT1CONCuhmHChIYHBiKDhINvzNOFWMqhAmcJiYaWgn7DYczYRGCJZIO3iYIMvYsCDQ0CQcSWQ/1TOIMsgvLGAIJbQm+NcA+7BhwFq4PzxF2FDRJIhbfJCcSGQh7CngLshjvCkkuQwdaNGEQ2h0nFYUSPRD9H6Q5EwrNGmMKsg3VEt0QQQaVNmkXTw8WCVQIZUqxKSVL0B1cF6xCORiZLy5MJg5uJfEDPA3LE/EYBhRHCD4kVhduC8kViwZdC/1KLxbfGS5LVxJuCuwH/EYqNQkJGCftCIAuuDQ4KYwW/gh3C1sN5ge6EWQJJCKHEawI3gpVKNoK5w7yC+cb/iC0C7EaKghECbwgQxAoCo8iQRlLECYJICAGEowufEoYCXwmyjZhCmEKFghZDIEdRAyZEGoIOwshHyQJ0wlJCBQNbyNxErgUTCDsDf0YlQwjGKoRZBSJKEUJOUzwQTEOiArxC64PiA2eNfoHthnlCJI0pCRGEREa80AbD2IQCw2hEK4JkRm1CrsIwBMjCxMJHBYjNd4MsEPrCmMTxwprDl4EbRURCU8IVgeAKo4TcQ0GI34KfhETQQUVnhKkELYqHBeUGrBEPgkCC4ASRgtBFX0RCTXNGKsSeAiCDCEKjDbrKKYGjwqKMz4OP0J/NW8UIQ5wQQ8JjBpwFbkRvSllEIdNuhfuHFsV6UiJFmgP8AquF5saxUWQFyIVyjWoCHgS3RqfDqUItQqdE/EPDCgGCuhBhhMXNX4I6BcJKmQJJQu9M5QoQhDEFu4PWRRMCYhJmCzlFf8JhiNVCbUe0wk=",
          "dtype": "i2"
         },
         "xaxis": "x2",
         "y": {
          "bdata": "BAECDAYXCAENDgIBBgIJHAEUDgsKEQEaGQIBFwUPHAsIDAEFGQkGEwwQFgUVFAMHChgDBgMKCQEdChcPExQLFwkIDgMGBgUDBhgBEAkWAQECEAIKAQsSAQQKCRASAQgDBgYGFgMBCQcCCQMYAQ8ZBwQBFAUFARAFGQIGCgQKCgMCChEHBQQLAgcKBAsJCgMCCRIRAgUCBQMJARgOFAQBBAMYAhUDCgYTChUbHBYIBwgQAxwXAgIXAgICAgMBHRodBgIDBwgFEREOCAUJAQECGhkOEwQYEwkFBRYEBREBAgIBDAoHFxIDBQgZBxUHCAECDwECAQUCBhgCGg0DCQIBCAECCQoJBxgWCgoCAQECAgYCAwEBAg4KEwUGAQMCAgYBFQkKAwYZBAQCBAICCAcJGRIBDA==",
          "dtype": "i1"
         },
         "yaxis": "y2"
        }
       ],
       "layout": {
        "annotations": [
         {
          "font": {},
          "showarrow": false,
          "text": "Status Overtime=No",
          "x": 0.245,
          "xanchor": "center",
          "xref": "paper",
          "y": 1,
          "yanchor": "bottom",
          "yref": "paper"
         },
         {
          "font": {},
          "showarrow": false,
          "text": "Status Overtime=Yes",
          "x": 0.755,
          "xanchor": "center",
          "xref": "paper",
          "y": 1,
          "yanchor": "bottom",
          "yref": "paper"
         }
        ],
        "coloraxis": {
         "colorbar": {
          "title": {
           "text": "Status Attrition"
          }
         },
         "colorscale": [
          [
           0,
           "#0d0887"
          ],
          [
           0.1111111111111111,
           "#46039f"
          ],
          [
           0.2222222222222222,
           "#7201a8"
          ],
          [
           0.3333333333333333,
           "#9c179e"
          ],
          [
           0.4444444444444444,
           "#bd3786"
          ],
          [
           0.5555555555555556,
           "#d8576b"
          ],
          [
           0.6666666666666666,
           "#ed7953"
          ],
          [
           0.7777777777777778,
           "#fb9f3a"
          ],
          [
           0.8888888888888888,
           "#fdca26"
          ],
          [
           1,
           "#f0f921"
          ]
         ]
        },
        "height": 600,
        "legend": {
         "tracegroupgap": 0
        },
        "template": {
         "data": {
          "bar": [
           {
            "error_x": {
             "color": "#2a3f5f"
            },
            "error_y": {
             "color": "#2a3f5f"
            },
            "marker": {
             "line": {
              "color": "white",
              "width": 0.5
             },
             "pattern": {
              "fillmode": "overlay",
              "size": 10,
              "solidity": 0.2
             }
            },
            "type": "bar"
           }
          ],
          "barpolar": [
           {
            "marker": {
             "line": {
              "color": "white",
              "width": 0.5
             },
             "pattern": {
              "fillmode": "overlay",
              "size": 10,
              "solidity": 0.2
             }
            },
            "type": "barpolar"
           }
          ],
          "carpet": [
           {
            "aaxis": {
             "endlinecolor": "#2a3f5f",
             "gridcolor": "#C8D4E3",
             "linecolor": "#C8D4E3",
             "minorgridcolor": "#C8D4E3",
             "startlinecolor": "#2a3f5f"
            },
            "baxis": {
             "endlinecolor": "#2a3f5f",
             "gridcolor": "#C8D4E3",
             "linecolor": "#C8D4E3",
             "minorgridcolor": "#C8D4E3",
             "startlinecolor": "#2a3f5f"
            },
            "type": "carpet"
           }
          ],
          "choropleth": [
           {
            "colorbar": {
             "outlinewidth": 0,
             "ticks": ""
            },
            "type": "choropleth"
           }
          ],
          "contour": [
           {
            "colorbar": {
             "outlinewidth": 0,
             "ticks": ""
            },
            "colorscale": [
             [
              0,
              "#0d0887"
             ],
             [
              0.1111111111111111,
              "#46039f"
             ],
             [
              0.2222222222222222,
              "#7201a8"
             ],
             [
              0.3333333333333333,
              "#9c179e"
             ],
             [
              0.4444444444444444,
              "#bd3786"
             ],
             [
              0.5555555555555556,
              "#d8576b"
             ],
             [
              0.6666666666666666,
              "#ed7953"
             ],
             [
              0.7777777777777778,
              "#fb9f3a"
             ],
             [
              0.8888888888888888,
              "#fdca26"
             ],
             [
              1,
              "#f0f921"
             ]
            ],
            "type": "contour"
           }
          ],
          "contourcarpet": [
           {
            "colorbar": {
             "outlinewidth": 0,
             "ticks": ""
            },
            "type": "contourcarpet"
           }
          ],
          "heatmap": [
           {
            "colorbar": {
             "outlinewidth": 0,
             "ticks": ""
            },
            "colorscale": [
             [
              0,
              "#0d0887"
             ],
             [
              0.1111111111111111,
              "#46039f"
             ],
             [
              0.2222222222222222,
              "#7201a8"
             ],
             [
              0.3333333333333333,
              "#9c179e"
             ],
             [
              0.4444444444444444,
              "#bd3786"
             ],
             [
              0.5555555555555556,
              "#d8576b"
             ],
             [
              0.6666666666666666,
              "#ed7953"
             ],
             [
              0.7777777777777778,
              "#fb9f3a"
             ],
             [
              0.8888888888888888,
              "#fdca26"
             ],
             [
              1,
              "#f0f921"
             ]
            ],
            "type": "heatmap"
           }
          ],
          "histogram": [
           {
            "marker": {
             "pattern": {
              "fillmode": "overlay",
              "size": 10,
              "solidity": 0.2
             }
            },
            "type": "histogram"
           }
          ],
          "histogram2d": [
           {
            "colorbar": {
             "outlinewidth": 0,
             "ticks": ""
            },
            "colorscale": [
             [
              0,
              "#0d0887"
             ],
             [
              0.1111111111111111,
              "#46039f"
             ],
             [
              0.2222222222222222,
              "#7201a8"
             ],
             [
              0.3333333333333333,
              "#9c179e"
             ],
             [
              0.4444444444444444,
              "#bd3786"
             ],
             [
              0.5555555555555556,
              "#d8576b"
             ],
             [
              0.6666666666666666,
              "#ed7953"
             ],
             [
              0.7777777777777778,
              "#fb9f3a"
             ],
             [
              0.8888888888888888,
              "#fdca26"
             ],
             [
              1,
              "#f0f921"
             ]
            ],
            "type": "histogram2d"
           }
          ],
          "histogram2dcontour": [
           {
            "colorbar": {
             "outlinewidth": 0,
             "ticks": ""
            },
            "colorscale": [
             [
              0,
              "#0d0887"
             ],
             [
              0.1111111111111111,
              "#46039f"
             ],
             [
              0.2222222222222222,
              "#7201a8"
             ],
             [
              0.3333333333333333,
              "#9c179e"
             ],
             [
              0.4444444444444444,
              "#bd3786"
             ],
             [
              0.5555555555555556,
              "#d8576b"
             ],
             [
              0.6666666666666666,
              "#ed7953"
             ],
             [
              0.7777777777777778,
              "#fb9f3a"
             ],
             [
              0.8888888888888888,
              "#fdca26"
             ],
             [
              1,
              "#f0f921"
             ]
            ],
            "type": "histogram2dcontour"
           }
          ],
          "mesh3d": [
           {
            "colorbar": {
             "outlinewidth": 0,
             "ticks": ""
            },
            "type": "mesh3d"
           }
          ],
          "parcoords": [
           {
            "line": {
             "colorbar": {
              "outlinewidth": 0,
              "ticks": ""
             }
            },
            "type": "parcoords"
           }
          ],
          "pie": [
           {
            "automargin": true,
            "type": "pie"
           }
          ],
          "scatter": [
           {
            "fillpattern": {
             "fillmode": "overlay",
             "size": 10,
             "solidity": 0.2
            },
            "type": "scatter"
           }
          ],
          "scatter3d": [
           {
            "line": {
             "colorbar": {
              "outlinewidth": 0,
              "ticks": ""
             }
            },
            "marker": {
             "colorbar": {
              "outlinewidth": 0,
              "ticks": ""
             }
            },
            "type": "scatter3d"
           }
          ],
          "scattercarpet": [
           {
            "marker": {
             "colorbar": {
              "outlinewidth": 0,
              "ticks": ""
             }
            },
            "type": "scattercarpet"
           }
          ],
          "scattergeo": [
           {
            "marker": {
             "colorbar": {
              "outlinewidth": 0,
              "ticks": ""
             }
            },
            "type": "scattergeo"
           }
          ],
          "scattergl": [
           {
            "marker": {
             "colorbar": {
              "outlinewidth": 0,
              "ticks": ""
             }
            },
            "type": "scattergl"
           }
          ],
          "scattermap": [
           {
            "marker": {
             "colorbar": {
              "outlinewidth": 0,
              "ticks": ""
             }
            },
            "type": "scattermap"
           }
          ],
          "scattermapbox": [
           {
            "marker": {
             "colorbar": {
              "outlinewidth": 0,
              "ticks": ""
             }
            },
            "type": "scattermapbox"
           }
          ],
          "scatterpolar": [
           {
            "marker": {
             "colorbar": {
              "outlinewidth": 0,
              "ticks": ""
             }
            },
            "type": "scatterpolar"
           }
          ],
          "scatterpolargl": [
           {
            "marker": {
             "colorbar": {
              "outlinewidth": 0,
              "ticks": ""
             }
            },
            "type": "scatterpolargl"
           }
          ],
          "scatterternary": [
           {
            "marker": {
             "colorbar": {
              "outlinewidth": 0,
              "ticks": ""
             }
            },
            "type": "scatterternary"
           }
          ],
          "surface": [
           {
            "colorbar": {
             "outlinewidth": 0,
             "ticks": ""
            },
            "colorscale": [
             [
              0,
              "#0d0887"
             ],
             [
              0.1111111111111111,
              "#46039f"
             ],
             [
              0.2222222222222222,
              "#7201a8"
             ],
             [
              0.3333333333333333,
              "#9c179e"
             ],
             [
              0.4444444444444444,
              "#bd3786"
             ],
             [
              0.5555555555555556,
              "#d8576b"
             ],
             [
              0.6666666666666666,
              "#ed7953"
             ],
             [
              0.7777777777777778,
              "#fb9f3a"
             ],
             [
              0.8888888888888888,
              "#fdca26"
             ],
             [
              1,
              "#f0f921"
             ]
            ],
            "type": "surface"
           }
          ],
          "table": [
           {
            "cells": {
             "fill": {
              "color": "#EBF0F8"
             },
             "line": {
              "color": "white"
             }
            },
            "header": {
             "fill": {
              "color": "#C8D4E3"
             },
             "line": {
              "color": "white"
             }
            },
            "type": "table"
           }
          ]
         },
         "layout": {
          "annotationdefaults": {
           "arrowcolor": "#2a3f5f",
           "arrowhead": 0,
           "arrowwidth": 1
          },
          "autotypenumbers": "strict",
          "coloraxis": {
           "colorbar": {
            "outlinewidth": 0,
            "ticks": ""
           }
          },
          "colorscale": {
           "diverging": [
            [
             0,
             "#8e0152"
            ],
            [
             0.1,
             "#c51b7d"
            ],
            [
             0.2,
             "#de77ae"
            ],
            [
             0.3,
             "#f1b6da"
            ],
            [
             0.4,
             "#fde0ef"
            ],
            [
             0.5,
             "#f7f7f7"
            ],
            [
             0.6,
             "#e6f5d0"
            ],
            [
             0.7,
             "#b8e186"
            ],
            [
             0.8,
             "#7fbc41"
            ],
            [
             0.9,
             "#4d9221"
            ],
            [
             1,
             "#276419"
            ]
           ],
           "sequential": [
            [
             0,
             "#0d0887"
            ],
            [
             0.1111111111111111,
             "#46039f"
            ],
            [
             0.2222222222222222,
             "#7201a8"
            ],
            [
             0.3333333333333333,
             "#9c179e"
            ],
            [
             0.4444444444444444,
             "#bd3786"
            ],
            [
             0.5555555555555556,
             "#d8576b"
            ],
            [
             0.6666666666666666,
             "#ed7953"
            ],
            [
             0.7777777777777778,
             "#fb9f3a"
            ],
            [
             0.8888888888888888,
             "#fdca26"
            ],
            [
             1,
             "#f0f921"
            ]
           ],
           "sequentialminus": [
            [
             0,
             "#0d0887"
            ],
            [
             0.1111111111111111,
             "#46039f"
            ],
            [
             0.2222222222222222,
             "#7201a8"
            ],
            [
             0.3333333333333333,
             "#9c179e"
            ],
            [
             0.4444444444444444,
             "#bd3786"
            ],
            [
             0.5555555555555556,
             "#d8576b"
            ],
            [
             0.6666666666666666,
             "#ed7953"
            ],
            [
             0.7777777777777778,
             "#fb9f3a"
            ],
            [
             0.8888888888888888,
             "#fdca26"
            ],
            [
             1,
             "#f0f921"
            ]
           ]
          },
          "colorway": [
           "#636efa",
           "#EF553B",
           "#00cc96",
           "#ab63fa",
           "#FFA15A",
           "#19d3f3",
           "#FF6692",
           "#B6E880",
           "#FF97FF",
           "#FECB52"
          ],
          "font": {
           "color": "#2a3f5f"
          },
          "geo": {
           "bgcolor": "white",
           "lakecolor": "white",
           "landcolor": "white",
           "showlakes": true,
           "showland": true,
           "subunitcolor": "#C8D4E3"
          },
          "hoverlabel": {
           "align": "left"
          },
          "hovermode": "closest",
          "mapbox": {
           "style": "light"
          },
          "paper_bgcolor": "white",
          "plot_bgcolor": "white",
          "polar": {
           "angularaxis": {
            "gridcolor": "#EBF0F8",
            "linecolor": "#EBF0F8",
            "ticks": ""
           },
           "bgcolor": "white",
           "radialaxis": {
            "gridcolor": "#EBF0F8",
            "linecolor": "#EBF0F8",
            "ticks": ""
           }
          },
          "scene": {
           "xaxis": {
            "backgroundcolor": "white",
            "gridcolor": "#DFE8F3",
            "gridwidth": 2,
            "linecolor": "#EBF0F8",
            "showbackground": true,
            "ticks": "",
            "zerolinecolor": "#EBF0F8"
           },
           "yaxis": {
            "backgroundcolor": "white",
            "gridcolor": "#DFE8F3",
            "gridwidth": 2,
            "linecolor": "#EBF0F8",
            "showbackground": true,
            "ticks": "",
            "zerolinecolor": "#EBF0F8"
           },
           "zaxis": {
            "backgroundcolor": "white",
            "gridcolor": "#DFE8F3",
            "gridwidth": 2,
            "linecolor": "#EBF0F8",
            "showbackground": true,
            "ticks": "",
            "zerolinecolor": "#EBF0F8"
           }
          },
          "shapedefaults": {
           "line": {
            "color": "#2a3f5f"
           }
          },
          "ternary": {
           "aaxis": {
            "gridcolor": "#DFE8F3",
            "linecolor": "#A2B1C6",
            "ticks": ""
           },
           "baxis": {
            "gridcolor": "#DFE8F3",
            "linecolor": "#A2B1C6",
            "ticks": ""
           },
           "bgcolor": "white",
           "caxis": {
            "gridcolor": "#DFE8F3",
            "linecolor": "#A2B1C6",
            "ticks": ""
           }
          },
          "title": {
           "x": 0.05
          },
          "xaxis": {
           "automargin": true,
           "gridcolor": "#EBF0F8",
           "linecolor": "#EBF0F8",
           "ticks": "",
           "title": {
            "standoff": 15
           },
           "zerolinecolor": "#EBF0F8",
           "zerolinewidth": 2
          },
          "yaxis": {
           "automargin": true,
           "gridcolor": "#EBF0F8",
           "linecolor": "#EBF0F8",
           "ticks": "",
           "title": {
            "standoff": 15
           },
           "zerolinecolor": "#EBF0F8",
           "zerolinewidth": 2
          }
         }
        },
        "title": {
         "text": "Hubungan antara Gaji, Jarak dari Rumah, Overtime dengan Attrition"
        },
        "xaxis": {
         "anchor": "y",
         "domain": [
          0,
          0.49
         ],
         "title": {
          "text": "Gaji Bulanan"
         }
        },
        "xaxis2": {
         "anchor": "y2",
         "domain": [
          0.51,
          1
         ],
         "matches": "x",
         "title": {
          "text": "Gaji Bulanan"
         }
        },
        "yaxis": {
         "anchor": "x",
         "domain": [
          0,
          1
         ],
         "title": {
          "text": "Jarak dari Rumah (km)"
         }
        },
        "yaxis2": {
         "anchor": "x2",
         "domain": [
          0,
          1
         ],
         "matches": "y",
         "showticklabels": false
        }
       }
      }
     },
     "metadata": {},
     "output_type": "display_data"
    },
    {
     "name": "stdout",
     "output_type": "stream",
     "text": [
      "Visualisasi telah disimpan sebagai './visualisasi/attrition_income_distance_overtime.jpg'\n"
     ]
    }
   ],
   "source": [
    "# 3. Analisis multivariate: Gaji, Jarak dari Rumah, Overtime, dan Attrition\n",
    "# Scatter plot dengan multiple dimensions\n",
    "fig = px.scatter(\n",
    "    df,\n",
    "    x='MonthlyIncome',\n",
    "    y='DistanceFromHome',\n",
    "    color='Attrition',\n",
    "    facet_col='OverTime',\n",
    "    opacity=0.7,\n",
    "    hover_name='JobRole',\n",
    "    hover_data=['Age', 'YearsAtCompany', 'JobSatisfaction'],\n",
    "    title='Hubungan antara Gaji, Jarak dari Rumah, Overtime dengan Attrition',\n",
    "    labels={\n",
    "        'MonthlyIncome': 'Gaji Bulanan',\n",
    "        'DistanceFromHome': 'Jarak dari Rumah (km)',\n",
    "        'Attrition': 'Status Attrition',\n",
    "        'OverTime': 'Status Overtime'\n",
    "    },\n",
    "    color_discrete_sequence=['green', 'red']\n",
    ")\n",
    "fig.update_layout(\n",
    "    template='plotly_white',\n",
    "    height=600\n",
    ")\n",
    "fig.show()\n",
    "\n",
    "# Simpan gambar\n",
    "fig.write_image(\"./visualisasi/attrition_income_distance_overtime.jpg\", scale=2)\n",
    "print(\"Visualisasi telah disimpan sebagai './visualisasi/attrition_income_distance_overtime.jpg'\")"
   ]
  },
  {
   "cell_type": "code",
   "execution_count": 89,
   "id": "f421f504",
   "metadata": {},
   "outputs": [
    {
     "name": "stdout",
     "output_type": "stream",
     "text": [
      "Tingkat Attrition (%) berdasarkan Kelompok Usia dan Job Level:\n"
     ]
    },
    {
     "data": {
      "application/vnd.microsoft.datawrangler.viewer.v0+json": {
       "columns": [
        {
         "name": "AgeGroup",
         "rawType": "object",
         "type": "string"
        },
        {
         "name": "1",
         "rawType": "float64",
         "type": "float"
        },
        {
         "name": "2",
         "rawType": "float64",
         "type": "float"
        },
        {
         "name": "3",
         "rawType": "float64",
         "type": "float"
        },
        {
         "name": "4",
         "rawType": "float64",
         "type": "float"
        },
        {
         "name": "5",
         "rawType": "float64",
         "type": "float"
        }
       ],
       "conversionMethod": "pd.DataFrame",
       "ref": "d72f0b82-fc1b-4f71-aa1c-748a3af43c11",
       "rows": [
        [
         "30-39",
         "22.5609756097561",
         "10.43956043956044",
         "11.11111111111111",
         "12.5",
         "0.0"
        ],
        [
         "40-49",
         "14.285714285714285",
         "7.777777777777778",
         "18.181818181818183",
         "6.25",
         "7.142857142857142"
        ],
        [
         "50+",
         "21.73913043478261",
         "14.285714285714285",
         "14.814814814814813",
         "2.564102564102564",
         "12.0"
        ],
        [
         "< 30",
         "37.34177215189873",
         "10.9375",
         "30.76923076923077",
         "0.0",
         null
        ]
       ],
       "shape": {
        "columns": 5,
        "rows": 4
       }
      },
      "text/html": [
       "<div>\n",
       "<style scoped>\n",
       "    .dataframe tbody tr th:only-of-type {\n",
       "        vertical-align: middle;\n",
       "    }\n",
       "\n",
       "    .dataframe tbody tr th {\n",
       "        vertical-align: top;\n",
       "    }\n",
       "\n",
       "    .dataframe thead th {\n",
       "        text-align: right;\n",
       "    }\n",
       "</style>\n",
       "<table border=\"1\" class=\"dataframe\">\n",
       "  <thead>\n",
       "    <tr style=\"text-align: right;\">\n",
       "      <th>JobLevel</th>\n",
       "      <th>1</th>\n",
       "      <th>2</th>\n",
       "      <th>3</th>\n",
       "      <th>4</th>\n",
       "      <th>5</th>\n",
       "    </tr>\n",
       "    <tr>\n",
       "      <th>AgeGroup</th>\n",
       "      <th></th>\n",
       "      <th></th>\n",
       "      <th></th>\n",
       "      <th></th>\n",
       "      <th></th>\n",
       "    </tr>\n",
       "  </thead>\n",
       "  <tbody>\n",
       "    <tr>\n",
       "      <th>30-39</th>\n",
       "      <td>22.560976</td>\n",
       "      <td>10.439560</td>\n",
       "      <td>11.111111</td>\n",
       "      <td>12.500000</td>\n",
       "      <td>0.000000</td>\n",
       "    </tr>\n",
       "    <tr>\n",
       "      <th>40-49</th>\n",
       "      <td>14.285714</td>\n",
       "      <td>7.777778</td>\n",
       "      <td>18.181818</td>\n",
       "      <td>6.250000</td>\n",
       "      <td>7.142857</td>\n",
       "    </tr>\n",
       "    <tr>\n",
       "      <th>50+</th>\n",
       "      <td>21.739130</td>\n",
       "      <td>14.285714</td>\n",
       "      <td>14.814815</td>\n",
       "      <td>2.564103</td>\n",
       "      <td>12.000000</td>\n",
       "    </tr>\n",
       "    <tr>\n",
       "      <th>&lt; 30</th>\n",
       "      <td>37.341772</td>\n",
       "      <td>10.937500</td>\n",
       "      <td>30.769231</td>\n",
       "      <td>0.000000</td>\n",
       "      <td>NaN</td>\n",
       "    </tr>\n",
       "  </tbody>\n",
       "</table>\n",
       "</div>"
      ],
      "text/plain": [
       "JobLevel          1          2          3          4          5\n",
       "AgeGroup                                                       \n",
       "30-39     22.560976  10.439560  11.111111  12.500000   0.000000\n",
       "40-49     14.285714   7.777778  18.181818   6.250000   7.142857\n",
       "50+       21.739130  14.285714  14.814815   2.564103  12.000000\n",
       "< 30      37.341772  10.937500  30.769231   0.000000        NaN"
      ]
     },
     "metadata": {},
     "output_type": "display_data"
    },
    {
     "data": {
      "application/vnd.plotly.v1+json": {
       "config": {
        "plotlyServerURL": "https://plot.ly"
       },
       "data": [
        {
         "coloraxis": "coloraxis",
         "hovertemplate": "Job Level: %{x}<br>Kelompok Usia: %{y}<br>Attrition Rate (%): %{z}<extra></extra>",
         "name": "0",
         "texttemplate": "%{z:.1f}",
         "type": "heatmap",
         "x": {
          "bdata": "AQIDBAU=",
          "dtype": "i1"
         },
         "xaxis": "x",
         "y": [
          "30-39",
          "40-49",
          "50+",
          "< 30"
         ],
         "yaxis": "y",
         "z": {
          "bdata": "kMH5GJyPNkARDuEQDuEkQI7jOI7jOCZAAAAAAAAAKUAAAAAAAAAAACRJkiRJkixAx3Ecx3EcH0Avuuiiiy4yQAAAAAAAABlAJEmSJEmSHECc3vSmN701QCRJkiRJkixAEtpLaC+hLUA0SIM0SIMEQAAAAAAAAChAV4ubML+rQkAAAAAAAOAlQE/sxE7sxD5AAAAAAAAAAAAAAAAAAAD4fw==",
          "dtype": "f8",
          "shape": "4, 5"
         }
        }
       ],
       "layout": {
        "coloraxis": {
         "colorbar": {
          "title": {
           "text": "Attrition Rate (%)"
          }
         },
         "colorscale": [
          [
           0,
           "#f0f921"
          ],
          [
           0.1111111111111111,
           "#fdca26"
          ],
          [
           0.2222222222222222,
           "#fb9f3a"
          ],
          [
           0.3333333333333333,
           "#ed7953"
          ],
          [
           0.4444444444444444,
           "#d8576b"
          ],
          [
           0.5555555555555556,
           "#bd3786"
          ],
          [
           0.6666666666666666,
           "#9c179e"
          ],
          [
           0.7777777777777778,
           "#7201a8"
          ],
          [
           0.8888888888888888,
           "#46039f"
          ],
          [
           1,
           "#0d0887"
          ]
         ]
        },
        "template": {
         "data": {
          "bar": [
           {
            "error_x": {
             "color": "#2a3f5f"
            },
            "error_y": {
             "color": "#2a3f5f"
            },
            "marker": {
             "line": {
              "color": "white",
              "width": 0.5
             },
             "pattern": {
              "fillmode": "overlay",
              "size": 10,
              "solidity": 0.2
             }
            },
            "type": "bar"
           }
          ],
          "barpolar": [
           {
            "marker": {
             "line": {
              "color": "white",
              "width": 0.5
             },
             "pattern": {
              "fillmode": "overlay",
              "size": 10,
              "solidity": 0.2
             }
            },
            "type": "barpolar"
           }
          ],
          "carpet": [
           {
            "aaxis": {
             "endlinecolor": "#2a3f5f",
             "gridcolor": "#C8D4E3",
             "linecolor": "#C8D4E3",
             "minorgridcolor": "#C8D4E3",
             "startlinecolor": "#2a3f5f"
            },
            "baxis": {
             "endlinecolor": "#2a3f5f",
             "gridcolor": "#C8D4E3",
             "linecolor": "#C8D4E3",
             "minorgridcolor": "#C8D4E3",
             "startlinecolor": "#2a3f5f"
            },
            "type": "carpet"
           }
          ],
          "choropleth": [
           {
            "colorbar": {
             "outlinewidth": 0,
             "ticks": ""
            },
            "type": "choropleth"
           }
          ],
          "contour": [
           {
            "colorbar": {
             "outlinewidth": 0,
             "ticks": ""
            },
            "colorscale": [
             [
              0,
              "#0d0887"
             ],
             [
              0.1111111111111111,
              "#46039f"
             ],
             [
              0.2222222222222222,
              "#7201a8"
             ],
             [
              0.3333333333333333,
              "#9c179e"
             ],
             [
              0.4444444444444444,
              "#bd3786"
             ],
             [
              0.5555555555555556,
              "#d8576b"
             ],
             [
              0.6666666666666666,
              "#ed7953"
             ],
             [
              0.7777777777777778,
              "#fb9f3a"
             ],
             [
              0.8888888888888888,
              "#fdca26"
             ],
             [
              1,
              "#f0f921"
             ]
            ],
            "type": "contour"
           }
          ],
          "contourcarpet": [
           {
            "colorbar": {
             "outlinewidth": 0,
             "ticks": ""
            },
            "type": "contourcarpet"
           }
          ],
          "heatmap": [
           {
            "colorbar": {
             "outlinewidth": 0,
             "ticks": ""
            },
            "colorscale": [
             [
              0,
              "#0d0887"
             ],
             [
              0.1111111111111111,
              "#46039f"
             ],
             [
              0.2222222222222222,
              "#7201a8"
             ],
             [
              0.3333333333333333,
              "#9c179e"
             ],
             [
              0.4444444444444444,
              "#bd3786"
             ],
             [
              0.5555555555555556,
              "#d8576b"
             ],
             [
              0.6666666666666666,
              "#ed7953"
             ],
             [
              0.7777777777777778,
              "#fb9f3a"
             ],
             [
              0.8888888888888888,
              "#fdca26"
             ],
             [
              1,
              "#f0f921"
             ]
            ],
            "type": "heatmap"
           }
          ],
          "histogram": [
           {
            "marker": {
             "pattern": {
              "fillmode": "overlay",
              "size": 10,
              "solidity": 0.2
             }
            },
            "type": "histogram"
           }
          ],
          "histogram2d": [
           {
            "colorbar": {
             "outlinewidth": 0,
             "ticks": ""
            },
            "colorscale": [
             [
              0,
              "#0d0887"
             ],
             [
              0.1111111111111111,
              "#46039f"
             ],
             [
              0.2222222222222222,
              "#7201a8"
             ],
             [
              0.3333333333333333,
              "#9c179e"
             ],
             [
              0.4444444444444444,
              "#bd3786"
             ],
             [
              0.5555555555555556,
              "#d8576b"
             ],
             [
              0.6666666666666666,
              "#ed7953"
             ],
             [
              0.7777777777777778,
              "#fb9f3a"
             ],
             [
              0.8888888888888888,
              "#fdca26"
             ],
             [
              1,
              "#f0f921"
             ]
            ],
            "type": "histogram2d"
           }
          ],
          "histogram2dcontour": [
           {
            "colorbar": {
             "outlinewidth": 0,
             "ticks": ""
            },
            "colorscale": [
             [
              0,
              "#0d0887"
             ],
             [
              0.1111111111111111,
              "#46039f"
             ],
             [
              0.2222222222222222,
              "#7201a8"
             ],
             [
              0.3333333333333333,
              "#9c179e"
             ],
             [
              0.4444444444444444,
              "#bd3786"
             ],
             [
              0.5555555555555556,
              "#d8576b"
             ],
             [
              0.6666666666666666,
              "#ed7953"
             ],
             [
              0.7777777777777778,
              "#fb9f3a"
             ],
             [
              0.8888888888888888,
              "#fdca26"
             ],
             [
              1,
              "#f0f921"
             ]
            ],
            "type": "histogram2dcontour"
           }
          ],
          "mesh3d": [
           {
            "colorbar": {
             "outlinewidth": 0,
             "ticks": ""
            },
            "type": "mesh3d"
           }
          ],
          "parcoords": [
           {
            "line": {
             "colorbar": {
              "outlinewidth": 0,
              "ticks": ""
             }
            },
            "type": "parcoords"
           }
          ],
          "pie": [
           {
            "automargin": true,
            "type": "pie"
           }
          ],
          "scatter": [
           {
            "fillpattern": {
             "fillmode": "overlay",
             "size": 10,
             "solidity": 0.2
            },
            "type": "scatter"
           }
          ],
          "scatter3d": [
           {
            "line": {
             "colorbar": {
              "outlinewidth": 0,
              "ticks": ""
             }
            },
            "marker": {
             "colorbar": {
              "outlinewidth": 0,
              "ticks": ""
             }
            },
            "type": "scatter3d"
           }
          ],
          "scattercarpet": [
           {
            "marker": {
             "colorbar": {
              "outlinewidth": 0,
              "ticks": ""
             }
            },
            "type": "scattercarpet"
           }
          ],
          "scattergeo": [
           {
            "marker": {
             "colorbar": {
              "outlinewidth": 0,
              "ticks": ""
             }
            },
            "type": "scattergeo"
           }
          ],
          "scattergl": [
           {
            "marker": {
             "colorbar": {
              "outlinewidth": 0,
              "ticks": ""
             }
            },
            "type": "scattergl"
           }
          ],
          "scattermap": [
           {
            "marker": {
             "colorbar": {
              "outlinewidth": 0,
              "ticks": ""
             }
            },
            "type": "scattermap"
           }
          ],
          "scattermapbox": [
           {
            "marker": {
             "colorbar": {
              "outlinewidth": 0,
              "ticks": ""
             }
            },
            "type": "scattermapbox"
           }
          ],
          "scatterpolar": [
           {
            "marker": {
             "colorbar": {
              "outlinewidth": 0,
              "ticks": ""
             }
            },
            "type": "scatterpolar"
           }
          ],
          "scatterpolargl": [
           {
            "marker": {
             "colorbar": {
              "outlinewidth": 0,
              "ticks": ""
             }
            },
            "type": "scatterpolargl"
           }
          ],
          "scatterternary": [
           {
            "marker": {
             "colorbar": {
              "outlinewidth": 0,
              "ticks": ""
             }
            },
            "type": "scatterternary"
           }
          ],
          "surface": [
           {
            "colorbar": {
             "outlinewidth": 0,
             "ticks": ""
            },
            "colorscale": [
             [
              0,
              "#0d0887"
             ],
             [
              0.1111111111111111,
              "#46039f"
             ],
             [
              0.2222222222222222,
              "#7201a8"
             ],
             [
              0.3333333333333333,
              "#9c179e"
             ],
             [
              0.4444444444444444,
              "#bd3786"
             ],
             [
              0.5555555555555556,
              "#d8576b"
             ],
             [
              0.6666666666666666,
              "#ed7953"
             ],
             [
              0.7777777777777778,
              "#fb9f3a"
             ],
             [
              0.8888888888888888,
              "#fdca26"
             ],
             [
              1,
              "#f0f921"
             ]
            ],
            "type": "surface"
           }
          ],
          "table": [
           {
            "cells": {
             "fill": {
              "color": "#EBF0F8"
             },
             "line": {
              "color": "white"
             }
            },
            "header": {
             "fill": {
              "color": "#C8D4E3"
             },
             "line": {
              "color": "white"
             }
            },
            "type": "table"
           }
          ]
         },
         "layout": {
          "annotationdefaults": {
           "arrowcolor": "#2a3f5f",
           "arrowhead": 0,
           "arrowwidth": 1
          },
          "autotypenumbers": "strict",
          "coloraxis": {
           "colorbar": {
            "outlinewidth": 0,
            "ticks": ""
           }
          },
          "colorscale": {
           "diverging": [
            [
             0,
             "#8e0152"
            ],
            [
             0.1,
             "#c51b7d"
            ],
            [
             0.2,
             "#de77ae"
            ],
            [
             0.3,
             "#f1b6da"
            ],
            [
             0.4,
             "#fde0ef"
            ],
            [
             0.5,
             "#f7f7f7"
            ],
            [
             0.6,
             "#e6f5d0"
            ],
            [
             0.7,
             "#b8e186"
            ],
            [
             0.8,
             "#7fbc41"
            ],
            [
             0.9,
             "#4d9221"
            ],
            [
             1,
             "#276419"
            ]
           ],
           "sequential": [
            [
             0,
             "#0d0887"
            ],
            [
             0.1111111111111111,
             "#46039f"
            ],
            [
             0.2222222222222222,
             "#7201a8"
            ],
            [
             0.3333333333333333,
             "#9c179e"
            ],
            [
             0.4444444444444444,
             "#bd3786"
            ],
            [
             0.5555555555555556,
             "#d8576b"
            ],
            [
             0.6666666666666666,
             "#ed7953"
            ],
            [
             0.7777777777777778,
             "#fb9f3a"
            ],
            [
             0.8888888888888888,
             "#fdca26"
            ],
            [
             1,
             "#f0f921"
            ]
           ],
           "sequentialminus": [
            [
             0,
             "#0d0887"
            ],
            [
             0.1111111111111111,
             "#46039f"
            ],
            [
             0.2222222222222222,
             "#7201a8"
            ],
            [
             0.3333333333333333,
             "#9c179e"
            ],
            [
             0.4444444444444444,
             "#bd3786"
            ],
            [
             0.5555555555555556,
             "#d8576b"
            ],
            [
             0.6666666666666666,
             "#ed7953"
            ],
            [
             0.7777777777777778,
             "#fb9f3a"
            ],
            [
             0.8888888888888888,
             "#fdca26"
            ],
            [
             1,
             "#f0f921"
            ]
           ]
          },
          "colorway": [
           "#636efa",
           "#EF553B",
           "#00cc96",
           "#ab63fa",
           "#FFA15A",
           "#19d3f3",
           "#FF6692",
           "#B6E880",
           "#FF97FF",
           "#FECB52"
          ],
          "font": {
           "color": "#2a3f5f"
          },
          "geo": {
           "bgcolor": "white",
           "lakecolor": "white",
           "landcolor": "white",
           "showlakes": true,
           "showland": true,
           "subunitcolor": "#C8D4E3"
          },
          "hoverlabel": {
           "align": "left"
          },
          "hovermode": "closest",
          "mapbox": {
           "style": "light"
          },
          "paper_bgcolor": "white",
          "plot_bgcolor": "white",
          "polar": {
           "angularaxis": {
            "gridcolor": "#EBF0F8",
            "linecolor": "#EBF0F8",
            "ticks": ""
           },
           "bgcolor": "white",
           "radialaxis": {
            "gridcolor": "#EBF0F8",
            "linecolor": "#EBF0F8",
            "ticks": ""
           }
          },
          "scene": {
           "xaxis": {
            "backgroundcolor": "white",
            "gridcolor": "#DFE8F3",
            "gridwidth": 2,
            "linecolor": "#EBF0F8",
            "showbackground": true,
            "ticks": "",
            "zerolinecolor": "#EBF0F8"
           },
           "yaxis": {
            "backgroundcolor": "white",
            "gridcolor": "#DFE8F3",
            "gridwidth": 2,
            "linecolor": "#EBF0F8",
            "showbackground": true,
            "ticks": "",
            "zerolinecolor": "#EBF0F8"
           },
           "zaxis": {
            "backgroundcolor": "white",
            "gridcolor": "#DFE8F3",
            "gridwidth": 2,
            "linecolor": "#EBF0F8",
            "showbackground": true,
            "ticks": "",
            "zerolinecolor": "#EBF0F8"
           }
          },
          "shapedefaults": {
           "line": {
            "color": "#2a3f5f"
           }
          },
          "ternary": {
           "aaxis": {
            "gridcolor": "#DFE8F3",
            "linecolor": "#A2B1C6",
            "ticks": ""
           },
           "baxis": {
            "gridcolor": "#DFE8F3",
            "linecolor": "#A2B1C6",
            "ticks": ""
           },
           "bgcolor": "white",
           "caxis": {
            "gridcolor": "#DFE8F3",
            "linecolor": "#A2B1C6",
            "ticks": ""
           }
          },
          "title": {
           "x": 0.05
          },
          "xaxis": {
           "automargin": true,
           "gridcolor": "#EBF0F8",
           "linecolor": "#EBF0F8",
           "ticks": "",
           "title": {
            "standoff": 15
           },
           "zerolinecolor": "#EBF0F8",
           "zerolinewidth": 2
          },
          "yaxis": {
           "automargin": true,
           "gridcolor": "#EBF0F8",
           "linecolor": "#EBF0F8",
           "ticks": "",
           "title": {
            "standoff": 15
           },
           "zerolinecolor": "#EBF0F8",
           "zerolinewidth": 2
          }
         }
        },
        "title": {
         "text": "Tingkat Attrition (%) Berdasarkan Kelompok Usia dan Job Level"
        },
        "xaxis": {
         "anchor": "y",
         "domain": [
          0,
          1
         ],
         "title": {
          "text": "Job Level"
         }
        },
        "yaxis": {
         "anchor": "x",
         "autorange": "reversed",
         "domain": [
          0,
          1
         ],
         "title": {
          "text": "Kelompok Usia"
         }
        }
       }
      }
     },
     "metadata": {},
     "output_type": "display_data"
    },
    {
     "name": "stdout",
     "output_type": "stream",
     "text": [
      "Visualisasi telah disimpan sebagai './visualisasi/attrition_age_joblevel.jpg'\n"
     ]
    }
   ],
   "source": [
    "# 4. Analisis multivariate: Usia, Job Level, dan Attrition\n",
    "# Buat kategori usia\n",
    "if 'AgeGroup' not in df.columns:\n",
    "    df['AgeGroup'] = pd.cut(\n",
    "        df['Age'],\n",
    "        bins=[20, 30, 40, 50, 60],\n",
    "        labels=['20-29', '30-39', '40-49', '50-59']\n",
    "    )\n",
    "\n",
    "# Buat tabel pivot\n",
    "pivot_age_joblevel = pd.crosstab(\n",
    "    index=df['AgeGroup'],\n",
    "    columns=df['JobLevel'],\n",
    "    values=df['Attrition'],\n",
    "    aggfunc='mean'\n",
    ") * 100\n",
    "\n",
    "# Tampilkan dataframe\n",
    "print(\"Tingkat Attrition (%) berdasarkan Kelompok Usia dan Job Level:\")\n",
    "display(pivot_age_joblevel)\n",
    "\n",
    "# Visualisasi dengan heatmap\n",
    "fig = px.imshow(\n",
    "    pivot_age_joblevel,\n",
    "    text_auto='.1f',\n",
    "    aspect='auto',\n",
    "    color_continuous_scale='Plasma_r',\n",
    "    title='Tingkat Attrition (%) Berdasarkan Kelompok Usia dan Job Level',\n",
    "    labels=dict(x='Job Level', y='Kelompok Usia', color='Attrition Rate (%)')\n",
    ")\n",
    "fig.update_layout(template='plotly_white')\n",
    "fig.show()\n",
    "\n",
    "# Simpan gambar\n",
    "fig.write_image(\"./visualisasi/attrition_age_joblevel.jpg\", scale=2)\n",
    "print(\"Visualisasi telah disimpan sebagai './visualisasi/attrition_age_joblevel.jpg'\")"
   ]
  },
  {
   "cell_type": "code",
   "execution_count": 66,
   "id": "a1cd56f4",
   "metadata": {},
   "outputs": [
    {
     "data": {
      "application/vnd.microsoft.datawrangler.viewer.v0+json": {
       "columns": [
        {
         "name": "OverTime",
         "rawType": "object",
         "type": "string"
        },
        {
         "name": "Buruk",
         "rawType": "float64",
         "type": "float"
        },
        {
         "name": "Sedang",
         "rawType": "float64",
         "type": "float"
        },
        {
         "name": "Baik",
         "rawType": "float64",
         "type": "float"
        },
        {
         "name": "Sangat Baik",
         "rawType": "float64",
         "type": "float"
        }
       ],
       "conversionMethod": "pd.DataFrame",
       "ref": "bc4c0e4c-aa5c-46f1-af0a-439445730f37",
       "rows": [
        [
         "No",
         "25.0",
         "11.627906976744185",
         "8.333333333333332",
         "16.091954022988507"
        ],
        [
         "Yes",
         "45.0",
         "31.645569620253166",
         "30.76923076923077",
         "30.76923076923077"
        ]
       ],
       "shape": {
        "columns": 4,
        "rows": 2
       }
      },
      "text/html": [
       "<div>\n",
       "<style scoped>\n",
       "    .dataframe tbody tr th:only-of-type {\n",
       "        vertical-align: middle;\n",
       "    }\n",
       "\n",
       "    .dataframe tbody tr th {\n",
       "        vertical-align: top;\n",
       "    }\n",
       "\n",
       "    .dataframe thead th {\n",
       "        text-align: right;\n",
       "    }\n",
       "</style>\n",
       "<table border=\"1\" class=\"dataframe\">\n",
       "  <thead>\n",
       "    <tr style=\"text-align: right;\">\n",
       "      <th></th>\n",
       "      <th>Buruk</th>\n",
       "      <th>Sedang</th>\n",
       "      <th>Baik</th>\n",
       "      <th>Sangat Baik</th>\n",
       "    </tr>\n",
       "    <tr>\n",
       "      <th>OverTime</th>\n",
       "      <th></th>\n",
       "      <th></th>\n",
       "      <th></th>\n",
       "      <th></th>\n",
       "    </tr>\n",
       "  </thead>\n",
       "  <tbody>\n",
       "    <tr>\n",
       "      <th>No</th>\n",
       "      <td>25.0</td>\n",
       "      <td>11.627907</td>\n",
       "      <td>8.333333</td>\n",
       "      <td>16.091954</td>\n",
       "    </tr>\n",
       "    <tr>\n",
       "      <th>Yes</th>\n",
       "      <td>45.0</td>\n",
       "      <td>31.645570</td>\n",
       "      <td>30.769231</td>\n",
       "      <td>30.769231</td>\n",
       "    </tr>\n",
       "  </tbody>\n",
       "</table>\n",
       "</div>"
      ],
      "text/plain": [
       "          Buruk     Sedang       Baik  Sangat Baik\n",
       "OverTime                                          \n",
       "No         25.0  11.627907   8.333333    16.091954\n",
       "Yes        45.0  31.645570  30.769231    30.769231"
      ]
     },
     "metadata": {},
     "output_type": "display_data"
    },
    {
     "data": {
      "application/vnd.plotly.v1+json": {
       "config": {
        "plotlyServerURL": "https://plot.ly"
       },
       "data": [
        {
         "coloraxis": "coloraxis",
         "hovertemplate": "Work-Life Balance: %{x}<br>Overtime: %{y}<br>Attrition Rate (%): %{z}<extra></extra>",
         "name": "0",
         "texttemplate": "%{z:.1f}",
         "type": "heatmap",
         "x": [
          "Buruk",
          "Sedang",
          "Baik",
          "Sangat Baik"
         ],
         "xaxis": "x",
         "y": [
          "No",
          "Yes"
         ],
         "yaxis": "y",
         "z": {
          "bdata": "AAAAAAAAOUDQF/QFfUEnQKqqqqqqqiBApXiBTIoXMEAAAAAAAIBGQEtH9gxEpT9AT+zETuzEPkBP7MRO7MQ+QA==",
          "dtype": "f8",
          "shape": "2, 4"
         }
        }
       ],
       "layout": {
        "coloraxis": {
         "colorbar": {
          "title": {
           "text": "Attrition Rate (%)"
          }
         },
         "colorscale": [
          [
           0,
           "rgb(0,104,55)"
          ],
          [
           0.1,
           "rgb(26,152,80)"
          ],
          [
           0.2,
           "rgb(102,189,99)"
          ],
          [
           0.3,
           "rgb(166,217,106)"
          ],
          [
           0.4,
           "rgb(217,239,139)"
          ],
          [
           0.5,
           "rgb(255,255,191)"
          ],
          [
           0.6,
           "rgb(254,224,139)"
          ],
          [
           0.7,
           "rgb(253,174,97)"
          ],
          [
           0.8,
           "rgb(244,109,67)"
          ],
          [
           0.9,
           "rgb(215,48,39)"
          ],
          [
           1,
           "rgb(165,0,38)"
          ]
         ]
        },
        "template": {
         "data": {
          "bar": [
           {
            "error_x": {
             "color": "#2a3f5f"
            },
            "error_y": {
             "color": "#2a3f5f"
            },
            "marker": {
             "line": {
              "color": "white",
              "width": 0.5
             },
             "pattern": {
              "fillmode": "overlay",
              "size": 10,
              "solidity": 0.2
             }
            },
            "type": "bar"
           }
          ],
          "barpolar": [
           {
            "marker": {
             "line": {
              "color": "white",
              "width": 0.5
             },
             "pattern": {
              "fillmode": "overlay",
              "size": 10,
              "solidity": 0.2
             }
            },
            "type": "barpolar"
           }
          ],
          "carpet": [
           {
            "aaxis": {
             "endlinecolor": "#2a3f5f",
             "gridcolor": "#C8D4E3",
             "linecolor": "#C8D4E3",
             "minorgridcolor": "#C8D4E3",
             "startlinecolor": "#2a3f5f"
            },
            "baxis": {
             "endlinecolor": "#2a3f5f",
             "gridcolor": "#C8D4E3",
             "linecolor": "#C8D4E3",
             "minorgridcolor": "#C8D4E3",
             "startlinecolor": "#2a3f5f"
            },
            "type": "carpet"
           }
          ],
          "choropleth": [
           {
            "colorbar": {
             "outlinewidth": 0,
             "ticks": ""
            },
            "type": "choropleth"
           }
          ],
          "contour": [
           {
            "colorbar": {
             "outlinewidth": 0,
             "ticks": ""
            },
            "colorscale": [
             [
              0,
              "#0d0887"
             ],
             [
              0.1111111111111111,
              "#46039f"
             ],
             [
              0.2222222222222222,
              "#7201a8"
             ],
             [
              0.3333333333333333,
              "#9c179e"
             ],
             [
              0.4444444444444444,
              "#bd3786"
             ],
             [
              0.5555555555555556,
              "#d8576b"
             ],
             [
              0.6666666666666666,
              "#ed7953"
             ],
             [
              0.7777777777777778,
              "#fb9f3a"
             ],
             [
              0.8888888888888888,
              "#fdca26"
             ],
             [
              1,
              "#f0f921"
             ]
            ],
            "type": "contour"
           }
          ],
          "contourcarpet": [
           {
            "colorbar": {
             "outlinewidth": 0,
             "ticks": ""
            },
            "type": "contourcarpet"
           }
          ],
          "heatmap": [
           {
            "colorbar": {
             "outlinewidth": 0,
             "ticks": ""
            },
            "colorscale": [
             [
              0,
              "#0d0887"
             ],
             [
              0.1111111111111111,
              "#46039f"
             ],
             [
              0.2222222222222222,
              "#7201a8"
             ],
             [
              0.3333333333333333,
              "#9c179e"
             ],
             [
              0.4444444444444444,
              "#bd3786"
             ],
             [
              0.5555555555555556,
              "#d8576b"
             ],
             [
              0.6666666666666666,
              "#ed7953"
             ],
             [
              0.7777777777777778,
              "#fb9f3a"
             ],
             [
              0.8888888888888888,
              "#fdca26"
             ],
             [
              1,
              "#f0f921"
             ]
            ],
            "type": "heatmap"
           }
          ],
          "histogram": [
           {
            "marker": {
             "pattern": {
              "fillmode": "overlay",
              "size": 10,
              "solidity": 0.2
             }
            },
            "type": "histogram"
           }
          ],
          "histogram2d": [
           {
            "colorbar": {
             "outlinewidth": 0,
             "ticks": ""
            },
            "colorscale": [
             [
              0,
              "#0d0887"
             ],
             [
              0.1111111111111111,
              "#46039f"
             ],
             [
              0.2222222222222222,
              "#7201a8"
             ],
             [
              0.3333333333333333,
              "#9c179e"
             ],
             [
              0.4444444444444444,
              "#bd3786"
             ],
             [
              0.5555555555555556,
              "#d8576b"
             ],
             [
              0.6666666666666666,
              "#ed7953"
             ],
             [
              0.7777777777777778,
              "#fb9f3a"
             ],
             [
              0.8888888888888888,
              "#fdca26"
             ],
             [
              1,
              "#f0f921"
             ]
            ],
            "type": "histogram2d"
           }
          ],
          "histogram2dcontour": [
           {
            "colorbar": {
             "outlinewidth": 0,
             "ticks": ""
            },
            "colorscale": [
             [
              0,
              "#0d0887"
             ],
             [
              0.1111111111111111,
              "#46039f"
             ],
             [
              0.2222222222222222,
              "#7201a8"
             ],
             [
              0.3333333333333333,
              "#9c179e"
             ],
             [
              0.4444444444444444,
              "#bd3786"
             ],
             [
              0.5555555555555556,
              "#d8576b"
             ],
             [
              0.6666666666666666,
              "#ed7953"
             ],
             [
              0.7777777777777778,
              "#fb9f3a"
             ],
             [
              0.8888888888888888,
              "#fdca26"
             ],
             [
              1,
              "#f0f921"
             ]
            ],
            "type": "histogram2dcontour"
           }
          ],
          "mesh3d": [
           {
            "colorbar": {
             "outlinewidth": 0,
             "ticks": ""
            },
            "type": "mesh3d"
           }
          ],
          "parcoords": [
           {
            "line": {
             "colorbar": {
              "outlinewidth": 0,
              "ticks": ""
             }
            },
            "type": "parcoords"
           }
          ],
          "pie": [
           {
            "automargin": true,
            "type": "pie"
           }
          ],
          "scatter": [
           {
            "fillpattern": {
             "fillmode": "overlay",
             "size": 10,
             "solidity": 0.2
            },
            "type": "scatter"
           }
          ],
          "scatter3d": [
           {
            "line": {
             "colorbar": {
              "outlinewidth": 0,
              "ticks": ""
             }
            },
            "marker": {
             "colorbar": {
              "outlinewidth": 0,
              "ticks": ""
             }
            },
            "type": "scatter3d"
           }
          ],
          "scattercarpet": [
           {
            "marker": {
             "colorbar": {
              "outlinewidth": 0,
              "ticks": ""
             }
            },
            "type": "scattercarpet"
           }
          ],
          "scattergeo": [
           {
            "marker": {
             "colorbar": {
              "outlinewidth": 0,
              "ticks": ""
             }
            },
            "type": "scattergeo"
           }
          ],
          "scattergl": [
           {
            "marker": {
             "colorbar": {
              "outlinewidth": 0,
              "ticks": ""
             }
            },
            "type": "scattergl"
           }
          ],
          "scattermap": [
           {
            "marker": {
             "colorbar": {
              "outlinewidth": 0,
              "ticks": ""
             }
            },
            "type": "scattermap"
           }
          ],
          "scattermapbox": [
           {
            "marker": {
             "colorbar": {
              "outlinewidth": 0,
              "ticks": ""
             }
            },
            "type": "scattermapbox"
           }
          ],
          "scatterpolar": [
           {
            "marker": {
             "colorbar": {
              "outlinewidth": 0,
              "ticks": ""
             }
            },
            "type": "scatterpolar"
           }
          ],
          "scatterpolargl": [
           {
            "marker": {
             "colorbar": {
              "outlinewidth": 0,
              "ticks": ""
             }
            },
            "type": "scatterpolargl"
           }
          ],
          "scatterternary": [
           {
            "marker": {
             "colorbar": {
              "outlinewidth": 0,
              "ticks": ""
             }
            },
            "type": "scatterternary"
           }
          ],
          "surface": [
           {
            "colorbar": {
             "outlinewidth": 0,
             "ticks": ""
            },
            "colorscale": [
             [
              0,
              "#0d0887"
             ],
             [
              0.1111111111111111,
              "#46039f"
             ],
             [
              0.2222222222222222,
              "#7201a8"
             ],
             [
              0.3333333333333333,
              "#9c179e"
             ],
             [
              0.4444444444444444,
              "#bd3786"
             ],
             [
              0.5555555555555556,
              "#d8576b"
             ],
             [
              0.6666666666666666,
              "#ed7953"
             ],
             [
              0.7777777777777778,
              "#fb9f3a"
             ],
             [
              0.8888888888888888,
              "#fdca26"
             ],
             [
              1,
              "#f0f921"
             ]
            ],
            "type": "surface"
           }
          ],
          "table": [
           {
            "cells": {
             "fill": {
              "color": "#EBF0F8"
             },
             "line": {
              "color": "white"
             }
            },
            "header": {
             "fill": {
              "color": "#C8D4E3"
             },
             "line": {
              "color": "white"
             }
            },
            "type": "table"
           }
          ]
         },
         "layout": {
          "annotationdefaults": {
           "arrowcolor": "#2a3f5f",
           "arrowhead": 0,
           "arrowwidth": 1
          },
          "autotypenumbers": "strict",
          "coloraxis": {
           "colorbar": {
            "outlinewidth": 0,
            "ticks": ""
           }
          },
          "colorscale": {
           "diverging": [
            [
             0,
             "#8e0152"
            ],
            [
             0.1,
             "#c51b7d"
            ],
            [
             0.2,
             "#de77ae"
            ],
            [
             0.3,
             "#f1b6da"
            ],
            [
             0.4,
             "#fde0ef"
            ],
            [
             0.5,
             "#f7f7f7"
            ],
            [
             0.6,
             "#e6f5d0"
            ],
            [
             0.7,
             "#b8e186"
            ],
            [
             0.8,
             "#7fbc41"
            ],
            [
             0.9,
             "#4d9221"
            ],
            [
             1,
             "#276419"
            ]
           ],
           "sequential": [
            [
             0,
             "#0d0887"
            ],
            [
             0.1111111111111111,
             "#46039f"
            ],
            [
             0.2222222222222222,
             "#7201a8"
            ],
            [
             0.3333333333333333,
             "#9c179e"
            ],
            [
             0.4444444444444444,
             "#bd3786"
            ],
            [
             0.5555555555555556,
             "#d8576b"
            ],
            [
             0.6666666666666666,
             "#ed7953"
            ],
            [
             0.7777777777777778,
             "#fb9f3a"
            ],
            [
             0.8888888888888888,
             "#fdca26"
            ],
            [
             1,
             "#f0f921"
            ]
           ],
           "sequentialminus": [
            [
             0,
             "#0d0887"
            ],
            [
             0.1111111111111111,
             "#46039f"
            ],
            [
             0.2222222222222222,
             "#7201a8"
            ],
            [
             0.3333333333333333,
             "#9c179e"
            ],
            [
             0.4444444444444444,
             "#bd3786"
            ],
            [
             0.5555555555555556,
             "#d8576b"
            ],
            [
             0.6666666666666666,
             "#ed7953"
            ],
            [
             0.7777777777777778,
             "#fb9f3a"
            ],
            [
             0.8888888888888888,
             "#fdca26"
            ],
            [
             1,
             "#f0f921"
            ]
           ]
          },
          "colorway": [
           "#636efa",
           "#EF553B",
           "#00cc96",
           "#ab63fa",
           "#FFA15A",
           "#19d3f3",
           "#FF6692",
           "#B6E880",
           "#FF97FF",
           "#FECB52"
          ],
          "font": {
           "color": "#2a3f5f"
          },
          "geo": {
           "bgcolor": "white",
           "lakecolor": "white",
           "landcolor": "white",
           "showlakes": true,
           "showland": true,
           "subunitcolor": "#C8D4E3"
          },
          "hoverlabel": {
           "align": "left"
          },
          "hovermode": "closest",
          "mapbox": {
           "style": "light"
          },
          "paper_bgcolor": "white",
          "plot_bgcolor": "white",
          "polar": {
           "angularaxis": {
            "gridcolor": "#EBF0F8",
            "linecolor": "#EBF0F8",
            "ticks": ""
           },
           "bgcolor": "white",
           "radialaxis": {
            "gridcolor": "#EBF0F8",
            "linecolor": "#EBF0F8",
            "ticks": ""
           }
          },
          "scene": {
           "xaxis": {
            "backgroundcolor": "white",
            "gridcolor": "#DFE8F3",
            "gridwidth": 2,
            "linecolor": "#EBF0F8",
            "showbackground": true,
            "ticks": "",
            "zerolinecolor": "#EBF0F8"
           },
           "yaxis": {
            "backgroundcolor": "white",
            "gridcolor": "#DFE8F3",
            "gridwidth": 2,
            "linecolor": "#EBF0F8",
            "showbackground": true,
            "ticks": "",
            "zerolinecolor": "#EBF0F8"
           },
           "zaxis": {
            "backgroundcolor": "white",
            "gridcolor": "#DFE8F3",
            "gridwidth": 2,
            "linecolor": "#EBF0F8",
            "showbackground": true,
            "ticks": "",
            "zerolinecolor": "#EBF0F8"
           }
          },
          "shapedefaults": {
           "line": {
            "color": "#2a3f5f"
           }
          },
          "ternary": {
           "aaxis": {
            "gridcolor": "#DFE8F3",
            "linecolor": "#A2B1C6",
            "ticks": ""
           },
           "baxis": {
            "gridcolor": "#DFE8F3",
            "linecolor": "#A2B1C6",
            "ticks": ""
           },
           "bgcolor": "white",
           "caxis": {
            "gridcolor": "#DFE8F3",
            "linecolor": "#A2B1C6",
            "ticks": ""
           }
          },
          "title": {
           "x": 0.05
          },
          "xaxis": {
           "automargin": true,
           "gridcolor": "#EBF0F8",
           "linecolor": "#EBF0F8",
           "ticks": "",
           "title": {
            "standoff": 15
           },
           "zerolinecolor": "#EBF0F8",
           "zerolinewidth": 2
          },
          "yaxis": {
           "automargin": true,
           "gridcolor": "#EBF0F8",
           "linecolor": "#EBF0F8",
           "ticks": "",
           "title": {
            "standoff": 15
           },
           "zerolinecolor": "#EBF0F8",
           "zerolinewidth": 2
          }
         }
        },
        "title": {
         "text": "Tingkat Attrition (%) Berdasarkan Overtime dan Work-Life Balance"
        },
        "xaxis": {
         "anchor": "y",
         "domain": [
          0,
          1
         ],
         "title": {
          "text": "Work-Life Balance"
         }
        },
        "yaxis": {
         "anchor": "x",
         "autorange": "reversed",
         "domain": [
          0,
          1
         ],
         "title": {
          "text": "Overtime"
         }
        }
       }
      }
     },
     "metadata": {},
     "output_type": "display_data"
    }
   ],
   "source": [
    "# Analisis kombinasi overtime dan work-life balance\n",
    "cross_analysis = pd.crosstab(\n",
    "    index=df['OverTime'],\n",
    "    columns=df['WorkLifeBalance'],\n",
    "    values=df['Attrition'],\n",
    "    aggfunc='mean'\n",
    ") * 100\n",
    "\n",
    "# Ubah nilai worklife balance menjadi label\n",
    "cross_analysis.columns = ['Buruk', 'Sedang', 'Baik', 'Sangat Baik']\n",
    "\n",
    "display(cross_analysis)\n",
    "\n",
    "# Visualisasi dengan heatmap\n",
    "fig = px.imshow(\n",
    "    cross_analysis,\n",
    "    text_auto='.1f',\n",
    "    aspect='auto',\n",
    "    color_continuous_scale='RdYlGn_r',\n",
    "    title='Tingkat Attrition (%) Berdasarkan Overtime dan Work-Life Balance',\n",
    "    labels=dict(x='Work-Life Balance', y='Overtime', color='Attrition Rate (%)')\n",
    ")\n",
    "fig.update_layout(template='plotly_white')\n",
    "fig.show()"
   ]
  },
  {
   "cell_type": "code",
   "execution_count": 90,
   "id": "12f545c2",
   "metadata": {},
   "outputs": [
    {
     "data": {
      "application/vnd.plotly.v1+json": {
       "config": {
        "plotlyServerURL": "https://plot.ly"
       },
       "data": [
        {
         "hovertemplate": "<b>%{hovertext}</b><br><br>Gaji Bulanan=%{x}<br>Tahun di Perusahaan=%{y}<br>Jarak dari Rumah (km)=%{z}<br>Level Pekerjaan=%{marker.size}<br>Status Attrition=%{marker.color}<extra></extra>",
         "hovertext": [
          "Healthcare Representative",
          "Research Scientist",
          "Sales Executive",
          "Sales Executive",
          "Manager",
          "Laboratory Technician",
          "Research Director",
          "Sales Executive",
          "Laboratory Technician",
          "Research Director",
          "Healthcare Representative",
          "Research Scientist",
          "Healthcare Representative",
          "Research Director",
          "Manager",
          "Research Scientist",
          "Manufacturing Director",
          "Sales Executive",
          "Sales Executive",
          "Research Scientist",
          "Manager",
          "Human Resources",
          "Healthcare Representative",
          "Laboratory Technician",
          "Human Resources",
          "Sales Representative",
          "Research Scientist",
          "Sales Executive",
          "Manufacturing Director",
          "Sales Executive",
          "Sales Executive",
          "Sales Representative",
          "Healthcare Representative",
          "Laboratory Technician",
          "Sales Executive",
          "Laboratory Technician",
          "Healthcare Representative",
          "Manufacturing Director",
          "Sales Representative",
          "Manufacturing Director",
          "Manufacturing Director",
          "Laboratory Technician",
          "Laboratory Technician",
          "Sales Executive",
          "Research Scientist",
          "Manager",
          "Manufacturing Director",
          "Laboratory Technician",
          "Research Scientist",
          "Sales Executive",
          "Laboratory Technician",
          "Sales Executive",
          "Manufacturing Director",
          "Sales Executive",
          "Research Scientist",
          "Manufacturing Director",
          "Sales Executive",
          "Research Scientist",
          "Research Scientist",
          "Sales Executive",
          "Research Scientist",
          "Healthcare Representative",
          "Sales Executive",
          "Sales Executive",
          "Manufacturing Director",
          "Research Scientist",
          "Research Scientist",
          "Laboratory Technician",
          "Laboratory Technician",
          "Sales Representative",
          "Sales Executive",
          "Laboratory Technician",
          "Research Director",
          "Healthcare Representative",
          "Laboratory Technician",
          "Research Scientist",
          "Manufacturing Director",
          "Laboratory Technician",
          "Healthcare Representative",
          "Research Scientist",
          "Laboratory Technician",
          "Sales Executive",
          "Manager",
          "Sales Executive",
          "Sales Representative",
          "Sales Executive",
          "Healthcare Representative",
          "Research Director",
          "Research Scientist",
          "Sales Executive",
          "Research Scientist",
          "Research Scientist",
          "Manufacturing Director",
          "Sales Executive",
          "Research Scientist",
          "Sales Representative",
          "Healthcare Representative",
          "Research Director",
          "Manufacturing Director",
          "Manufacturing Director",
          "Sales Executive",
          "Sales Executive",
          "Research Scientist",
          "Research Scientist",
          "Research Scientist",
          "Manager",
          "Manufacturing Director",
          "Research Director",
          "Laboratory Technician",
          "Sales Representative",
          "Research Scientist",
          "Sales Executive",
          "Research Scientist",
          "Sales Executive",
          "Sales Executive",
          "Sales Representative",
          "Manager",
          "Sales Executive",
          "Sales Executive",
          "Healthcare Representative",
          "Laboratory Technician",
          "Manager",
          "Manufacturing Director",
          "Laboratory Technician",
          "Research Scientist",
          "Laboratory Technician",
          "Manufacturing Director",
          "Sales Representative",
          "Manufacturing Director",
          "Healthcare Representative",
          "Sales Executive",
          "Human Resources",
          "Research Scientist",
          "Research Scientist",
          "Research Director",
          "Healthcare Representative",
          "Research Director",
          "Sales Representative",
          "Sales Executive",
          "Sales Executive",
          "Laboratory Technician",
          "Laboratory Technician",
          "Research Scientist",
          "Sales Executive",
          "Laboratory Technician",
          "Research Scientist",
          "Research Scientist",
          "Research Scientist",
          "Research Director",
          "Sales Executive",
          "Research Scientist",
          "Research Scientist",
          "Laboratory Technician",
          "Research Scientist",
          "Sales Executive",
          "Sales Executive",
          "Healthcare Representative",
          "Healthcare Representative",
          "Manufacturing Director",
          "Human Resources",
          "Sales Representative",
          "Sales Executive",
          "Research Scientist",
          "Sales Representative",
          "Research Director",
          "Sales Representative",
          "Sales Executive",
          "Research Scientist",
          "Human Resources",
          "Manager",
          "Sales Executive",
          "Human Resources",
          "Research Scientist",
          "Sales Executive",
          "Sales Executive",
          "Sales Executive",
          "Healthcare Representative",
          "Research Scientist",
          "Research Scientist",
          "Manager",
          "Sales Executive",
          "Research Scientist",
          "Laboratory Technician",
          "Manager",
          "Sales Executive",
          "Sales Executive",
          "Laboratory Technician",
          "Healthcare Representative",
          "Sales Executive",
          "Research Director",
          "Research Director",
          "Sales Representative",
          "Sales Executive",
          "Sales Executive",
          "Manufacturing Director",
          "Laboratory Technician",
          "Research Director",
          "Research Scientist",
          "Manager",
          "Manager",
          "Manager",
          "Sales Executive",
          "Human Resources",
          "Manufacturing Director",
          "Healthcare Representative",
          "Laboratory Technician",
          "Laboratory Technician",
          "Laboratory Technician",
          "Sales Executive",
          "Human Resources",
          "Sales Representative",
          "Manager",
          "Sales Executive",
          "Manager",
          "Laboratory Technician",
          "Sales Representative",
          "Research Director",
          "Laboratory Technician",
          "Manufacturing Director",
          "Research Scientist",
          "Research Scientist",
          "Sales Representative",
          "Research Scientist",
          "Research Scientist",
          "Manager",
          "Research Scientist",
          "Healthcare Representative",
          "Manufacturing Director",
          "Laboratory Technician",
          "Research Director",
          "Healthcare Representative",
          "Manufacturing Director",
          "Research Scientist",
          "Sales Executive",
          "Sales Executive",
          "Laboratory Technician",
          "Sales Executive",
          "Research Director",
          "Research Director",
          "Sales Executive",
          "Healthcare Representative",
          "Sales Executive",
          "Sales Executive",
          "Human Resources",
          "Sales Executive",
          "Laboratory Technician",
          "Laboratory Technician",
          "Laboratory Technician",
          "Research Scientist",
          "Sales Representative",
          "Healthcare Representative",
          "Manager",
          "Sales Executive",
          "Sales Executive",
          "Research Scientist",
          "Sales Executive",
          "Laboratory Technician",
          "Laboratory Technician",
          "Manager",
          "Manufacturing Director",
          "Laboratory Technician",
          "Laboratory Technician",
          "Sales Representative",
          "Manager",
          "Research Director",
          "Healthcare Representative",
          "Research Scientist",
          "Healthcare Representative",
          "Manufacturing Director",
          "Research Scientist",
          "Laboratory Technician",
          "Sales Executive",
          "Laboratory Technician",
          "Research Scientist",
          "Sales Representative",
          "Research Scientist",
          "Human Resources",
          "Research Scientist",
          "Laboratory Technician",
          "Sales Executive",
          "Research Director",
          "Laboratory Technician",
          "Laboratory Technician",
          "Healthcare Representative",
          "Research Scientist",
          "Laboratory Technician",
          "Research Scientist",
          "Laboratory Technician",
          "Research Scientist",
          "Sales Executive",
          "Laboratory Technician",
          "Research Scientist",
          "Sales Executive",
          "Research Scientist",
          "Laboratory Technician",
          "Manufacturing Director",
          "Sales Executive",
          "Human Resources",
          "Sales Executive",
          "Laboratory Technician",
          "Sales Executive",
          "Healthcare Representative",
          "Healthcare Representative",
          "Research Scientist",
          "Research Scientist",
          "Research Scientist",
          "Manager",
          "Research Scientist",
          "Sales Executive",
          "Healthcare Representative",
          "Laboratory Technician",
          "Laboratory Technician",
          "Research Director",
          "Laboratory Technician",
          "Research Scientist",
          "Laboratory Technician",
          "Sales Executive",
          "Research Scientist",
          "Laboratory Technician",
          "Healthcare Representative",
          "Laboratory Technician",
          "Manufacturing Director",
          "Manager",
          "Research Scientist",
          "Sales Executive",
          "Sales Executive",
          "Research Director",
          "Research Scientist",
          "Research Director",
          "Research Scientist",
          "Sales Executive",
          "Sales Executive",
          "Healthcare Representative",
          "Laboratory Technician",
          "Research Scientist",
          "Healthcare Representative",
          "Manufacturing Director",
          "Research Scientist",
          "Research Scientist",
          "Sales Executive",
          "Manufacturing Director",
          "Research Scientist",
          "Healthcare Representative",
          "Sales Executive",
          "Manufacturing Director",
          "Manager",
          "Laboratory Technician",
          "Laboratory Technician",
          "Manufacturing Director",
          "Healthcare Representative",
          "Laboratory Technician",
          "Sales Executive",
          "Laboratory Technician",
          "Laboratory Technician",
          "Laboratory Technician",
          "Human Resources",
          "Research Scientist",
          "Sales Executive",
          "Research Director",
          "Research Scientist",
          "Manager",
          "Research Scientist",
          "Laboratory Technician",
          "Laboratory Technician",
          "Laboratory Technician",
          "Research Scientist",
          "Healthcare Representative",
          "Sales Representative",
          "Manufacturing Director",
          "Research Scientist",
          "Manager",
          "Research Scientist",
          "Manufacturing Director",
          "Manager",
          "Sales Executive",
          "Healthcare Representative",
          "Research Director",
          "Laboratory Technician",
          "Research Scientist",
          "Sales Representative",
          "Manufacturing Director",
          "Manager",
          "Laboratory Technician",
          "Healthcare Representative",
          "Manufacturing Director",
          "Research Director",
          "Research Director",
          "Research Director",
          "Sales Executive",
          "Sales Executive",
          "Manufacturing Director",
          "Manufacturing Director",
          "Laboratory Technician",
          "Laboratory Technician",
          "Sales Executive",
          "Healthcare Representative",
          "Laboratory Technician",
          "Research Scientist",
          "Sales Executive",
          "Sales Executive",
          "Laboratory Technician",
          "Research Director",
          "Manager",
          "Healthcare Representative",
          "Research Scientist",
          "Research Director",
          "Sales Executive",
          "Manager",
          "Manufacturing Director",
          "Laboratory Technician",
          "Research Scientist",
          "Research Scientist",
          "Sales Executive",
          "Manager",
          "Healthcare Representative",
          "Healthcare Representative",
          "Research Scientist",
          "Sales Executive",
          "Sales Executive",
          "Sales Representative",
          "Research Scientist",
          "Research Scientist",
          "Laboratory Technician",
          "Research Scientist",
          "Laboratory Technician",
          "Research Scientist",
          "Sales Executive",
          "Sales Executive",
          "Laboratory Technician",
          "Sales Executive",
          "Laboratory Technician",
          "Sales Executive",
          "Healthcare Representative",
          "Human Resources",
          "Research Director",
          "Research Director",
          "Sales Representative",
          "Research Scientist",
          "Research Scientist",
          "Sales Representative",
          "Sales Executive",
          "Research Scientist",
          "Sales Executive",
          "Research Scientist",
          "Laboratory Technician",
          "Sales Executive",
          "Manager",
          "Sales Executive",
          "Manufacturing Director",
          "Research Scientist",
          "Research Scientist",
          "Sales Representative",
          "Laboratory Technician",
          "Laboratory Technician",
          "Sales Executive",
          "Research Scientist",
          "Sales Representative",
          "Sales Executive",
          "Sales Executive",
          "Laboratory Technician",
          "Laboratory Technician",
          "Laboratory Technician",
          "Manufacturing Director",
          "Sales Executive",
          "Research Scientist",
          "Research Scientist",
          "Laboratory Technician",
          "Research Scientist",
          "Sales Representative",
          "Healthcare Representative",
          "Laboratory Technician",
          "Laboratory Technician",
          "Research Scientist",
          "Laboratory Technician",
          "Healthcare Representative",
          "Research Scientist",
          "Sales Executive",
          "Sales Executive",
          "Research Scientist",
          "Sales Executive",
          "Sales Executive",
          "Research Scientist",
          "Research Scientist",
          "Sales Executive",
          "Research Scientist",
          "Sales Executive",
          "Sales Representative",
          "Laboratory Technician",
          "Manager",
          "Manufacturing Director",
          "Manufacturing Director",
          "Manager",
          "Laboratory Technician",
          "Healthcare Representative",
          "Manufacturing Director",
          "Research Scientist",
          "Sales Executive",
          "Manager",
          "Manager",
          "Healthcare Representative",
          "Sales Executive",
          "Manager",
          "Sales Executive",
          "Manager",
          "Healthcare Representative",
          "Sales Executive",
          "Laboratory Technician",
          "Laboratory Technician",
          "Research Director",
          "Manager",
          "Laboratory Technician",
          "Sales Executive",
          "Research Scientist",
          "Manager",
          "Human Resources",
          "Laboratory Technician",
          "Research Scientist",
          "Laboratory Technician",
          "Sales Executive",
          "Sales Executive",
          "Manager",
          "Manufacturing Director",
          "Laboratory Technician",
          "Research Scientist",
          "Healthcare Representative",
          "Research Scientist",
          "Sales Executive",
          "Healthcare Representative",
          "Manufacturing Director",
          "Research Scientist",
          "Research Scientist",
          "Sales Executive",
          "Manufacturing Director",
          "Manufacturing Director",
          "Laboratory Technician",
          "Laboratory Technician",
          "Sales Executive",
          "Manager",
          "Laboratory Technician",
          "Healthcare Representative",
          "Manufacturing Director",
          "Sales Representative",
          "Research Scientist",
          "Research Scientist",
          "Laboratory Technician",
          "Manufacturing Director",
          "Manufacturing Director",
          "Sales Executive",
          "Research Scientist",
          "Sales Executive",
          "Research Scientist",
          "Manufacturing Director",
          "Healthcare Representative",
          "Laboratory Technician",
          "Healthcare Representative",
          "Research Scientist",
          "Research Scientist",
          "Laboratory Technician",
          "Research Scientist",
          "Manager",
          "Sales Executive",
          "Laboratory Technician",
          "Sales Representative",
          "Research Scientist",
          "Sales Executive",
          "Sales Executive",
          "Laboratory Technician",
          "Sales Executive",
          "Research Scientist",
          "Manufacturing Director",
          "Sales Executive",
          "Laboratory Technician",
          "Human Resources",
          "Sales Executive",
          "Research Director",
          "Sales Executive",
          "Research Scientist",
          "Laboratory Technician",
          "Healthcare Representative",
          "Sales Executive",
          "Research Scientist",
          "Research Scientist",
          "Laboratory Technician",
          "Sales Executive",
          "Manufacturing Director",
          "Healthcare Representative",
          "Healthcare Representative",
          "Sales Executive",
          "Sales Executive",
          "Laboratory Technician",
          "Research Scientist",
          "Manager",
          "Research Scientist",
          "Sales Executive",
          "Research Scientist",
          "Sales Executive",
          "Sales Executive",
          "Human Resources",
          "Laboratory Technician",
          "Sales Executive",
          "Manufacturing Director",
          "Laboratory Technician",
          "Sales Executive",
          "Laboratory Technician",
          "Sales Executive",
          "Healthcare Representative",
          "Sales Executive",
          "Research Scientist",
          "Manager",
          "Laboratory Technician",
          "Manager",
          "Research Director",
          "Laboratory Technician",
          "Sales Executive",
          "Manufacturing Director",
          "Research Scientist",
          "Human Resources",
          "Research Scientist",
          "Research Scientist",
          "Laboratory Technician",
          "Research Scientist",
          "Manager",
          "Manufacturing Director",
          "Laboratory Technician",
          "Healthcare Representative",
          "Manufacturing Director",
          "Sales Executive",
          "Laboratory Technician",
          "Research Director",
          "Sales Executive",
          "Manufacturing Director",
          "Manufacturing Director",
          "Research Scientist",
          "Sales Representative",
          "Sales Executive",
          "Human Resources",
          "Laboratory Technician",
          "Healthcare Representative",
          "Research Director",
          "Manufacturing Director",
          "Research Scientist",
          "Research Scientist",
          "Healthcare Representative",
          "Research Director",
          "Manager",
          "Research Scientist",
          "Manufacturing Director",
          "Laboratory Technician",
          "Manager",
          "Manager",
          "Sales Executive",
          "Laboratory Technician",
          "Manufacturing Director",
          "Manufacturing Director",
          "Manufacturing Director",
          "Sales Executive",
          "Research Scientist",
          "Sales Executive",
          "Research Scientist",
          "Sales Executive",
          "Laboratory Technician",
          "Research Scientist",
          "Research Scientist",
          "Sales Executive",
          "Human Resources",
          "Laboratory Technician",
          "Human Resources",
          "Research Scientist",
          "Sales Executive",
          "Manufacturing Director",
          "Manager",
          "Sales Executive",
          "Research Scientist",
          "Research Scientist",
          "Manufacturing Director",
          "Laboratory Technician",
          "Research Scientist",
          "Human Resources",
          "Sales Representative",
          "Manager",
          "Sales Representative",
          "Sales Representative",
          "Healthcare Representative",
          "Manufacturing Director",
          "Research Director",
          "Sales Executive",
          "Research Director",
          "Research Scientist",
          "Laboratory Technician",
          "Manufacturing Director",
          "Laboratory Technician",
          "Laboratory Technician",
          "Healthcare Representative",
          "Sales Executive",
          "Sales Representative",
          "Manager",
          "Laboratory Technician",
          "Manufacturing Director",
          "Research Scientist",
          "Laboratory Technician",
          "Human Resources",
          "Manager",
          "Research Scientist",
          "Research Scientist",
          "Laboratory Technician",
          "Research Scientist",
          "Sales Executive",
          "Research Director",
          "Laboratory Technician",
          "Manufacturing Director",
          "Research Director",
          "Laboratory Technician",
          "Healthcare Representative",
          "Healthcare Representative",
          "Laboratory Technician",
          "Healthcare Representative",
          "Sales Executive",
          "Sales Representative",
          "Manufacturing Director",
          "Sales Executive",
          "Sales Representative",
          "Research Scientist",
          "Manufacturing Director",
          "Research Scientist",
          "Research Scientist",
          "Healthcare Representative",
          "Research Scientist",
          "Sales Executive",
          "Sales Representative",
          "Research Scientist",
          "Manager",
          "Sales Executive",
          "Manufacturing Director",
          "Manufacturing Director",
          "Sales Executive",
          "Sales Executive",
          "Human Resources",
          "Laboratory Technician",
          "Sales Executive",
          "Laboratory Technician",
          "Manufacturing Director",
          "Sales Executive",
          "Healthcare Representative",
          "Sales Executive",
          "Laboratory Technician",
          "Sales Representative",
          "Research Scientist",
          "Research Director",
          "Manager",
          "Sales Executive",
          "Research Scientist",
          "Research Scientist",
          "Human Resources",
          "Sales Executive",
          "Laboratory Technician",
          "Research Scientist",
          "Laboratory Technician",
          "Research Scientist",
          "Manager",
          "Laboratory Technician",
          "Sales Executive",
          "Laboratory Technician",
          "Manager",
          "Laboratory Technician",
          "Laboratory Technician",
          "Sales Executive",
          "Laboratory Technician",
          "Research Scientist",
          "Laboratory Technician",
          "Research Director",
          "Sales Executive",
          "Laboratory Technician",
          "Sales Executive",
          "Manager",
          "Research Scientist",
          "Laboratory Technician",
          "Sales Executive",
          "Healthcare Representative",
          "Sales Executive",
          "Laboratory Technician",
          "Sales Representative",
          "Sales Executive",
          "Manufacturing Director",
          "Manufacturing Director",
          "Sales Executive",
          "Laboratory Technician",
          "Research Scientist",
          "Research Director",
          "Healthcare Representative",
          "Manufacturing Director",
          "Sales Executive",
          "Research Director",
          "Laboratory Technician",
          "Research Scientist",
          "Sales Representative",
          "Sales Executive",
          "Laboratory Technician",
          "Research Director",
          "Sales Executive",
          "Sales Executive",
          "Manufacturing Director",
          "Research Scientist",
          "Laboratory Technician",
          "Sales Executive",
          "Research Scientist",
          "Healthcare Representative",
          "Healthcare Representative",
          "Research Scientist",
          "Research Scientist",
          "Laboratory Technician",
          "Healthcare Representative",
          "Manager",
          "Sales Executive",
          "Manager",
          "Research Director",
          "Sales Representative",
          "Sales Executive",
          "Sales Executive",
          "Research Scientist",
          "Research Scientist",
          "Sales Executive",
          "Laboratory Technician",
          "Sales Representative",
          "Healthcare Representative",
          "Manufacturing Director",
          "Sales Executive",
          "Sales Executive",
          "Laboratory Technician",
          "Sales Executive",
          "Healthcare Representative",
          "Sales Executive",
          "Sales Executive",
          "Laboratory Technician",
          "Research Scientist",
          "Sales Executive",
          "Research Director",
          "Manufacturing Director",
          "Research Scientist",
          "Research Scientist",
          "Research Scientist",
          "Human Resources",
          "Sales Executive",
          "Manager",
          "Research Scientist",
          "Laboratory Technician",
          "Healthcare Representative",
          "Sales Executive",
          "Laboratory Technician",
          "Laboratory Technician",
          "Healthcare Representative",
          "Research Scientist",
          "Sales Executive",
          "Sales Executive",
          "Manager",
          "Laboratory Technician",
          "Sales Representative",
          "Laboratory Technician",
          "Sales Executive",
          "Sales Executive",
          "Laboratory Technician",
          "Sales Executive",
          "Laboratory Technician",
          "Laboratory Technician",
          "Sales Executive",
          "Research Scientist",
          "Sales Executive",
          "Manager",
          "Research Scientist",
          "Sales Representative",
          "Research Scientist",
          "Sales Executive",
          "Manager",
          "Sales Representative",
          "Manufacturing Director",
          "Manager",
          "Laboratory Technician",
          "Sales Executive",
          "Research Scientist",
          "Sales Executive",
          "Healthcare Representative",
          "Manufacturing Director",
          "Human Resources",
          "Sales Executive",
          "Sales Executive",
          "Manufacturing Director",
          "Laboratory Technician",
          "Healthcare Representative",
          "Sales Executive",
          "Manufacturing Director",
          "Laboratory Technician",
          "Laboratory Technician",
          "Manager",
          "Laboratory Technician",
          "Laboratory Technician",
          "Manufacturing Director",
          "Research Scientist",
          "Manager",
          "Research Scientist",
          "Research Scientist",
          "Manager",
          "Manager",
          "Research Scientist",
          "Research Director",
          "Sales Executive",
          "Research Scientist",
          "Sales Executive",
          "Research Scientist",
          "Laboratory Technician",
          "Sales Executive",
          "Manufacturing Director",
          "Manufacturing Director",
          "Sales Executive",
          "Manager",
          "Manufacturing Director",
          "Research Director",
          "Manufacturing Director",
          "Manufacturing Director",
          "Human Resources",
          "Research Director",
          "Sales Executive",
          "Sales Representative",
          "Sales Executive",
          "Sales Executive",
          "Manufacturing Director",
          "Healthcare Representative",
          "Manager",
          "Sales Representative",
          "Sales Executive",
          "Manufacturing Director",
          "Manufacturing Director",
          "Healthcare Representative",
          "Research Scientist",
          "Sales Executive",
          "Sales Executive",
          "Manager",
          "Manager",
          "Research Scientist",
          "Sales Executive",
          "Manufacturing Director",
          "Laboratory Technician",
          "Sales Representative",
          "Laboratory Technician",
          "Laboratory Technician",
          "Healthcare Representative",
          "Research Director",
          "Laboratory Technician",
          "Human Resources",
          "Sales Executive",
          "Research Director",
          "Research Director",
          "Research Scientist",
          "Sales Representative",
          "Human Resources",
          "Manufacturing Director",
          "Sales Representative",
          "Research Scientist",
          "Research Director",
          "Sales Executive",
          "Healthcare Representative",
          "Research Scientist",
          "Laboratory Technician",
          "Laboratory Technician",
          "Manufacturing Director",
          "Sales Executive",
          "Research Scientist",
          "Sales Executive",
          "Manager",
          "Sales Executive",
          "Research Director",
          "Healthcare Representative",
          "Research Scientist",
          "Manager",
          "Sales Representative",
          "Research Scientist",
          "Laboratory Technician",
          "Sales Representative",
          "Laboratory Technician",
          "Laboratory Technician",
          "Manufacturing Director",
          "Sales Executive",
          "Sales Executive",
          "Sales Executive",
          "Sales Executive",
          "Laboratory Technician",
          "Manufacturing Director",
          "Manufacturing Director",
          "Research Director",
          "Manufacturing Director",
          "Research Scientist",
          "Research Scientist",
          "Manufacturing Director",
          "Research Scientist",
          "Research Scientist",
          "Laboratory Technician",
          "Research Scientist",
          "Sales Representative",
          "Laboratory Technician",
          "Research Scientist",
          "Manufacturing Director",
          "Research Director",
          "Healthcare Representative",
          "Manager",
          "Sales Executive",
          "Sales Executive",
          "Sales Executive",
          "Research Scientist",
          "Laboratory Technician",
          "Healthcare Representative",
          "Manufacturing Director",
          "Human Resources",
          "Healthcare Representative",
          "Sales Executive",
          "Laboratory Technician",
          "Manufacturing Director",
          "Healthcare Representative",
          "Sales Executive",
          "Laboratory Technician",
          "Laboratory Technician",
          "Sales Executive",
          "Research Scientist",
          "Research Scientist",
          "Manager",
          "Sales Representative",
          "Research Scientist",
          "Sales Representative",
          "Sales Executive",
          "Research Director",
          "Sales Executive",
          "Research Scientist",
          "Laboratory Technician",
          "Research Scientist",
          "Research Scientist",
          "Laboratory Technician",
          "Research Scientist",
          "Laboratory Technician",
          "Research Scientist",
          "Manager",
          "Research Director",
          "Sales Executive",
          "Research Scientist",
          "Laboratory Technician",
          "Sales Executive",
          "Research Scientist",
          "Research Scientist",
          "Healthcare Representative",
          "Sales Executive",
          "Manufacturing Director",
          "Research Scientist",
          "Research Scientist",
          "Research Director",
          "Manager",
          "Research Scientist",
          "Sales Executive",
          "Healthcare Representative",
          "Manufacturing Director",
          "Laboratory Technician",
          "Research Scientist",
          "Sales Representative"
         ],
         "legendgroup": "",
         "marker": {
          "color": {
           "bdata": "AAAAAAAA8D8AAAAAAADwPwAAAAAAAAAAAAAAAAAAAAAAAAAAAADwPwAAAAAAAAAAAAAAAAAAAAAAAAAAAAAAAAAAAAAAAPA/AAAAAAAAAAAAAAAAAAAAAAAAAAAAAAAAAAAAAAAAAAAAAAAAAAAAAAAAAAAAAAAAAAAAAAAAAAAAAAAAAAAAAAAAAAAAAAAAAAAAAAAAAAAAAAAAAADwPwAAAAAAAAAAAAAAAAAAAAAAAAAAAAAAAAAAAAAAAAAAAAAAAAAAAAAAAAAAAADwPwAAAAAAAAAAAAAAAAAAAAAAAAAAAAAAAAAAAAAAAAAAAAAAAAAA8D8AAAAAAAAAAAAAAAAAAAAAAAAAAAAAAAAAAAAAAAAAAAAAAAAAAPA/AAAAAAAAAAAAAAAAAAAAAAAAAAAAAAAAAAAAAAAAAAAAAAAAAAAAAAAAAAAAAPA/AAAAAAAAAAAAAAAAAAAAAAAAAAAAAAAAAAAAAAAAAAAAAAAAAAAAAAAAAAAAAAAAAAAAAAAAAAAAAAAAAADwPwAAAAAAAAAAAAAAAAAA8D8AAAAAAAAAAAAAAAAAAAAAAAAAAAAAAAAAAAAAAAAAAAAAAAAAAAAAAAAAAAAA8D8AAAAAAAAAAAAAAAAAAAAAAAAAAAAAAAAAAAAAAAAAAAAAAAAAAAAAAAAAAAAAAAAAAAAAAAAAAAAAAAAAAAAAAAAAAAAAAAAAAAAAAAAAAAAAAAAAAPA/AAAAAAAA8D8AAAAAAAAAAAAAAAAAAAAAAAAAAAAA8D8AAAAAAAAAAAAAAAAAAPA/AAAAAAAAAAAAAAAAAAAAAAAAAAAAAPA/AAAAAAAAAAAAAAAAAAAAAAAAAAAAAAAAAAAAAAAAAAAAAAAAAADwPwAAAAAAAAAAAAAAAAAAAAAAAAAAAADwPwAAAAAAAAAAAAAAAAAAAAAAAAAAAAAAAAAAAAAAAAAAAAAAAAAA8D8AAAAAAAAAAAAAAAAAAAAAAAAAAAAAAAAAAAAAAAAAAAAAAAAAAAAAAAAAAAAAAAAAAAAAAAAAAAAAAAAAAAAAAAAAAAAAAAAAAAAAAAAAAAAAAAAAAAAAAAAAAAAAAAAAAAAAAAAAAAAAAAAAAAAAAAAAAAAAAAAAAAAAAAAAAAAAAAAAAAAAAAAAAAAAAAAAAAAAAAAAAAAAAAAAAAAAAAAAAAAAAAAAAAAAAAAAAAAAAAAAAPA/AAAAAAAAAAAAAAAAAAAAAAAAAAAAAAAAAAAAAAAAAAAAAAAAAAAAAAAAAAAAAAAAAAAAAAAA8D8AAAAAAAAAAAAAAAAAAAAAAAAAAAAA8D8AAAAAAAAAAAAAAAAAAAAAAAAAAAAAAAAAAAAAAAAAAAAAAAAAAAAAAAAAAAAAAAAAAAAAAAAAAAAAAAAAAPA/AAAAAAAAAAAAAAAAAAAAAAAAAAAAAAAAAAAAAAAAAAAAAAAAAAAAAAAAAAAAAAAAAAAAAAAAAAAAAAAAAAAAAAAAAAAAAAAAAAAAAAAA8D8AAAAAAAAAAAAAAAAAAPA/AAAAAAAAAAAAAAAAAAAAAAAAAAAAAAAAAAAAAAAAAAAAAAAAAAAAAAAAAAAAAAAAAAAAAAAAAAAAAAAAAAAAAAAAAAAAAAAAAAAAAAAAAAAAAAAAAAAAAAAAAAAAAPA/AAAAAAAAAAAAAAAAAAAAAAAAAAAAAAAAAAAAAAAAAAAAAAAAAAAAAAAAAAAAAAAAAAAAAAAAAAAAAAAAAADwPwAAAAAAAAAAAAAAAAAAAAAAAAAAAADwPwAAAAAAAAAAAAAAAAAAAAAAAAAAAAAAAAAAAAAAAAAAAAAAAAAAAAAAAAAAAAAAAAAAAAAAAAAAAAAAAAAAAAAAAAAAAAAAAAAAAAAAAAAAAAAAAAAAAAAAAAAAAADwPwAAAAAAAAAAAAAAAAAAAAAAAAAAAAAAAAAAAAAAAAAAAAAAAAAAAAAAAAAAAADwPwAAAAAAAPA/AAAAAAAAAAAAAAAAAAAAAAAAAAAAAAAAAAAAAAAAAAAAAAAAAAAAAAAAAAAAAAAAAAAAAAAA8D8AAAAAAADwPwAAAAAAAPA/AAAAAAAAAAAAAAAAAAAAAAAAAAAAAAAAAAAAAAAAAAAAAAAAAAAAAAAAAAAAAAAAAAAAAAAAAAAAAAAAAADwPwAAAAAAAAAAAAAAAAAAAAAAAAAAAAAAAAAAAAAAAPA/AAAAAAAAAAAAAAAAAAAAAAAAAAAAAPA/AAAAAAAA8D8AAAAAAAAAAAAAAAAAAAAAAAAAAAAAAAAAAAAAAAAAAAAAAAAAAAAAAAAAAAAAAAAAAAAAAADwPwAAAAAAAAAAAAAAAAAA8D8AAAAAAAAAAAAAAAAAAAAAAAAAAAAAAAAAAAAAAAAAAAAAAAAAAPA/AAAAAAAA8D8AAAAAAAAAAAAAAAAAAAAAAAAAAAAAAAAAAAAAAAAAAAAAAAAAAAAAAAAAAAAAAAAAAAAAAAAAAAAAAAAAAAAAAAAAAAAAAAAAAAAAAAAAAAAAAAAAAPA/AAAAAAAAAAAAAAAAAAAAAAAAAAAAAAAAAAAAAAAAAAAAAAAAAAAAAAAAAAAAAAAAAAAAAAAAAAAAAAAAAAAAAAAAAAAAAAAAAAAAAAAAAAAAAAAAAAAAAAAAAAAAAAAAAAAAAAAAAAAAAAAAAAAAAAAAAAAAAAAAAAAAAAAAAAAAAAAAAAAAAAAAAAAAAAAAAAAAAAAAAAAAAAAAAAAAAAAAAAAAAAAAAAAAAAAAAAAAAAAAAAAAAAAAAAAAAAAAAAAAAAAAAAAAAAAAAAAAAAAAAAAAAAAAAAAAAAAAAAAAAAAAAAAAAAAAAAAAAPA/AAAAAAAAAAAAAAAAAAAAAAAAAAAAAAAAAAAAAAAAAAAAAAAAAAAAAAAAAAAAAAAAAAAAAAAAAAAAAAAAAAAAAAAAAAAAAAAAAAAAAAAAAAAAAAAAAAAAAAAAAAAAAPA/AAAAAAAAAAAAAAAAAAAAAAAAAAAAAAAAAAAAAAAAAAAAAAAAAAAAAAAAAAAAAAAAAAAAAAAAAAAAAAAAAAAAAAAAAAAAAAAAAAAAAAAAAAAAAAAAAADwPwAAAAAAAPA/AAAAAAAAAAAAAAAAAAAAAAAAAAAAAAAAAAAAAAAA8D8AAAAAAAAAAAAAAAAAAAAAAAAAAAAAAAAAAAAAAADwPwAAAAAAAAAAAAAAAAAA8D8AAAAAAAAAAAAAAAAAAAAAAAAAAAAA8D8AAAAAAAAAAAAAAAAAAPA/AAAAAAAAAAAAAAAAAAAAAAAAAAAAAAAAAAAAAAAAAAAAAAAAAAAAAAAAAAAAAAAAAAAAAAAAAAAAAAAAAAAAAAAAAAAAAAAAAAAAAAAAAAAAAAAAAAAAAAAAAAAAAAAAAAAAAAAAAAAAAAAAAAAAAAAAAAAAAAAAAAAAAAAAAAAAAAAAAAAAAAAAAAAAAAAAAAAAAAAAAAAAAAAAAAAAAAAAAAAAAAAAAAAAAAAAAAAAAAAAAAAAAAAAAAAAAAAAAAAAAAAA8D8AAAAAAAAAAAAAAAAAAAAAAAAAAAAAAAAAAAAAAAAAAAAAAAAAAAAAAAAAAAAAAAAAAAAAAADwPwAAAAAAAPA/AAAAAAAAAAAAAAAAAAAAAAAAAAAAAAAAAAAAAAAAAAAAAAAAAAAAAAAAAAAAAAAAAAAAAAAAAAAAAAAAAAAAAAAAAAAAAAAAAAAAAAAA8D8AAAAAAAAAAAAAAAAAAAAAAAAAAAAAAAAAAAAAAADwPwAAAAAAAPA/AAAAAAAAAAAAAAAAAAAAAAAAAAAAAPA/AAAAAAAAAAAAAAAAAAAAAAAAAAAAAAAAAAAAAAAAAAAAAAAAAAAAAAAAAAAAAPA/AAAAAAAAAAAAAAAAAADwPwAAAAAAAAAAAAAAAAAAAAAAAAAAAADwPwAAAAAAAAAAAAAAAAAAAAAAAAAAAAAAAAAAAAAAAAAAAAAAAAAAAAAAAAAAAAAAAAAAAAAAAAAAAAAAAAAAAAAAAAAAAAAAAAAAAAAAAAAAAAAAAAAAAAAAAAAAAADwPwAAAAAAAAAAAAAAAAAAAAAAAAAAAADwPwAAAAAAAAAAAAAAAAAAAAAAAAAAAAAAAAAAAAAAAPA/AAAAAAAAAAAAAAAAAAAAAAAAAAAAAPA/AAAAAAAAAAAAAAAAAAAAAAAAAAAAAAAAAAAAAAAA8D8AAAAAAAAAAAAAAAAAAAAAAAAAAAAA8D8AAAAAAADwPwAAAAAAAAAAAAAAAAAAAAAAAAAAAAAAAAAAAAAAAAAAAAAAAAAA8D8AAAAAAAAAAAAAAAAAAPA/AAAAAAAAAAAAAAAAAAAAAAAAAAAAAAAAAAAAAAAA8D8AAAAAAAAAAAAAAAAAAAAAAAAAAAAA8D8AAAAAAAAAAAAAAAAAAAAAAAAAAAAAAAAAAAAAAAAAAAAAAAAAAAAAAAAAAAAAAAAAAAAAAAAAAAAAAAAAAPA/AAAAAAAA8D8AAAAAAAAAAAAAAAAAAAAAAAAAAAAAAAAAAAAAAAAAAAAAAAAAAPA/AAAAAAAAAAAAAAAAAAAAAAAAAAAAAPA/AAAAAAAAAAAAAAAAAADwPwAAAAAAAAAAAAAAAAAAAAAAAAAAAAAAAAAAAAAAAAAAAAAAAAAAAAAAAAAAAAAAAAAAAAAAAAAAAAAAAAAAAAAAAAAAAAAAAAAAAAAAAPA/AAAAAAAAAAAAAAAAAAAAAAAAAAAAAAAAAAAAAAAA8D8AAAAAAAAAAAAAAAAAAAAAAAAAAAAAAAAAAAAAAAAAAAAAAAAAAAAAAAAAAAAAAAAAAAAAAAAAAAAAAAAAAAAAAAAAAAAAAAAAAAAAAADwPwAAAAAAAAAAAAAAAAAA8D8AAAAAAAAAAAAAAAAAAAAAAAAAAAAAAAAAAAAAAAAAAAAAAAAAAAAAAAAAAAAAAAAAAAAAAADwPwAAAAAAAAAAAAAAAAAAAAAAAAAAAAAAAAAAAAAAAAAAAAAAAAAAAAAAAAAAAAAAAAAAAAAAAPA/AAAAAAAA8D8AAAAAAAAAAAAAAAAAAAAAAAAAAAAAAAAAAAAAAAAAAAAAAAAAAAAAAAAAAAAAAAAAAAAAAAAAAAAAAAAAAAAAAAAAAAAAAAAAAAAAAADwPwAAAAAAAPA/AAAAAAAAAAAAAAAAAAAAAAAAAAAAAPA/AAAAAAAAAAAAAAAAAAAAAAAAAAAAAAAAAAAAAAAAAAAAAAAAAAAAAAAAAAAAAAAAAAAAAAAAAAAAAAAAAAAAAAAAAAAAAPA/AAAAAAAAAAAAAAAAAADwPwAAAAAAAAAAAAAAAAAAAAAAAAAAAAAAAAAAAAAAAPA/AAAAAAAAAAAAAAAAAAAAAAAAAAAAAAAAAAAAAAAAAAAAAAAAAAAAAAAAAAAAAAAAAAAAAAAAAAAAAAAAAAAAAAAAAAAAAAAAAAAAAAAAAAAAAAAAAAAAAAAAAAAAAAAAAAAAAAAAAAAAAAAAAAAAAAAAAAAAAAAAAAAAAAAAAAAAAAAAAAAAAAAAAAAAAAAAAAAAAAAAAAAAAAAAAAAAAAAAAAAAAAAAAAAAAAAAAAAAAAAAAAAAAAAAAAAAAPA/AAAAAAAA8D8AAAAAAAAAAAAAAAAAAAAAAAAAAAAAAAAAAAAAAAAAAAAAAAAAAAAAAAAAAAAAAAAAAAAAAAAAAAAAAAAAAAAAAAAAAAAAAAAAAAAAAADwPwAAAAAAAAAAAAAAAAAAAAAAAAAAAAAAAAAAAAAAAPA/AAAAAAAAAAAAAAAAAADwPwAAAAAAAPA/AAAAAAAAAAAAAAAAAAAAAAAAAAAAAAAAAAAAAAAAAAAAAAAAAAAAAAAAAAAAAAAAAAAAAAAAAAAAAAAAAAAAAAAAAAAAAAAAAAAAAAAAAAAAAAAAAAAAAAAAAAAAAPA/AAAAAAAAAAAAAAAAAAAAAAAAAAAAAPA/AAAAAAAAAAAAAAAAAAAAAAAAAAAAAAAAAAAAAAAAAAAAAAAAAADwPwAAAAAAAAAAAAAAAAAAAAAAAAAAAAAAAAAAAAAAAPA/AAAAAAAAAAAAAAAAAADwPwAAAAAAAAAAAAAAAAAAAAAAAAAAAAAAAAAAAAAAAAAAAAAAAAAA8D8AAAAAAAAAAAAAAAAAAAAAAAAAAAAAAAAAAAAAAAAAAAAAAAAAAAAAAAAAAAAA8D8AAAAAAAAAAAAAAAAAAAAAAAAAAAAAAAAAAAAAAAAAAAAAAAAAAPA/AAAAAAAAAAAAAAAAAAAAAAAAAAAAAAAAAAAAAAAAAAAAAAAAAAAAAAAAAAAAAAAAAAAAAAAAAAAAAAAAAAAAAAAAAAAAAPA/AAAAAAAAAAAAAAAAAAAAAAAAAAAAAAAAAAAAAAAAAAAAAAAAAAAAAAAAAAAAAAAAAAAAAAAAAAAAAAAAAAAAAAAAAAAAAAAAAAAAAAAA8D8AAAAAAAAAAAAAAAAAAAAAAAAAAAAAAAAAAAAAAAAAAAAAAAAAAAAAAAAAAAAAAAAAAAAAAAAAAAAAAAAAAAAAAAAAAAAAAAAAAAAAAAAAAAAAAAAAAAAAAAAAAAAAAAAAAAAAAAAAAAAAAAAAAAAAAAAAAAAAAAAAAAAAAAAAAAAAAAAAAPA/AAAAAAAAAAAAAAAAAAAAAAAAAAAAAAAAAAAAAAAAAAAAAAAAAAAAAAAAAAAAAAAAAAAAAAAAAAAAAAAAAAAAAAAAAAAAAAAAAAAAAAAA8D8AAAAAAAAAAAAAAAAAAPA/AAAAAAAA8D8AAAAAAAAAAAAAAAAAAAAAAAAAAAAAAAAAAAAAAAAAAAAAAAAAAAAAAAAAAAAAAAAAAAAAAAAAAAAAAAAAAAAAAAAAAAAA8D8AAAAAAAAAAAAAAAAAAAAAAAAAAAAAAAAAAAAAAAAAAAAAAAAAAAAAAAAAAAAAAAAAAAAAAAAAAAAAAAAAAAAAAAAAAAAA8D8AAAAAAAAAAAAAAAAAAAAAAAAAAAAAAAAAAAAAAAAAAAAAAAAAAAAAAAAAAAAAAAAAAAAAAAAAAAAAAAAAAAAAAAAAAAAAAAAAAAAAAAAAAAAAAAAAAAAAAAAAAAAAAAAAAAAAAADwPwAAAAAAAPA/AAAAAAAA8D8AAAAAAAAAAAAAAAAAAAAAAAAAAAAAAAAAAAAAAAAAAAAAAAAAAAAAAAAAAAAAAAAAAAAAAAAAAAAAAAAAAAAAAAAAAAAAAAAAAAAAAAAAAAAAAAAAAAAAAAAAAAAA8D8AAAAAAAAAAAAAAAAAAPA/AAAAAAAA8D8AAAAAAAAAAAAAAAAAAAAAAAAAAAAAAAAAAAAAAAAAAAAAAAAAAAAAAAAAAAAAAAAAAAAAAADwPwAAAAAAAAAAAAAAAAAA8D8AAAAAAAAAAAAAAAAAAAAAAAAAAAAAAAAAAAAAAAAAAAAAAAAAAAAAAAAAAAAA8D8AAAAAAAAAAAAAAAAAAAAAAAAAAAAAAAAAAAAAAAAAAAAAAAAAAAAAAAAAAAAA8D8AAAAAAAAAAAAAAAAAAAAAAAAAAAAA8D8AAAAAAAAAAAAAAAAAAAAAAAAAAAAAAAAAAAAAAAAAAAAAAAAAAAAAAAAAAAAA8D8AAAAAAAAAAAAAAAAAAAAAAAAAAAAAAAAAAAAAAAAAAAAAAAAAAAAAAAAAAAAA8D8AAAAAAAAAAAAAAAAAAAAAAAAAAAAAAAAAAAAAAAAAAAAAAAAAAAAAAAAAAAAA8D8AAAAAAAAAAAAAAAAAAAAAAAAAAAAAAAAAAAAAAADwPwAAAAAAAPA/AAAAAAAAAAAAAAAAAAAAAAAAAAAAAAAAAAAAAAAAAAAAAAAAAAAAAAAAAAAAAAAAAAAAAAAAAAAAAAAAAAAAAAAAAAAAAPA/AAAAAAAAAAAAAAAAAAAAAAAAAAAAAAAAAAAAAAAAAAAAAAAAAAAAAAAAAAAAAAAAAAAAAAAAAAAAAAAAAAAAAAAAAAAAAPA/AAAAAAAAAAAAAAAAAAAAAAAAAAAAAAAAAAAAAAAAAAAAAAAAAAAAAAAAAAAAAAAAAAAAAAAAAAAAAAAAAAAAAAAAAAAAAAAAAAAAAAAA8D8AAAAAAAAAAAAAAAAAAAAAAAAAAAAAAAAAAAAAAAAAAAAAAAAAAAAAAAAAAAAAAAAAAAAAAADwPwAAAAAAAAAAAAAAAAAAAAAAAAAAAAAAAAAAAAAAAAAAAAAAAAAAAAAAAAAAAAAAAAAAAAAAAAAAAAAAAAAAAAAAAAAAAAAAAAAAAAAAAAAAAAAAAAAAAAAAAAAAAAAAAAAAAAAAAAAAAAAAAAAAAAAAAAAAAAAAAAAAAAAAAAAAAAAAAAAAAAAAAAAAAAAAAAAAAAAAAPA/AAAAAAAAAAAAAAAAAADwPwAAAAAAAAAAAAAAAAAAAAAAAAAAAAAAAAAAAAAAAAAAAAAAAAAAAAAAAAAAAADwPwAAAAAAAAAAAAAAAAAA8D8AAAAAAADwPwAAAAAAAPA/AAAAAAAAAAAAAAAAAAAAAAAAAAAAAAAAAAAAAAAAAAAAAAAAAAAAAAAAAAAAAAAAAAAAAAAAAAAAAAAAAADwPwAAAAAAAAAAAAAAAAAAAAAAAAAAAADwPwAAAAAAAAAAAAAAAAAAAAAAAAAAAAAAAAAAAAAAAAAAAAAAAAAAAAAAAAAAAAAAAAAAAAAAAAAAAAAAAAAAAAAAAAAAAAAAAAAAAAAAAAAAAAAAAAAAAAAAAAAAAAAAAAAAAAAAAPA/AAAAAAAAAAAAAAAAAAAAAAAAAAAAAAAAAAAAAAAA8D8AAAAAAAAAAAAAAAAAAAAAAAAAAAAAAAAAAAAAAAAAAAAAAAAAAAAAAAAAAAAAAAAAAAAAAAAAAAAAAAAAAAAAAAAAAAAAAAAAAAAAAAAAAAAAAAAAAAAAAAAAAAAAAAAAAAAAAAAAAAAAAAAAAAAAAAAAAAAAAAAAAAAAAAAAAAAAAAAAAAAAAAAAAAAAAAAAAAAAAADwPwAAAAAAAAAAAAAAAAAAAAAAAAAAAAAAAAAAAAAAAAAAAAAAAAAAAAAAAAAAAAAAAAAAAAAAAPA/AAAAAAAAAAAAAAAAAAAAAAAAAAAAAAAAAAAAAAAAAAAAAAAAAAAAAAAAAAAAAAAAAAAAAAAA8D8AAAAAAAAAAAAAAAAAAAAAAAAAAAAA8D8AAAAAAAAAAAAAAAAAAAAAAAAAAAAAAAAAAAAAAAAAAAAAAAAAAAAAAAAAAAAAAAAAAAAAAAAAAAAAAAAAAAAAAAAAAAAAAAAAAAAAAADwPwAAAAAAAAAAAAAAAAAAAAAAAAAAAAAAAAAAAAAAAPA/AAAAAAAAAAAAAAAAAAAAAAAAAAAAAPA/AAAAAAAAAAAAAAAAAAAAAAAAAAAAAPA/AAAAAAAAAAAAAAAAAAAAAAAAAAAAAAAAAAAAAAAAAAAAAAAAAAAAAAAAAAAAAAAAAAAAAAAAAAAAAAAAAAAAAAAAAAAAAAAAAAAAAAAAAAAAAAAAAAAAAAAAAAAAAAAAAAAAAAAAAAAAAAAAAADwPwAAAAAAAAAAAAAAAAAAAAAAAAAAAAAAAAAAAAAAAAAAAAAAAAAAAAAAAAAAAAAAAAAAAAAAAAAAAAAAAAAAAAAAAAAAAAAAAAAAAAAAAAAAAAAAAAAAAAAAAAAAAAAAAAAAAAAAAAAAAAAAAAAAAAAAAAAAAAAAAAAAAAAAAAAAAAAAAAAAAAAAAAAAAAAAAAAAAAAAAAAAAAAAAAAAAAAAAAAAAAAAAAAAAAAAAAAAAAAAAAAAAAAAAAAAAAAAAAAAAAAAAPA/AAAAAAAAAAAAAAAAAAAAAAAAAAAAAPA/AAAAAAAAAAAAAAAAAADwPwAAAAAAAAAAAAAAAAAAAAAAAAAAAAAAAAAAAAAAAAAAAAAAAAAA8D8AAAAAAAAAAAAAAAAAAAAAAAAAAAAAAAAAAAAAAAAAAAAAAAAAAAAAAAAAAAAAAAAAAAAAAAAAAAAAAAAAAAAAAAAAAAAA8D8AAAAAAADwPwAAAAAAAAAAAAAAAAAAAAAAAAAAAAAAAAAAAAAAAPA/AAAAAAAAAAAAAAAAAAAAAAAAAAAAAAAAAAAAAAAAAAAAAAAAAAAAAAAAAAAAAAAAAAAAAAAAAAAAAAAAAAAAAAAAAAAAAAAAAAAAAAAAAAAAAAAAAAAAAAAAAAAAAAAAAAAAAAAAAAAAAAAAAAAAAAAAAAAAAAAAAAAAAAAAAAAAAAAAAADwPwAAAAAAAAAAAAAAAAAAAAAAAAAAAAAAAAAAAAAAAAAAAAAAAAAAAAAAAAAAAAAAAAAAAAAAAAAAAAAAAAAAAAAAAAAAAAAAAAAAAAAAAAAAAAAAAAAAAAAAAAAAAAAAAAAAAAAAAAAAAAAAAAAA8D8AAAAAAAAAAAAAAAAAAAAAAAAAAAAAAAAAAAAAAADwPwAAAAAAAAAAAAAAAAAAAAAAAAAAAAAAAAAAAAAAAAAAAAAAAAAAAAAAAAAAAAAAAAAAAAAAAAAAAAAAAAAAAAAAAAAAAAAAAAAAAAAAAAAAAAAAAAAAAAAAAAAAAADwPwAAAAAAAPA/AAAAAAAAAAAAAAAAAADwPwAAAAAAAPA/AAAAAAAAAAAAAAAAAAAAAAAAAAAAAAAAAAAAAAAAAAAAAAAAAAAAAAAAAAAAAAAAAAAAAAAAAAAAAAAAAAAAAAAAAAAAAAAAAAAAAAAAAAAAAAAAAADwPwAAAAAAAAAAAAAAAAAAAAAAAAAAAAAAAAAAAAAAAAAAAAAAAAAAAAAAAAAAAAAAAAAAAAAAAAAAAAAAAAAAAAAAAAAAAADwPwAAAAAAAAAAAAAAAAAAAAAAAAAAAAAAAAAAAAAAAAAAAAAAAAAAAAAAAAAAAAAAAAAAAAAAAAAAAAAAAAAAAAAAAAAAAAAAAAAAAAAAAAAAAAAAAAAAAAAAAAAAAADwPwAAAAAAAAAAAAAAAAAAAAAAAAAAAAAAAAAAAAAAAAAAAAAAAAAA8D8AAAAAAAAAAAAAAAAAAAAAAAAAAAAAAAAAAAAAAADwPwAAAAAAAAAAAAAAAAAAAAAAAAAAAADwPwAAAAAAAAAAAAAAAAAA8D8AAAAAAAAAAAAAAAAAAAAAAAAAAAAAAAAAAAAAAAAAAAAAAAAAAAAAAAAAAAAAAAAAAAAAAADwPwAAAAAAAAAAAAAAAAAA8D8AAAAAAAAAAAAAAAAAAAAAAAAAAAAAAAAAAAAAAAAAAAAAAAAAAAAAAAAAAAAA8D8AAAAAAAAAAAAAAAAAAPA/AAAAAAAAAAAAAAAAAADwPw==",
           "dtype": "f8"
          },
          "coloraxis": "coloraxis",
          "opacity": 0.7,
          "size": {
           "bdata": "AgEEAgUBAwIBBAICAgUFAQQCAgEEAQICAQEBAgICAgEDAQIBAgMBAwIBAQIBAwIBAQMBAgQCAQICAQECAQMDAwICAQEBAQIBBQIBAQIBAgECAwUCAQIDBQECAQEDAgEBAgUCAgICAgEBBAIDAQECAgICAgEEAgIEAQMCAQEBAgEDAwIDAgEDAwMBAgQBAQEDAgECAQUCAQEBAQIDAgICAgICAQEEAQQBAQQCAgECAgICAQEFAgEBBAICAQICBAQBAgIDAQUCBQQEAgEDAwIBAgIBAQQCBAEBBQIDAQIBAQEDAQIEAgMCAwECAwICBAMDBAQCAgMCAgEBAQIFAgMBAwIBBAIBAQEEBAIBAgMBAgICAQECAgIBAgMBAgMBAQEBAQMBAQICAQQDAQMCAgIDAQEBBQECAwEBBQEBAQIBAQMCAgQBAgIDAQUBAwMDAQECAgEBAwIBAgICBQEBAwICAgEBAQEBAgMBBAIBAQECAwECAQUBAgUCAwMCAgECBAICAwUFBQMCAgIBAgIDAQECAwEFAwMBAwIFAwEBAQIDBAMBAgIBAQEBAQEBAwIBAwECAgEEBAEBAQEDAQIBAQIEAwIBAQEBAQMBAQIDAQEBAwMBAQIBAQIBAQEBAwICAgEDAgEBAgECAQIDAgIFAgICAQIFBAICAwIFAgICAQUFAQMBBAMCAQIDAwQDAgEDAQIDAgEBAwICAQECBAEDAgEBAgECAgIBAwEDAwEEAQIBAQUCAgEBAwIBAgECAwECAgMCAQEDAgEBAQICAgICAgEBBQECAQICAQEDBAEDAQICAgEFAwUEAgMDAgEBAQEBBAMBAwQEAQQEAwMBAQIBAQMDAwIBAgQDAQMBBAUCAQMDAgIBAgEDAQICAwEBAQICAgUCAQECAQEBAQQCAQICBAMDAQECAQIDAgEEAQIBAQIFAQEDAQIDAQQEAQICAQICAQICAQICAQECAQIBAgUEAgMCAgEBAgECAwICAgEBBQUCAgEBAgEBAQEEAQMCBQMBAgEBAgUCAgMFAQEDAwIBAQMCAgIBAQQCAgMEAQEBAgEEAgICAQECAQMCAQEBBAQCBQQBAgIBAQIBAQIDAgIBAgQCAwEBAgUCAQEBAQQFAQECAgEBAwECAwQBAQECBAICAQECAQIEAQEBAgQBAwQBAgMCAgIDAgIDAgIDAgECBQIBAwEFAQIEBAIFAgEDAQEDAgIDBAMEBAMDBAMBAgICAgQBAgICAgECBAUFAQICAQEBAQQFAgICAwMCAQEDAgEFAwMBAQECAgECBAIFAgIDAQEBAQEBAgIDAgMBAwIEAwIBAgIBAQECAgEDAwMDAgICAQECAgICAgEDAwIBAgIBAQUBAQEDAwIBAQIBAQEBAgUDAgEBAgECAgMCAQEDBAECAwMBAQE=",
           "dtype": "i1"
          },
          "sizemode": "area",
          "sizeref": 0.0125,
          "symbol": "circle"
         },
         "mode": "markers",
         "name": "",
         "scene": "scene",
         "showlegend": false,
         "type": "scatter3d",
         "x": {
          "bdata": "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",
          "dtype": "i2"
         },
         "y": {
          "bdata": "AQoUBAUIBwUBAQkNFAQBBhQODQITAhAKBwMCAQkFBwISBQoBCwkDCAYCCAoHCgUCAQ4CBAUEAQUIAQMGCgcTAQoMAwMCAgcHFg0ABwIFBgoJCSAIAQQECAMBCAUJAQQJCgEJDggFCAMLCgEBBQINAxQJCgAWAQkHAwUEAwIEBgIJBgoDCAMJAQsCCAwEAQYHAgQQBAkJAwYFAQUOBQYBCwcUAQEJAhUFBREFAgUHBwMFBAQdBAYIFAYGBQoCBQoBAgEEBRsKGRkKBQIOBQoAAwYDAxQEEgsBGAoFBgYCAgMKAQETCQoBCgUHCgcBBAoIFgcDBAkKCgMCBQUYAgkBDAkBIg8GAwAFDA0BBgsFDQAJAAgQBQoFAQIDCQkDAQUICgoDBQkDAAwFAwkLBgUTCgQFJAELCgEFCAMGBwUCAwgGDxUOBhIKBR8GCAkPBQsDCwEBCgQBCAITFQQEAQgKBQcCEgUBBQ8AFAcBBQEKBQAEAhgIBxUPBA0ICgUDFgEGChUfFAoDBQgBBAUHBAYJAQIIBwICBQAHCgQFAQQGFAYFCgkDAQIBAQgKEgMCCAQFAwYZDgECBQMQBAYFBwQFDQgFBQIPBQsFAQIKBAIICwgFBgEAAQYBAAEBDQELCAEJCQECBQMCBAkHAAMhBgQDBAUgAgMECQchBQcIBAoLBAsEGgoKCQgKAiEKEQQoBQAWBgICCQQBAwEICQEICAQCCQQDCQQIFQUFEwUSAAEBAhYCDAEBEAcFDwoKAxIIBQwHCAEEBQUHFAYKAgUKCwUCAgMIAgMKBQwVFQMNAwcMCgIUGAIDCQkKCQMDAQIDEQIIEQUJAQUCCgoDAgYEAwgPAwECAQEAABACAxQFBwMNAwcCBAQKAQMBCgcCAQUSCxYDAwkKAwIFAQEBAgUEBgEFAQkIAgULBQMFAQoDCwoVBQoaAgQJBQkUBwEIAAEJAQ0GAwQFAwYHBAUABxYlBhUHBQgCBQUDAQEHAQIKEgcFFAEDAwACEQQFAwkKAQEBBAMRARUFDAoHBAIFCAMFAwsBBwQHCgUJAgkDAAgDAgMDBQIGBgYKAwoICgMBIQwFAAcBCAUGBQcCBQ4GAwgJBwcPEgEACAMHBQMFBwETAwIKBQEBCAENChkCBAINEwUDAQgGAQYbBgEDBxoBCR8BAwEEBgYJBwURBQIJAQIBHQkFCgEFAQYHCQkDBgMEAwoBBQMKCQgUBQgUBxgDBQYECBQHAwUQBAIPFgUDBwAACgMEBwoEBwQPEggUAgUHCAEUDwEGBQULAwQTBwUCBwgBAwQBBAEBBAUNBgUFBgEECQ0AAggABgQAAwgHABALBQgDBQIEDgIGCwENAwoBCQIGAA4HAgEICgkHAQoBAQUCERgIAgMHCAgFCQUFBAUEBQUOCgEBBAA=",
          "dtype": "i1"
         },
         "z": {
          "bdata": "CwQaAQISAwQEFwwGAgUEFwYKCAENBg4HAQECAQEEBggBEAUVAhcWBwECAgoCBQIBCQEJCRwBAxUCEgQDBxQGAQIBBAEKBhQGDAYICQEOHAEBCQIHCgsLAwIKEQIKEAYEGAEBAQENChwBEQgaChgZAhoCDwoCAQgDAQcBBQIPFAISGQIXAwUFBw8UGxwJCgsJBgEIDAEXAQUWGQUEARkCCQYBAxMCCgwQCBAGARoJGggEAgYHBwcdChYFEhUCAQMCFAMIBQcBBAISCgkMGAQCGQMGAwIIAgICDgcBCgkICQEdCgIXDxkCEQIBEwcaDgMIAQYSAggYFAgDFQsBFwkJBAoDAxQFFQIIFwECAwEGBQIYDw4GAggdAwMGBgkGAgUIFxsDBgIDBhgDCAsTAQgCEAkWAQoBAQMEAgECBwEKCxACAgoJAwELCBIBBAgECQMJCAoJAREBEBAQChgHChIBHAgDDggFAwEBGgYGAREGBxYLBggDAQEHCgcJHAkCAg8HAwICDgUQAQkDHBoKGAMUHBABDxIZBx0BBwEBBAcBFAUVCgUBCBMQBQoZHAIGCgoEBRgMDwoKCggDGhoHAgoEAwIJCgkGARcRAQ8IAQIDBwUJBB0RCgsCAgIJAQcGCQEKBAsZCxcDBAEWCAkBAgoDAgkDAgESEQYCARYdCQQECAEFAhEdDgkCDAUHCRMXAwIHCwkBCwEHCRgBAgQOAxQCBAEHHQIEGRoDEQICAxMYAgEQCRUEAwgJBAMSCgYDEwcKFQgBGwUcHAkWBggVBwgHAgEECgcZAgkEAQEIEA4CCAkCBwMcFxIEGAIDAhcCAhIDCAIIBgcIARUCAgIDAQkBHRoLHQYdBQUCAQQDBwIJBgIIAQUDChEGAREPAggBEgUIDQ4IAQEIBR0FCQECAQIBEwISBAsUEgIaGQEBAgsHDgIIEx0IGBkBBAIbDwoBGAcDFBQTCQEbBQ0FAgQKBRYHBBkFAQMCGQkRCBUBCQgCHRQDBAEFEAECExYRBQEMBQoBAgcKAQIHAgIHBxQBBxAXEggCFwMXAQkCAwUJBwgIBRkBDwcVBw8CAQECCAMBGQELAg4BDw4NAQIBGggCBwEBBQIDAgUdEgYGARgCFwQCCgMCBwEHChoBAgUDDQMHGAEECQIdHQwBCgIMAQIBEAcIAQITAggJCRcCCgMQCQcBGAcLARYKAQIKCgICAgYKAhMBCxsCCwcBAQEBAhoBAgINDQYCDAEJAwQCAQECCQkOCgkPEwUBCQgGBQ0BAgMGAhQbCwECAwcKAgwBBwIGAQESAhkCDRUIAgkHBwcCAx0KBwgDEwMEFw4CBhkFBAQCAhMDBAIFBAEZBQUJBBwBFAUHFwICCAEKAggBERcCBgIIHRsGBwkdARkBEgQCARQBGAEMEAE=",
          "dtype": "i1"
         }
        }
       ],
       "layout": {
        "coloraxis": {
         "colorbar": {
          "title": {
           "text": "Status Attrition"
          }
         },
         "colorscale": [
          [
           0,
           "#0d0887"
          ],
          [
           0.1111111111111111,
           "#46039f"
          ],
          [
           0.2222222222222222,
           "#7201a8"
          ],
          [
           0.3333333333333333,
           "#9c179e"
          ],
          [
           0.4444444444444444,
           "#bd3786"
          ],
          [
           0.5555555555555556,
           "#d8576b"
          ],
          [
           0.6666666666666666,
           "#ed7953"
          ],
          [
           0.7777777777777778,
           "#fb9f3a"
          ],
          [
           0.8888888888888888,
           "#fdca26"
          ],
          [
           1,
           "#f0f921"
          ]
         ]
        },
        "legend": {
         "itemsizing": "constant",
         "tracegroupgap": 0
        },
        "scene": {
         "domain": {
          "x": [
           0,
           1
          ],
          "y": [
           0,
           1
          ]
         },
         "xaxis": {
          "title": {
           "text": "Gaji Bulanan"
          }
         },
         "yaxis": {
          "title": {
           "text": "Tahun di Perusahaan"
          }
         },
         "zaxis": {
          "title": {
           "text": "Jarak dari Rumah (km)"
          }
         }
        },
        "template": {
         "data": {
          "bar": [
           {
            "error_x": {
             "color": "#2a3f5f"
            },
            "error_y": {
             "color": "#2a3f5f"
            },
            "marker": {
             "line": {
              "color": "white",
              "width": 0.5
             },
             "pattern": {
              "fillmode": "overlay",
              "size": 10,
              "solidity": 0.2
             }
            },
            "type": "bar"
           }
          ],
          "barpolar": [
           {
            "marker": {
             "line": {
              "color": "white",
              "width": 0.5
             },
             "pattern": {
              "fillmode": "overlay",
              "size": 10,
              "solidity": 0.2
             }
            },
            "type": "barpolar"
           }
          ],
          "carpet": [
           {
            "aaxis": {
             "endlinecolor": "#2a3f5f",
             "gridcolor": "#C8D4E3",
             "linecolor": "#C8D4E3",
             "minorgridcolor": "#C8D4E3",
             "startlinecolor": "#2a3f5f"
            },
            "baxis": {
             "endlinecolor": "#2a3f5f",
             "gridcolor": "#C8D4E3",
             "linecolor": "#C8D4E3",
             "minorgridcolor": "#C8D4E3",
             "startlinecolor": "#2a3f5f"
            },
            "type": "carpet"
           }
          ],
          "choropleth": [
           {
            "colorbar": {
             "outlinewidth": 0,
             "ticks": ""
            },
            "type": "choropleth"
           }
          ],
          "contour": [
           {
            "colorbar": {
             "outlinewidth": 0,
             "ticks": ""
            },
            "colorscale": [
             [
              0,
              "#0d0887"
             ],
             [
              0.1111111111111111,
              "#46039f"
             ],
             [
              0.2222222222222222,
              "#7201a8"
             ],
             [
              0.3333333333333333,
              "#9c179e"
             ],
             [
              0.4444444444444444,
              "#bd3786"
             ],
             [
              0.5555555555555556,
              "#d8576b"
             ],
             [
              0.6666666666666666,
              "#ed7953"
             ],
             [
              0.7777777777777778,
              "#fb9f3a"
             ],
             [
              0.8888888888888888,
              "#fdca26"
             ],
             [
              1,
              "#f0f921"
             ]
            ],
            "type": "contour"
           }
          ],
          "contourcarpet": [
           {
            "colorbar": {
             "outlinewidth": 0,
             "ticks": ""
            },
            "type": "contourcarpet"
           }
          ],
          "heatmap": [
           {
            "colorbar": {
             "outlinewidth": 0,
             "ticks": ""
            },
            "colorscale": [
             [
              0,
              "#0d0887"
             ],
             [
              0.1111111111111111,
              "#46039f"
             ],
             [
              0.2222222222222222,
              "#7201a8"
             ],
             [
              0.3333333333333333,
              "#9c179e"
             ],
             [
              0.4444444444444444,
              "#bd3786"
             ],
             [
              0.5555555555555556,
              "#d8576b"
             ],
             [
              0.6666666666666666,
              "#ed7953"
             ],
             [
              0.7777777777777778,
              "#fb9f3a"
             ],
             [
              0.8888888888888888,
              "#fdca26"
             ],
             [
              1,
              "#f0f921"
             ]
            ],
            "type": "heatmap"
           }
          ],
          "histogram": [
           {
            "marker": {
             "pattern": {
              "fillmode": "overlay",
              "size": 10,
              "solidity": 0.2
             }
            },
            "type": "histogram"
           }
          ],
          "histogram2d": [
           {
            "colorbar": {
             "outlinewidth": 0,
             "ticks": ""
            },
            "colorscale": [
             [
              0,
              "#0d0887"
             ],
             [
              0.1111111111111111,
              "#46039f"
             ],
             [
              0.2222222222222222,
              "#7201a8"
             ],
             [
              0.3333333333333333,
              "#9c179e"
             ],
             [
              0.4444444444444444,
              "#bd3786"
             ],
             [
              0.5555555555555556,
              "#d8576b"
             ],
             [
              0.6666666666666666,
              "#ed7953"
             ],
             [
              0.7777777777777778,
              "#fb9f3a"
             ],
             [
              0.8888888888888888,
              "#fdca26"
             ],
             [
              1,
              "#f0f921"
             ]
            ],
            "type": "histogram2d"
           }
          ],
          "histogram2dcontour": [
           {
            "colorbar": {
             "outlinewidth": 0,
             "ticks": ""
            },
            "colorscale": [
             [
              0,
              "#0d0887"
             ],
             [
              0.1111111111111111,
              "#46039f"
             ],
             [
              0.2222222222222222,
              "#7201a8"
             ],
             [
              0.3333333333333333,
              "#9c179e"
             ],
             [
              0.4444444444444444,
              "#bd3786"
             ],
             [
              0.5555555555555556,
              "#d8576b"
             ],
             [
              0.6666666666666666,
              "#ed7953"
             ],
             [
              0.7777777777777778,
              "#fb9f3a"
             ],
             [
              0.8888888888888888,
              "#fdca26"
             ],
             [
              1,
              "#f0f921"
             ]
            ],
            "type": "histogram2dcontour"
           }
          ],
          "mesh3d": [
           {
            "colorbar": {
             "outlinewidth": 0,
             "ticks": ""
            },
            "type": "mesh3d"
           }
          ],
          "parcoords": [
           {
            "line": {
             "colorbar": {
              "outlinewidth": 0,
              "ticks": ""
             }
            },
            "type": "parcoords"
           }
          ],
          "pie": [
           {
            "automargin": true,
            "type": "pie"
           }
          ],
          "scatter": [
           {
            "fillpattern": {
             "fillmode": "overlay",
             "size": 10,
             "solidity": 0.2
            },
            "type": "scatter"
           }
          ],
          "scatter3d": [
           {
            "line": {
             "colorbar": {
              "outlinewidth": 0,
              "ticks": ""
             }
            },
            "marker": {
             "colorbar": {
              "outlinewidth": 0,
              "ticks": ""
             }
            },
            "type": "scatter3d"
           }
          ],
          "scattercarpet": [
           {
            "marker": {
             "colorbar": {
              "outlinewidth": 0,
              "ticks": ""
             }
            },
            "type": "scattercarpet"
           }
          ],
          "scattergeo": [
           {
            "marker": {
             "colorbar": {
              "outlinewidth": 0,
              "ticks": ""
             }
            },
            "type": "scattergeo"
           }
          ],
          "scattergl": [
           {
            "marker": {
             "colorbar": {
              "outlinewidth": 0,
              "ticks": ""
             }
            },
            "type": "scattergl"
           }
          ],
          "scattermap": [
           {
            "marker": {
             "colorbar": {
              "outlinewidth": 0,
              "ticks": ""
             }
            },
            "type": "scattermap"
           }
          ],
          "scattermapbox": [
           {
            "marker": {
             "colorbar": {
              "outlinewidth": 0,
              "ticks": ""
             }
            },
            "type": "scattermapbox"
           }
          ],
          "scatterpolar": [
           {
            "marker": {
             "colorbar": {
              "outlinewidth": 0,
              "ticks": ""
             }
            },
            "type": "scatterpolar"
           }
          ],
          "scatterpolargl": [
           {
            "marker": {
             "colorbar": {
              "outlinewidth": 0,
              "ticks": ""
             }
            },
            "type": "scatterpolargl"
           }
          ],
          "scatterternary": [
           {
            "marker": {
             "colorbar": {
              "outlinewidth": 0,
              "ticks": ""
             }
            },
            "type": "scatterternary"
           }
          ],
          "surface": [
           {
            "colorbar": {
             "outlinewidth": 0,
             "ticks": ""
            },
            "colorscale": [
             [
              0,
              "#0d0887"
             ],
             [
              0.1111111111111111,
              "#46039f"
             ],
             [
              0.2222222222222222,
              "#7201a8"
             ],
             [
              0.3333333333333333,
              "#9c179e"
             ],
             [
              0.4444444444444444,
              "#bd3786"
             ],
             [
              0.5555555555555556,
              "#d8576b"
             ],
             [
              0.6666666666666666,
              "#ed7953"
             ],
             [
              0.7777777777777778,
              "#fb9f3a"
             ],
             [
              0.8888888888888888,
              "#fdca26"
             ],
             [
              1,
              "#f0f921"
             ]
            ],
            "type": "surface"
           }
          ],
          "table": [
           {
            "cells": {
             "fill": {
              "color": "#EBF0F8"
             },
             "line": {
              "color": "white"
             }
            },
            "header": {
             "fill": {
              "color": "#C8D4E3"
             },
             "line": {
              "color": "white"
             }
            },
            "type": "table"
           }
          ]
         },
         "layout": {
          "annotationdefaults": {
           "arrowcolor": "#2a3f5f",
           "arrowhead": 0,
           "arrowwidth": 1
          },
          "autotypenumbers": "strict",
          "coloraxis": {
           "colorbar": {
            "outlinewidth": 0,
            "ticks": ""
           }
          },
          "colorscale": {
           "diverging": [
            [
             0,
             "#8e0152"
            ],
            [
             0.1,
             "#c51b7d"
            ],
            [
             0.2,
             "#de77ae"
            ],
            [
             0.3,
             "#f1b6da"
            ],
            [
             0.4,
             "#fde0ef"
            ],
            [
             0.5,
             "#f7f7f7"
            ],
            [
             0.6,
             "#e6f5d0"
            ],
            [
             0.7,
             "#b8e186"
            ],
            [
             0.8,
             "#7fbc41"
            ],
            [
             0.9,
             "#4d9221"
            ],
            [
             1,
             "#276419"
            ]
           ],
           "sequential": [
            [
             0,
             "#0d0887"
            ],
            [
             0.1111111111111111,
             "#46039f"
            ],
            [
             0.2222222222222222,
             "#7201a8"
            ],
            [
             0.3333333333333333,
             "#9c179e"
            ],
            [
             0.4444444444444444,
             "#bd3786"
            ],
            [
             0.5555555555555556,
             "#d8576b"
            ],
            [
             0.6666666666666666,
             "#ed7953"
            ],
            [
             0.7777777777777778,
             "#fb9f3a"
            ],
            [
             0.8888888888888888,
             "#fdca26"
            ],
            [
             1,
             "#f0f921"
            ]
           ],
           "sequentialminus": [
            [
             0,
             "#0d0887"
            ],
            [
             0.1111111111111111,
             "#46039f"
            ],
            [
             0.2222222222222222,
             "#7201a8"
            ],
            [
             0.3333333333333333,
             "#9c179e"
            ],
            [
             0.4444444444444444,
             "#bd3786"
            ],
            [
             0.5555555555555556,
             "#d8576b"
            ],
            [
             0.6666666666666666,
             "#ed7953"
            ],
            [
             0.7777777777777778,
             "#fb9f3a"
            ],
            [
             0.8888888888888888,
             "#fdca26"
            ],
            [
             1,
             "#f0f921"
            ]
           ]
          },
          "colorway": [
           "#636efa",
           "#EF553B",
           "#00cc96",
           "#ab63fa",
           "#FFA15A",
           "#19d3f3",
           "#FF6692",
           "#B6E880",
           "#FF97FF",
           "#FECB52"
          ],
          "font": {
           "color": "#2a3f5f"
          },
          "geo": {
           "bgcolor": "white",
           "lakecolor": "white",
           "landcolor": "white",
           "showlakes": true,
           "showland": true,
           "subunitcolor": "#C8D4E3"
          },
          "hoverlabel": {
           "align": "left"
          },
          "hovermode": "closest",
          "mapbox": {
           "style": "light"
          },
          "paper_bgcolor": "white",
          "plot_bgcolor": "white",
          "polar": {
           "angularaxis": {
            "gridcolor": "#EBF0F8",
            "linecolor": "#EBF0F8",
            "ticks": ""
           },
           "bgcolor": "white",
           "radialaxis": {
            "gridcolor": "#EBF0F8",
            "linecolor": "#EBF0F8",
            "ticks": ""
           }
          },
          "scene": {
           "xaxis": {
            "backgroundcolor": "white",
            "gridcolor": "#DFE8F3",
            "gridwidth": 2,
            "linecolor": "#EBF0F8",
            "showbackground": true,
            "ticks": "",
            "zerolinecolor": "#EBF0F8"
           },
           "yaxis": {
            "backgroundcolor": "white",
            "gridcolor": "#DFE8F3",
            "gridwidth": 2,
            "linecolor": "#EBF0F8",
            "showbackground": true,
            "ticks": "",
            "zerolinecolor": "#EBF0F8"
           },
           "zaxis": {
            "backgroundcolor": "white",
            "gridcolor": "#DFE8F3",
            "gridwidth": 2,
            "linecolor": "#EBF0F8",
            "showbackground": true,
            "ticks": "",
            "zerolinecolor": "#EBF0F8"
           }
          },
          "shapedefaults": {
           "line": {
            "color": "#2a3f5f"
           }
          },
          "ternary": {
           "aaxis": {
            "gridcolor": "#DFE8F3",
            "linecolor": "#A2B1C6",
            "ticks": ""
           },
           "baxis": {
            "gridcolor": "#DFE8F3",
            "linecolor": "#A2B1C6",
            "ticks": ""
           },
           "bgcolor": "white",
           "caxis": {
            "gridcolor": "#DFE8F3",
            "linecolor": "#A2B1C6",
            "ticks": ""
           }
          },
          "title": {
           "x": 0.05
          },
          "xaxis": {
           "automargin": true,
           "gridcolor": "#EBF0F8",
           "linecolor": "#EBF0F8",
           "ticks": "",
           "title": {
            "standoff": 15
           },
           "zerolinecolor": "#EBF0F8",
           "zerolinewidth": 2
          },
          "yaxis": {
           "automargin": true,
           "gridcolor": "#EBF0F8",
           "linecolor": "#EBF0F8",
           "ticks": "",
           "title": {
            "standoff": 15
           },
           "zerolinecolor": "#EBF0F8",
           "zerolinewidth": 2
          }
         }
        },
        "title": {
         "text": "Hubungan 3D antara Gaji, Tahun Bekerja, Jarak dari Rumah, dan Attrition"
        }
       }
      }
     },
     "metadata": {},
     "output_type": "display_data"
    },
    {
     "name": "stdout",
     "output_type": "stream",
     "text": [
      "Visualisasi telah disimpan sebagai './visualisasi/attrition_3d_income_years_distance.jpg'\n"
     ]
    }
   ],
   "source": [
    "# 5. Analisis multivariate: 3D Scatter Plot - Gaji, Tahun di Perusahaan, Jarak dari Rumah, dan Attrition\n",
    "fig = px.scatter_3d(\n",
    "    df,\n",
    "    x='MonthlyIncome',\n",
    "    y='YearsAtCompany',\n",
    "    z='DistanceFromHome',\n",
    "    color='Attrition',\n",
    "    opacity=0.7,\n",
    "    size='JobLevel',\n",
    "    hover_name='JobRole',\n",
    "    title='Hubungan 3D antara Gaji, Tahun Bekerja, Jarak dari Rumah, dan Attrition',\n",
    "    labels={\n",
    "        'MonthlyIncome': 'Gaji Bulanan',\n",
    "        'YearsAtCompany': 'Tahun di Perusahaan',\n",
    "        'DistanceFromHome': 'Jarak dari Rumah (km)',\n",
    "        'Attrition': 'Status Attrition',\n",
    "        'JobLevel': 'Level Pekerjaan'\n",
    "    },\n",
    "    color_discrete_sequence=['green', 'red']\n",
    ")\n",
    "fig.update_layout(\n",
    "    template='plotly_white',\n",
    "    scene=dict(\n",
    "        xaxis_title='Gaji Bulanan',\n",
    "        yaxis_title='Tahun di Perusahaan',\n",
    "        zaxis_title='Jarak dari Rumah (km)'\n",
    "    )\n",
    ")\n",
    "fig.show()\n",
    "\n",
    "# Simpan gambar\n",
    "fig.write_image(\"./visualisasi/attrition_3d_income_years_distance.jpg\", scale=2)\n",
    "print(\"Visualisasi telah disimpan sebagai './visualisasi/attrition_3d_income_years_distance.jpg'\")"
   ]
  },
  {
   "cell_type": "code",
   "execution_count": 91,
   "id": "d77b20d7",
   "metadata": {},
   "outputs": [
    {
     "data": {
      "application/vnd.plotly.v1+json": {
       "config": {
        "plotlyServerURL": "https://plot.ly"
       },
       "data": [
        {
         "dimensions": [
          {
           "label": "Age",
           "values": {
            "bdata": "JTMqKDckIBkUKh8mJzYxGCgpIBgnOyQeJhwfJCAcHzInIyAaHiYVIxofICAiIS8eOiUmKzQsOyotFRc2KS0tNyI5ISAVIhskKSESGxYhKh0jJTQfHSAjKyElGxwbJRslHzAkJSYgHCseISsqJRglJSg3IhIpLCozIB8fHiQcHiM7Jx0iJB4bKyYfHiwXFR8uNTEuHzoiIyAjExwgKyUmHjUqHhk1HSoiHCslLCIcKCIsGSI8ICQgKigZGCMwMjYeHyczLDIgLDU3JiIkOSQcIxslMi0bKR4gNyA2LCAhGyEvEyU4HSYqNh0aJR8tKx0eKDgZKiAgNxsmJRotGikTKCsjNDElKxc3NSI6Ih4gJCgkFSIiJy0fJh8aHiIjGx8nHR0sGjAmFzIlHzEiKSInICUeNyUjLiQYMiAiGiEmJSMgJichOyQlHDEiIxswKSQoHxQkIxgXHDwvKRgdJTceGh0ZJSQpJCYmMyUULRg0MRMYFiohJSckMiErHiQbKiQdJSg6KB4hHx47MRwkHBofKBsyIS4hJRoyOh8aHiE7LTocHi4fHxYWJCsjPCInJiEZMS0rIiIXJSMkFxkrKRk0JBo4IiYkGh0bHyskKBYaHzQcJSosHB8TJS0yMyogICAhLxQdIx0YIBwjIiQ0IywWKCEyMjkjHh80ISEiMzIuFh0WLh0mKSgfMjMfLTQ6Hh0sJB8VJBkuHSwaNyMdICkcIxwtKh0aOx80Jh4nIikaKikeHhMbJiQgJyEuLiknIiIdJSMuLx4dMiIfMCsiPDQZLh0pLR4hISorJycjGjMoIBwoLSwyLSMwKCoVJiMcNSMkJDsxJDU1Hx0aFB8hGSIhLSgWJiswEiMcMCgZHTcfJCY4OxsjIioiKRofEyAyJCwZIRsdMhkjITknFDozISYlJSEnFjQoIy82IB0cJCInOCwxKh4oLDQ2GSMdFiYhGR8dHTY2Hy8kKR0SICo6JScfLRocIx4iKyMjNhQhKTgbLCIiIhIhJCI3GR4cKjApHCMlKCkYHiQ1Ghs1NB0qHiMjMRogHjUfGy4uEhoZMCwfIR4lHRgzLSwoIjghNy4bLTcbHCodHS8gGCIlIBsqJjEiKCYbJi8mHhwbLig3GiMqKBMnMRQgJCsaGyoiNyohHiMqKCIyLRUlIS8eGzIdJC0yIS42LyEjJyY2JRQoMyIiKh4yHykpNCgxGyYzKB0oHh0jLSsvMy4sHS4dKB4qKSoZHykkJiMtLzg7HDIeHhUjKDguKC4jKCQrHyQkLRszNR8jGxsiGCYpLh4uGyApFSIkIhowNScfGy0gODMyHCEdKTQWHBsvLCEjLSMiGBogKyIlIB8ZHhwjIR4YLRkjMDUfOh8nMykdOjEzGCc0Iy0eGiIzJiwqJigiHRs2MCw1HCYcKBM=",
            "dtype": "i1"
           }
          },
          {
           "label": "DistanceFromHome",
           "values": {
            "bdata": "CwQaAQISAwQEFwwGAgUEFwYKCAENBg4HAQECAQEEBggBEAUVAhcWBwECAgoCBQIBCQEJCRwBAxUCEgQDBxQGAQIBBAEKBhQGDAYICQEOHAEBCQIHCgsLAwIKEQIKEAYEGAEBAQENChwBEQgaChgZAhoCDwoCAQgDAQcBBQIPFAISGQIXAwUFBw8UGxwJCgsJBgEIDAEXAQUWGQUEARkCCQYBAxMCCgwQCBAGARoJGggEAgYHBwcdChYFEhUCAQMCFAMIBQcBBAISCgkMGAQCGQMGAwIIAgICDgcBCgkICQEdCgIXDxkCEQIBEwcaDgMIAQYSAggYFAgDFQsBFwkJBAoDAxQFFQIIFwECAwEGBQIYDw4GAggdAwMGBgkGAgUIFxsDBgIDBhgDCAsTAQgCEAkWAQoBAQMEAgECBwEKCxACAgoJAwELCBIBBAgECQMJCAoJAREBEBAQChgHChIBHAgDDggFAwEBGgYGAREGBxYLBggDAQEHCgcJHAkCAg8HAwICDgUQAQkDHBoKGAMUHBABDxIZBx0BBwEBBAcBFAUVCgUBCBMQBQoZHAIGCgoEBRgMDwoKCggDGhoHAgoEAwIJCgkGARcRAQ8IAQIDBwUJBB0RCgsCAgIJAQcGCQEKBAsZCxcDBAEWCAkBAgoDAgkDAgESEQYCARYdCQQECAEFAhEdDgkCDAUHCRMXAwIHCwkBCwEHCRgBAgQOAxQCBAEHHQIEGRoDEQICAxMYAgEQCRUEAwgJBAMSCgYDEwcKFQgBGwUcHAkWBggVBwgHAgEECgcZAgkEAQEIEA4CCAkCBwMcFxIEGAIDAhcCAhIDCAIIBgcIARUCAgIDAQkBHRoLHQYdBQUCAQQDBwIJBgIIAQUDChEGAREPAggBEgUIDQ4IAQEIBR0FCQECAQIBEwISBAsUEgIaGQEBAgsHDgIIEx0IGBkBBAIbDwoBGAcDFBQTCQEbBQ0FAgQKBRYHBBkFAQMCGQkRCBUBCQgCHRQDBAEFEAECExYRBQEMBQoBAgcKAQIHAgIHBxQBBxAXEggCFwMXAQkCAwUJBwgIBRkBDwcVBw8CAQECCAMBGQELAg4BDw4NAQIBGggCBwEBBQIDAgUdEgYGARgCFwQCCgMCBwEHChoBAgUDDQMHGAEECQIdHQwBCgIMAQIBEAcIAQITAggJCRcCCgMQCQcBGAcLARYKAQIKCgICAgYKAhMBCxsCCwcBAQEBAhoBAgINDQYCDAEJAwQCAQECCQkOCgkPEwUBCQgGBQ0BAgMGAhQbCwECAwcKAgwBBwIGAQESAhkCDRUIAgkHBwcCAx0KBwgDEwMEFw4CBhkFBAQCAhMDBAIFBAEZBQUJBBwBFAUHFwICCAEKAggBERcCBgIIHRsGBwkdARkBEgQCARQBGAEMEAE=",
            "dtype": "i1"
           }
          },
          {
           "label": "MonthlyIncome",
           "values": {
            "bdata": "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",
            "dtype": "i2"
           }
          },
          {
           "label": "YearsAtCompany",
           "values": {
            "bdata": "AQoUBAUIBwUBAQkNFAQBBhQODQITAhAKBwMCAQkFBwISBQoBCwkDCAYCCAoHCgUCAQ4CBAUEAQUIAQMGCgcTAQoMAwMCAgcHFg0ABwIFBgoJCSAIAQQECAMBCAUJAQQJCgEJDggFCAMLCgEBBQINAxQJCgAWAQkHAwUEAwIEBgIJBgoDCAMJAQsCCAwEAQYHAgQQBAkJAwYFAQUOBQYBCwcUAQEJAhUFBREFAgUHBwMFBAQdBAYIFAYGBQoCBQoBAgEEBRsKGRkKBQIOBQoAAwYDAxQEEgsBGAoFBgYCAgMKAQETCQoBCgUHCgcBBAoIFgcDBAkKCgMCBQUYAgkBDAkBIg8GAwAFDA0BBgsFDQAJAAgQBQoFAQIDCQkDAQUICgoDBQkDAAwFAwkLBgUTCgQFJAELCgEFCAMGBwUCAwgGDxUOBhIKBR8GCAkPBQsDCwEBCgQBCAITFQQEAQgKBQcCEgUBBQ8AFAcBBQEKBQAEAhgIBxUPBA0ICgUDFgEGChUfFAoDBQgBBAUHBAYJAQIIBwICBQAHCgQFAQQGFAYFCgkDAQIBAQgKEgMCCAQFAwYZDgECBQMQBAYFBwQFDQgFBQIPBQsFAQIKBAIICwgFBgEAAQYBAAEBDQELCAEJCQECBQMCBAkHAAMhBgQDBAUgAgMECQchBQcIBAoLBAsEGgoKCQgKAiEKEQQoBQAWBgICCQQBAwEICQEICAQCCQQDCQQIFQUFEwUSAAEBAhYCDAEBEAcFDwoKAxIIBQwHCAEEBQUHFAYKAgUKCwUCAgMIAgMKBQwVFQMNAwcMCgIUGAIDCQkKCQMDAQIDEQIIEQUJAQUCCgoDAgYEAwgPAwECAQEAABACAxQFBwMNAwcCBAQKAQMBCgcCAQUSCxYDAwkKAwIFAQEBAgUEBgEFAQkIAgULBQMFAQoDCwoVBQoaAgQJBQkUBwEIAAEJAQ0GAwQFAwYHBAUABxYlBhUHBQgCBQUDAQEHAQIKEgcFFAEDAwACEQQFAwkKAQEBBAMRARUFDAoHBAIFCAMFAwsBBwQHCgUJAgkDAAgDAgMDBQIGBgYKAwoICgMBIQwFAAcBCAUGBQcCBQ4GAwgJBwcPEgEACAMHBQMFBwETAwIKBQEBCAENChkCBAINEwUDAQgGAQYbBgEDBxoBCR8BAwEEBgYJBwURBQIJAQIBHQkFCgEFAQYHCQkDBgMEAwoBBQMKCQgUBQgUBxgDBQYECBQHAwUQBAIPFgUDBwAACgMEBwoEBwQPEggUAgUHCAEUDwEGBQULAwQTBwUCBwgBAwQBBAEBBAUNBgUFBgEECQ0AAggABgQAAwgHABALBQgDBQIEDgIGCwENAwoBCQIGAA4HAgEICgkHAQoBAQUCERgIAgMHCAgFCQUFBAUEBQUOCgEBBAA=",
            "dtype": "i1"
           }
          },
          {
           "label": "WorkLifeBalance",
           "values": {
            "bdata": "AQQEAgMDAwQDAwEDAwIEAwMDAwIDAgICBAQBAwMEAgMCAwMCAwMDBAEBAwIDAwMDAgEDAgICAwMEAgQDAwMDAwICAwMBAgMDAwEDAgEBBAMDAwMCAwMDAwQDAwECAwMDAwQDAgQCBAMDAwQDAwMDAgMCBAMDAgMDAQIDAwMCAgMCAwIDAwMDAgMDAgMEAgMEAwMDAwMDAgIDAwMCAgMDAQEDAwMCAwIDAwMEBAMDAgMCAgMBAgMDAwMDAwEDAgMDAwIDAwIDAgMDAwMCAQIBAwMDAwMDAwIDAwMBAwICAQMCBAQDAwMDAwMDAwIDAwMEAgICBAMDAwMDAwMDAgMDAgQDBAIBAwMDAwMDAgMDBAMDAwMDAwMEAwMDAwIDAwMDAwIEAgMDAwMDAwQEAQMDAwIDAwMDAgMCAgMDAwMCAwMDAwMDAwIDAwMDAwMDAwIBAwMCBAMDAwMEAgMDAwMCBAIDAgMBAwMCAgMDAwEDAwICAwIDBAMCAwQDAwMDAwIDAwMDBAMDAwMCAwMDAwMCAwMCBAIDBAMCAgMDAwMBAwMBAwMEBAMCBAMCBAMBAwMDAgMDAgMDAgIDAgIEAgMBAwMDBAMDAwECAwMDAwMDAgICAwMDAwICAwMDAgMDBAMDAwMEAwMDAwMCAwMDAwQEAgMDAwMCAwQEAwQDAwIDAgMCAwIDAwQCAwMDAQMCAwMDAwMEAwMEAwEDBAMDBAICAwIDAgICAgIDAgMDAwIBAwMCAwQDAgMEBAMCAwMBAgMDAgMDAwIDAwICAwMDAwEDAgMDAgMCAwMEAwMCAwIDBAMDAwQDAwIDAwMEAQMCBAMCAwMDAwMDAwMDAgQEAgQDBAEDAwIBAwMDAQMDAwMEAwMDAgIDAwMDAwICBAIDAwMDAwICAgIBAwIEAwMDAwMDAwQDAwMDAwIDAQMCAwQDAwMCAwMDAwMCBAQCAwMDAwECAwIDAwICAgEDAgMCAgMDBAMCAwECAwMDAwMCBAMDAwIBAwQCAwMDAgMDBAMDAwIDAwMEAwMDAwMDAwMDAwIDAwICAgIDAwMBAwMDAwIEBAQCAwMBAgMDAgQDAwMDAwQDAwMCAgMDAwQEAwMDAwMCAwMCAwMBAgMCBAIDAQQDBAMEAwQCAgQDAwMDAgIDAwMEAwMDAgMCAgIEAwMDAgMDAwIEAwMDAgMDAgIDAgMCAgIDAwICAgMDAwMDBAMCAwQDBAMEAgMDAgMDAwIDAwIDAQMDAgMDAgMDAwMCAwIBAwIDBAMDAgMBAgMDAwIDAwMCBAMDAgMDAgMDAQMDAwMDAwICAwQDAwMBAgMDAgMDAwIDAwMDBAMEBAIDAwMCAgMCAwMDAgMDAwMDAgMDAgIEAwQDAQMCAgMCAwMCAwMCAwMCAwMDAgMDAgMBAgIEAgQCAwQ=",
            "dtype": "i1"
           }
          },
          {
           "label": "JobSatisfaction",
           "values": {
            "bdata": "AgMCBAEEBAEBBAQEAwEDBAMEAgQCAwQDAwMEBAQDAwIEAgIDBAMDAwIEAgQDAgQDAgMEAwMBBAMCBAEBAwEEBAMDAgQDAwMDAwQDAgQEBAQEAgQEAwMBBAQEAwIBAwMEAQQCBAQEAwMCAwIBAQQDAwIEAQMCAwICAwQBAgMDAQQEAwQBAgEEAQQEBAQBAQQEBAEBBAEDAQIDBAEEBAQDBAMDAwICAgEEBAQEAwMEAQECAQEBBAQDAQMDAwQCBAQCAwMEAwMCAQQCBAMEBAQDBAQBAwQEAQQBAgMDAwQEAgECAgQCAwIEAwIBAgQBAQMDAgEDAQQEBAMDBAEEBAMBBAMDAQEDBAEDBAEDBAMDAgICBAMDBAQCBAMEBAQDAQQDAwQBAgQDAQMEAgQCBAMDAQQDAQQDAQQEAwIBAQEDAwMBAQEEBAQEBAMEAQMDAQIEBAMDAwMDAQEDBAIEAwIEAgEBAQEBAgEBAwEEBAIBAwMDAwQDAwMBBAMDBAEEAQMEAwMCAwQBAwMBAQEDAwEDAQICAwMCAwMEAQEDBAEEBAIEAwQCAgQEAQQCAQEBAwQEAwICAQMDAQQEBAQEBAQEBAQDAwIEAQECAwQBAgQEBAIEAwQDAgEEAwMEAQIDBAEDBAECBAQDAgQCAQIDAgQDBAECAQMDAQQDBAIDBAICAQQCAQEEAwMDBAIDAgQEAQIEAgICBAMDBAMDAQQEAQIDAwMDAgMEAQMDAwQEBAEEBAMDAQIDAwQBAwEDBAECBAICAQQBAwQEAwMDAwMEBAEEAQQCBAEDAwQEBAMEAgQDBAMDAQQBAQEEBAMDAwEEAwQCAwQCBAMEAgEBAwQCBAIEBAQCAQQDBAIEAQMBAwICAgEBAwIEAgECAQMDBAMDBAICBAEEAwIDAwQEBAMCAwIEAgEDAwMEAwQEBAMBAwIEAgQCAwECAwQEBAEDBAMBBAEDBAMBAQQDAwICBAQDBAEEAQMDAwQDBAIBAwQEAwIDBAMEAwQEAQQEBAEBAwMEBAQEAwMDBAMDBAIEAgQBAgIDBAEEAwMEAQQDAwMBAQQCBAMCBAMEAwQCBAEEAgMCAgQEAgMDBAECAgQEBAIBBAMEAQQEBAMEAwMDAQIDBAQEAgIBAgIDBAQEAQMBAwQCAwMBAgQDBAIBBAQBAQEBAQEDAgQCBAMDAgQDAgMDAgMCAQMCAgQBBAQBBAQCAwQCBAQCBAEDAgMBBAEDAgEEAwMDAQICAQMDAwEEAgMEAwQCAwQCBAIBAwEDAgIBAwMDAgMBAQIBAwMCAgMEAQMEAgEEAwMCAQQEBAECBAMDAgMBAwIEAQQDAgICAQMBAwQCAwQCAwEBAgICBAMCAgMDAwMDAwQDAgECBAIEAgEEBAIBAQIDAQEDBAICBAMDBAIBAQMEAwE=",
            "dtype": "i1"
           }
          },
          {
           "label": "JobLevel",
           "values": {
            "bdata": "AgEEAgUBAwIBBAICAgUFAQQCAgEEAQICAQEBAgICAgEDAQIBAgMBAwIBAQIBAwIBAQMBAgQCAQICAQECAQMDAwICAQEBAQIBBQIBAQIBAgECAwUCAQIDBQECAQEDAgEBAgUCAgICAgEBBAIDAQECAgICAgEEAgIEAQMCAQEBAgEDAwIDAgEDAwMBAgQBAQEDAgECAQUCAQEBAQIDAgICAgICAQEEAQQBAQQCAgECAgICAQEFAgEBBAICAQICBAQBAgIDAQUCBQQEAgEDAwIBAgIBAQQCBAEBBQIDAQIBAQEDAQIEAgMCAwECAwICBAMDBAQCAgMCAgEBAQIFAgMBAwIBBAIBAQEEBAIBAgMBAgICAQECAgIBAgMBAgMBAQEBAQMBAQICAQQDAQMCAgIDAQEBBQECAwEBBQEBAQIBAQMCAgQBAgIDAQUBAwMDAQECAgEBAwIBAgICBQEBAwICAgEBAQEBAgMBBAIBAQECAwECAQUBAgUCAwMCAgECBAICAwUFBQMCAgIBAgIDAQECAwEFAwMBAwIFAwEBAQIDBAMBAgIBAQEBAQEBAwIBAwECAgEEBAEBAQEDAQIBAQIEAwIBAQEBAQMBAQIDAQEBAwMBAQIBAQIBAQEBAwICAgEDAgEBAgECAQIDAgIFAgICAQIFBAICAwIFAgICAQUFAQMBBAMCAQIDAwQDAgEDAQIDAgEBAwICAQECBAEDAgEBAgECAgIBAwEDAwEEAQIBAQUCAgEBAwIBAgECAwECAgMCAQEDAgEBAQICAgICAgEBBQECAQICAQEDBAEDAQICAgEFAwUEAgMDAgEBAQEBBAMBAwQEAQQEAwMBAQIBAQMDAwIBAgQDAQMBBAUCAQMDAgIBAgEDAQICAwEBAQICAgUCAQECAQEBAQQCAQICBAMDAQECAQIDAgEEAQIBAQIFAQEDAQIDAQQEAQICAQICAQICAQICAQECAQIBAgUEAgMCAgEBAgECAwICAgEBBQUCAgEBAgEBAQEEAQMCBQMBAgEBAgUCAgMFAQEDAwIBAQMCAgIBAQQCAgMEAQEBAgEEAgICAQECAQMCAQEBBAQCBQQBAgIBAQIBAQIDAgIBAgQCAwEBAgUCAQEBAQQFAQECAgEBAwECAwQBAQECBAICAQECAQIEAQEBAgQBAwQBAgMCAgIDAgIDAgIDAgECBQIBAwEFAQIEBAIFAgEDAQEDAgIDBAMEBAMDBAMBAgICAgQBAgICAgECBAUFAQICAQEBAQQFAgICAwMCAQEDAgEFAwMBAQECAgECBAIFAgIDAQEBAQEBAgIDAgMBAwIEAwIBAgIBAQECAgEDAwMDAgICAQECAgICAgEDAwIBAgIBAQUBAQEDAwIBAQIBAQEBAgUDAgEBAgECAgMCAQEDBAECAwMBAQE=",
            "dtype": "i1"
           }
          }
         ],
         "domain": {
          "x": [
           0,
           1
          ],
          "y": [
           0,
           1
          ]
         },
         "line": {
          "color": {
           "bdata": "AAAAAAAA8D8AAAAAAADwPwAAAAAAAAAAAAAAAAAAAAAAAAAAAADwPwAAAAAAAAAAAAAAAAAAAAAAAAAAAAAAAAAAAAAAAPA/AAAAAAAAAAAAAAAAAAAAAAAAAAAAAAAAAAAAAAAAAAAAAAAAAAAAAAAAAAAAAAAAAAAAAAAAAAAAAAAAAAAAAAAAAAAAAAAAAAAAAAAAAAAAAAAAAADwPwAAAAAAAAAAAAAAAAAAAAAAAAAAAAAAAAAAAAAAAAAAAAAAAAAAAAAAAAAAAADwPwAAAAAAAAAAAAAAAAAAAAAAAAAAAAAAAAAAAAAAAAAAAAAAAAAA8D8AAAAAAAAAAAAAAAAAAAAAAAAAAAAAAAAAAAAAAAAAAAAAAAAAAPA/AAAAAAAAAAAAAAAAAAAAAAAAAAAAAAAAAAAAAAAAAAAAAAAAAAAAAAAAAAAAAPA/AAAAAAAAAAAAAAAAAAAAAAAAAAAAAAAAAAAAAAAAAAAAAAAAAAAAAAAAAAAAAAAAAAAAAAAAAAAAAAAAAADwPwAAAAAAAAAAAAAAAAAA8D8AAAAAAAAAAAAAAAAAAAAAAAAAAAAAAAAAAAAAAAAAAAAAAAAAAAAAAAAAAAAA8D8AAAAAAAAAAAAAAAAAAAAAAAAAAAAAAAAAAAAAAAAAAAAAAAAAAAAAAAAAAAAAAAAAAAAAAAAAAAAAAAAAAAAAAAAAAAAAAAAAAAAAAAAAAAAAAAAAAPA/AAAAAAAA8D8AAAAAAAAAAAAAAAAAAAAAAAAAAAAA8D8AAAAAAAAAAAAAAAAAAPA/AAAAAAAAAAAAAAAAAAAAAAAAAAAAAPA/AAAAAAAAAAAAAAAAAAAAAAAAAAAAAAAAAAAAAAAAAAAAAAAAAADwPwAAAAAAAAAAAAAAAAAAAAAAAAAAAADwPwAAAAAAAAAAAAAAAAAAAAAAAAAAAAAAAAAAAAAAAAAAAAAAAAAA8D8AAAAAAAAAAAAAAAAAAAAAAAAAAAAAAAAAAAAAAAAAAAAAAAAAAAAAAAAAAAAAAAAAAAAAAAAAAAAAAAAAAAAAAAAAAAAAAAAAAAAAAAAAAAAAAAAAAAAAAAAAAAAAAAAAAAAAAAAAAAAAAAAAAAAAAAAAAAAAAAAAAAAAAAAAAAAAAAAAAAAAAAAAAAAAAAAAAAAAAAAAAAAAAAAAAAAAAAAAAAAAAAAAAAAAAAAAAAAAAAAAAPA/AAAAAAAAAAAAAAAAAAAAAAAAAAAAAAAAAAAAAAAAAAAAAAAAAAAAAAAAAAAAAAAAAAAAAAAA8D8AAAAAAAAAAAAAAAAAAAAAAAAAAAAA8D8AAAAAAAAAAAAAAAAAAAAAAAAAAAAAAAAAAAAAAAAAAAAAAAAAAAAAAAAAAAAAAAAAAAAAAAAAAAAAAAAAAPA/AAAAAAAAAAAAAAAAAAAAAAAAAAAAAAAAAAAAAAAAAAAAAAAAAAAAAAAAAAAAAAAAAAAAAAAAAAAAAAAAAAAAAAAAAAAAAAAAAAAAAAAA8D8AAAAAAAAAAAAAAAAAAPA/AAAAAAAAAAAAAAAAAAAAAAAAAAAAAAAAAAAAAAAAAAAAAAAAAAAAAAAAAAAAAAAAAAAAAAAAAAAAAAAAAAAAAAAAAAAAAAAAAAAAAAAAAAAAAAAAAAAAAAAAAAAAAPA/AAAAAAAAAAAAAAAAAAAAAAAAAAAAAAAAAAAAAAAAAAAAAAAAAAAAAAAAAAAAAAAAAAAAAAAAAAAAAAAAAADwPwAAAAAAAAAAAAAAAAAAAAAAAAAAAADwPwAAAAAAAAAAAAAAAAAAAAAAAAAAAAAAAAAAAAAAAAAAAAAAAAAAAAAAAAAAAAAAAAAAAAAAAAAAAAAAAAAAAAAAAAAAAAAAAAAAAAAAAAAAAAAAAAAAAAAAAAAAAADwPwAAAAAAAAAAAAAAAAAAAAAAAAAAAAAAAAAAAAAAAAAAAAAAAAAAAAAAAAAAAADwPwAAAAAAAPA/AAAAAAAAAAAAAAAAAAAAAAAAAAAAAAAAAAAAAAAAAAAAAAAAAAAAAAAAAAAAAAAAAAAAAAAA8D8AAAAAAADwPwAAAAAAAPA/AAAAAAAAAAAAAAAAAAAAAAAAAAAAAAAAAAAAAAAAAAAAAAAAAAAAAAAAAAAAAAAAAAAAAAAAAAAAAAAAAADwPwAAAAAAAAAAAAAAAAAAAAAAAAAAAAAAAAAAAAAAAPA/AAAAAAAAAAAAAAAAAAAAAAAAAAAAAPA/AAAAAAAA8D8AAAAAAAAAAAAAAAAAAAAAAAAAAAAAAAAAAAAAAAAAAAAAAAAAAAAAAAAAAAAAAAAAAAAAAADwPwAAAAAAAAAAAAAAAAAA8D8AAAAAAAAAAAAAAAAAAAAAAAAAAAAAAAAAAAAAAAAAAAAAAAAAAPA/AAAAAAAA8D8AAAAAAAAAAAAAAAAAAAAAAAAAAAAAAAAAAAAAAAAAAAAAAAAAAAAAAAAAAAAAAAAAAAAAAAAAAAAAAAAAAAAAAAAAAAAAAAAAAAAAAAAAAAAAAAAAAPA/AAAAAAAAAAAAAAAAAAAAAAAAAAAAAAAAAAAAAAAAAAAAAAAAAAAAAAAAAAAAAAAAAAAAAAAAAAAAAAAAAAAAAAAAAAAAAAAAAAAAAAAAAAAAAAAAAAAAAAAAAAAAAAAAAAAAAAAAAAAAAAAAAAAAAAAAAAAAAAAAAAAAAAAAAAAAAAAAAAAAAAAAAAAAAAAAAAAAAAAAAAAAAAAAAAAAAAAAAAAAAAAAAAAAAAAAAAAAAAAAAAAAAAAAAAAAAAAAAAAAAAAAAAAAAAAAAAAAAAAAAAAAAAAAAAAAAAAAAAAAAAAAAAAAAAAAAAAAAPA/AAAAAAAAAAAAAAAAAAAAAAAAAAAAAAAAAAAAAAAAAAAAAAAAAAAAAAAAAAAAAAAAAAAAAAAAAAAAAAAAAAAAAAAAAAAAAAAAAAAAAAAAAAAAAAAAAAAAAAAAAAAAAPA/AAAAAAAAAAAAAAAAAAAAAAAAAAAAAAAAAAAAAAAAAAAAAAAAAAAAAAAAAAAAAAAAAAAAAAAAAAAAAAAAAAAAAAAAAAAAAAAAAAAAAAAAAAAAAAAAAADwPwAAAAAAAPA/AAAAAAAAAAAAAAAAAAAAAAAAAAAAAAAAAAAAAAAA8D8AAAAAAAAAAAAAAAAAAAAAAAAAAAAAAAAAAAAAAADwPwAAAAAAAAAAAAAAAAAA8D8AAAAAAAAAAAAAAAAAAAAAAAAAAAAA8D8AAAAAAAAAAAAAAAAAAPA/AAAAAAAAAAAAAAAAAAAAAAAAAAAAAAAAAAAAAAAAAAAAAAAAAAAAAAAAAAAAAAAAAAAAAAAAAAAAAAAAAAAAAAAAAAAAAAAAAAAAAAAAAAAAAAAAAAAAAAAAAAAAAAAAAAAAAAAAAAAAAAAAAAAAAAAAAAAAAAAAAAAAAAAAAAAAAAAAAAAAAAAAAAAAAAAAAAAAAAAAAAAAAAAAAAAAAAAAAAAAAAAAAAAAAAAAAAAAAAAAAAAAAAAAAAAAAAAAAAAAAAAA8D8AAAAAAAAAAAAAAAAAAAAAAAAAAAAAAAAAAAAAAAAAAAAAAAAAAAAAAAAAAAAAAAAAAAAAAADwPwAAAAAAAPA/AAAAAAAAAAAAAAAAAAAAAAAAAAAAAAAAAAAAAAAAAAAAAAAAAAAAAAAAAAAAAAAAAAAAAAAAAAAAAAAAAAAAAAAAAAAAAAAAAAAAAAAA8D8AAAAAAAAAAAAAAAAAAAAAAAAAAAAAAAAAAAAAAADwPwAAAAAAAPA/AAAAAAAAAAAAAAAAAAAAAAAAAAAAAPA/AAAAAAAAAAAAAAAAAAAAAAAAAAAAAAAAAAAAAAAAAAAAAAAAAAAAAAAAAAAAAPA/AAAAAAAAAAAAAAAAAADwPwAAAAAAAAAAAAAAAAAAAAAAAAAAAADwPwAAAAAAAAAAAAAAAAAAAAAAAAAAAAAAAAAAAAAAAAAAAAAAAAAAAAAAAAAAAAAAAAAAAAAAAAAAAAAAAAAAAAAAAAAAAAAAAAAAAAAAAAAAAAAAAAAAAAAAAAAAAADwPwAAAAAAAAAAAAAAAAAAAAAAAAAAAADwPwAAAAAAAAAAAAAAAAAAAAAAAAAAAAAAAAAAAAAAAPA/AAAAAAAAAAAAAAAAAAAAAAAAAAAAAPA/AAAAAAAAAAAAAAAAAAAAAAAAAAAAAAAAAAAAAAAA8D8AAAAAAAAAAAAAAAAAAAAAAAAAAAAA8D8AAAAAAADwPwAAAAAAAAAAAAAAAAAAAAAAAAAAAAAAAAAAAAAAAAAAAAAAAAAA8D8AAAAAAAAAAAAAAAAAAPA/AAAAAAAAAAAAAAAAAAAAAAAAAAAAAAAAAAAAAAAA8D8AAAAAAAAAAAAAAAAAAAAAAAAAAAAA8D8AAAAAAAAAAAAAAAAAAAAAAAAAAAAAAAAAAAAAAAAAAAAAAAAAAAAAAAAAAAAAAAAAAAAAAAAAAAAAAAAAAPA/AAAAAAAA8D8AAAAAAAAAAAAAAAAAAAAAAAAAAAAAAAAAAAAAAAAAAAAAAAAAAPA/AAAAAAAAAAAAAAAAAAAAAAAAAAAAAPA/AAAAAAAAAAAAAAAAAADwPwAAAAAAAAAAAAAAAAAAAAAAAAAAAAAAAAAAAAAAAAAAAAAAAAAAAAAAAAAAAAAAAAAAAAAAAAAAAAAAAAAAAAAAAAAAAAAAAAAAAAAAAPA/AAAAAAAAAAAAAAAAAAAAAAAAAAAAAAAAAAAAAAAA8D8AAAAAAAAAAAAAAAAAAAAAAAAAAAAAAAAAAAAAAAAAAAAAAAAAAAAAAAAAAAAAAAAAAAAAAAAAAAAAAAAAAAAAAAAAAAAAAAAAAAAAAADwPwAAAAAAAAAAAAAAAAAA8D8AAAAAAAAAAAAAAAAAAAAAAAAAAAAAAAAAAAAAAAAAAAAAAAAAAAAAAAAAAAAAAAAAAAAAAADwPwAAAAAAAAAAAAAAAAAAAAAAAAAAAAAAAAAAAAAAAAAAAAAAAAAAAAAAAAAAAAAAAAAAAAAAAPA/AAAAAAAA8D8AAAAAAAAAAAAAAAAAAAAAAAAAAAAAAAAAAAAAAAAAAAAAAAAAAAAAAAAAAAAAAAAAAAAAAAAAAAAAAAAAAAAAAAAAAAAAAAAAAAAAAADwPwAAAAAAAPA/AAAAAAAAAAAAAAAAAAAAAAAAAAAAAPA/AAAAAAAAAAAAAAAAAAAAAAAAAAAAAAAAAAAAAAAAAAAAAAAAAAAAAAAAAAAAAAAAAAAAAAAAAAAAAAAAAAAAAAAAAAAAAPA/AAAAAAAAAAAAAAAAAADwPwAAAAAAAAAAAAAAAAAAAAAAAAAAAAAAAAAAAAAAAPA/AAAAAAAAAAAAAAAAAAAAAAAAAAAAAAAAAAAAAAAAAAAAAAAAAAAAAAAAAAAAAAAAAAAAAAAAAAAAAAAAAAAAAAAAAAAAAAAAAAAAAAAAAAAAAAAAAAAAAAAAAAAAAAAAAAAAAAAAAAAAAAAAAAAAAAAAAAAAAAAAAAAAAAAAAAAAAAAAAAAAAAAAAAAAAAAAAAAAAAAAAAAAAAAAAAAAAAAAAAAAAAAAAAAAAAAAAAAAAAAAAAAAAAAAAAAAAPA/AAAAAAAA8D8AAAAAAAAAAAAAAAAAAAAAAAAAAAAAAAAAAAAAAAAAAAAAAAAAAAAAAAAAAAAAAAAAAAAAAAAAAAAAAAAAAAAAAAAAAAAAAAAAAAAAAADwPwAAAAAAAAAAAAAAAAAAAAAAAAAAAAAAAAAAAAAAAPA/AAAAAAAAAAAAAAAAAADwPwAAAAAAAPA/AAAAAAAAAAAAAAAAAAAAAAAAAAAAAAAAAAAAAAAAAAAAAAAAAAAAAAAAAAAAAAAAAAAAAAAAAAAAAAAAAAAAAAAAAAAAAAAAAAAAAAAAAAAAAAAAAAAAAAAAAAAAAPA/AAAAAAAAAAAAAAAAAAAAAAAAAAAAAPA/AAAAAAAAAAAAAAAAAAAAAAAAAAAAAAAAAAAAAAAAAAAAAAAAAADwPwAAAAAAAAAAAAAAAAAAAAAAAAAAAAAAAAAAAAAAAPA/AAAAAAAAAAAAAAAAAADwPwAAAAAAAAAAAAAAAAAAAAAAAAAAAAAAAAAAAAAAAAAAAAAAAAAA8D8AAAAAAAAAAAAAAAAAAAAAAAAAAAAAAAAAAAAAAAAAAAAAAAAAAAAAAAAAAAAA8D8AAAAAAAAAAAAAAAAAAAAAAAAAAAAAAAAAAAAAAAAAAAAAAAAAAPA/AAAAAAAAAAAAAAAAAAAAAAAAAAAAAAAAAAAAAAAAAAAAAAAAAAAAAAAAAAAAAAAAAAAAAAAAAAAAAAAAAAAAAAAAAAAAAPA/AAAAAAAAAAAAAAAAAAAAAAAAAAAAAAAAAAAAAAAAAAAAAAAAAAAAAAAAAAAAAAAAAAAAAAAAAAAAAAAAAAAAAAAAAAAAAAAAAAAAAAAA8D8AAAAAAAAAAAAAAAAAAAAAAAAAAAAAAAAAAAAAAAAAAAAAAAAAAAAAAAAAAAAAAAAAAAAAAAAAAAAAAAAAAAAAAAAAAAAAAAAAAAAAAAAAAAAAAAAAAAAAAAAAAAAAAAAAAAAAAAAAAAAAAAAAAAAAAAAAAAAAAAAAAAAAAAAAAAAAAAAAAPA/AAAAAAAAAAAAAAAAAAAAAAAAAAAAAAAAAAAAAAAAAAAAAAAAAAAAAAAAAAAAAAAAAAAAAAAAAAAAAAAAAAAAAAAAAAAAAAAAAAAAAAAA8D8AAAAAAAAAAAAAAAAAAPA/AAAAAAAA8D8AAAAAAAAAAAAAAAAAAAAAAAAAAAAAAAAAAAAAAAAAAAAAAAAAAAAAAAAAAAAAAAAAAAAAAAAAAAAAAAAAAAAAAAAAAAAA8D8AAAAAAAAAAAAAAAAAAAAAAAAAAAAAAAAAAAAAAAAAAAAAAAAAAAAAAAAAAAAAAAAAAAAAAAAAAAAAAAAAAAAAAAAAAAAA8D8AAAAAAAAAAAAAAAAAAAAAAAAAAAAAAAAAAAAAAAAAAAAAAAAAAAAAAAAAAAAAAAAAAAAAAAAAAAAAAAAAAAAAAAAAAAAAAAAAAAAAAAAAAAAAAAAAAAAAAAAAAAAAAAAAAAAAAADwPwAAAAAAAPA/AAAAAAAA8D8AAAAAAAAAAAAAAAAAAAAAAAAAAAAAAAAAAAAAAAAAAAAAAAAAAAAAAAAAAAAAAAAAAAAAAAAAAAAAAAAAAAAAAAAAAAAAAAAAAAAAAAAAAAAAAAAAAAAAAAAAAAAA8D8AAAAAAAAAAAAAAAAAAPA/AAAAAAAA8D8AAAAAAAAAAAAAAAAAAAAAAAAAAAAAAAAAAAAAAAAAAAAAAAAAAAAAAAAAAAAAAAAAAAAAAADwPwAAAAAAAAAAAAAAAAAA8D8AAAAAAAAAAAAAAAAAAAAAAAAAAAAAAAAAAAAAAAAAAAAAAAAAAAAAAAAAAAAA8D8AAAAAAAAAAAAAAAAAAAAAAAAAAAAAAAAAAAAAAAAAAAAAAAAAAAAAAAAAAAAA8D8AAAAAAAAAAAAAAAAAAAAAAAAAAAAA8D8AAAAAAAAAAAAAAAAAAAAAAAAAAAAAAAAAAAAAAAAAAAAAAAAAAAAAAAAAAAAA8D8AAAAAAAAAAAAAAAAAAAAAAAAAAAAAAAAAAAAAAAAAAAAAAAAAAAAAAAAAAAAA8D8AAAAAAAAAAAAAAAAAAAAAAAAAAAAAAAAAAAAAAAAAAAAAAAAAAAAAAAAAAAAA8D8AAAAAAAAAAAAAAAAAAAAAAAAAAAAAAAAAAAAAAADwPwAAAAAAAPA/AAAAAAAAAAAAAAAAAAAAAAAAAAAAAAAAAAAAAAAAAAAAAAAAAAAAAAAAAAAAAAAAAAAAAAAAAAAAAAAAAAAAAAAAAAAAAPA/AAAAAAAAAAAAAAAAAAAAAAAAAAAAAAAAAAAAAAAAAAAAAAAAAAAAAAAAAAAAAAAAAAAAAAAAAAAAAAAAAAAAAAAAAAAAAPA/AAAAAAAAAAAAAAAAAAAAAAAAAAAAAAAAAAAAAAAAAAAAAAAAAAAAAAAAAAAAAAAAAAAAAAAAAAAAAAAAAAAAAAAAAAAAAAAAAAAAAAAA8D8AAAAAAAAAAAAAAAAAAAAAAAAAAAAAAAAAAAAAAAAAAAAAAAAAAAAAAAAAAAAAAAAAAAAAAADwPwAAAAAAAAAAAAAAAAAAAAAAAAAAAAAAAAAAAAAAAAAAAAAAAAAAAAAAAAAAAAAAAAAAAAAAAAAAAAAAAAAAAAAAAAAAAAAAAAAAAAAAAAAAAAAAAAAAAAAAAAAAAAAAAAAAAAAAAAAAAAAAAAAAAAAAAAAAAAAAAAAAAAAAAAAAAAAAAAAAAAAAAAAAAAAAAAAAAAAAAPA/AAAAAAAAAAAAAAAAAADwPwAAAAAAAAAAAAAAAAAAAAAAAAAAAAAAAAAAAAAAAAAAAAAAAAAAAAAAAAAAAADwPwAAAAAAAAAAAAAAAAAA8D8AAAAAAADwPwAAAAAAAPA/AAAAAAAAAAAAAAAAAAAAAAAAAAAAAAAAAAAAAAAAAAAAAAAAAAAAAAAAAAAAAAAAAAAAAAAAAAAAAAAAAADwPwAAAAAAAAAAAAAAAAAAAAAAAAAAAADwPwAAAAAAAAAAAAAAAAAAAAAAAAAAAAAAAAAAAAAAAAAAAAAAAAAAAAAAAAAAAAAAAAAAAAAAAAAAAAAAAAAAAAAAAAAAAAAAAAAAAAAAAAAAAAAAAAAAAAAAAAAAAAAAAAAAAAAAAPA/AAAAAAAAAAAAAAAAAAAAAAAAAAAAAAAAAAAAAAAA8D8AAAAAAAAAAAAAAAAAAAAAAAAAAAAAAAAAAAAAAAAAAAAAAAAAAAAAAAAAAAAAAAAAAAAAAAAAAAAAAAAAAAAAAAAAAAAAAAAAAAAAAAAAAAAAAAAAAAAAAAAAAAAAAAAAAAAAAAAAAAAAAAAAAAAAAAAAAAAAAAAAAAAAAAAAAAAAAAAAAAAAAAAAAAAAAAAAAAAAAADwPwAAAAAAAAAAAAAAAAAAAAAAAAAAAAAAAAAAAAAAAAAAAAAAAAAAAAAAAAAAAAAAAAAAAAAAAPA/AAAAAAAAAAAAAAAAAAAAAAAAAAAAAAAAAAAAAAAAAAAAAAAAAAAAAAAAAAAAAAAAAAAAAAAA8D8AAAAAAAAAAAAAAAAAAAAAAAAAAAAA8D8AAAAAAAAAAAAAAAAAAAAAAAAAAAAAAAAAAAAAAAAAAAAAAAAAAAAAAAAAAAAAAAAAAAAAAAAAAAAAAAAAAAAAAAAAAAAAAAAAAAAAAADwPwAAAAAAAAAAAAAAAAAAAAAAAAAAAAAAAAAAAAAAAPA/AAAAAAAAAAAAAAAAAAAAAAAAAAAAAPA/AAAAAAAAAAAAAAAAAAAAAAAAAAAAAPA/AAAAAAAAAAAAAAAAAAAAAAAAAAAAAAAAAAAAAAAAAAAAAAAAAAAAAAAAAAAAAAAAAAAAAAAAAAAAAAAAAAAAAAAAAAAAAAAAAAAAAAAAAAAAAAAAAAAAAAAAAAAAAAAAAAAAAAAAAAAAAAAAAADwPwAAAAAAAAAAAAAAAAAAAAAAAAAAAAAAAAAAAAAAAAAAAAAAAAAAAAAAAAAAAAAAAAAAAAAAAAAAAAAAAAAAAAAAAAAAAAAAAAAAAAAAAAAAAAAAAAAAAAAAAAAAAAAAAAAAAAAAAAAAAAAAAAAAAAAAAAAAAAAAAAAAAAAAAAAAAAAAAAAAAAAAAAAAAAAAAAAAAAAAAAAAAAAAAAAAAAAAAAAAAAAAAAAAAAAAAAAAAAAAAAAAAAAAAAAAAAAAAAAAAAAAAPA/AAAAAAAAAAAAAAAAAAAAAAAAAAAAAPA/AAAAAAAAAAAAAAAAAADwPwAAAAAAAAAAAAAAAAAAAAAAAAAAAAAAAAAAAAAAAAAAAAAAAAAA8D8AAAAAAAAAAAAAAAAAAAAAAAAAAAAAAAAAAAAAAAAAAAAAAAAAAAAAAAAAAAAAAAAAAAAAAAAAAAAAAAAAAAAAAAAAAAAA8D8AAAAAAADwPwAAAAAAAAAAAAAAAAAAAAAAAAAAAAAAAAAAAAAAAPA/AAAAAAAAAAAAAAAAAAAAAAAAAAAAAAAAAAAAAAAAAAAAAAAAAAAAAAAAAAAAAAAAAAAAAAAAAAAAAAAAAAAAAAAAAAAAAAAAAAAAAAAAAAAAAAAAAAAAAAAAAAAAAAAAAAAAAAAAAAAAAAAAAAAAAAAAAAAAAAAAAAAAAAAAAAAAAAAAAADwPwAAAAAAAAAAAAAAAAAAAAAAAAAAAAAAAAAAAAAAAAAAAAAAAAAAAAAAAAAAAAAAAAAAAAAAAAAAAAAAAAAAAAAAAAAAAAAAAAAAAAAAAAAAAAAAAAAAAAAAAAAAAAAAAAAAAAAAAAAAAAAAAAAA8D8AAAAAAAAAAAAAAAAAAAAAAAAAAAAAAAAAAAAAAADwPwAAAAAAAAAAAAAAAAAAAAAAAAAAAAAAAAAAAAAAAAAAAAAAAAAAAAAAAAAAAAAAAAAAAAAAAAAAAAAAAAAAAAAAAAAAAAAAAAAAAAAAAAAAAAAAAAAAAAAAAAAAAADwPwAAAAAAAPA/AAAAAAAAAAAAAAAAAADwPwAAAAAAAPA/AAAAAAAAAAAAAAAAAAAAAAAAAAAAAAAAAAAAAAAAAAAAAAAAAAAAAAAAAAAAAAAAAAAAAAAAAAAAAAAAAAAAAAAAAAAAAAAAAAAAAAAAAAAAAAAAAADwPwAAAAAAAAAAAAAAAAAAAAAAAAAAAAAAAAAAAAAAAAAAAAAAAAAAAAAAAAAAAAAAAAAAAAAAAAAAAAAAAAAAAAAAAAAAAADwPwAAAAAAAAAAAAAAAAAAAAAAAAAAAAAAAAAAAAAAAAAAAAAAAAAAAAAAAAAAAAAAAAAAAAAAAAAAAAAAAAAAAAAAAAAAAAAAAAAAAAAAAAAAAAAAAAAAAAAAAAAAAADwPwAAAAAAAAAAAAAAAAAAAAAAAAAAAAAAAAAAAAAAAAAAAAAAAAAA8D8AAAAAAAAAAAAAAAAAAAAAAAAAAAAAAAAAAAAAAADwPwAAAAAAAAAAAAAAAAAAAAAAAAAAAADwPwAAAAAAAAAAAAAAAAAA8D8AAAAAAAAAAAAAAAAAAAAAAAAAAAAAAAAAAAAAAAAAAAAAAAAAAAAAAAAAAAAAAAAAAAAAAADwPwAAAAAAAAAAAAAAAAAA8D8AAAAAAAAAAAAAAAAAAAAAAAAAAAAAAAAAAAAAAAAAAAAAAAAAAAAAAAAAAAAA8D8AAAAAAAAAAAAAAAAAAPA/AAAAAAAAAAAAAAAAAADwPw==",
           "dtype": "f8"
          },
          "coloraxis": "coloraxis"
         },
         "name": "",
         "type": "parcoords"
        }
       ],
       "layout": {
        "coloraxis": {
         "colorbar": {
          "title": {
           "text": "Attrition"
          }
         },
         "colorscale": [
          [
           0,
           "rgb(0, 147, 146)"
          ],
          [
           0.16666666666666666,
           "rgb(114, 170, 161)"
          ],
          [
           0.3333333333333333,
           "rgb(177, 199, 179)"
          ],
          [
           0.5,
           "rgb(241, 234, 200)"
          ],
          [
           0.6666666666666666,
           "rgb(229, 185, 173)"
          ],
          [
           0.8333333333333334,
           "rgb(217, 137, 148)"
          ],
          [
           1,
           "rgb(208, 88, 126)"
          ]
         ]
        },
        "height": 600,
        "legend": {
         "tracegroupgap": 0
        },
        "template": {
         "data": {
          "bar": [
           {
            "error_x": {
             "color": "#2a3f5f"
            },
            "error_y": {
             "color": "#2a3f5f"
            },
            "marker": {
             "line": {
              "color": "white",
              "width": 0.5
             },
             "pattern": {
              "fillmode": "overlay",
              "size": 10,
              "solidity": 0.2
             }
            },
            "type": "bar"
           }
          ],
          "barpolar": [
           {
            "marker": {
             "line": {
              "color": "white",
              "width": 0.5
             },
             "pattern": {
              "fillmode": "overlay",
              "size": 10,
              "solidity": 0.2
             }
            },
            "type": "barpolar"
           }
          ],
          "carpet": [
           {
            "aaxis": {
             "endlinecolor": "#2a3f5f",
             "gridcolor": "#C8D4E3",
             "linecolor": "#C8D4E3",
             "minorgridcolor": "#C8D4E3",
             "startlinecolor": "#2a3f5f"
            },
            "baxis": {
             "endlinecolor": "#2a3f5f",
             "gridcolor": "#C8D4E3",
             "linecolor": "#C8D4E3",
             "minorgridcolor": "#C8D4E3",
             "startlinecolor": "#2a3f5f"
            },
            "type": "carpet"
           }
          ],
          "choropleth": [
           {
            "colorbar": {
             "outlinewidth": 0,
             "ticks": ""
            },
            "type": "choropleth"
           }
          ],
          "contour": [
           {
            "colorbar": {
             "outlinewidth": 0,
             "ticks": ""
            },
            "colorscale": [
             [
              0,
              "#0d0887"
             ],
             [
              0.1111111111111111,
              "#46039f"
             ],
             [
              0.2222222222222222,
              "#7201a8"
             ],
             [
              0.3333333333333333,
              "#9c179e"
             ],
             [
              0.4444444444444444,
              "#bd3786"
             ],
             [
              0.5555555555555556,
              "#d8576b"
             ],
             [
              0.6666666666666666,
              "#ed7953"
             ],
             [
              0.7777777777777778,
              "#fb9f3a"
             ],
             [
              0.8888888888888888,
              "#fdca26"
             ],
             [
              1,
              "#f0f921"
             ]
            ],
            "type": "contour"
           }
          ],
          "contourcarpet": [
           {
            "colorbar": {
             "outlinewidth": 0,
             "ticks": ""
            },
            "type": "contourcarpet"
           }
          ],
          "heatmap": [
           {
            "colorbar": {
             "outlinewidth": 0,
             "ticks": ""
            },
            "colorscale": [
             [
              0,
              "#0d0887"
             ],
             [
              0.1111111111111111,
              "#46039f"
             ],
             [
              0.2222222222222222,
              "#7201a8"
             ],
             [
              0.3333333333333333,
              "#9c179e"
             ],
             [
              0.4444444444444444,
              "#bd3786"
             ],
             [
              0.5555555555555556,
              "#d8576b"
             ],
             [
              0.6666666666666666,
              "#ed7953"
             ],
             [
              0.7777777777777778,
              "#fb9f3a"
             ],
             [
              0.8888888888888888,
              "#fdca26"
             ],
             [
              1,
              "#f0f921"
             ]
            ],
            "type": "heatmap"
           }
          ],
          "histogram": [
           {
            "marker": {
             "pattern": {
              "fillmode": "overlay",
              "size": 10,
              "solidity": 0.2
             }
            },
            "type": "histogram"
           }
          ],
          "histogram2d": [
           {
            "colorbar": {
             "outlinewidth": 0,
             "ticks": ""
            },
            "colorscale": [
             [
              0,
              "#0d0887"
             ],
             [
              0.1111111111111111,
              "#46039f"
             ],
             [
              0.2222222222222222,
              "#7201a8"
             ],
             [
              0.3333333333333333,
              "#9c179e"
             ],
             [
              0.4444444444444444,
              "#bd3786"
             ],
             [
              0.5555555555555556,
              "#d8576b"
             ],
             [
              0.6666666666666666,
              "#ed7953"
             ],
             [
              0.7777777777777778,
              "#fb9f3a"
             ],
             [
              0.8888888888888888,
              "#fdca26"
             ],
             [
              1,
              "#f0f921"
             ]
            ],
            "type": "histogram2d"
           }
          ],
          "histogram2dcontour": [
           {
            "colorbar": {
             "outlinewidth": 0,
             "ticks": ""
            },
            "colorscale": [
             [
              0,
              "#0d0887"
             ],
             [
              0.1111111111111111,
              "#46039f"
             ],
             [
              0.2222222222222222,
              "#7201a8"
             ],
             [
              0.3333333333333333,
              "#9c179e"
             ],
             [
              0.4444444444444444,
              "#bd3786"
             ],
             [
              0.5555555555555556,
              "#d8576b"
             ],
             [
              0.6666666666666666,
              "#ed7953"
             ],
             [
              0.7777777777777778,
              "#fb9f3a"
             ],
             [
              0.8888888888888888,
              "#fdca26"
             ],
             [
              1,
              "#f0f921"
             ]
            ],
            "type": "histogram2dcontour"
           }
          ],
          "mesh3d": [
           {
            "colorbar": {
             "outlinewidth": 0,
             "ticks": ""
            },
            "type": "mesh3d"
           }
          ],
          "parcoords": [
           {
            "line": {
             "colorbar": {
              "outlinewidth": 0,
              "ticks": ""
             }
            },
            "type": "parcoords"
           }
          ],
          "pie": [
           {
            "automargin": true,
            "type": "pie"
           }
          ],
          "scatter": [
           {
            "fillpattern": {
             "fillmode": "overlay",
             "size": 10,
             "solidity": 0.2
            },
            "type": "scatter"
           }
          ],
          "scatter3d": [
           {
            "line": {
             "colorbar": {
              "outlinewidth": 0,
              "ticks": ""
             }
            },
            "marker": {
             "colorbar": {
              "outlinewidth": 0,
              "ticks": ""
             }
            },
            "type": "scatter3d"
           }
          ],
          "scattercarpet": [
           {
            "marker": {
             "colorbar": {
              "outlinewidth": 0,
              "ticks": ""
             }
            },
            "type": "scattercarpet"
           }
          ],
          "scattergeo": [
           {
            "marker": {
             "colorbar": {
              "outlinewidth": 0,
              "ticks": ""
             }
            },
            "type": "scattergeo"
           }
          ],
          "scattergl": [
           {
            "marker": {
             "colorbar": {
              "outlinewidth": 0,
              "ticks": ""
             }
            },
            "type": "scattergl"
           }
          ],
          "scattermap": [
           {
            "marker": {
             "colorbar": {
              "outlinewidth": 0,
              "ticks": ""
             }
            },
            "type": "scattermap"
           }
          ],
          "scattermapbox": [
           {
            "marker": {
             "colorbar": {
              "outlinewidth": 0,
              "ticks": ""
             }
            },
            "type": "scattermapbox"
           }
          ],
          "scatterpolar": [
           {
            "marker": {
             "colorbar": {
              "outlinewidth": 0,
              "ticks": ""
             }
            },
            "type": "scatterpolar"
           }
          ],
          "scatterpolargl": [
           {
            "marker": {
             "colorbar": {
              "outlinewidth": 0,
              "ticks": ""
             }
            },
            "type": "scatterpolargl"
           }
          ],
          "scatterternary": [
           {
            "marker": {
             "colorbar": {
              "outlinewidth": 0,
              "ticks": ""
             }
            },
            "type": "scatterternary"
           }
          ],
          "surface": [
           {
            "colorbar": {
             "outlinewidth": 0,
             "ticks": ""
            },
            "colorscale": [
             [
              0,
              "#0d0887"
             ],
             [
              0.1111111111111111,
              "#46039f"
             ],
             [
              0.2222222222222222,
              "#7201a8"
             ],
             [
              0.3333333333333333,
              "#9c179e"
             ],
             [
              0.4444444444444444,
              "#bd3786"
             ],
             [
              0.5555555555555556,
              "#d8576b"
             ],
             [
              0.6666666666666666,
              "#ed7953"
             ],
             [
              0.7777777777777778,
              "#fb9f3a"
             ],
             [
              0.8888888888888888,
              "#fdca26"
             ],
             [
              1,
              "#f0f921"
             ]
            ],
            "type": "surface"
           }
          ],
          "table": [
           {
            "cells": {
             "fill": {
              "color": "#EBF0F8"
             },
             "line": {
              "color": "white"
             }
            },
            "header": {
             "fill": {
              "color": "#C8D4E3"
             },
             "line": {
              "color": "white"
             }
            },
            "type": "table"
           }
          ]
         },
         "layout": {
          "annotationdefaults": {
           "arrowcolor": "#2a3f5f",
           "arrowhead": 0,
           "arrowwidth": 1
          },
          "autotypenumbers": "strict",
          "coloraxis": {
           "colorbar": {
            "outlinewidth": 0,
            "ticks": ""
           }
          },
          "colorscale": {
           "diverging": [
            [
             0,
             "#8e0152"
            ],
            [
             0.1,
             "#c51b7d"
            ],
            [
             0.2,
             "#de77ae"
            ],
            [
             0.3,
             "#f1b6da"
            ],
            [
             0.4,
             "#fde0ef"
            ],
            [
             0.5,
             "#f7f7f7"
            ],
            [
             0.6,
             "#e6f5d0"
            ],
            [
             0.7,
             "#b8e186"
            ],
            [
             0.8,
             "#7fbc41"
            ],
            [
             0.9,
             "#4d9221"
            ],
            [
             1,
             "#276419"
            ]
           ],
           "sequential": [
            [
             0,
             "#0d0887"
            ],
            [
             0.1111111111111111,
             "#46039f"
            ],
            [
             0.2222222222222222,
             "#7201a8"
            ],
            [
             0.3333333333333333,
             "#9c179e"
            ],
            [
             0.4444444444444444,
             "#bd3786"
            ],
            [
             0.5555555555555556,
             "#d8576b"
            ],
            [
             0.6666666666666666,
             "#ed7953"
            ],
            [
             0.7777777777777778,
             "#fb9f3a"
            ],
            [
             0.8888888888888888,
             "#fdca26"
            ],
            [
             1,
             "#f0f921"
            ]
           ],
           "sequentialminus": [
            [
             0,
             "#0d0887"
            ],
            [
             0.1111111111111111,
             "#46039f"
            ],
            [
             0.2222222222222222,
             "#7201a8"
            ],
            [
             0.3333333333333333,
             "#9c179e"
            ],
            [
             0.4444444444444444,
             "#bd3786"
            ],
            [
             0.5555555555555556,
             "#d8576b"
            ],
            [
             0.6666666666666666,
             "#ed7953"
            ],
            [
             0.7777777777777778,
             "#fb9f3a"
            ],
            [
             0.8888888888888888,
             "#fdca26"
            ],
            [
             1,
             "#f0f921"
            ]
           ]
          },
          "colorway": [
           "#636efa",
           "#EF553B",
           "#00cc96",
           "#ab63fa",
           "#FFA15A",
           "#19d3f3",
           "#FF6692",
           "#B6E880",
           "#FF97FF",
           "#FECB52"
          ],
          "font": {
           "color": "#2a3f5f"
          },
          "geo": {
           "bgcolor": "white",
           "lakecolor": "white",
           "landcolor": "white",
           "showlakes": true,
           "showland": true,
           "subunitcolor": "#C8D4E3"
          },
          "hoverlabel": {
           "align": "left"
          },
          "hovermode": "closest",
          "mapbox": {
           "style": "light"
          },
          "paper_bgcolor": "white",
          "plot_bgcolor": "white",
          "polar": {
           "angularaxis": {
            "gridcolor": "#EBF0F8",
            "linecolor": "#EBF0F8",
            "ticks": ""
           },
           "bgcolor": "white",
           "radialaxis": {
            "gridcolor": "#EBF0F8",
            "linecolor": "#EBF0F8",
            "ticks": ""
           }
          },
          "scene": {
           "xaxis": {
            "backgroundcolor": "white",
            "gridcolor": "#DFE8F3",
            "gridwidth": 2,
            "linecolor": "#EBF0F8",
            "showbackground": true,
            "ticks": "",
            "zerolinecolor": "#EBF0F8"
           },
           "yaxis": {
            "backgroundcolor": "white",
            "gridcolor": "#DFE8F3",
            "gridwidth": 2,
            "linecolor": "#EBF0F8",
            "showbackground": true,
            "ticks": "",
            "zerolinecolor": "#EBF0F8"
           },
           "zaxis": {
            "backgroundcolor": "white",
            "gridcolor": "#DFE8F3",
            "gridwidth": 2,
            "linecolor": "#EBF0F8",
            "showbackground": true,
            "ticks": "",
            "zerolinecolor": "#EBF0F8"
           }
          },
          "shapedefaults": {
           "line": {
            "color": "#2a3f5f"
           }
          },
          "ternary": {
           "aaxis": {
            "gridcolor": "#DFE8F3",
            "linecolor": "#A2B1C6",
            "ticks": ""
           },
           "baxis": {
            "gridcolor": "#DFE8F3",
            "linecolor": "#A2B1C6",
            "ticks": ""
           },
           "bgcolor": "white",
           "caxis": {
            "gridcolor": "#DFE8F3",
            "linecolor": "#A2B1C6",
            "ticks": ""
           }
          },
          "title": {
           "x": 0.05
          },
          "xaxis": {
           "automargin": true,
           "gridcolor": "#EBF0F8",
           "linecolor": "#EBF0F8",
           "ticks": "",
           "title": {
            "standoff": 15
           },
           "zerolinecolor": "#EBF0F8",
           "zerolinewidth": 2
          },
          "yaxis": {
           "automargin": true,
           "gridcolor": "#EBF0F8",
           "linecolor": "#EBF0F8",
           "ticks": "",
           "title": {
            "standoff": 15
           },
           "zerolinecolor": "#EBF0F8",
           "zerolinewidth": 2
          }
         }
        },
        "title": {
         "text": "Parallel Coordinates Plot untuk Berbagai Dimensi dan Attrition"
        }
       }
      }
     },
     "metadata": {},
     "output_type": "display_data"
    },
    {
     "name": "stdout",
     "output_type": "stream",
     "text": [
      "Visualisasi telah disimpan sebagai './visualisasi/attrition_parallel_coordinates.jpg'\n"
     ]
    }
   ],
   "source": [
    "# 6. Analisis multivariate: Parallel Coordinates Plot untuk melihat banyak dimensi sekaligus\n",
    "# Pilih kolom numerik yang relevan\n",
    "cols_for_parallel = ['Age', 'DistanceFromHome', 'MonthlyIncome', 'YearsAtCompany', \n",
    "                     'WorkLifeBalance', 'JobSatisfaction', 'JobLevel']\n",
    "\n",
    "# Buat Parallel Coordinates Plot\n",
    "fig = px.parallel_coordinates(\n",
    "    df, \n",
    "    color='Attrition',\n",
    "    dimensions=cols_for_parallel,\n",
    "    color_continuous_scale=px.colors.diverging.Tealrose,\n",
    "    title='Parallel Coordinates Plot untuk Berbagai Dimensi dan Attrition'\n",
    ")\n",
    "fig.update_layout(\n",
    "    template='plotly_white',\n",
    "    height=600\n",
    ")\n",
    "fig.show()\n",
    "\n",
    "# Simpan gambar\n",
    "fig.write_image(\"./visualisasi/attrition_parallel_coordinates.jpg\", scale=2)\n",
    "print(\"Visualisasi telah disimpan sebagai './visualisasi/attrition_parallel_coordinates.jpg'\")"
   ]
  },
  {
   "cell_type": "code",
   "execution_count": 92,
   "id": "7b086664",
   "metadata": {},
   "outputs": [
    {
     "name": "stdout",
     "output_type": "stream",
     "text": [
      "Tingkat Attrition (%), Jumlah Karyawan, dan Rata-rata Kepuasan Kerja berdasarkan Department dan Job Role:\n"
     ]
    },
    {
     "data": {
      "application/vnd.microsoft.datawrangler.viewer.v0+json": {
       "columns": [
        {
         "name": "index",
         "rawType": "int64",
         "type": "integer"
        },
        {
         "name": "Department",
         "rawType": "object",
         "type": "string"
        },
        {
         "name": "JobRole",
         "rawType": "object",
         "type": "string"
        },
        {
         "name": "Tingkat Attrition (%)",
         "rawType": "float64",
         "type": "float"
        },
        {
         "name": "Jumlah Karyawan",
         "rawType": "int64",
         "type": "integer"
        },
        {
         "name": "Rata-rata Kepuasan Kerja",
         "rawType": "float64",
         "type": "float"
        }
       ],
       "conversionMethod": "pd.DataFrame",
       "ref": "bf883f5e-22f2-49ce-83c5-685098f59610",
       "rows": [
        [
         "10",
         "Sales",
         "Sales Representative",
         "43.103448275862064",
         "58",
         "2.7586206896551726"
        ],
        [
         "3",
         "Research & Development",
         "Laboratory Technician",
         "26.063829787234045",
         "188",
         "2.8138297872340425"
        ],
        [
         "0",
         "Human Resources",
         "Human Resources",
         "20.0",
         "30",
         "2.3666666666666667"
        ],
        [
         "7",
         "Research & Development",
         "Research Scientist",
         "17.75700934579439",
         "214",
         "2.7803738317757007"
        ],
        [
         "9",
         "Sales",
         "Sales Executive",
         "16.810344827586206",
         "232",
         "2.7543103448275863"
        ],
        [
         "2",
         "Research & Development",
         "Healthcare Representative",
         "9.090909090909092",
         "88",
         "2.8295454545454546"
        ],
        [
         "4",
         "Research & Development",
         "Manager",
         "7.142857142857142",
         "42",
         "2.4523809523809526"
        ],
        [
         "8",
         "Sales",
         "Manager",
         "6.896551724137931",
         "29",
         "2.8275862068965516"
        ],
        [
         "5",
         "Research & Development",
         "Manufacturing Director",
         "6.5420560747663545",
         "107",
         "2.710280373831776"
        ],
        [
         "6",
         "Research & Development",
         "Research Director",
         "3.225806451612903",
         "62",
         "2.725806451612903"
        ],
        [
         "1",
         "Human Resources",
         "Manager",
         "0.0",
         "8",
         "2.75"
        ]
       ],
       "shape": {
        "columns": 5,
        "rows": 11
       }
      },
      "text/html": [
       "<div>\n",
       "<style scoped>\n",
       "    .dataframe tbody tr th:only-of-type {\n",
       "        vertical-align: middle;\n",
       "    }\n",
       "\n",
       "    .dataframe tbody tr th {\n",
       "        vertical-align: top;\n",
       "    }\n",
       "\n",
       "    .dataframe thead th {\n",
       "        text-align: right;\n",
       "    }\n",
       "</style>\n",
       "<table border=\"1\" class=\"dataframe\">\n",
       "  <thead>\n",
       "    <tr style=\"text-align: right;\">\n",
       "      <th></th>\n",
       "      <th>Department</th>\n",
       "      <th>JobRole</th>\n",
       "      <th>Tingkat Attrition (%)</th>\n",
       "      <th>Jumlah Karyawan</th>\n",
       "      <th>Rata-rata Kepuasan Kerja</th>\n",
       "    </tr>\n",
       "  </thead>\n",
       "  <tbody>\n",
       "    <tr>\n",
       "      <th>10</th>\n",
       "      <td>Sales</td>\n",
       "      <td>Sales Representative</td>\n",
       "      <td>43.103448</td>\n",
       "      <td>58</td>\n",
       "      <td>2.758621</td>\n",
       "    </tr>\n",
       "    <tr>\n",
       "      <th>3</th>\n",
       "      <td>Research &amp; Development</td>\n",
       "      <td>Laboratory Technician</td>\n",
       "      <td>26.063830</td>\n",
       "      <td>188</td>\n",
       "      <td>2.813830</td>\n",
       "    </tr>\n",
       "    <tr>\n",
       "      <th>0</th>\n",
       "      <td>Human Resources</td>\n",
       "      <td>Human Resources</td>\n",
       "      <td>20.000000</td>\n",
       "      <td>30</td>\n",
       "      <td>2.366667</td>\n",
       "    </tr>\n",
       "    <tr>\n",
       "      <th>7</th>\n",
       "      <td>Research &amp; Development</td>\n",
       "      <td>Research Scientist</td>\n",
       "      <td>17.757009</td>\n",
       "      <td>214</td>\n",
       "      <td>2.780374</td>\n",
       "    </tr>\n",
       "    <tr>\n",
       "      <th>9</th>\n",
       "      <td>Sales</td>\n",
       "      <td>Sales Executive</td>\n",
       "      <td>16.810345</td>\n",
       "      <td>232</td>\n",
       "      <td>2.754310</td>\n",
       "    </tr>\n",
       "    <tr>\n",
       "      <th>2</th>\n",
       "      <td>Research &amp; Development</td>\n",
       "      <td>Healthcare Representative</td>\n",
       "      <td>9.090909</td>\n",
       "      <td>88</td>\n",
       "      <td>2.829545</td>\n",
       "    </tr>\n",
       "    <tr>\n",
       "      <th>4</th>\n",
       "      <td>Research &amp; Development</td>\n",
       "      <td>Manager</td>\n",
       "      <td>7.142857</td>\n",
       "      <td>42</td>\n",
       "      <td>2.452381</td>\n",
       "    </tr>\n",
       "    <tr>\n",
       "      <th>8</th>\n",
       "      <td>Sales</td>\n",
       "      <td>Manager</td>\n",
       "      <td>6.896552</td>\n",
       "      <td>29</td>\n",
       "      <td>2.827586</td>\n",
       "    </tr>\n",
       "    <tr>\n",
       "      <th>5</th>\n",
       "      <td>Research &amp; Development</td>\n",
       "      <td>Manufacturing Director</td>\n",
       "      <td>6.542056</td>\n",
       "      <td>107</td>\n",
       "      <td>2.710280</td>\n",
       "    </tr>\n",
       "    <tr>\n",
       "      <th>6</th>\n",
       "      <td>Research &amp; Development</td>\n",
       "      <td>Research Director</td>\n",
       "      <td>3.225806</td>\n",
       "      <td>62</td>\n",
       "      <td>2.725806</td>\n",
       "    </tr>\n",
       "    <tr>\n",
       "      <th>1</th>\n",
       "      <td>Human Resources</td>\n",
       "      <td>Manager</td>\n",
       "      <td>0.000000</td>\n",
       "      <td>8</td>\n",
       "      <td>2.750000</td>\n",
       "    </tr>\n",
       "  </tbody>\n",
       "</table>\n",
       "</div>"
      ],
      "text/plain": [
       "                Department                    JobRole  Tingkat Attrition (%)  \\\n",
       "10                   Sales       Sales Representative              43.103448   \n",
       "3   Research & Development      Laboratory Technician              26.063830   \n",
       "0          Human Resources            Human Resources              20.000000   \n",
       "7   Research & Development         Research Scientist              17.757009   \n",
       "9                    Sales            Sales Executive              16.810345   \n",
       "2   Research & Development  Healthcare Representative               9.090909   \n",
       "4   Research & Development                    Manager               7.142857   \n",
       "8                    Sales                    Manager               6.896552   \n",
       "5   Research & Development     Manufacturing Director               6.542056   \n",
       "6   Research & Development          Research Director               3.225806   \n",
       "1          Human Resources                    Manager               0.000000   \n",
       "\n",
       "    Jumlah Karyawan  Rata-rata Kepuasan Kerja  \n",
       "10               58                  2.758621  \n",
       "3               188                  2.813830  \n",
       "0                30                  2.366667  \n",
       "7               214                  2.780374  \n",
       "9               232                  2.754310  \n",
       "2                88                  2.829545  \n",
       "4                42                  2.452381  \n",
       "8                29                  2.827586  \n",
       "5               107                  2.710280  \n",
       "6                62                  2.725806  \n",
       "1                 8                  2.750000  "
      ]
     },
     "metadata": {},
     "output_type": "display_data"
    },
    {
     "data": {
      "application/vnd.plotly.v1+json": {
       "config": {
        "plotlyServerURL": "https://plot.ly"
       },
       "data": [
        {
         "hovertemplate": "<b>%{hovertext}</b><br><br>Department=Human Resources<br>Rata-rata Kepuasan Kerja (1-4)=%{x}<br>Tingkat Attrition (%)=%{y}<br>Jumlah Karyawan=%{marker.size}<br>JobRole=%{text}<extra></extra>",
         "hovertext": [
          "Human Resources",
          "Manager"
         ],
         "legendgroup": "Human Resources",
         "marker": {
          "color": "#636efa",
          "size": {
           "bdata": "Hgg=",
           "dtype": "i1"
          },
          "sizemode": "area",
          "sizeref": 0.1,
          "symbol": "circle"
         },
         "mode": "markers+text",
         "name": "Human Resources",
         "orientation": "v",
         "showlegend": true,
         "text": [
          "Human Resources",
          "Manager"
         ],
         "textposition": "top center",
         "type": "scatter",
         "x": {
          "bdata": "7+7u7u7uAkAAAAAAAAAGQA==",
          "dtype": "f8"
         },
         "xaxis": "x",
         "y": {
          "bdata": "AAAAAAAANEAAAAAAAAAAAA==",
          "dtype": "f8"
         },
         "yaxis": "y"
        },
        {
         "hovertemplate": "<b>%{hovertext}</b><br><br>Department=Research & Development<br>Rata-rata Kepuasan Kerja (1-4)=%{x}<br>Tingkat Attrition (%)=%{y}<br>Jumlah Karyawan=%{marker.size}<br>JobRole=%{text}<extra></extra>",
         "hovertext": [
          "Healthcare Representative",
          "Laboratory Technician",
          "Manager",
          "Manufacturing Director",
          "Research Director",
          "Research Scientist"
         ],
         "legendgroup": "Research & Development",
         "marker": {
          "color": "#EF553B",
          "size": {
           "bdata": "WAC8ACoAawA+ANYA",
           "dtype": "i2"
          },
          "sizemode": "area",
          "sizeref": 0.1,
          "symbol": "circle"
         },
         "mode": "markers+text",
         "name": "Research & Development",
         "orientation": "v",
         "showlegend": true,
         "text": [
          "Healthcare Representative",
          "Laboratory Technician",
          "Manager",
          "Manufacturing Director",
          "Research Director",
          "Research Scientist"
         ],
         "textposition": "top center",
         "type": "scatter",
         "x": {
          "bdata": "o4suuuiiBkBicgUxuYIGQOh5nud5ngNA+cgEeqeuBUDOOeecc84FQPYLsaI0PgZA",
          "dtype": "f8"
         },
         "xaxis": "x",
         "y": {
          "bdata": "L7rooosuIkBNriAmVxA6QCRJkiRJkhxA5eBmvxArGkDOOeecc84JQAn0Tl3LwTFA",
          "dtype": "f8"
         },
         "yaxis": "y"
        },
        {
         "hovertemplate": "<b>%{hovertext}</b><br><br>Department=Sales<br>Rata-rata Kepuasan Kerja (1-4)=%{x}<br>Tingkat Attrition (%)=%{y}<br>Jumlah Karyawan=%{marker.size}<br>JobRole=%{text}<extra></extra>",
         "hovertext": [
          "Manager",
          "Sales Executive",
          "Sales Representative"
         ],
         "legendgroup": "Sales",
         "marker": {
          "color": "#00cc96",
          "size": {
           "bdata": "HQDoADoA",
           "dtype": "i2"
          },
          "sizemode": "area",
          "sizeref": 0.1,
          "symbol": "circle"
         },
         "mode": "markers+text",
         "name": "Sales",
         "orientation": "v",
         "showlegend": true,
         "text": [
          "Manager",
          "Sales Executive",
          "Sales Representative"
         ],
         "textposition": "top center",
         "type": "scatter",
         "x": {
          "bdata": "WO5phOWeBkA+jbDc0wgGQHwaYbmnEQZA",
          "dtype": "f8"
         },
         "xaxis": "x",
         "y": {
          "bdata": "GmG5pxGWG0As9zTCcs8wQNzTCMs9jUVA",
          "dtype": "f8"
         },
         "yaxis": "y"
        }
       ],
       "layout": {
        "height": 800,
        "legend": {
         "itemsizing": "constant",
         "title": {
          "text": "Department"
         },
         "tracegroupgap": 0
        },
        "template": {
         "data": {
          "bar": [
           {
            "error_x": {
             "color": "#2a3f5f"
            },
            "error_y": {
             "color": "#2a3f5f"
            },
            "marker": {
             "line": {
              "color": "white",
              "width": 0.5
             },
             "pattern": {
              "fillmode": "overlay",
              "size": 10,
              "solidity": 0.2
             }
            },
            "type": "bar"
           }
          ],
          "barpolar": [
           {
            "marker": {
             "line": {
              "color": "white",
              "width": 0.5
             },
             "pattern": {
              "fillmode": "overlay",
              "size": 10,
              "solidity": 0.2
             }
            },
            "type": "barpolar"
           }
          ],
          "carpet": [
           {
            "aaxis": {
             "endlinecolor": "#2a3f5f",
             "gridcolor": "#C8D4E3",
             "linecolor": "#C8D4E3",
             "minorgridcolor": "#C8D4E3",
             "startlinecolor": "#2a3f5f"
            },
            "baxis": {
             "endlinecolor": "#2a3f5f",
             "gridcolor": "#C8D4E3",
             "linecolor": "#C8D4E3",
             "minorgridcolor": "#C8D4E3",
             "startlinecolor": "#2a3f5f"
            },
            "type": "carpet"
           }
          ],
          "choropleth": [
           {
            "colorbar": {
             "outlinewidth": 0,
             "ticks": ""
            },
            "type": "choropleth"
           }
          ],
          "contour": [
           {
            "colorbar": {
             "outlinewidth": 0,
             "ticks": ""
            },
            "colorscale": [
             [
              0,
              "#0d0887"
             ],
             [
              0.1111111111111111,
              "#46039f"
             ],
             [
              0.2222222222222222,
              "#7201a8"
             ],
             [
              0.3333333333333333,
              "#9c179e"
             ],
             [
              0.4444444444444444,
              "#bd3786"
             ],
             [
              0.5555555555555556,
              "#d8576b"
             ],
             [
              0.6666666666666666,
              "#ed7953"
             ],
             [
              0.7777777777777778,
              "#fb9f3a"
             ],
             [
              0.8888888888888888,
              "#fdca26"
             ],
             [
              1,
              "#f0f921"
             ]
            ],
            "type": "contour"
           }
          ],
          "contourcarpet": [
           {
            "colorbar": {
             "outlinewidth": 0,
             "ticks": ""
            },
            "type": "contourcarpet"
           }
          ],
          "heatmap": [
           {
            "colorbar": {
             "outlinewidth": 0,
             "ticks": ""
            },
            "colorscale": [
             [
              0,
              "#0d0887"
             ],
             [
              0.1111111111111111,
              "#46039f"
             ],
             [
              0.2222222222222222,
              "#7201a8"
             ],
             [
              0.3333333333333333,
              "#9c179e"
             ],
             [
              0.4444444444444444,
              "#bd3786"
             ],
             [
              0.5555555555555556,
              "#d8576b"
             ],
             [
              0.6666666666666666,
              "#ed7953"
             ],
             [
              0.7777777777777778,
              "#fb9f3a"
             ],
             [
              0.8888888888888888,
              "#fdca26"
             ],
             [
              1,
              "#f0f921"
             ]
            ],
            "type": "heatmap"
           }
          ],
          "histogram": [
           {
            "marker": {
             "pattern": {
              "fillmode": "overlay",
              "size": 10,
              "solidity": 0.2
             }
            },
            "type": "histogram"
           }
          ],
          "histogram2d": [
           {
            "colorbar": {
             "outlinewidth": 0,
             "ticks": ""
            },
            "colorscale": [
             [
              0,
              "#0d0887"
             ],
             [
              0.1111111111111111,
              "#46039f"
             ],
             [
              0.2222222222222222,
              "#7201a8"
             ],
             [
              0.3333333333333333,
              "#9c179e"
             ],
             [
              0.4444444444444444,
              "#bd3786"
             ],
             [
              0.5555555555555556,
              "#d8576b"
             ],
             [
              0.6666666666666666,
              "#ed7953"
             ],
             [
              0.7777777777777778,
              "#fb9f3a"
             ],
             [
              0.8888888888888888,
              "#fdca26"
             ],
             [
              1,
              "#f0f921"
             ]
            ],
            "type": "histogram2d"
           }
          ],
          "histogram2dcontour": [
           {
            "colorbar": {
             "outlinewidth": 0,
             "ticks": ""
            },
            "colorscale": [
             [
              0,
              "#0d0887"
             ],
             [
              0.1111111111111111,
              "#46039f"
             ],
             [
              0.2222222222222222,
              "#7201a8"
             ],
             [
              0.3333333333333333,
              "#9c179e"
             ],
             [
              0.4444444444444444,
              "#bd3786"
             ],
             [
              0.5555555555555556,
              "#d8576b"
             ],
             [
              0.6666666666666666,
              "#ed7953"
             ],
             [
              0.7777777777777778,
              "#fb9f3a"
             ],
             [
              0.8888888888888888,
              "#fdca26"
             ],
             [
              1,
              "#f0f921"
             ]
            ],
            "type": "histogram2dcontour"
           }
          ],
          "mesh3d": [
           {
            "colorbar": {
             "outlinewidth": 0,
             "ticks": ""
            },
            "type": "mesh3d"
           }
          ],
          "parcoords": [
           {
            "line": {
             "colorbar": {
              "outlinewidth": 0,
              "ticks": ""
             }
            },
            "type": "parcoords"
           }
          ],
          "pie": [
           {
            "automargin": true,
            "type": "pie"
           }
          ],
          "scatter": [
           {
            "fillpattern": {
             "fillmode": "overlay",
             "size": 10,
             "solidity": 0.2
            },
            "type": "scatter"
           }
          ],
          "scatter3d": [
           {
            "line": {
             "colorbar": {
              "outlinewidth": 0,
              "ticks": ""
             }
            },
            "marker": {
             "colorbar": {
              "outlinewidth": 0,
              "ticks": ""
             }
            },
            "type": "scatter3d"
           }
          ],
          "scattercarpet": [
           {
            "marker": {
             "colorbar": {
              "outlinewidth": 0,
              "ticks": ""
             }
            },
            "type": "scattercarpet"
           }
          ],
          "scattergeo": [
           {
            "marker": {
             "colorbar": {
              "outlinewidth": 0,
              "ticks": ""
             }
            },
            "type": "scattergeo"
           }
          ],
          "scattergl": [
           {
            "marker": {
             "colorbar": {
              "outlinewidth": 0,
              "ticks": ""
             }
            },
            "type": "scattergl"
           }
          ],
          "scattermap": [
           {
            "marker": {
             "colorbar": {
              "outlinewidth": 0,
              "ticks": ""
             }
            },
            "type": "scattermap"
           }
          ],
          "scattermapbox": [
           {
            "marker": {
             "colorbar": {
              "outlinewidth": 0,
              "ticks": ""
             }
            },
            "type": "scattermapbox"
           }
          ],
          "scatterpolar": [
           {
            "marker": {
             "colorbar": {
              "outlinewidth": 0,
              "ticks": ""
             }
            },
            "type": "scatterpolar"
           }
          ],
          "scatterpolargl": [
           {
            "marker": {
             "colorbar": {
              "outlinewidth": 0,
              "ticks": ""
             }
            },
            "type": "scatterpolargl"
           }
          ],
          "scatterternary": [
           {
            "marker": {
             "colorbar": {
              "outlinewidth": 0,
              "ticks": ""
             }
            },
            "type": "scatterternary"
           }
          ],
          "surface": [
           {
            "colorbar": {
             "outlinewidth": 0,
             "ticks": ""
            },
            "colorscale": [
             [
              0,
              "#0d0887"
             ],
             [
              0.1111111111111111,
              "#46039f"
             ],
             [
              0.2222222222222222,
              "#7201a8"
             ],
             [
              0.3333333333333333,
              "#9c179e"
             ],
             [
              0.4444444444444444,
              "#bd3786"
             ],
             [
              0.5555555555555556,
              "#d8576b"
             ],
             [
              0.6666666666666666,
              "#ed7953"
             ],
             [
              0.7777777777777778,
              "#fb9f3a"
             ],
             [
              0.8888888888888888,
              "#fdca26"
             ],
             [
              1,
              "#f0f921"
             ]
            ],
            "type": "surface"
           }
          ],
          "table": [
           {
            "cells": {
             "fill": {
              "color": "#EBF0F8"
             },
             "line": {
              "color": "white"
             }
            },
            "header": {
             "fill": {
              "color": "#C8D4E3"
             },
             "line": {
              "color": "white"
             }
            },
            "type": "table"
           }
          ]
         },
         "layout": {
          "annotationdefaults": {
           "arrowcolor": "#2a3f5f",
           "arrowhead": 0,
           "arrowwidth": 1
          },
          "autotypenumbers": "strict",
          "coloraxis": {
           "colorbar": {
            "outlinewidth": 0,
            "ticks": ""
           }
          },
          "colorscale": {
           "diverging": [
            [
             0,
             "#8e0152"
            ],
            [
             0.1,
             "#c51b7d"
            ],
            [
             0.2,
             "#de77ae"
            ],
            [
             0.3,
             "#f1b6da"
            ],
            [
             0.4,
             "#fde0ef"
            ],
            [
             0.5,
             "#f7f7f7"
            ],
            [
             0.6,
             "#e6f5d0"
            ],
            [
             0.7,
             "#b8e186"
            ],
            [
             0.8,
             "#7fbc41"
            ],
            [
             0.9,
             "#4d9221"
            ],
            [
             1,
             "#276419"
            ]
           ],
           "sequential": [
            [
             0,
             "#0d0887"
            ],
            [
             0.1111111111111111,
             "#46039f"
            ],
            [
             0.2222222222222222,
             "#7201a8"
            ],
            [
             0.3333333333333333,
             "#9c179e"
            ],
            [
             0.4444444444444444,
             "#bd3786"
            ],
            [
             0.5555555555555556,
             "#d8576b"
            ],
            [
             0.6666666666666666,
             "#ed7953"
            ],
            [
             0.7777777777777778,
             "#fb9f3a"
            ],
            [
             0.8888888888888888,
             "#fdca26"
            ],
            [
             1,
             "#f0f921"
            ]
           ],
           "sequentialminus": [
            [
             0,
             "#0d0887"
            ],
            [
             0.1111111111111111,
             "#46039f"
            ],
            [
             0.2222222222222222,
             "#7201a8"
            ],
            [
             0.3333333333333333,
             "#9c179e"
            ],
            [
             0.4444444444444444,
             "#bd3786"
            ],
            [
             0.5555555555555556,
             "#d8576b"
            ],
            [
             0.6666666666666666,
             "#ed7953"
            ],
            [
             0.7777777777777778,
             "#fb9f3a"
            ],
            [
             0.8888888888888888,
             "#fdca26"
            ],
            [
             1,
             "#f0f921"
            ]
           ]
          },
          "colorway": [
           "#636efa",
           "#EF553B",
           "#00cc96",
           "#ab63fa",
           "#FFA15A",
           "#19d3f3",
           "#FF6692",
           "#B6E880",
           "#FF97FF",
           "#FECB52"
          ],
          "font": {
           "color": "#2a3f5f"
          },
          "geo": {
           "bgcolor": "white",
           "lakecolor": "white",
           "landcolor": "white",
           "showlakes": true,
           "showland": true,
           "subunitcolor": "#C8D4E3"
          },
          "hoverlabel": {
           "align": "left"
          },
          "hovermode": "closest",
          "mapbox": {
           "style": "light"
          },
          "paper_bgcolor": "white",
          "plot_bgcolor": "white",
          "polar": {
           "angularaxis": {
            "gridcolor": "#EBF0F8",
            "linecolor": "#EBF0F8",
            "ticks": ""
           },
           "bgcolor": "white",
           "radialaxis": {
            "gridcolor": "#EBF0F8",
            "linecolor": "#EBF0F8",
            "ticks": ""
           }
          },
          "scene": {
           "xaxis": {
            "backgroundcolor": "white",
            "gridcolor": "#DFE8F3",
            "gridwidth": 2,
            "linecolor": "#EBF0F8",
            "showbackground": true,
            "ticks": "",
            "zerolinecolor": "#EBF0F8"
           },
           "yaxis": {
            "backgroundcolor": "white",
            "gridcolor": "#DFE8F3",
            "gridwidth": 2,
            "linecolor": "#EBF0F8",
            "showbackground": true,
            "ticks": "",
            "zerolinecolor": "#EBF0F8"
           },
           "zaxis": {
            "backgroundcolor": "white",
            "gridcolor": "#DFE8F3",
            "gridwidth": 2,
            "linecolor": "#EBF0F8",
            "showbackground": true,
            "ticks": "",
            "zerolinecolor": "#EBF0F8"
           }
          },
          "shapedefaults": {
           "line": {
            "color": "#2a3f5f"
           }
          },
          "ternary": {
           "aaxis": {
            "gridcolor": "#DFE8F3",
            "linecolor": "#A2B1C6",
            "ticks": ""
           },
           "baxis": {
            "gridcolor": "#DFE8F3",
            "linecolor": "#A2B1C6",
            "ticks": ""
           },
           "bgcolor": "white",
           "caxis": {
            "gridcolor": "#DFE8F3",
            "linecolor": "#A2B1C6",
            "ticks": ""
           }
          },
          "title": {
           "x": 0.05
          },
          "xaxis": {
           "automargin": true,
           "gridcolor": "#EBF0F8",
           "linecolor": "#EBF0F8",
           "ticks": "",
           "title": {
            "standoff": 15
           },
           "zerolinecolor": "#EBF0F8",
           "zerolinewidth": 2
          },
          "yaxis": {
           "automargin": true,
           "gridcolor": "#EBF0F8",
           "linecolor": "#EBF0F8",
           "ticks": "",
           "title": {
            "standoff": 15
           },
           "zerolinecolor": "#EBF0F8",
           "zerolinewidth": 2
          }
         }
        },
        "title": {
         "text": "Tingkat Attrition (%) vs Kepuasan Kerja berdasarkan Department dan Job Role"
        },
        "width": 1000,
        "xaxis": {
         "anchor": "y",
         "domain": [
          0,
          1
         ],
         "title": {
          "text": "Rata-rata Kepuasan Kerja (1-4)"
         }
        },
        "yaxis": {
         "anchor": "x",
         "domain": [
          0,
          1
         ],
         "title": {
          "text": "Tingkat Attrition (%)"
         }
        }
       }
      }
     },
     "metadata": {},
     "output_type": "display_data"
    },
    {
     "name": "stdout",
     "output_type": "stream",
     "text": [
      "Visualisasi telah disimpan sebagai './visualisasi/attrition_dept_role_satisfaction.jpg'\n"
     ]
    }
   ],
   "source": [
    "# 7. Analisis multivariate: Bubble Chart untuk Department, Job Role, Job Satisfaction dan Attrition\n",
    "# Hitung tingkat attrition berdasarkan kombinasi department dan job role\n",
    "attrition_by_dept_role = df.groupby(['Department', 'JobRole'])['Attrition'].mean() * 100\n",
    "count_by_dept_role = df.groupby(['Department', 'JobRole']).size()\n",
    "satisfaction_by_dept_role = df.groupby(['Department', 'JobRole'])['JobSatisfaction'].mean()\n",
    "\n",
    "# Buat dataframe\n",
    "multivariate_df = pd.DataFrame({\n",
    "    'Tingkat Attrition (%)': attrition_by_dept_role,\n",
    "    'Jumlah Karyawan': count_by_dept_role,\n",
    "    'Rata-rata Kepuasan Kerja': satisfaction_by_dept_role\n",
    "}).reset_index()\n",
    "\n",
    "# Tampilkan dataframe\n",
    "print(\"Tingkat Attrition (%), Jumlah Karyawan, dan Rata-rata Kepuasan Kerja berdasarkan Department dan Job Role:\")\n",
    "display(multivariate_df.sort_values('Tingkat Attrition (%)', ascending=False))\n",
    "\n",
    "# Visualisasi dengan bubble chart\n",
    "fig = px.scatter(\n",
    "    multivariate_df,\n",
    "    x='Rata-rata Kepuasan Kerja',\n",
    "    y='Tingkat Attrition (%)',\n",
    "    size='Jumlah Karyawan',\n",
    "    color='Department',\n",
    "    hover_name='JobRole',\n",
    "    text='JobRole',\n",
    "    title='Tingkat Attrition (%) vs Kepuasan Kerja berdasarkan Department dan Job Role',\n",
    "    labels={\n",
    "        'Rata-rata Kepuasan Kerja': 'Rata-rata Kepuasan Kerja (1-4)',\n",
    "        'Tingkat Attrition (%)': 'Tingkat Attrition (%)'\n",
    "    }\n",
    ")\n",
    "fig.update_traces(\n",
    "    textposition='top center',\n",
    "    marker=dict(sizemode='area', sizeref=0.1)\n",
    ")\n",
    "fig.update_layout(\n",
    "    template='plotly_white',\n",
    "    height=800,\n",
    "    width=1000\n",
    ")\n",
    "fig.show()\n",
    "\n",
    "# Simpan gambar\n",
    "fig.write_image(\"./visualisasi/attrition_dept_role_satisfaction.jpg\", scale=2)\n",
    "print(\"Visualisasi telah disimpan sebagai './visualisasi/attrition_dept_role_satisfaction.jpg'\")"
   ]
  },
  {
   "cell_type": "code",
   "execution_count": 44,
   "id": "dc17cf50",
   "metadata": {},
   "outputs": [
    {
     "name": "stdout",
     "output_type": "stream",
     "text": [
      "Kolom-kolom dalam dataset final:\n"
     ]
    },
    {
     "data": {
      "application/vnd.microsoft.datawrangler.viewer.v0+json": {
       "columns": [
        {
         "name": "index",
         "rawType": "int64",
         "type": "integer"
        },
        {
         "name": "Nama Kolom",
         "rawType": "object",
         "type": "string"
        }
       ],
       "conversionMethod": "pd.DataFrame",
       "ref": "98d26e16-a3aa-4350-9944-137e5c8210c4",
       "rows": [
        [
         "0",
         "EmployeeId"
        ],
        [
         "1",
         "Age"
        ],
        [
         "2",
         "Attrition"
        ],
        [
         "3",
         "BusinessTravel"
        ],
        [
         "4",
         "DailyRate"
        ],
        [
         "5",
         "Department"
        ],
        [
         "6",
         "DistanceFromHome"
        ],
        [
         "7",
         "Education"
        ],
        [
         "8",
         "EducationField"
        ],
        [
         "9",
         "EmployeeCount"
        ],
        [
         "10",
         "EnvironmentSatisfaction"
        ],
        [
         "11",
         "Gender"
        ],
        [
         "12",
         "HourlyRate"
        ],
        [
         "13",
         "JobInvolvement"
        ],
        [
         "14",
         "JobLevel"
        ],
        [
         "15",
         "JobRole"
        ],
        [
         "16",
         "JobSatisfaction"
        ],
        [
         "17",
         "MaritalStatus"
        ],
        [
         "18",
         "MonthlyIncome"
        ],
        [
         "19",
         "MonthlyRate"
        ],
        [
         "20",
         "NumCompaniesWorked"
        ],
        [
         "21",
         "Over18"
        ],
        [
         "22",
         "OverTime"
        ],
        [
         "23",
         "PercentSalaryHike"
        ],
        [
         "24",
         "PerformanceRating"
        ],
        [
         "25",
         "RelationshipSatisfaction"
        ],
        [
         "26",
         "StandardHours"
        ],
        [
         "27",
         "StockOptionLevel"
        ],
        [
         "28",
         "TotalWorkingYears"
        ],
        [
         "29",
         "TrainingTimesLastYear"
        ],
        [
         "30",
         "WorkLifeBalance"
        ],
        [
         "31",
         "YearsAtCompany"
        ],
        [
         "32",
         "YearsInCurrentRole"
        ],
        [
         "33",
         "YearsSinceLastPromotion"
        ],
        [
         "34",
         "YearsWithCurrManager"
        ],
        [
         "35",
         "SalaryCategory"
        ],
        [
         "36",
         "PromotionCategory"
        ],
        [
         "37",
         "AgeGroup"
        ],
        [
         "38",
         "DistanceCategory"
        ]
       ],
       "shape": {
        "columns": 1,
        "rows": 39
       }
      },
      "text/html": [
       "<div>\n",
       "<style scoped>\n",
       "    .dataframe tbody tr th:only-of-type {\n",
       "        vertical-align: middle;\n",
       "    }\n",
       "\n",
       "    .dataframe tbody tr th {\n",
       "        vertical-align: top;\n",
       "    }\n",
       "\n",
       "    .dataframe thead th {\n",
       "        text-align: right;\n",
       "    }\n",
       "</style>\n",
       "<table border=\"1\" class=\"dataframe\">\n",
       "  <thead>\n",
       "    <tr style=\"text-align: right;\">\n",
       "      <th></th>\n",
       "      <th>Nama Kolom</th>\n",
       "    </tr>\n",
       "  </thead>\n",
       "  <tbody>\n",
       "    <tr>\n",
       "      <th>0</th>\n",
       "      <td>EmployeeId</td>\n",
       "    </tr>\n",
       "    <tr>\n",
       "      <th>1</th>\n",
       "      <td>Age</td>\n",
       "    </tr>\n",
       "    <tr>\n",
       "      <th>2</th>\n",
       "      <td>Attrition</td>\n",
       "    </tr>\n",
       "    <tr>\n",
       "      <th>3</th>\n",
       "      <td>BusinessTravel</td>\n",
       "    </tr>\n",
       "    <tr>\n",
       "      <th>4</th>\n",
       "      <td>DailyRate</td>\n",
       "    </tr>\n",
       "    <tr>\n",
       "      <th>5</th>\n",
       "      <td>Department</td>\n",
       "    </tr>\n",
       "    <tr>\n",
       "      <th>6</th>\n",
       "      <td>DistanceFromHome</td>\n",
       "    </tr>\n",
       "    <tr>\n",
       "      <th>7</th>\n",
       "      <td>Education</td>\n",
       "    </tr>\n",
       "    <tr>\n",
       "      <th>8</th>\n",
       "      <td>EducationField</td>\n",
       "    </tr>\n",
       "    <tr>\n",
       "      <th>9</th>\n",
       "      <td>EmployeeCount</td>\n",
       "    </tr>\n",
       "    <tr>\n",
       "      <th>10</th>\n",
       "      <td>EnvironmentSatisfaction</td>\n",
       "    </tr>\n",
       "    <tr>\n",
       "      <th>11</th>\n",
       "      <td>Gender</td>\n",
       "    </tr>\n",
       "    <tr>\n",
       "      <th>12</th>\n",
       "      <td>HourlyRate</td>\n",
       "    </tr>\n",
       "    <tr>\n",
       "      <th>13</th>\n",
       "      <td>JobInvolvement</td>\n",
       "    </tr>\n",
       "    <tr>\n",
       "      <th>14</th>\n",
       "      <td>JobLevel</td>\n",
       "    </tr>\n",
       "    <tr>\n",
       "      <th>15</th>\n",
       "      <td>JobRole</td>\n",
       "    </tr>\n",
       "    <tr>\n",
       "      <th>16</th>\n",
       "      <td>JobSatisfaction</td>\n",
       "    </tr>\n",
       "    <tr>\n",
       "      <th>17</th>\n",
       "      <td>MaritalStatus</td>\n",
       "    </tr>\n",
       "    <tr>\n",
       "      <th>18</th>\n",
       "      <td>MonthlyIncome</td>\n",
       "    </tr>\n",
       "    <tr>\n",
       "      <th>19</th>\n",
       "      <td>MonthlyRate</td>\n",
       "    </tr>\n",
       "    <tr>\n",
       "      <th>20</th>\n",
       "      <td>NumCompaniesWorked</td>\n",
       "    </tr>\n",
       "    <tr>\n",
       "      <th>21</th>\n",
       "      <td>Over18</td>\n",
       "    </tr>\n",
       "    <tr>\n",
       "      <th>22</th>\n",
       "      <td>OverTime</td>\n",
       "    </tr>\n",
       "    <tr>\n",
       "      <th>23</th>\n",
       "      <td>PercentSalaryHike</td>\n",
       "    </tr>\n",
       "    <tr>\n",
       "      <th>24</th>\n",
       "      <td>PerformanceRating</td>\n",
       "    </tr>\n",
       "    <tr>\n",
       "      <th>25</th>\n",
       "      <td>RelationshipSatisfaction</td>\n",
       "    </tr>\n",
       "    <tr>\n",
       "      <th>26</th>\n",
       "      <td>StandardHours</td>\n",
       "    </tr>\n",
       "    <tr>\n",
       "      <th>27</th>\n",
       "      <td>StockOptionLevel</td>\n",
       "    </tr>\n",
       "    <tr>\n",
       "      <th>28</th>\n",
       "      <td>TotalWorkingYears</td>\n",
       "    </tr>\n",
       "    <tr>\n",
       "      <th>29</th>\n",
       "      <td>TrainingTimesLastYear</td>\n",
       "    </tr>\n",
       "    <tr>\n",
       "      <th>30</th>\n",
       "      <td>WorkLifeBalance</td>\n",
       "    </tr>\n",
       "    <tr>\n",
       "      <th>31</th>\n",
       "      <td>YearsAtCompany</td>\n",
       "    </tr>\n",
       "    <tr>\n",
       "      <th>32</th>\n",
       "      <td>YearsInCurrentRole</td>\n",
       "    </tr>\n",
       "    <tr>\n",
       "      <th>33</th>\n",
       "      <td>YearsSinceLastPromotion</td>\n",
       "    </tr>\n",
       "    <tr>\n",
       "      <th>34</th>\n",
       "      <td>YearsWithCurrManager</td>\n",
       "    </tr>\n",
       "    <tr>\n",
       "      <th>35</th>\n",
       "      <td>SalaryCategory</td>\n",
       "    </tr>\n",
       "    <tr>\n",
       "      <th>36</th>\n",
       "      <td>PromotionCategory</td>\n",
       "    </tr>\n",
       "    <tr>\n",
       "      <th>37</th>\n",
       "      <td>AgeGroup</td>\n",
       "    </tr>\n",
       "    <tr>\n",
       "      <th>38</th>\n",
       "      <td>DistanceCategory</td>\n",
       "    </tr>\n",
       "  </tbody>\n",
       "</table>\n",
       "</div>"
      ],
      "text/plain": [
       "                  Nama Kolom\n",
       "0                 EmployeeId\n",
       "1                        Age\n",
       "2                  Attrition\n",
       "3             BusinessTravel\n",
       "4                  DailyRate\n",
       "5                 Department\n",
       "6           DistanceFromHome\n",
       "7                  Education\n",
       "8             EducationField\n",
       "9              EmployeeCount\n",
       "10   EnvironmentSatisfaction\n",
       "11                    Gender\n",
       "12                HourlyRate\n",
       "13            JobInvolvement\n",
       "14                  JobLevel\n",
       "15                   JobRole\n",
       "16           JobSatisfaction\n",
       "17             MaritalStatus\n",
       "18             MonthlyIncome\n",
       "19               MonthlyRate\n",
       "20        NumCompaniesWorked\n",
       "21                    Over18\n",
       "22                  OverTime\n",
       "23         PercentSalaryHike\n",
       "24         PerformanceRating\n",
       "25  RelationshipSatisfaction\n",
       "26             StandardHours\n",
       "27          StockOptionLevel\n",
       "28         TotalWorkingYears\n",
       "29     TrainingTimesLastYear\n",
       "30           WorkLifeBalance\n",
       "31            YearsAtCompany\n",
       "32        YearsInCurrentRole\n",
       "33   YearsSinceLastPromotion\n",
       "34      YearsWithCurrManager\n",
       "35            SalaryCategory\n",
       "36         PromotionCategory\n",
       "37                  AgeGroup\n",
       "38          DistanceCategory"
      ]
     },
     "metadata": {},
     "output_type": "display_data"
    },
    {
     "name": "stdout",
     "output_type": "stream",
     "text": [
      "Data final telah disimpan sebagai 'data_final_employee.csv'\n",
      "Gagal menyimpan dalam format Excel: No module named 'openpyxl'\n",
      "Tip: Jika ingin menyimpan dalam format Excel, pastikan library openpyxl sudah terinstal.\n",
      "Anda dapat menginstalnya dengan 'pip install openpyxl'\n"
     ]
    }
   ],
   "source": [
    "# Pastikan semua feature engineering dan variabel baru yang ingin disimpan sudah dibuat\n",
    "\n",
    "# Buat daftar variabel baru yang telah dibuat\n",
    "new_variables = [\n",
    "    'SalaryCategory',        # Kategori gaji\n",
    "    'PromotionCategory',     # Kategori tahun sejak promosi terakhir\n",
    "    'AgeGroup',              # Kelompok usia\n",
    "    'DistanceCategory'       # Kategori jarak dari rumah\n",
    "]\n",
    "\n",
    "# Periksa variabel mana yang sudah ada di dataframe\n",
    "existing_variables = [var for var in new_variables if var in df.columns]\n",
    "\n",
    "# Jika ada variabel yang belum dibuat, buat terlebih dahulu\n",
    "if 'SalaryCategory' not in existing_variables:\n",
    "    df['SalaryCategory'] = df['MonthlyIncome'].apply(lambda income: \n",
    "        'Rendah (< 5000)' if income < 5000 else\n",
    "        'Sedang (5000-10000)' if income < 10000 else\n",
    "        'Tinggi (10000-15000)' if income < 15000 else\n",
    "        'Sangat Tinggi (>15000)'\n",
    "    )\n",
    "\n",
    "if 'PromotionCategory' not in existing_variables:\n",
    "    df['PromotionCategory'] = df['YearsSinceLastPromotion'].apply(lambda years:\n",
    "        'Baru Dipromosikan' if years == 0 else\n",
    "        '1-2 Tahun' if years <= 2 else\n",
    "        '3-5 Tahun' if years <= 5 else\n",
    "        '> 5 Tahun'\n",
    "    )\n",
    "\n",
    "if 'AgeGroup' not in existing_variables:\n",
    "    df['AgeGroup'] = df['Age'].apply(lambda age:\n",
    "        '< 30' if age < 30 else\n",
    "        '30-39' if age < 40 else\n",
    "        '40-49' if age < 50 else\n",
    "        '50+'\n",
    "    )\n",
    "\n",
    "if 'DistanceCategory' not in existing_variables:\n",
    "    df['DistanceCategory'] = pd.cut(\n",
    "        df['DistanceFromHome'],\n",
    "        bins=[0, 5, 10, 20, 30],\n",
    "        labels=['0-5 km', '6-10 km', '11-20 km', '21-30 km']\n",
    "    )\n",
    "\n",
    "# Tampilkan kolom-kolom yang ada di data final\n",
    "print(\"Kolom-kolom dalam dataset final:\")\n",
    "display(pd.DataFrame({'Nama Kolom': df.columns}))\n",
    "\n",
    "# Simpan data final\n",
    "df.to_csv('./data_final_employee.csv', index=False)\n",
    "print(\"Data final telah disimpan sebagai 'data_final_employee.csv'\")\n",
    "\n",
    "# Jika ingin menyimpan dalam format Excel\n",
    "try:\n",
    "    df.to_excel('./data_final_employee.xlsx', index=False)\n",
    "    print(\"Data final juga telah disimpan sebagai 'data_final_employee.xlsx'\")\n",
    "except Exception as e:\n",
    "    print(f\"Gagal menyimpan dalam format Excel: {e}\")\n",
    "    print(\"Tip: Jika ingin menyimpan dalam format Excel, pastikan library openpyxl sudah terinstal.\")\n",
    "    print(\"Anda dapat menginstalnya dengan 'pip install openpyxl'\")"
   ]
  },
  {
   "cell_type": "markdown",
   "id": "1f570909",
   "metadata": {},
   "source": [
    "# Segmentation Using Unsupervised Learning"
   ]
  },
  {
   "cell_type": "code",
   "execution_count": null,
   "id": "b532fa21",
   "metadata": {},
   "outputs": [],
   "source": [
    "df = pd.read_csv('data_final_employee.csv')\n",
    "print(f\"Ukuran data awal: {df.shape}\")"
   ]
  },
  {
   "cell_type": "code",
   "execution_count": null,
   "id": "fa146389",
   "metadata": {},
   "outputs": [],
   "source": [
    "# 1. Feature Engineering yang lebih canggih\n",
    "print(\"\\n=== Feature Engineering ===\")\n",
    "df_eng = df.copy()\n",
    "\n",
    "# Konversi kolom kategoris ke numerik\n",
    "df_eng['OverTime_Numeric'] = df_eng['OverTime'].map({'Yes': 1, 'No': 0})\n",
    "\n",
    "# Transformasi berdasarkan domain knowledge\n",
    "df_eng['Income_Level'] = df_eng['MonthlyIncome'] / df_eng['JobLevel']\n",
    "df_eng['Satisfaction_Index'] = (df_eng['JobSatisfaction'] + df_eng['EnvironmentSatisfaction'] + \n",
    "                               df_eng['WorkLifeBalance'] + df_eng['RelationshipSatisfaction']) / 4\n",
    "df_eng['Career_Progress'] = df_eng['JobLevel'] / (df_eng['YearsSinceLastPromotion'] + 1)\n",
    "df_eng['Stability_Factor'] = df_eng['YearsAtCompany'] / (df_eng['NumCompaniesWorked'] + 1)\n",
    "df_eng['Work_Life_Balance_Impact'] = df_eng['WorkLifeBalance'] * (1 - df_eng['OverTime_Numeric'])\n",
    "df_eng['Distance_Strain'] = df_eng['DistanceFromHome'] / (df_eng['WorkLifeBalance'] + 0.1)\n",
    "df_eng['Promotion_Expectation'] = df_eng['JobLevel'] / (df_eng['TotalWorkingYears'] + 1)\n",
    "df_eng['Experience_vs_Tenure'] = (df_eng['TotalWorkingYears'] - df_eng['YearsAtCompany']) / (df_eng['TotalWorkingYears'] + 1)\n",
    "df_eng['Loyalty_Index'] = (df_eng['YearsAtCompany'] * df_eng['JobSatisfaction']) / (df_eng['NumCompaniesWorked'] + 1)"
   ]
  },
  {
   "cell_type": "code",
   "execution_count": null,
   "id": "8ae1ef30",
   "metadata": {},
   "outputs": [],
   "source": [
    "# 2. Pemilihan fitur penting secara manual berdasarkan domain knowledge\n",
    "# Karena RandomForest error dengan NaN, kita gunakan pendekatan manual\n",
    "important_features = [\n",
    "    'MonthlyIncome', 'OverTime_Numeric', 'JobSatisfaction', \n",
    "    'DistanceFromHome', 'YearsAtCompany', 'Age',\n",
    "    'JobLevel', 'TotalWorkingYears', 'YearsSinceLastPromotion',\n",
    "    'WorkLifeBalance', 'EnvironmentSatisfaction', 'Satisfaction_Index',\n",
    "    'Career_Progress', 'Distance_Strain', 'Loyalty_Index',\n",
    "    'Work_Life_Balance_Impact', 'Stability_Factor', 'Income_Level',\n",
    "    'Promotion_Expectation', 'Experience_vs_Tenure'\n",
    "]"
   ]
  },
  {
   "cell_type": "code",
   "execution_count": null,
   "id": "7d5764f2",
   "metadata": {},
   "outputs": [],
   "source": [
    "# 3. Seleksi fitur untuk clustering\n",
    "print(\"\\n=== Persiapan Data untuk Clustering ===\")\n",
    "X_features = df_eng[important_features].copy()\n",
    "\n",
    "# Tangani missing values jika ada\n",
    "X_features = X_features.fillna(X_features.median())"
   ]
  },
  {
   "cell_type": "code",
   "execution_count": null,
   "id": "7b9d6709",
   "metadata": {},
   "outputs": [],
   "source": [
    "# 4. Normalisasi/transformasi non-linear\n",
    "print(\"\\n=== Transformasi Data ===\")\n",
    "# Kita akan mencoba beberapa metode transformasi dan memilih yang terbaik\n",
    "scalers = {\n",
    "    'RobustScaler': RobustScaler(),\n",
    "    'PowerTransformer': PowerTransformer(method='yeo-johnson')\n",
    "}\n",
    "\n",
    "X_transformed = {}\n",
    "for name, scaler in scalers.items():\n",
    "    X_transformed[name] = scaler.fit_transform(X_features)"
   ]
  },
  {
   "cell_type": "code",
   "execution_count": null,
   "id": "61c4d654",
   "metadata": {},
   "outputs": [],
   "source": [
    "# 5. Reduksi dimensi canggih\n",
    "print(\"\\n=== Reduksi Dimensi ===\")\n",
    "# Untuk visualisasi 2D, kita hanya perlu 2 komponen\n",
    "reduction_methods = {\n",
    "    'PCA': PCA(n_components=2, random_state=42),\n",
    "    'KernelPCA_rbf': KernelPCA(n_components=2, kernel='rbf', random_state=42),\n",
    "    'KernelPCA_poly': KernelPCA(n_components=2, kernel='poly', random_state=42),\n",
    "    'TruncatedSVD': TruncatedSVD(n_components=2, random_state=42)\n",
    "}\n",
    "\n",
    "X_reduced = {}\n",
    "for transform_name, X_trans in X_transformed.items():\n",
    "    for method_name, reducer in reduction_methods.items():\n",
    "        try:\n",
    "            X_reduced[f\"{transform_name}_{method_name}\"] = reducer.fit_transform(X_trans)\n",
    "            # Print explained variance if available\n",
    "            if hasattr(reducer, 'explained_variance_ratio_'):\n",
    "                print(f\"{transform_name}_{method_name} explained variance: {np.sum(reducer.explained_variance_ratio_):.4f}\")\n",
    "        except Exception as e:\n",
    "            print(f\"Error with {transform_name}_{method_name}: {e}\")"
   ]
  },
  {
   "cell_type": "code",
   "execution_count": null,
   "id": "c149462d",
   "metadata": {},
   "outputs": [],
   "source": [
    "# 6. Clustering canggih\n",
    "print(\"\\n=== Clustering ===\")\n",
    "# Kita akan mencoba berbagai algoritma clustering\n",
    "clustering_methods = {\n",
    "    'KMeans': KMeans(n_clusters=3, random_state=42, n_init=50, max_iter=1000),\n",
    "    'AgglomerativeClustering': AgglomerativeClustering(n_clusters=3),\n",
    "    'GaussianMixture': GaussianMixture(n_components=3, random_state=42, n_init=10, max_iter=1000, \n",
    "                                      covariance_type='full', reg_covar=1e-5),\n",
    "    'SpectralClustering': SpectralClustering(n_clusters=3, random_state=42, assign_labels='kmeans', \n",
    "                                           n_init=50, affinity='nearest_neighbors')\n",
    "}\n",
    "\n",
    "# Tabel untuk menyimpan skor silhouette\n",
    "scores = []\n",
    "\n",
    "# Coba semua kombinasi dan cari yang terbaik\n",
    "for data_name, X_data in X_reduced.items():\n",
    "    for cluster_name, clusterer in clustering_methods.items():\n",
    "        try:\n",
    "            # Fit clusterer\n",
    "            if cluster_name == 'GaussianMixture':\n",
    "                clusterer.fit(X_data)\n",
    "                labels = clusterer.predict(X_data)\n",
    "            else:\n",
    "                labels = clusterer.fit_predict(X_data)\n",
    "            \n",
    "            # Calculate scores\n",
    "            silhouette = silhouette_score(X_data, labels)\n",
    "            ch_score = calinski_harabasz_score(X_data, labels)\n",
    "            db_score = davies_bouldin_score(X_data, labels)\n",
    "            \n",
    "            # Save scores\n",
    "            scores.append({\n",
    "                'Data': data_name,\n",
    "                'Clustering': cluster_name,\n",
    "                'Silhouette': silhouette,\n",
    "                'Calinski-Harabasz': ch_score,\n",
    "                'Davies-Bouldin': db_score\n",
    "            })\n",
    "            \n",
    "            print(f\"{data_name} + {cluster_name}: Silhouette={silhouette:.4f}, CH={ch_score:.1f}, DB={db_score:.4f}\")\n",
    "        except Exception as e:\n",
    "            print(f\"Error with {data_name} + {cluster_name}: {e}\")\n",
    "\n",
    "# Convert to DataFrame and sort by silhouette score\n",
    "scores_df = pd.DataFrame(scores).sort_values('Silhouette', ascending=False)\n",
    "print(\"\\nTop 5 combinations:\")\n",
    "print(scores_df.head())\n",
    "\n",
    "# Get the best combination\n",
    "best_combination = scores_df.iloc[0]\n",
    "best_data_name = best_combination['Data']\n",
    "best_cluster_name = best_combination['Clustering']\n",
    "best_silhouette = best_combination['Silhouette']\n",
    "\n",
    "print(f\"\\nBest combination: {best_data_name} + {best_cluster_name}\")\n",
    "print(f\"Silhouette score: {best_silhouette:.4f}\")"
   ]
  },
  {
   "cell_type": "code",
   "execution_count": null,
   "id": "9d775a88",
   "metadata": {},
   "outputs": [],
   "source": [
    "# 7. Menghasilkan cluster terbaik\n",
    "# Get the data and clusterer from the best combination\n",
    "best_X = X_reduced[best_data_name]\n",
    "best_clusterer = clustering_methods[best_cluster_name]\n",
    "\n",
    "# Fit the best clusterer\n",
    "if best_cluster_name == 'GaussianMixture':\n",
    "    best_clusterer.fit(best_X)\n",
    "    cluster_labels = best_clusterer.predict(best_X)\n",
    "else:\n",
    "    cluster_labels = best_clusterer.fit_predict(best_X)\n",
    "\n",
    "# Add cluster labels to dataframe\n",
    "df_eng['Cluster'] = cluster_labels"
   ]
  },
  {
   "cell_type": "code",
   "execution_count": null,
   "id": "3a3fd488",
   "metadata": {},
   "outputs": [],
   "source": [
    "# 8. Interpretasi cluster berdasarkan attrition\n",
    "# Pastikan attrition adalah numerik (0 atau 1)\n",
    "if df_eng['Attrition'].dtype == 'object':\n",
    "    df_eng['Attrition'] = df_eng['Attrition'].astype(float)\n",
    "\n",
    "# Tangani missing values dalam attrition (jika ada)\n",
    "if df_eng['Attrition'].isna().any():\n",
    "    print(f\"Ditemukan {df_eng['Attrition'].isna().sum()} nilai hilang dalam Attrition\")\n",
    "    # Impute dengan modus\n",
    "    mode_attrition = df_eng['Attrition'].mode()[0]\n",
    "    df_eng['Attrition'] = df_eng['Attrition'].fillna(mode_attrition)\n",
    "\n",
    "# Calculate attrition rate by cluster\n",
    "attrition_by_cluster = df_eng.groupby('Cluster')['Attrition'].mean() * 100\n",
    "cluster_sizes = df_eng.groupby('Cluster').size()\n",
    "\n",
    "# Sort clusters by attrition rate\n",
    "sorted_clusters = attrition_by_cluster.sort_values().index\n",
    "\n",
    "# Map cluster IDs to risk labels\n",
    "cluster_map = {\n",
    "    sorted_clusters[0]: 'Risiko Rendah',\n",
    "    sorted_clusters[1]: 'Risiko Sedang', \n",
    "    sorted_clusters[2]: 'Risiko Tinggi'\n",
    "}\n",
    "\n",
    "# Add cluster labels to dataframe\n",
    "df_eng['Cluster_Label'] = df_eng['Cluster'].map(cluster_map)\n",
    "\n",
    "# Display attrition by cluster\n",
    "print(\"\\nAttrition rate by cluster:\")\n",
    "for cluster, rate in attrition_by_cluster.items():\n",
    "    label = cluster_map[cluster]\n",
    "    size = cluster_sizes[cluster]\n",
    "    print(f\"{label} (Cluster {cluster}): {rate:.2f}% ({size} employees)\")"
   ]
  },
  {
   "cell_type": "code",
   "execution_count": null,
   "id": "f211f1f3",
   "metadata": {},
   "outputs": [],
   "source": [
    "# 9. Visualisasi 2D dengan skema warna colorblind-friendly\n",
    "# Add the best reduced dimensions to the dataframe\n",
    "df_eng['Dim1'] = best_X[:, 0]\n",
    "df_eng['Dim2'] = best_X[:, 1]\n",
    "\n",
    "# Create the 2D scatter plot with colorblind-friendly palette\n",
    "color_map = {\n",
    "    'Risiko Rendah': '#0072B2',    # Biru tua\n",
    "    'Risiko Sedang': '#E69F00',    # Oranye\n",
    "    'Risiko Tinggi': '#CC79A7'     # Pink/Magenta\n",
    "}\n",
    "\n",
    "fig = px.scatter(\n",
    "    df_eng, \n",
    "    x='Dim1', \n",
    "    y='Dim2',\n",
    "    color='Cluster_Label',\n",
    "    symbol='Attrition',\n",
    "    size='MonthlyIncome',\n",
    "    hover_name='EmployeeId',\n",
    "    hover_data=[\n",
    "        'Age', 'JobSatisfaction', 'OverTime', 'MonthlyIncome', \n",
    "        'YearsAtCompany', 'DistanceFromHome', 'Satisfaction_Index'\n",
    "    ],\n",
    "    title=f'Segmentasi Karyawan - Silhouette Score: {best_silhouette:.4f}',\n",
    "    color_discrete_map=color_map,\n",
    "    symbol_map={0: 'circle', 1: 'diamond'},\n",
    "    labels={\n",
    "        'Dim1': 'Dimension 1',\n",
    "        'Dim2': 'Dimension 2',\n",
    "        'Cluster_Label': 'Segmen Risiko',\n",
    "        'Attrition': 'Status Keluar'\n",
    "    }\n",
    ")\n",
    "\n",
    "# Tambahkan centroid untuk memperjelas pusat cluster\n",
    "centroids = df_eng.groupby('Cluster')[['Dim1', 'Dim2']].mean().reset_index()\n",
    "for i, centroid in centroids.iterrows():\n",
    "    cluster_id = centroid['Cluster']\n",
    "    label = cluster_map[cluster_id]\n",
    "    color = color_map[label]\n",
    "    \n",
    "    fig.add_trace(\n",
    "        go.Scatter(\n",
    "            x=[centroid['Dim1']],\n",
    "            y=[centroid['Dim2']],\n",
    "            mode='markers',\n",
    "            marker=dict(\n",
    "                symbol='x',\n",
    "                size=20,\n",
    "                color=color,\n",
    "                line=dict(width=2, color='black')\n",
    "            ),\n",
    "            name=f'Centroid {label}',\n",
    "            showlegend=True\n",
    "        )\n",
    "    )\n",
    "\n",
    "fig.update_layout(\n",
    "    template='plotly_white',\n",
    "    legend=dict(\n",
    "        orientation='h',\n",
    "        yanchor='bottom',\n",
    "        y=1.02,\n",
    "        xanchor='right',\n",
    "        x=1\n",
    "    ),\n",
    "    height=800,\n",
    "    width=1000\n",
    ")\n",
    "fig.show()"
   ]
  },
  {
   "cell_type": "code",
   "execution_count": null,
   "id": "e13e7349",
   "metadata": {},
   "outputs": [],
   "source": [
    "# 10. Profil karakteristik untuk setiap cluster\n",
    "# Pilih fitur untuk analisis profil\n",
    "profile_features = [\n",
    "    'Age', 'MonthlyIncome', 'DistanceFromHome', 'JobSatisfaction', \n",
    "    'JobLevel', 'YearsAtCompany', 'WorkLifeBalance', 'OverTime_Numeric',\n",
    "    'TotalWorkingYears', 'YearsSinceLastPromotion', 'Satisfaction_Index',\n",
    "    'Career_Progress', 'Distance_Strain', 'Loyalty_Index'\n",
    "]\n",
    "\n",
    "# Hitung statistik per cluster\n",
    "cluster_profile = df_eng.groupby('Cluster_Label')[profile_features + ['Attrition']].mean()\n",
    "cluster_profile['Attrition'] *= 100  # Convert to percentage\n",
    "\n",
    "print(\"\\nProfil karakteristik per cluster:\")\n",
    "print(cluster_profile)\n",
    "\n",
    "# Visualisasi radar chart untuk profil cluster\n",
    "# Standarisasi data untuk radar chart\n",
    "profile_std = (cluster_profile[profile_features] - cluster_profile[profile_features].min()) / (\n",
    "    cluster_profile[profile_features].max() - cluster_profile[profile_features].min())\n",
    "\n",
    "# Pilih 8 fitur terpenting untuk radar chart agar tidak terlalu padat\n",
    "radar_features = [\n",
    "    'MonthlyIncome', 'OverTime_Numeric', 'JobSatisfaction', \n",
    "    'DistanceFromHome', 'YearsAtCompany', 'WorkLifeBalance',\n",
    "    'Satisfaction_Index', 'Loyalty_Index'\n",
    "]\n",
    "\n",
    "# Buat radar chart\n",
    "fig = go.Figure()\n",
    "\n",
    "for idx, segment in enumerate(profile_std.index):\n",
    "    fig.add_trace(go.Scatterpolar(\n",
    "        r=profile_std.loc[segment, radar_features].values,\n",
    "        theta=radar_features,\n",
    "        fill='toself',\n",
    "        name=f\"{segment} (Attrition: {cluster_profile.loc[segment, 'Attrition']:.1f}%)\",\n",
    "        line_color=list(color_map.values())[idx]\n",
    "    ))\n",
    "\n",
    "fig.update_layout(\n",
    "    polar=dict(\n",
    "        radialaxis=dict(\n",
    "            visible=True,\n",
    "            range=[0, 1]\n",
    "        )\n",
    "    ),\n",
    "    title='Karakteristik Segmen Karyawan',\n",
    "    showlegend=True\n",
    ")\n",
    "\n",
    "fig.show()\n"
   ]
  },
  {
   "cell_type": "code",
   "execution_count": null,
   "id": "f07b8e18",
   "metadata": {},
   "outputs": [],
   "source": [
    "# 11. Simpan hasil\n",
    "df_eng.to_csv('employee_segmentation_advanced.csv', index=False)\n",
    "print(f\"\\nHasil segmentasi telah disimpan ke 'employee_segmentation_advanced.csv'\")"
   ]
  },
  {
   "cell_type": "code",
   "execution_count": null,
   "id": "f040f80a",
   "metadata": {},
   "outputs": [],
   "source": [
    "# 12. Tambahkan ringkasan temuan\n",
    "print(\"\\n\" + \"=\"*50)\n",
    "print(\"RINGKASAN SEGMENTASI KARYAWAN\")\n",
    "print(\"=\"*50)\n",
    "\n",
    "# Ringkasan statistik\n",
    "segment_counts = df_eng['Cluster_Label'].value_counts()\n",
    "segment_percent = segment_counts / len(df_eng) * 100\n",
    "\n",
    "print(\"\\nDistribusi Segmen:\")\n",
    "for segment, count in segment_counts.items():\n",
    "    print(f\"{segment}: {count} karyawan ({segment_percent[segment]:.1f}%)\")\n",
    "\n",
    "print(\"\\nTingkat Attrition per Segmen:\")\n",
    "for segment in cluster_profile.index:\n",
    "    print(f\"{segment}: {cluster_profile.loc[segment, 'Attrition']:.1f}%\")\n",
    "\n",
    "print(\"\\nKarakteristik Utama per Segmen:\")\n",
    "for segment in profile_std.index:\n",
    "    print(f\"\\n{segment}:\")\n",
    "    \n",
    "    # Highest values (strengths)\n",
    "    highest = profile_std.loc[segment].nlargest(3)\n",
    "    print(\"  Karakteristik Tertinggi:\")\n",
    "    for feature, value in highest.items():\n",
    "        original_value = cluster_profile.loc[segment, feature]\n",
    "        print(f\"  - {feature}: {original_value:.2f} (relatif: {value:.2f})\")\n",
    "    \n",
    "    # Lowest values (weaknesses)\n",
    "    lowest = profile_std.loc[segment].nsmallest(3)\n",
    "    print(\"  Karakteristik Terendah:\")\n",
    "    for feature, value in lowest.items():\n",
    "        original_value = cluster_profile.loc[segment, feature]\n",
    "        print(f\"  - {feature}: {original_value:.2f} (relatif: {value:.2f})\")\n",
    "\n",
    "print(\"\\nMetode Terbaik:\")\n",
    "print(f\"Kombinasi: {best_data_name} + {best_cluster_name}\")\n",
    "print(f\"Silhouette Score: {best_silhouette:.4f}\")"
   ]
  }
 ],
 "metadata": {
  "kernelspec": {
   "display_name": "dicodingpds",
   "language": "python",
   "name": "python3"
  },
  "language_info": {
   "codemirror_mode": {
    "name": "ipython",
    "version": 3
   },
   "file_extension": ".py",
   "mimetype": "text/x-python",
   "name": "python",
   "nbconvert_exporter": "python",
   "pygments_lexer": "ipython3",
   "version": "3.12.10"
  }
 },
 "nbformat": 4,
 "nbformat_minor": 5
}
